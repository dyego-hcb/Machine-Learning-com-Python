{
 "cells": [
  {
   "cell_type": "markdown",
   "metadata": {
    "id": "n9tALs4xVhkB"
   },
   "source": [
    "# **Introdução**"
   ]
  },
  {
   "cell_type": "markdown",
   "metadata": {
    "id": "Qksfq4rWV923"
   },
   "source": [
    "O objetivo desse projeto é de apresentar os comandos básicos de Python para aplicar em análise de dados."
   ]
  },
  {
   "cell_type": "code",
   "execution_count": null,
   "metadata": {
    "colab": {
     "base_uri": "https://localhost:8080/"
    },
    "id": "BogCAZHYV85o",
    "outputId": "3db403c4-e2bd-4096-97d7-3c355eb94f0c"
   },
   "outputs": [
    {
     "name": "stdout",
     "output_type": "stream",
     "text": [
      "Olá Mundo\n"
     ]
    }
   ],
   "source": [
    "print (\"Olá Mundo\")"
   ]
  },
  {
   "cell_type": "code",
   "execution_count": null,
   "metadata": {
    "id": "Jibm2nlUVSzS"
   },
   "outputs": [],
   "source": [
    "mensagem = 'Olá Mundo'"
   ]
  },
  {
   "cell_type": "code",
   "execution_count": null,
   "metadata": {
    "colab": {
     "base_uri": "https://localhost:8080/"
    },
    "id": "vQVlCNGWzmuI",
    "outputId": "d8e1eaeb-a876-41fc-ae0e-3cada41cb592"
   },
   "outputs": [
    {
     "name": "stdout",
     "output_type": "stream",
     "text": [
      "Olá Mundo\n"
     ]
    }
   ],
   "source": [
    "print (mensagem)"
   ]
  },
  {
   "cell_type": "code",
   "execution_count": null,
   "metadata": {
    "colab": {
     "base_uri": "https://localhost:8080/",
     "height": 36
    },
    "id": "tAT8jp7Hzrkm",
    "outputId": "9032a65b-5415-4247-ed53-2dbf3c752207"
   },
   "outputs": [
    {
     "data": {
      "application/vnd.google.colaboratory.intrinsic+json": {
       "type": "string"
      },
      "text/plain": [
       "'Olá Mundo'"
      ]
     },
     "execution_count": 4,
     "metadata": {},
     "output_type": "execute_result"
    }
   ],
   "source": [
    "mensagem"
   ]
  },
  {
   "cell_type": "code",
   "execution_count": null,
   "metadata": {
    "colab": {
     "base_uri": "https://localhost:8080/"
    },
    "id": "EI1oXGPrz7c1",
    "outputId": "10e88a6c-9258-4d71-d8d1-65b43b73e78d"
   },
   "outputs": [
    {
     "name": "stdout",
     "output_type": "stream",
     "text": [
      "Qual é o seu nome?Luciano\n"
     ]
    }
   ],
   "source": [
    "nome = input ('Qual é o seu nome?')"
   ]
  },
  {
   "cell_type": "code",
   "execution_count": null,
   "metadata": {
    "colab": {
     "base_uri": "https://localhost:8080/"
    },
    "id": "20O5jaIm0Cxd",
    "outputId": "99677c35-dbc0-4c52-ac6c-6e97418079a5"
   },
   "outputs": [
    {
     "name": "stdout",
     "output_type": "stream",
     "text": [
      "Meu nome é: Luciano\n"
     ]
    }
   ],
   "source": [
    "print ('Meu nome é:',  nome)"
   ]
  },
  {
   "cell_type": "code",
   "execution_count": null,
   "metadata": {
    "colab": {
     "base_uri": "https://localhost:8080/"
    },
    "id": "QF76W7O60I18",
    "outputId": "3e4d3787-8377-416a-9785-f9511a37963f"
   },
   "outputs": [
    {
     "name": "stdout",
     "output_type": "stream",
     "text": [
      "Qual é o seu nome?Luciano\n",
      "Meu nome é: Luciano\n"
     ]
    }
   ],
   "source": [
    "nome = input ('Qual é o seu nome?')\n",
    "print ('Meu nome é:',  nome)\n"
   ]
  },
  {
   "cell_type": "markdown",
   "metadata": {
    "id": "WMGU7gLp2_WF"
   },
   "source": [
    "# **Operadores Matemáticos**"
   ]
  },
  {
   "cell_type": "code",
   "execution_count": null,
   "metadata": {
    "id": "M7zzp5GP0b_s"
   },
   "outputs": [],
   "source": [
    "n1 = 7"
   ]
  },
  {
   "cell_type": "code",
   "execution_count": null,
   "metadata": {
    "id": "EZ5RvZX20ebb"
   },
   "outputs": [],
   "source": [
    "n2 = 2"
   ]
  },
  {
   "cell_type": "code",
   "execution_count": null,
   "metadata": {
    "colab": {
     "base_uri": "https://localhost:8080/"
    },
    "id": "6qrwoXGY0gqb",
    "outputId": "53911509-1aab-4da5-db54-e56562790a47"
   },
   "outputs": [
    {
     "name": "stdout",
     "output_type": "stream",
     "text": [
      "9\n"
     ]
    }
   ],
   "source": [
    "s = n1 + n2\n",
    "print(s)\n"
   ]
  },
  {
   "cell_type": "code",
   "execution_count": null,
   "metadata": {
    "colab": {
     "base_uri": "https://localhost:8080/"
    },
    "id": "khdn_IM50nmk",
    "outputId": "e1606f99-4e59-4605-c297-17104b7e3f8d"
   },
   "outputs": [
    {
     "name": "stdout",
     "output_type": "stream",
     "text": [
      "11\n"
     ]
    }
   ],
   "source": [
    "s = s + n2\n",
    "print (s)"
   ]
  },
  {
   "cell_type": "code",
   "execution_count": null,
   "metadata": {
    "colab": {
     "base_uri": "https://localhost:8080/"
    },
    "id": "hCTXtBmy1Cn7",
    "outputId": "40af53cc-2e00-47c3-8a01-55b3a35bec02"
   },
   "outputs": [
    {
     "name": "stdout",
     "output_type": "stream",
     "text": [
      "13\n"
     ]
    }
   ],
   "source": [
    "s += n2\n",
    "print(s)"
   ]
  },
  {
   "cell_type": "code",
   "execution_count": null,
   "metadata": {
    "colab": {
     "base_uri": "https://localhost:8080/"
    },
    "id": "UQc8-Hgb19Lj",
    "outputId": "5cf13030-1f90-4e3d-d659-7119b3890b8b"
   },
   "outputs": [
    {
     "data": {
      "text/plain": [
       "5"
      ]
     },
     "execution_count": 13,
     "metadata": {},
     "output_type": "execute_result"
    }
   ],
   "source": [
    "sub = n1 - n2\n",
    "sub"
   ]
  },
  {
   "cell_type": "code",
   "execution_count": null,
   "metadata": {
    "colab": {
     "base_uri": "https://localhost:8080/"
    },
    "id": "qLrm9drE2BeX",
    "outputId": "5f1366cb-eafb-43e4-aa96-57f14b768348"
   },
   "outputs": [
    {
     "data": {
      "text/plain": [
       "14"
      ]
     },
     "execution_count": 14,
     "metadata": {},
     "output_type": "execute_result"
    }
   ],
   "source": [
    "mult = n1 * n2\n",
    "mult"
   ]
  },
  {
   "cell_type": "code",
   "execution_count": null,
   "metadata": {
    "colab": {
     "base_uri": "https://localhost:8080/"
    },
    "id": "X7aZTJnZ2I7f",
    "outputId": "6cec7811-e446-44d5-c4d4-5502865f7c06"
   },
   "outputs": [
    {
     "data": {
      "text/plain": [
       "3.5"
      ]
     },
     "execution_count": 15,
     "metadata": {},
     "output_type": "execute_result"
    }
   ],
   "source": [
    "div = n1 / n2\n",
    "div"
   ]
  },
  {
   "cell_type": "code",
   "execution_count": null,
   "metadata": {
    "colab": {
     "base_uri": "https://localhost:8080/"
    },
    "id": "aW1YPskE2OCR",
    "outputId": "484e03d2-8823-477a-f2d1-24efd82afb07"
   },
   "outputs": [
    {
     "data": {
      "text/plain": [
       "49"
      ]
     },
     "execution_count": 16,
     "metadata": {},
     "output_type": "execute_result"
    }
   ],
   "source": [
    "pot = n1**n2\n",
    "pot"
   ]
  },
  {
   "cell_type": "code",
   "execution_count": null,
   "metadata": {
    "colab": {
     "base_uri": "https://localhost:8080/"
    },
    "id": "JV1zTdU82aju",
    "outputId": "5befbc0b-6129-4fd8-a84a-35c8f92d18b0"
   },
   "outputs": [
    {
     "data": {
      "text/plain": [
       "49"
      ]
     },
     "execution_count": 17,
     "metadata": {},
     "output_type": "execute_result"
    }
   ],
   "source": [
    "pot2 = pow (n1,n2)\n",
    "pot2"
   ]
  },
  {
   "cell_type": "code",
   "execution_count": null,
   "metadata": {
    "colab": {
     "base_uri": "https://localhost:8080/"
    },
    "id": "wTYY_sXw2Ri3",
    "outputId": "203d7d6d-192f-49cf-9bf7-b43da657373b"
   },
   "outputs": [
    {
     "data": {
      "text/plain": [
       "3"
      ]
     },
     "execution_count": 18,
     "metadata": {},
     "output_type": "execute_result"
    }
   ],
   "source": [
    "divi = n1 // n2\n",
    "divi"
   ]
  },
  {
   "cell_type": "code",
   "execution_count": null,
   "metadata": {
    "colab": {
     "base_uri": "https://localhost:8080/"
    },
    "id": "q7DPBYvy2WPe",
    "outputId": "d1d625c8-977c-4cc4-e014-2bceb842999f"
   },
   "outputs": [
    {
     "data": {
      "text/plain": [
       "1"
      ]
     },
     "execution_count": 19,
     "metadata": {},
     "output_type": "execute_result"
    }
   ],
   "source": [
    "rest = n1 % n2\n",
    "rest"
   ]
  },
  {
   "cell_type": "markdown",
   "metadata": {
    "id": "D9dOFbLX59pv"
   },
   "source": [
    "# **Importações de bibliotecas (pacotes) e módulos**"
   ]
  },
  {
   "cell_type": "code",
   "execution_count": 1,
   "metadata": {
    "id": "GJuycUdlFqGq"
   },
   "outputs": [],
   "source": [
    "import numpy as np"
   ]
  },
  {
   "cell_type": "markdown",
   "metadata": {
    "id": "msEbiw6YGjju"
   },
   "source": [
    "https://numpy.org/devdocs/user/whatisnumpy.html"
   ]
  },
  {
   "cell_type": "code",
   "execution_count": 2,
   "metadata": {
    "colab": {
     "base_uri": "https://localhost:8080/",
     "height": 165
    },
    "id": "5cO9u1vDuwFq",
    "outputId": "3b4536a2-c2c0-4887-90e4-6c6b1df92764"
   },
   "outputs": [
    {
     "ename": "NameError",
     "evalue": "ignored",
     "output_type": "error",
     "traceback": [
      "\u001b[0;31m---------------------------------------------------------------------------\u001b[0m",
      "\u001b[0;31mNameError\u001b[0m                                 Traceback (most recent call last)",
      "\u001b[0;32m<ipython-input-2-fca0cc5df2de>\u001b[0m in \u001b[0;36m<cell line: 1>\u001b[0;34m()\u001b[0m\n\u001b[0;32m----> 1\u001b[0;31m \u001b[0mraiz_quadrada\u001b[0m \u001b[0;34m=\u001b[0m \u001b[0msqrt\u001b[0m \u001b[0;34m(\u001b[0m\u001b[0;36m25\u001b[0m\u001b[0;34m)\u001b[0m\u001b[0;34m\u001b[0m\u001b[0;34m\u001b[0m\u001b[0m\n\u001b[0m",
      "\u001b[0;31mNameError\u001b[0m: name 'sqrt' is not defined"
     ]
    }
   ],
   "source": [
    "raiz_quadrada = sqrt (25)"
   ]
  },
  {
   "cell_type": "code",
   "execution_count": 3,
   "metadata": {
    "id": "GARWqy2l3RIs"
   },
   "outputs": [],
   "source": [
    "import math\n"
   ]
  },
  {
   "cell_type": "markdown",
   "metadata": {
    "id": "o22Iq_63Gm5v"
   },
   "source": [
    "https://docs.python.org/pt-br/3/library/math.html"
   ]
  },
  {
   "cell_type": "code",
   "execution_count": 4,
   "metadata": {
    "id": "-zEt18Gi3zDH"
   },
   "outputs": [],
   "source": [
    "n = 18"
   ]
  },
  {
   "cell_type": "code",
   "execution_count": 5,
   "metadata": {
    "colab": {
     "base_uri": "https://localhost:8080/"
    },
    "id": "hJVBJ7LE3wZL",
    "outputId": "d58d3da7-02b9-4710-8b0c-e4231a5fc62c"
   },
   "outputs": [
    {
     "name": "stdout",
     "output_type": "stream",
     "text": [
      "A raiz de 18 é igual a 4.24\n"
     ]
    }
   ],
   "source": [
    "raiz = math.sqrt(n)\n",
    "print ('A raiz de {} é igual a {:.2f}'.format (n, raiz))"
   ]
  },
  {
   "cell_type": "code",
   "execution_count": 6,
   "metadata": {
    "colab": {
     "base_uri": "https://localhost:8080/"
    },
    "id": "dWDNjAQIECyI",
    "outputId": "6b1b49ec-af45-45ad-b1ca-c0dd0cf3b705"
   },
   "outputs": [
    {
     "name": "stdout",
     "output_type": "stream",
     "text": [
      "4.242640687119285\n"
     ]
    }
   ],
   "source": [
    "print(raiz)"
   ]
  },
  {
   "cell_type": "code",
   "execution_count": 8,
   "metadata": {
    "colab": {
     "base_uri": "https://localhost:8080/"
    },
    "id": "np3FjMOPKTiP",
    "outputId": "1f1dcd9f-5044-4034-a684-9433af499a69"
   },
   "outputs": [
    {
     "data": {
      "text/plain": [
       "4.242640687119285"
      ]
     },
     "execution_count": 8,
     "metadata": {},
     "output_type": "execute_result"
    }
   ],
   "source": [
    "math.sqrt(18)"
   ]
  },
  {
   "cell_type": "code",
   "execution_count": 9,
   "metadata": {
    "colab": {
     "base_uri": "https://localhost:8080/"
    },
    "id": "xVI_fWy0GzP3",
    "outputId": "a596d0ce-9c05-4989-e359-1b164e58c328"
   },
   "outputs": [
    {
     "name": "stdout",
     "output_type": "stream",
     "text": [
      "A raiz quadrada de 18 é 4.24\n"
     ]
    }
   ],
   "source": [
    "print(f'A raiz quadrada de {n} é {raiz:.2f}')"
   ]
  },
  {
   "cell_type": "code",
   "execution_count": 10,
   "metadata": {
    "colab": {
     "base_uri": "https://localhost:8080/"
    },
    "id": "hFwB1fmz4RbL",
    "outputId": "38a68732-c2db-4941-993f-9ddf8ee2af3d"
   },
   "outputs": [
    {
     "name": "stdout",
     "output_type": "stream",
     "text": [
      "4.242640687119285\n"
     ]
    }
   ],
   "source": [
    "raiz2 = n ** 0.5\n",
    "print (raiz2)"
   ]
  },
  {
   "cell_type": "code",
   "execution_count": 11,
   "metadata": {
    "colab": {
     "base_uri": "https://localhost:8080/"
    },
    "id": "kcAW_taYHSvN",
    "outputId": "69e53a10-9109-4d3c-bf30-8662e20f5a74"
   },
   "outputs": [
    {
     "name": "stdout",
     "output_type": "stream",
     "text": [
      "4.243\n"
     ]
    }
   ],
   "source": [
    "print (f'{raiz2:.3f}')"
   ]
  },
  {
   "cell_type": "code",
   "execution_count": 13,
   "metadata": {
    "colab": {
     "base_uri": "https://localhost:8080/"
    },
    "id": "5Y4ovCja5H3Y",
    "outputId": "f087083e-b000-4e83-af92-c09d5862621f"
   },
   "outputs": [
    {
     "name": "stdout",
     "output_type": "stream",
     "text": [
      "4.243\n"
     ]
    }
   ],
   "source": [
    "print ('{:.3f}'.format(raiz2))"
   ]
  },
  {
   "cell_type": "code",
   "execution_count": 15,
   "metadata": {
    "colab": {
     "base_uri": "https://localhost:8080/",
     "height": 165
    },
    "id": "Tby88ITGLZM6",
    "outputId": "ffbb648e-cb97-45cf-85db-fba32c8c2120"
   },
   "outputs": [
    {
     "ename": "NameError",
     "evalue": "ignored",
     "output_type": "error",
     "traceback": [
      "\u001b[0;31m---------------------------------------------------------------------------\u001b[0m",
      "\u001b[0;31mNameError\u001b[0m                                 Traceback (most recent call last)",
      "\u001b[0;32m<ipython-input-15-53c38ff6c130>\u001b[0m in \u001b[0;36m<cell line: 1>\u001b[0;34m()\u001b[0m\n\u001b[0;32m----> 1\u001b[0;31m \u001b[0msqrt\u001b[0m\u001b[0;34m(\u001b[0m\u001b[0;36m36\u001b[0m\u001b[0;34m)\u001b[0m\u001b[0;34m\u001b[0m\u001b[0;34m\u001b[0m\u001b[0m\n\u001b[0m",
      "\u001b[0;31mNameError\u001b[0m: name 'sqrt' is not defined"
     ]
    }
   ],
   "source": [
    "sqrt(36)"
   ]
  },
  {
   "cell_type": "code",
   "execution_count": 17,
   "metadata": {
    "colab": {
     "base_uri": "https://localhost:8080/"
    },
    "id": "WsMSOqQr5v-9",
    "outputId": "28394986-b62b-403b-c261-498305e18270"
   },
   "outputs": [
    {
     "name": "stdout",
     "output_type": "stream",
     "text": [
      "4.24\n"
     ]
    }
   ],
   "source": [
    "from math import sqrt\n",
    "raiz3 = sqrt(n)\n",
    "print (f'{raiz3:.2f}')"
   ]
  },
  {
   "cell_type": "code",
   "execution_count": 18,
   "metadata": {
    "colab": {
     "base_uri": "https://localhost:8080/"
    },
    "id": "hl_EXlBUL01k",
    "outputId": "b4224ae5-1351-474c-a136-f3804ea92392"
   },
   "outputs": [
    {
     "data": {
      "text/plain": [
       "6.0"
      ]
     },
     "execution_count": 18,
     "metadata": {},
     "output_type": "execute_result"
    }
   ],
   "source": [
    "sqrt(36)"
   ]
  },
  {
   "cell_type": "code",
   "execution_count": 19,
   "metadata": {
    "id": "vL_3azbqvI86"
   },
   "outputs": [],
   "source": [
    "from math import sqrt, factorial"
   ]
  },
  {
   "cell_type": "code",
   "execution_count": 21,
   "metadata": {
    "colab": {
     "base_uri": "https://localhost:8080/"
    },
    "id": "8TK6aLcovYf_",
    "outputId": "ef00b835-7981-4b34-acb3-d6deb5a41cb5"
   },
   "outputs": [
    {
     "data": {
      "text/plain": [
       "24"
      ]
     },
     "execution_count": 21,
     "metadata": {},
     "output_type": "execute_result"
    }
   ],
   "source": [
    "fat = factorial(4)       # fatorial: 4! = 4.3.2 = 24\n",
    "                         #           5! = 5.4.3.2 = 120\n",
    "fat"
   ]
  },
  {
   "cell_type": "code",
   "execution_count": 25,
   "metadata": {
    "colab": {
     "base_uri": "https://localhost:8080/"
    },
    "id": "T8Dexa_GMObU",
    "outputId": "af14ad70-5b85-43d5-d756-ea76d30da714"
   },
   "outputs": [
    {
     "data": {
      "text/plain": [
       "40320"
      ]
     },
     "execution_count": 25,
     "metadata": {},
     "output_type": "execute_result"
    }
   ],
   "source": [
    "factorial(8)"
   ]
  },
  {
   "cell_type": "code",
   "execution_count": 29,
   "metadata": {
    "colab": {
     "base_uri": "https://localhost:8080/"
    },
    "id": "H_vtnZSMn8gD",
    "outputId": "36e84209-c060-405f-ea55-8748ecf545d6"
   },
   "outputs": [
    {
     "data": {
      "text/plain": [
       "24"
      ]
     },
     "execution_count": 29,
     "metadata": {},
     "output_type": "execute_result"
    }
   ],
   "source": [
    "fatorial_raiz = factorial(int(sqrt(16)))\n",
    "fatorial_raiz"
   ]
  },
  {
   "cell_type": "code",
   "execution_count": 30,
   "metadata": {
    "colab": {
     "base_uri": "https://localhost:8080/"
    },
    "id": "sVU44zJhwtF1",
    "outputId": "dd751ec6-5204-43c5-8efb-9235a7717e85"
   },
   "outputs": [
    {
     "data": {
      "text/plain": [
       "24"
      ]
     },
     "execution_count": 30,
     "metadata": {},
     "output_type": "execute_result"
    }
   ],
   "source": [
    "fatorial_raiz = math.factorial(int(math.sqrt(16)))\n",
    "fatorial_raiz"
   ]
  },
  {
   "cell_type": "code",
   "execution_count": 59,
   "metadata": {
    "colab": {
     "base_uri": "https://localhost:8080/"
    },
    "id": "Pk8d40wE562N",
    "outputId": "72a7fcbd-fd62-4db7-e027-67f05a687a10"
   },
   "outputs": [
    {
     "name": "stdout",
     "output_type": "stream",
     "text": [
      "10\n"
     ]
    }
   ],
   "source": [
    "import random\n",
    "num = random.randint (1,10)\n",
    "print (num)"
   ]
  },
  {
   "cell_type": "code",
   "execution_count": null,
   "metadata": {
    "id": "foLfjcEZ88LK"
   },
   "outputs": [],
   "source": [
    "random."
   ]
  },
  {
   "cell_type": "markdown",
   "metadata": {
    "id": "n6qLsPMUHNoF"
   },
   "source": [
    "https://docs.python.org/pt-br/3.7/library/random.html"
   ]
  },
  {
   "cell_type": "code",
   "execution_count": 44,
   "metadata": {
    "id": "N6K3ZTUq9EcH"
   },
   "outputs": [],
   "source": [
    "from random import random, randint"
   ]
  },
  {
   "cell_type": "code",
   "execution_count": 45,
   "metadata": {
    "id": "7gDnh7Sv-GOL"
   },
   "outputs": [],
   "source": [
    "random?"
   ]
  },
  {
   "cell_type": "code",
   "execution_count": 55,
   "metadata": {
    "id": "n69KJ82G-qLk"
   },
   "outputs": [],
   "source": [
    "randint?"
   ]
  },
  {
   "cell_type": "code",
   "execution_count": 54,
   "metadata": {
    "colab": {
     "base_uri": "https://localhost:8080/"
    },
    "id": "Qn6p4XLt9MiI",
    "outputId": "0afcd1e9-e3c3-44b6-be7c-90a6e4113cd7"
   },
   "outputs": [
    {
     "data": {
      "text/plain": [
       "0.6241871447906944"
      ]
     },
     "execution_count": 54,
     "metadata": {},
     "output_type": "execute_result"
    }
   ],
   "source": [
    "num2 = random()\n",
    "num2"
   ]
  },
  {
   "cell_type": "code",
   "execution_count": 70,
   "metadata": {
    "colab": {
     "base_uri": "https://localhost:8080/"
    },
    "id": "cVkndYd8OVbp",
    "outputId": "1281dd19-186a-43dd-e2e2-42336e64875b"
   },
   "outputs": [
    {
     "data": {
      "text/plain": [
       "2"
      ]
     },
     "execution_count": 70,
     "metadata": {},
     "output_type": "execute_result"
    }
   ],
   "source": [
    "randint(2,15)"
   ]
  },
  {
   "cell_type": "markdown",
   "metadata": {
    "id": "S0D7LUH87yT_"
   },
   "source": [
    "# **Estrutura condicional**"
   ]
  },
  {
   "cell_type": "code",
   "execution_count": 19,
   "metadata": {
    "id": "o0-xAwbrD3sH"
   },
   "outputs": [],
   "source": [
    "import numpy as np"
   ]
  },
  {
   "cell_type": "markdown",
   "metadata": {
    "id": "1z1BpFdSoEP3"
   },
   "source": [
    "if\n",
    "else\n",
    "elif"
   ]
  },
  {
   "cell_type": "code",
   "execution_count": null,
   "metadata": {
    "id": "PscLlibJ8A-P"
   },
   "outputs": [],
   "source": [
    "nota = 5"
   ]
  },
  {
   "cell_type": "code",
   "execution_count": null,
   "metadata": {
    "id": "m9O23T6U7VaB"
   },
   "outputs": [],
   "source": [
    "if nota >= 6:\n",
    "    print('Aprovado')\n",
    "else:\n",
    "    print('Reprovado')"
   ]
  },
  {
   "cell_type": "code",
   "execution_count": null,
   "metadata": {
    "id": "8phBT3oh8b25"
   },
   "outputs": [],
   "source": [
    "if nota >= 6:\n",
    "    print('Aprovado')\n",
    "elif nota >= 5 and nota< 6:\n",
    "    print('Recuperação')\n",
    "else:\n",
    "    print('Reprovado')"
   ]
  },
  {
   "cell_type": "markdown",
   "metadata": {
    "id": "zYMDxIsTog20"
   },
   "source": [
    "# **Estrutura de Repetição**"
   ]
  },
  {
   "cell_type": "markdown",
   "metadata": {
    "id": "6UzQZL5JoqSM"
   },
   "source": [
    "for\n",
    "while\n"
   ]
  },
  {
   "cell_type": "code",
   "execution_count": null,
   "metadata": {
    "id": "H-m31UA8ovSt"
   },
   "outputs": [],
   "source": [
    "for c in range(0,4):\n",
    "    print(c)"
   ]
  },
  {
   "cell_type": "code",
   "execution_count": null,
   "metadata": {
    "id": "qLzFKC2-txnH"
   },
   "outputs": [],
   "source": [
    "lista = [1, 2, 3, 4, 10]\n",
    "for numero in lista:\n",
    "  mult = numero * 2\n",
    "  print(mult)"
   ]
  },
  {
   "cell_type": "code",
   "execution_count": null,
   "metadata": {
    "id": "JfN3HtEisED1"
   },
   "outputs": [],
   "source": [
    "soma = 0\n",
    "cont = 0\n",
    "for c in range (1, 6):\n",
    "    num = int(input('digite o {}o valor: '.format(c)))\n",
    "    if num % 2 == 0:\n",
    "        soma = soma + num\n",
    "        cont = cont + 1\n",
    "print('Você informou {} números pares e a soma deles é igual a {}'.format(cont, soma))"
   ]
  },
  {
   "cell_type": "code",
   "execution_count": null,
   "metadata": {
    "id": "zEhnKG1aq_nM"
   },
   "outputs": [],
   "source": [
    "c = 1\n",
    "while c <= 10:\n",
    "    s = c + 10\n",
    "    print(s)\n",
    "    c = c + 1\n",
    "print('FIM')"
   ]
  },
  {
   "cell_type": "markdown",
   "metadata": {
    "id": "zsJIT1D5u_fc"
   },
   "source": [
    "# **Listas, Tuplas e Dicionários**"
   ]
  },
  {
   "cell_type": "markdown",
   "metadata": {
    "id": "SdbTnj1KvM3b"
   },
   "source": [
    "Listas [ ]\n",
    "Tuplas ( )\n",
    "Dicionários { }"
   ]
  },
  {
   "cell_type": "markdown",
   "metadata": {
    "id": "wSQTmCVWx3_O"
   },
   "source": [
    "**LISTAS**"
   ]
  },
  {
   "cell_type": "code",
   "execution_count": null,
   "metadata": {
    "id": "HnYMCqQuvkr8"
   },
   "outputs": [],
   "source": [
    "num = [2, 5, 7, 9]"
   ]
  },
  {
   "cell_type": "code",
   "execution_count": null,
   "metadata": {
    "id": "SDBxexK3vq7B"
   },
   "outputs": [],
   "source": [
    "num[3] = 4   # no lugar do elemento na posição 3 (número 9) vai ser colocado o número 4"
   ]
  },
  {
   "cell_type": "code",
   "execution_count": null,
   "metadata": {
    "colab": {
     "base_uri": "https://localhost:8080/"
    },
    "id": "kfkiZ9suwE3I",
    "outputId": "8fb039c5-29c7-4d17-a40c-7e388841db64"
   },
   "outputs": [
    {
     "data": {
      "text/plain": [
       "[2, 5, 7, 4]"
      ]
     },
     "execution_count": 3,
     "metadata": {},
     "output_type": "execute_result"
    }
   ],
   "source": [
    "num"
   ]
  },
  {
   "cell_type": "code",
   "execution_count": null,
   "metadata": {
    "colab": {
     "base_uri": "https://localhost:8080/"
    },
    "id": "JzL0DiSOwLdg",
    "outputId": "85ded170-2b35-47d4-c64a-e91c2860f511"
   },
   "outputs": [
    {
     "data": {
      "text/plain": [
       "[2, 5, 7, 4, 8]"
      ]
     },
     "execution_count": 4,
     "metadata": {},
     "output_type": "execute_result"
    }
   ],
   "source": [
    "num.append(8) #inclui o número 8\n",
    "num"
   ]
  },
  {
   "cell_type": "code",
   "execution_count": null,
   "metadata": {
    "colab": {
     "base_uri": "https://localhost:8080/"
    },
    "id": "1KbNaG8OwhjC",
    "outputId": "b3690869-8e45-455c-a6f2-a3ac6763bc67"
   },
   "outputs": [
    {
     "data": {
      "text/plain": [
       "[2, 4, 5, 7, 8]"
      ]
     },
     "execution_count": 5,
     "metadata": {},
     "output_type": "execute_result"
    }
   ],
   "source": [
    "num.sort() #coloca em ordem crescente\n",
    "num"
   ]
  },
  {
   "cell_type": "code",
   "execution_count": null,
   "metadata": {
    "colab": {
     "base_uri": "https://localhost:8080/"
    },
    "id": "fo4dZTcFw2z1",
    "outputId": "3c6e7532-a481-478f-82d0-8366d617333e"
   },
   "outputs": [
    {
     "data": {
      "text/plain": [
       "[2, 4, 0, 5, 7, 8]"
      ]
     },
     "execution_count": 6,
     "metadata": {},
     "output_type": "execute_result"
    }
   ],
   "source": [
    "num.insert(2, 0) # adiciona o zero na posição 2\n",
    "num"
   ]
  },
  {
   "cell_type": "code",
   "execution_count": null,
   "metadata": {
    "colab": {
     "base_uri": "https://localhost:8080/",
     "height": 190
    },
    "id": "2wim84P4xEkd",
    "outputId": "a53713c2-b4fc-489a-a290-c2bafae76f27"
   },
   "outputs": [
    {
     "ename": "ValueError",
     "evalue": "ignored",
     "output_type": "error",
     "traceback": [
      "\u001b[0;31m---------------------------------------------------------------------------\u001b[0m",
      "\u001b[0;31mValueError\u001b[0m                                Traceback (most recent call last)",
      "\u001b[0;32m<ipython-input-13-9afa1364249e>\u001b[0m in \u001b[0;36m<module>\u001b[0;34m()\u001b[0m\n\u001b[0;32m----> 1\u001b[0;31m \u001b[0mnum\u001b[0m\u001b[0;34m.\u001b[0m\u001b[0mremove\u001b[0m\u001b[0;34m(\u001b[0m\u001b[0;36m7\u001b[0m\u001b[0;34m)\u001b[0m \u001b[0;31m#remove o elemento 7\u001b[0m\u001b[0;34m\u001b[0m\u001b[0;34m\u001b[0m\u001b[0m\n\u001b[0m\u001b[1;32m      2\u001b[0m \u001b[0mnum\u001b[0m\u001b[0;34m\u001b[0m\u001b[0;34m\u001b[0m\u001b[0m\n",
      "\u001b[0;31mValueError\u001b[0m: list.remove(x): x not in list"
     ]
    }
   ],
   "source": [
    "num.remove(7) #remove o elemento 7\n",
    "num"
   ]
  },
  {
   "cell_type": "code",
   "execution_count": null,
   "metadata": {
    "colab": {
     "base_uri": "https://localhost:8080/"
    },
    "id": "9HXeuBChxeb0",
    "outputId": "7dd544c5-fb70-45f7-9373-3d7e0862cb45"
   },
   "outputs": [
    {
     "data": {
      "text/plain": [
       "[2, 4, 0, 8]"
      ]
     },
     "execution_count": 17,
     "metadata": {},
     "output_type": "execute_result"
    }
   ],
   "source": [
    "num.pop(3) #remove o elemento na posição 3\n",
    "num"
   ]
  },
  {
   "cell_type": "code",
   "execution_count": null,
   "metadata": {
    "id": "ExWXGnKxKX0e"
   },
   "outputs": [],
   "source": [
    "del(num[0:2]) #deleta números em um determinado intervalo"
   ]
  },
  {
   "cell_type": "code",
   "execution_count": null,
   "metadata": {
    "colab": {
     "base_uri": "https://localhost:8080/"
    },
    "id": "mUthv_ThKc1l",
    "outputId": "2179c89e-f31e-404b-edce-517eec537765"
   },
   "outputs": [
    {
     "data": {
      "text/plain": [
       "[]"
      ]
     },
     "execution_count": 23,
     "metadata": {},
     "output_type": "execute_result"
    }
   ],
   "source": [
    "num"
   ]
  },
  {
   "cell_type": "markdown",
   "metadata": {
    "id": "UZ7wtvhjywTz"
   },
   "source": [
    "**TUPLAS**"
   ]
  },
  {
   "cell_type": "markdown",
   "metadata": {
    "id": "dEFU0DGDgEwz"
   },
   "source": [
    "Tupla é imutável."
   ]
  },
  {
   "cell_type": "code",
   "execution_count": null,
   "metadata": {
    "id": "gydwsEq-xyvM"
   },
   "outputs": [],
   "source": [
    "num2 = (2, 5, 7, 9)"
   ]
  },
  {
   "cell_type": "code",
   "execution_count": null,
   "metadata": {
    "id": "wZ0CZ4wtyBhz"
   },
   "outputs": [],
   "source": [
    "num2[3] = 4"
   ]
  },
  {
   "cell_type": "code",
   "execution_count": null,
   "metadata": {
    "id": "q1Rlip6SycjK"
   },
   "outputs": [],
   "source": [
    "num2.append(8) #inclui o número 8\n",
    "num2"
   ]
  },
  {
   "cell_type": "markdown",
   "metadata": {
    "id": "Nayqp9rby0kZ"
   },
   "source": [
    "**DICIONÁRIOS**"
   ]
  },
  {
   "cell_type": "code",
   "execution_count": null,
   "metadata": {
    "id": "YaEdF0kly9FQ"
   },
   "outputs": [],
   "source": [
    "pessoas = {'nome': 'Luciano', 'sexo': 'masculino', 'idade': 46}  # número não coloca aspas\n",
    "print (pessoas)"
   ]
  },
  {
   "cell_type": "code",
   "execution_count": null,
   "metadata": {
    "id": "iVQVWZkXz-OH"
   },
   "outputs": [],
   "source": [
    "pessoas['time'] = 'Corinthians'\n",
    "print(pessoas)"
   ]
  },
  {
   "cell_type": "code",
   "execution_count": null,
   "metadata": {
    "id": "Ma9cXRzi16BT"
   },
   "outputs": [],
   "source": [
    "del pessoas['idade']\n",
    "print(pessoas)"
   ]
  },
  {
   "cell_type": "markdown",
   "metadata": {
    "id": "ZIFE-DwhkB_K"
   },
   "source": [
    "# **Funções**"
   ]
  },
  {
   "cell_type": "code",
   "execution_count": null,
   "metadata": {
    "id": "dRcIq_-nkKEh"
   },
   "outputs": [],
   "source": [
    "def identificacao(nome,idade):\n",
    "   print('Olá',nome,'\\nVocê é jovem, tem apenas',idade, 'anos')"
   ]
  },
  {
   "cell_type": "code",
   "execution_count": null,
   "metadata": {
    "id": "le4TCLqUk-5g"
   },
   "outputs": [],
   "source": [
    "identificacao('Luciano', 46)"
   ]
  },
  {
   "cell_type": "code",
   "execution_count": null,
   "metadata": {
    "id": "qJWNKw8nlg82"
   },
   "outputs": [],
   "source": [
    "def maior (x,y):\n",
    "  if x < y:\n",
    "    print ('O maior número é', y)\n",
    "  elif x == y:\n",
    "    print ('Os números são iguais')\n",
    "  else:\n",
    "    print ('O maior número é', x)"
   ]
  },
  {
   "cell_type": "code",
   "execution_count": null,
   "metadata": {
    "id": "QBXbsMyJmQzm"
   },
   "outputs": [],
   "source": [
    "maior (11,16)"
   ]
  },
  {
   "cell_type": "code",
   "execution_count": null,
   "metadata": {
    "id": "AH4rNn6dmrdl"
   },
   "outputs": [],
   "source": [
    "def pitagoras (cat1, cat2, hip):\n",
    "  if hip == '?':\n",
    "    hip = (cat1**2+cat2**2)**(1/2)\n",
    "    print ('A hipotenusa é', hip)\n",
    "  elif cat1 == '?':\n",
    "    cat1 = (hip**2-cat2**2)**(1/2)\n",
    "    print ('O cateto é', cat1)\n",
    "  elif cat2 == '?':\n",
    "    cat2 = (hip**2-cat1**2)**(1/2)\n",
    "    print ('O cateto é', cat2)"
   ]
  },
  {
   "cell_type": "code",
   "execution_count": null,
   "metadata": {
    "id": "AdqHm9aWnF-T"
   },
   "outputs": [],
   "source": [
    "pitagoras (13,5,'?')"
   ]
  },
  {
   "cell_type": "markdown",
   "metadata": {
    "id": "Wbpjrij0Q6Il"
   },
   "source": [
    "## **Função lambda e map**"
   ]
  },
  {
   "cell_type": "markdown",
   "metadata": {
    "id": "5CuPklGeX2RJ"
   },
   "source": [
    "Forma simplificada de escrever funções"
   ]
  },
  {
   "cell_type": "code",
   "execution_count": null,
   "metadata": {
    "id": "LqflbOryRCJt"
   },
   "outputs": [],
   "source": [
    "def area_quadrado (L):\n",
    "  area = L**2\n",
    "  print(area)"
   ]
  },
  {
   "cell_type": "code",
   "execution_count": null,
   "metadata": {
    "colab": {
     "base_uri": "https://localhost:8080/"
    },
    "id": "gTUKwLKPRWfs",
    "outputId": "a4762077-4144-4a20-a14a-07a56a2034c3"
   },
   "outputs": [
    {
     "name": "stdout",
     "output_type": "stream",
     "text": [
      "16\n"
     ]
    }
   ],
   "source": [
    "area_quadrado(4)"
   ]
  },
  {
   "cell_type": "code",
   "execution_count": null,
   "metadata": {
    "id": "HgWm3A8FRe4r"
   },
   "outputs": [],
   "source": [
    "area_quadrado2 = lambda x: x**2"
   ]
  },
  {
   "cell_type": "code",
   "execution_count": null,
   "metadata": {
    "colab": {
     "base_uri": "https://localhost:8080/"
    },
    "id": "q7k3w49zWHBb",
    "outputId": "d70552d5-fa85-45d7-c007-a1a82781dfdd"
   },
   "outputs": [
    {
     "data": {
      "text/plain": [
       "49"
      ]
     },
     "execution_count": 4,
     "metadata": {},
     "output_type": "execute_result"
    }
   ],
   "source": [
    "area_quadrado2(7)"
   ]
  },
  {
   "cell_type": "code",
   "execution_count": null,
   "metadata": {
    "id": "fYePyGQiWx9N"
   },
   "outputs": [],
   "source": [
    "area_retangulo = lambda b, h: b*h"
   ]
  },
  {
   "cell_type": "code",
   "execution_count": null,
   "metadata": {
    "colab": {
     "base_uri": "https://localhost:8080/"
    },
    "id": "zRPIrrLCXHK7",
    "outputId": "160f1db1-d99e-49d6-8ad7-a5b9d3e1f2ad"
   },
   "outputs": [
    {
     "data": {
      "text/plain": [
       "28"
      ]
     },
     "execution_count": 6,
     "metadata": {},
     "output_type": "execute_result"
    }
   ],
   "source": [
    "area_retangulo(4,7)"
   ]
  },
  {
   "cell_type": "code",
   "execution_count": null,
   "metadata": {
    "colab": {
     "base_uri": "https://localhost:8080/"
    },
    "id": "T7Fy6q5YSiXS",
    "outputId": "d545d8b6-5bff-43da-cdbd-a6f425c1282c"
   },
   "outputs": [
    {
     "name": "stdout",
     "output_type": "stream",
     "text": [
      "[16, 25, 36, 49, 121, 81, 100]\n"
     ]
    }
   ],
   "source": [
    "# Uma vantagem é quando se utiliza juntamente com outros métodos\n",
    "L = [4,5,6,7,11,9,10]\n",
    "areas = list(map(lambda x: x**2, L))\n",
    "print(areas)"
   ]
  },
  {
   "cell_type": "code",
   "execution_count": null,
   "metadata": {
    "id": "f28TPZHmQih2"
   },
   "outputs": [],
   "source": [
    "area_retangulo = lambda b, h: b*h"
   ]
  },
  {
   "cell_type": "markdown",
   "metadata": {
    "id": "0qqrF6eUXrE4"
   },
   "source": [
    "# **List Comprehensions**"
   ]
  },
  {
   "cell_type": "markdown",
   "metadata": {
    "id": "h8_IZl4BYSgG"
   },
   "source": [
    "Otimiza a utilização de listas e diminui linhas de código"
   ]
  },
  {
   "cell_type": "code",
   "execution_count": null,
   "metadata": {
    "id": "e_i-0-4aYR0m"
   },
   "outputs": [],
   "source": [
    "lista=[]\n",
    "for valor in range(5):\n",
    "  lista.append(valor+10)\n",
    "print(lista)\n"
   ]
  },
  {
   "cell_type": "code",
   "execution_count": null,
   "metadata": {
    "id": "uThJIVObXpeR"
   },
   "outputs": [],
   "source": [
    "lista = [valor+10 for valor in range(5)]\n",
    "print(lista)\n"
   ]
  },
  {
   "cell_type": "code",
   "execution_count": null,
   "metadata": {
    "id": "gmq6W-Fjarvf"
   },
   "outputs": [],
   "source": [
    "lista = []\n",
    "for numero in range (1,30):\n",
    "  if numero % 4 == 0:\n",
    "    lista.append(numero)\n",
    "print(lista)\n"
   ]
  },
  {
   "cell_type": "code",
   "execution_count": null,
   "metadata": {
    "id": "se6DeQZKZ6HJ"
   },
   "outputs": [],
   "source": [
    "multiplos4 = [numero for numero in range(1,30) if numero % 4 == 0]\n",
    "print(multiplos4)\n"
   ]
  },
  {
   "cell_type": "code",
   "execution_count": null,
   "metadata": {
    "id": "Fi5Hes3ebvVN"
   },
   "outputs": [],
   "source": [
    "conceito = ['azul' if nota >= 6 else 'vermelha' for nota in range(1,11)]\n",
    "print(conceito)"
   ]
  },
  {
   "cell_type": "markdown",
   "metadata": {
    "id": "uxCpeYoKDdd9"
   },
   "source": [
    "# **Vetores (arrays) e matrizes**"
   ]
  },
  {
   "cell_type": "markdown",
   "metadata": {
    "id": "RvI6SyjG5zjX"
   },
   "source": [
    "Matriz\n",
    "1    3    5    7\n",
    "2    4    6    8\n",
    "0    1    2    3\n",
    "\n",
    "Vetor\n",
    "5  10  15  20\n",
    "ou\n",
    "3\n",
    "4\n",
    "5\n",
    "6"
   ]
  },
  {
   "cell_type": "code",
   "execution_count": null,
   "metadata": {
    "id": "TAWr5vcXE3Ri"
   },
   "outputs": [],
   "source": [
    "vetor = [2,4,5,6]"
   ]
  },
  {
   "cell_type": "code",
   "execution_count": null,
   "metadata": {
    "id": "wTr4TDHhE7gq"
   },
   "outputs": [],
   "source": [
    "type(vetor)"
   ]
  },
  {
   "cell_type": "code",
   "execution_count": null,
   "metadata": {
    "id": "nPPcWhIjG4YP"
   },
   "outputs": [],
   "source": [
    "matriz = [[1,2,3],\n",
    "          [4,5,6],\n",
    "          [7,8,9]]"
   ]
  },
  {
   "cell_type": "code",
   "execution_count": null,
   "metadata": {
    "id": "ff6UObFAHAcs"
   },
   "outputs": [],
   "source": [
    "type(matriz)"
   ]
  },
  {
   "cell_type": "code",
   "execution_count": null,
   "metadata": {
    "id": "PlJvmdwnKbkN"
   },
   "outputs": [],
   "source": [
    "print(matriz)"
   ]
  },
  {
   "cell_type": "code",
   "execution_count": null,
   "metadata": {
    "id": "L3C192qbB4sR"
   },
   "outputs": [],
   "source": [
    "import numpy as np"
   ]
  },
  {
   "cell_type": "code",
   "execution_count": null,
   "metadata": {
    "id": "_xDT0MeaDuAW"
   },
   "outputs": [],
   "source": [
    "vetor2 = np.array([1, -3, 4.2, 5])"
   ]
  },
  {
   "cell_type": "code",
   "execution_count": null,
   "metadata": {
    "id": "ED19yxFZE0PE"
   },
   "outputs": [],
   "source": [
    "type(vetor2)"
   ]
  },
  {
   "cell_type": "code",
   "execution_count": null,
   "metadata": {
    "id": "ipy3TrhoJLKT"
   },
   "outputs": [],
   "source": [
    "print (vetor2)"
   ]
  },
  {
   "cell_type": "code",
   "execution_count": null,
   "metadata": {
    "id": "r9Lsxs2YCHP0"
   },
   "outputs": [],
   "source": [
    "matriz2 = np.ones((2,3))\n",
    "matriz2"
   ]
  },
  {
   "cell_type": "code",
   "execution_count": null,
   "metadata": {
    "id": "CBTQ5_IHKK9G"
   },
   "outputs": [],
   "source": [
    "type(matriz2)"
   ]
  },
  {
   "cell_type": "code",
   "execution_count": null,
   "metadata": {
    "id": "Bx_SfghTCYZC"
   },
   "outputs": [],
   "source": [
    "matriz3 = np.diag((2,4,6,8,10))\n",
    "matriz3"
   ]
  },
  {
   "cell_type": "code",
   "execution_count": null,
   "metadata": {
    "id": "ULocEupzEaNU"
   },
   "outputs": [],
   "source": [
    "type(matriz3)"
   ]
  }
 ],
 "metadata": {
  "colab": {
   "provenance": []
  },
  "kernelspec": {
   "display_name": "Python 3 (ipykernel)",
   "language": "python",
   "name": "python3"
  },
  "language_info": {
   "codemirror_mode": {
    "name": "ipython",
    "version": 3
   },
   "file_extension": ".py",
   "mimetype": "text/x-python",
   "name": "python",
   "nbconvert_exporter": "python",
   "pygments_lexer": "ipython3",
   "version": "3.11.7"
  }
 },
 "nbformat": 4,
 "nbformat_minor": 4
}
