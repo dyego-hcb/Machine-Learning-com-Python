{
 "cells": [
  {
   "cell_type": "markdown",
   "id": "2051a1a5-1dfb-40d1-b394-07da3467a3eb",
   "metadata": {},
   "source": [
    "# Primeiro Notebook"
   ]
  },
  {
   "cell_type": "code",
   "execution_count": 2,
   "id": "ae655210-5362-4172-af36-ecdbff4ba77b",
   "metadata": {},
   "outputs": [
    {
     "name": "stdout",
     "output_type": "stream",
     "text": [
      "hello word\n"
     ]
    }
   ],
   "source": [
    "print(\"hello word\")"
   ]
  },
  {
   "cell_type": "code",
   "execution_count": 3,
   "id": "81f7cfca-9603-460f-aad8-144417bc9496",
   "metadata": {},
   "outputs": [
    {
     "data": {
      "text/plain": [
       "12"
      ]
     },
     "execution_count": 3,
     "metadata": {},
     "output_type": "execute_result"
    }
   ],
   "source": [
    "4*3"
   ]
  },
  {
   "cell_type": "code",
   "execution_count": null,
   "id": "9475ceae-35b8-4afe-83db-1a9bafae53fa",
   "metadata": {},
   "outputs": [],
   "source": []
  }
 ],
 "metadata": {
  "kernelspec": {
   "display_name": "Python 3 (ipykernel)",
   "language": "python",
   "name": "python3"
  },
  "language_info": {
   "codemirror_mode": {
    "name": "ipython",
    "version": 3
   },
   "file_extension": ".py",
   "mimetype": "text/x-python",
   "name": "python",
   "nbconvert_exporter": "python",
   "pygments_lexer": "ipython3",
   "version": "3.11.7"
  }
 },
 "nbformat": 4,
 "nbformat_minor": 5
}
