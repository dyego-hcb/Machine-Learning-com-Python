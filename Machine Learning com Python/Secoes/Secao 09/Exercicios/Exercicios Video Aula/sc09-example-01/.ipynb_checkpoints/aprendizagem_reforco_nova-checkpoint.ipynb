{
 "cells": [
  {
   "cell_type": "markdown",
   "metadata": {
    "id": "zo4_NBVWMQvE"
   },
   "source": [
    "# **APRENDIZAGEM POR REFORÇO**"
   ]
  },
  {
   "cell_type": "markdown",
   "metadata": {
    "id": "vxK5jFkXgZt3"
   },
   "source": [
    "https://gym.openai.com/"
   ]
  },
  {
   "cell_type": "markdown",
   "metadata": {
    "id": "zwJaIifT9YtC"
   },
   "source": [
    "https://gym.openai.com/envs/Taxi-v3/"
   ]
  },
  {
   "cell_type": "markdown",
   "metadata": {
    "id": "SNKu2HUe9fGW"
   },
   "source": [
    "**Links de referência**"
   ]
  },
  {
   "cell_type": "markdown",
   "metadata": {
    "id": "gJuapuEAMK2m"
   },
   "source": [
    "https://www.learndatasci.com/tutorials/reinforcement-q-learning-scratch-python-openai-gym/"
   ]
  },
  {
   "cell_type": "markdown",
   "metadata": {
    "id": "lXmTMZJhML9T"
   },
   "source": [
    "https://medium.com/turing-talks/aprendizado-por-refor%C3%A7o-4-gym-d18ac1280628"
   ]
  },
  {
   "cell_type": "markdown",
   "metadata": {
    "id": "7swTjEjMHMMl"
   },
   "source": [
    "**Instalando a Biblioteca GYM**"
   ]
  },
  {
   "cell_type": "code",
   "execution_count": 20,
   "metadata": {
    "colab": {
     "base_uri": "https://localhost:8080/"
    },
    "id": "1nuOSLFMCbKY",
    "outputId": "2b3fc123-535b-4b91-81fe-bfa043b0bbed"
   },
   "outputs": [
    {
     "name": "stdout",
     "output_type": "stream",
     "text": [
      "Requirement already satisfied: cmake in /home/mrzebodexxsz/anaconda3/lib/python3.11/site-packages (3.29.3)\n",
      "Requirement already satisfied: scipy in /home/mrzebodexxsz/anaconda3/lib/python3.11/site-packages (1.11.4)\n",
      "Requirement already satisfied: gym[atari] in /home/mrzebodexxsz/anaconda3/lib/python3.11/site-packages (0.26.2)\n",
      "Requirement already satisfied: numpy>=1.18.0 in /home/mrzebodexxsz/anaconda3/lib/python3.11/site-packages (from gym[atari]) (1.26.4)\n",
      "Requirement already satisfied: cloudpickle>=1.2.0 in /home/mrzebodexxsz/anaconda3/lib/python3.11/site-packages (from gym[atari]) (2.2.1)\n",
      "Requirement already satisfied: gym-notices>=0.0.4 in /home/mrzebodexxsz/anaconda3/lib/python3.11/site-packages (from gym[atari]) (0.0.8)\n",
      "Requirement already satisfied: ale-py~=0.8.0 in /home/mrzebodexxsz/anaconda3/lib/python3.11/site-packages (from gym[atari]) (0.8.1)\n",
      "Requirement already satisfied: importlib-resources in /home/mrzebodexxsz/anaconda3/lib/python3.11/site-packages (from ale-py~=0.8.0->gym[atari]) (6.4.0)\n"
     ]
    }
   ],
   "source": [
    "!pip install cmake 'gym[atari]' scipy"
   ]
  },
  {
   "cell_type": "code",
   "execution_count": 21,
   "metadata": {
    "id": "LRh70CdVChvL"
   },
   "outputs": [],
   "source": [
    "import gym"
   ]
  },
  {
   "cell_type": "markdown",
   "metadata": {
    "id": "I4_DwI5tHbq1"
   },
   "source": [
    "**Carregando e renderizando o ambiente**"
   ]
  },
  {
   "cell_type": "code",
   "execution_count": 22,
   "metadata": {
    "colab": {
     "base_uri": "https://localhost:8080/"
    },
    "id": "MvgWNK_uCmCK",
    "outputId": "22fbee27-fb72-4138-9199-f648844c6511"
   },
   "outputs": [],
   "source": [
    "env = gym.make(\"Taxi-v3\").env"
   ]
  },
  {
   "cell_type": "code",
   "execution_count": 23,
   "metadata": {
    "id": "JKfP0RINDAfA"
   },
   "outputs": [],
   "source": [
    "## Função inoperante devido a inúmeros problemas na execução.\n",
    "## Ela não é essencial para a aprendizagem por reforço, é apenas uma demonstração.\n",
    "## Não retirei do vídeo porque a imagem ajuda no entendimento das ações.\n",
    "# env.render()"
   ]
  },
  {
   "cell_type": "code",
   "execution_count": 24,
   "metadata": {
    "colab": {
     "base_uri": "https://localhost:8080/"
    },
    "id": "Rj2ZuAZDDCR4",
    "outputId": "acb57ba6-cf4b-4036-b38f-cf8bef3fbc8e"
   },
   "outputs": [
    {
     "data": {
      "text/plain": [
       "(303, {'prob': 1.0, 'action_mask': array([1, 1, 0, 0, 0, 0], dtype=int8)})"
      ]
     },
     "execution_count": 24,
     "metadata": {},
     "output_type": "execute_result"
    }
   ],
   "source": [
    "# redefinindo o ambiente e retornando um estado inicial aleatório.\n",
    "env.reset()"
   ]
  },
  {
   "cell_type": "code",
   "execution_count": 25,
   "metadata": {
    "id": "0oB2144rDkDe"
   },
   "outputs": [],
   "source": [
    "## função inoperante\n",
    "# env.render()"
   ]
  },
  {
   "cell_type": "markdown",
   "metadata": {
    "id": "LXaShm9SIFDU"
   },
   "source": [
    "env.reset: redefine o ambiente e retorna um estado inicial aleatório.\n",
    "\n",
    "env.step(action): Apresenta os passos de ação.\n"
   ]
  },
  {
   "cell_type": "code",
   "execution_count": 26,
   "metadata": {
    "colab": {
     "base_uri": "https://localhost:8080/"
    },
    "id": "0g-pY7BoDwOu",
    "outputId": "2abe21b9-1bbd-40f6-e431-ec434ceff773"
   },
   "outputs": [
    {
     "name": "stdout",
     "output_type": "stream",
     "text": [
      "Action Space Discrete(6)\n",
      "State Space Discrete(500)\n"
     ]
    }
   ],
   "source": [
    "# Print no espaço de ação discreto e no espaço de estado discreto\n",
    "print(\"Action Space {}\".format(env.action_space))\n",
    "print(\"State Space {}\".format(env.observation_space))"
   ]
  },
  {
   "cell_type": "markdown",
   "metadata": {
    "id": "E8ovsxyiC-sA"
   },
   "source": [
    "**ESPAÇO DE ESTADO**"
   ]
  },
  {
   "cell_type": "markdown",
   "metadata": {
    "id": "ORr0nKOpA9CY"
   },
   "source": [
    "Espaço de estado da grade: 5x5 = 25\n",
    "\n",
    "Espaço posição do passageiro: 5 (quatro pontos externos e um dentro do taxi)\n",
    "\n",
    "Espaço de posição de embargue/desembarque (destino): 4\n",
    "\n",
    "Total: 5x5x5x4 = 500 espaços de estado."
   ]
  },
  {
   "cell_type": "markdown",
   "metadata": {
    "id": "eCjLZN58DCy-"
   },
   "source": [
    "**ESPAÇO DE AÇÃO**"
   ]
  },
  {
   "cell_type": "markdown",
   "metadata": {
    "id": "j5C0tVoAJwPp"
   },
   "source": [
    "O algoritmo escolherá um número de ação de 0 a 5, onde:\n",
    "\n",
    "0 = sul\n",
    "\n",
    "1 = norte\n",
    "\n",
    "2 = leste\n",
    "\n",
    "3 = oeste\n",
    "\n",
    "4 = embarque\n",
    "\n",
    "5 = desembarque"
   ]
  },
  {
   "cell_type": "markdown",
   "metadata": {
    "id": "gEn_Sq6RK68T"
   },
   "source": [
    "**Colocando o taxi na linha 3, coluna 1, nosso passageiro no local 2 e nosso destino é o local 0.**"
   ]
  },
  {
   "cell_type": "code",
   "execution_count": 27,
   "metadata": {
    "colab": {
     "base_uri": "https://localhost:8080/"
    },
    "id": "Wr_-TDSJEgFt",
    "outputId": "a1eea964-cfc4-45d1-ad3c-5d56e8a6ca5f"
   },
   "outputs": [
    {
     "name": "stdout",
     "output_type": "stream",
     "text": [
      "State: 328\n"
     ]
    }
   ],
   "source": [
    "state = env.encode(3, 1, 2,0) # (linha do taxi, coluna do taxi, índice do passageiro, índice do destino)\n",
    "print(\"State:\", state)\n",
    "\n",
    "env.s = state\n",
    "#env.render() # função temporariamente inoperante"
   ]
  },
  {
   "cell_type": "markdown",
   "metadata": {
    "id": "ywJ13rDjJMbf"
   },
   "source": [
    "Táxi amarelo é sem passageiro e verde é com passageiro.\n",
    "\n",
    "A barra (\"|\") representa uma parede que o táxi não pode atravessar.\n",
    "\n",
    "R, G, Y, B são os possíveis locais de coleta e destino. A **letra azul** representa o local de **embargue** do passageiro e a **letra roxa** é o **desembargue** do passageiro."
   ]
  },
  {
   "cell_type": "markdown",
   "metadata": {
    "id": "6-cTUWHZKW4U"
   },
   "source": [
    "Recompensas (Já definidas na biblioteca):\n",
    "\n",
    "+20 para um desembarque correto.\n",
    "\n",
    "-10 para um embarque ou desembarque incorreto.\n",
    "\n",
    "-1 para ações que não sejam as duas anteriores."
   ]
  },
  {
   "cell_type": "code",
   "execution_count": 28,
   "metadata": {
    "colab": {
     "base_uri": "https://localhost:8080/"
    },
    "id": "bmWgFuTKEoNj",
    "outputId": "bd13b218-f4c0-434e-95ec-4527f5f6918e"
   },
   "outputs": [
    {
     "data": {
      "text/plain": [
       "{0: [(1.0, 428, -1, False)],\n",
       " 1: [(1.0, 228, -1, False)],\n",
       " 2: [(1.0, 348, -1, False)],\n",
       " 3: [(1.0, 328, -1, False)],\n",
       " 4: [(1.0, 328, -10, False)],\n",
       " 5: [(1.0, 328, -10, False)]}"
      ]
     },
     "execution_count": 28,
     "metadata": {},
     "output_type": "execute_result"
    }
   ],
   "source": [
    "env.P[328]"
   ]
  },
  {
   "cell_type": "code",
   "execution_count": 29,
   "metadata": {
    "id": "gSapNw99FFSq"
   },
   "outputs": [],
   "source": [
    "import numpy as np\n",
    "import random\n",
    "from IPython.display import clear_output"
   ]
  },
  {
   "cell_type": "code",
   "execution_count": 30,
   "metadata": {
    "id": "SnRf1JhUFDeR"
   },
   "outputs": [],
   "source": [
    "tabela_q = np.zeros([env.observation_space.n, env.action_space.n]) #iniciando a tabela Q"
   ]
  },
  {
   "cell_type": "code",
   "execution_count": 31,
   "metadata": {
    "colab": {
     "base_uri": "https://localhost:8080/"
    },
    "id": "vLUVMJzb6qXp",
    "outputId": "3188c841-9c29-42f2-d2f5-877b8682a088"
   },
   "outputs": [
    {
     "data": {
      "text/plain": [
       "array([[0., 0., 0., 0., 0., 0.],\n",
       "       [0., 0., 0., 0., 0., 0.],\n",
       "       [0., 0., 0., 0., 0., 0.],\n",
       "       ...,\n",
       "       [0., 0., 0., 0., 0., 0.],\n",
       "       [0., 0., 0., 0., 0., 0.],\n",
       "       [0., 0., 0., 0., 0., 0.]])"
      ]
     },
     "execution_count": 31,
     "metadata": {},
     "output_type": "execute_result"
    }
   ],
   "source": [
    "tabela_q"
   ]
  },
  {
   "cell_type": "code",
   "execution_count": 32,
   "metadata": {
    "colab": {
     "base_uri": "https://localhost:8080/"
    },
    "id": "14WKyz3w61DI",
    "outputId": "529fecab-0d3b-4efc-9cab-b9e5a8ce5d9d"
   },
   "outputs": [
    {
     "data": {
      "text/plain": [
       "(500, 6)"
      ]
     },
     "execution_count": 32,
     "metadata": {},
     "output_type": "execute_result"
    }
   ],
   "source": [
    "tabela_q.shape"
   ]
  },
  {
   "cell_type": "markdown",
   "metadata": {
    "id": "CeD6Mkl86VL1"
   },
   "source": [
    "**TREINAMENTO DO ALGORITMO**"
   ]
  },
  {
   "cell_type": "code",
   "execution_count": 51,
   "metadata": {
    "colab": {
     "base_uri": "https://localhost:8080/"
    },
    "id": "VUwTuTxgFOU6",
    "outputId": "de962e76-ed64-4c23-8602-866cdbd7b9a4"
   },
   "outputs": [
    {
     "name": "stdout",
     "output_type": "stream",
     "text": [
      "Episódios: 200000\n",
      "Treinamento terminado.\n",
      "\n"
     ]
    }
   ],
   "source": [
    "# Não existem valores \"certos\" ou \"errados\", é por tentativa e erro.\n",
    "alpha = 0.1\n",
    "gamma = 0.6\n",
    "epsilon = 0.1 # Determina a chance do agente tomar uma ação aleatória, nesse caso a chance é de 10%\n",
    "\n",
    "for i in range(1, 200001):\n",
    "    estado = env.reset()\n",
    "    estado = estado[0]\n",
    "\n",
    "    episodios, penalidades, recompensa = 0, 0, 0\n",
    "    terminado = False\n",
    "\n",
    "    while not terminado:\n",
    "        if random.uniform(0, 1) < epsilon: # Decidindo se será tomada uma ação aleatória ou se seguirá a política da tabela-q\n",
    "            acao = env.action_space.sample()\n",
    "        else:\n",
    "            acao = np.argmax(tabela_q[estado])\n",
    "\n",
    "        proximo_estado, recompensa, terminado, info, _ = env.step(acao)\n",
    "\n",
    "        valor_antigo = tabela_q[estado, acao]\n",
    "        proximo_max = np.max(tabela_q[proximo_estado])\n",
    "\n",
    "        # Atualizando o valor de q a partir da equação de Bellman\n",
    "        valor_novo = (1 - alpha) * valor_antigo + alpha * (recompensa + gamma * proximo_max)\n",
    "        tabela_q[estado, acao] = valor_novo # Colocando este valor na tabela-q\n",
    "\n",
    "        if recompensa == -10: # Contabilizando os embarques/desembarques errados\n",
    "            penalidades += 1\n",
    "\n",
    "        estado = proximo_estado\n",
    "        episodios += 1\n",
    "\n",
    "    if i % 100 == 0:\n",
    "        clear_output(wait=True)\n",
    "        print(f\"Episódios: {i}\")\n",
    "\n",
    "print(\"Treinamento terminado.\\n\")"
   ]
  },
  {
   "cell_type": "markdown",
   "metadata": {
    "id": "XRvVzvzL6k8U"
   },
   "source": [
    "**AVALIAÇÃO DO ALGORITMO**"
   ]
  },
  {
   "cell_type": "code",
   "execution_count": 63,
   "metadata": {
    "colab": {
     "base_uri": "https://localhost:8080/"
    },
    "id": "Hl4PZe4Q1M0i",
    "outputId": "3674634d-308f-43e4-df59-29b61ee59562"
   },
   "outputs": [
    {
     "ename": "AssertionError",
     "evalue": "Something went wrong with pygame. This should never happen.",
     "output_type": "error",
     "traceback": [
      "\u001b[0;31m---------------------------------------------------------------------------\u001b[0m",
      "\u001b[0;31mAssertionError\u001b[0m                            Traceback (most recent call last)",
      "Cell \u001b[0;32mIn[63], line 17\u001b[0m\n\u001b[1;32m     13\u001b[0m         \u001b[38;5;28;01mif\u001b[39;00m recompensa \u001b[38;5;241m==\u001b[39m \u001b[38;5;241m-\u001b[39m\u001b[38;5;241m10\u001b[39m:\n\u001b[1;32m     14\u001b[0m             penalidades \u001b[38;5;241m+\u001b[39m\u001b[38;5;241m=\u001b[39m \u001b[38;5;241m1\u001b[39m\n\u001b[1;32m     16\u001b[0m         frames\u001b[38;5;241m.\u001b[39mappend({\n\u001b[0;32m---> 17\u001b[0m             \u001b[38;5;124m'\u001b[39m\u001b[38;5;124mframe\u001b[39m\u001b[38;5;124m'\u001b[39m: env\u001b[38;5;241m.\u001b[39mrender(),\n\u001b[1;32m     18\u001b[0m             \u001b[38;5;124m'\u001b[39m\u001b[38;5;124mstate\u001b[39m\u001b[38;5;124m'\u001b[39m: estado,\n\u001b[1;32m     19\u001b[0m             \u001b[38;5;124m'\u001b[39m\u001b[38;5;124maction\u001b[39m\u001b[38;5;124m'\u001b[39m: acao,\n\u001b[1;32m     20\u001b[0m             \u001b[38;5;124m'\u001b[39m\u001b[38;5;124mreward\u001b[39m\u001b[38;5;124m'\u001b[39m: recompensa,\n\u001b[1;32m     21\u001b[0m         })\n\u001b[1;32m     23\u001b[0m         total_penalidades \u001b[38;5;241m+\u001b[39m\u001b[38;5;241m=\u001b[39m penalidades\n\u001b[1;32m     25\u001b[0m \u001b[38;5;28mprint\u001b[39m(\u001b[38;5;124m'\u001b[39m\u001b[38;5;124mEpisódios\u001b[39m\u001b[38;5;124m'\u001b[39m, episodios)\n",
      "File \u001b[0;32m~/anaconda3/lib/python3.11/site-packages/gym/wrappers/order_enforcing.py:51\u001b[0m, in \u001b[0;36mOrderEnforcing.render\u001b[0;34m(self, *args, **kwargs)\u001b[0m\n\u001b[1;32m     46\u001b[0m \u001b[38;5;28;01mif\u001b[39;00m \u001b[38;5;129;01mnot\u001b[39;00m \u001b[38;5;28mself\u001b[39m\u001b[38;5;241m.\u001b[39m_disable_render_order_enforcing \u001b[38;5;129;01mand\u001b[39;00m \u001b[38;5;129;01mnot\u001b[39;00m \u001b[38;5;28mself\u001b[39m\u001b[38;5;241m.\u001b[39m_has_reset:\n\u001b[1;32m     47\u001b[0m     \u001b[38;5;28;01mraise\u001b[39;00m ResetNeeded(\n\u001b[1;32m     48\u001b[0m         \u001b[38;5;124m\"\u001b[39m\u001b[38;5;124mCannot call `env.render()` before calling `env.reset()`, if this is a intended action, \u001b[39m\u001b[38;5;124m\"\u001b[39m\n\u001b[1;32m     49\u001b[0m         \u001b[38;5;124m\"\u001b[39m\u001b[38;5;124mset `disable_render_order_enforcing=True` on the OrderEnforcer wrapper.\u001b[39m\u001b[38;5;124m\"\u001b[39m\n\u001b[1;32m     50\u001b[0m     )\n\u001b[0;32m---> 51\u001b[0m \u001b[38;5;28;01mreturn\u001b[39;00m \u001b[38;5;28mself\u001b[39m\u001b[38;5;241m.\u001b[39menv\u001b[38;5;241m.\u001b[39mrender(\u001b[38;5;241m*\u001b[39margs, \u001b[38;5;241m*\u001b[39m\u001b[38;5;241m*\u001b[39mkwargs)\n",
      "File \u001b[0;32m~/anaconda3/lib/python3.11/site-packages/gym/wrappers/env_checker.py:55\u001b[0m, in \u001b[0;36mPassiveEnvChecker.render\u001b[0;34m(self, *args, **kwargs)\u001b[0m\n\u001b[1;32m     53\u001b[0m     \u001b[38;5;28;01mreturn\u001b[39;00m env_render_passive_checker(\u001b[38;5;28mself\u001b[39m\u001b[38;5;241m.\u001b[39menv, \u001b[38;5;241m*\u001b[39margs, \u001b[38;5;241m*\u001b[39m\u001b[38;5;241m*\u001b[39mkwargs)\n\u001b[1;32m     54\u001b[0m \u001b[38;5;28;01melse\u001b[39;00m:\n\u001b[0;32m---> 55\u001b[0m     \u001b[38;5;28;01mreturn\u001b[39;00m \u001b[38;5;28mself\u001b[39m\u001b[38;5;241m.\u001b[39menv\u001b[38;5;241m.\u001b[39mrender(\u001b[38;5;241m*\u001b[39margs, \u001b[38;5;241m*\u001b[39m\u001b[38;5;241m*\u001b[39mkwargs)\n",
      "File \u001b[0;32m~/anaconda3/lib/python3.11/site-packages/gym/envs/toy_text/taxi.py:290\u001b[0m, in \u001b[0;36mTaxiEnv.render\u001b[0;34m(self)\u001b[0m\n\u001b[1;32m    288\u001b[0m     \u001b[38;5;28;01mreturn\u001b[39;00m \u001b[38;5;28mself\u001b[39m\u001b[38;5;241m.\u001b[39m_render_text()\n\u001b[1;32m    289\u001b[0m \u001b[38;5;28;01melse\u001b[39;00m:  \u001b[38;5;66;03m# self.render_mode in {\"human\", \"rgb_array\"}:\u001b[39;00m\n\u001b[0;32m--> 290\u001b[0m     \u001b[38;5;28;01mreturn\u001b[39;00m \u001b[38;5;28mself\u001b[39m\u001b[38;5;241m.\u001b[39m_render_gui(\u001b[38;5;28mself\u001b[39m\u001b[38;5;241m.\u001b[39mrender_mode)\n",
      "File \u001b[0;32m~/anaconda3/lib/python3.11/site-packages/gym/envs/toy_text/taxi.py:309\u001b[0m, in \u001b[0;36mTaxiEnv._render_gui\u001b[0;34m(self, mode)\u001b[0m\n\u001b[1;32m    305\u001b[0m     \u001b[38;5;28;01melif\u001b[39;00m mode \u001b[38;5;241m==\u001b[39m \u001b[38;5;124m\"\u001b[39m\u001b[38;5;124mrgb_array\u001b[39m\u001b[38;5;124m\"\u001b[39m:\n\u001b[1;32m    306\u001b[0m         \u001b[38;5;28mself\u001b[39m\u001b[38;5;241m.\u001b[39mwindow \u001b[38;5;241m=\u001b[39m pygame\u001b[38;5;241m.\u001b[39mSurface(WINDOW_SIZE)\n\u001b[1;32m    308\u001b[0m \u001b[38;5;28;01massert\u001b[39;00m (\n\u001b[0;32m--> 309\u001b[0m     \u001b[38;5;28mself\u001b[39m\u001b[38;5;241m.\u001b[39mwindow \u001b[38;5;129;01mis\u001b[39;00m \u001b[38;5;129;01mnot\u001b[39;00m \u001b[38;5;28;01mNone\u001b[39;00m\n\u001b[1;32m    310\u001b[0m ), \u001b[38;5;124m\"\u001b[39m\u001b[38;5;124mSomething went wrong with pygame. This should never happen.\u001b[39m\u001b[38;5;124m\"\u001b[39m\n\u001b[1;32m    311\u001b[0m \u001b[38;5;28;01mif\u001b[39;00m \u001b[38;5;28mself\u001b[39m\u001b[38;5;241m.\u001b[39mclock \u001b[38;5;129;01mis\u001b[39;00m \u001b[38;5;28;01mNone\u001b[39;00m:\n\u001b[1;32m    312\u001b[0m     \u001b[38;5;28mself\u001b[39m\u001b[38;5;241m.\u001b[39mclock \u001b[38;5;241m=\u001b[39m pygame\u001b[38;5;241m.\u001b[39mtime\u001b[38;5;241m.\u001b[39mClock()\n",
      "\u001b[0;31mAssertionError\u001b[0m: Something went wrong with pygame. This should never happen."
     ]
    }
   ],
   "source": [
    "total_penalidades = 0\n",
    "episodios = 100\n",
    "frames = []\n",
    "\n",
    "for i in range(episodios):\n",
    "    estado = env.reset()\n",
    "    estado = estado[0]\n",
    "    penalidades, recompensa = 0, 0\n",
    "    done = False\n",
    "    while not done:\n",
    "        acao = np.argmax(tabela_q[estado])\n",
    "        estado, recompensa, done, info, _ = env.step(acao) \n",
    "        if recompensa == -10:\n",
    "            penalidades += 1\n",
    "        \n",
    "        frames.append({\n",
    "            'frame': env.render(),\n",
    "            'state': estado,\n",
    "            'action': acao,\n",
    "            'reward': recompensa,\n",
    "        })\n",
    "        \n",
    "        total_penalidades += penalidades\n",
    "\n",
    "print('Episódios', episodios)\n",
    "print('Penalidades', total_penalidades)\n"
   ]
  },
  {
   "cell_type": "code",
   "execution_count": 65,
   "metadata": {
    "colab": {
     "base_uri": "https://localhost:8080/"
    },
    "id": "8ZU5Kh861xvp",
    "outputId": "f752cbd5-70ee-4303-f8e8-79675e92e979"
   },
   "outputs": [],
   "source": [
    "from time import sleep\n",
    "for frame in frames:\n",
    "  clear_output(wait=True)\n",
    "  print(frame['frame'])\n",
    "  print('Estado', frame['state'])\n",
    "  print('Ação', frame['action'])\n",
    "  print('Recompensa', frame['reward'])\n",
    "  sleep(.2)"
   ]
  },
  {
   "cell_type": "code",
   "execution_count": null,
   "metadata": {},
   "outputs": [],
   "source": []
  }
 ],
 "metadata": {
  "colab": {
   "provenance": []
  },
  "kernelspec": {
   "display_name": "Python 3 (ipykernel)",
   "language": "python",
   "name": "python3"
  },
  "language_info": {
   "codemirror_mode": {
    "name": "ipython",
    "version": 3
   },
   "file_extension": ".py",
   "mimetype": "text/x-python",
   "name": "python",
   "nbconvert_exporter": "python",
   "pygments_lexer": "ipython3",
   "version": "3.11.7"
  }
 },
 "nbformat": 4,
 "nbformat_minor": 4
}
