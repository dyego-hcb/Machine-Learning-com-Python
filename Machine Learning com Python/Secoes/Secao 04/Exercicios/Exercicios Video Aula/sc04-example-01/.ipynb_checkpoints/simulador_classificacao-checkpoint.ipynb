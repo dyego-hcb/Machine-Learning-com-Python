{
  "nbformat": 4,
  "nbformat_minor": 0,
  "metadata": {
    "colab": {
      "name": "simulador_classificacao.ipynb",
      "provenance": []
    },
    "kernelspec": {
      "name": "python3",
      "display_name": "Python 3"
    },
    "language_info": {
      "name": "python"
    }
  },
  "cells": [
    {
      "cell_type": "markdown",
      "metadata": {
        "id": "fQJ5CYV9Te0X"
      },
      "source": [
        "# **COMO ESTÁ MEU CORAÇÃO?**"
      ]
    },
    {
      "cell_type": "markdown",
      "metadata": {
        "id": "kXFCCsVHTtTP"
      },
      "source": [
        "Este algoritmo realiza a previsão de uma pessoa ter a tendência de desenvolver algum tipo de doença cardíaca com base em alguns fatores clínicos e laboratoriais. "
      ]
    },
    {
      "cell_type": "markdown",
      "source": [
        "**Abertura dos atributos previsores e alvo**"
      ],
      "metadata": {
        "id": "zF4ZZ2IaMarJ"
      }
    },
    {
      "cell_type": "code",
      "source": [
        "import pandas as pd\n",
        "import numpy as np"
      ],
      "metadata": {
        "id": "WB8AihEHE-SO"
      },
      "execution_count": 1,
      "outputs": []
    },
    {
      "cell_type": "code",
      "source": [
        "previsores = pd.read_csv('/content/previsores.csv',header=None)"
      ],
      "metadata": {
        "id": "OgOCU0-ZE5JW"
      },
      "execution_count": 2,
      "outputs": []
    },
    {
      "cell_type": "code",
      "source": [
        "previsores"
      ],
      "metadata": {
        "id": "OT_O9kmLiC3r",
        "colab": {
          "base_uri": "https://localhost:8080/"
        },
        "outputId": "0953e4ec-9fda-4e5b-d1d5-90d29c6c0890"
      },
      "execution_count": 6,
      "outputs": [
        {
          "output_type": "execute_result",
          "data": {
            "text/plain": [
              "array([[40. ,  0. ,  1. , ...,  0. ,  0. ,  0. ],\n",
              "       [49. ,  1. ,  2. , ...,  0. ,  1. ,  1. ],\n",
              "       [37. ,  0. ,  1. , ...,  0. ,  0. ,  0. ],\n",
              "       ...,\n",
              "       [57. ,  0. ,  3. , ...,  1. ,  1.2,  1. ],\n",
              "       [57. ,  1. ,  1. , ...,  0. ,  0. ,  1. ],\n",
              "       [38. ,  0. ,  2. , ...,  0. ,  0. ,  0. ]])"
            ]
          },
          "metadata": {},
          "execution_count": 6
        }
      ]
    },
    {
      "cell_type": "code",
      "source": [
        "previsores = previsores.values"
      ],
      "metadata": {
        "id": "98RdIzv6GAdC"
      },
      "execution_count": 5,
      "outputs": []
    },
    {
      "cell_type": "code",
      "source": [
        "alvo = pd.read_csv('/content/alvo.csv',header=None)"
      ],
      "metadata": {
        "id": "tu5Mpu8gG3Bw"
      },
      "execution_count": 7,
      "outputs": []
    },
    {
      "cell_type": "code",
      "source": [
        "alvo"
      ],
      "metadata": {
        "id": "U2HIYfy4G63G"
      },
      "execution_count": null,
      "outputs": []
    },
    {
      "cell_type": "code",
      "source": [
        "alvo = alvo.iloc[:, 0].values"
      ],
      "metadata": {
        "id": "RT7WpC3XG9Dt"
      },
      "execution_count": 9,
      "outputs": []
    },
    {
      "cell_type": "markdown",
      "source": [
        "**Carregando o Classificador XGBoost**"
      ],
      "metadata": {
        "id": "jH3OocboSGXH"
      }
    },
    {
      "cell_type": "code",
      "source": [
        "from xgboost import XGBClassifier\n",
        "xg = XGBClassifier(max_depth=2, learning_rate=0.05, n_estimators=250, objective='binary:logistic', random_state=3)\n",
        "xg.fit(previsores,alvo)"
      ],
      "metadata": {
        "id": "jyOMVARbQmLa",
        "colab": {
          "base_uri": "https://localhost:8080/"
        },
        "outputId": "c61a3cc5-d58b-44f3-aec7-b4c7911ce860"
      },
      "execution_count": 11,
      "outputs": [
        {
          "output_type": "execute_result",
          "data": {
            "text/plain": [
              "XGBClassifier(learning_rate=0.05, max_depth=2, n_estimators=250, random_state=3)"
            ]
          },
          "metadata": {},
          "execution_count": 11
        }
      ]
    },
    {
      "cell_type": "markdown",
      "source": [
        "**Simulação de Novos Pacientes**"
      ],
      "metadata": {
        "id": "NGzVZVzkMzqv"
      }
    },
    {
      "cell_type": "markdown",
      "source": [
        "**LEGENDA**"
      ],
      "metadata": {
        "id": "AA8ZlBGOR5CI"
      }
    },
    {
      "cell_type": "markdown",
      "source": [
        "Age = idade (anos)\n",
        "\n",
        "Sex = sexo (0=M; 1=F)\n",
        "\n",
        "Chest Pain Type = tipo de dor no peito (0=TA:angina típica; 1=ATA:angina atípica; 2=NAP:dor não anginosa; 3=ASY:assintomático)\n",
        "\n",
        "Resting BP = pressão sanguínea em repouso (mmHg)\n",
        "\n",
        "Cholesterol = colesterol sérico (mg/dl)\n",
        "\n",
        "Fasting BS = açúcar no sangue em jejum (mg/dl)\n",
        "          0: Fasting BS < 120 mg/dl (não diabético)\n",
        "          1: Fasting BS >= 120 mg/dl, (diabético)\n",
        "\n",
        "Resting ECG = eletrocardiograma em repouso (0=Normal; 1=ST:Anormalidade da onda ST-T; 2=LVH: Hipertrofia ventricular esquerda)\n",
        "\n",
        "Max HR = frequência cardíaca máxima\n",
        "\n",
        "Exercise Angina = Angina induzida por exercício (0=Não; 1=Sim)\n",
        "\n",
        "Old Peak = Depressão de ST induzida por exercício em relação ao repouso\n",
        "\n",
        "ST_Slope = Inclinação do segmento ST (0=UP; 1=Flat; 2=Down)\n",
        "\n",
        "Heart Disease = Doença cardíaca (0=Não possui doença cardíaca; 1=Possui doença cardíaca)\n",
        "\n"
      ],
      "metadata": {
        "id": "U-7-8IJ_R5CK"
      }
    },
    {
      "cell_type": "code",
      "source": [
        "paciente1 = [40, 0, 1, 140, 289, 0, 0, 172, 0, 0, 0]"
      ],
      "metadata": {
        "id": "FADe0cwCTRPq"
      },
      "execution_count": 12,
      "outputs": []
    },
    {
      "cell_type": "code",
      "source": [
        "paciente2 = [48, 1, 3, 138, 214, 0, 0, 108, 1, 1.5, 1]"
      ],
      "metadata": {
        "id": "kVjsN4BEXFX4"
      },
      "execution_count": 15,
      "outputs": []
    },
    {
      "cell_type": "code",
      "source": [
        "resultado = xg.predict(paciente2)\n",
        "\n",
        "if resultado == 1:\n",
        "  print('O paciente POSSUI tendência de problemas cardíacos')\n",
        "else:\n",
        "  print('O paciente NÃO POSSUI tendência de problemas cardíacos')"
      ],
      "metadata": {
        "id": "kJmB8SXXUil3",
        "colab": {
          "base_uri": "https://localhost:8080/"
        },
        "outputId": "ebb260a8-1249-4662-ce92-f8fb8e672a6b"
      },
      "execution_count": 16,
      "outputs": [
        {
          "output_type": "stream",
          "name": "stdout",
          "text": [
            "O paciente POSSUI tendência de problemas cardíacos\n"
          ]
        }
      ]
    }
  ]
}