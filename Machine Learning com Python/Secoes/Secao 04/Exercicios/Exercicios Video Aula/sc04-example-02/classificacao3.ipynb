{
 "cells": [
  {
   "cell_type": "markdown",
   "metadata": {
    "id": "fQJ5CYV9Te0X"
   },
   "source": [
    "# **APRENDIZAGEM SUPERVISIONADA: CLASSIFICAÇÃO**"
   ]
  },
  {
   "cell_type": "markdown",
   "metadata": {
    "id": "kXFCCsVHTtTP"
   },
   "source": [
    "Este projeto tem por objetivo desenvolver um algoritmo de Machine Learning para prever a tendência de uma pessoa desenvolver algum tipo de doença cardíaca com base em alguns fatores clínicos e laboratoriais."
   ]
  },
  {
   "cell_type": "markdown",
   "metadata": {
    "id": "5ZQ2nYhQUc3G"
   },
   "source": [
    "Os dados foram extraídos do site do Kaggle:\n",
    "\n",
    "https://www.kaggle.com/fedesoriano/heart-failure-prediction/version/1"
   ]
  },
  {
   "cell_type": "markdown",
   "metadata": {
    "id": "gczjMn0YIb6s"
   },
   "source": [
    "# **PRÉ-PROCESSAMENTO**"
   ]
  },
  {
   "cell_type": "code",
   "execution_count": 6,
   "metadata": {
    "executionInfo": {
     "elapsed": 3,
     "status": "ok",
     "timestamp": 1689263486766,
     "user": {
      "displayName": "Luciano Galdino",
      "userId": "10237697037323960148"
     },
     "user_tz": 180
    },
    "id": "nWvIcticlCs2"
   },
   "outputs": [],
   "source": [
    "import numpy as np\n",
    "import pandas as pd"
   ]
  },
  {
   "cell_type": "code",
   "execution_count": 7,
   "metadata": {
    "executionInfo": {
     "elapsed": 78,
     "status": "ok",
     "timestamp": 1689263487785,
     "user": {
      "displayName": "Luciano Galdino",
      "userId": "10237697037323960148"
     },
     "user_tz": 180
    },
    "id": "LRIrwcC8kUhT"
   },
   "outputs": [],
   "source": [
    "df = pd.read_csv('heart_tratado.csv',\n",
    "                    sep=';', encoding='utf-8')"
   ]
  },
  {
   "cell_type": "code",
   "execution_count": 8,
   "metadata": {
    "colab": {
     "base_uri": "https://localhost:8080/",
     "height": 0
    },
    "executionInfo": {
     "elapsed": 77,
     "status": "ok",
     "timestamp": 1689263487786,
     "user": {
      "displayName": "Luciano Galdino",
      "userId": "10237697037323960148"
     },
     "user_tz": 180
    },
    "id": "QtugliripIyp",
    "outputId": "bc5ce496-7bce-45a9-c16d-4b917236b3ec"
   },
   "outputs": [
    {
     "data": {
      "text/html": [
       "<div>\n",
       "<style scoped>\n",
       "    .dataframe tbody tr th:only-of-type {\n",
       "        vertical-align: middle;\n",
       "    }\n",
       "\n",
       "    .dataframe tbody tr th {\n",
       "        vertical-align: top;\n",
       "    }\n",
       "\n",
       "    .dataframe thead th {\n",
       "        text-align: right;\n",
       "    }\n",
       "</style>\n",
       "<table border=\"1\" class=\"dataframe\">\n",
       "  <thead>\n",
       "    <tr style=\"text-align: right;\">\n",
       "      <th></th>\n",
       "      <th>Age</th>\n",
       "      <th>Sex</th>\n",
       "      <th>ChestPainType</th>\n",
       "      <th>RestingBP</th>\n",
       "      <th>Cholesterol</th>\n",
       "      <th>FastingBS</th>\n",
       "      <th>RestingECG</th>\n",
       "      <th>MaxHR</th>\n",
       "      <th>ExerciseAngina</th>\n",
       "      <th>Oldpeak</th>\n",
       "      <th>ST_Slope</th>\n",
       "      <th>HeartDisease</th>\n",
       "    </tr>\n",
       "  </thead>\n",
       "  <tbody>\n",
       "    <tr>\n",
       "      <th>0</th>\n",
       "      <td>40</td>\n",
       "      <td>M</td>\n",
       "      <td>ATA</td>\n",
       "      <td>140</td>\n",
       "      <td>289.0</td>\n",
       "      <td>0</td>\n",
       "      <td>Normal</td>\n",
       "      <td>172</td>\n",
       "      <td>N</td>\n",
       "      <td>0.0</td>\n",
       "      <td>Up</td>\n",
       "      <td>0</td>\n",
       "    </tr>\n",
       "    <tr>\n",
       "      <th>1</th>\n",
       "      <td>49</td>\n",
       "      <td>F</td>\n",
       "      <td>NAP</td>\n",
       "      <td>160</td>\n",
       "      <td>180.0</td>\n",
       "      <td>0</td>\n",
       "      <td>Normal</td>\n",
       "      <td>156</td>\n",
       "      <td>N</td>\n",
       "      <td>1.0</td>\n",
       "      <td>Flat</td>\n",
       "      <td>1</td>\n",
       "    </tr>\n",
       "    <tr>\n",
       "      <th>2</th>\n",
       "      <td>37</td>\n",
       "      <td>M</td>\n",
       "      <td>ATA</td>\n",
       "      <td>130</td>\n",
       "      <td>283.0</td>\n",
       "      <td>0</td>\n",
       "      <td>ST</td>\n",
       "      <td>98</td>\n",
       "      <td>N</td>\n",
       "      <td>0.0</td>\n",
       "      <td>Up</td>\n",
       "      <td>0</td>\n",
       "    </tr>\n",
       "    <tr>\n",
       "      <th>3</th>\n",
       "      <td>48</td>\n",
       "      <td>F</td>\n",
       "      <td>ASY</td>\n",
       "      <td>138</td>\n",
       "      <td>214.0</td>\n",
       "      <td>0</td>\n",
       "      <td>Normal</td>\n",
       "      <td>108</td>\n",
       "      <td>Y</td>\n",
       "      <td>1.5</td>\n",
       "      <td>Flat</td>\n",
       "      <td>1</td>\n",
       "    </tr>\n",
       "    <tr>\n",
       "      <th>4</th>\n",
       "      <td>54</td>\n",
       "      <td>M</td>\n",
       "      <td>NAP</td>\n",
       "      <td>150</td>\n",
       "      <td>195.0</td>\n",
       "      <td>0</td>\n",
       "      <td>Normal</td>\n",
       "      <td>122</td>\n",
       "      <td>N</td>\n",
       "      <td>0.0</td>\n",
       "      <td>Up</td>\n",
       "      <td>0</td>\n",
       "    </tr>\n",
       "  </tbody>\n",
       "</table>\n",
       "</div>"
      ],
      "text/plain": [
       "   Age Sex ChestPainType  RestingBP  Cholesterol  FastingBS RestingECG  MaxHR  \\\n",
       "0   40   M           ATA        140        289.0          0     Normal    172   \n",
       "1   49   F           NAP        160        180.0          0     Normal    156   \n",
       "2   37   M           ATA        130        283.0          0         ST     98   \n",
       "3   48   F           ASY        138        214.0          0     Normal    108   \n",
       "4   54   M           NAP        150        195.0          0     Normal    122   \n",
       "\n",
       "  ExerciseAngina  Oldpeak ST_Slope  HeartDisease  \n",
       "0              N      0.0       Up             0  \n",
       "1              N      1.0     Flat             1  \n",
       "2              N      0.0       Up             0  \n",
       "3              Y      1.5     Flat             1  \n",
       "4              N      0.0       Up             0  "
      ]
     },
     "execution_count": 8,
     "metadata": {},
     "output_type": "execute_result"
    }
   ],
   "source": [
    "df.head()"
   ]
  },
  {
   "cell_type": "code",
   "execution_count": 9,
   "metadata": {
    "colab": {
     "base_uri": "https://localhost:8080/"
    },
    "executionInfo": {
     "elapsed": 74,
     "status": "ok",
     "timestamp": 1689263487787,
     "user": {
      "displayName": "Luciano Galdino",
      "userId": "10237697037323960148"
     },
     "user_tz": 180
    },
    "id": "NSH5-od1gRAU",
    "outputId": "bb1e364d-266c-45dd-f173-02c0f3ea8e2b"
   },
   "outputs": [
    {
     "data": {
      "text/plain": [
       "(917, 12)"
      ]
     },
     "execution_count": 9,
     "metadata": {},
     "output_type": "execute_result"
    }
   ],
   "source": [
    "df.shape"
   ]
  },
  {
   "cell_type": "code",
   "execution_count": 10,
   "metadata": {
    "colab": {
     "base_uri": "https://localhost:8080/"
    },
    "executionInfo": {
     "elapsed": 72,
     "status": "ok",
     "timestamp": 1689263487788,
     "user": {
      "displayName": "Luciano Galdino",
      "userId": "10237697037323960148"
     },
     "user_tz": 180
    },
    "id": "4B4dlBwKvN_A",
    "outputId": "ccd91da7-ae14-4e0c-aaae-f706e0988508"
   },
   "outputs": [
    {
     "data": {
      "text/plain": [
       "Age                 int64\n",
       "Sex                object\n",
       "ChestPainType      object\n",
       "RestingBP           int64\n",
       "Cholesterol       float64\n",
       "FastingBS           int64\n",
       "RestingECG         object\n",
       "MaxHR               int64\n",
       "ExerciseAngina     object\n",
       "Oldpeak           float64\n",
       "ST_Slope           object\n",
       "HeartDisease        int64\n",
       "dtype: object"
      ]
     },
     "execution_count": 10,
     "metadata": {},
     "output_type": "execute_result"
    }
   ],
   "source": [
    "df.dtypes"
   ]
  },
  {
   "cell_type": "markdown",
   "metadata": {
    "id": "a-DfpMtio-sq"
   },
   "source": [
    "## **Transformando as variáveis categóricas nominais em variáveis categóricas ordinais**"
   ]
  },
  {
   "cell_type": "code",
   "execution_count": 11,
   "metadata": {
    "executionInfo": {
     "elapsed": 71,
     "status": "ok",
     "timestamp": 1689263487789,
     "user": {
      "displayName": "Luciano Galdino",
      "userId": "10237697037323960148"
     },
     "user_tz": 180
    },
    "id": "JntPfMmptEhg"
   },
   "outputs": [],
   "source": [
    "df2 = pd.DataFrame.copy(df)"
   ]
  },
  {
   "cell_type": "code",
   "execution_count": 12,
   "metadata": {
    "executionInfo": {
     "elapsed": 71,
     "status": "ok",
     "timestamp": 1689263487790,
     "user": {
      "displayName": "Luciano Galdino",
      "userId": "10237697037323960148"
     },
     "user_tz": 180
    },
    "id": "KUxPnNEhrsjL"
   },
   "outputs": [],
   "source": [
    "df2['Sex'].replace({'M':0, 'F': 1}, inplace=True)\n",
    "df2['ChestPainType'].replace({'TA':0, 'ATA': 1, 'NAP':2, 'ASY': 3}, inplace=True)\n",
    "df2['RestingECG'].replace({'Normal':0, 'ST': 1, 'LVH':2}, inplace=True)\n",
    "df2['ExerciseAngina'].replace({'N':0, 'Y': 1}, inplace=True)\n",
    "df2['ST_Slope'].replace({'Up':0, 'Flat': 1, 'Down':2}, inplace=True)"
   ]
  },
  {
   "cell_type": "code",
   "execution_count": 13,
   "metadata": {
    "colab": {
     "base_uri": "https://localhost:8080/",
     "height": 0
    },
    "executionInfo": {
     "elapsed": 71,
     "status": "ok",
     "timestamp": 1689263487791,
     "user": {
      "displayName": "Luciano Galdino",
      "userId": "10237697037323960148"
     },
     "user_tz": 180
    },
    "id": "1aTDlfUZpfJi",
    "outputId": "2a0ec0ae-3a61-404d-d938-fa98c7ac0200"
   },
   "outputs": [
    {
     "data": {
      "text/html": [
       "<div>\n",
       "<style scoped>\n",
       "    .dataframe tbody tr th:only-of-type {\n",
       "        vertical-align: middle;\n",
       "    }\n",
       "\n",
       "    .dataframe tbody tr th {\n",
       "        vertical-align: top;\n",
       "    }\n",
       "\n",
       "    .dataframe thead th {\n",
       "        text-align: right;\n",
       "    }\n",
       "</style>\n",
       "<table border=\"1\" class=\"dataframe\">\n",
       "  <thead>\n",
       "    <tr style=\"text-align: right;\">\n",
       "      <th></th>\n",
       "      <th>Age</th>\n",
       "      <th>Sex</th>\n",
       "      <th>ChestPainType</th>\n",
       "      <th>RestingBP</th>\n",
       "      <th>Cholesterol</th>\n",
       "      <th>FastingBS</th>\n",
       "      <th>RestingECG</th>\n",
       "      <th>MaxHR</th>\n",
       "      <th>ExerciseAngina</th>\n",
       "      <th>Oldpeak</th>\n",
       "      <th>ST_Slope</th>\n",
       "      <th>HeartDisease</th>\n",
       "    </tr>\n",
       "  </thead>\n",
       "  <tbody>\n",
       "    <tr>\n",
       "      <th>0</th>\n",
       "      <td>40</td>\n",
       "      <td>0</td>\n",
       "      <td>1</td>\n",
       "      <td>140</td>\n",
       "      <td>289.0</td>\n",
       "      <td>0</td>\n",
       "      <td>0</td>\n",
       "      <td>172</td>\n",
       "      <td>0</td>\n",
       "      <td>0.0</td>\n",
       "      <td>0</td>\n",
       "      <td>0</td>\n",
       "    </tr>\n",
       "    <tr>\n",
       "      <th>1</th>\n",
       "      <td>49</td>\n",
       "      <td>1</td>\n",
       "      <td>2</td>\n",
       "      <td>160</td>\n",
       "      <td>180.0</td>\n",
       "      <td>0</td>\n",
       "      <td>0</td>\n",
       "      <td>156</td>\n",
       "      <td>0</td>\n",
       "      <td>1.0</td>\n",
       "      <td>1</td>\n",
       "      <td>1</td>\n",
       "    </tr>\n",
       "    <tr>\n",
       "      <th>2</th>\n",
       "      <td>37</td>\n",
       "      <td>0</td>\n",
       "      <td>1</td>\n",
       "      <td>130</td>\n",
       "      <td>283.0</td>\n",
       "      <td>0</td>\n",
       "      <td>1</td>\n",
       "      <td>98</td>\n",
       "      <td>0</td>\n",
       "      <td>0.0</td>\n",
       "      <td>0</td>\n",
       "      <td>0</td>\n",
       "    </tr>\n",
       "    <tr>\n",
       "      <th>3</th>\n",
       "      <td>48</td>\n",
       "      <td>1</td>\n",
       "      <td>3</td>\n",
       "      <td>138</td>\n",
       "      <td>214.0</td>\n",
       "      <td>0</td>\n",
       "      <td>0</td>\n",
       "      <td>108</td>\n",
       "      <td>1</td>\n",
       "      <td>1.5</td>\n",
       "      <td>1</td>\n",
       "      <td>1</td>\n",
       "    </tr>\n",
       "    <tr>\n",
       "      <th>4</th>\n",
       "      <td>54</td>\n",
       "      <td>0</td>\n",
       "      <td>2</td>\n",
       "      <td>150</td>\n",
       "      <td>195.0</td>\n",
       "      <td>0</td>\n",
       "      <td>0</td>\n",
       "      <td>122</td>\n",
       "      <td>0</td>\n",
       "      <td>0.0</td>\n",
       "      <td>0</td>\n",
       "      <td>0</td>\n",
       "    </tr>\n",
       "  </tbody>\n",
       "</table>\n",
       "</div>"
      ],
      "text/plain": [
       "   Age  Sex  ChestPainType  RestingBP  Cholesterol  FastingBS  RestingECG  \\\n",
       "0   40    0              1        140        289.0          0           0   \n",
       "1   49    1              2        160        180.0          0           0   \n",
       "2   37    0              1        130        283.0          0           1   \n",
       "3   48    1              3        138        214.0          0           0   \n",
       "4   54    0              2        150        195.0          0           0   \n",
       "\n",
       "   MaxHR  ExerciseAngina  Oldpeak  ST_Slope  HeartDisease  \n",
       "0    172               0      0.0         0             0  \n",
       "1    156               0      1.0         1             1  \n",
       "2     98               0      0.0         0             0  \n",
       "3    108               1      1.5         1             1  \n",
       "4    122               0      0.0         0             0  "
      ]
     },
     "execution_count": 13,
     "metadata": {},
     "output_type": "execute_result"
    }
   ],
   "source": [
    "df2.head()"
   ]
  },
  {
   "cell_type": "code",
   "execution_count": 14,
   "metadata": {
    "colab": {
     "base_uri": "https://localhost:8080/"
    },
    "executionInfo": {
     "elapsed": 69,
     "status": "ok",
     "timestamp": 1689263487792,
     "user": {
      "displayName": "Luciano Galdino",
      "userId": "10237697037323960148"
     },
     "user_tz": 180
    },
    "id": "6kC-deH0giws",
    "outputId": "f633efe8-5844-4a7b-9609-15b1af6cca9b"
   },
   "outputs": [
    {
     "data": {
      "text/plain": [
       "Age                 int64\n",
       "Sex                 int64\n",
       "ChestPainType       int64\n",
       "RestingBP           int64\n",
       "Cholesterol       float64\n",
       "FastingBS           int64\n",
       "RestingECG          int64\n",
       "MaxHR               int64\n",
       "ExerciseAngina      int64\n",
       "Oldpeak           float64\n",
       "ST_Slope            int64\n",
       "HeartDisease        int64\n",
       "dtype: object"
      ]
     },
     "execution_count": 14,
     "metadata": {},
     "output_type": "execute_result"
    }
   ],
   "source": [
    "df2.dtypes"
   ]
  },
  {
   "cell_type": "code",
   "execution_count": 15,
   "metadata": {
    "colab": {
     "base_uri": "https://localhost:8080/"
    },
    "executionInfo": {
     "elapsed": 67,
     "status": "ok",
     "timestamp": 1689263487793,
     "user": {
      "displayName": "Luciano Galdino",
      "userId": "10237697037323960148"
     },
     "user_tz": 180
    },
    "id": "e3oELnDctqsq",
    "outputId": "ec89dc09-5cbe-4de4-b7f6-3dea18dff475"
   },
   "outputs": [
    {
     "data": {
      "text/plain": [
       "(917, 12)"
      ]
     },
     "execution_count": 15,
     "metadata": {},
     "output_type": "execute_result"
    }
   ],
   "source": [
    "df2.shape"
   ]
  },
  {
   "cell_type": "markdown",
   "metadata": {
    "id": "khuvnjo8ta5k"
   },
   "source": [
    "## **LEGENDA**"
   ]
  },
  {
   "cell_type": "markdown",
   "metadata": {
    "id": "9Kz8O68wpsY3"
   },
   "source": [
    "Age = idade (anos)\n",
    "\n",
    "Sex = sexo (0=M; 1=F)\n",
    "\n",
    "Chest Pain Type = tipo de dor no peito (0=TA:angina típica; 1=ATA:angina atípica; 2=NAP:dor não anginosa; 3=ASY:assintomático)\n",
    "\n",
    "Resting BP = pressão sanguínea em repouso (mmHg)\n",
    "\n",
    "Cholesterol = colesterol sérico (mg/dl)\n",
    "\n",
    "Fasting BS = açúcar no sangue em jejum (mg/dl)\n",
    "          0: Fasting BS < 120 mg/dl (não diabético)\n",
    "          1: Fasting BS >= 120 mg/dl, (diabético)\n",
    "\n",
    "Resting ECG = eletrocardiograma em repouso (0=Normal; 1=ST:Anormalidade da onda ST-T; 2=LVH: Hipertrofia ventricular esquerda)\n",
    "\n",
    "Max HR = frequência cardíaca máxima\n",
    "\n",
    "Exercise Angina = Angina induzida por exercício (0=Não; 1=Sim)\n",
    "\n",
    "Old Peak = Depressão de ST induzida por exercício em relação ao repouso\n",
    "\n",
    "ST_Slope = Inclinação do segmento ST (0=UP; 1=Flat; 2=Down)\n",
    "\n",
    "Heart Disease = Doença cardíaca (0=Não possui doença cardíaca; 1=Possui doença cardíaca)\n",
    "\n"
   ]
  },
  {
   "cell_type": "markdown",
   "metadata": {
    "id": "_NBxZCLzC8Bl"
   },
   "source": [
    "## **ATRIBUTOS PREVISORES E ALVO**"
   ]
  },
  {
   "cell_type": "code",
   "execution_count": 16,
   "metadata": {
    "colab": {
     "base_uri": "https://localhost:8080/",
     "height": 0
    },
    "executionInfo": {
     "elapsed": 66,
     "status": "ok",
     "timestamp": 1689263487794,
     "user": {
      "displayName": "Luciano Galdino",
      "userId": "10237697037323960148"
     },
     "user_tz": 180
    },
    "id": "eLzWunR78ozP",
    "outputId": "d7dd5d94-abe4-439a-a7ba-c5bebd28b143"
   },
   "outputs": [
    {
     "data": {
      "text/html": [
       "<div>\n",
       "<style scoped>\n",
       "    .dataframe tbody tr th:only-of-type {\n",
       "        vertical-align: middle;\n",
       "    }\n",
       "\n",
       "    .dataframe tbody tr th {\n",
       "        vertical-align: top;\n",
       "    }\n",
       "\n",
       "    .dataframe thead th {\n",
       "        text-align: right;\n",
       "    }\n",
       "</style>\n",
       "<table border=\"1\" class=\"dataframe\">\n",
       "  <thead>\n",
       "    <tr style=\"text-align: right;\">\n",
       "      <th></th>\n",
       "      <th>Age</th>\n",
       "      <th>Sex</th>\n",
       "      <th>ChestPainType</th>\n",
       "      <th>RestingBP</th>\n",
       "      <th>Cholesterol</th>\n",
       "      <th>FastingBS</th>\n",
       "      <th>RestingECG</th>\n",
       "      <th>MaxHR</th>\n",
       "      <th>ExerciseAngina</th>\n",
       "      <th>Oldpeak</th>\n",
       "      <th>ST_Slope</th>\n",
       "      <th>HeartDisease</th>\n",
       "    </tr>\n",
       "  </thead>\n",
       "  <tbody>\n",
       "    <tr>\n",
       "      <th>0</th>\n",
       "      <td>40</td>\n",
       "      <td>0</td>\n",
       "      <td>1</td>\n",
       "      <td>140</td>\n",
       "      <td>289.0</td>\n",
       "      <td>0</td>\n",
       "      <td>0</td>\n",
       "      <td>172</td>\n",
       "      <td>0</td>\n",
       "      <td>0.0</td>\n",
       "      <td>0</td>\n",
       "      <td>0</td>\n",
       "    </tr>\n",
       "    <tr>\n",
       "      <th>1</th>\n",
       "      <td>49</td>\n",
       "      <td>1</td>\n",
       "      <td>2</td>\n",
       "      <td>160</td>\n",
       "      <td>180.0</td>\n",
       "      <td>0</td>\n",
       "      <td>0</td>\n",
       "      <td>156</td>\n",
       "      <td>0</td>\n",
       "      <td>1.0</td>\n",
       "      <td>1</td>\n",
       "      <td>1</td>\n",
       "    </tr>\n",
       "    <tr>\n",
       "      <th>2</th>\n",
       "      <td>37</td>\n",
       "      <td>0</td>\n",
       "      <td>1</td>\n",
       "      <td>130</td>\n",
       "      <td>283.0</td>\n",
       "      <td>0</td>\n",
       "      <td>1</td>\n",
       "      <td>98</td>\n",
       "      <td>0</td>\n",
       "      <td>0.0</td>\n",
       "      <td>0</td>\n",
       "      <td>0</td>\n",
       "    </tr>\n",
       "    <tr>\n",
       "      <th>3</th>\n",
       "      <td>48</td>\n",
       "      <td>1</td>\n",
       "      <td>3</td>\n",
       "      <td>138</td>\n",
       "      <td>214.0</td>\n",
       "      <td>0</td>\n",
       "      <td>0</td>\n",
       "      <td>108</td>\n",
       "      <td>1</td>\n",
       "      <td>1.5</td>\n",
       "      <td>1</td>\n",
       "      <td>1</td>\n",
       "    </tr>\n",
       "    <tr>\n",
       "      <th>4</th>\n",
       "      <td>54</td>\n",
       "      <td>0</td>\n",
       "      <td>2</td>\n",
       "      <td>150</td>\n",
       "      <td>195.0</td>\n",
       "      <td>0</td>\n",
       "      <td>0</td>\n",
       "      <td>122</td>\n",
       "      <td>0</td>\n",
       "      <td>0.0</td>\n",
       "      <td>0</td>\n",
       "      <td>0</td>\n",
       "    </tr>\n",
       "  </tbody>\n",
       "</table>\n",
       "</div>"
      ],
      "text/plain": [
       "   Age  Sex  ChestPainType  RestingBP  Cholesterol  FastingBS  RestingECG  \\\n",
       "0   40    0              1        140        289.0          0           0   \n",
       "1   49    1              2        160        180.0          0           0   \n",
       "2   37    0              1        130        283.0          0           1   \n",
       "3   48    1              3        138        214.0          0           0   \n",
       "4   54    0              2        150        195.0          0           0   \n",
       "\n",
       "   MaxHR  ExerciseAngina  Oldpeak  ST_Slope  HeartDisease  \n",
       "0    172               0      0.0         0             0  \n",
       "1    156               0      1.0         1             1  \n",
       "2     98               0      0.0         0             0  \n",
       "3    108               1      1.5         1             1  \n",
       "4    122               0      0.0         0             0  "
      ]
     },
     "execution_count": 16,
     "metadata": {},
     "output_type": "execute_result"
    }
   ],
   "source": [
    "df2.head()"
   ]
  },
  {
   "cell_type": "code",
   "execution_count": 17,
   "metadata": {
    "executionInfo": {
     "elapsed": 65,
     "status": "ok",
     "timestamp": 1689263487795,
     "user": {
      "displayName": "Luciano Galdino",
      "userId": "10237697037323960148"
     },
     "user_tz": 180
    },
    "id": "alp9Gsx8z6f3"
   },
   "outputs": [],
   "source": [
    "previsores = df2.iloc[:, 0:11].values\n"
   ]
  },
  {
   "cell_type": "code",
   "execution_count": 18,
   "metadata": {
    "colab": {
     "base_uri": "https://localhost:8080/"
    },
    "executionInfo": {
     "elapsed": 66,
     "status": "ok",
     "timestamp": 1689263487797,
     "user": {
      "displayName": "Luciano Galdino",
      "userId": "10237697037323960148"
     },
     "user_tz": 180
    },
    "id": "ZJjs6cWq-9Bn",
    "outputId": "cb79db7d-fbe8-4b29-efe8-f50820576a62"
   },
   "outputs": [
    {
     "data": {
      "text/plain": [
       "array([[40. ,  0. ,  1. , ...,  0. ,  0. ,  0. ],\n",
       "       [49. ,  1. ,  2. , ...,  0. ,  1. ,  1. ],\n",
       "       [37. ,  0. ,  1. , ...,  0. ,  0. ,  0. ],\n",
       "       ...,\n",
       "       [57. ,  0. ,  3. , ...,  1. ,  1.2,  1. ],\n",
       "       [57. ,  1. ,  1. , ...,  0. ,  0. ,  1. ],\n",
       "       [38. ,  0. ,  2. , ...,  0. ,  0. ,  0. ]])"
      ]
     },
     "execution_count": 18,
     "metadata": {},
     "output_type": "execute_result"
    }
   ],
   "source": [
    "previsores"
   ]
  },
  {
   "cell_type": "code",
   "execution_count": 19,
   "metadata": {
    "colab": {
     "base_uri": "https://localhost:8080/"
    },
    "executionInfo": {
     "elapsed": 64,
     "status": "ok",
     "timestamp": 1689263487797,
     "user": {
      "displayName": "Luciano Galdino",
      "userId": "10237697037323960148"
     },
     "user_tz": 180
    },
    "id": "KrtsyKXXAxTL",
    "outputId": "409d0a66-7d23-4462-f88c-f351ae71557b"
   },
   "outputs": [
    {
     "data": {
      "text/plain": [
       "(917, 11)"
      ]
     },
     "execution_count": 19,
     "metadata": {},
     "output_type": "execute_result"
    }
   ],
   "source": [
    "previsores.shape"
   ]
  },
  {
   "cell_type": "code",
   "execution_count": 20,
   "metadata": {
    "executionInfo": {
     "elapsed": 64,
     "status": "ok",
     "timestamp": 1689263487799,
     "user": {
      "displayName": "Luciano Galdino",
      "userId": "10237697037323960148"
     },
     "user_tz": 180
    },
    "id": "wdXWRjHMBAFo"
   },
   "outputs": [],
   "source": [
    "alvo = df2.iloc[:, 11].values"
   ]
  },
  {
   "cell_type": "code",
   "execution_count": 21,
   "metadata": {
    "colab": {
     "base_uri": "https://localhost:8080/"
    },
    "executionInfo": {
     "elapsed": 64,
     "status": "ok",
     "timestamp": 1689263487800,
     "user": {
      "displayName": "Luciano Galdino",
      "userId": "10237697037323960148"
     },
     "user_tz": 180
    },
    "id": "wK163BWgBJg2",
    "outputId": "273ed284-7c25-4967-c3f4-f8db261dc236"
   },
   "outputs": [
    {
     "data": {
      "text/plain": [
       "array([0, 1, 0, 1, 0, 0, 0, 0, 1, 0, 0, 1, 0, 1, 0, 0, 1, 0, 1, 1, 0, 0,\n",
       "       0, 1, 0, 0, 0, 0, 0, 0, 1, 0, 1, 1, 0, 0, 1, 0, 0, 0, 0, 1, 0, 0,\n",
       "       1, 0, 0, 0, 0, 1, 1, 1, 0, 0, 0, 0, 1, 1, 0, 1, 0, 0, 0, 1, 0, 0,\n",
       "       0, 0, 1, 0, 1, 0, 1, 0, 1, 0, 1, 0, 0, 1, 0, 0, 1, 0, 1, 1, 1, 0,\n",
       "       1, 0, 0, 0, 0, 1, 0, 1, 0, 0, 0, 0, 1, 0, 1, 1, 1, 0, 0, 0, 0, 0,\n",
       "       0, 1, 0, 0, 0, 1, 1, 1, 0, 1, 1, 0, 0, 1, 0, 0, 0, 0, 0, 0, 0, 1,\n",
       "       1, 1, 0, 1, 0, 0, 1, 1, 1, 1, 1, 0, 1, 0, 0, 0, 0, 1, 0, 0, 0, 0,\n",
       "       0, 1, 1, 0, 1, 0, 1, 1, 0, 0, 0, 1, 1, 0, 0, 0, 0, 0, 0, 0, 1, 1,\n",
       "       1, 0, 0, 0, 1, 0, 1, 0, 0, 1, 0, 1, 0, 1, 0, 0, 0, 0, 0, 0, 0, 0,\n",
       "       1, 0, 0, 0, 0, 0, 0, 0, 0, 1, 0, 1, 1, 1, 0, 0, 1, 0, 1, 0, 0, 0,\n",
       "       1, 1, 0, 0, 0, 1, 0, 1, 0, 0, 0, 0, 0, 0, 0, 0, 1, 1, 1, 1, 0, 1,\n",
       "       1, 0, 1, 0, 1, 1, 1, 1, 1, 1, 0, 0, 1, 0, 0, 0, 0, 0, 0, 0, 1, 1,\n",
       "       1, 0, 1, 0, 1, 0, 0, 0, 1, 0, 0, 0, 1, 1, 0, 0, 0, 1, 0, 0, 0, 0,\n",
       "       0, 0, 0, 0, 0, 0, 0, 1, 1, 1, 1, 1, 1, 1, 1, 0, 1, 1, 1, 1, 1, 0,\n",
       "       1, 1, 0, 1, 1, 1, 0, 1, 1, 1, 1, 1, 1, 1, 1, 1, 1, 1, 0, 1, 1, 1,\n",
       "       1, 1, 0, 1, 1, 1, 0, 1, 1, 1, 1, 1, 1, 1, 1, 1, 1, 1, 1, 1, 1, 1,\n",
       "       1, 1, 1, 1, 1, 1, 1, 1, 1, 1, 1, 1, 0, 1, 1, 1, 1, 1, 1, 1, 1, 1,\n",
       "       1, 1, 1, 1, 1, 1, 1, 1, 1, 1, 1, 1, 1, 1, 1, 1, 1, 1, 1, 1, 1, 1,\n",
       "       1, 1, 1, 1, 1, 1, 1, 1, 1, 1, 1, 1, 1, 1, 1, 1, 1, 1, 1, 1, 1, 0,\n",
       "       1, 1, 0, 0, 1, 0, 1, 1, 0, 1, 1, 1, 1, 0, 1, 1, 0, 0, 1, 1, 1, 0,\n",
       "       1, 1, 1, 1, 1, 1, 1, 1, 1, 1, 1, 1, 0, 1, 0, 1, 1, 1, 0, 1, 1, 1,\n",
       "       0, 1, 0, 1, 0, 1, 0, 1, 1, 1, 1, 0, 1, 0, 1, 1, 1, 1, 1, 1, 1, 1,\n",
       "       1, 0, 1, 0, 1, 1, 1, 1, 1, 1, 1, 0, 1, 1, 1, 1, 1, 1, 0, 1, 1, 1,\n",
       "       0, 1, 1, 0, 1, 0, 1, 1, 0, 1, 1, 1, 1, 0, 1, 1, 1, 0, 0, 1, 0, 1,\n",
       "       1, 1, 1, 1, 1, 1, 1, 1, 1, 1, 0, 1, 1, 1, 1, 0, 0, 1, 1, 1, 0, 1,\n",
       "       0, 1, 1, 0, 1, 0, 1, 1, 1, 0, 0, 0, 1, 1, 1, 0, 1, 1, 1, 1, 1, 1,\n",
       "       1, 1, 1, 1, 1, 1, 1, 1, 1, 1, 0, 1, 1, 1, 0, 1, 1, 0, 0, 1, 1, 1,\n",
       "       1, 1, 0, 1, 1, 0, 1, 1, 1, 0, 0, 1, 1, 1, 1, 1, 0, 1, 0, 1, 1, 0,\n",
       "       1, 0, 0, 0, 1, 1, 1, 1, 0, 0, 0, 1, 0, 0, 1, 1, 0, 0, 1, 0, 0, 0,\n",
       "       0, 0, 0, 0, 1, 0, 1, 0, 0, 1, 1, 1, 1, 1, 0, 0, 1, 0, 0, 0, 1, 0,\n",
       "       1, 1, 1, 1, 1, 0, 0, 0, 0, 0, 1, 0, 1, 1, 0, 1, 0, 0, 0, 1, 0, 1,\n",
       "       0, 1, 1, 0, 0, 0, 0, 1, 0, 0, 0, 0, 1, 1, 1, 0, 0, 0, 0, 0, 0, 1,\n",
       "       0, 1, 1, 1, 1, 1, 0, 1, 0, 0, 0, 1, 0, 1, 1, 1, 0, 1, 1, 0, 1, 0,\n",
       "       1, 0, 0, 0, 1, 1, 0, 1, 1, 1, 1, 0, 0, 0, 1, 0, 0, 1, 1, 1, 0, 1,\n",
       "       0, 0, 0, 1, 0, 0, 1, 0, 1, 0, 1, 1, 1, 1, 1, 0, 0, 0, 0, 0, 0, 0,\n",
       "       1, 0, 0, 1, 1, 1, 0, 1, 0, 0, 0, 0, 0, 1, 0, 1, 1, 0, 0, 1, 1, 1,\n",
       "       1, 0, 0, 1, 1, 0, 0, 0, 1, 0, 0, 1, 0, 1, 0, 1, 0, 0, 0, 0, 0, 1,\n",
       "       0, 1, 1, 1, 1, 0, 0, 0, 1, 0, 1, 0, 0, 1, 0, 0, 0, 0, 0, 0, 1, 1,\n",
       "       0, 1, 0, 0, 1, 1, 0, 0, 1, 1, 0, 1, 0, 1, 0, 1, 0, 0, 1, 0, 0, 1,\n",
       "       0, 1, 1, 0, 1, 1, 1, 0, 1, 0, 0, 0, 0, 1, 1, 0, 0, 1, 1, 0, 1, 0,\n",
       "       0, 0, 0, 1, 0, 0, 1, 1, 1, 0, 0, 0, 1, 0, 1, 0, 1, 0, 1, 1, 1, 0,\n",
       "       0, 0, 1, 0, 1, 1, 1, 0, 1, 1, 1, 1, 1, 1, 0])"
      ]
     },
     "execution_count": 21,
     "metadata": {},
     "output_type": "execute_result"
    }
   ],
   "source": [
    "alvo"
   ]
  },
  {
   "cell_type": "code",
   "execution_count": 22,
   "metadata": {
    "colab": {
     "base_uri": "https://localhost:8080/"
    },
    "executionInfo": {
     "elapsed": 61,
     "status": "ok",
     "timestamp": 1689263487800,
     "user": {
      "displayName": "Luciano Galdino",
      "userId": "10237697037323960148"
     },
     "user_tz": 180
    },
    "id": "RoSOdYF3BaOf",
    "outputId": "da128653-d73b-44f7-94c7-1b9431450a7e"
   },
   "outputs": [
    {
     "data": {
      "text/plain": [
       "(917,)"
      ]
     },
     "execution_count": 22,
     "metadata": {},
     "output_type": "execute_result"
    }
   ],
   "source": [
    "alvo.shape"
   ]
  },
  {
   "cell_type": "markdown",
   "metadata": {
    "id": "Xw6d4rM0C9ZD"
   },
   "source": [
    "## **Análise das escalas dos atributos (Escalonamento)**"
   ]
  },
  {
   "cell_type": "code",
   "execution_count": 23,
   "metadata": {
    "colab": {
     "base_uri": "https://localhost:8080/",
     "height": 0
    },
    "executionInfo": {
     "elapsed": 60,
     "status": "ok",
     "timestamp": 1689263487801,
     "user": {
      "displayName": "Luciano Galdino",
      "userId": "10237697037323960148"
     },
     "user_tz": 180
    },
    "id": "JzYfrEIxDHIL",
    "outputId": "7a93609b-df0c-4ce2-851f-e3f866dedaad"
   },
   "outputs": [
    {
     "data": {
      "text/html": [
       "<div>\n",
       "<style scoped>\n",
       "    .dataframe tbody tr th:only-of-type {\n",
       "        vertical-align: middle;\n",
       "    }\n",
       "\n",
       "    .dataframe tbody tr th {\n",
       "        vertical-align: top;\n",
       "    }\n",
       "\n",
       "    .dataframe thead th {\n",
       "        text-align: right;\n",
       "    }\n",
       "</style>\n",
       "<table border=\"1\" class=\"dataframe\">\n",
       "  <thead>\n",
       "    <tr style=\"text-align: right;\">\n",
       "      <th></th>\n",
       "      <th>Age</th>\n",
       "      <th>Sex</th>\n",
       "      <th>ChestPainType</th>\n",
       "      <th>RestingBP</th>\n",
       "      <th>Cholesterol</th>\n",
       "      <th>FastingBS</th>\n",
       "      <th>RestingECG</th>\n",
       "      <th>MaxHR</th>\n",
       "      <th>ExerciseAngina</th>\n",
       "      <th>Oldpeak</th>\n",
       "      <th>ST_Slope</th>\n",
       "      <th>HeartDisease</th>\n",
       "    </tr>\n",
       "  </thead>\n",
       "  <tbody>\n",
       "    <tr>\n",
       "      <th>count</th>\n",
       "      <td>917.000000</td>\n",
       "      <td>917.000000</td>\n",
       "      <td>917.000000</td>\n",
       "      <td>917.000000</td>\n",
       "      <td>917.000000</td>\n",
       "      <td>917.000000</td>\n",
       "      <td>917.000000</td>\n",
       "      <td>917.000000</td>\n",
       "      <td>917.000000</td>\n",
       "      <td>917.000000</td>\n",
       "      <td>917.00000</td>\n",
       "      <td>917.000000</td>\n",
       "    </tr>\n",
       "    <tr>\n",
       "      <th>mean</th>\n",
       "      <td>53.509269</td>\n",
       "      <td>0.210469</td>\n",
       "      <td>2.251908</td>\n",
       "      <td>132.540894</td>\n",
       "      <td>244.635389</td>\n",
       "      <td>0.233370</td>\n",
       "      <td>0.604144</td>\n",
       "      <td>136.789531</td>\n",
       "      <td>0.404580</td>\n",
       "      <td>0.886696</td>\n",
       "      <td>0.63795</td>\n",
       "      <td>0.552890</td>\n",
       "    </tr>\n",
       "    <tr>\n",
       "      <th>std</th>\n",
       "      <td>9.437636</td>\n",
       "      <td>0.407864</td>\n",
       "      <td>0.931502</td>\n",
       "      <td>17.999749</td>\n",
       "      <td>53.347125</td>\n",
       "      <td>0.423206</td>\n",
       "      <td>0.806161</td>\n",
       "      <td>25.467129</td>\n",
       "      <td>0.491078</td>\n",
       "      <td>1.066960</td>\n",
       "      <td>0.60727</td>\n",
       "      <td>0.497466</td>\n",
       "    </tr>\n",
       "    <tr>\n",
       "      <th>min</th>\n",
       "      <td>28.000000</td>\n",
       "      <td>0.000000</td>\n",
       "      <td>0.000000</td>\n",
       "      <td>80.000000</td>\n",
       "      <td>85.000000</td>\n",
       "      <td>0.000000</td>\n",
       "      <td>0.000000</td>\n",
       "      <td>60.000000</td>\n",
       "      <td>0.000000</td>\n",
       "      <td>-2.600000</td>\n",
       "      <td>0.00000</td>\n",
       "      <td>0.000000</td>\n",
       "    </tr>\n",
       "    <tr>\n",
       "      <th>25%</th>\n",
       "      <td>47.000000</td>\n",
       "      <td>0.000000</td>\n",
       "      <td>2.000000</td>\n",
       "      <td>120.000000</td>\n",
       "      <td>214.000000</td>\n",
       "      <td>0.000000</td>\n",
       "      <td>0.000000</td>\n",
       "      <td>120.000000</td>\n",
       "      <td>0.000000</td>\n",
       "      <td>0.000000</td>\n",
       "      <td>0.00000</td>\n",
       "      <td>0.000000</td>\n",
       "    </tr>\n",
       "    <tr>\n",
       "      <th>50%</th>\n",
       "      <td>54.000000</td>\n",
       "      <td>0.000000</td>\n",
       "      <td>3.000000</td>\n",
       "      <td>130.000000</td>\n",
       "      <td>244.635389</td>\n",
       "      <td>0.000000</td>\n",
       "      <td>0.000000</td>\n",
       "      <td>138.000000</td>\n",
       "      <td>0.000000</td>\n",
       "      <td>0.600000</td>\n",
       "      <td>1.00000</td>\n",
       "      <td>1.000000</td>\n",
       "    </tr>\n",
       "    <tr>\n",
       "      <th>75%</th>\n",
       "      <td>60.000000</td>\n",
       "      <td>0.000000</td>\n",
       "      <td>3.000000</td>\n",
       "      <td>140.000000</td>\n",
       "      <td>267.000000</td>\n",
       "      <td>0.000000</td>\n",
       "      <td>1.000000</td>\n",
       "      <td>156.000000</td>\n",
       "      <td>1.000000</td>\n",
       "      <td>1.500000</td>\n",
       "      <td>1.00000</td>\n",
       "      <td>1.000000</td>\n",
       "    </tr>\n",
       "    <tr>\n",
       "      <th>max</th>\n",
       "      <td>77.000000</td>\n",
       "      <td>1.000000</td>\n",
       "      <td>3.000000</td>\n",
       "      <td>200.000000</td>\n",
       "      <td>603.000000</td>\n",
       "      <td>1.000000</td>\n",
       "      <td>2.000000</td>\n",
       "      <td>202.000000</td>\n",
       "      <td>1.000000</td>\n",
       "      <td>6.200000</td>\n",
       "      <td>2.00000</td>\n",
       "      <td>1.000000</td>\n",
       "    </tr>\n",
       "  </tbody>\n",
       "</table>\n",
       "</div>"
      ],
      "text/plain": [
       "              Age         Sex  ChestPainType   RestingBP  Cholesterol  \\\n",
       "count  917.000000  917.000000     917.000000  917.000000   917.000000   \n",
       "mean    53.509269    0.210469       2.251908  132.540894   244.635389   \n",
       "std      9.437636    0.407864       0.931502   17.999749    53.347125   \n",
       "min     28.000000    0.000000       0.000000   80.000000    85.000000   \n",
       "25%     47.000000    0.000000       2.000000  120.000000   214.000000   \n",
       "50%     54.000000    0.000000       3.000000  130.000000   244.635389   \n",
       "75%     60.000000    0.000000       3.000000  140.000000   267.000000   \n",
       "max     77.000000    1.000000       3.000000  200.000000   603.000000   \n",
       "\n",
       "        FastingBS  RestingECG       MaxHR  ExerciseAngina     Oldpeak  \\\n",
       "count  917.000000  917.000000  917.000000      917.000000  917.000000   \n",
       "mean     0.233370    0.604144  136.789531        0.404580    0.886696   \n",
       "std      0.423206    0.806161   25.467129        0.491078    1.066960   \n",
       "min      0.000000    0.000000   60.000000        0.000000   -2.600000   \n",
       "25%      0.000000    0.000000  120.000000        0.000000    0.000000   \n",
       "50%      0.000000    0.000000  138.000000        0.000000    0.600000   \n",
       "75%      0.000000    1.000000  156.000000        1.000000    1.500000   \n",
       "max      1.000000    2.000000  202.000000        1.000000    6.200000   \n",
       "\n",
       "        ST_Slope  HeartDisease  \n",
       "count  917.00000    917.000000  \n",
       "mean     0.63795      0.552890  \n",
       "std      0.60727      0.497466  \n",
       "min      0.00000      0.000000  \n",
       "25%      0.00000      0.000000  \n",
       "50%      1.00000      1.000000  \n",
       "75%      1.00000      1.000000  \n",
       "max      2.00000      1.000000  "
      ]
     },
     "execution_count": 23,
     "metadata": {},
     "output_type": "execute_result"
    }
   ],
   "source": [
    "df2.describe()"
   ]
  },
  {
   "cell_type": "markdown",
   "metadata": {
    "id": "XcSAxyqTD4dw"
   },
   "source": [
    "Padronização (utiliza a média e o desvio padrão como referência).\n",
    "\n",
    "Normalização (utiliza os valores máximo e mínimo como referência)."
   ]
  },
  {
   "cell_type": "code",
   "execution_count": 24,
   "metadata": {
    "executionInfo": {
     "elapsed": 942,
     "status": "ok",
     "timestamp": 1689263488692,
     "user": {
      "displayName": "Luciano Galdino",
      "userId": "10237697037323960148"
     },
     "user_tz": 180
    },
    "id": "eMoVJG5kEJSG"
   },
   "outputs": [],
   "source": [
    "from sklearn.preprocessing import StandardScaler"
   ]
  },
  {
   "cell_type": "code",
   "execution_count": 25,
   "metadata": {
    "executionInfo": {
     "elapsed": 21,
     "status": "ok",
     "timestamp": 1689263488693,
     "user": {
      "displayName": "Luciano Galdino",
      "userId": "10237697037323960148"
     },
     "user_tz": 180
    },
    "id": "0DpkgD9REQ7m"
   },
   "outputs": [],
   "source": [
    "previsores_esc = StandardScaler().fit_transform(previsores)"
   ]
  },
  {
   "cell_type": "code",
   "execution_count": 26,
   "metadata": {
    "colab": {
     "base_uri": "https://localhost:8080/"
    },
    "executionInfo": {
     "elapsed": 22,
     "status": "ok",
     "timestamp": 1689263488695,
     "user": {
      "displayName": "Luciano Galdino",
      "userId": "10237697037323960148"
     },
     "user_tz": 180
    },
    "id": "qmoQSiWMEr0k",
    "outputId": "5310f0c1-1aa5-4ae6-fb5f-0a2b0575558f"
   },
   "outputs": [
    {
     "data": {
      "text/plain": [
       "array([[-1.43220634, -0.51630861, -1.34470119, ..., -0.82431012,\n",
       "        -0.83150225, -1.05109458],\n",
       "       [-0.47805725,  1.9368261 , -0.27058012, ..., -0.82431012,\n",
       "         0.10625149,  0.59651863],\n",
       "       [-1.75025603, -0.51630861, -1.34470119, ..., -0.82431012,\n",
       "        -0.83150225, -1.05109458],\n",
       "       ...,\n",
       "       [ 0.37007527, -0.51630861,  0.80354095, ...,  1.21313565,\n",
       "         0.29380223,  0.59651863],\n",
       "       [ 0.37007527,  1.9368261 , -1.34470119, ..., -0.82431012,\n",
       "        -0.83150225,  0.59651863],\n",
       "       [-1.64423947, -0.51630861, -0.27058012, ..., -0.82431012,\n",
       "        -0.83150225, -1.05109458]])"
      ]
     },
     "execution_count": 26,
     "metadata": {},
     "output_type": "execute_result"
    }
   ],
   "source": [
    "previsores_esc"
   ]
  },
  {
   "cell_type": "code",
   "execution_count": 27,
   "metadata": {
    "colab": {
     "base_uri": "https://localhost:8080/",
     "height": 0
    },
    "executionInfo": {
     "elapsed": 22,
     "status": "ok",
     "timestamp": 1689263488696,
     "user": {
      "displayName": "Luciano Galdino",
      "userId": "10237697037323960148"
     },
     "user_tz": 180
    },
    "id": "aFabOc6kFLMu",
    "outputId": "3b7c40d2-cd59-4936-be6e-befee9e1ce7a"
   },
   "outputs": [
    {
     "data": {
      "text/html": [
       "<div>\n",
       "<style scoped>\n",
       "    .dataframe tbody tr th:only-of-type {\n",
       "        vertical-align: middle;\n",
       "    }\n",
       "\n",
       "    .dataframe tbody tr th {\n",
       "        vertical-align: top;\n",
       "    }\n",
       "\n",
       "    .dataframe thead th {\n",
       "        text-align: right;\n",
       "    }\n",
       "</style>\n",
       "<table border=\"1\" class=\"dataframe\">\n",
       "  <thead>\n",
       "    <tr style=\"text-align: right;\">\n",
       "      <th></th>\n",
       "      <th>0</th>\n",
       "      <th>1</th>\n",
       "      <th>2</th>\n",
       "      <th>3</th>\n",
       "      <th>4</th>\n",
       "      <th>5</th>\n",
       "      <th>6</th>\n",
       "      <th>7</th>\n",
       "      <th>8</th>\n",
       "      <th>9</th>\n",
       "      <th>10</th>\n",
       "    </tr>\n",
       "  </thead>\n",
       "  <tbody>\n",
       "    <tr>\n",
       "      <th>0</th>\n",
       "      <td>-1.432206</td>\n",
       "      <td>-0.516309</td>\n",
       "      <td>-1.344701</td>\n",
       "      <td>0.414627</td>\n",
       "      <td>0.832075</td>\n",
       "      <td>-0.551733</td>\n",
       "      <td>-0.749818</td>\n",
       "      <td>1.383339</td>\n",
       "      <td>-0.824310</td>\n",
       "      <td>-0.831502</td>\n",
       "      <td>-1.051095</td>\n",
       "    </tr>\n",
       "    <tr>\n",
       "      <th>1</th>\n",
       "      <td>-0.478057</td>\n",
       "      <td>1.936826</td>\n",
       "      <td>-0.270580</td>\n",
       "      <td>1.526360</td>\n",
       "      <td>-1.212261</td>\n",
       "      <td>-0.551733</td>\n",
       "      <td>-0.749818</td>\n",
       "      <td>0.754736</td>\n",
       "      <td>-0.824310</td>\n",
       "      <td>0.106251</td>\n",
       "      <td>0.596519</td>\n",
       "    </tr>\n",
       "    <tr>\n",
       "      <th>2</th>\n",
       "      <td>-1.750256</td>\n",
       "      <td>-0.516309</td>\n",
       "      <td>-1.344701</td>\n",
       "      <td>-0.141240</td>\n",
       "      <td>0.719543</td>\n",
       "      <td>-0.551733</td>\n",
       "      <td>0.491306</td>\n",
       "      <td>-1.523953</td>\n",
       "      <td>-0.824310</td>\n",
       "      <td>-0.831502</td>\n",
       "      <td>-1.051095</td>\n",
       "    </tr>\n",
       "    <tr>\n",
       "      <th>3</th>\n",
       "      <td>-0.584074</td>\n",
       "      <td>1.936826</td>\n",
       "      <td>0.803541</td>\n",
       "      <td>0.303453</td>\n",
       "      <td>-0.574578</td>\n",
       "      <td>-0.551733</td>\n",
       "      <td>-0.749818</td>\n",
       "      <td>-1.131075</td>\n",
       "      <td>1.213136</td>\n",
       "      <td>0.575128</td>\n",
       "      <td>0.596519</td>\n",
       "    </tr>\n",
       "    <tr>\n",
       "      <th>4</th>\n",
       "      <td>0.052026</td>\n",
       "      <td>-0.516309</td>\n",
       "      <td>-0.270580</td>\n",
       "      <td>0.970493</td>\n",
       "      <td>-0.930931</td>\n",
       "      <td>-0.551733</td>\n",
       "      <td>-0.749818</td>\n",
       "      <td>-0.581047</td>\n",
       "      <td>-0.824310</td>\n",
       "      <td>-0.831502</td>\n",
       "      <td>-1.051095</td>\n",
       "    </tr>\n",
       "    <tr>\n",
       "      <th>...</th>\n",
       "      <td>...</td>\n",
       "      <td>...</td>\n",
       "      <td>...</td>\n",
       "      <td>...</td>\n",
       "      <td>...</td>\n",
       "      <td>...</td>\n",
       "      <td>...</td>\n",
       "      <td>...</td>\n",
       "      <td>...</td>\n",
       "      <td>...</td>\n",
       "      <td>...</td>\n",
       "    </tr>\n",
       "    <tr>\n",
       "      <th>912</th>\n",
       "      <td>-0.902124</td>\n",
       "      <td>-0.516309</td>\n",
       "      <td>-2.418822</td>\n",
       "      <td>-1.252973</td>\n",
       "      <td>0.363191</td>\n",
       "      <td>-0.551733</td>\n",
       "      <td>-0.749818</td>\n",
       "      <td>-0.188170</td>\n",
       "      <td>-0.824310</td>\n",
       "      <td>0.293802</td>\n",
       "      <td>0.596519</td>\n",
       "    </tr>\n",
       "    <tr>\n",
       "      <th>913</th>\n",
       "      <td>1.536257</td>\n",
       "      <td>-0.516309</td>\n",
       "      <td>0.803541</td>\n",
       "      <td>0.636973</td>\n",
       "      <td>-0.968441</td>\n",
       "      <td>1.812470</td>\n",
       "      <td>-0.749818</td>\n",
       "      <td>0.165420</td>\n",
       "      <td>-0.824310</td>\n",
       "      <td>2.356860</td>\n",
       "      <td>0.596519</td>\n",
       "    </tr>\n",
       "    <tr>\n",
       "      <th>914</th>\n",
       "      <td>0.370075</td>\n",
       "      <td>-0.516309</td>\n",
       "      <td>0.803541</td>\n",
       "      <td>-0.141240</td>\n",
       "      <td>-2.131275</td>\n",
       "      <td>-0.551733</td>\n",
       "      <td>-0.749818</td>\n",
       "      <td>-0.856061</td>\n",
       "      <td>1.213136</td>\n",
       "      <td>0.293802</td>\n",
       "      <td>0.596519</td>\n",
       "    </tr>\n",
       "    <tr>\n",
       "      <th>915</th>\n",
       "      <td>0.370075</td>\n",
       "      <td>1.936826</td>\n",
       "      <td>-1.344701</td>\n",
       "      <td>-0.141240</td>\n",
       "      <td>-0.161960</td>\n",
       "      <td>-0.551733</td>\n",
       "      <td>1.732430</td>\n",
       "      <td>1.461915</td>\n",
       "      <td>-0.824310</td>\n",
       "      <td>-0.831502</td>\n",
       "      <td>0.596519</td>\n",
       "    </tr>\n",
       "    <tr>\n",
       "      <th>916</th>\n",
       "      <td>-1.644239</td>\n",
       "      <td>-0.516309</td>\n",
       "      <td>-0.270580</td>\n",
       "      <td>0.303453</td>\n",
       "      <td>-1.306038</td>\n",
       "      <td>-0.551733</td>\n",
       "      <td>-0.749818</td>\n",
       "      <td>1.422627</td>\n",
       "      <td>-0.824310</td>\n",
       "      <td>-0.831502</td>\n",
       "      <td>-1.051095</td>\n",
       "    </tr>\n",
       "  </tbody>\n",
       "</table>\n",
       "<p>917 rows × 11 columns</p>\n",
       "</div>"
      ],
      "text/plain": [
       "           0         1         2         3         4         5         6   \\\n",
       "0   -1.432206 -0.516309 -1.344701  0.414627  0.832075 -0.551733 -0.749818   \n",
       "1   -0.478057  1.936826 -0.270580  1.526360 -1.212261 -0.551733 -0.749818   \n",
       "2   -1.750256 -0.516309 -1.344701 -0.141240  0.719543 -0.551733  0.491306   \n",
       "3   -0.584074  1.936826  0.803541  0.303453 -0.574578 -0.551733 -0.749818   \n",
       "4    0.052026 -0.516309 -0.270580  0.970493 -0.930931 -0.551733 -0.749818   \n",
       "..        ...       ...       ...       ...       ...       ...       ...   \n",
       "912 -0.902124 -0.516309 -2.418822 -1.252973  0.363191 -0.551733 -0.749818   \n",
       "913  1.536257 -0.516309  0.803541  0.636973 -0.968441  1.812470 -0.749818   \n",
       "914  0.370075 -0.516309  0.803541 -0.141240 -2.131275 -0.551733 -0.749818   \n",
       "915  0.370075  1.936826 -1.344701 -0.141240 -0.161960 -0.551733  1.732430   \n",
       "916 -1.644239 -0.516309 -0.270580  0.303453 -1.306038 -0.551733 -0.749818   \n",
       "\n",
       "           7         8         9         10  \n",
       "0    1.383339 -0.824310 -0.831502 -1.051095  \n",
       "1    0.754736 -0.824310  0.106251  0.596519  \n",
       "2   -1.523953 -0.824310 -0.831502 -1.051095  \n",
       "3   -1.131075  1.213136  0.575128  0.596519  \n",
       "4   -0.581047 -0.824310 -0.831502 -1.051095  \n",
       "..        ...       ...       ...       ...  \n",
       "912 -0.188170 -0.824310  0.293802  0.596519  \n",
       "913  0.165420 -0.824310  2.356860  0.596519  \n",
       "914 -0.856061  1.213136  0.293802  0.596519  \n",
       "915  1.461915 -0.824310 -0.831502  0.596519  \n",
       "916  1.422627 -0.824310 -0.831502 -1.051095  \n",
       "\n",
       "[917 rows x 11 columns]"
      ]
     },
     "execution_count": 27,
     "metadata": {},
     "output_type": "execute_result"
    }
   ],
   "source": [
    "previsoresdf = pd.DataFrame(previsores_esc)\n",
    "previsoresdf"
   ]
  },
  {
   "cell_type": "code",
   "execution_count": 28,
   "metadata": {
    "colab": {
     "base_uri": "https://localhost:8080/",
     "height": 0
    },
    "executionInfo": {
     "elapsed": 20,
     "status": "ok",
     "timestamp": 1689263488696,
     "user": {
      "displayName": "Luciano Galdino",
      "userId": "10237697037323960148"
     },
     "user_tz": 180
    },
    "id": "cXVXsyAtFWSo",
    "outputId": "3ed3c1f4-b31d-482f-ac32-80558f9325a7"
   },
   "outputs": [
    {
     "data": {
      "text/html": [
       "<div>\n",
       "<style scoped>\n",
       "    .dataframe tbody tr th:only-of-type {\n",
       "        vertical-align: middle;\n",
       "    }\n",
       "\n",
       "    .dataframe tbody tr th {\n",
       "        vertical-align: top;\n",
       "    }\n",
       "\n",
       "    .dataframe thead th {\n",
       "        text-align: right;\n",
       "    }\n",
       "</style>\n",
       "<table border=\"1\" class=\"dataframe\">\n",
       "  <thead>\n",
       "    <tr style=\"text-align: right;\">\n",
       "      <th></th>\n",
       "      <th>0</th>\n",
       "      <th>1</th>\n",
       "      <th>2</th>\n",
       "      <th>3</th>\n",
       "      <th>4</th>\n",
       "      <th>5</th>\n",
       "      <th>6</th>\n",
       "      <th>7</th>\n",
       "      <th>8</th>\n",
       "      <th>9</th>\n",
       "      <th>10</th>\n",
       "    </tr>\n",
       "  </thead>\n",
       "  <tbody>\n",
       "    <tr>\n",
       "      <th>count</th>\n",
       "      <td>9.170000e+02</td>\n",
       "      <td>9.170000e+02</td>\n",
       "      <td>9.170000e+02</td>\n",
       "      <td>9.170000e+02</td>\n",
       "      <td>9.170000e+02</td>\n",
       "      <td>9.170000e+02</td>\n",
       "      <td>917.000000</td>\n",
       "      <td>9.170000e+02</td>\n",
       "      <td>9.170000e+02</td>\n",
       "      <td>9.170000e+02</td>\n",
       "      <td>9.170000e+02</td>\n",
       "    </tr>\n",
       "    <tr>\n",
       "      <th>mean</th>\n",
       "      <td>1.859654e-16</td>\n",
       "      <td>7.748558e-18</td>\n",
       "      <td>1.046055e-16</td>\n",
       "      <td>7.767929e-16</td>\n",
       "      <td>-1.869340e-16</td>\n",
       "      <td>4.649135e-17</td>\n",
       "      <td>0.000000</td>\n",
       "      <td>-5.114048e-16</td>\n",
       "      <td>-1.046055e-16</td>\n",
       "      <td>7.748558e-17</td>\n",
       "      <td>-3.874279e-17</td>\n",
       "    </tr>\n",
       "    <tr>\n",
       "      <th>std</th>\n",
       "      <td>1.000546e+00</td>\n",
       "      <td>1.000546e+00</td>\n",
       "      <td>1.000546e+00</td>\n",
       "      <td>1.000546e+00</td>\n",
       "      <td>1.000546e+00</td>\n",
       "      <td>1.000546e+00</td>\n",
       "      <td>1.000546</td>\n",
       "      <td>1.000546e+00</td>\n",
       "      <td>1.000546e+00</td>\n",
       "      <td>1.000546e+00</td>\n",
       "      <td>1.000546e+00</td>\n",
       "    </tr>\n",
       "    <tr>\n",
       "      <th>min</th>\n",
       "      <td>-2.704405e+00</td>\n",
       "      <td>-5.163086e-01</td>\n",
       "      <td>-2.418822e+00</td>\n",
       "      <td>-2.920572e+00</td>\n",
       "      <td>-2.994023e+00</td>\n",
       "      <td>-5.517333e-01</td>\n",
       "      <td>-0.749818</td>\n",
       "      <td>-3.016886e+00</td>\n",
       "      <td>-8.243101e-01</td>\n",
       "      <td>-3.269662e+00</td>\n",
       "      <td>-1.051095e+00</td>\n",
       "    </tr>\n",
       "    <tr>\n",
       "      <th>25%</th>\n",
       "      <td>-6.900904e-01</td>\n",
       "      <td>-5.163086e-01</td>\n",
       "      <td>-2.705801e-01</td>\n",
       "      <td>-6.971063e-01</td>\n",
       "      <td>-5.745784e-01</td>\n",
       "      <td>-5.517333e-01</td>\n",
       "      <td>-0.749818</td>\n",
       "      <td>-6.596226e-01</td>\n",
       "      <td>-8.243101e-01</td>\n",
       "      <td>-8.315022e-01</td>\n",
       "      <td>-1.051095e+00</td>\n",
       "    </tr>\n",
       "    <tr>\n",
       "      <th>50%</th>\n",
       "      <td>5.202558e-02</td>\n",
       "      <td>-5.163086e-01</td>\n",
       "      <td>8.035410e-01</td>\n",
       "      <td>-1.412398e-01</td>\n",
       "      <td>0.000000e+00</td>\n",
       "      <td>-5.517333e-01</td>\n",
       "      <td>-0.749818</td>\n",
       "      <td>4.755658e-02</td>\n",
       "      <td>-8.243101e-01</td>\n",
       "      <td>-2.688500e-01</td>\n",
       "      <td>5.965186e-01</td>\n",
       "    </tr>\n",
       "    <tr>\n",
       "      <th>75%</th>\n",
       "      <td>6.881250e-01</td>\n",
       "      <td>-5.163086e-01</td>\n",
       "      <td>8.035410e-01</td>\n",
       "      <td>4.146267e-01</td>\n",
       "      <td>4.194568e-01</td>\n",
       "      <td>-5.517333e-01</td>\n",
       "      <td>0.491306</td>\n",
       "      <td>7.547357e-01</td>\n",
       "      <td>1.213136e+00</td>\n",
       "      <td>5.751284e-01</td>\n",
       "      <td>5.965186e-01</td>\n",
       "    </tr>\n",
       "    <tr>\n",
       "      <th>max</th>\n",
       "      <td>2.490407e+00</td>\n",
       "      <td>1.936826e+00</td>\n",
       "      <td>8.035410e-01</td>\n",
       "      <td>3.749826e+00</td>\n",
       "      <td>6.721265e+00</td>\n",
       "      <td>1.812470e+00</td>\n",
       "      <td>1.732430</td>\n",
       "      <td>2.561971e+00</td>\n",
       "      <td>1.213136e+00</td>\n",
       "      <td>4.982571e+00</td>\n",
       "      <td>2.244132e+00</td>\n",
       "    </tr>\n",
       "  </tbody>\n",
       "</table>\n",
       "</div>"
      ],
      "text/plain": [
       "                 0             1             2             3             4   \\\n",
       "count  9.170000e+02  9.170000e+02  9.170000e+02  9.170000e+02  9.170000e+02   \n",
       "mean   1.859654e-16  7.748558e-18  1.046055e-16  7.767929e-16 -1.869340e-16   \n",
       "std    1.000546e+00  1.000546e+00  1.000546e+00  1.000546e+00  1.000546e+00   \n",
       "min   -2.704405e+00 -5.163086e-01 -2.418822e+00 -2.920572e+00 -2.994023e+00   \n",
       "25%   -6.900904e-01 -5.163086e-01 -2.705801e-01 -6.971063e-01 -5.745784e-01   \n",
       "50%    5.202558e-02 -5.163086e-01  8.035410e-01 -1.412398e-01  0.000000e+00   \n",
       "75%    6.881250e-01 -5.163086e-01  8.035410e-01  4.146267e-01  4.194568e-01   \n",
       "max    2.490407e+00  1.936826e+00  8.035410e-01  3.749826e+00  6.721265e+00   \n",
       "\n",
       "                 5           6             7             8             9   \\\n",
       "count  9.170000e+02  917.000000  9.170000e+02  9.170000e+02  9.170000e+02   \n",
       "mean   4.649135e-17    0.000000 -5.114048e-16 -1.046055e-16  7.748558e-17   \n",
       "std    1.000546e+00    1.000546  1.000546e+00  1.000546e+00  1.000546e+00   \n",
       "min   -5.517333e-01   -0.749818 -3.016886e+00 -8.243101e-01 -3.269662e+00   \n",
       "25%   -5.517333e-01   -0.749818 -6.596226e-01 -8.243101e-01 -8.315022e-01   \n",
       "50%   -5.517333e-01   -0.749818  4.755658e-02 -8.243101e-01 -2.688500e-01   \n",
       "75%   -5.517333e-01    0.491306  7.547357e-01  1.213136e+00  5.751284e-01   \n",
       "max    1.812470e+00    1.732430  2.561971e+00  1.213136e+00  4.982571e+00   \n",
       "\n",
       "                 10  \n",
       "count  9.170000e+02  \n",
       "mean  -3.874279e-17  \n",
       "std    1.000546e+00  \n",
       "min   -1.051095e+00  \n",
       "25%   -1.051095e+00  \n",
       "50%    5.965186e-01  \n",
       "75%    5.965186e-01  \n",
       "max    2.244132e+00  "
      ]
     },
     "execution_count": 28,
     "metadata": {},
     "output_type": "execute_result"
    }
   ],
   "source": [
    "previsoresdf.describe()"
   ]
  },
  {
   "cell_type": "markdown",
   "metadata": {
    "id": "HU3ZNfuI0BaL"
   },
   "source": [
    "## **Codificação de variáveis categóricas**"
   ]
  },
  {
   "cell_type": "markdown",
   "metadata": {
    "id": "lPObOxwx0Qy5"
   },
   "source": [
    "### **LabelEncoder: transformação de variáveis categóricas em numéricas**\n"
   ]
  },
  {
   "cell_type": "code",
   "execution_count": 29,
   "metadata": {
    "executionInfo": {
     "elapsed": 20,
     "status": "ok",
     "timestamp": 1689263488697,
     "user": {
      "displayName": "Luciano Galdino",
      "userId": "10237697037323960148"
     },
     "user_tz": 180
    },
    "id": "oLt4fZ620l-5"
   },
   "outputs": [],
   "source": [
    "from sklearn.preprocessing import LabelEncoder"
   ]
  },
  {
   "cell_type": "code",
   "execution_count": 30,
   "metadata": {
    "colab": {
     "base_uri": "https://localhost:8080/",
     "height": 0
    },
    "executionInfo": {
     "elapsed": 19,
     "status": "ok",
     "timestamp": 1689263488697,
     "user": {
      "displayName": "Luciano Galdino",
      "userId": "10237697037323960148"
     },
     "user_tz": 180
    },
    "id": "oJc1Q36h1Ls_",
    "outputId": "8511d5f9-8f5f-4c71-9eee-de3d5982d49f"
   },
   "outputs": [
    {
     "data": {
      "text/html": [
       "<div>\n",
       "<style scoped>\n",
       "    .dataframe tbody tr th:only-of-type {\n",
       "        vertical-align: middle;\n",
       "    }\n",
       "\n",
       "    .dataframe tbody tr th {\n",
       "        vertical-align: top;\n",
       "    }\n",
       "\n",
       "    .dataframe thead th {\n",
       "        text-align: right;\n",
       "    }\n",
       "</style>\n",
       "<table border=\"1\" class=\"dataframe\">\n",
       "  <thead>\n",
       "    <tr style=\"text-align: right;\">\n",
       "      <th></th>\n",
       "      <th>Age</th>\n",
       "      <th>Sex</th>\n",
       "      <th>ChestPainType</th>\n",
       "      <th>RestingBP</th>\n",
       "      <th>Cholesterol</th>\n",
       "      <th>FastingBS</th>\n",
       "      <th>RestingECG</th>\n",
       "      <th>MaxHR</th>\n",
       "      <th>ExerciseAngina</th>\n",
       "      <th>Oldpeak</th>\n",
       "      <th>ST_Slope</th>\n",
       "      <th>HeartDisease</th>\n",
       "    </tr>\n",
       "  </thead>\n",
       "  <tbody>\n",
       "    <tr>\n",
       "      <th>0</th>\n",
       "      <td>40</td>\n",
       "      <td>M</td>\n",
       "      <td>ATA</td>\n",
       "      <td>140</td>\n",
       "      <td>289.0</td>\n",
       "      <td>0</td>\n",
       "      <td>Normal</td>\n",
       "      <td>172</td>\n",
       "      <td>N</td>\n",
       "      <td>0.0</td>\n",
       "      <td>Up</td>\n",
       "      <td>0</td>\n",
       "    </tr>\n",
       "    <tr>\n",
       "      <th>1</th>\n",
       "      <td>49</td>\n",
       "      <td>F</td>\n",
       "      <td>NAP</td>\n",
       "      <td>160</td>\n",
       "      <td>180.0</td>\n",
       "      <td>0</td>\n",
       "      <td>Normal</td>\n",
       "      <td>156</td>\n",
       "      <td>N</td>\n",
       "      <td>1.0</td>\n",
       "      <td>Flat</td>\n",
       "      <td>1</td>\n",
       "    </tr>\n",
       "    <tr>\n",
       "      <th>2</th>\n",
       "      <td>37</td>\n",
       "      <td>M</td>\n",
       "      <td>ATA</td>\n",
       "      <td>130</td>\n",
       "      <td>283.0</td>\n",
       "      <td>0</td>\n",
       "      <td>ST</td>\n",
       "      <td>98</td>\n",
       "      <td>N</td>\n",
       "      <td>0.0</td>\n",
       "      <td>Up</td>\n",
       "      <td>0</td>\n",
       "    </tr>\n",
       "    <tr>\n",
       "      <th>3</th>\n",
       "      <td>48</td>\n",
       "      <td>F</td>\n",
       "      <td>ASY</td>\n",
       "      <td>138</td>\n",
       "      <td>214.0</td>\n",
       "      <td>0</td>\n",
       "      <td>Normal</td>\n",
       "      <td>108</td>\n",
       "      <td>Y</td>\n",
       "      <td>1.5</td>\n",
       "      <td>Flat</td>\n",
       "      <td>1</td>\n",
       "    </tr>\n",
       "    <tr>\n",
       "      <th>4</th>\n",
       "      <td>54</td>\n",
       "      <td>M</td>\n",
       "      <td>NAP</td>\n",
       "      <td>150</td>\n",
       "      <td>195.0</td>\n",
       "      <td>0</td>\n",
       "      <td>Normal</td>\n",
       "      <td>122</td>\n",
       "      <td>N</td>\n",
       "      <td>0.0</td>\n",
       "      <td>Up</td>\n",
       "      <td>0</td>\n",
       "    </tr>\n",
       "  </tbody>\n",
       "</table>\n",
       "</div>"
      ],
      "text/plain": [
       "   Age Sex ChestPainType  RestingBP  Cholesterol  FastingBS RestingECG  MaxHR  \\\n",
       "0   40   M           ATA        140        289.0          0     Normal    172   \n",
       "1   49   F           NAP        160        180.0          0     Normal    156   \n",
       "2   37   M           ATA        130        283.0          0         ST     98   \n",
       "3   48   F           ASY        138        214.0          0     Normal    108   \n",
       "4   54   M           NAP        150        195.0          0     Normal    122   \n",
       "\n",
       "  ExerciseAngina  Oldpeak ST_Slope  HeartDisease  \n",
       "0              N      0.0       Up             0  \n",
       "1              N      1.0     Flat             1  \n",
       "2              N      0.0       Up             0  \n",
       "3              Y      1.5     Flat             1  \n",
       "4              N      0.0       Up             0  "
      ]
     },
     "execution_count": 30,
     "metadata": {},
     "output_type": "execute_result"
    }
   ],
   "source": [
    "df.head()"
   ]
  },
  {
   "cell_type": "code",
   "execution_count": 31,
   "metadata": {
    "colab": {
     "base_uri": "https://localhost:8080/"
    },
    "executionInfo": {
     "elapsed": 19,
     "status": "ok",
     "timestamp": 1689263488698,
     "user": {
      "displayName": "Luciano Galdino",
      "userId": "10237697037323960148"
     },
     "user_tz": 180
    },
    "id": "0VFq4NJ_181-",
    "outputId": "4a111be4-0ebd-452e-a04e-3856b10102b5"
   },
   "outputs": [
    {
     "data": {
      "text/plain": [
       "array([[40, 'M', 'ATA', ..., 'N', 0.0, 'Up'],\n",
       "       [49, 'F', 'NAP', ..., 'N', 1.0, 'Flat'],\n",
       "       [37, 'M', 'ATA', ..., 'N', 0.0, 'Up'],\n",
       "       ...,\n",
       "       [57, 'M', 'ASY', ..., 'Y', 1.2, 'Flat'],\n",
       "       [57, 'F', 'ATA', ..., 'N', 0.0, 'Flat'],\n",
       "       [38, 'M', 'NAP', ..., 'N', 0.0, 'Up']], dtype=object)"
      ]
     },
     "execution_count": 31,
     "metadata": {},
     "output_type": "execute_result"
    }
   ],
   "source": [
    "previsores2 = df.iloc[:, 0:11].values\n",
    "previsores2"
   ]
  },
  {
   "cell_type": "code",
   "execution_count": 32,
   "metadata": {
    "executionInfo": {
     "elapsed": 19,
     "status": "ok",
     "timestamp": 1689263488699,
     "user": {
      "displayName": "Luciano Galdino",
      "userId": "10237697037323960148"
     },
     "user_tz": 180
    },
    "id": "36oIQ8I10nin"
   },
   "outputs": [],
   "source": [
    "previsores2[:,1] = LabelEncoder().fit_transform(previsores2[:,1])"
   ]
  },
  {
   "cell_type": "code",
   "execution_count": 33,
   "metadata": {
    "colab": {
     "base_uri": "https://localhost:8080/"
    },
    "executionInfo": {
     "elapsed": 19,
     "status": "ok",
     "timestamp": 1689263488699,
     "user": {
      "displayName": "Luciano Galdino",
      "userId": "10237697037323960148"
     },
     "user_tz": 180
    },
    "id": "IZQuLVsb1kMW",
    "outputId": "37bbf153-5220-4cc3-d26e-3d1875a33f25"
   },
   "outputs": [
    {
     "data": {
      "text/plain": [
       "array([[40, 1, 'ATA', ..., 'N', 0.0, 'Up'],\n",
       "       [49, 0, 'NAP', ..., 'N', 1.0, 'Flat'],\n",
       "       [37, 1, 'ATA', ..., 'N', 0.0, 'Up'],\n",
       "       ...,\n",
       "       [57, 1, 'ASY', ..., 'Y', 1.2, 'Flat'],\n",
       "       [57, 0, 'ATA', ..., 'N', 0.0, 'Flat'],\n",
       "       [38, 1, 'NAP', ..., 'N', 0.0, 'Up']], dtype=object)"
      ]
     },
     "execution_count": 33,
     "metadata": {},
     "output_type": "execute_result"
    }
   ],
   "source": [
    "previsores2"
   ]
  },
  {
   "cell_type": "code",
   "execution_count": 34,
   "metadata": {
    "executionInfo": {
     "elapsed": 19,
     "status": "ok",
     "timestamp": 1689263488700,
     "user": {
      "displayName": "Luciano Galdino",
      "userId": "10237697037323960148"
     },
     "user_tz": 180
    },
    "id": "VAV6Jrmg00_B"
   },
   "outputs": [],
   "source": [
    "previsores2[:,2] = LabelEncoder().fit_transform(previsores2[:,2])\n",
    "previsores2[:,6] = LabelEncoder().fit_transform(previsores2[:,6])\n",
    "previsores2[:,8] = LabelEncoder().fit_transform(previsores2[:,8])\n",
    "previsores2[:,10] = LabelEncoder().fit_transform(previsores2[:,10])"
   ]
  },
  {
   "cell_type": "code",
   "execution_count": 35,
   "metadata": {
    "colab": {
     "base_uri": "https://localhost:8080/"
    },
    "executionInfo": {
     "elapsed": 465,
     "status": "ok",
     "timestamp": 1689263489146,
     "user": {
      "displayName": "Luciano Galdino",
      "userId": "10237697037323960148"
     },
     "user_tz": 180
    },
    "id": "6OYCPPGa3EE6",
    "outputId": "cc9ca281-819b-4f6a-cf90-ef818894240c"
   },
   "outputs": [
    {
     "data": {
      "text/plain": [
       "array([[40, 1, 1, ..., 0, 0.0, 2],\n",
       "       [49, 0, 2, ..., 0, 1.0, 1],\n",
       "       [37, 1, 1, ..., 0, 0.0, 2],\n",
       "       ...,\n",
       "       [57, 1, 0, ..., 1, 1.2, 1],\n",
       "       [57, 0, 1, ..., 0, 0.0, 1],\n",
       "       [38, 1, 2, ..., 0, 0.0, 2]], dtype=object)"
      ]
     },
     "execution_count": 35,
     "metadata": {},
     "output_type": "execute_result"
    }
   ],
   "source": [
    "previsores2"
   ]
  },
  {
   "cell_type": "code",
   "execution_count": 36,
   "metadata": {
    "colab": {
     "base_uri": "https://localhost:8080/"
    },
    "executionInfo": {
     "elapsed": 21,
     "status": "ok",
     "timestamp": 1689263489147,
     "user": {
      "displayName": "Luciano Galdino",
      "userId": "10237697037323960148"
     },
     "user_tz": 180
    },
    "id": "SV6SHdiD3i_Z",
    "outputId": "4b0af898-a978-4f69-834f-80abaf530e05",
    "scrolled": true
   },
   "outputs": [
    {
     "data": {
      "text/plain": [
       "(917, 11)"
      ]
     },
     "execution_count": 36,
     "metadata": {},
     "output_type": "execute_result"
    }
   ],
   "source": [
    "previsores2.shape"
   ]
  },
  {
   "cell_type": "markdown",
   "metadata": {
    "id": "PIqEAMoH52Og",
    "jp-MarkdownHeadingCollapsed": true
   },
   "source": [
    "### **OneHotEncoder: Criação de variáveis Dummy (fictícia).**"
   ]
  },
  {
   "cell_type": "markdown",
   "metadata": {
    "id": "Ic1BCbFvGTNL"
   },
   "source": [
    "Cuidado com a multicolinearidade (variáveis altamente correlacionadas entre si)."
   ]
  },
  {
   "cell_type": "markdown",
   "metadata": {
    "id": "ruBvkbyn74ly"
   },
   "source": [
    "![image.png](data:image/png;base64,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)"
   ]
  },
  {
   "cell_type": "markdown",
   "metadata": {
    "id": "ZszZwZIBPrQR"
   },
   "source": [
    "A   B   C   D   \n",
    "1   0   0   0   \n",
    "0   1   0   0   \n",
    "0   0   1   0   \n",
    "0   0   0   1\n"
   ]
  },
  {
   "cell_type": "code",
   "execution_count": 37,
   "metadata": {
    "executionInfo": {
     "elapsed": 17,
     "status": "ok",
     "timestamp": 1689263489147,
     "user": {
      "displayName": "Luciano Galdino",
      "userId": "10237697037323960148"
     },
     "user_tz": 180
    },
    "id": "YeSR7cQC8uCQ"
   },
   "outputs": [],
   "source": [
    "from sklearn.preprocessing import OneHotEncoder\n",
    "from sklearn.compose import ColumnTransformer"
   ]
  },
  {
   "cell_type": "code",
   "execution_count": 38,
   "metadata": {
    "executionInfo": {
     "elapsed": 18,
     "status": "ok",
     "timestamp": 1689263489148,
     "user": {
      "displayName": "Luciano Galdino",
      "userId": "10237697037323960148"
     },
     "user_tz": 180
    },
    "id": "qx2UeR9S2Whp"
   },
   "outputs": [
    {
     "data": {
      "text/plain": [
       "\u001b[0;31mInit signature:\u001b[0m\n",
       "\u001b[0mColumnTransformer\u001b[0m\u001b[0;34m(\u001b[0m\u001b[0;34m\u001b[0m\n",
       "\u001b[0;34m\u001b[0m    \u001b[0mtransformers\u001b[0m\u001b[0;34m,\u001b[0m\u001b[0;34m\u001b[0m\n",
       "\u001b[0;34m\u001b[0m    \u001b[0;34m*\u001b[0m\u001b[0;34m,\u001b[0m\u001b[0;34m\u001b[0m\n",
       "\u001b[0;34m\u001b[0m    \u001b[0mremainder\u001b[0m\u001b[0;34m=\u001b[0m\u001b[0;34m'drop'\u001b[0m\u001b[0;34m,\u001b[0m\u001b[0;34m\u001b[0m\n",
       "\u001b[0;34m\u001b[0m    \u001b[0msparse_threshold\u001b[0m\u001b[0;34m=\u001b[0m\u001b[0;36m0.3\u001b[0m\u001b[0;34m,\u001b[0m\u001b[0;34m\u001b[0m\n",
       "\u001b[0;34m\u001b[0m    \u001b[0mn_jobs\u001b[0m\u001b[0;34m=\u001b[0m\u001b[0;32mNone\u001b[0m\u001b[0;34m,\u001b[0m\u001b[0;34m\u001b[0m\n",
       "\u001b[0;34m\u001b[0m    \u001b[0mtransformer_weights\u001b[0m\u001b[0;34m=\u001b[0m\u001b[0;32mNone\u001b[0m\u001b[0;34m,\u001b[0m\u001b[0;34m\u001b[0m\n",
       "\u001b[0;34m\u001b[0m    \u001b[0mverbose\u001b[0m\u001b[0;34m=\u001b[0m\u001b[0;32mFalse\u001b[0m\u001b[0;34m,\u001b[0m\u001b[0;34m\u001b[0m\n",
       "\u001b[0;34m\u001b[0m    \u001b[0mverbose_feature_names_out\u001b[0m\u001b[0;34m=\u001b[0m\u001b[0;32mTrue\u001b[0m\u001b[0;34m,\u001b[0m\u001b[0;34m\u001b[0m\n",
       "\u001b[0;34m\u001b[0m\u001b[0;34m)\u001b[0m\u001b[0;34m\u001b[0m\u001b[0;34m\u001b[0m\u001b[0m\n",
       "\u001b[0;31mDocstring:\u001b[0m     \n",
       "Applies transformers to columns of an array or pandas DataFrame.\n",
       "\n",
       "This estimator allows different columns or column subsets of the input\n",
       "to be transformed separately and the features generated by each transformer\n",
       "will be concatenated to form a single feature space.\n",
       "This is useful for heterogeneous or columnar data, to combine several\n",
       "feature extraction mechanisms or transformations into a single transformer.\n",
       "\n",
       "Read more in the :ref:`User Guide <column_transformer>`.\n",
       "\n",
       ".. versionadded:: 0.20\n",
       "\n",
       "Parameters\n",
       "----------\n",
       "transformers : list of tuples\n",
       "    List of (name, transformer, columns) tuples specifying the\n",
       "    transformer objects to be applied to subsets of the data.\n",
       "\n",
       "    name : str\n",
       "        Like in Pipeline and FeatureUnion, this allows the transformer and\n",
       "        its parameters to be set using ``set_params`` and searched in grid\n",
       "        search.\n",
       "    transformer : {'drop', 'passthrough'} or estimator\n",
       "        Estimator must support :term:`fit` and :term:`transform`.\n",
       "        Special-cased strings 'drop' and 'passthrough' are accepted as\n",
       "        well, to indicate to drop the columns or to pass them through\n",
       "        untransformed, respectively.\n",
       "    columns :  str, array-like of str, int, array-like of int,                 array-like of bool, slice or callable\n",
       "        Indexes the data on its second axis. Integers are interpreted as\n",
       "        positional columns, while strings can reference DataFrame columns\n",
       "        by name.  A scalar string or int should be used where\n",
       "        ``transformer`` expects X to be a 1d array-like (vector),\n",
       "        otherwise a 2d array will be passed to the transformer.\n",
       "        A callable is passed the input data `X` and can return any of the\n",
       "        above. To select multiple columns by name or dtype, you can use\n",
       "        :obj:`make_column_selector`.\n",
       "\n",
       "remainder : {'drop', 'passthrough'} or estimator, default='drop'\n",
       "    By default, only the specified columns in `transformers` are\n",
       "    transformed and combined in the output, and the non-specified\n",
       "    columns are dropped. (default of ``'drop'``).\n",
       "    By specifying ``remainder='passthrough'``, all remaining columns that\n",
       "    were not specified in `transformers`, but present in the data passed\n",
       "    to `fit` will be automatically passed through. This subset of columns\n",
       "    is concatenated with the output of the transformers. For dataframes,\n",
       "    extra columns not seen during `fit` will be excluded from the output\n",
       "    of `transform`.\n",
       "    By setting ``remainder`` to be an estimator, the remaining\n",
       "    non-specified columns will use the ``remainder`` estimator. The\n",
       "    estimator must support :term:`fit` and :term:`transform`.\n",
       "    Note that using this feature requires that the DataFrame columns\n",
       "    input at :term:`fit` and :term:`transform` have identical order.\n",
       "\n",
       "sparse_threshold : float, default=0.3\n",
       "    If the output of the different transformers contains sparse matrices,\n",
       "    these will be stacked as a sparse matrix if the overall density is\n",
       "    lower than this value. Use ``sparse_threshold=0`` to always return\n",
       "    dense.  When the transformed output consists of all dense data, the\n",
       "    stacked result will be dense, and this keyword will be ignored.\n",
       "\n",
       "n_jobs : int, default=None\n",
       "    Number of jobs to run in parallel.\n",
       "    ``None`` means 1 unless in a :obj:`joblib.parallel_backend` context.\n",
       "    ``-1`` means using all processors. See :term:`Glossary <n_jobs>`\n",
       "    for more details.\n",
       "\n",
       "transformer_weights : dict, default=None\n",
       "    Multiplicative weights for features per transformer. The output of the\n",
       "    transformer is multiplied by these weights. Keys are transformer names,\n",
       "    values the weights.\n",
       "\n",
       "verbose : bool, default=False\n",
       "    If True, the time elapsed while fitting each transformer will be\n",
       "    printed as it is completed.\n",
       "\n",
       "verbose_feature_names_out : bool, default=True\n",
       "    If True, :meth:`get_feature_names_out` will prefix all feature names\n",
       "    with the name of the transformer that generated that feature.\n",
       "    If False, :meth:`get_feature_names_out` will not prefix any feature\n",
       "    names and will error if feature names are not unique.\n",
       "\n",
       "    .. versionadded:: 1.0\n",
       "\n",
       "Attributes\n",
       "----------\n",
       "transformers_ : list\n",
       "    The collection of fitted transformers as tuples of\n",
       "    (name, fitted_transformer, column). `fitted_transformer` can be an\n",
       "    estimator, 'drop', or 'passthrough'. In case there were no columns\n",
       "    selected, this will be the unfitted transformer.\n",
       "    If there are remaining columns, the final element is a tuple of the\n",
       "    form:\n",
       "    ('remainder', transformer, remaining_columns) corresponding to the\n",
       "    ``remainder`` parameter. If there are remaining columns, then\n",
       "    ``len(transformers_)==len(transformers)+1``, otherwise\n",
       "    ``len(transformers_)==len(transformers)``.\n",
       "\n",
       "named_transformers_ : :class:`~sklearn.utils.Bunch`\n",
       "    Read-only attribute to access any transformer by given name.\n",
       "    Keys are transformer names and values are the fitted transformer\n",
       "    objects.\n",
       "\n",
       "sparse_output_ : bool\n",
       "    Boolean flag indicating whether the output of ``transform`` is a\n",
       "    sparse matrix or a dense numpy array, which depends on the output\n",
       "    of the individual transformers and the `sparse_threshold` keyword.\n",
       "\n",
       "output_indices_ : dict\n",
       "    A dictionary from each transformer name to a slice, where the slice\n",
       "    corresponds to indices in the transformed output. This is useful to\n",
       "    inspect which transformer is responsible for which transformed\n",
       "    feature(s).\n",
       "\n",
       "    .. versionadded:: 1.0\n",
       "\n",
       "n_features_in_ : int\n",
       "    Number of features seen during :term:`fit`. Only defined if the\n",
       "    underlying transformers expose such an attribute when fit.\n",
       "\n",
       "    .. versionadded:: 0.24\n",
       "\n",
       "See Also\n",
       "--------\n",
       "make_column_transformer : Convenience function for\n",
       "    combining the outputs of multiple transformer objects applied to\n",
       "    column subsets of the original feature space.\n",
       "make_column_selector : Convenience function for selecting\n",
       "    columns based on datatype or the columns name with a regex pattern.\n",
       "\n",
       "Notes\n",
       "-----\n",
       "The order of the columns in the transformed feature matrix follows the\n",
       "order of how the columns are specified in the `transformers` list.\n",
       "Columns of the original feature matrix that are not specified are\n",
       "dropped from the resulting transformed feature matrix, unless specified\n",
       "in the `passthrough` keyword. Those columns specified with `passthrough`\n",
       "are added at the right to the output of the transformers.\n",
       "\n",
       "Examples\n",
       "--------\n",
       ">>> import numpy as np\n",
       ">>> from sklearn.compose import ColumnTransformer\n",
       ">>> from sklearn.preprocessing import Normalizer\n",
       ">>> ct = ColumnTransformer(\n",
       "...     [(\"norm1\", Normalizer(norm='l1'), [0, 1]),\n",
       "...      (\"norm2\", Normalizer(norm='l1'), slice(2, 4))])\n",
       ">>> X = np.array([[0., 1., 2., 2.],\n",
       "...               [1., 1., 0., 1.]])\n",
       ">>> # Normalizer scales each row of X to unit norm. A separate scaling\n",
       ">>> # is applied for the two first and two last elements of each\n",
       ">>> # row independently.\n",
       ">>> ct.fit_transform(X)\n",
       "array([[0. , 1. , 0.5, 0.5],\n",
       "       [0.5, 0.5, 0. , 1. ]])\n",
       "\n",
       ":class:`ColumnTransformer` can be configured with a transformer that requires\n",
       "a 1d array by setting the column to a string:\n",
       "\n",
       ">>> from sklearn.feature_extraction import FeatureHasher\n",
       ">>> from sklearn.preprocessing import MinMaxScaler\n",
       ">>> import pandas as pd   # doctest: +SKIP\n",
       ">>> X = pd.DataFrame({\n",
       "...     \"documents\": [\"First item\", \"second one here\", \"Is this the last?\"],\n",
       "...     \"width\": [3, 4, 5],\n",
       "... })  # doctest: +SKIP\n",
       ">>> # \"documents\" is a string which configures ColumnTransformer to\n",
       ">>> # pass the documents column as a 1d array to the FeatureHasher\n",
       ">>> ct = ColumnTransformer(\n",
       "...     [(\"text_preprocess\", FeatureHasher(input_type=\"string\"), \"documents\"),\n",
       "...      (\"num_preprocess\", MinMaxScaler(), [\"width\"])])\n",
       ">>> X_trans = ct.fit_transform(X)  # doctest: +SKIP\n",
       "\u001b[0;31mFile:\u001b[0m           ~/anaconda3/lib/python3.11/site-packages/sklearn/compose/_column_transformer.py\n",
       "\u001b[0;31mType:\u001b[0m           ABCMeta\n",
       "\u001b[0;31mSubclasses:\u001b[0m     "
      ]
     },
     "metadata": {},
     "output_type": "display_data"
    }
   ],
   "source": [
    "ColumnTransformer?"
   ]
  },
  {
   "cell_type": "markdown",
   "metadata": {
    "id": "ZT_BjSzytpVX"
   },
   "source": [
    "Parâmetros ColumnTransformer\n",
    "- name: nome dado a transformação.\n",
    "- transformer: tipo de estimador (OneHotEncoder).\n",
    "- columns: colunas que serão transformadas.\n",
    "- remainder: o que acontecerá com o restante das colunas não relacionadas:\n",
    "1) drop = exclui as outras colunas.\n",
    "2) passthrough = mantém as outras colunas. drop é default.  \n",
    "- sparse_threshold: parâmetro de classificação de matrizes esparsas. default é 0.3\n",
    "- n_jobs: número de trabalhos a serem executados em paralelo. default é nenhum\n",
    "- transformer_weights: definição de pesos aos transformadores.\n",
    "-verbose: default é False. se for True a execução é apresentada na tela."
   ]
  },
  {
   "cell_type": "code",
   "execution_count": 39,
   "metadata": {
    "executionInfo": {
     "elapsed": 43,
     "status": "ok",
     "timestamp": 1689263489174,
     "user": {
      "displayName": "Luciano Galdino",
      "userId": "10237697037323960148"
     },
     "user_tz": 180
    },
    "id": "rXFOyMmd9JEB"
   },
   "outputs": [],
   "source": [
    "previsores3 = ColumnTransformer(transformers=[('OneHot', OneHotEncoder(), [1,2,6,8,10])],\n",
    "                                remainder='passthrough').fit_transform(previsores2)"
   ]
  },
  {
   "cell_type": "code",
   "execution_count": 40,
   "metadata": {
    "colab": {
     "base_uri": "https://localhost:8080/"
    },
    "executionInfo": {
     "elapsed": 44,
     "status": "ok",
     "timestamp": 1689263489175,
     "user": {
      "displayName": "Luciano Galdino",
      "userId": "10237697037323960148"
     },
     "user_tz": 180
    },
    "id": "F_H3hiDD_pfB",
    "outputId": "094e4588-1230-4df3-bd41-8a74229d7307"
   },
   "outputs": [
    {
     "data": {
      "text/plain": [
       "array([[0.0, 1.0, 0.0, ..., 0, 172, 0.0],\n",
       "       [1.0, 0.0, 0.0, ..., 0, 156, 1.0],\n",
       "       [0.0, 1.0, 0.0, ..., 0, 98, 0.0],\n",
       "       ...,\n",
       "       [0.0, 1.0, 1.0, ..., 0, 115, 1.2],\n",
       "       [1.0, 0.0, 0.0, ..., 0, 174, 0.0],\n",
       "       [0.0, 1.0, 0.0, ..., 0, 173, 0.0]], dtype=object)"
      ]
     },
     "execution_count": 40,
     "metadata": {},
     "output_type": "execute_result"
    }
   ],
   "source": [
    "previsores3"
   ]
  },
  {
   "cell_type": "code",
   "execution_count": 36,
   "metadata": {
    "colab": {
     "base_uri": "https://localhost:8080/"
    },
    "executionInfo": {
     "elapsed": 44,
     "status": "ok",
     "timestamp": 1689263489176,
     "user": {
      "displayName": "Luciano Galdino",
      "userId": "10237697037323960148"
     },
     "user_tz": 180
    },
    "id": "eZ-nG4XEBMXU",
    "outputId": "401bc5b5-0b89-4929-80c8-7a534a2989fa"
   },
   "outputs": [
    {
     "data": {
      "text/plain": [
       "(917, 20)"
      ]
     },
     "execution_count": 36,
     "metadata": {},
     "output_type": "execute_result"
    }
   ],
   "source": [
    "previsores3.shape"
   ]
  },
  {
   "cell_type": "code",
   "execution_count": 37,
   "metadata": {
    "colab": {
     "base_uri": "https://localhost:8080/",
     "height": 0
    },
    "executionInfo": {
     "elapsed": 44,
     "status": "ok",
     "timestamp": 1689263489177,
     "user": {
      "displayName": "Luciano Galdino",
      "userId": "10237697037323960148"
     },
     "user_tz": 180
    },
    "id": "1iTTX6b0C_0-",
    "outputId": "445b8642-b7a5-4de0-f9b1-2808cb8e1197"
   },
   "outputs": [
    {
     "data": {
      "text/html": [
       "<div>\n",
       "<style scoped>\n",
       "    .dataframe tbody tr th:only-of-type {\n",
       "        vertical-align: middle;\n",
       "    }\n",
       "\n",
       "    .dataframe tbody tr th {\n",
       "        vertical-align: top;\n",
       "    }\n",
       "\n",
       "    .dataframe thead th {\n",
       "        text-align: right;\n",
       "    }\n",
       "</style>\n",
       "<table border=\"1\" class=\"dataframe\">\n",
       "  <thead>\n",
       "    <tr style=\"text-align: right;\">\n",
       "      <th></th>\n",
       "      <th>0</th>\n",
       "      <th>1</th>\n",
       "      <th>2</th>\n",
       "      <th>3</th>\n",
       "      <th>4</th>\n",
       "      <th>5</th>\n",
       "      <th>6</th>\n",
       "      <th>7</th>\n",
       "      <th>8</th>\n",
       "      <th>9</th>\n",
       "      <th>10</th>\n",
       "      <th>11</th>\n",
       "      <th>12</th>\n",
       "      <th>13</th>\n",
       "      <th>14</th>\n",
       "      <th>15</th>\n",
       "      <th>16</th>\n",
       "      <th>17</th>\n",
       "      <th>18</th>\n",
       "      <th>19</th>\n",
       "    </tr>\n",
       "  </thead>\n",
       "  <tbody>\n",
       "    <tr>\n",
       "      <th>0</th>\n",
       "      <td>0.0</td>\n",
       "      <td>1.0</td>\n",
       "      <td>0.0</td>\n",
       "      <td>1.0</td>\n",
       "      <td>0.0</td>\n",
       "      <td>0.0</td>\n",
       "      <td>0.0</td>\n",
       "      <td>1.0</td>\n",
       "      <td>0.0</td>\n",
       "      <td>1.0</td>\n",
       "      <td>0.0</td>\n",
       "      <td>0.0</td>\n",
       "      <td>0.0</td>\n",
       "      <td>1.0</td>\n",
       "      <td>40</td>\n",
       "      <td>140</td>\n",
       "      <td>289.0</td>\n",
       "      <td>0</td>\n",
       "      <td>172</td>\n",
       "      <td>0.0</td>\n",
       "    </tr>\n",
       "    <tr>\n",
       "      <th>1</th>\n",
       "      <td>1.0</td>\n",
       "      <td>0.0</td>\n",
       "      <td>0.0</td>\n",
       "      <td>0.0</td>\n",
       "      <td>1.0</td>\n",
       "      <td>0.0</td>\n",
       "      <td>0.0</td>\n",
       "      <td>1.0</td>\n",
       "      <td>0.0</td>\n",
       "      <td>1.0</td>\n",
       "      <td>0.0</td>\n",
       "      <td>0.0</td>\n",
       "      <td>1.0</td>\n",
       "      <td>0.0</td>\n",
       "      <td>49</td>\n",
       "      <td>160</td>\n",
       "      <td>180.0</td>\n",
       "      <td>0</td>\n",
       "      <td>156</td>\n",
       "      <td>1.0</td>\n",
       "    </tr>\n",
       "    <tr>\n",
       "      <th>2</th>\n",
       "      <td>0.0</td>\n",
       "      <td>1.0</td>\n",
       "      <td>0.0</td>\n",
       "      <td>1.0</td>\n",
       "      <td>0.0</td>\n",
       "      <td>0.0</td>\n",
       "      <td>0.0</td>\n",
       "      <td>0.0</td>\n",
       "      <td>1.0</td>\n",
       "      <td>1.0</td>\n",
       "      <td>0.0</td>\n",
       "      <td>0.0</td>\n",
       "      <td>0.0</td>\n",
       "      <td>1.0</td>\n",
       "      <td>37</td>\n",
       "      <td>130</td>\n",
       "      <td>283.0</td>\n",
       "      <td>0</td>\n",
       "      <td>98</td>\n",
       "      <td>0.0</td>\n",
       "    </tr>\n",
       "    <tr>\n",
       "      <th>3</th>\n",
       "      <td>1.0</td>\n",
       "      <td>0.0</td>\n",
       "      <td>1.0</td>\n",
       "      <td>0.0</td>\n",
       "      <td>0.0</td>\n",
       "      <td>0.0</td>\n",
       "      <td>0.0</td>\n",
       "      <td>1.0</td>\n",
       "      <td>0.0</td>\n",
       "      <td>0.0</td>\n",
       "      <td>1.0</td>\n",
       "      <td>0.0</td>\n",
       "      <td>1.0</td>\n",
       "      <td>0.0</td>\n",
       "      <td>48</td>\n",
       "      <td>138</td>\n",
       "      <td>214.0</td>\n",
       "      <td>0</td>\n",
       "      <td>108</td>\n",
       "      <td>1.5</td>\n",
       "    </tr>\n",
       "    <tr>\n",
       "      <th>4</th>\n",
       "      <td>0.0</td>\n",
       "      <td>1.0</td>\n",
       "      <td>0.0</td>\n",
       "      <td>0.0</td>\n",
       "      <td>1.0</td>\n",
       "      <td>0.0</td>\n",
       "      <td>0.0</td>\n",
       "      <td>1.0</td>\n",
       "      <td>0.0</td>\n",
       "      <td>1.0</td>\n",
       "      <td>0.0</td>\n",
       "      <td>0.0</td>\n",
       "      <td>0.0</td>\n",
       "      <td>1.0</td>\n",
       "      <td>54</td>\n",
       "      <td>150</td>\n",
       "      <td>195.0</td>\n",
       "      <td>0</td>\n",
       "      <td>122</td>\n",
       "      <td>0.0</td>\n",
       "    </tr>\n",
       "  </tbody>\n",
       "</table>\n",
       "</div>"
      ],
      "text/plain": [
       "    0    1    2    3    4    5    6    7    8    9    10   11   12   13  14  \\\n",
       "0  0.0  1.0  0.0  1.0  0.0  0.0  0.0  1.0  0.0  1.0  0.0  0.0  0.0  1.0  40   \n",
       "1  1.0  0.0  0.0  0.0  1.0  0.0  0.0  1.0  0.0  1.0  0.0  0.0  1.0  0.0  49   \n",
       "2  0.0  1.0  0.0  1.0  0.0  0.0  0.0  0.0  1.0  1.0  0.0  0.0  0.0  1.0  37   \n",
       "3  1.0  0.0  1.0  0.0  0.0  0.0  0.0  1.0  0.0  0.0  1.0  0.0  1.0  0.0  48   \n",
       "4  0.0  1.0  0.0  0.0  1.0  0.0  0.0  1.0  0.0  1.0  0.0  0.0  0.0  1.0  54   \n",
       "\n",
       "    15     16 17   18   19  \n",
       "0  140  289.0  0  172  0.0  \n",
       "1  160  180.0  0  156  1.0  \n",
       "2  130  283.0  0   98  0.0  \n",
       "3  138  214.0  0  108  1.5  \n",
       "4  150  195.0  0  122  0.0  "
      ]
     },
     "execution_count": 37,
     "metadata": {},
     "output_type": "execute_result"
    }
   ],
   "source": [
    "previsores3df = pd.DataFrame(previsores3)\n",
    "previsores3df.head()"
   ]
  },
  {
   "cell_type": "code",
   "execution_count": 38,
   "metadata": {
    "colab": {
     "base_uri": "https://localhost:8080/",
     "height": 0
    },
    "executionInfo": {
     "elapsed": 43,
     "status": "ok",
     "timestamp": 1689263489177,
     "user": {
      "displayName": "Luciano Galdino",
      "userId": "10237697037323960148"
     },
     "user_tz": 180
    },
    "id": "KTfczx7EDvwc",
    "outputId": "c77094cc-f44c-4c6b-ae68-f53e5f20c790"
   },
   "outputs": [
    {
     "data": {
      "text/html": [
       "<div>\n",
       "<style scoped>\n",
       "    .dataframe tbody tr th:only-of-type {\n",
       "        vertical-align: middle;\n",
       "    }\n",
       "\n",
       "    .dataframe tbody tr th {\n",
       "        vertical-align: top;\n",
       "    }\n",
       "\n",
       "    .dataframe thead th {\n",
       "        text-align: right;\n",
       "    }\n",
       "</style>\n",
       "<table border=\"1\" class=\"dataframe\">\n",
       "  <thead>\n",
       "    <tr style=\"text-align: right;\">\n",
       "      <th></th>\n",
       "      <th>Age</th>\n",
       "      <th>Sex</th>\n",
       "      <th>ChestPainType</th>\n",
       "      <th>RestingBP</th>\n",
       "      <th>Cholesterol</th>\n",
       "      <th>FastingBS</th>\n",
       "      <th>RestingECG</th>\n",
       "      <th>MaxHR</th>\n",
       "      <th>ExerciseAngina</th>\n",
       "      <th>Oldpeak</th>\n",
       "      <th>ST_Slope</th>\n",
       "      <th>HeartDisease</th>\n",
       "    </tr>\n",
       "  </thead>\n",
       "  <tbody>\n",
       "    <tr>\n",
       "      <th>0</th>\n",
       "      <td>40</td>\n",
       "      <td>M</td>\n",
       "      <td>ATA</td>\n",
       "      <td>140</td>\n",
       "      <td>289.0</td>\n",
       "      <td>0</td>\n",
       "      <td>Normal</td>\n",
       "      <td>172</td>\n",
       "      <td>N</td>\n",
       "      <td>0.0</td>\n",
       "      <td>Up</td>\n",
       "      <td>0</td>\n",
       "    </tr>\n",
       "    <tr>\n",
       "      <th>1</th>\n",
       "      <td>49</td>\n",
       "      <td>F</td>\n",
       "      <td>NAP</td>\n",
       "      <td>160</td>\n",
       "      <td>180.0</td>\n",
       "      <td>0</td>\n",
       "      <td>Normal</td>\n",
       "      <td>156</td>\n",
       "      <td>N</td>\n",
       "      <td>1.0</td>\n",
       "      <td>Flat</td>\n",
       "      <td>1</td>\n",
       "    </tr>\n",
       "    <tr>\n",
       "      <th>2</th>\n",
       "      <td>37</td>\n",
       "      <td>M</td>\n",
       "      <td>ATA</td>\n",
       "      <td>130</td>\n",
       "      <td>283.0</td>\n",
       "      <td>0</td>\n",
       "      <td>ST</td>\n",
       "      <td>98</td>\n",
       "      <td>N</td>\n",
       "      <td>0.0</td>\n",
       "      <td>Up</td>\n",
       "      <td>0</td>\n",
       "    </tr>\n",
       "    <tr>\n",
       "      <th>3</th>\n",
       "      <td>48</td>\n",
       "      <td>F</td>\n",
       "      <td>ASY</td>\n",
       "      <td>138</td>\n",
       "      <td>214.0</td>\n",
       "      <td>0</td>\n",
       "      <td>Normal</td>\n",
       "      <td>108</td>\n",
       "      <td>Y</td>\n",
       "      <td>1.5</td>\n",
       "      <td>Flat</td>\n",
       "      <td>1</td>\n",
       "    </tr>\n",
       "    <tr>\n",
       "      <th>4</th>\n",
       "      <td>54</td>\n",
       "      <td>M</td>\n",
       "      <td>NAP</td>\n",
       "      <td>150</td>\n",
       "      <td>195.0</td>\n",
       "      <td>0</td>\n",
       "      <td>Normal</td>\n",
       "      <td>122</td>\n",
       "      <td>N</td>\n",
       "      <td>0.0</td>\n",
       "      <td>Up</td>\n",
       "      <td>0</td>\n",
       "    </tr>\n",
       "  </tbody>\n",
       "</table>\n",
       "</div>"
      ],
      "text/plain": [
       "   Age Sex ChestPainType  RestingBP  Cholesterol  FastingBS RestingECG  MaxHR  \\\n",
       "0   40   M           ATA        140        289.0          0     Normal    172   \n",
       "1   49   F           NAP        160        180.0          0     Normal    156   \n",
       "2   37   M           ATA        130        283.0          0         ST     98   \n",
       "3   48   F           ASY        138        214.0          0     Normal    108   \n",
       "4   54   M           NAP        150        195.0          0     Normal    122   \n",
       "\n",
       "  ExerciseAngina  Oldpeak ST_Slope  HeartDisease  \n",
       "0              N      0.0       Up             0  \n",
       "1              N      1.0     Flat             1  \n",
       "2              N      0.0       Up             0  \n",
       "3              Y      1.5     Flat             1  \n",
       "4              N      0.0       Up             0  "
      ]
     },
     "execution_count": 38,
     "metadata": {},
     "output_type": "execute_result"
    }
   ],
   "source": [
    "df.head()"
   ]
  },
  {
   "cell_type": "markdown",
   "metadata": {
    "id": "YWlyb9T-Fk1I"
   },
   "source": [
    "## **Escalonamento**"
   ]
  },
  {
   "cell_type": "code",
   "execution_count": 39,
   "metadata": {
    "executionInfo": {
     "elapsed": 41,
     "status": "ok",
     "timestamp": 1689263489177,
     "user": {
      "displayName": "Luciano Galdino",
      "userId": "10237697037323960148"
     },
     "user_tz": 180
    },
    "id": "x4jzommSFk1L"
   },
   "outputs": [],
   "source": [
    "from sklearn.preprocessing import StandardScaler"
   ]
  },
  {
   "cell_type": "code",
   "execution_count": 40,
   "metadata": {
    "executionInfo": {
     "elapsed": 42,
     "status": "ok",
     "timestamp": 1689263489178,
     "user": {
      "displayName": "Luciano Galdino",
      "userId": "10237697037323960148"
     },
     "user_tz": 180
    },
    "id": "nvLu4mtDFk1L"
   },
   "outputs": [],
   "source": [
    "previsores3_esc = StandardScaler().fit_transform(previsores3)"
   ]
  },
  {
   "cell_type": "code",
   "execution_count": 41,
   "metadata": {
    "colab": {
     "base_uri": "https://localhost:8080/"
    },
    "executionInfo": {
     "elapsed": 465,
     "status": "ok",
     "timestamp": 1689263489601,
     "user": {
      "displayName": "Luciano Galdino",
      "userId": "10237697037323960148"
     },
     "user_tz": 180
    },
    "id": "eFTA8spkFk1M",
    "outputId": "a8605f8d-1da6-4555-a906-a1e048890094"
   },
   "outputs": [
    {
     "data": {
      "text/plain": [
       "array([[-0.51630861,  0.51630861, -1.08542493, ..., -0.55173333,\n",
       "         1.38333943, -0.83150225],\n",
       "       [ 1.9368261 , -1.9368261 , -1.08542493, ..., -0.55173333,\n",
       "         0.75473573,  0.10625149],\n",
       "       [-0.51630861,  0.51630861, -1.08542493, ..., -0.55173333,\n",
       "        -1.52395266, -0.83150225],\n",
       "       ...,\n",
       "       [-0.51630861,  0.51630861,  0.92129817, ..., -0.55173333,\n",
       "        -0.85606123,  0.29380223],\n",
       "       [ 1.9368261 , -1.9368261 , -1.08542493, ..., -0.55173333,\n",
       "         1.46191489, -0.83150225],\n",
       "       [-0.51630861,  0.51630861, -1.08542493, ..., -0.55173333,\n",
       "         1.42262716, -0.83150225]])"
      ]
     },
     "execution_count": 41,
     "metadata": {},
     "output_type": "execute_result"
    }
   ],
   "source": [
    "previsores3_esc"
   ]
  },
  {
   "cell_type": "code",
   "execution_count": 42,
   "metadata": {
    "colab": {
     "base_uri": "https://localhost:8080/",
     "height": 0
    },
    "executionInfo": {
     "elapsed": 10,
     "status": "ok",
     "timestamp": 1689263489601,
     "user": {
      "displayName": "Luciano Galdino",
      "userId": "10237697037323960148"
     },
     "user_tz": 180
    },
    "id": "w6JQStnqFk1M",
    "outputId": "649331d8-8f89-4c76-d4c5-f7d2bc6103d0"
   },
   "outputs": [
    {
     "data": {
      "text/html": [
       "<div>\n",
       "<style scoped>\n",
       "    .dataframe tbody tr th:only-of-type {\n",
       "        vertical-align: middle;\n",
       "    }\n",
       "\n",
       "    .dataframe tbody tr th {\n",
       "        vertical-align: top;\n",
       "    }\n",
       "\n",
       "    .dataframe thead th {\n",
       "        text-align: right;\n",
       "    }\n",
       "</style>\n",
       "<table border=\"1\" class=\"dataframe\">\n",
       "  <thead>\n",
       "    <tr style=\"text-align: right;\">\n",
       "      <th></th>\n",
       "      <th>0</th>\n",
       "      <th>1</th>\n",
       "      <th>2</th>\n",
       "      <th>3</th>\n",
       "      <th>4</th>\n",
       "      <th>5</th>\n",
       "      <th>6</th>\n",
       "      <th>7</th>\n",
       "      <th>8</th>\n",
       "      <th>9</th>\n",
       "      <th>10</th>\n",
       "      <th>11</th>\n",
       "      <th>12</th>\n",
       "      <th>13</th>\n",
       "      <th>14</th>\n",
       "      <th>15</th>\n",
       "      <th>16</th>\n",
       "      <th>17</th>\n",
       "      <th>18</th>\n",
       "      <th>19</th>\n",
       "    </tr>\n",
       "  </thead>\n",
       "  <tbody>\n",
       "    <tr>\n",
       "      <th>0</th>\n",
       "      <td>-0.516309</td>\n",
       "      <td>0.516309</td>\n",
       "      <td>-1.085425</td>\n",
       "      <td>2.073784</td>\n",
       "      <td>-0.531524</td>\n",
       "      <td>-0.229810</td>\n",
       "      <td>-0.507826</td>\n",
       "      <td>0.815013</td>\n",
       "      <td>-0.490781</td>\n",
       "      <td>0.824310</td>\n",
       "      <td>-0.824310</td>\n",
       "      <td>-0.271607</td>\n",
       "      <td>-1.001091</td>\n",
       "      <td>1.149573</td>\n",
       "      <td>-1.432206</td>\n",
       "      <td>0.414627</td>\n",
       "      <td>0.832075</td>\n",
       "      <td>-0.551733</td>\n",
       "      <td>1.383339</td>\n",
       "      <td>-0.831502</td>\n",
       "    </tr>\n",
       "    <tr>\n",
       "      <th>1</th>\n",
       "      <td>1.936826</td>\n",
       "      <td>-1.936826</td>\n",
       "      <td>-1.085425</td>\n",
       "      <td>-0.482210</td>\n",
       "      <td>1.881384</td>\n",
       "      <td>-0.229810</td>\n",
       "      <td>-0.507826</td>\n",
       "      <td>0.815013</td>\n",
       "      <td>-0.490781</td>\n",
       "      <td>0.824310</td>\n",
       "      <td>-0.824310</td>\n",
       "      <td>-0.271607</td>\n",
       "      <td>0.998910</td>\n",
       "      <td>-0.869888</td>\n",
       "      <td>-0.478057</td>\n",
       "      <td>1.526360</td>\n",
       "      <td>-1.212261</td>\n",
       "      <td>-0.551733</td>\n",
       "      <td>0.754736</td>\n",
       "      <td>0.106251</td>\n",
       "    </tr>\n",
       "    <tr>\n",
       "      <th>2</th>\n",
       "      <td>-0.516309</td>\n",
       "      <td>0.516309</td>\n",
       "      <td>-1.085425</td>\n",
       "      <td>2.073784</td>\n",
       "      <td>-0.531524</td>\n",
       "      <td>-0.229810</td>\n",
       "      <td>-0.507826</td>\n",
       "      <td>-1.226974</td>\n",
       "      <td>2.037569</td>\n",
       "      <td>0.824310</td>\n",
       "      <td>-0.824310</td>\n",
       "      <td>-0.271607</td>\n",
       "      <td>-1.001091</td>\n",
       "      <td>1.149573</td>\n",
       "      <td>-1.750256</td>\n",
       "      <td>-0.141240</td>\n",
       "      <td>0.719543</td>\n",
       "      <td>-0.551733</td>\n",
       "      <td>-1.523953</td>\n",
       "      <td>-0.831502</td>\n",
       "    </tr>\n",
       "    <tr>\n",
       "      <th>3</th>\n",
       "      <td>1.936826</td>\n",
       "      <td>-1.936826</td>\n",
       "      <td>0.921298</td>\n",
       "      <td>-0.482210</td>\n",
       "      <td>-0.531524</td>\n",
       "      <td>-0.229810</td>\n",
       "      <td>-0.507826</td>\n",
       "      <td>0.815013</td>\n",
       "      <td>-0.490781</td>\n",
       "      <td>-1.213136</td>\n",
       "      <td>1.213136</td>\n",
       "      <td>-0.271607</td>\n",
       "      <td>0.998910</td>\n",
       "      <td>-0.869888</td>\n",
       "      <td>-0.584074</td>\n",
       "      <td>0.303453</td>\n",
       "      <td>-0.574578</td>\n",
       "      <td>-0.551733</td>\n",
       "      <td>-1.131075</td>\n",
       "      <td>0.575128</td>\n",
       "    </tr>\n",
       "    <tr>\n",
       "      <th>4</th>\n",
       "      <td>-0.516309</td>\n",
       "      <td>0.516309</td>\n",
       "      <td>-1.085425</td>\n",
       "      <td>-0.482210</td>\n",
       "      <td>1.881384</td>\n",
       "      <td>-0.229810</td>\n",
       "      <td>-0.507826</td>\n",
       "      <td>0.815013</td>\n",
       "      <td>-0.490781</td>\n",
       "      <td>0.824310</td>\n",
       "      <td>-0.824310</td>\n",
       "      <td>-0.271607</td>\n",
       "      <td>-1.001091</td>\n",
       "      <td>1.149573</td>\n",
       "      <td>0.052026</td>\n",
       "      <td>0.970493</td>\n",
       "      <td>-0.930931</td>\n",
       "      <td>-0.551733</td>\n",
       "      <td>-0.581047</td>\n",
       "      <td>-0.831502</td>\n",
       "    </tr>\n",
       "    <tr>\n",
       "      <th>...</th>\n",
       "      <td>...</td>\n",
       "      <td>...</td>\n",
       "      <td>...</td>\n",
       "      <td>...</td>\n",
       "      <td>...</td>\n",
       "      <td>...</td>\n",
       "      <td>...</td>\n",
       "      <td>...</td>\n",
       "      <td>...</td>\n",
       "      <td>...</td>\n",
       "      <td>...</td>\n",
       "      <td>...</td>\n",
       "      <td>...</td>\n",
       "      <td>...</td>\n",
       "      <td>...</td>\n",
       "      <td>...</td>\n",
       "      <td>...</td>\n",
       "      <td>...</td>\n",
       "      <td>...</td>\n",
       "      <td>...</td>\n",
       "    </tr>\n",
       "    <tr>\n",
       "      <th>912</th>\n",
       "      <td>-0.516309</td>\n",
       "      <td>0.516309</td>\n",
       "      <td>-1.085425</td>\n",
       "      <td>-0.482210</td>\n",
       "      <td>-0.531524</td>\n",
       "      <td>4.351412</td>\n",
       "      <td>-0.507826</td>\n",
       "      <td>0.815013</td>\n",
       "      <td>-0.490781</td>\n",
       "      <td>0.824310</td>\n",
       "      <td>-0.824310</td>\n",
       "      <td>-0.271607</td>\n",
       "      <td>0.998910</td>\n",
       "      <td>-0.869888</td>\n",
       "      <td>-0.902124</td>\n",
       "      <td>-1.252973</td>\n",
       "      <td>0.363191</td>\n",
       "      <td>-0.551733</td>\n",
       "      <td>-0.188170</td>\n",
       "      <td>0.293802</td>\n",
       "    </tr>\n",
       "    <tr>\n",
       "      <th>913</th>\n",
       "      <td>-0.516309</td>\n",
       "      <td>0.516309</td>\n",
       "      <td>0.921298</td>\n",
       "      <td>-0.482210</td>\n",
       "      <td>-0.531524</td>\n",
       "      <td>-0.229810</td>\n",
       "      <td>-0.507826</td>\n",
       "      <td>0.815013</td>\n",
       "      <td>-0.490781</td>\n",
       "      <td>0.824310</td>\n",
       "      <td>-0.824310</td>\n",
       "      <td>-0.271607</td>\n",
       "      <td>0.998910</td>\n",
       "      <td>-0.869888</td>\n",
       "      <td>1.536257</td>\n",
       "      <td>0.636973</td>\n",
       "      <td>-0.968441</td>\n",
       "      <td>1.812470</td>\n",
       "      <td>0.165420</td>\n",
       "      <td>2.356860</td>\n",
       "    </tr>\n",
       "    <tr>\n",
       "      <th>914</th>\n",
       "      <td>-0.516309</td>\n",
       "      <td>0.516309</td>\n",
       "      <td>0.921298</td>\n",
       "      <td>-0.482210</td>\n",
       "      <td>-0.531524</td>\n",
       "      <td>-0.229810</td>\n",
       "      <td>-0.507826</td>\n",
       "      <td>0.815013</td>\n",
       "      <td>-0.490781</td>\n",
       "      <td>-1.213136</td>\n",
       "      <td>1.213136</td>\n",
       "      <td>-0.271607</td>\n",
       "      <td>0.998910</td>\n",
       "      <td>-0.869888</td>\n",
       "      <td>0.370075</td>\n",
       "      <td>-0.141240</td>\n",
       "      <td>-2.131275</td>\n",
       "      <td>-0.551733</td>\n",
       "      <td>-0.856061</td>\n",
       "      <td>0.293802</td>\n",
       "    </tr>\n",
       "    <tr>\n",
       "      <th>915</th>\n",
       "      <td>1.936826</td>\n",
       "      <td>-1.936826</td>\n",
       "      <td>-1.085425</td>\n",
       "      <td>2.073784</td>\n",
       "      <td>-0.531524</td>\n",
       "      <td>-0.229810</td>\n",
       "      <td>1.969177</td>\n",
       "      <td>-1.226974</td>\n",
       "      <td>-0.490781</td>\n",
       "      <td>0.824310</td>\n",
       "      <td>-0.824310</td>\n",
       "      <td>-0.271607</td>\n",
       "      <td>0.998910</td>\n",
       "      <td>-0.869888</td>\n",
       "      <td>0.370075</td>\n",
       "      <td>-0.141240</td>\n",
       "      <td>-0.161960</td>\n",
       "      <td>-0.551733</td>\n",
       "      <td>1.461915</td>\n",
       "      <td>-0.831502</td>\n",
       "    </tr>\n",
       "    <tr>\n",
       "      <th>916</th>\n",
       "      <td>-0.516309</td>\n",
       "      <td>0.516309</td>\n",
       "      <td>-1.085425</td>\n",
       "      <td>-0.482210</td>\n",
       "      <td>1.881384</td>\n",
       "      <td>-0.229810</td>\n",
       "      <td>-0.507826</td>\n",
       "      <td>0.815013</td>\n",
       "      <td>-0.490781</td>\n",
       "      <td>0.824310</td>\n",
       "      <td>-0.824310</td>\n",
       "      <td>-0.271607</td>\n",
       "      <td>-1.001091</td>\n",
       "      <td>1.149573</td>\n",
       "      <td>-1.644239</td>\n",
       "      <td>0.303453</td>\n",
       "      <td>-1.306038</td>\n",
       "      <td>-0.551733</td>\n",
       "      <td>1.422627</td>\n",
       "      <td>-0.831502</td>\n",
       "    </tr>\n",
       "  </tbody>\n",
       "</table>\n",
       "<p>917 rows × 20 columns</p>\n",
       "</div>"
      ],
      "text/plain": [
       "           0         1         2         3         4         5         6   \\\n",
       "0   -0.516309  0.516309 -1.085425  2.073784 -0.531524 -0.229810 -0.507826   \n",
       "1    1.936826 -1.936826 -1.085425 -0.482210  1.881384 -0.229810 -0.507826   \n",
       "2   -0.516309  0.516309 -1.085425  2.073784 -0.531524 -0.229810 -0.507826   \n",
       "3    1.936826 -1.936826  0.921298 -0.482210 -0.531524 -0.229810 -0.507826   \n",
       "4   -0.516309  0.516309 -1.085425 -0.482210  1.881384 -0.229810 -0.507826   \n",
       "..        ...       ...       ...       ...       ...       ...       ...   \n",
       "912 -0.516309  0.516309 -1.085425 -0.482210 -0.531524  4.351412 -0.507826   \n",
       "913 -0.516309  0.516309  0.921298 -0.482210 -0.531524 -0.229810 -0.507826   \n",
       "914 -0.516309  0.516309  0.921298 -0.482210 -0.531524 -0.229810 -0.507826   \n",
       "915  1.936826 -1.936826 -1.085425  2.073784 -0.531524 -0.229810  1.969177   \n",
       "916 -0.516309  0.516309 -1.085425 -0.482210  1.881384 -0.229810 -0.507826   \n",
       "\n",
       "           7         8         9         10        11        12        13  \\\n",
       "0    0.815013 -0.490781  0.824310 -0.824310 -0.271607 -1.001091  1.149573   \n",
       "1    0.815013 -0.490781  0.824310 -0.824310 -0.271607  0.998910 -0.869888   \n",
       "2   -1.226974  2.037569  0.824310 -0.824310 -0.271607 -1.001091  1.149573   \n",
       "3    0.815013 -0.490781 -1.213136  1.213136 -0.271607  0.998910 -0.869888   \n",
       "4    0.815013 -0.490781  0.824310 -0.824310 -0.271607 -1.001091  1.149573   \n",
       "..        ...       ...       ...       ...       ...       ...       ...   \n",
       "912  0.815013 -0.490781  0.824310 -0.824310 -0.271607  0.998910 -0.869888   \n",
       "913  0.815013 -0.490781  0.824310 -0.824310 -0.271607  0.998910 -0.869888   \n",
       "914  0.815013 -0.490781 -1.213136  1.213136 -0.271607  0.998910 -0.869888   \n",
       "915 -1.226974 -0.490781  0.824310 -0.824310 -0.271607  0.998910 -0.869888   \n",
       "916  0.815013 -0.490781  0.824310 -0.824310 -0.271607 -1.001091  1.149573   \n",
       "\n",
       "           14        15        16        17        18        19  \n",
       "0   -1.432206  0.414627  0.832075 -0.551733  1.383339 -0.831502  \n",
       "1   -0.478057  1.526360 -1.212261 -0.551733  0.754736  0.106251  \n",
       "2   -1.750256 -0.141240  0.719543 -0.551733 -1.523953 -0.831502  \n",
       "3   -0.584074  0.303453 -0.574578 -0.551733 -1.131075  0.575128  \n",
       "4    0.052026  0.970493 -0.930931 -0.551733 -0.581047 -0.831502  \n",
       "..        ...       ...       ...       ...       ...       ...  \n",
       "912 -0.902124 -1.252973  0.363191 -0.551733 -0.188170  0.293802  \n",
       "913  1.536257  0.636973 -0.968441  1.812470  0.165420  2.356860  \n",
       "914  0.370075 -0.141240 -2.131275 -0.551733 -0.856061  0.293802  \n",
       "915  0.370075 -0.141240 -0.161960 -0.551733  1.461915 -0.831502  \n",
       "916 -1.644239  0.303453 -1.306038 -0.551733  1.422627 -0.831502  \n",
       "\n",
       "[917 rows x 20 columns]"
      ]
     },
     "execution_count": 42,
     "metadata": {},
     "output_type": "execute_result"
    }
   ],
   "source": [
    "previsores3df = pd.DataFrame(previsores3_esc)\n",
    "previsores3df"
   ]
  },
  {
   "cell_type": "code",
   "execution_count": 43,
   "metadata": {
    "colab": {
     "base_uri": "https://localhost:8080/",
     "height": 0
    },
    "executionInfo": {
     "elapsed": 10,
     "status": "ok",
     "timestamp": 1689263489602,
     "user": {
      "displayName": "Luciano Galdino",
      "userId": "10237697037323960148"
     },
     "user_tz": 180
    },
    "id": "e-dcMRS-Fk1N",
    "outputId": "91056deb-e93c-4305-bd9d-d67f2b030981"
   },
   "outputs": [
    {
     "data": {
      "text/html": [
       "<div>\n",
       "<style scoped>\n",
       "    .dataframe tbody tr th:only-of-type {\n",
       "        vertical-align: middle;\n",
       "    }\n",
       "\n",
       "    .dataframe tbody tr th {\n",
       "        vertical-align: top;\n",
       "    }\n",
       "\n",
       "    .dataframe thead th {\n",
       "        text-align: right;\n",
       "    }\n",
       "</style>\n",
       "<table border=\"1\" class=\"dataframe\">\n",
       "  <thead>\n",
       "    <tr style=\"text-align: right;\">\n",
       "      <th></th>\n",
       "      <th>0</th>\n",
       "      <th>1</th>\n",
       "      <th>2</th>\n",
       "      <th>3</th>\n",
       "      <th>4</th>\n",
       "      <th>5</th>\n",
       "      <th>6</th>\n",
       "      <th>7</th>\n",
       "      <th>8</th>\n",
       "      <th>9</th>\n",
       "      <th>10</th>\n",
       "      <th>11</th>\n",
       "      <th>12</th>\n",
       "      <th>13</th>\n",
       "      <th>14</th>\n",
       "      <th>15</th>\n",
       "      <th>16</th>\n",
       "      <th>17</th>\n",
       "      <th>18</th>\n",
       "      <th>19</th>\n",
       "    </tr>\n",
       "  </thead>\n",
       "  <tbody>\n",
       "    <tr>\n",
       "      <th>count</th>\n",
       "      <td>9.170000e+02</td>\n",
       "      <td>9.170000e+02</td>\n",
       "      <td>9.170000e+02</td>\n",
       "      <td>9.170000e+02</td>\n",
       "      <td>9.170000e+02</td>\n",
       "      <td>9.170000e+02</td>\n",
       "      <td>917.000000</td>\n",
       "      <td>9.170000e+02</td>\n",
       "      <td>9.170000e+02</td>\n",
       "      <td>9.170000e+02</td>\n",
       "      <td>9.170000e+02</td>\n",
       "      <td>9.170000e+02</td>\n",
       "      <td>917.000000</td>\n",
       "      <td>9.170000e+02</td>\n",
       "      <td>9.170000e+02</td>\n",
       "      <td>9.170000e+02</td>\n",
       "      <td>9.170000e+02</td>\n",
       "      <td>9.170000e+02</td>\n",
       "      <td>9.170000e+02</td>\n",
       "      <td>9.170000e+02</td>\n",
       "    </tr>\n",
       "    <tr>\n",
       "      <th>mean</th>\n",
       "      <td>1.084798e-16</td>\n",
       "      <td>-1.472226e-16</td>\n",
       "      <td>1.937139e-17</td>\n",
       "      <td>-3.874279e-17</td>\n",
       "      <td>3.874279e-17</td>\n",
       "      <td>6.973702e-17</td>\n",
       "      <td>0.000000</td>\n",
       "      <td>-9.298269e-17</td>\n",
       "      <td>1.549712e-17</td>\n",
       "      <td>-4.261707e-17</td>\n",
       "      <td>4.261707e-17</td>\n",
       "      <td>8.523413e-17</td>\n",
       "      <td>0.000000</td>\n",
       "      <td>-3.874279e-17</td>\n",
       "      <td>1.859654e-16</td>\n",
       "      <td>7.884157e-16</td>\n",
       "      <td>3.014189e-15</td>\n",
       "      <td>-1.549712e-17</td>\n",
       "      <td>-5.114048e-16</td>\n",
       "      <td>-1.859654e-16</td>\n",
       "    </tr>\n",
       "    <tr>\n",
       "      <th>std</th>\n",
       "      <td>1.000546e+00</td>\n",
       "      <td>1.000546e+00</td>\n",
       "      <td>1.000546e+00</td>\n",
       "      <td>1.000546e+00</td>\n",
       "      <td>1.000546e+00</td>\n",
       "      <td>1.000546e+00</td>\n",
       "      <td>1.000546</td>\n",
       "      <td>1.000546e+00</td>\n",
       "      <td>1.000546e+00</td>\n",
       "      <td>1.000546e+00</td>\n",
       "      <td>1.000546e+00</td>\n",
       "      <td>1.000546e+00</td>\n",
       "      <td>1.000546</td>\n",
       "      <td>1.000546e+00</td>\n",
       "      <td>1.000546e+00</td>\n",
       "      <td>1.000546e+00</td>\n",
       "      <td>1.000546e+00</td>\n",
       "      <td>1.000546e+00</td>\n",
       "      <td>1.000546e+00</td>\n",
       "      <td>1.000546e+00</td>\n",
       "    </tr>\n",
       "    <tr>\n",
       "      <th>min</th>\n",
       "      <td>-5.163086e-01</td>\n",
       "      <td>-1.936826e+00</td>\n",
       "      <td>-1.085425e+00</td>\n",
       "      <td>-4.822104e-01</td>\n",
       "      <td>-5.315237e-01</td>\n",
       "      <td>-2.298105e-01</td>\n",
       "      <td>-0.507826</td>\n",
       "      <td>-1.226974e+00</td>\n",
       "      <td>-4.907810e-01</td>\n",
       "      <td>-1.213136e+00</td>\n",
       "      <td>-8.243101e-01</td>\n",
       "      <td>-2.716072e-01</td>\n",
       "      <td>-1.001091</td>\n",
       "      <td>-8.698879e-01</td>\n",
       "      <td>-2.704405e+00</td>\n",
       "      <td>-2.920572e+00</td>\n",
       "      <td>-2.994023e+00</td>\n",
       "      <td>-5.517333e-01</td>\n",
       "      <td>-3.016886e+00</td>\n",
       "      <td>-3.269662e+00</td>\n",
       "    </tr>\n",
       "    <tr>\n",
       "      <th>25%</th>\n",
       "      <td>-5.163086e-01</td>\n",
       "      <td>5.163086e-01</td>\n",
       "      <td>-1.085425e+00</td>\n",
       "      <td>-4.822104e-01</td>\n",
       "      <td>-5.315237e-01</td>\n",
       "      <td>-2.298105e-01</td>\n",
       "      <td>-0.507826</td>\n",
       "      <td>-1.226974e+00</td>\n",
       "      <td>-4.907810e-01</td>\n",
       "      <td>-1.213136e+00</td>\n",
       "      <td>-8.243101e-01</td>\n",
       "      <td>-2.716072e-01</td>\n",
       "      <td>-1.001091</td>\n",
       "      <td>-8.698879e-01</td>\n",
       "      <td>-6.900904e-01</td>\n",
       "      <td>-6.971063e-01</td>\n",
       "      <td>-5.745784e-01</td>\n",
       "      <td>-5.517333e-01</td>\n",
       "      <td>-6.596226e-01</td>\n",
       "      <td>-8.315022e-01</td>\n",
       "    </tr>\n",
       "    <tr>\n",
       "      <th>50%</th>\n",
       "      <td>-5.163086e-01</td>\n",
       "      <td>5.163086e-01</td>\n",
       "      <td>9.212982e-01</td>\n",
       "      <td>-4.822104e-01</td>\n",
       "      <td>-5.315237e-01</td>\n",
       "      <td>-2.298105e-01</td>\n",
       "      <td>-0.507826</td>\n",
       "      <td>8.150134e-01</td>\n",
       "      <td>-4.907810e-01</td>\n",
       "      <td>8.243101e-01</td>\n",
       "      <td>-8.243101e-01</td>\n",
       "      <td>-2.716072e-01</td>\n",
       "      <td>0.998910</td>\n",
       "      <td>-8.698879e-01</td>\n",
       "      <td>5.202558e-02</td>\n",
       "      <td>-1.412398e-01</td>\n",
       "      <td>3.198360e-15</td>\n",
       "      <td>-5.517333e-01</td>\n",
       "      <td>4.755658e-02</td>\n",
       "      <td>-2.688500e-01</td>\n",
       "    </tr>\n",
       "    <tr>\n",
       "      <th>75%</th>\n",
       "      <td>-5.163086e-01</td>\n",
       "      <td>5.163086e-01</td>\n",
       "      <td>9.212982e-01</td>\n",
       "      <td>-4.822104e-01</td>\n",
       "      <td>-5.315237e-01</td>\n",
       "      <td>-2.298105e-01</td>\n",
       "      <td>-0.507826</td>\n",
       "      <td>8.150134e-01</td>\n",
       "      <td>-4.907810e-01</td>\n",
       "      <td>8.243101e-01</td>\n",
       "      <td>1.213136e+00</td>\n",
       "      <td>-2.716072e-01</td>\n",
       "      <td>0.998910</td>\n",
       "      <td>1.149573e+00</td>\n",
       "      <td>6.881250e-01</td>\n",
       "      <td>4.146267e-01</td>\n",
       "      <td>4.194568e-01</td>\n",
       "      <td>-5.517333e-01</td>\n",
       "      <td>7.547357e-01</td>\n",
       "      <td>5.751284e-01</td>\n",
       "    </tr>\n",
       "    <tr>\n",
       "      <th>max</th>\n",
       "      <td>1.936826e+00</td>\n",
       "      <td>5.163086e-01</td>\n",
       "      <td>9.212982e-01</td>\n",
       "      <td>2.073784e+00</td>\n",
       "      <td>1.881384e+00</td>\n",
       "      <td>4.351412e+00</td>\n",
       "      <td>1.969177</td>\n",
       "      <td>8.150134e-01</td>\n",
       "      <td>2.037569e+00</td>\n",
       "      <td>8.243101e-01</td>\n",
       "      <td>1.213136e+00</td>\n",
       "      <td>3.681787e+00</td>\n",
       "      <td>0.998910</td>\n",
       "      <td>1.149573e+00</td>\n",
       "      <td>2.490407e+00</td>\n",
       "      <td>3.749826e+00</td>\n",
       "      <td>6.721265e+00</td>\n",
       "      <td>1.812470e+00</td>\n",
       "      <td>2.561971e+00</td>\n",
       "      <td>4.982571e+00</td>\n",
       "    </tr>\n",
       "  </tbody>\n",
       "</table>\n",
       "</div>"
      ],
      "text/plain": [
       "                 0             1             2             3             4   \\\n",
       "count  9.170000e+02  9.170000e+02  9.170000e+02  9.170000e+02  9.170000e+02   \n",
       "mean   1.084798e-16 -1.472226e-16  1.937139e-17 -3.874279e-17  3.874279e-17   \n",
       "std    1.000546e+00  1.000546e+00  1.000546e+00  1.000546e+00  1.000546e+00   \n",
       "min   -5.163086e-01 -1.936826e+00 -1.085425e+00 -4.822104e-01 -5.315237e-01   \n",
       "25%   -5.163086e-01  5.163086e-01 -1.085425e+00 -4.822104e-01 -5.315237e-01   \n",
       "50%   -5.163086e-01  5.163086e-01  9.212982e-01 -4.822104e-01 -5.315237e-01   \n",
       "75%   -5.163086e-01  5.163086e-01  9.212982e-01 -4.822104e-01 -5.315237e-01   \n",
       "max    1.936826e+00  5.163086e-01  9.212982e-01  2.073784e+00  1.881384e+00   \n",
       "\n",
       "                 5           6             7             8             9   \\\n",
       "count  9.170000e+02  917.000000  9.170000e+02  9.170000e+02  9.170000e+02   \n",
       "mean   6.973702e-17    0.000000 -9.298269e-17  1.549712e-17 -4.261707e-17   \n",
       "std    1.000546e+00    1.000546  1.000546e+00  1.000546e+00  1.000546e+00   \n",
       "min   -2.298105e-01   -0.507826 -1.226974e+00 -4.907810e-01 -1.213136e+00   \n",
       "25%   -2.298105e-01   -0.507826 -1.226974e+00 -4.907810e-01 -1.213136e+00   \n",
       "50%   -2.298105e-01   -0.507826  8.150134e-01 -4.907810e-01  8.243101e-01   \n",
       "75%   -2.298105e-01   -0.507826  8.150134e-01 -4.907810e-01  8.243101e-01   \n",
       "max    4.351412e+00    1.969177  8.150134e-01  2.037569e+00  8.243101e-01   \n",
       "\n",
       "                 10            11          12            13            14  \\\n",
       "count  9.170000e+02  9.170000e+02  917.000000  9.170000e+02  9.170000e+02   \n",
       "mean   4.261707e-17  8.523413e-17    0.000000 -3.874279e-17  1.859654e-16   \n",
       "std    1.000546e+00  1.000546e+00    1.000546  1.000546e+00  1.000546e+00   \n",
       "min   -8.243101e-01 -2.716072e-01   -1.001091 -8.698879e-01 -2.704405e+00   \n",
       "25%   -8.243101e-01 -2.716072e-01   -1.001091 -8.698879e-01 -6.900904e-01   \n",
       "50%   -8.243101e-01 -2.716072e-01    0.998910 -8.698879e-01  5.202558e-02   \n",
       "75%    1.213136e+00 -2.716072e-01    0.998910  1.149573e+00  6.881250e-01   \n",
       "max    1.213136e+00  3.681787e+00    0.998910  1.149573e+00  2.490407e+00   \n",
       "\n",
       "                 15            16            17            18            19  \n",
       "count  9.170000e+02  9.170000e+02  9.170000e+02  9.170000e+02  9.170000e+02  \n",
       "mean   7.884157e-16  3.014189e-15 -1.549712e-17 -5.114048e-16 -1.859654e-16  \n",
       "std    1.000546e+00  1.000546e+00  1.000546e+00  1.000546e+00  1.000546e+00  \n",
       "min   -2.920572e+00 -2.994023e+00 -5.517333e-01 -3.016886e+00 -3.269662e+00  \n",
       "25%   -6.971063e-01 -5.745784e-01 -5.517333e-01 -6.596226e-01 -8.315022e-01  \n",
       "50%   -1.412398e-01  3.198360e-15 -5.517333e-01  4.755658e-02 -2.688500e-01  \n",
       "75%    4.146267e-01  4.194568e-01 -5.517333e-01  7.547357e-01  5.751284e-01  \n",
       "max    3.749826e+00  6.721265e+00  1.812470e+00  2.561971e+00  4.982571e+00  "
      ]
     },
     "execution_count": 43,
     "metadata": {},
     "output_type": "execute_result"
    }
   ],
   "source": [
    "previsores3df.describe()"
   ]
  },
  {
   "cell_type": "markdown",
   "metadata": {
    "id": "kW700Sj9Fk1O"
   },
   "source": [
    "## **RESUMO PRÉ-PROCESSAMENTO**"
   ]
  },
  {
   "cell_type": "markdown",
   "metadata": {
    "id": "k-L1kFumG1pO"
   },
   "source": [
    "alvo = variável que se pretende atingir (tem ou não doença cardíaca).\n",
    "\n",
    "previsores = conjunto de variáveis previsoras com as variáveis categóricas transformadas em numéricas manualmente, sem escalonar.\n",
    "\n",
    "previsores_esc = conjunto de variáveis previsoras com as variáveis categóricas transformadas em numéricas, escalonada.\n",
    "\n",
    "previsores2 = conjunto de variáveis previsoras com as variáveis categóricas transformadas em numéricas pelo labelencoder.\n",
    "\n",
    "previsores3 = conjunto de variáveis previsoras transformadas pelo labelencoder e onehotencoder, sem escalonar.\n",
    "\n",
    "previsores3_esc = conjunto de variáveis previsoras transformadas pelo labelencoder e onehotencoder escalonada."
   ]
  },
  {
   "cell_type": "markdown",
   "metadata": {
    "id": "S3Kl3wySKBEw",
    "jp-MarkdownHeadingCollapsed": true
   },
   "source": [
    "## **Redução de dimensionalidade**"
   ]
  },
  {
   "cell_type": "markdown",
   "metadata": {
    "id": "w5fLfwjg8xrw"
   },
   "source": [
    "Objetivo é selecionar os melhores componentes (atributos) para treinamento do algoritmo, através da análise das correlações entre as variáveis."
   ]
  },
  {
   "cell_type": "markdown",
   "metadata": {
    "id": "6OurC4GyUoak"
   },
   "source": [
    "### Análise dos Componentes Principais (PCA)"
   ]
  },
  {
   "cell_type": "markdown",
   "metadata": {
    "id": "iB5XY2Tf9AH5"
   },
   "source": [
    "**Seleção de características:** seleciona os melhores atributos e utiliza sem transformações.\n",
    "\n",
    "**Extração de Características:** Encontra os relacionamentos dos melhores atributos e cria novos atributos.\n",
    "\n",
    "É um algoritmo de aprendizagem não supervisionada.\n",
    "\n",
    "Aplica-se em dados linearmente separáveis."
   ]
  },
  {
   "cell_type": "code",
   "execution_count": 41,
   "metadata": {
    "executionInfo": {
     "elapsed": 424,
     "status": "ok",
     "timestamp": 1689263490018,
     "user": {
      "displayName": "Luciano Galdino",
      "userId": "10237697037323960148"
     },
     "user_tz": 180
    },
    "id": "j2adDUMyX3d2"
   },
   "outputs": [],
   "source": [
    "from sklearn.decomposition import PCA"
   ]
  },
  {
   "cell_type": "code",
   "execution_count": 42,
   "metadata": {
    "executionInfo": {
     "elapsed": 24,
     "status": "ok",
     "timestamp": 1689263490020,
     "user": {
      "displayName": "Luciano Galdino",
      "userId": "10237697037323960148"
     },
     "user_tz": 180
    },
    "id": "ZmpO8urpX8kz"
   },
   "outputs": [],
   "source": [
    "pca = PCA(n_components=3)"
   ]
  },
  {
   "cell_type": "code",
   "execution_count": 43,
   "metadata": {
    "executionInfo": {
     "elapsed": 23,
     "status": "ok",
     "timestamp": 1689263490020,
     "user": {
      "displayName": "Luciano Galdino",
      "userId": "10237697037323960148"
     },
     "user_tz": 180
    },
    "id": "zVHnZ8rYYOeL"
   },
   "outputs": [],
   "source": [
    "previsores_pca = pca.fit_transform(previsores2)"
   ]
  },
  {
   "cell_type": "code",
   "execution_count": 44,
   "metadata": {
    "colab": {
     "base_uri": "https://localhost:8080/"
    },
    "executionInfo": {
     "elapsed": 23,
     "status": "ok",
     "timestamp": 1689263490021,
     "user": {
      "displayName": "Luciano Galdino",
      "userId": "10237697037323960148"
     },
     "user_tz": 180
    },
    "id": "5Ouz2wdFYkJh",
    "outputId": "87be7cc6-296d-4c01-fe24-ba8599abb59f"
   },
   "outputs": [
    {
     "data": {
      "text/plain": [
       "(917, 3)"
      ]
     },
     "execution_count": 44,
     "metadata": {},
     "output_type": "execute_result"
    }
   ],
   "source": [
    "previsores_pca.shape"
   ]
  },
  {
   "cell_type": "code",
   "execution_count": 48,
   "metadata": {
    "colab": {
     "base_uri": "https://localhost:8080/"
    },
    "executionInfo": {
     "elapsed": 21,
     "status": "ok",
     "timestamp": 1689263490022,
     "user": {
      "displayName": "Luciano Galdino",
      "userId": "10237697037323960148"
     },
     "user_tz": 180
    },
    "id": "i06cyMBkYubR",
    "outputId": "27469ffe-363e-492a-8f1a-b9896508b95a"
   },
   "outputs": [
    {
     "data": {
      "text/plain": [
       "array([[  44.01218603,  -36.15137592,   10.64727631],\n",
       "       [ -63.9918455 ,  -13.93849233,   31.69212503],\n",
       "       [  38.53844277,   33.91712222,  -12.48837374],\n",
       "       ...,\n",
       "       [-113.3467467 ,   23.48595247,   -2.51064362],\n",
       "       [  -9.1141306 ,  -35.90083188,    4.81814643],\n",
       "       [ -70.01342608,  -35.68741686,   12.10984845]])"
      ]
     },
     "execution_count": 48,
     "metadata": {},
     "output_type": "execute_result"
    }
   ],
   "source": [
    "# Componentes principais\n",
    "previsores_pca"
   ]
  },
  {
   "cell_type": "code",
   "execution_count": 49,
   "metadata": {
    "colab": {
     "base_uri": "https://localhost:8080/"
    },
    "executionInfo": {
     "elapsed": 20,
     "status": "ok",
     "timestamp": 1689263490023,
     "user": {
      "displayName": "Luciano Galdino",
      "userId": "10237697037323960148"
     },
     "user_tz": 180
    },
    "id": "hdBAi-piY28x",
    "outputId": "3213c352-1979-43d6-ac4e-246e36ef08f8"
   },
   "outputs": [
    {
     "data": {
      "text/plain": [
       "array([0.72847929, 0.17183534, 0.08122019])"
      ]
     },
     "execution_count": 49,
     "metadata": {},
     "output_type": "execute_result"
    }
   ],
   "source": [
    "# razão das variáveis explicativas\n",
    "pca.explained_variance_ratio_"
   ]
  },
  {
   "cell_type": "code",
   "execution_count": 50,
   "metadata": {
    "colab": {
     "base_uri": "https://localhost:8080/"
    },
    "executionInfo": {
     "elapsed": 20,
     "status": "ok",
     "timestamp": 1689263490025,
     "user": {
      "displayName": "Luciano Galdino",
      "userId": "10237697037323960148"
     },
     "user_tz": 180
    },
    "id": "lBxPFP0VZR1I",
    "outputId": "bd7ba18a-0506-4c89-b078-fc7049ad36cc"
   },
   "outputs": [
    {
     "data": {
      "text/plain": [
       "0.9815348236774056"
      ]
     },
     "execution_count": 50,
     "metadata": {},
     "output_type": "execute_result"
    }
   ],
   "source": [
    "# Soma das variáveis explicativas\n",
    "pca.explained_variance_ratio_.sum()"
   ]
  },
  {
   "cell_type": "markdown",
   "metadata": {
    "id": "2UhdSgBmUtJ6"
   },
   "source": [
    "### Kernel PCA"
   ]
  },
  {
   "cell_type": "markdown",
   "metadata": {
    "id": "1DM-bEoM_JzC"
   },
   "source": [
    "É um algoritmo de aprendizagem não supervisionada.\n",
    "\n",
    "Aplica-se também em dados linearmente não separáveis."
   ]
  },
  {
   "cell_type": "code",
   "execution_count": 45,
   "metadata": {
    "executionInfo": {
     "elapsed": 19,
     "status": "ok",
     "timestamp": 1689263490026,
     "user": {
      "displayName": "Luciano Galdino",
      "userId": "10237697037323960148"
     },
     "user_tz": 180
    },
    "id": "z4ATtNXscFq2"
   },
   "outputs": [],
   "source": [
    "from sklearn.decomposition import KernelPCA"
   ]
  },
  {
   "cell_type": "code",
   "execution_count": 46,
   "metadata": {
    "executionInfo": {
     "elapsed": 20,
     "status": "ok",
     "timestamp": 1689263490027,
     "user": {
      "displayName": "Luciano Galdino",
      "userId": "10237697037323960148"
     },
     "user_tz": 180
    },
    "id": "8kB6ZCIvcNb1"
   },
   "outputs": [],
   "source": [
    "kpca = KernelPCA(n_components=4, kernel='rbf')"
   ]
  },
  {
   "cell_type": "code",
   "execution_count": 47,
   "metadata": {
    "executionInfo": {
     "elapsed": 833,
     "status": "ok",
     "timestamp": 1689263490841,
     "user": {
      "displayName": "Luciano Galdino",
      "userId": "10237697037323960148"
     },
     "user_tz": 180
    },
    "id": "bRAZ06bXPspG"
   },
   "outputs": [],
   "source": [
    "previsores_kernel = kpca.fit_transform(previsores2)"
   ]
  },
  {
   "cell_type": "code",
   "execution_count": 48,
   "metadata": {
    "colab": {
     "base_uri": "https://localhost:8080/"
    },
    "executionInfo": {
     "elapsed": 23,
     "status": "ok",
     "timestamp": 1689263490841,
     "user": {
      "displayName": "Luciano Galdino",
      "userId": "10237697037323960148"
     },
     "user_tz": 180
    },
    "id": "tswhvRYtdMvr",
    "outputId": "3785caf2-f90c-47cf-990d-79a046d93ab8"
   },
   "outputs": [
    {
     "data": {
      "text/plain": [
       "(917, 4)"
      ]
     },
     "execution_count": 48,
     "metadata": {},
     "output_type": "execute_result"
    }
   ],
   "source": [
    "previsores_kernel.shape"
   ]
  },
  {
   "cell_type": "code",
   "execution_count": 55,
   "metadata": {
    "colab": {
     "base_uri": "https://localhost:8080/"
    },
    "executionInfo": {
     "elapsed": 22,
     "status": "ok",
     "timestamp": 1689263490842,
     "user": {
      "displayName": "Luciano Galdino",
      "userId": "10237697037323960148"
     },
     "user_tz": 180
    },
    "id": "age1iPvsdZg-",
    "outputId": "6953db9e-2e89-4cfb-b1fb-05a312d2b68d"
   },
   "outputs": [
    {
     "data": {
      "text/plain": [
       "array([[-0.00249772, -0.00290225, -0.0027372 , -0.00191636],\n",
       "       [-0.00249877, -0.00290359, -0.00273854, -0.00191743],\n",
       "       [-0.00249785, -0.00290241, -0.00273736, -0.00191649],\n",
       "       ...,\n",
       "       [-0.00249774, -0.00290227, -0.00273723, -0.00191638],\n",
       "       [-0.00249793, -0.00290252, -0.00273748, -0.00191659],\n",
       "       [-0.00249772, -0.00290225, -0.0027372 , -0.00191637]])"
      ]
     },
     "execution_count": 55,
     "metadata": {},
     "output_type": "execute_result"
    }
   ],
   "source": [
    "previsores_kernel"
   ]
  },
  {
   "cell_type": "markdown",
   "metadata": {
    "id": "u3jQ6H1S-HtG"
   },
   "source": [
    "### **Análise do Discriminante Linear (LDA: Linear Discriminant Analysis)**"
   ]
  },
  {
   "cell_type": "markdown",
   "metadata": {
    "id": "NqO1DSAP-7tT"
   },
   "source": [
    "Algoritmo de aprendizagem supervisionada, pois utiliza a classe como referência para seleção.\n",
    "\n",
    "Aplicado em situações com muitos atributos previsores e também com o atributo alvo com muitas classes."
   ]
  },
  {
   "cell_type": "code",
   "execution_count": 56,
   "metadata": {
    "executionInfo": {
     "elapsed": 20,
     "status": "ok",
     "timestamp": 1689263490842,
     "user": {
      "displayName": "Luciano Galdino",
      "userId": "10237697037323960148"
     },
     "user_tz": 180
    },
    "id": "3RRYZemLenmT"
   },
   "outputs": [],
   "source": [
    "from sklearn.discriminant_analysis import LinearDiscriminantAnalysis\n",
    "lda = LinearDiscriminantAnalysis(n_components = 1)"
   ]
  },
  {
   "cell_type": "code",
   "execution_count": 57,
   "metadata": {
    "executionInfo": {
     "elapsed": 20,
     "status": "ok",
     "timestamp": 1689263490843,
     "user": {
      "displayName": "Luciano Galdino",
      "userId": "10237697037323960148"
     },
     "user_tz": 180
    },
    "id": "onA-GJZafCLU"
   },
   "outputs": [],
   "source": [
    "previsores_lda = lda.fit_transform(previsores2, alvo)"
   ]
  },
  {
   "cell_type": "code",
   "execution_count": 58,
   "metadata": {
    "colab": {
     "base_uri": "https://localhost:8080/"
    },
    "executionInfo": {
     "elapsed": 20,
     "status": "ok",
     "timestamp": 1689263490843,
     "user": {
      "displayName": "Luciano Galdino",
      "userId": "10237697037323960148"
     },
     "user_tz": 180
    },
    "id": "Y2qtrFLrBVzr",
    "outputId": "e2b672d8-57a1-41e9-94d2-493fe2c83cf2"
   },
   "outputs": [
    {
     "data": {
      "text/plain": [
       "array([[ 1.47297727],\n",
       "       [ 1.41360735],\n",
       "       [ 0.96705302],\n",
       "       [-0.53331037],\n",
       "       [ 1.45783427],\n",
       "       [ 1.78559221],\n",
       "       [ 2.28906835],\n",
       "       [ 1.26844095],\n",
       "       [-1.03044735],\n",
       "       [ 1.8033219 ],\n",
       "       [ 2.56103248],\n",
       "       [-1.08833702],\n",
       "       [ 1.4298088 ],\n",
       "       [-1.02172609],\n",
       "       [ 2.51881925],\n",
       "       [ 0.75582909],\n",
       "       [ 0.27447783],\n",
       "       [ 2.33841952],\n",
       "       [-0.50562225],\n",
       "       [-0.03155735],\n",
       "       [ 2.89530718],\n",
       "       [ 0.23402029],\n",
       "       [ 2.26833719],\n",
       "       [-0.97019565],\n",
       "       [ 1.70998121],\n",
       "       [ 2.0730337 ],\n",
       "       [-1.62722174],\n",
       "       [ 0.96486408],\n",
       "       [ 1.52502126],\n",
       "       [ 1.33460621],\n",
       "       [ 0.03948873],\n",
       "       [ 1.44459749],\n",
       "       [-0.63936919],\n",
       "       [-0.34808635],\n",
       "       [ 2.23945383],\n",
       "       [ 1.48957548],\n",
       "       [-2.4746182 ],\n",
       "       [ 2.13691975],\n",
       "       [ 1.54252555],\n",
       "       [-0.30741381],\n",
       "       [ 1.8748176 ],\n",
       "       [ 0.26749988],\n",
       "       [ 1.51713745],\n",
       "       [ 1.79186716],\n",
       "       [-1.00348547],\n",
       "       [-0.64800053],\n",
       "       [ 1.22524435],\n",
       "       [ 1.47829185],\n",
       "       [ 0.77636186],\n",
       "       [ 0.12865852],\n",
       "       [-1.34295208],\n",
       "       [-0.65422291],\n",
       "       [ 0.4557005 ],\n",
       "       [ 2.15691729],\n",
       "       [-0.25536539],\n",
       "       [ 2.26417676],\n",
       "       [-0.86836148],\n",
       "       [ 0.60301353],\n",
       "       [ 0.38277361],\n",
       "       [-1.50907547],\n",
       "       [ 1.50857567],\n",
       "       [ 2.67081271],\n",
       "       [ 0.93385381],\n",
       "       [-1.15581054],\n",
       "       [ 2.12436997],\n",
       "       [ 2.02566299],\n",
       "       [ 1.61128669],\n",
       "       [ 1.7825921 ],\n",
       "       [-2.05082548],\n",
       "       [ 0.83570852],\n",
       "       [-0.70693463],\n",
       "       [ 1.27352923],\n",
       "       [ 0.02482612],\n",
       "       [ 1.55996385],\n",
       "       [-1.31581706],\n",
       "       [ 1.53819264],\n",
       "       [-0.49380729],\n",
       "       [ 1.95231331],\n",
       "       [ 0.67889962],\n",
       "       [ 0.16066905],\n",
       "       [ 1.66499886],\n",
       "       [ 1.30296599],\n",
       "       [-0.45795738],\n",
       "       [ 1.42756451],\n",
       "       [-1.86472923],\n",
       "       [-1.39491241],\n",
       "       [-2.33294249],\n",
       "       [-0.03204149],\n",
       "       [ 1.12661004],\n",
       "       [-1.21970316],\n",
       "       [ 2.2425467 ],\n",
       "       [ 0.8391131 ],\n",
       "       [ 2.10401498],\n",
       "       [-1.65426173],\n",
       "       [ 2.93875944],\n",
       "       [-1.3176681 ],\n",
       "       [ 1.30501623],\n",
       "       [ 1.28599933],\n",
       "       [ 1.04351704],\n",
       "       [ 1.29286266],\n",
       "       [-1.3983015 ],\n",
       "       [ 0.61376488],\n",
       "       [ 0.04322651],\n",
       "       [-1.86713147],\n",
       "       [-0.12667388],\n",
       "       [ 0.42526827],\n",
       "       [ 1.42477203],\n",
       "       [ 1.63348802],\n",
       "       [ 0.96697796],\n",
       "       [ 0.97872716],\n",
       "       [ 0.71472611],\n",
       "       [-1.87337251],\n",
       "       [-0.71098493],\n",
       "       [ 1.30594287],\n",
       "       [ 2.42439448],\n",
       "       [ 0.02367259],\n",
       "       [ 0.15644551],\n",
       "       [-1.30613953],\n",
       "       [ 3.41405246],\n",
       "       [ 1.57442636],\n",
       "       [ 0.96084658],\n",
       "       [ 2.30250912],\n",
       "       [ 0.9303196 ],\n",
       "       [-0.48767217],\n",
       "       [ 1.23390101],\n",
       "       [ 0.9434399 ],\n",
       "       [ 2.67333379],\n",
       "       [ 1.71885403],\n",
       "       [ 1.31052999],\n",
       "       [-0.1651487 ],\n",
       "       [ 1.52484955],\n",
       "       [-0.65120793],\n",
       "       [-1.66167923],\n",
       "       [-1.28137826],\n",
       "       [-0.56657326],\n",
       "       [ 0.87302219],\n",
       "       [ 2.42171127],\n",
       "       [ 1.05416952],\n",
       "       [-0.95858464],\n",
       "       [-1.25165012],\n",
       "       [-1.85556412],\n",
       "       [-1.5570952 ],\n",
       "       [-1.30041712],\n",
       "       [ 0.91367757],\n",
       "       [ 0.81492644],\n",
       "       [ 0.85458961],\n",
       "       [ 1.48952001],\n",
       "       [ 2.37524388],\n",
       "       [ 1.50038603],\n",
       "       [-2.44483595],\n",
       "       [ 1.20312923],\n",
       "       [ 1.08524172],\n",
       "       [ 1.33407261],\n",
       "       [ 0.7573623 ],\n",
       "       [ 1.4166922 ],\n",
       "       [-2.23120635],\n",
       "       [-0.73115764],\n",
       "       [ 0.84762309],\n",
       "       [-1.54218584],\n",
       "       [ 0.98547065],\n",
       "       [-1.86137596],\n",
       "       [-1.14317372],\n",
       "       [ 1.43919738],\n",
       "       [ 1.45331485],\n",
       "       [ 1.99282263],\n",
       "       [ 0.20427491],\n",
       "       [-1.70211104],\n",
       "       [ 1.05246642],\n",
       "       [ 0.47205912],\n",
       "       [ 1.75670659],\n",
       "       [ 1.58128745],\n",
       "       [ 2.05994677],\n",
       "       [ 1.22032442],\n",
       "       [ 1.92453514],\n",
       "       [-1.32446452],\n",
       "       [-1.26569907],\n",
       "       [-0.69086695],\n",
       "       [ 1.12114124],\n",
       "       [ 1.86679774],\n",
       "       [ 1.27290952],\n",
       "       [-1.35716728],\n",
       "       [ 1.31042056],\n",
       "       [-1.62385683],\n",
       "       [-0.93631205],\n",
       "       [ 1.73165747],\n",
       "       [-0.48765751],\n",
       "       [ 0.88511655],\n",
       "       [-1.62097012],\n",
       "       [-0.60933153],\n",
       "       [-1.40838981],\n",
       "       [ 0.6241705 ],\n",
       "       [ 1.05454657],\n",
       "       [ 1.38434072],\n",
       "       [ 1.47224495],\n",
       "       [ 2.49687918],\n",
       "       [ 2.48419036],\n",
       "       [-0.44778238],\n",
       "       [ 1.19164147],\n",
       "       [-1.06848936],\n",
       "       [ 1.08627342],\n",
       "       [ 2.08200743],\n",
       "       [ 1.73528777],\n",
       "       [ 1.82633959],\n",
       "       [ 2.35721403],\n",
       "       [ 0.93253202],\n",
       "       [ 0.14330776],\n",
       "       [ 1.550762  ],\n",
       "       [ 0.3753301 ],\n",
       "       [ 1.92633663],\n",
       "       [-0.13349137],\n",
       "       [-1.04405064],\n",
       "       [ 0.59160027],\n",
       "       [ 0.49155109],\n",
       "       [ 2.56681625],\n",
       "       [-1.42069008],\n",
       "       [ 3.16014054],\n",
       "       [ 0.00455886],\n",
       "       [ 1.57713237],\n",
       "       [ 1.30484654],\n",
       "       [ 1.60395028],\n",
       "       [-0.29328685],\n",
       "       [-0.31205856],\n",
       "       [ 2.35955308],\n",
       "       [ 2.02670304],\n",
       "       [ 0.45131542],\n",
       "       [-0.11734055],\n",
       "       [ 1.6455011 ],\n",
       "       [-0.98223348],\n",
       "       [ 1.46223644],\n",
       "       [ 2.23048631],\n",
       "       [ 0.98729539],\n",
       "       [ 1.83301464],\n",
       "       [ 1.98424435],\n",
       "       [ 0.94861876],\n",
       "       [ 1.86629516],\n",
       "       [-0.31541967],\n",
       "       [-1.60871922],\n",
       "       [ 0.80471512],\n",
       "       [-1.72846954],\n",
       "       [-1.62149828],\n",
       "       [ 1.1304052 ],\n",
       "       [-1.24436421],\n",
       "       [-1.65274078],\n",
       "       [ 1.86413969],\n",
       "       [-1.38226014],\n",
       "       [ 1.67398489],\n",
       "       [-0.31003073],\n",
       "       [-2.78593696],\n",
       "       [-0.99935619],\n",
       "       [-1.33828415],\n",
       "       [-0.52894479],\n",
       "       [-0.68866632],\n",
       "       [-0.22487709],\n",
       "       [ 0.95817247],\n",
       "       [-1.62987478],\n",
       "       [ 2.22487019],\n",
       "       [ 1.75802244],\n",
       "       [ 2.07990393],\n",
       "       [ 2.1594062 ],\n",
       "       [ 1.95224582],\n",
       "       [ 0.66930706],\n",
       "       [ 1.8128839 ],\n",
       "       [-0.98546405],\n",
       "       [-0.16168507],\n",
       "       [-0.14853301],\n",
       "       [ 1.31301352],\n",
       "       [-1.3770381 ],\n",
       "       [ 1.51803096],\n",
       "       [-1.4563745 ],\n",
       "       [ 1.11876647],\n",
       "       [ 0.92490573],\n",
       "       [ 2.46651771],\n",
       "       [-1.45639102],\n",
       "       [ 1.5122684 ],\n",
       "       [ 2.21473145],\n",
       "       [ 1.17162839],\n",
       "       [ 0.44931342],\n",
       "       [-1.26722129],\n",
       "       [-0.59107024],\n",
       "       [ 2.08610147],\n",
       "       [ 1.43078248],\n",
       "       [-0.61858106],\n",
       "       [ 1.48987542],\n",
       "       [ 1.99465406],\n",
       "       [ 0.95323414],\n",
       "       [ 2.31154558],\n",
       "       [ 0.85639019],\n",
       "       [ 1.23027055],\n",
       "       [ 1.70856544],\n",
       "       [ 1.79504883],\n",
       "       [ 1.66405711],\n",
       "       [ 1.77445463],\n",
       "       [ 0.96810702],\n",
       "       [-1.35624968],\n",
       "       [ 1.26699755],\n",
       "       [-1.13404434],\n",
       "       [-1.68887454],\n",
       "       [-0.89192537],\n",
       "       [-1.19006114],\n",
       "       [-0.06388196],\n",
       "       [-0.95760723],\n",
       "       [ 1.21884641],\n",
       "       [-0.28940391],\n",
       "       [-2.24447341],\n",
       "       [-1.29036475],\n",
       "       [-0.13814178],\n",
       "       [-0.75544498],\n",
       "       [-1.03554626],\n",
       "       [-0.00765534],\n",
       "       [-1.62368595],\n",
       "       [ 0.5946977 ],\n",
       "       [-0.18926704],\n",
       "       [ 0.24907235],\n",
       "       [ 0.40058775],\n",
       "       [-2.15288514],\n",
       "       [-0.05416492],\n",
       "       [-0.1036372 ],\n",
       "       [-1.09454096],\n",
       "       [-1.86710518],\n",
       "       [-0.38359443],\n",
       "       [-0.33808944],\n",
       "       [-1.00068387],\n",
       "       [ 0.79683041],\n",
       "       [-3.1508434 ],\n",
       "       [-0.32359031],\n",
       "       [-2.2450472 ],\n",
       "       [ 1.65653801],\n",
       "       [-0.96279735],\n",
       "       [-2.11431285],\n",
       "       [-2.86135322],\n",
       "       [ 0.42807523],\n",
       "       [-0.1395382 ],\n",
       "       [ 2.23427119],\n",
       "       [ 0.35057846],\n",
       "       [ 0.50406329],\n",
       "       [ 0.26098473],\n",
       "       [-0.15728719],\n",
       "       [-0.50679805],\n",
       "       [-0.28929007],\n",
       "       [-1.26798669],\n",
       "       [-2.10919353],\n",
       "       [-3.06350319],\n",
       "       [-1.36605469],\n",
       "       [-1.00314274],\n",
       "       [-1.10758215],\n",
       "       [-0.41357299],\n",
       "       [-0.41803771],\n",
       "       [-0.88372537],\n",
       "       [-1.58852733],\n",
       "       [-1.67572817],\n",
       "       [-1.00061797],\n",
       "       [ 0.11400685],\n",
       "       [-1.99928015],\n",
       "       [-1.40104225],\n",
       "       [ 0.39382639],\n",
       "       [ 0.65089248],\n",
       "       [-1.2804095 ],\n",
       "       [-0.14371283],\n",
       "       [-0.07314985],\n",
       "       [ 0.40659027],\n",
       "       [-0.79831036],\n",
       "       [-0.99424132],\n",
       "       [ 0.2182558 ],\n",
       "       [-0.1024341 ],\n",
       "       [ 0.21792997],\n",
       "       [-0.47020931],\n",
       "       [-1.52241832],\n",
       "       [-0.18877912],\n",
       "       [-1.44844604],\n",
       "       [-1.78583376],\n",
       "       [-0.67614963],\n",
       "       [-1.64114833],\n",
       "       [-0.40163824],\n",
       "       [-1.32530632],\n",
       "       [-2.2162147 ],\n",
       "       [ 1.9881817 ],\n",
       "       [-0.46197067],\n",
       "       [-1.33181571],\n",
       "       [-1.96051671],\n",
       "       [ 0.28514746],\n",
       "       [-1.37649259],\n",
       "       [-1.08787029],\n",
       "       [-1.08736303],\n",
       "       [ 0.90238368],\n",
       "       [-0.05501476],\n",
       "       [-1.26574074],\n",
       "       [-1.12531647],\n",
       "       [-1.13115354],\n",
       "       [-0.65613811],\n",
       "       [-1.07719685],\n",
       "       [-0.79914271],\n",
       "       [-1.38507027],\n",
       "       [-0.47611231],\n",
       "       [-1.72991047],\n",
       "       [-2.32533712],\n",
       "       [-0.63891572],\n",
       "       [ 0.97855747],\n",
       "       [-1.91371281],\n",
       "       [-0.93813356],\n",
       "       [-0.79181952],\n",
       "       [-0.3146305 ],\n",
       "       [-0.62785746],\n",
       "       [-1.65929899],\n",
       "       [-2.01090329],\n",
       "       [-0.89555129],\n",
       "       [-1.67397512],\n",
       "       [-1.93416166],\n",
       "       [-2.0845939 ],\n",
       "       [-1.25079031],\n",
       "       [-1.02445415],\n",
       "       [-1.77828134],\n",
       "       [-1.10971477],\n",
       "       [-2.05845141],\n",
       "       [-0.1083399 ],\n",
       "       [-2.34145158],\n",
       "       [-0.61917586],\n",
       "       [-1.74217189],\n",
       "       [ 0.87237704],\n",
       "       [-2.13328918],\n",
       "       [-0.25687311],\n",
       "       [-1.44730953],\n",
       "       [ 1.39893279],\n",
       "       [-1.94266616],\n",
       "       [-0.50405737],\n",
       "       [-0.23699838],\n",
       "       [-0.54644327],\n",
       "       [ 1.30822157],\n",
       "       [-1.28872242],\n",
       "       [-1.19656229],\n",
       "       [-0.59946667],\n",
       "       [-1.69015361],\n",
       "       [ 0.37168032],\n",
       "       [-2.78615351],\n",
       "       [-1.25380876],\n",
       "       [-1.64138711],\n",
       "       [-0.14859618],\n",
       "       [ 0.47234942],\n",
       "       [-1.54049408],\n",
       "       [-0.43741118],\n",
       "       [ 1.11936529],\n",
       "       [ 1.38127202],\n",
       "       [-1.24351547],\n",
       "       [-1.84915996],\n",
       "       [-1.60276065],\n",
       "       [-1.09570752],\n",
       "       [-0.52013034],\n",
       "       [-1.29907866],\n",
       "       [-0.57387893],\n",
       "       [-2.12852626],\n",
       "       [-1.68924668],\n",
       "       [-1.301961  ],\n",
       "       [-1.43634145],\n",
       "       [-0.36982331],\n",
       "       [-1.90183175],\n",
       "       [-0.30243865],\n",
       "       [-0.67736167],\n",
       "       [-0.52774593],\n",
       "       [-1.59852847],\n",
       "       [ 0.74943586],\n",
       "       [-2.14965361],\n",
       "       [-1.43343158],\n",
       "       [-2.3086103 ],\n",
       "       [ 0.56642915],\n",
       "       [-1.62520535],\n",
       "       [ 1.81943187],\n",
       "       [-0.67756253],\n",
       "       [ 1.7695649 ],\n",
       "       [-0.46772558],\n",
       "       [-0.65473094],\n",
       "       [-0.43884558],\n",
       "       [-1.64801971],\n",
       "       [-1.83418625],\n",
       "       [-1.42731733],\n",
       "       [ 0.99588277],\n",
       "       [-1.86846878],\n",
       "       [ 0.13256577],\n",
       "       [-3.20503685],\n",
       "       [-1.9742736 ],\n",
       "       [-0.81704689],\n",
       "       [-1.82467517],\n",
       "       [-1.83727559],\n",
       "       [ 0.50312585],\n",
       "       [-2.46390553],\n",
       "       [-1.42266861],\n",
       "       [-1.53480843],\n",
       "       [ 0.82601248],\n",
       "       [-1.18348035],\n",
       "       [ 1.6979588 ],\n",
       "       [-1.39356202],\n",
       "       [-0.73581795],\n",
       "       [-1.27254184],\n",
       "       [ 0.52560067],\n",
       "       [-0.68131048],\n",
       "       [-1.60038916],\n",
       "       [-0.4502456 ],\n",
       "       [-2.96219487],\n",
       "       [-2.42379023],\n",
       "       [-2.01343704],\n",
       "       [-1.3194868 ],\n",
       "       [-2.69980309],\n",
       "       [-1.45316611],\n",
       "       [-1.32014624],\n",
       "       [ 0.14646919],\n",
       "       [-3.36134718],\n",
       "       [-1.10124266],\n",
       "       [-1.8229923 ],\n",
       "       [ 0.52844355],\n",
       "       [-2.14218391],\n",
       "       [-0.3612475 ],\n",
       "       [ 0.64709104],\n",
       "       [-2.47039177],\n",
       "       [ 2.01519925],\n",
       "       [ 0.02613638],\n",
       "       [ 0.66480555],\n",
       "       [-0.54396616],\n",
       "       [-0.25725793],\n",
       "       [-1.43380959],\n",
       "       [-2.10369212],\n",
       "       [-0.35806895],\n",
       "       [-0.40184572],\n",
       "       [-2.70910426],\n",
       "       [-0.42373062],\n",
       "       [-1.16096418],\n",
       "       [ 1.00260561],\n",
       "       [ 1.65832757],\n",
       "       [-1.66679303],\n",
       "       [ 0.93872855],\n",
       "       [-0.30491454],\n",
       "       [-1.52303744],\n",
       "       [-1.10937883],\n",
       "       [-2.27385138],\n",
       "       [-1.0361609 ],\n",
       "       [-1.29685312],\n",
       "       [-2.36355103],\n",
       "       [-1.26228272],\n",
       "       [-1.2585278 ],\n",
       "       [-3.55004738],\n",
       "       [-2.08191829],\n",
       "       [ 0.52493097],\n",
       "       [-0.49662546],\n",
       "       [-1.18452289],\n",
       "       [-0.71022701],\n",
       "       [-2.58338502],\n",
       "       [ 0.23960695],\n",
       "       [ 0.7904523 ],\n",
       "       [ 0.17903891],\n",
       "       [-1.28351519],\n",
       "       [ 0.4128116 ],\n",
       "       [ 1.149053  ],\n",
       "       [-1.14941993],\n",
       "       [ 1.0670796 ],\n",
       "       [-0.85966694],\n",
       "       [-1.12330776],\n",
       "       [ 1.0876075 ],\n",
       "       [-0.31763678],\n",
       "       [-3.47228584],\n",
       "       [-1.22916584],\n",
       "       [-0.52129229],\n",
       "       [-3.02724212],\n",
       "       [ 1.57554087],\n",
       "       [ 1.28483531],\n",
       "       [-1.24657264],\n",
       "       [-1.8054684 ],\n",
       "       [-1.83109196],\n",
       "       [-1.52345993],\n",
       "       [-1.03899448],\n",
       "       [-1.19373062],\n",
       "       [-2.31252409],\n",
       "       [-1.573519  ],\n",
       "       [-2.3515015 ],\n",
       "       [-2.02619492],\n",
       "       [-1.03641919],\n",
       "       [-1.24768979],\n",
       "       [-2.13795128],\n",
       "       [-1.98655531],\n",
       "       [-1.52449686],\n",
       "       [-1.81134466],\n",
       "       [-2.54433382],\n",
       "       [-2.33630302],\n",
       "       [-1.68391717],\n",
       "       [ 0.07200154],\n",
       "       [-2.13432193],\n",
       "       [ 1.1545702 ],\n",
       "       [-2.11176255],\n",
       "       [-0.91496576],\n",
       "       [-1.37248845],\n",
       "       [ 0.74280147],\n",
       "       [-1.46045437],\n",
       "       [-0.6691308 ],\n",
       "       [ 1.14051808],\n",
       "       [ 0.63441664],\n",
       "       [-3.06533191],\n",
       "       [-1.08730252],\n",
       "       [-1.10541382],\n",
       "       [-1.65649281],\n",
       "       [-0.5773584 ],\n",
       "       [ 1.58687157],\n",
       "       [-2.27506925],\n",
       "       [-1.41163617],\n",
       "       [-1.36284382],\n",
       "       [-0.65390639],\n",
       "       [-0.68315574],\n",
       "       [-2.68952107],\n",
       "       [ 0.08466893],\n",
       "       [ 0.37791689],\n",
       "       [-2.45806342],\n",
       "       [-2.00516362],\n",
       "       [-0.87874892],\n",
       "       [-0.32846032],\n",
       "       [-0.0806349 ],\n",
       "       [ 1.97350112],\n",
       "       [-1.11831654],\n",
       "       [-0.27762136],\n",
       "       [-1.0008783 ],\n",
       "       [-1.15460179],\n",
       "       [ 0.58136427],\n",
       "       [ 1.07755132],\n",
       "       [-1.33231469],\n",
       "       [ 0.81107814],\n",
       "       [ 0.7401585 ],\n",
       "       [-0.98281019],\n",
       "       [-1.13530236],\n",
       "       [-0.3332688 ],\n",
       "       [-0.38963788],\n",
       "       [-0.14447789],\n",
       "       [-0.14868847],\n",
       "       [ 1.93179234],\n",
       "       [ 0.46641398],\n",
       "       [ 1.58313548],\n",
       "       [ 0.21202799],\n",
       "       [-1.41422951],\n",
       "       [-2.94792208],\n",
       "       [-0.10426638],\n",
       "       [ 1.45386495],\n",
       "       [-1.55620898],\n",
       "       [ 0.49926973],\n",
       "       [-0.04294646],\n",
       "       [ 0.95509893],\n",
       "       [ 0.61265937],\n",
       "       [ 2.29479146],\n",
       "       [ 0.02276089],\n",
       "       [ 2.29095735],\n",
       "       [ 0.30181952],\n",
       "       [ 1.37302395],\n",
       "       [ 0.54424005],\n",
       "       [ 0.22442409],\n",
       "       [ 2.78737633],\n",
       "       [-2.72970162],\n",
       "       [-1.10140375],\n",
       "       [-0.5063465 ],\n",
       "       [-0.31329962],\n",
       "       [ 1.64460263],\n",
       "       [ 1.84136999],\n",
       "       [ 1.23423329],\n",
       "       [ 1.26033075],\n",
       "       [ 1.74880707],\n",
       "       [ 1.18229415],\n",
       "       [ 0.80436748],\n",
       "       [-0.54957092],\n",
       "       [ 1.03874187],\n",
       "       [ 1.48200374],\n",
       "       [ 1.25601938],\n",
       "       [-0.83504232],\n",
       "       [ 0.09380739],\n",
       "       [-1.33814187],\n",
       "       [ 0.92223168],\n",
       "       [ 1.22344097],\n",
       "       [ 2.24293909],\n",
       "       [ 1.22033797],\n",
       "       [ 2.40410771],\n",
       "       [-1.62703599],\n",
       "       [ 1.36411001],\n",
       "       [-0.19869353],\n",
       "       [-0.49758419],\n",
       "       [ 1.22687176],\n",
       "       [-0.37716501],\n",
       "       [ 1.91053206],\n",
       "       [ 2.71563484],\n",
       "       [-1.15922115],\n",
       "       [-1.3547069 ],\n",
       "       [ 0.40793628],\n",
       "       [ 1.17838292],\n",
       "       [ 1.48084206],\n",
       "       [ 1.73521054],\n",
       "       [-1.6104645 ],\n",
       "       [ 0.75077928],\n",
       "       [ 0.98173637],\n",
       "       [ 0.84653896],\n",
       "       [ 1.48220199],\n",
       "       [-0.90186502],\n",
       "       [-1.21347664],\n",
       "       [ 2.89617668],\n",
       "       [ 1.79211311],\n",
       "       [ 1.3356734 ],\n",
       "       [-0.82737115],\n",
       "       [-0.99032875],\n",
       "       [-0.41699303],\n",
       "       [ 0.57963328],\n",
       "       [-1.20734519],\n",
       "       [ 2.1451677 ],\n",
       "       [ 0.44821933],\n",
       "       [-0.91373591],\n",
       "       [ 2.16669077],\n",
       "       [-0.74666642],\n",
       "       [ 0.62344748],\n",
       "       [ 1.57811889],\n",
       "       [-1.58325016],\n",
       "       [-1.09193541],\n",
       "       [ 0.9177444 ],\n",
       "       [-1.23211784],\n",
       "       [-0.39008135],\n",
       "       [ 0.91891988],\n",
       "       [ 2.02170125],\n",
       "       [ 1.98593211],\n",
       "       [ 1.8065775 ],\n",
       "       [-1.00468248],\n",
       "       [ 1.76994383],\n",
       "       [-1.33513105],\n",
       "       [-0.50390027],\n",
       "       [-0.07741209],\n",
       "       [-0.23567449],\n",
       "       [ 0.14672819],\n",
       "       [ 0.30345337],\n",
       "       [ 1.20104262],\n",
       "       [-1.06751756],\n",
       "       [ 1.43626325],\n",
       "       [ 1.53075756],\n",
       "       [ 1.78509281],\n",
       "       [ 1.38963185],\n",
       "       [ 1.14790879],\n",
       "       [ 0.74113988],\n",
       "       [-2.73196784],\n",
       "       [-0.02847217],\n",
       "       [-3.23874677],\n",
       "       [ 0.35512335],\n",
       "       [-1.73326062],\n",
       "       [-1.62156389],\n",
       "       [ 1.92244877],\n",
       "       [-0.47627315],\n",
       "       [ 2.54370655],\n",
       "       [-1.6381938 ],\n",
       "       [ 1.62199313],\n",
       "       [ 1.25533589],\n",
       "       [-0.70400916],\n",
       "       [-0.30036755],\n",
       "       [-0.06642152],\n",
       "       [ 1.22727483],\n",
       "       [-2.7251934 ],\n",
       "       [ 1.42968888],\n",
       "       [-0.29095888],\n",
       "       [ 2.37851954],\n",
       "       [-1.80432131],\n",
       "       [ 2.50233817],\n",
       "       [ 0.33157325],\n",
       "       [-0.68803407],\n",
       "       [ 0.99987545],\n",
       "       [ 0.68445897],\n",
       "       [ 0.89991351],\n",
       "       [ 1.44024675],\n",
       "       [-1.64639125],\n",
       "       [ 1.01726181],\n",
       "       [-1.19969785],\n",
       "       [ 1.20803571],\n",
       "       [ 1.94945798],\n",
       "       [ 1.98932565],\n",
       "       [ 1.30043812],\n",
       "       [ 2.50571079],\n",
       "       [-0.08285144],\n",
       "       [ 2.29573024],\n",
       "       [ 2.37823233],\n",
       "       [-3.06899875],\n",
       "       [ 1.3666765 ],\n",
       "       [ 0.82671364],\n",
       "       [-0.9184909 ],\n",
       "       [ 0.07535019],\n",
       "       [-0.34956372],\n",
       "       [ 1.25083598],\n",
       "       [-1.59014858],\n",
       "       [ 1.14398153],\n",
       "       [ 0.69213888],\n",
       "       [ 1.75014385],\n",
       "       [-1.15355634],\n",
       "       [ 0.00838713],\n",
       "       [ 0.07966998],\n",
       "       [-0.01898824],\n",
       "       [ 0.06252445],\n",
       "       [-1.37689494],\n",
       "       [ 0.79296142],\n",
       "       [ 2.46599596],\n",
       "       [-0.84688598],\n",
       "       [-1.84698599],\n",
       "       [ 0.06086432],\n",
       "       [-0.85175381],\n",
       "       [ 1.84295857],\n",
       "       [-0.67693841],\n",
       "       [-0.68280366],\n",
       "       [ 1.17493682],\n",
       "       [ 0.44108234],\n",
       "       [ 1.10573122],\n",
       "       [ 1.37690055],\n",
       "       [-1.4949269 ],\n",
       "       [ 0.21794342],\n",
       "       [ 0.16817031],\n",
       "       [-1.10783138],\n",
       "       [ 0.73916671],\n",
       "       [-2.51253683],\n",
       "       [ 1.21973905],\n",
       "       [ 0.30785644],\n",
       "       [ 1.18902982],\n",
       "       [ 0.84228414],\n",
       "       [ 0.24744491],\n",
       "       [ 1.28227147],\n",
       "       [ 2.32760056],\n",
       "       [-0.08039122],\n",
       "       [ 1.28448873],\n",
       "       [ 0.89210846],\n",
       "       [-1.48223796],\n",
       "       [-0.0093788 ],\n",
       "       [-1.14352094],\n",
       "       [ 0.25498238],\n",
       "       [ 2.34577635],\n",
       "       [-0.17222734],\n",
       "       [-0.72919003],\n",
       "       [-0.50719338],\n",
       "       [ 0.86066056],\n",
       "       [-0.32484783],\n",
       "       [ 1.67557319],\n",
       "       [-1.37303714],\n",
       "       [ 1.93565301],\n",
       "       [ 2.12308764],\n",
       "       [ 2.45040633],\n",
       "       [ 1.04170395],\n",
       "       [ 0.51259589],\n",
       "       [ 1.55343755],\n",
       "       [-1.46771077],\n",
       "       [-0.93254394],\n",
       "       [ 1.60109671],\n",
       "       [-1.2260175 ],\n",
       "       [ 1.93545863],\n",
       "       [ 0.31102129],\n",
       "       [ 0.69282769],\n",
       "       [-1.4302537 ],\n",
       "       [ 1.87132154],\n",
       "       [ 1.43289725],\n",
       "       [-0.45432364],\n",
       "       [-0.19715333],\n",
       "       [ 1.20275518],\n",
       "       [ 0.25232469],\n",
       "       [ 0.24029426],\n",
       "       [-1.44171531],\n",
       "       [ 1.72746895],\n",
       "       [-1.29698041],\n",
       "       [ 1.68122955],\n",
       "       [ 1.28974531],\n",
       "       [-1.29932564],\n",
       "       [ 1.85789146],\n",
       "       [ 0.5042792 ],\n",
       "       [-1.00896199],\n",
       "       [ 1.96973984],\n",
       "       [-0.2032225 ],\n",
       "       [ 0.7186107 ],\n",
       "       [ 2.0771769 ],\n",
       "       [ 0.15417225],\n",
       "       [-1.53689274],\n",
       "       [-0.54133242],\n",
       "       [ 1.65793142],\n",
       "       [ 0.91581493],\n",
       "       [ 1.46933905],\n",
       "       [ 0.6983248 ],\n",
       "       [ 1.76702569],\n",
       "       [-1.11679298],\n",
       "       [-1.35780969],\n",
       "       [ 1.43421774],\n",
       "       [ 0.85346494],\n",
       "       [ 2.40254279],\n",
       "       [-1.40583604],\n",
       "       [-0.0851993 ],\n",
       "       [ 1.32252353],\n",
       "       [-0.63986776],\n",
       "       [ 0.99202986],\n",
       "       [ 1.50834481],\n",
       "       [ 0.71086621],\n",
       "       [-0.14914618],\n",
       "       [-1.66797091],\n",
       "       [ 2.16283999],\n",
       "       [ 1.8170826 ],\n",
       "       [-1.49998533],\n",
       "       [-1.54121585],\n",
       "       [ 1.96426485],\n",
       "       [ 0.80859047],\n",
       "       [ 1.22857051],\n",
       "       [ 1.61597014],\n",
       "       [ 1.29471864],\n",
       "       [ 0.4607469 ],\n",
       "       [-1.55100431],\n",
       "       [ 1.90540791],\n",
       "       [-0.4613423 ],\n",
       "       [ 1.71335028],\n",
       "       [ 0.93873984],\n",
       "       [-2.04804177],\n",
       "       [-1.32024901],\n",
       "       [ 0.15770864],\n",
       "       [ 1.34298905],\n",
       "       [-0.5625252 ],\n",
       "       [ 0.37654647],\n",
       "       [ 1.78093261],\n",
       "       [-2.11113324],\n",
       "       [-0.62197504],\n",
       "       [-0.14855117],\n",
       "       [ 1.77738959],\n",
       "       [-1.44035262],\n",
       "       [-0.31842344],\n",
       "       [ 0.74387089],\n",
       "       [-1.52212946],\n",
       "       [-1.1536229 ],\n",
       "       [ 1.19989839],\n",
       "       [ 2.0591881 ]])"
      ]
     },
     "execution_count": 58,
     "metadata": {},
     "output_type": "execute_result"
    }
   ],
   "source": [
    "previsores_lda"
   ]
  },
  {
   "cell_type": "code",
   "execution_count": 59,
   "metadata": {
    "colab": {
     "base_uri": "https://localhost:8080/"
    },
    "executionInfo": {
     "elapsed": 21,
     "status": "ok",
     "timestamp": 1689263490846,
     "user": {
      "displayName": "Luciano Galdino",
      "userId": "10237697037323960148"
     },
     "user_tz": 180
    },
    "id": "g5l0JnpGBfn7",
    "outputId": "6fca1b75-5464-4b74-c1be-1a22f5dd9d4f"
   },
   "outputs": [
    {
     "data": {
      "text/plain": [
       "array([1.])"
      ]
     },
     "execution_count": 59,
     "metadata": {},
     "output_type": "execute_result"
    }
   ],
   "source": [
    "lda.explained_variance_ratio_"
   ]
  },
  {
   "cell_type": "markdown",
   "metadata": {
    "id": "Caf7XRsO4BYE",
    "jp-MarkdownHeadingCollapsed": true
   },
   "source": [
    "## **Salvando as variáveis (atributos)**"
   ]
  },
  {
   "cell_type": "code",
   "execution_count": 60,
   "metadata": {
    "executionInfo": {
     "elapsed": 20,
     "status": "ok",
     "timestamp": 1689263490846,
     "user": {
      "displayName": "Luciano Galdino",
      "userId": "10237697037323960148"
     },
     "user_tz": 180
    },
    "id": "Vn6R_DKHhG0u"
   },
   "outputs": [],
   "source": [
    "import pickle"
   ]
  },
  {
   "cell_type": "code",
   "execution_count": 61,
   "metadata": {
    "executionInfo": {
     "elapsed": 21,
     "status": "ok",
     "timestamp": 1689263490847,
     "user": {
      "displayName": "Luciano Galdino",
      "userId": "10237697037323960148"
     },
     "user_tz": 180
    },
    "id": "DuPE27wl-vBw"
   },
   "outputs": [],
   "source": [
    "# Criando arquivo\n",
    "arq1 = open('heart.pkl', 'wb')"
   ]
  },
  {
   "cell_type": "code",
   "execution_count": 62,
   "metadata": {
    "executionInfo": {
     "elapsed": 20,
     "status": "ok",
     "timestamp": 1689263490847,
     "user": {
      "displayName": "Luciano Galdino",
      "userId": "10237697037323960148"
     },
     "user_tz": 180
    },
    "id": "jTvKGTxnHien"
   },
   "outputs": [],
   "source": [
    "# Salvando a variável no arquivo\n",
    "pickle.dump(alvo, arq1)"
   ]
  },
  {
   "cell_type": "code",
   "execution_count": 63,
   "metadata": {
    "executionInfo": {
     "elapsed": 20,
     "status": "ok",
     "timestamp": 1689263490847,
     "user": {
      "displayName": "Luciano Galdino",
      "userId": "10237697037323960148"
     },
     "user_tz": 180
    },
    "id": "sle5bDZZIJjt"
   },
   "outputs": [],
   "source": [
    "# Fechando arquivo\n",
    "arq1.close()"
   ]
  },
  {
   "cell_type": "code",
   "execution_count": 64,
   "metadata": {
    "executionInfo": {
     "elapsed": 21,
     "status": "ok",
     "timestamp": 1689263490848,
     "user": {
      "displayName": "Luciano Galdino",
      "userId": "10237697037323960148"
     },
     "user_tz": 180
    },
    "id": "5-HNb-3IISWs"
   },
   "outputs": [],
   "source": [
    "# Lendo arquivo\n",
    "arq1 = open('heart.pkl', 'rb')"
   ]
  },
  {
   "cell_type": "code",
   "execution_count": 65,
   "metadata": {
    "executionInfo": {
     "elapsed": 20,
     "status": "ok",
     "timestamp": 1689263490848,
     "user": {
      "displayName": "Luciano Galdino",
      "userId": "10237697037323960148"
     },
     "user_tz": 180
    },
    "id": "poLMbNNvIjlz"
   },
   "outputs": [],
   "source": [
    "# Chamando a variável\n",
    "alvo = pickle.load(arq1)"
   ]
  },
  {
   "cell_type": "code",
   "execution_count": 66,
   "metadata": {
    "colab": {
     "base_uri": "https://localhost:8080/"
    },
    "executionInfo": {
     "elapsed": 20,
     "status": "ok",
     "timestamp": 1689263490848,
     "user": {
      "displayName": "Luciano Galdino",
      "userId": "10237697037323960148"
     },
     "user_tz": 180
    },
    "id": "MZHEQpHeKzK_",
    "outputId": "1a35ba14-0f98-4ab7-a94b-e0b2fa597877"
   },
   "outputs": [
    {
     "data": {
      "text/plain": [
       "array([0, 1, 0, 1, 0, 0, 0, 0, 1, 0, 0, 1, 0, 1, 0, 0, 1, 0, 1, 1, 0, 0,\n",
       "       0, 1, 0, 0, 0, 0, 0, 0, 1, 0, 1, 1, 0, 0, 1, 0, 0, 0, 0, 1, 0, 0,\n",
       "       1, 0, 0, 0, 0, 1, 1, 1, 0, 0, 0, 0, 1, 1, 0, 1, 0, 0, 0, 1, 0, 0,\n",
       "       0, 0, 1, 0, 1, 0, 1, 0, 1, 0, 1, 0, 0, 1, 0, 0, 1, 0, 1, 1, 1, 0,\n",
       "       1, 0, 0, 0, 0, 1, 0, 1, 0, 0, 0, 0, 1, 0, 1, 1, 1, 0, 0, 0, 0, 0,\n",
       "       0, 1, 0, 0, 0, 1, 1, 1, 0, 1, 1, 0, 0, 1, 0, 0, 0, 0, 0, 0, 0, 1,\n",
       "       1, 1, 0, 1, 0, 0, 1, 1, 1, 1, 1, 0, 1, 0, 0, 0, 0, 1, 0, 0, 0, 0,\n",
       "       0, 1, 1, 0, 1, 0, 1, 1, 0, 0, 0, 1, 1, 0, 0, 0, 0, 0, 0, 0, 1, 1,\n",
       "       1, 0, 0, 0, 1, 0, 1, 0, 0, 1, 0, 1, 0, 1, 0, 0, 0, 0, 0, 0, 0, 0,\n",
       "       1, 0, 0, 0, 0, 0, 0, 0, 0, 1, 0, 1, 1, 1, 0, 0, 1, 0, 1, 0, 0, 0,\n",
       "       1, 1, 0, 0, 0, 1, 0, 1, 0, 0, 0, 0, 0, 0, 0, 0, 1, 1, 1, 1, 0, 1,\n",
       "       1, 0, 1, 0, 1, 1, 1, 1, 1, 1, 0, 0, 1, 0, 0, 0, 0, 0, 0, 0, 1, 1,\n",
       "       1, 0, 1, 0, 1, 0, 0, 0, 1, 0, 0, 0, 1, 1, 0, 0, 0, 1, 0, 0, 0, 0,\n",
       "       0, 0, 0, 0, 0, 0, 0, 1, 1, 1, 1, 1, 1, 1, 1, 0, 1, 1, 1, 1, 1, 0,\n",
       "       1, 1, 0, 1, 1, 1, 0, 1, 1, 1, 1, 1, 1, 1, 1, 1, 1, 1, 0, 1, 1, 1,\n",
       "       1, 1, 0, 1, 1, 1, 0, 1, 1, 1, 1, 1, 1, 1, 1, 1, 1, 1, 1, 1, 1, 1,\n",
       "       1, 1, 1, 1, 1, 1, 1, 1, 1, 1, 1, 1, 0, 1, 1, 1, 1, 1, 1, 1, 1, 1,\n",
       "       1, 1, 1, 1, 1, 1, 1, 1, 1, 1, 1, 1, 1, 1, 1, 1, 1, 1, 1, 1, 1, 1,\n",
       "       1, 1, 1, 1, 1, 1, 1, 1, 1, 1, 1, 1, 1, 1, 1, 1, 1, 1, 1, 1, 1, 0,\n",
       "       1, 1, 0, 0, 1, 0, 1, 1, 0, 1, 1, 1, 1, 0, 1, 1, 0, 0, 1, 1, 1, 0,\n",
       "       1, 1, 1, 1, 1, 1, 1, 1, 1, 1, 1, 1, 0, 1, 0, 1, 1, 1, 0, 1, 1, 1,\n",
       "       0, 1, 0, 1, 0, 1, 0, 1, 1, 1, 1, 0, 1, 0, 1, 1, 1, 1, 1, 1, 1, 1,\n",
       "       1, 0, 1, 0, 1, 1, 1, 1, 1, 1, 1, 0, 1, 1, 1, 1, 1, 1, 0, 1, 1, 1,\n",
       "       0, 1, 1, 0, 1, 0, 1, 1, 0, 1, 1, 1, 1, 0, 1, 1, 1, 0, 0, 1, 0, 1,\n",
       "       1, 1, 1, 1, 1, 1, 1, 1, 1, 1, 0, 1, 1, 1, 1, 0, 0, 1, 1, 1, 0, 1,\n",
       "       0, 1, 1, 0, 1, 0, 1, 1, 1, 0, 0, 0, 1, 1, 1, 0, 1, 1, 1, 1, 1, 1,\n",
       "       1, 1, 1, 1, 1, 1, 1, 1, 1, 1, 0, 1, 1, 1, 0, 1, 1, 0, 0, 1, 1, 1,\n",
       "       1, 1, 0, 1, 1, 0, 1, 1, 1, 0, 0, 1, 1, 1, 1, 1, 0, 1, 0, 1, 1, 0,\n",
       "       1, 0, 0, 0, 1, 1, 1, 1, 0, 0, 0, 1, 0, 0, 1, 1, 0, 0, 1, 0, 0, 0,\n",
       "       0, 0, 0, 0, 1, 0, 1, 0, 0, 1, 1, 1, 1, 1, 0, 0, 1, 0, 0, 0, 1, 0,\n",
       "       1, 1, 1, 1, 1, 0, 0, 0, 0, 0, 1, 0, 1, 1, 0, 1, 0, 0, 0, 1, 0, 1,\n",
       "       0, 1, 1, 0, 0, 0, 0, 1, 0, 0, 0, 0, 1, 1, 1, 0, 0, 0, 0, 0, 0, 1,\n",
       "       0, 1, 1, 1, 1, 1, 0, 1, 0, 0, 0, 1, 0, 1, 1, 1, 0, 1, 1, 0, 1, 0,\n",
       "       1, 0, 0, 0, 1, 1, 0, 1, 1, 1, 1, 0, 0, 0, 1, 0, 0, 1, 1, 1, 0, 1,\n",
       "       0, 0, 0, 1, 0, 0, 1, 0, 1, 0, 1, 1, 1, 1, 1, 0, 0, 0, 0, 0, 0, 0,\n",
       "       1, 0, 0, 1, 1, 1, 0, 1, 0, 0, 0, 0, 0, 1, 0, 1, 1, 0, 0, 1, 1, 1,\n",
       "       1, 0, 0, 1, 1, 0, 0, 0, 1, 0, 0, 1, 0, 1, 0, 1, 0, 0, 0, 0, 0, 1,\n",
       "       0, 1, 1, 1, 1, 0, 0, 0, 1, 0, 1, 0, 0, 1, 0, 0, 0, 0, 0, 0, 1, 1,\n",
       "       0, 1, 0, 0, 1, 1, 0, 0, 1, 1, 0, 1, 0, 1, 0, 1, 0, 0, 1, 0, 0, 1,\n",
       "       0, 1, 1, 0, 1, 1, 1, 0, 1, 0, 0, 0, 0, 1, 1, 0, 0, 1, 1, 0, 1, 0,\n",
       "       0, 0, 0, 1, 0, 0, 1, 1, 1, 0, 0, 0, 1, 0, 1, 0, 1, 0, 1, 1, 1, 0,\n",
       "       0, 0, 1, 0, 1, 1, 1, 0, 1, 1, 1, 1, 1, 1, 0])"
      ]
     },
     "execution_count": 66,
     "metadata": {},
     "output_type": "execute_result"
    }
   ],
   "source": [
    "alvo"
   ]
  },
  {
   "cell_type": "code",
   "execution_count": 67,
   "metadata": {
    "executionInfo": {
     "elapsed": 20,
     "status": "ok",
     "timestamp": 1689263490849,
     "user": {
      "displayName": "Luciano Galdino",
      "userId": "10237697037323960148"
     },
     "user_tz": 180
    },
    "id": "hb4PNxyzQgC1"
   },
   "outputs": [],
   "source": [
    "# Criando arquivos e Salvando as variáveis\n",
    "arq2 = open('heart2.pkl', 'wb')\n",
    "pickle.dump(previsores, arq2)\n",
    "arq3 = open('heart3.pkl', 'wb')\n",
    "pickle.dump(previsores_esc, arq3)\n",
    "arq4 = open('heart4.pkl', 'wb')\n",
    "pickle.dump(previsores2, arq4)\n",
    "arq5 = open('heart5.pkl', 'wb')\n",
    "pickle.dump(previsores3, arq5)\n",
    "arq6 = open('heart6.pkl', 'wb')\n",
    "pickle.dump(previsores3_esc, arq6)"
   ]
  },
  {
   "cell_type": "code",
   "execution_count": 68,
   "metadata": {
    "executionInfo": {
     "elapsed": 19,
     "status": "ok",
     "timestamp": 1689263490849,
     "user": {
      "displayName": "Luciano Galdino",
      "userId": "10237697037323960148"
     },
     "user_tz": 180
    },
    "id": "i7noq9dAEwog"
   },
   "outputs": [],
   "source": [
    "arq2 = open('heart2.pkl', 'rb')"
   ]
  },
  {
   "cell_type": "code",
   "execution_count": 69,
   "metadata": {
    "executionInfo": {
     "elapsed": 20,
     "status": "ok",
     "timestamp": 1689263490850,
     "user": {
      "displayName": "Luciano Galdino",
      "userId": "10237697037323960148"
     },
     "user_tz": 180
    },
    "id": "sNSCfClWE0_G"
   },
   "outputs": [],
   "source": [
    "previsores = pickle.load(arq2)"
   ]
  },
  {
   "cell_type": "code",
   "execution_count": 70,
   "metadata": {
    "colab": {
     "base_uri": "https://localhost:8080/"
    },
    "executionInfo": {
     "elapsed": 22,
     "status": "ok",
     "timestamp": 1689263490852,
     "user": {
      "displayName": "Luciano Galdino",
      "userId": "10237697037323960148"
     },
     "user_tz": 180
    },
    "id": "3rE0rqRXRxR3",
    "outputId": "46e7a306-7f57-4e50-8dd2-51241541e571"
   },
   "outputs": [
    {
     "data": {
      "text/plain": [
       "array([[40. ,  0. ,  1. , ...,  0. ,  0. ,  0. ],\n",
       "       [49. ,  1. ,  2. , ...,  0. ,  1. ,  1. ],\n",
       "       [37. ,  0. ,  1. , ...,  0. ,  0. ,  0. ],\n",
       "       ...,\n",
       "       [57. ,  0. ,  3. , ...,  1. ,  1.2,  1. ],\n",
       "       [57. ,  1. ,  1. , ...,  0. ,  0. ,  1. ],\n",
       "       [38. ,  0. ,  2. , ...,  0. ,  0. ,  0. ]])"
      ]
     },
     "execution_count": 70,
     "metadata": {},
     "output_type": "execute_result"
    }
   ],
   "source": [
    "previsores"
   ]
  },
  {
   "cell_type": "markdown",
   "metadata": {
    "id": "w-W634n0I_Db"
   },
   "source": [
    "## **BASE DE TREINO E TESTE**"
   ]
  },
  {
   "cell_type": "code",
   "execution_count": 71,
   "metadata": {
    "executionInfo": {
     "elapsed": 22,
     "status": "ok",
     "timestamp": 1689263490853,
     "user": {
      "displayName": "Luciano Galdino",
      "userId": "10237697037323960148"
     },
     "user_tz": 180
    },
    "id": "UmjBvEubFG72"
   },
   "outputs": [],
   "source": [
    "from sklearn.model_selection import train_test_split"
   ]
  },
  {
   "cell_type": "markdown",
   "metadata": {
    "id": "cB1szLDSyfzA"
   },
   "source": [
    "Parâmetros train_test_split:   \n",
    "- arrays: nomes dos atributos previsores e alvo.   \n",
    "- test_size: tamanho em porcentagem dos dados de teste. default é none.   \n",
    "- train_size: tamanho em porcentagem dos dados de treinamento.default é none.  \n",
    "- random_state: nomeação de um estado aleatório.   \n",
    "- shuffle: embaralhamento dos dados aleatórios. Associado com o random_state ocorre o mesmo embaralhamento sempre. Default é True.  \n",
    "- stratify: Possibilidade de dividir os dados de forma estratificada. Default é None (nesse caso é mantido a proporção, isto é, se tem 30% de zeros e 70% de 1 no dataframe, na separação em treinamento e teste se manterá essa proporção)."
   ]
  },
  {
   "cell_type": "code",
   "execution_count": 241,
   "metadata": {
    "executionInfo": {
     "elapsed": 22,
     "status": "ok",
     "timestamp": 1689263490854,
     "user": {
      "displayName": "Luciano Galdino",
      "userId": "10237697037323960148"
     },
     "user_tz": 180
    },
    "id": "JFn1OrYtF0m9"
   },
   "outputs": [],
   "source": [
    "x_treino, x_teste, y_treino, y_teste = train_test_split(previsores3_esc, alvo, test_size = 0.3, random_state = 0)"
   ]
  },
  {
   "cell_type": "code",
   "execution_count": 242,
   "metadata": {
    "colab": {
     "base_uri": "https://localhost:8080/"
    },
    "executionInfo": {
     "elapsed": 22,
     "status": "ok",
     "timestamp": 1689263490854,
     "user": {
      "displayName": "Luciano Galdino",
      "userId": "10237697037323960148"
     },
     "user_tz": 180
    },
    "id": "Xza9uNMgJFD8",
    "outputId": "d834aa82-25cf-46df-b785-190204a4ccb4"
   },
   "outputs": [
    {
     "data": {
      "text/plain": [
       "(641, 20)"
      ]
     },
     "execution_count": 242,
     "metadata": {},
     "output_type": "execute_result"
    }
   ],
   "source": [
    "x_treino.shape"
   ]
  },
  {
   "cell_type": "code",
   "execution_count": 243,
   "metadata": {
    "colab": {
     "base_uri": "https://localhost:8080/"
    },
    "executionInfo": {
     "elapsed": 21,
     "status": "ok",
     "timestamp": 1689263490854,
     "user": {
      "displayName": "Luciano Galdino",
      "userId": "10237697037323960148"
     },
     "user_tz": 180
    },
    "id": "gM74hUlEJNOZ",
    "outputId": "af39def4-474b-45b9-af79-294ab9af123e"
   },
   "outputs": [
    {
     "data": {
      "text/plain": [
       "(276, 20)"
      ]
     },
     "execution_count": 243,
     "metadata": {},
     "output_type": "execute_result"
    }
   ],
   "source": [
    "x_teste.shape"
   ]
  },
  {
   "cell_type": "code",
   "execution_count": 244,
   "metadata": {
    "colab": {
     "base_uri": "https://localhost:8080/"
    },
    "executionInfo": {
     "elapsed": 21,
     "status": "ok",
     "timestamp": 1689263490855,
     "user": {
      "displayName": "Luciano Galdino",
      "userId": "10237697037323960148"
     },
     "user_tz": 180
    },
    "id": "lGzLxpISJeWG",
    "outputId": "7975d218-6130-4d38-df1b-3c1f5724fb33"
   },
   "outputs": [
    {
     "data": {
      "text/plain": [
       "(641,)"
      ]
     },
     "execution_count": 244,
     "metadata": {},
     "output_type": "execute_result"
    }
   ],
   "source": [
    "y_treino.shape"
   ]
  },
  {
   "cell_type": "code",
   "execution_count": 245,
   "metadata": {
    "colab": {
     "base_uri": "https://localhost:8080/"
    },
    "executionInfo": {
     "elapsed": 21,
     "status": "ok",
     "timestamp": 1689263490855,
     "user": {
      "displayName": "Luciano Galdino",
      "userId": "10237697037323960148"
     },
     "user_tz": 180
    },
    "id": "ZUojufPlJnhy",
    "outputId": "210f7d9b-9627-48d2-a21d-dbdb6b330222"
   },
   "outputs": [
    {
     "data": {
      "text/plain": [
       "(276,)"
      ]
     },
     "execution_count": 245,
     "metadata": {},
     "output_type": "execute_result"
    }
   ],
   "source": [
    "y_teste.shape"
   ]
  },
  {
   "cell_type": "markdown",
   "metadata": {
    "id": "f6u542_aEj6B",
    "jp-MarkdownHeadingCollapsed": true
   },
   "source": [
    "# **NAIVE BAYES**"
   ]
  },
  {
   "cell_type": "markdown",
   "metadata": {
    "id": "2tnCKM7kcfQl"
   },
   "source": [
    "https://scikit-learn.org/stable/modules/naive_bayes.html"
   ]
  },
  {
   "cell_type": "markdown",
   "metadata": {
    "id": "-GK8qvcgzWGQ"
   },
   "source": [
    "Treinamento do algoritmo"
   ]
  },
  {
   "cell_type": "code",
   "execution_count": 77,
   "metadata": {
    "id": "YhAnMs4TJRoa"
   },
   "outputs": [],
   "source": [
    "from sklearn.naive_bayes import GaussianNB"
   ]
  },
  {
   "cell_type": "code",
   "execution_count": 78,
   "metadata": {
    "id": "ak0_M56CJheq"
   },
   "outputs": [
    {
     "data": {
      "text/html": [
       "<style>#sk-container-id-1 {color: black;background-color: white;}#sk-container-id-1 pre{padding: 0;}#sk-container-id-1 div.sk-toggleable {background-color: white;}#sk-container-id-1 label.sk-toggleable__label {cursor: pointer;display: block;width: 100%;margin-bottom: 0;padding: 0.3em;box-sizing: border-box;text-align: center;}#sk-container-id-1 label.sk-toggleable__label-arrow:before {content: \"▸\";float: left;margin-right: 0.25em;color: #696969;}#sk-container-id-1 label.sk-toggleable__label-arrow:hover:before {color: black;}#sk-container-id-1 div.sk-estimator:hover label.sk-toggleable__label-arrow:before {color: black;}#sk-container-id-1 div.sk-toggleable__content {max-height: 0;max-width: 0;overflow: hidden;text-align: left;background-color: #f0f8ff;}#sk-container-id-1 div.sk-toggleable__content pre {margin: 0.2em;color: black;border-radius: 0.25em;background-color: #f0f8ff;}#sk-container-id-1 input.sk-toggleable__control:checked~div.sk-toggleable__content {max-height: 200px;max-width: 100%;overflow: auto;}#sk-container-id-1 input.sk-toggleable__control:checked~label.sk-toggleable__label-arrow:before {content: \"▾\";}#sk-container-id-1 div.sk-estimator input.sk-toggleable__control:checked~label.sk-toggleable__label {background-color: #d4ebff;}#sk-container-id-1 div.sk-label input.sk-toggleable__control:checked~label.sk-toggleable__label {background-color: #d4ebff;}#sk-container-id-1 input.sk-hidden--visually {border: 0;clip: rect(1px 1px 1px 1px);clip: rect(1px, 1px, 1px, 1px);height: 1px;margin: -1px;overflow: hidden;padding: 0;position: absolute;width: 1px;}#sk-container-id-1 div.sk-estimator {font-family: monospace;background-color: #f0f8ff;border: 1px dotted black;border-radius: 0.25em;box-sizing: border-box;margin-bottom: 0.5em;}#sk-container-id-1 div.sk-estimator:hover {background-color: #d4ebff;}#sk-container-id-1 div.sk-parallel-item::after {content: \"\";width: 100%;border-bottom: 1px solid gray;flex-grow: 1;}#sk-container-id-1 div.sk-label:hover label.sk-toggleable__label {background-color: #d4ebff;}#sk-container-id-1 div.sk-serial::before {content: \"\";position: absolute;border-left: 1px solid gray;box-sizing: border-box;top: 0;bottom: 0;left: 50%;z-index: 0;}#sk-container-id-1 div.sk-serial {display: flex;flex-direction: column;align-items: center;background-color: white;padding-right: 0.2em;padding-left: 0.2em;position: relative;}#sk-container-id-1 div.sk-item {position: relative;z-index: 1;}#sk-container-id-1 div.sk-parallel {display: flex;align-items: stretch;justify-content: center;background-color: white;position: relative;}#sk-container-id-1 div.sk-item::before, #sk-container-id-1 div.sk-parallel-item::before {content: \"\";position: absolute;border-left: 1px solid gray;box-sizing: border-box;top: 0;bottom: 0;left: 50%;z-index: -1;}#sk-container-id-1 div.sk-parallel-item {display: flex;flex-direction: column;z-index: 1;position: relative;background-color: white;}#sk-container-id-1 div.sk-parallel-item:first-child::after {align-self: flex-end;width: 50%;}#sk-container-id-1 div.sk-parallel-item:last-child::after {align-self: flex-start;width: 50%;}#sk-container-id-1 div.sk-parallel-item:only-child::after {width: 0;}#sk-container-id-1 div.sk-dashed-wrapped {border: 1px dashed gray;margin: 0 0.4em 0.5em 0.4em;box-sizing: border-box;padding-bottom: 0.4em;background-color: white;}#sk-container-id-1 div.sk-label label {font-family: monospace;font-weight: bold;display: inline-block;line-height: 1.2em;}#sk-container-id-1 div.sk-label-container {text-align: center;}#sk-container-id-1 div.sk-container {/* jupyter's `normalize.less` sets `[hidden] { display: none; }` but bootstrap.min.css set `[hidden] { display: none !important; }` so we also need the `!important` here to be able to override the default hidden behavior on the sphinx rendered scikit-learn.org. See: https://github.com/scikit-learn/scikit-learn/issues/21755 */display: inline-block !important;position: relative;}#sk-container-id-1 div.sk-text-repr-fallback {display: none;}</style><div id=\"sk-container-id-1\" class=\"sk-top-container\"><div class=\"sk-text-repr-fallback\"><pre>GaussianNB()</pre><b>In a Jupyter environment, please rerun this cell to show the HTML representation or trust the notebook. <br />On GitHub, the HTML representation is unable to render, please try loading this page with nbviewer.org.</b></div><div class=\"sk-container\" hidden><div class=\"sk-item\"><div class=\"sk-estimator sk-toggleable\"><input class=\"sk-toggleable__control sk-hidden--visually\" id=\"sk-estimator-id-1\" type=\"checkbox\" checked><label for=\"sk-estimator-id-1\" class=\"sk-toggleable__label sk-toggleable__label-arrow\">GaussianNB</label><div class=\"sk-toggleable__content\"><pre>GaussianNB()</pre></div></div></div></div></div>"
      ],
      "text/plain": [
       "GaussianNB()"
      ]
     },
     "execution_count": 78,
     "metadata": {},
     "output_type": "execute_result"
    }
   ],
   "source": [
    "naive = GaussianNB()\n",
    "naive.fit(x_treino, y_treino)"
   ]
  },
  {
   "cell_type": "markdown",
   "metadata": {
    "id": "neBugc1HzbL_"
   },
   "source": [
    "Avaliação do algoritmo"
   ]
  },
  {
   "cell_type": "code",
   "execution_count": 79,
   "metadata": {
    "id": "ac4kuVBsJ85p"
   },
   "outputs": [
    {
     "data": {
      "text/plain": [
       "array([1, 1, 1, 0, 0, 0, 1, 0, 0, 0, 1, 1, 1, 1, 0, 1, 1, 1, 1, 0, 1, 1,\n",
       "       1, 0, 0, 0, 1, 1, 0, 1, 1, 0, 0, 0, 1, 0, 0, 0, 1, 0, 0, 1, 1, 1,\n",
       "       1, 0, 0, 1, 0, 1, 1, 0, 0, 1, 1, 0, 0, 0, 0, 0, 1, 1, 1, 0, 1, 1,\n",
       "       1, 0, 1, 0, 1, 1, 0, 1, 1, 1, 1, 1, 1, 1, 1, 1, 0, 0, 1, 1, 1, 1,\n",
       "       1, 0, 1, 0, 0, 0, 0, 0, 1, 0, 0, 0, 0, 0, 1, 1, 0, 1, 1, 0, 0, 1,\n",
       "       0, 1, 1, 1, 1, 1, 1, 1, 1, 1, 1, 1, 1, 0, 1, 1, 0, 1, 0, 1, 0, 1,\n",
       "       1, 1, 0, 1, 1, 1, 1, 0, 0, 1, 0, 1, 0, 0, 1, 1, 1, 0, 0, 1, 1, 0,\n",
       "       1, 0, 1, 0, 1, 0, 1, 1, 1, 0, 1, 0, 1, 0, 1, 0, 1, 1, 0, 0, 1, 1,\n",
       "       1, 0, 0, 1, 1, 1, 0, 1, 1, 1, 0, 1, 1, 0, 1, 0, 1, 0, 1, 1, 0, 0,\n",
       "       1, 0, 1, 1, 0, 1, 1, 0, 0, 0, 1, 0, 1, 1, 0, 0, 0, 0, 1, 0, 1, 1,\n",
       "       1, 0, 0, 1, 1, 1, 0, 1, 0, 1, 0, 1, 1, 1, 0, 1, 1, 1, 0, 1, 1, 0,\n",
       "       1, 0, 0, 0, 0, 0, 1, 0, 1, 0, 1, 0, 0, 0, 1, 0, 0, 1, 0, 1, 1, 0,\n",
       "       0, 0, 0, 0, 1, 0, 0, 1, 1, 1, 1, 1])"
      ]
     },
     "execution_count": 79,
     "metadata": {},
     "output_type": "execute_result"
    }
   ],
   "source": [
    "previsoes_naive = naive.predict(x_teste)\n",
    "previsoes_naive"
   ]
  },
  {
   "cell_type": "code",
   "execution_count": 80,
   "metadata": {
    "id": "aBPvzhRUKLoZ"
   },
   "outputs": [
    {
     "data": {
      "text/plain": [
       "array([1, 0, 1, 0, 0, 0, 0, 0, 0, 0, 1, 0, 1, 1, 0, 1, 1, 1, 1, 0, 1, 1,\n",
       "       1, 0, 0, 0, 1, 1, 0, 0, 1, 0, 0, 0, 1, 0, 1, 0, 1, 0, 0, 1, 1, 1,\n",
       "       1, 0, 0, 1, 1, 1, 1, 0, 0, 1, 1, 0, 0, 0, 1, 0, 1, 1, 1, 0, 1, 1,\n",
       "       1, 0, 1, 0, 1, 1, 1, 1, 1, 1, 1, 1, 1, 0, 0, 1, 0, 0, 1, 1, 0, 1,\n",
       "       1, 0, 1, 0, 0, 1, 1, 0, 1, 0, 0, 0, 0, 1, 1, 1, 0, 1, 0, 0, 0, 1,\n",
       "       0, 1, 1, 1, 0, 1, 1, 1, 1, 1, 1, 1, 1, 0, 0, 1, 0, 1, 0, 1, 0, 1,\n",
       "       0, 1, 0, 0, 0, 1, 1, 0, 1, 1, 0, 1, 0, 0, 1, 1, 1, 0, 1, 1, 0, 0,\n",
       "       0, 0, 1, 1, 1, 0, 1, 1, 1, 0, 1, 0, 1, 0, 1, 0, 1, 1, 0, 0, 1, 0,\n",
       "       0, 1, 0, 1, 1, 1, 0, 1, 1, 1, 0, 1, 1, 0, 0, 0, 1, 1, 1, 1, 1, 0,\n",
       "       1, 0, 1, 1, 0, 1, 1, 0, 0, 0, 1, 0, 1, 1, 0, 1, 0, 1, 1, 1, 1, 1,\n",
       "       1, 1, 0, 0, 0, 1, 0, 1, 1, 1, 0, 1, 0, 1, 1, 1, 1, 1, 0, 1, 1, 0,\n",
       "       1, 0, 1, 0, 0, 0, 1, 0, 1, 0, 1, 1, 0, 0, 1, 0, 0, 1, 0, 1, 1, 0,\n",
       "       0, 0, 0, 0, 1, 0, 0, 1, 1, 1, 1, 1])"
      ]
     },
     "execution_count": 80,
     "metadata": {},
     "output_type": "execute_result"
    }
   ],
   "source": [
    "y_teste"
   ]
  },
  {
   "cell_type": "code",
   "execution_count": 81,
   "metadata": {
    "id": "OEXPFIiVKUl_"
   },
   "outputs": [],
   "source": [
    "from sklearn.metrics import accuracy_score, confusion_matrix, classification_report"
   ]
  },
  {
   "cell_type": "code",
   "execution_count": 82,
   "metadata": {
    "id": "hojdvgEgKYjg"
   },
   "outputs": [
    {
     "data": {
      "text/plain": [
       "0.8478260869565217"
      ]
     },
     "execution_count": 82,
     "metadata": {},
     "output_type": "execute_result"
    }
   ],
   "source": [
    "accuracy_score(y_teste, previsoes_naive)"
   ]
  },
  {
   "cell_type": "code",
   "execution_count": 83,
   "metadata": {
    "id": "R8rjCRA7CwLV"
   },
   "outputs": [
    {
     "name": "stdout",
     "output_type": "stream",
     "text": [
      "Acurácia: 84.78%\n"
     ]
    }
   ],
   "source": [
    "print(\"Acurácia: %.2f%%\" % (accuracy_score(y_teste, previsoes_naive) * 100.0))"
   ]
  },
  {
   "cell_type": "code",
   "execution_count": 84,
   "metadata": {
    "id": "N_xxZiTXKeG3"
   },
   "outputs": [
    {
     "data": {
      "text/plain": [
       "array([[100,  21],\n",
       "       [ 21, 134]])"
      ]
     },
     "execution_count": 84,
     "metadata": {},
     "output_type": "execute_result"
    }
   ],
   "source": [
    "confusion_matrix(y_teste, previsoes_naive)"
   ]
  },
  {
   "cell_type": "code",
   "execution_count": 85,
   "metadata": {
    "id": "CZMZ_zPNKzqW"
   },
   "outputs": [
    {
     "name": "stdout",
     "output_type": "stream",
     "text": [
      "              precision    recall  f1-score   support\n",
      "\n",
      "           0       0.83      0.83      0.83       121\n",
      "           1       0.86      0.86      0.86       155\n",
      "\n",
      "    accuracy                           0.85       276\n",
      "   macro avg       0.85      0.85      0.85       276\n",
      "weighted avg       0.85      0.85      0.85       276\n",
      "\n"
     ]
    }
   ],
   "source": [
    "print(classification_report(y_teste, previsoes_naive))"
   ]
  },
  {
   "cell_type": "markdown",
   "metadata": {
    "id": "Gnte-P_e0536"
   },
   "source": [
    "**Análise dados de treino**"
   ]
  },
  {
   "cell_type": "code",
   "execution_count": 86,
   "metadata": {
    "id": "_t9CZH8qz9w-"
   },
   "outputs": [
    {
     "data": {
      "text/plain": [
       "array([1, 0, 1, 1, 1, 1, 0, 0, 0, 0, 1, 0, 1, 1, 1, 0, 0, 0, 0, 1, 0, 1,\n",
       "       1, 1, 1, 0, 0, 1, 0, 1, 1, 0, 1, 1, 0, 0, 1, 1, 0, 1, 0, 1, 0, 0,\n",
       "       1, 1, 0, 1, 1, 1, 0, 0, 1, 0, 1, 0, 1, 0, 1, 0, 0, 0, 0, 0, 1, 1,\n",
       "       0, 1, 1, 0, 1, 1, 1, 1, 0, 0, 1, 1, 1, 1, 1, 1, 1, 1, 0, 1, 1, 1,\n",
       "       1, 1, 0, 1, 0, 0, 1, 1, 1, 1, 1, 1, 1, 1, 0, 1, 1, 1, 1, 0, 0, 1,\n",
       "       0, 0, 1, 0, 1, 0, 1, 0, 1, 0, 0, 0, 0, 1, 0, 1, 0, 0, 1, 1, 1, 0,\n",
       "       1, 1, 0, 0, 1, 0, 1, 1, 0, 1, 1, 1, 1, 1, 1, 0, 0, 1, 1, 0, 1, 0,\n",
       "       1, 0, 1, 1, 1, 1, 1, 0, 0, 0, 0, 0, 1, 0, 0, 0, 0, 1, 1, 0, 1, 0,\n",
       "       0, 1, 1, 0, 0, 0, 0, 0, 0, 1, 1, 1, 1, 1, 0, 0, 1, 0, 0, 1, 1, 0,\n",
       "       0, 1, 0, 0, 0, 1, 1, 1, 1, 1, 1, 0, 0, 0, 1, 1, 1, 1, 1, 0, 0, 1,\n",
       "       1, 0, 0, 1, 1, 1, 1, 1, 1, 1, 0, 1, 0, 1, 1, 0, 1, 0, 1, 0, 1, 0,\n",
       "       1, 1, 0, 1, 1, 1, 1, 0, 1, 1, 0, 0, 0, 0, 0, 0, 0, 0, 0, 1, 1, 0,\n",
       "       1, 0, 1, 0, 1, 0, 1, 1, 0, 0, 0, 1, 1, 0, 0, 0, 1, 0, 0, 0, 1, 1,\n",
       "       0, 1, 1, 1, 1, 0, 1, 1, 0, 1, 0, 1, 0, 1, 1, 0, 0, 1, 0, 0, 1, 1,\n",
       "       1, 0, 1, 0, 1, 0, 1, 0, 1, 0, 1, 0, 1, 1, 1, 0, 0, 1, 1, 1, 1, 0,\n",
       "       0, 0, 1, 0, 0, 0, 1, 1, 0, 1, 1, 1, 1, 1, 1, 0, 1, 1, 0, 1, 0, 1,\n",
       "       0, 0, 0, 0, 0, 0, 1, 0, 0, 1, 0, 1, 1, 0, 0, 0, 0, 0, 1, 1, 0, 1,\n",
       "       0, 1, 1, 1, 0, 1, 1, 1, 0, 1, 0, 1, 0, 0, 0, 1, 0, 1, 1, 0, 1, 1,\n",
       "       0, 0, 0, 1, 1, 1, 1, 0, 1, 0, 1, 1, 1, 0, 0, 1, 0, 1, 1, 1, 0, 0,\n",
       "       0, 1, 1, 0, 0, 1, 1, 0, 1, 0, 0, 0, 0, 1, 1, 1, 1, 1, 1, 0, 1, 1,\n",
       "       0, 0, 1, 1, 1, 1, 0, 1, 0, 0, 1, 0, 0, 1, 1, 1, 0, 0, 0, 1, 0, 1,\n",
       "       1, 1, 1, 1, 1, 0, 1, 1, 1, 1, 1, 1, 0, 1, 1, 0, 0, 0, 1, 0, 0, 0,\n",
       "       0, 0, 1, 0, 1, 1, 0, 0, 0, 1, 1, 0, 0, 1, 1, 0, 1, 1, 0, 0, 1, 1,\n",
       "       1, 1, 0, 0, 1, 0, 1, 1, 0, 1, 0, 0, 1, 0, 1, 1, 1, 0, 0, 1, 1, 0,\n",
       "       1, 0, 1, 0, 1, 0, 1, 0, 1, 0, 1, 1, 0, 1, 1, 1, 1, 0, 0, 1, 1, 0,\n",
       "       0, 1, 1, 0, 1, 0, 1, 1, 1, 0, 1, 1, 0, 0, 0, 0, 1, 0, 0, 1, 0, 1,\n",
       "       1, 1, 0, 0, 1, 0, 0, 0, 0, 0, 0, 1, 1, 1, 1, 0, 1, 0, 0, 0, 0, 0,\n",
       "       0, 0, 1, 0, 0, 0, 0, 0, 0, 0, 1, 0, 1, 1, 0, 1, 1, 1, 1, 1, 0, 1,\n",
       "       1, 1, 0, 1, 1, 0, 1, 0, 1, 1, 1, 1, 0, 1, 1, 0, 0, 0, 1, 0, 1, 0,\n",
       "       0, 0, 1])"
      ]
     },
     "execution_count": 86,
     "metadata": {},
     "output_type": "execute_result"
    }
   ],
   "source": [
    "previsoes_treino = naive.predict(x_treino)\n",
    "previsoes_treino"
   ]
  },
  {
   "cell_type": "code",
   "execution_count": 87,
   "metadata": {
    "id": "ixfPbrJB0iEE"
   },
   "outputs": [
    {
     "data": {
      "text/plain": [
       "0.8611544461778471"
      ]
     },
     "execution_count": 87,
     "metadata": {},
     "output_type": "execute_result"
    }
   ],
   "source": [
    "accuracy_score(y_treino, previsoes_treino)"
   ]
  },
  {
   "cell_type": "code",
   "execution_count": 88,
   "metadata": {
    "id": "nyTX_2Te0suq"
   },
   "outputs": [
    {
     "data": {
      "text/plain": [
       "array([[248,  41],\n",
       "       [ 48, 304]])"
      ]
     },
     "execution_count": 88,
     "metadata": {},
     "output_type": "execute_result"
    }
   ],
   "source": [
    "confusion_matrix(y_treino, previsoes_treino)"
   ]
  },
  {
   "cell_type": "markdown",
   "metadata": {
    "id": "rNsT6wAn_e1l"
   },
   "source": [
    "### **Validação Cruzada**"
   ]
  },
  {
   "cell_type": "code",
   "execution_count": 89,
   "metadata": {
    "id": "lvBuy5bm_qok"
   },
   "outputs": [],
   "source": [
    "from sklearn.model_selection import KFold\n",
    "from sklearn.model_selection import cross_val_score"
   ]
  },
  {
   "cell_type": "code",
   "execution_count": 90,
   "metadata": {
    "id": "SS_dyx4x_260"
   },
   "outputs": [],
   "source": [
    "# Separando os dados em folds\n",
    "kfold = KFold(n_splits = 30, shuffle=True, random_state = 5)"
   ]
  },
  {
   "cell_type": "code",
   "execution_count": 91,
   "metadata": {
    "id": "K0aqT7kPAf1L"
   },
   "outputs": [
    {
     "data": {
      "text/plain": [
       "array([0.87096774, 0.87096774, 0.90322581, 0.80645161, 0.77419355,\n",
       "       0.90322581, 0.70967742, 0.87096774, 0.77419355, 0.87096774,\n",
       "       0.90322581, 0.77419355, 0.93548387, 0.90322581, 0.87096774,\n",
       "       0.87096774, 0.87096774, 0.93333333, 0.93333333, 0.9       ,\n",
       "       0.76666667, 0.83333333, 0.8       , 0.7       , 0.83333333,\n",
       "       0.93333333, 0.86666667, 0.9       , 0.86666667, 0.8       ])"
      ]
     },
     "execution_count": 91,
     "metadata": {},
     "output_type": "execute_result"
    }
   ],
   "source": [
    "# Criando o modelo\n",
    "modelo = GaussianNB()\n",
    "resultado = cross_val_score(modelo, previsores3_esc, alvo, cv = kfold)\n",
    "resultado"
   ]
  },
  {
   "cell_type": "code",
   "execution_count": 92,
   "metadata": {
    "id": "VmmFUeXird9B"
   },
   "outputs": [
    {
     "name": "stdout",
     "output_type": "stream",
     "text": [
      "Acurácia Média: 85.17%\n"
     ]
    }
   ],
   "source": [
    "# Usamos a média e o desvio padrão\n",
    "print(\"Acurácia Média: %.2f%%\" % (resultado.mean() * 100.0))"
   ]
  },
  {
   "cell_type": "markdown",
   "metadata": {
    "id": "tZ03xoOQNkQP"
   },
   "source": [
    "Naive Bayes = 84,78% (treino e teste) - 234 acertos e 85,17% (validação cruzada) - previsores3_esc\n",
    "\n",
    "\n",
    "\n"
   ]
  },
  {
   "cell_type": "markdown",
   "metadata": {
    "id": "n1ky9LQipNn0",
    "jp-MarkdownHeadingCollapsed": true
   },
   "source": [
    "# **MÁQUINAS DE VETORES DE SUPORTE (SVM)**"
   ]
  },
  {
   "cell_type": "markdown",
   "metadata": {
    "id": "5p55FhL3b52u"
   },
   "source": [
    "https://scikit-learn.org/stable/modules/generated/sklearn.svm.SVC.html"
   ]
  },
  {
   "cell_type": "code",
   "execution_count": 93,
   "metadata": {
    "id": "oVy0EpUfpquK"
   },
   "outputs": [],
   "source": [
    "from sklearn.svm import SVC"
   ]
  },
  {
   "cell_type": "code",
   "execution_count": 94,
   "metadata": {
    "id": "P7xKKTCabAab"
   },
   "outputs": [
    {
     "data": {
      "text/html": [
       "<style>#sk-container-id-2 {color: black;background-color: white;}#sk-container-id-2 pre{padding: 0;}#sk-container-id-2 div.sk-toggleable {background-color: white;}#sk-container-id-2 label.sk-toggleable__label {cursor: pointer;display: block;width: 100%;margin-bottom: 0;padding: 0.3em;box-sizing: border-box;text-align: center;}#sk-container-id-2 label.sk-toggleable__label-arrow:before {content: \"▸\";float: left;margin-right: 0.25em;color: #696969;}#sk-container-id-2 label.sk-toggleable__label-arrow:hover:before {color: black;}#sk-container-id-2 div.sk-estimator:hover label.sk-toggleable__label-arrow:before {color: black;}#sk-container-id-2 div.sk-toggleable__content {max-height: 0;max-width: 0;overflow: hidden;text-align: left;background-color: #f0f8ff;}#sk-container-id-2 div.sk-toggleable__content pre {margin: 0.2em;color: black;border-radius: 0.25em;background-color: #f0f8ff;}#sk-container-id-2 input.sk-toggleable__control:checked~div.sk-toggleable__content {max-height: 200px;max-width: 100%;overflow: auto;}#sk-container-id-2 input.sk-toggleable__control:checked~label.sk-toggleable__label-arrow:before {content: \"▾\";}#sk-container-id-2 div.sk-estimator input.sk-toggleable__control:checked~label.sk-toggleable__label {background-color: #d4ebff;}#sk-container-id-2 div.sk-label input.sk-toggleable__control:checked~label.sk-toggleable__label {background-color: #d4ebff;}#sk-container-id-2 input.sk-hidden--visually {border: 0;clip: rect(1px 1px 1px 1px);clip: rect(1px, 1px, 1px, 1px);height: 1px;margin: -1px;overflow: hidden;padding: 0;position: absolute;width: 1px;}#sk-container-id-2 div.sk-estimator {font-family: monospace;background-color: #f0f8ff;border: 1px dotted black;border-radius: 0.25em;box-sizing: border-box;margin-bottom: 0.5em;}#sk-container-id-2 div.sk-estimator:hover {background-color: #d4ebff;}#sk-container-id-2 div.sk-parallel-item::after {content: \"\";width: 100%;border-bottom: 1px solid gray;flex-grow: 1;}#sk-container-id-2 div.sk-label:hover label.sk-toggleable__label {background-color: #d4ebff;}#sk-container-id-2 div.sk-serial::before {content: \"\";position: absolute;border-left: 1px solid gray;box-sizing: border-box;top: 0;bottom: 0;left: 50%;z-index: 0;}#sk-container-id-2 div.sk-serial {display: flex;flex-direction: column;align-items: center;background-color: white;padding-right: 0.2em;padding-left: 0.2em;position: relative;}#sk-container-id-2 div.sk-item {position: relative;z-index: 1;}#sk-container-id-2 div.sk-parallel {display: flex;align-items: stretch;justify-content: center;background-color: white;position: relative;}#sk-container-id-2 div.sk-item::before, #sk-container-id-2 div.sk-parallel-item::before {content: \"\";position: absolute;border-left: 1px solid gray;box-sizing: border-box;top: 0;bottom: 0;left: 50%;z-index: -1;}#sk-container-id-2 div.sk-parallel-item {display: flex;flex-direction: column;z-index: 1;position: relative;background-color: white;}#sk-container-id-2 div.sk-parallel-item:first-child::after {align-self: flex-end;width: 50%;}#sk-container-id-2 div.sk-parallel-item:last-child::after {align-self: flex-start;width: 50%;}#sk-container-id-2 div.sk-parallel-item:only-child::after {width: 0;}#sk-container-id-2 div.sk-dashed-wrapped {border: 1px dashed gray;margin: 0 0.4em 0.5em 0.4em;box-sizing: border-box;padding-bottom: 0.4em;background-color: white;}#sk-container-id-2 div.sk-label label {font-family: monospace;font-weight: bold;display: inline-block;line-height: 1.2em;}#sk-container-id-2 div.sk-label-container {text-align: center;}#sk-container-id-2 div.sk-container {/* jupyter's `normalize.less` sets `[hidden] { display: none; }` but bootstrap.min.css set `[hidden] { display: none !important; }` so we also need the `!important` here to be able to override the default hidden behavior on the sphinx rendered scikit-learn.org. See: https://github.com/scikit-learn/scikit-learn/issues/21755 */display: inline-block !important;position: relative;}#sk-container-id-2 div.sk-text-repr-fallback {display: none;}</style><div id=\"sk-container-id-2\" class=\"sk-top-container\"><div class=\"sk-text-repr-fallback\"><pre>SVC(C=2, random_state=1)</pre><b>In a Jupyter environment, please rerun this cell to show the HTML representation or trust the notebook. <br />On GitHub, the HTML representation is unable to render, please try loading this page with nbviewer.org.</b></div><div class=\"sk-container\" hidden><div class=\"sk-item\"><div class=\"sk-estimator sk-toggleable\"><input class=\"sk-toggleable__control sk-hidden--visually\" id=\"sk-estimator-id-2\" type=\"checkbox\" checked><label for=\"sk-estimator-id-2\" class=\"sk-toggleable__label sk-toggleable__label-arrow\">SVC</label><div class=\"sk-toggleable__content\"><pre>SVC(C=2, random_state=1)</pre></div></div></div></div></div>"
      ],
      "text/plain": [
       "SVC(C=2, random_state=1)"
      ]
     },
     "execution_count": 94,
     "metadata": {},
     "output_type": "execute_result"
    }
   ],
   "source": [
    "svm = SVC(kernel='rbf', random_state=1, C = 2)\n",
    "svm.fit(x_treino, y_treino)"
   ]
  },
  {
   "cell_type": "code",
   "execution_count": 95,
   "metadata": {
    "id": "VjKeaHKrbicN"
   },
   "outputs": [
    {
     "data": {
      "text/plain": [
       "array([1, 1, 1, 0, 0, 0, 1, 0, 0, 0, 1, 1, 1, 1, 0, 1, 1, 1, 1, 0, 1, 1,\n",
       "       1, 0, 0, 0, 1, 1, 1, 1, 1, 0, 0, 0, 1, 0, 0, 0, 1, 0, 0, 1, 1, 1,\n",
       "       1, 0, 0, 1, 0, 1, 1, 0, 0, 0, 1, 0, 0, 0, 0, 0, 1, 1, 1, 0, 1, 1,\n",
       "       1, 0, 1, 0, 1, 1, 0, 1, 1, 1, 1, 1, 1, 1, 1, 1, 0, 0, 1, 1, 1, 1,\n",
       "       1, 0, 1, 0, 0, 0, 1, 0, 1, 0, 0, 0, 0, 1, 1, 1, 0, 1, 0, 0, 0, 1,\n",
       "       1, 1, 1, 1, 0, 1, 1, 1, 1, 1, 1, 1, 1, 0, 1, 1, 0, 1, 0, 1, 0, 1,\n",
       "       1, 1, 0, 1, 0, 1, 1, 0, 1, 1, 0, 1, 0, 0, 1, 1, 1, 0, 1, 1, 0, 0,\n",
       "       1, 0, 1, 1, 1, 0, 1, 1, 1, 0, 1, 0, 1, 0, 1, 0, 1, 1, 0, 0, 1, 1,\n",
       "       1, 0, 0, 1, 1, 1, 0, 1, 1, 1, 0, 1, 1, 0, 1, 0, 1, 1, 1, 0, 0, 0,\n",
       "       1, 0, 1, 1, 0, 1, 1, 0, 0, 0, 1, 1, 1, 1, 0, 1, 0, 0, 1, 0, 1, 1,\n",
       "       1, 0, 0, 1, 1, 1, 0, 1, 0, 1, 0, 1, 1, 1, 0, 1, 1, 1, 0, 1, 1, 0,\n",
       "       1, 0, 0, 0, 0, 0, 1, 0, 1, 0, 1, 0, 0, 0, 1, 0, 0, 1, 0, 1, 1, 0,\n",
       "       1, 1, 0, 0, 1, 0, 0, 1, 1, 1, 1, 1])"
      ]
     },
     "execution_count": 95,
     "metadata": {},
     "output_type": "execute_result"
    }
   ],
   "source": [
    "previsoes_svm = svm.predict(x_teste)\n",
    "previsoes_svm"
   ]
  },
  {
   "cell_type": "code",
   "execution_count": 96,
   "metadata": {
    "id": "ulL7w207qcwQ"
   },
   "outputs": [
    {
     "data": {
      "text/plain": [
       "array([1, 0, 1, 0, 0, 0, 0, 0, 0, 0, 1, 0, 1, 1, 0, 1, 1, 1, 1, 0, 1, 1,\n",
       "       1, 0, 0, 0, 1, 1, 0, 0, 1, 0, 0, 0, 1, 0, 1, 0, 1, 0, 0, 1, 1, 1,\n",
       "       1, 0, 0, 1, 1, 1, 1, 0, 0, 1, 1, 0, 0, 0, 1, 0, 1, 1, 1, 0, 1, 1,\n",
       "       1, 0, 1, 0, 1, 1, 1, 1, 1, 1, 1, 1, 1, 0, 0, 1, 0, 0, 1, 1, 0, 1,\n",
       "       1, 0, 1, 0, 0, 1, 1, 0, 1, 0, 0, 0, 0, 1, 1, 1, 0, 1, 0, 0, 0, 1,\n",
       "       0, 1, 1, 1, 0, 1, 1, 1, 1, 1, 1, 1, 1, 0, 0, 1, 0, 1, 0, 1, 0, 1,\n",
       "       0, 1, 0, 0, 0, 1, 1, 0, 1, 1, 0, 1, 0, 0, 1, 1, 1, 0, 1, 1, 0, 0,\n",
       "       0, 0, 1, 1, 1, 0, 1, 1, 1, 0, 1, 0, 1, 0, 1, 0, 1, 1, 0, 0, 1, 0,\n",
       "       0, 1, 0, 1, 1, 1, 0, 1, 1, 1, 0, 1, 1, 0, 0, 0, 1, 1, 1, 1, 1, 0,\n",
       "       1, 0, 1, 1, 0, 1, 1, 0, 0, 0, 1, 0, 1, 1, 0, 1, 0, 1, 1, 1, 1, 1,\n",
       "       1, 1, 0, 0, 0, 1, 0, 1, 1, 1, 0, 1, 0, 1, 1, 1, 1, 1, 0, 1, 1, 0,\n",
       "       1, 0, 1, 0, 0, 0, 1, 0, 1, 0, 1, 1, 0, 0, 1, 0, 0, 1, 0, 1, 1, 0,\n",
       "       0, 0, 0, 0, 1, 0, 0, 1, 1, 1, 1, 1])"
      ]
     },
     "execution_count": 96,
     "metadata": {},
     "output_type": "execute_result"
    }
   ],
   "source": [
    "y_teste"
   ]
  },
  {
   "cell_type": "code",
   "execution_count": 97,
   "metadata": {
    "id": "iWdYWQQBvnVQ"
   },
   "outputs": [],
   "source": [
    "from sklearn.metrics import accuracy_score, confusion_matrix, classification_report"
   ]
  },
  {
   "cell_type": "code",
   "execution_count": 98,
   "metadata": {
    "id": "kRZ4VwD-qjW4"
   },
   "outputs": [
    {
     "name": "stdout",
     "output_type": "stream",
     "text": [
      "Acurácia: 86.23%\n"
     ]
    }
   ],
   "source": [
    "print(\"Acurácia: %.2f%%\" % (accuracy_score(y_teste, previsoes_svm) * 100.0))"
   ]
  },
  {
   "cell_type": "code",
   "execution_count": 99,
   "metadata": {
    "id": "VYeZMXUtqjW5"
   },
   "outputs": [
    {
     "data": {
      "text/plain": [
       "array([[ 99,  22],\n",
       "       [ 16, 139]])"
      ]
     },
     "execution_count": 99,
     "metadata": {},
     "output_type": "execute_result"
    }
   ],
   "source": [
    "confusion_matrix(y_teste, previsoes_svm)"
   ]
  },
  {
   "cell_type": "code",
   "execution_count": 100,
   "metadata": {
    "id": "YPKWlAGAqjW6"
   },
   "outputs": [
    {
     "name": "stdout",
     "output_type": "stream",
     "text": [
      "              precision    recall  f1-score   support\n",
      "\n",
      "           0       0.86      0.82      0.84       121\n",
      "           1       0.86      0.90      0.88       155\n",
      "\n",
      "    accuracy                           0.86       276\n",
      "   macro avg       0.86      0.86      0.86       276\n",
      "weighted avg       0.86      0.86      0.86       276\n",
      "\n"
     ]
    }
   ],
   "source": [
    "print(classification_report(y_teste, previsoes_svm))"
   ]
  },
  {
   "cell_type": "markdown",
   "metadata": {
    "id": "GeeUpamU1u6d"
   },
   "source": [
    "**Análise dados de treino**"
   ]
  },
  {
   "cell_type": "code",
   "execution_count": 101,
   "metadata": {
    "id": "VVGJEYpC1u6d"
   },
   "outputs": [
    {
     "data": {
      "text/plain": [
       "array([1, 0, 1, 1, 1, 1, 0, 0, 0, 0, 1, 0, 1, 0, 1, 0, 0, 0, 0, 1, 0, 1,\n",
       "       1, 1, 1, 0, 0, 1, 1, 1, 1, 0, 1, 1, 0, 0, 1, 1, 0, 1, 0, 1, 0, 0,\n",
       "       1, 1, 0, 1, 1, 1, 0, 0, 1, 0, 1, 1, 1, 0, 1, 0, 0, 0, 1, 0, 1, 1,\n",
       "       0, 0, 1, 0, 1, 1, 1, 1, 0, 0, 1, 1, 1, 1, 1, 1, 1, 1, 0, 1, 1, 1,\n",
       "       1, 1, 0, 1, 0, 0, 1, 1, 1, 1, 1, 1, 1, 1, 0, 0, 1, 1, 1, 0, 1, 1,\n",
       "       0, 0, 1, 0, 1, 0, 1, 0, 1, 0, 0, 0, 0, 1, 0, 1, 0, 0, 1, 1, 1, 0,\n",
       "       1, 1, 0, 0, 1, 0, 1, 0, 0, 1, 1, 1, 1, 1, 0, 0, 0, 1, 1, 0, 1, 0,\n",
       "       1, 0, 1, 1, 1, 0, 1, 0, 0, 0, 1, 1, 1, 0, 0, 0, 0, 1, 1, 0, 1, 0,\n",
       "       0, 1, 1, 0, 0, 0, 0, 0, 0, 1, 1, 1, 1, 1, 0, 0, 1, 0, 0, 1, 1, 1,\n",
       "       1, 1, 0, 0, 0, 1, 1, 0, 1, 1, 0, 0, 1, 0, 1, 1, 1, 1, 1, 0, 0, 1,\n",
       "       1, 0, 0, 1, 1, 1, 1, 1, 1, 1, 1, 1, 0, 1, 1, 0, 1, 0, 1, 0, 1, 0,\n",
       "       1, 1, 1, 1, 1, 1, 1, 1, 1, 1, 0, 0, 0, 0, 0, 0, 0, 0, 1, 0, 1, 0,\n",
       "       1, 0, 1, 1, 1, 1, 1, 1, 0, 0, 0, 1, 1, 0, 0, 0, 1, 0, 0, 0, 1, 1,\n",
       "       1, 1, 1, 1, 1, 0, 1, 1, 0, 1, 0, 0, 0, 1, 1, 0, 0, 1, 0, 0, 1, 1,\n",
       "       1, 0, 1, 0, 1, 0, 1, 0, 1, 1, 1, 0, 1, 1, 1, 1, 0, 1, 1, 1, 1, 0,\n",
       "       0, 0, 1, 0, 0, 0, 1, 1, 0, 1, 1, 1, 1, 1, 1, 0, 1, 1, 0, 1, 0, 1,\n",
       "       0, 0, 0, 1, 0, 1, 1, 1, 0, 1, 0, 1, 1, 0, 0, 0, 0, 0, 1, 1, 1, 1,\n",
       "       0, 1, 1, 1, 1, 1, 1, 1, 0, 1, 0, 1, 0, 0, 1, 1, 0, 1, 1, 1, 1, 1,\n",
       "       0, 0, 0, 1, 1, 1, 1, 0, 1, 0, 1, 1, 1, 0, 0, 0, 0, 1, 1, 1, 0, 0,\n",
       "       0, 1, 1, 0, 0, 1, 1, 1, 0, 1, 0, 0, 0, 1, 1, 1, 1, 1, 1, 0, 1, 1,\n",
       "       0, 0, 1, 1, 0, 1, 0, 1, 0, 0, 1, 0, 1, 1, 1, 1, 0, 0, 0, 1, 0, 1,\n",
       "       1, 1, 1, 1, 1, 0, 1, 0, 1, 1, 1, 1, 1, 1, 1, 0, 0, 0, 1, 0, 0, 0,\n",
       "       0, 0, 1, 0, 1, 1, 0, 0, 0, 1, 1, 0, 0, 1, 1, 0, 1, 1, 0, 0, 1, 1,\n",
       "       1, 1, 0, 0, 1, 1, 1, 1, 0, 1, 0, 0, 1, 0, 1, 1, 1, 1, 0, 1, 1, 0,\n",
       "       1, 0, 1, 0, 1, 0, 1, 0, 1, 0, 1, 1, 0, 1, 1, 1, 1, 0, 0, 1, 1, 0,\n",
       "       0, 1, 1, 0, 1, 0, 1, 1, 1, 0, 1, 1, 0, 1, 0, 1, 1, 0, 1, 1, 0, 1,\n",
       "       1, 1, 0, 1, 1, 0, 0, 0, 0, 1, 0, 1, 1, 1, 1, 0, 1, 0, 0, 0, 0, 0,\n",
       "       0, 0, 1, 0, 0, 0, 0, 0, 0, 0, 1, 0, 1, 1, 1, 1, 1, 1, 1, 1, 0, 1,\n",
       "       1, 1, 0, 1, 1, 0, 1, 1, 1, 1, 1, 1, 0, 1, 1, 0, 0, 1, 1, 0, 1, 0,\n",
       "       0, 0, 1])"
      ]
     },
     "execution_count": 101,
     "metadata": {},
     "output_type": "execute_result"
    }
   ],
   "source": [
    "previsoes_treino = svm.predict(x_treino)\n",
    "previsoes_treino"
   ]
  },
  {
   "cell_type": "code",
   "execution_count": 102,
   "metadata": {
    "id": "Xo-iYrMn1u6d"
   },
   "outputs": [
    {
     "data": {
      "text/plain": [
       "0.9282371294851794"
      ]
     },
     "execution_count": 102,
     "metadata": {},
     "output_type": "execute_result"
    }
   ],
   "source": [
    "accuracy_score(y_treino, previsoes_treino)"
   ]
  },
  {
   "cell_type": "code",
   "execution_count": 103,
   "metadata": {
    "id": "Z42CYXuC1u6e"
   },
   "outputs": [
    {
     "data": {
      "text/plain": [
       "array([[257,  32],\n",
       "       [ 14, 338]])"
      ]
     },
     "execution_count": 103,
     "metadata": {},
     "output_type": "execute_result"
    }
   ],
   "source": [
    "confusion_matrix(y_treino, previsoes_treino)"
   ]
  },
  {
   "cell_type": "markdown",
   "metadata": {
    "id": "xXM2zqKVH1Vi"
   },
   "source": [
    "### **Validação Cruzada**"
   ]
  },
  {
   "cell_type": "code",
   "execution_count": 104,
   "metadata": {
    "id": "tukeEaG8H1Vj"
   },
   "outputs": [],
   "source": [
    "from sklearn.model_selection import KFold\n",
    "from sklearn.model_selection import cross_val_score"
   ]
  },
  {
   "cell_type": "code",
   "execution_count": 105,
   "metadata": {
    "id": "4tYyKK_RH1Vj"
   },
   "outputs": [],
   "source": [
    "# Separando os dados em folds\n",
    "kfold = KFold(n_splits = 30, shuffle=True, random_state = 5)"
   ]
  },
  {
   "cell_type": "code",
   "execution_count": 106,
   "metadata": {
    "id": "mhD3BcOWH1Vk"
   },
   "outputs": [
    {
     "name": "stdout",
     "output_type": "stream",
     "text": [
      "Acurácia Média: 85.72%\n"
     ]
    }
   ],
   "source": [
    "# Criando o modelo\n",
    "modelo = SVC(kernel='rbf', random_state=1, C = 2)\n",
    "resultado = cross_val_score(modelo, previsores3_esc, alvo, cv = kfold)\n",
    "\n",
    "# Usamos a média e o desvio padrão\n",
    "print(\"Acurácia Média: %.2f%%\" % (resultado.mean() * 100.0))"
   ]
  },
  {
   "cell_type": "markdown",
   "metadata": {
    "id": "fT_1y1Hoqycp"
   },
   "source": [
    "Naive Bayes = 84,78% (treino e teste) - 234 acertos e 85,17% (validação cruzada) : previsores3_esc\n",
    "\n",
    "SVM = 86,23% - 238 acertos e 85,72% (validação cruzada) : previsores3-esc - SVC(kernel='rbf', random_state=1, C = 2)\n",
    "\n"
   ]
  },
  {
   "cell_type": "markdown",
   "metadata": {
    "id": "jebC8M2jqyc9",
    "jp-MarkdownHeadingCollapsed": true
   },
   "source": [
    "# **REGRESSÃO LOGÍSTICA**"
   ]
  },
  {
   "cell_type": "markdown",
   "metadata": {
    "id": "mprvbtyNbzP3"
   },
   "source": [
    "https://scikit-learn.org/stable/modules/generated/sklearn.linear_model.LogisticRegression.html"
   ]
  },
  {
   "cell_type": "code",
   "execution_count": 107,
   "metadata": {
    "id": "NVGe2Q7ur-Nv"
   },
   "outputs": [],
   "source": [
    "from sklearn.linear_model import LogisticRegression"
   ]
  },
  {
   "cell_type": "code",
   "execution_count": 108,
   "metadata": {
    "colab": {
     "base_uri": "https://localhost:8080/"
    },
    "executionInfo": {
     "elapsed": 628,
     "status": "ok",
     "timestamp": 1662236062154,
     "user": {
      "displayName": "Luciano Galdino",
      "userId": "10237697037323960148"
     },
     "user_tz": 180
    },
    "id": "f_RnL43VV9Yc",
    "outputId": "fa9c3dd0-287f-4215-e243-4edd631f26be"
   },
   "outputs": [
    {
     "data": {
      "text/html": [
       "<style>#sk-container-id-3 {color: black;background-color: white;}#sk-container-id-3 pre{padding: 0;}#sk-container-id-3 div.sk-toggleable {background-color: white;}#sk-container-id-3 label.sk-toggleable__label {cursor: pointer;display: block;width: 100%;margin-bottom: 0;padding: 0.3em;box-sizing: border-box;text-align: center;}#sk-container-id-3 label.sk-toggleable__label-arrow:before {content: \"▸\";float: left;margin-right: 0.25em;color: #696969;}#sk-container-id-3 label.sk-toggleable__label-arrow:hover:before {color: black;}#sk-container-id-3 div.sk-estimator:hover label.sk-toggleable__label-arrow:before {color: black;}#sk-container-id-3 div.sk-toggleable__content {max-height: 0;max-width: 0;overflow: hidden;text-align: left;background-color: #f0f8ff;}#sk-container-id-3 div.sk-toggleable__content pre {margin: 0.2em;color: black;border-radius: 0.25em;background-color: #f0f8ff;}#sk-container-id-3 input.sk-toggleable__control:checked~div.sk-toggleable__content {max-height: 200px;max-width: 100%;overflow: auto;}#sk-container-id-3 input.sk-toggleable__control:checked~label.sk-toggleable__label-arrow:before {content: \"▾\";}#sk-container-id-3 div.sk-estimator input.sk-toggleable__control:checked~label.sk-toggleable__label {background-color: #d4ebff;}#sk-container-id-3 div.sk-label input.sk-toggleable__control:checked~label.sk-toggleable__label {background-color: #d4ebff;}#sk-container-id-3 input.sk-hidden--visually {border: 0;clip: rect(1px 1px 1px 1px);clip: rect(1px, 1px, 1px, 1px);height: 1px;margin: -1px;overflow: hidden;padding: 0;position: absolute;width: 1px;}#sk-container-id-3 div.sk-estimator {font-family: monospace;background-color: #f0f8ff;border: 1px dotted black;border-radius: 0.25em;box-sizing: border-box;margin-bottom: 0.5em;}#sk-container-id-3 div.sk-estimator:hover {background-color: #d4ebff;}#sk-container-id-3 div.sk-parallel-item::after {content: \"\";width: 100%;border-bottom: 1px solid gray;flex-grow: 1;}#sk-container-id-3 div.sk-label:hover label.sk-toggleable__label {background-color: #d4ebff;}#sk-container-id-3 div.sk-serial::before {content: \"\";position: absolute;border-left: 1px solid gray;box-sizing: border-box;top: 0;bottom: 0;left: 50%;z-index: 0;}#sk-container-id-3 div.sk-serial {display: flex;flex-direction: column;align-items: center;background-color: white;padding-right: 0.2em;padding-left: 0.2em;position: relative;}#sk-container-id-3 div.sk-item {position: relative;z-index: 1;}#sk-container-id-3 div.sk-parallel {display: flex;align-items: stretch;justify-content: center;background-color: white;position: relative;}#sk-container-id-3 div.sk-item::before, #sk-container-id-3 div.sk-parallel-item::before {content: \"\";position: absolute;border-left: 1px solid gray;box-sizing: border-box;top: 0;bottom: 0;left: 50%;z-index: -1;}#sk-container-id-3 div.sk-parallel-item {display: flex;flex-direction: column;z-index: 1;position: relative;background-color: white;}#sk-container-id-3 div.sk-parallel-item:first-child::after {align-self: flex-end;width: 50%;}#sk-container-id-3 div.sk-parallel-item:last-child::after {align-self: flex-start;width: 50%;}#sk-container-id-3 div.sk-parallel-item:only-child::after {width: 0;}#sk-container-id-3 div.sk-dashed-wrapped {border: 1px dashed gray;margin: 0 0.4em 0.5em 0.4em;box-sizing: border-box;padding-bottom: 0.4em;background-color: white;}#sk-container-id-3 div.sk-label label {font-family: monospace;font-weight: bold;display: inline-block;line-height: 1.2em;}#sk-container-id-3 div.sk-label-container {text-align: center;}#sk-container-id-3 div.sk-container {/* jupyter's `normalize.less` sets `[hidden] { display: none; }` but bootstrap.min.css set `[hidden] { display: none !important; }` so we also need the `!important` here to be able to override the default hidden behavior on the sphinx rendered scikit-learn.org. See: https://github.com/scikit-learn/scikit-learn/issues/21755 */display: inline-block !important;position: relative;}#sk-container-id-3 div.sk-text-repr-fallback {display: none;}</style><div id=\"sk-container-id-3\" class=\"sk-top-container\"><div class=\"sk-text-repr-fallback\"><pre>LogisticRegression(C=1, max_iter=500, random_state=1)</pre><b>In a Jupyter environment, please rerun this cell to show the HTML representation or trust the notebook. <br />On GitHub, the HTML representation is unable to render, please try loading this page with nbviewer.org.</b></div><div class=\"sk-container\" hidden><div class=\"sk-item\"><div class=\"sk-estimator sk-toggleable\"><input class=\"sk-toggleable__control sk-hidden--visually\" id=\"sk-estimator-id-3\" type=\"checkbox\" checked><label for=\"sk-estimator-id-3\" class=\"sk-toggleable__label sk-toggleable__label-arrow\">LogisticRegression</label><div class=\"sk-toggleable__content\"><pre>LogisticRegression(C=1, max_iter=500, random_state=1)</pre></div></div></div></div></div>"
      ],
      "text/plain": [
       "LogisticRegression(C=1, max_iter=500, random_state=1)"
      ]
     },
     "execution_count": 108,
     "metadata": {},
     "output_type": "execute_result"
    }
   ],
   "source": [
    "logistica = LogisticRegression(random_state=1, max_iter=500, penalty=\"l2\",\n",
    "                               tol=0.0001, C=1,solver=\"lbfgs\")\n",
    "logistica.fit(x_treino, y_treino)"
   ]
  },
  {
   "cell_type": "code",
   "execution_count": 109,
   "metadata": {
    "colab": {
     "base_uri": "https://localhost:8080/"
    },
    "executionInfo": {
     "elapsed": 282,
     "status": "ok",
     "timestamp": 1662236065181,
     "user": {
      "displayName": "Luciano Galdino",
      "userId": "10237697037323960148"
     },
     "user_tz": 180
    },
    "id": "I7EqQihmWIQG",
    "outputId": "0c1c9d48-f56f-4f9a-e99e-3c3dcf2e6601"
   },
   "outputs": [
    {
     "data": {
      "text/plain": [
       "array([0.27651292])"
      ]
     },
     "execution_count": 109,
     "metadata": {},
     "output_type": "execute_result"
    }
   ],
   "source": [
    "logistica.intercept_"
   ]
  },
  {
   "cell_type": "code",
   "execution_count": 110,
   "metadata": {
    "colab": {
     "base_uri": "https://localhost:8080/"
    },
    "executionInfo": {
     "elapsed": 309,
     "status": "ok",
     "timestamp": 1662236068979,
     "user": {
      "displayName": "Luciano Galdino",
      "userId": "10237697037323960148"
     },
     "user_tz": 180
    },
    "id": "6BS-aVjsWK_0",
    "outputId": "f042aa40-fffb-4bca-9062-68bb65885075"
   },
   "outputs": [
    {
     "data": {
      "text/plain": [
       "array([[-0.31429216,  0.31429216,  0.51145815, -0.41291678, -0.17911607,\n",
       "        -0.08746201,  0.05928251, -0.00197428, -0.05806686, -0.21969455,\n",
       "         0.21969455, -0.01971658,  0.60969113, -0.6055519 ,  0.1808035 ,\n",
       "        -0.00090394,  0.18908439,  0.43510469, -0.22824874,  0.29941155]])"
      ]
     },
     "execution_count": 110,
     "metadata": {},
     "output_type": "execute_result"
    }
   ],
   "source": [
    "logistica.coef_"
   ]
  },
  {
   "cell_type": "code",
   "execution_count": 111,
   "metadata": {
    "colab": {
     "base_uri": "https://localhost:8080/"
    },
    "executionInfo": {
     "elapsed": 307,
     "status": "ok",
     "timestamp": 1662236071968,
     "user": {
      "displayName": "Luciano Galdino",
      "userId": "10237697037323960148"
     },
     "user_tz": 180
    },
    "id": "zKlba1wBWX1O",
    "outputId": "49cf910a-1502-48ed-9eed-8a9c6351ff73"
   },
   "outputs": [
    {
     "data": {
      "text/plain": [
       "array([1, 1, 1, 0, 0, 0, 0, 0, 0, 0, 1, 1, 1, 1, 0, 1, 1, 1, 1, 0, 1, 1,\n",
       "       1, 0, 0, 0, 1, 1, 1, 1, 1, 0, 0, 0, 1, 0, 0, 0, 1, 0, 0, 1, 1, 1,\n",
       "       1, 0, 0, 1, 0, 1, 1, 0, 0, 1, 1, 0, 0, 0, 0, 0, 1, 1, 1, 0, 1, 1,\n",
       "       1, 0, 1, 0, 1, 1, 0, 1, 1, 1, 1, 1, 1, 1, 1, 1, 0, 0, 1, 1, 1, 1,\n",
       "       1, 0, 1, 0, 0, 0, 1, 0, 1, 0, 0, 0, 0, 1, 1, 1, 0, 1, 0, 0, 0, 1,\n",
       "       1, 1, 1, 1, 0, 1, 0, 1, 1, 1, 1, 1, 1, 0, 1, 1, 0, 1, 0, 1, 0, 1,\n",
       "       1, 1, 0, 1, 1, 1, 1, 0, 0, 1, 0, 1, 0, 0, 1, 1, 0, 0, 0, 1, 1, 0,\n",
       "       1, 0, 1, 1, 1, 0, 1, 1, 1, 0, 1, 0, 1, 0, 1, 0, 1, 1, 0, 0, 1, 1,\n",
       "       1, 0, 0, 1, 1, 1, 0, 1, 1, 1, 0, 1, 1, 0, 0, 0, 1, 1, 1, 1, 0, 0,\n",
       "       1, 0, 1, 1, 0, 1, 1, 0, 0, 0, 1, 0, 1, 1, 0, 1, 0, 0, 1, 0, 1, 1,\n",
       "       1, 0, 0, 1, 1, 1, 0, 1, 0, 1, 0, 1, 1, 1, 0, 1, 1, 1, 0, 1, 1, 0,\n",
       "       1, 0, 0, 0, 0, 0, 1, 0, 1, 0, 1, 0, 0, 0, 1, 0, 0, 1, 0, 0, 1, 0,\n",
       "       0, 0, 0, 0, 1, 0, 0, 1, 1, 1, 1, 1])"
      ]
     },
     "execution_count": 111,
     "metadata": {},
     "output_type": "execute_result"
    }
   ],
   "source": [
    "previsoes_logistica = logistica.predict(x_teste)\n",
    "previsoes_logistica"
   ]
  },
  {
   "cell_type": "code",
   "execution_count": 112,
   "metadata": {
    "id": "PbF05awQvhzK"
   },
   "outputs": [],
   "source": [
    "from sklearn.metrics import accuracy_score, confusion_matrix, classification_report"
   ]
  },
  {
   "cell_type": "code",
   "execution_count": 113,
   "metadata": {
    "colab": {
     "base_uri": "https://localhost:8080/"
    },
    "executionInfo": {
     "elapsed": 232,
     "status": "ok",
     "timestamp": 1656717163654,
     "user": {
      "displayName": "Luciano Galdino",
      "userId": "10237697037323960148"
     },
     "user_tz": 180
    },
    "id": "72UCRQBdt2Iy",
    "outputId": "e955d976-1e4a-435d-ba53-44326b5f3bb9"
   },
   "outputs": [
    {
     "name": "stdout",
     "output_type": "stream",
     "text": [
      "Acurácia: 86.23%\n"
     ]
    }
   ],
   "source": [
    "print(\"Acurácia: %.2f%%\" % (accuracy_score(y_teste, previsoes_logistica) * 100.0))"
   ]
  },
  {
   "cell_type": "code",
   "execution_count": 114,
   "metadata": {
    "colab": {
     "base_uri": "https://localhost:8080/"
    },
    "executionInfo": {
     "elapsed": 241,
     "status": "ok",
     "timestamp": 1656717166777,
     "user": {
      "displayName": "Luciano Galdino",
      "userId": "10237697037323960148"
     },
     "user_tz": 180
    },
    "id": "g2FaBeYDt2Iz",
    "outputId": "26ab729b-750f-438a-abaa-af0989542dd3"
   },
   "outputs": [
    {
     "data": {
      "text/plain": [
       "array([[102,  19],\n",
       "       [ 19, 136]])"
      ]
     },
     "execution_count": 114,
     "metadata": {},
     "output_type": "execute_result"
    }
   ],
   "source": [
    "confusion_matrix(y_teste, previsoes_logistica)"
   ]
  },
  {
   "cell_type": "code",
   "execution_count": 115,
   "metadata": {
    "colab": {
     "base_uri": "https://localhost:8080/"
    },
    "executionInfo": {
     "elapsed": 281,
     "status": "ok",
     "timestamp": 1656717169268,
     "user": {
      "displayName": "Luciano Galdino",
      "userId": "10237697037323960148"
     },
     "user_tz": 180
    },
    "id": "MAgJo5b5t2I0",
    "outputId": "9dc145c3-278a-4809-d694-cb3761225c9b"
   },
   "outputs": [
    {
     "name": "stdout",
     "output_type": "stream",
     "text": [
      "              precision    recall  f1-score   support\n",
      "\n",
      "           0       0.84      0.84      0.84       121\n",
      "           1       0.88      0.88      0.88       155\n",
      "\n",
      "    accuracy                           0.86       276\n",
      "   macro avg       0.86      0.86      0.86       276\n",
      "weighted avg       0.86      0.86      0.86       276\n",
      "\n"
     ]
    }
   ],
   "source": [
    "print(classification_report(y_teste, previsoes_logistica))"
   ]
  },
  {
   "cell_type": "markdown",
   "metadata": {
    "id": "6LpYZvhb17ms"
   },
   "source": [
    "**Análise dados de treino**"
   ]
  },
  {
   "cell_type": "code",
   "execution_count": 116,
   "metadata": {
    "colab": {
     "base_uri": "https://localhost:8080/"
    },
    "executionInfo": {
     "elapsed": 289,
     "status": "ok",
     "timestamp": 1656717184635,
     "user": {
      "displayName": "Luciano Galdino",
      "userId": "10237697037323960148"
     },
     "user_tz": 180
    },
    "id": "9Mup9Cn817mt",
    "outputId": "12e3cba9-9e60-46dd-a0f9-1db06b958b6b"
   },
   "outputs": [
    {
     "data": {
      "text/plain": [
       "array([1, 1, 1, 1, 1, 1, 0, 0, 0, 0, 1, 0, 1, 1, 1, 0, 0, 0, 0, 1, 1, 1,\n",
       "       1, 1, 1, 0, 0, 1, 1, 1, 1, 0, 1, 1, 0, 0, 1, 1, 0, 1, 0, 1, 0, 0,\n",
       "       1, 1, 0, 1, 1, 1, 0, 0, 1, 0, 1, 0, 1, 0, 1, 0, 0, 0, 0, 0, 1, 1,\n",
       "       0, 0, 1, 0, 1, 1, 1, 1, 0, 0, 0, 1, 1, 1, 1, 1, 1, 1, 0, 1, 1, 1,\n",
       "       1, 1, 0, 1, 0, 0, 1, 1, 1, 1, 1, 1, 1, 1, 0, 1, 1, 1, 1, 0, 0, 1,\n",
       "       0, 0, 1, 0, 1, 0, 1, 0, 1, 0, 0, 0, 0, 1, 0, 1, 0, 0, 1, 1, 1, 0,\n",
       "       1, 1, 0, 0, 1, 0, 1, 1, 0, 1, 1, 1, 1, 1, 0, 0, 0, 1, 1, 0, 1, 0,\n",
       "       1, 0, 1, 1, 1, 0, 1, 0, 0, 0, 0, 0, 1, 1, 0, 0, 0, 1, 1, 0, 1, 0,\n",
       "       0, 1, 1, 0, 0, 0, 0, 0, 0, 1, 1, 1, 1, 1, 0, 0, 1, 0, 0, 1, 1, 0,\n",
       "       1, 1, 0, 1, 0, 1, 1, 1, 1, 1, 1, 0, 0, 0, 1, 1, 1, 1, 1, 0, 0, 1,\n",
       "       1, 0, 0, 1, 1, 1, 1, 1, 1, 1, 1, 1, 0, 1, 1, 0, 1, 0, 1, 0, 1, 0,\n",
       "       1, 1, 0, 1, 1, 1, 1, 1, 1, 1, 0, 0, 0, 0, 0, 0, 1, 0, 1, 1, 1, 0,\n",
       "       1, 0, 1, 0, 1, 0, 1, 1, 0, 1, 0, 1, 1, 1, 0, 0, 1, 0, 0, 0, 1, 1,\n",
       "       1, 1, 1, 1, 1, 0, 1, 1, 0, 1, 0, 1, 0, 1, 1, 0, 0, 1, 0, 0, 0, 1,\n",
       "       1, 0, 1, 0, 1, 0, 1, 0, 1, 0, 1, 0, 1, 1, 1, 1, 0, 1, 1, 1, 1, 0,\n",
       "       0, 0, 1, 0, 0, 0, 1, 1, 0, 1, 1, 1, 1, 1, 1, 0, 1, 1, 0, 1, 0, 1,\n",
       "       0, 0, 0, 1, 0, 0, 1, 0, 0, 1, 0, 1, 1, 0, 0, 0, 0, 0, 1, 1, 1, 1,\n",
       "       0, 1, 1, 1, 1, 1, 1, 1, 0, 1, 0, 1, 0, 0, 0, 1, 0, 1, 1, 0, 1, 1,\n",
       "       0, 0, 0, 1, 1, 1, 1, 0, 1, 0, 1, 1, 1, 0, 1, 1, 0, 1, 1, 1, 0, 0,\n",
       "       0, 1, 1, 0, 0, 1, 1, 0, 1, 0, 0, 0, 0, 1, 1, 1, 1, 1, 1, 0, 1, 1,\n",
       "       0, 0, 1, 1, 0, 1, 0, 1, 0, 0, 1, 0, 1, 1, 1, 1, 0, 0, 0, 1, 0, 1,\n",
       "       1, 1, 1, 1, 1, 0, 1, 0, 1, 1, 1, 1, 0, 1, 1, 0, 0, 0, 1, 0, 0, 0,\n",
       "       0, 0, 1, 0, 1, 1, 1, 0, 0, 1, 1, 0, 0, 1, 1, 0, 1, 1, 0, 0, 0, 1,\n",
       "       1, 1, 0, 0, 1, 1, 1, 1, 0, 1, 0, 0, 1, 0, 1, 1, 1, 0, 0, 1, 1, 0,\n",
       "       1, 0, 1, 0, 1, 0, 1, 0, 1, 0, 1, 1, 0, 1, 1, 1, 1, 0, 0, 1, 1, 0,\n",
       "       0, 1, 1, 0, 1, 0, 1, 1, 1, 0, 1, 1, 0, 0, 0, 1, 1, 0, 0, 1, 0, 1,\n",
       "       1, 1, 0, 1, 1, 0, 0, 1, 0, 1, 0, 1, 1, 1, 1, 0, 1, 0, 0, 0, 0, 1,\n",
       "       0, 0, 1, 0, 0, 1, 0, 0, 0, 0, 1, 0, 0, 1, 0, 1, 1, 1, 1, 1, 0, 1,\n",
       "       1, 1, 0, 1, 1, 0, 1, 0, 1, 1, 1, 1, 0, 1, 1, 0, 0, 1, 1, 0, 1, 0,\n",
       "       1, 0, 1])"
      ]
     },
     "execution_count": 116,
     "metadata": {},
     "output_type": "execute_result"
    }
   ],
   "source": [
    "previsoes_treino = logistica.predict(x_treino)\n",
    "previsoes_treino"
   ]
  },
  {
   "cell_type": "code",
   "execution_count": 117,
   "metadata": {
    "colab": {
     "base_uri": "https://localhost:8080/"
    },
    "executionInfo": {
     "elapsed": 6,
     "status": "ok",
     "timestamp": 1656717189834,
     "user": {
      "displayName": "Luciano Galdino",
      "userId": "10237697037323960148"
     },
     "user_tz": 180
    },
    "id": "T4imJ5_w17mt",
    "outputId": "747b9401-f58f-4d55-a62d-23b7c1a0e30d"
   },
   "outputs": [
    {
     "data": {
      "text/plain": [
       "0.858034321372855"
      ]
     },
     "execution_count": 117,
     "metadata": {},
     "output_type": "execute_result"
    }
   ],
   "source": [
    "accuracy_score(y_treino, previsoes_treino)"
   ]
  },
  {
   "cell_type": "code",
   "execution_count": 118,
   "metadata": {
    "colab": {
     "base_uri": "https://localhost:8080/"
    },
    "executionInfo": {
     "elapsed": 249,
     "status": "ok",
     "timestamp": 1656717191756,
     "user": {
      "displayName": "Luciano Galdino",
      "userId": "10237697037323960148"
     },
     "user_tz": 180
    },
    "id": "2Ms9dnHk17mu",
    "outputId": "372457f9-74dd-4ab4-f8aa-3bce4f8a7e33"
   },
   "outputs": [
    {
     "data": {
      "text/plain": [
       "array([[237,  52],\n",
       "       [ 39, 313]])"
      ]
     },
     "execution_count": 118,
     "metadata": {},
     "output_type": "execute_result"
    }
   ],
   "source": [
    "confusion_matrix(y_treino, previsoes_treino)"
   ]
  },
  {
   "cell_type": "markdown",
   "metadata": {
    "id": "rGdamAVpJfJ5"
   },
   "source": [
    "### **Validação Cruzada**"
   ]
  },
  {
   "cell_type": "code",
   "execution_count": 119,
   "metadata": {
    "id": "IcNfFmq9JfJ6"
   },
   "outputs": [],
   "source": [
    "from sklearn.model_selection import KFold\n",
    "from sklearn.model_selection import cross_val_score"
   ]
  },
  {
   "cell_type": "code",
   "execution_count": 120,
   "metadata": {
    "id": "srKfNrUoJfJ6"
   },
   "outputs": [],
   "source": [
    "# Separando os dados em folds\n",
    "kfold = KFold(n_splits = 30, shuffle=True, random_state = 5)"
   ]
  },
  {
   "cell_type": "code",
   "execution_count": 121,
   "metadata": {
    "colab": {
     "base_uri": "https://localhost:8080/"
    },
    "executionInfo": {
     "elapsed": 1730,
     "status": "ok",
     "timestamp": 1656717612565,
     "user": {
      "displayName": "Luciano Galdino",
      "userId": "10237697037323960148"
     },
     "user_tz": 180
    },
    "id": "eHZjsD-RJfJ7",
    "outputId": "0781aa6d-9de4-44ea-b396-cababc31be7a"
   },
   "outputs": [
    {
     "name": "stdout",
     "output_type": "stream",
     "text": [
      "Acurácia Média: 85.83%\n"
     ]
    }
   ],
   "source": [
    "# Criando o modelo\n",
    "modelo = LogisticRegression(random_state=1, max_iter=600, penalty=\"l2\",\n",
    "                               tol=0.0001, C=1,solver=\"lbfgs\")\n",
    "resultado = cross_val_score(modelo, previsores3_esc, alvo, cv = kfold)\n",
    "\n",
    "# Usamos a média e o desvio padrão\n",
    "print(\"Acurácia Média: %.2f%%\" % (resultado.mean() * 100.0))"
   ]
  },
  {
   "cell_type": "markdown",
   "metadata": {
    "id": "KmKIO-uUv31v"
   },
   "source": [
    "Naive Bayes = 84,78% (treino e teste) - 234 acertos e 85,17% (validação cruzada) : previsores3_esc\n",
    "\n",
    "SVM = 86,23% - 238 acertos e 85,72% (validação cruzada) : previsores3-esc - SVC(kernel='rbf', random_state=1, C = 2)\n",
    "\n",
    "Regressão logística = 86,23% - 238 acertos e 85,83% (validação cruzada) : previsores3_esc - LogisticRegression(random_state=1, max_iter=600, penalty=\"l2\", tol=0.0001, C=1,solver=\"lbfgs\")"
   ]
  },
  {
   "cell_type": "markdown",
   "metadata": {
    "id": "GETCbQj7v32B",
    "jp-MarkdownHeadingCollapsed": true
   },
   "source": [
    "# **APRENDIZAGEM BASEADA EM INSTÂNCIAS (KNN)**"
   ]
  },
  {
   "cell_type": "markdown",
   "metadata": {
    "id": "AXOVpUsGbnlK"
   },
   "source": [
    "https://scikit-learn.org/stable/modules/generated/sklearn.neighbors.KNeighborsClassifier.html"
   ]
  },
  {
   "cell_type": "code",
   "execution_count": 122,
   "metadata": {
    "id": "u3_VSVAFwo8H"
   },
   "outputs": [],
   "source": [
    "from sklearn.neighbors import KNeighborsClassifier"
   ]
  },
  {
   "cell_type": "code",
   "execution_count": 123,
   "metadata": {
    "id": "xkC1VdFmXvcz"
   },
   "outputs": [
    {
     "data": {
      "text/html": [
       "<style>#sk-container-id-4 {color: black;background-color: white;}#sk-container-id-4 pre{padding: 0;}#sk-container-id-4 div.sk-toggleable {background-color: white;}#sk-container-id-4 label.sk-toggleable__label {cursor: pointer;display: block;width: 100%;margin-bottom: 0;padding: 0.3em;box-sizing: border-box;text-align: center;}#sk-container-id-4 label.sk-toggleable__label-arrow:before {content: \"▸\";float: left;margin-right: 0.25em;color: #696969;}#sk-container-id-4 label.sk-toggleable__label-arrow:hover:before {color: black;}#sk-container-id-4 div.sk-estimator:hover label.sk-toggleable__label-arrow:before {color: black;}#sk-container-id-4 div.sk-toggleable__content {max-height: 0;max-width: 0;overflow: hidden;text-align: left;background-color: #f0f8ff;}#sk-container-id-4 div.sk-toggleable__content pre {margin: 0.2em;color: black;border-radius: 0.25em;background-color: #f0f8ff;}#sk-container-id-4 input.sk-toggleable__control:checked~div.sk-toggleable__content {max-height: 200px;max-width: 100%;overflow: auto;}#sk-container-id-4 input.sk-toggleable__control:checked~label.sk-toggleable__label-arrow:before {content: \"▾\";}#sk-container-id-4 div.sk-estimator input.sk-toggleable__control:checked~label.sk-toggleable__label {background-color: #d4ebff;}#sk-container-id-4 div.sk-label input.sk-toggleable__control:checked~label.sk-toggleable__label {background-color: #d4ebff;}#sk-container-id-4 input.sk-hidden--visually {border: 0;clip: rect(1px 1px 1px 1px);clip: rect(1px, 1px, 1px, 1px);height: 1px;margin: -1px;overflow: hidden;padding: 0;position: absolute;width: 1px;}#sk-container-id-4 div.sk-estimator {font-family: monospace;background-color: #f0f8ff;border: 1px dotted black;border-radius: 0.25em;box-sizing: border-box;margin-bottom: 0.5em;}#sk-container-id-4 div.sk-estimator:hover {background-color: #d4ebff;}#sk-container-id-4 div.sk-parallel-item::after {content: \"\";width: 100%;border-bottom: 1px solid gray;flex-grow: 1;}#sk-container-id-4 div.sk-label:hover label.sk-toggleable__label {background-color: #d4ebff;}#sk-container-id-4 div.sk-serial::before {content: \"\";position: absolute;border-left: 1px solid gray;box-sizing: border-box;top: 0;bottom: 0;left: 50%;z-index: 0;}#sk-container-id-4 div.sk-serial {display: flex;flex-direction: column;align-items: center;background-color: white;padding-right: 0.2em;padding-left: 0.2em;position: relative;}#sk-container-id-4 div.sk-item {position: relative;z-index: 1;}#sk-container-id-4 div.sk-parallel {display: flex;align-items: stretch;justify-content: center;background-color: white;position: relative;}#sk-container-id-4 div.sk-item::before, #sk-container-id-4 div.sk-parallel-item::before {content: \"\";position: absolute;border-left: 1px solid gray;box-sizing: border-box;top: 0;bottom: 0;left: 50%;z-index: -1;}#sk-container-id-4 div.sk-parallel-item {display: flex;flex-direction: column;z-index: 1;position: relative;background-color: white;}#sk-container-id-4 div.sk-parallel-item:first-child::after {align-self: flex-end;width: 50%;}#sk-container-id-4 div.sk-parallel-item:last-child::after {align-self: flex-start;width: 50%;}#sk-container-id-4 div.sk-parallel-item:only-child::after {width: 0;}#sk-container-id-4 div.sk-dashed-wrapped {border: 1px dashed gray;margin: 0 0.4em 0.5em 0.4em;box-sizing: border-box;padding-bottom: 0.4em;background-color: white;}#sk-container-id-4 div.sk-label label {font-family: monospace;font-weight: bold;display: inline-block;line-height: 1.2em;}#sk-container-id-4 div.sk-label-container {text-align: center;}#sk-container-id-4 div.sk-container {/* jupyter's `normalize.less` sets `[hidden] { display: none; }` but bootstrap.min.css set `[hidden] { display: none !important; }` so we also need the `!important` here to be able to override the default hidden behavior on the sphinx rendered scikit-learn.org. See: https://github.com/scikit-learn/scikit-learn/issues/21755 */display: inline-block !important;position: relative;}#sk-container-id-4 div.sk-text-repr-fallback {display: none;}</style><div id=\"sk-container-id-4\" class=\"sk-top-container\"><div class=\"sk-text-repr-fallback\"><pre>KNeighborsClassifier(n_neighbors=7, p=1)</pre><b>In a Jupyter environment, please rerun this cell to show the HTML representation or trust the notebook. <br />On GitHub, the HTML representation is unable to render, please try loading this page with nbviewer.org.</b></div><div class=\"sk-container\" hidden><div class=\"sk-item\"><div class=\"sk-estimator sk-toggleable\"><input class=\"sk-toggleable__control sk-hidden--visually\" id=\"sk-estimator-id-4\" type=\"checkbox\" checked><label for=\"sk-estimator-id-4\" class=\"sk-toggleable__label sk-toggleable__label-arrow\">KNeighborsClassifier</label><div class=\"sk-toggleable__content\"><pre>KNeighborsClassifier(n_neighbors=7, p=1)</pre></div></div></div></div></div>"
      ],
      "text/plain": [
       "KNeighborsClassifier(n_neighbors=7, p=1)"
      ]
     },
     "execution_count": 123,
     "metadata": {},
     "output_type": "execute_result"
    }
   ],
   "source": [
    "knn = KNeighborsClassifier(n_neighbors=7, metric='minkowski', p=1)\n",
    "knn.fit(x_treino, y_treino)"
   ]
  },
  {
   "cell_type": "markdown",
   "metadata": {
    "id": "CJB-tW-g2P4_"
   },
   "source": [
    "https://scikit-learn.org/stable/modules/generated/sklearn.metrics.DistanceMetric.html"
   ]
  },
  {
   "cell_type": "code",
   "execution_count": 124,
   "metadata": {
    "id": "sSCtq6WKYlFx"
   },
   "outputs": [
    {
     "data": {
      "text/plain": [
       "array([1, 1, 1, 0, 0, 0, 1, 0, 0, 0, 1, 1, 1, 1, 0, 1, 1, 1, 1, 0, 1, 1,\n",
       "       1, 0, 0, 0, 1, 1, 1, 1, 1, 0, 0, 0, 1, 0, 0, 0, 1, 0, 0, 1, 1, 1,\n",
       "       1, 0, 0, 1, 0, 1, 1, 0, 0, 0, 1, 0, 0, 0, 0, 0, 1, 1, 1, 0, 1, 1,\n",
       "       1, 0, 1, 0, 1, 1, 0, 1, 1, 1, 1, 1, 1, 1, 1, 1, 0, 0, 1, 1, 1, 1,\n",
       "       1, 0, 1, 0, 0, 0, 1, 0, 1, 0, 0, 0, 0, 1, 1, 1, 0, 1, 0, 0, 0, 0,\n",
       "       1, 1, 1, 1, 0, 1, 1, 1, 1, 1, 1, 1, 1, 0, 1, 1, 0, 1, 0, 1, 0, 1,\n",
       "       1, 1, 0, 1, 0, 1, 1, 0, 1, 1, 0, 1, 1, 0, 1, 0, 1, 0, 1, 1, 0, 0,\n",
       "       1, 0, 1, 1, 1, 0, 1, 1, 1, 0, 1, 0, 1, 0, 1, 0, 1, 1, 0, 0, 1, 1,\n",
       "       1, 0, 0, 1, 1, 1, 0, 1, 1, 1, 0, 1, 1, 0, 1, 0, 1, 0, 1, 0, 0, 0,\n",
       "       1, 0, 1, 1, 0, 1, 1, 0, 0, 0, 1, 1, 1, 1, 0, 0, 0, 0, 1, 0, 1, 1,\n",
       "       1, 0, 0, 1, 1, 1, 0, 1, 0, 1, 0, 1, 1, 1, 0, 1, 1, 1, 0, 1, 1, 0,\n",
       "       1, 0, 0, 0, 0, 0, 1, 0, 1, 0, 1, 0, 0, 0, 1, 0, 0, 1, 0, 0, 1, 0,\n",
       "       1, 1, 0, 0, 1, 0, 0, 1, 1, 1, 1, 1])"
      ]
     },
     "execution_count": 124,
     "metadata": {},
     "output_type": "execute_result"
    }
   ],
   "source": [
    "previsoes_knn = knn.predict(x_teste)\n",
    "previsoes_knn"
   ]
  },
  {
   "cell_type": "code",
   "execution_count": 125,
   "metadata": {
    "id": "oG0I-trLxQ50"
   },
   "outputs": [
    {
     "data": {
      "text/plain": [
       "array([1, 0, 1, 0, 0, 0, 0, 0, 0, 0, 1, 0, 1, 1, 0, 1, 1, 1, 1, 0, 1, 1,\n",
       "       1, 0, 0, 0, 1, 1, 0, 0, 1, 0, 0, 0, 1, 0, 1, 0, 1, 0, 0, 1, 1, 1,\n",
       "       1, 0, 0, 1, 1, 1, 1, 0, 0, 1, 1, 0, 0, 0, 1, 0, 1, 1, 1, 0, 1, 1,\n",
       "       1, 0, 1, 0, 1, 1, 1, 1, 1, 1, 1, 1, 1, 0, 0, 1, 0, 0, 1, 1, 0, 1,\n",
       "       1, 0, 1, 0, 0, 1, 1, 0, 1, 0, 0, 0, 0, 1, 1, 1, 0, 1, 0, 0, 0, 1,\n",
       "       0, 1, 1, 1, 0, 1, 1, 1, 1, 1, 1, 1, 1, 0, 0, 1, 0, 1, 0, 1, 0, 1,\n",
       "       0, 1, 0, 0, 0, 1, 1, 0, 1, 1, 0, 1, 0, 0, 1, 1, 1, 0, 1, 1, 0, 0,\n",
       "       0, 0, 1, 1, 1, 0, 1, 1, 1, 0, 1, 0, 1, 0, 1, 0, 1, 1, 0, 0, 1, 0,\n",
       "       0, 1, 0, 1, 1, 1, 0, 1, 1, 1, 0, 1, 1, 0, 0, 0, 1, 1, 1, 1, 1, 0,\n",
       "       1, 0, 1, 1, 0, 1, 1, 0, 0, 0, 1, 0, 1, 1, 0, 1, 0, 1, 1, 1, 1, 1,\n",
       "       1, 1, 0, 0, 0, 1, 0, 1, 1, 1, 0, 1, 0, 1, 1, 1, 1, 1, 0, 1, 1, 0,\n",
       "       1, 0, 1, 0, 0, 0, 1, 0, 1, 0, 1, 1, 0, 0, 1, 0, 0, 1, 0, 1, 1, 0,\n",
       "       0, 0, 0, 0, 1, 0, 0, 1, 1, 1, 1, 1])"
      ]
     },
     "execution_count": 125,
     "metadata": {},
     "output_type": "execute_result"
    }
   ],
   "source": [
    "y_teste"
   ]
  },
  {
   "cell_type": "code",
   "execution_count": 126,
   "metadata": {
    "id": "aQYth6LjxOSG"
   },
   "outputs": [],
   "source": [
    "from sklearn.metrics import accuracy_score, confusion_matrix, classification_report"
   ]
  },
  {
   "cell_type": "code",
   "execution_count": 127,
   "metadata": {
    "id": "OWDZlThoxOSI"
   },
   "outputs": [
    {
     "name": "stdout",
     "output_type": "stream",
     "text": [
      "Acurácia: 84.06%\n"
     ]
    }
   ],
   "source": [
    "print(\"Acurácia: %.2f%%\" % (accuracy_score(y_teste, previsoes_knn) * 100.0))"
   ]
  },
  {
   "cell_type": "code",
   "execution_count": 128,
   "metadata": {
    "id": "-IGoTCdmxOSJ"
   },
   "outputs": [
    {
     "data": {
      "text/plain": [
       "array([[ 98,  23],\n",
       "       [ 21, 134]])"
      ]
     },
     "execution_count": 128,
     "metadata": {},
     "output_type": "execute_result"
    }
   ],
   "source": [
    "confusion_matrix(y_teste, previsoes_knn)"
   ]
  },
  {
   "cell_type": "code",
   "execution_count": 129,
   "metadata": {
    "id": "5V-bhRMvxOSJ"
   },
   "outputs": [
    {
     "name": "stdout",
     "output_type": "stream",
     "text": [
      "              precision    recall  f1-score   support\n",
      "\n",
      "           0       0.82      0.81      0.82       121\n",
      "           1       0.85      0.86      0.86       155\n",
      "\n",
      "    accuracy                           0.84       276\n",
      "   macro avg       0.84      0.84      0.84       276\n",
      "weighted avg       0.84      0.84      0.84       276\n",
      "\n"
     ]
    }
   ],
   "source": [
    "print(classification_report(y_teste, previsoes_knn))"
   ]
  },
  {
   "cell_type": "markdown",
   "metadata": {
    "id": "qEF7YW-Y2KT9"
   },
   "source": [
    "**Análise dados de treino**"
   ]
  },
  {
   "cell_type": "code",
   "execution_count": 130,
   "metadata": {
    "id": "gmZgnjMe2KT-"
   },
   "outputs": [
    {
     "data": {
      "text/plain": [
       "array([1, 0, 1, 1, 1, 1, 0, 0, 0, 0, 1, 0, 1, 1, 1, 0, 0, 0, 0, 1, 0, 1,\n",
       "       1, 1, 1, 0, 0, 1, 1, 1, 1, 0, 1, 1, 0, 0, 1, 1, 0, 1, 0, 1, 0, 0,\n",
       "       1, 1, 0, 1, 1, 1, 0, 0, 1, 0, 1, 1, 1, 0, 1, 0, 0, 0, 0, 0, 1, 1,\n",
       "       0, 0, 1, 0, 1, 1, 1, 1, 0, 0, 1, 1, 1, 1, 1, 1, 1, 1, 0, 1, 1, 1,\n",
       "       1, 1, 0, 1, 0, 0, 1, 1, 1, 1, 1, 1, 1, 1, 0, 1, 1, 1, 1, 0, 1, 1,\n",
       "       0, 0, 1, 0, 1, 0, 1, 0, 1, 0, 0, 0, 0, 1, 0, 1, 0, 0, 1, 1, 1, 0,\n",
       "       1, 1, 0, 0, 1, 0, 1, 1, 0, 1, 1, 1, 1, 1, 1, 0, 0, 1, 1, 0, 1, 0,\n",
       "       1, 0, 1, 1, 1, 0, 1, 0, 0, 0, 1, 0, 1, 0, 0, 0, 0, 1, 1, 0, 1, 0,\n",
       "       0, 1, 1, 0, 0, 0, 0, 0, 0, 1, 1, 1, 1, 1, 0, 0, 1, 0, 0, 1, 1, 0,\n",
       "       1, 1, 0, 0, 0, 1, 1, 1, 1, 1, 1, 0, 1, 0, 1, 1, 1, 1, 1, 0, 0, 1,\n",
       "       1, 0, 0, 1, 1, 1, 1, 1, 1, 1, 1, 1, 0, 1, 1, 0, 1, 0, 1, 0, 1, 0,\n",
       "       1, 1, 0, 1, 1, 1, 1, 1, 1, 1, 0, 0, 0, 0, 0, 0, 0, 0, 1, 0, 1, 0,\n",
       "       1, 0, 1, 1, 1, 0, 1, 1, 0, 0, 0, 1, 1, 1, 0, 0, 1, 0, 0, 0, 1, 1,\n",
       "       1, 1, 1, 1, 1, 0, 1, 1, 0, 1, 0, 0, 0, 1, 1, 0, 0, 1, 0, 0, 1, 1,\n",
       "       1, 0, 1, 0, 1, 0, 1, 0, 1, 0, 1, 0, 1, 1, 1, 1, 0, 1, 1, 1, 1, 0,\n",
       "       0, 0, 1, 0, 0, 0, 1, 1, 0, 1, 1, 0, 1, 1, 1, 0, 1, 1, 0, 1, 0, 1,\n",
       "       0, 0, 0, 1, 0, 0, 1, 0, 0, 1, 0, 1, 1, 0, 0, 0, 0, 0, 1, 1, 1, 1,\n",
       "       0, 1, 1, 1, 1, 1, 1, 1, 0, 1, 0, 1, 0, 0, 1, 1, 0, 1, 1, 1, 1, 1,\n",
       "       0, 0, 1, 1, 1, 1, 1, 0, 1, 0, 1, 1, 1, 0, 1, 0, 0, 1, 1, 1, 0, 0,\n",
       "       0, 1, 1, 0, 0, 1, 1, 1, 1, 0, 0, 0, 0, 1, 1, 1, 1, 1, 1, 1, 1, 1,\n",
       "       0, 0, 1, 1, 0, 1, 0, 1, 0, 0, 1, 0, 1, 1, 1, 1, 0, 0, 0, 1, 0, 1,\n",
       "       1, 1, 1, 1, 1, 0, 1, 0, 1, 1, 1, 1, 0, 1, 1, 0, 0, 0, 1, 0, 0, 0,\n",
       "       0, 0, 1, 0, 1, 1, 0, 0, 0, 1, 1, 0, 0, 1, 1, 0, 1, 1, 0, 0, 1, 1,\n",
       "       1, 1, 0, 0, 1, 1, 1, 1, 0, 1, 0, 0, 1, 0, 1, 1, 1, 1, 0, 1, 1, 0,\n",
       "       1, 0, 1, 0, 1, 0, 1, 0, 1, 0, 1, 1, 0, 1, 1, 1, 1, 0, 0, 1, 1, 0,\n",
       "       0, 1, 1, 0, 1, 0, 1, 1, 1, 0, 1, 1, 1, 1, 0, 1, 1, 0, 1, 1, 0, 1,\n",
       "       1, 1, 0, 1, 1, 0, 0, 0, 0, 1, 0, 1, 1, 1, 1, 0, 1, 0, 0, 0, 0, 1,\n",
       "       0, 0, 1, 0, 0, 0, 0, 0, 0, 0, 1, 0, 0, 1, 1, 1, 1, 1, 1, 1, 0, 1,\n",
       "       1, 1, 1, 1, 1, 0, 1, 0, 1, 1, 1, 1, 0, 1, 1, 0, 0, 1, 1, 0, 1, 0,\n",
       "       0, 0, 1])"
      ]
     },
     "execution_count": 130,
     "metadata": {},
     "output_type": "execute_result"
    }
   ],
   "source": [
    "previsoes_treino = knn.predict(x_treino)\n",
    "previsoes_treino"
   ]
  },
  {
   "cell_type": "code",
   "execution_count": 131,
   "metadata": {
    "id": "q5pLRV6J2KT_"
   },
   "outputs": [
    {
     "data": {
      "text/plain": [
       "0.8892355694227769"
      ]
     },
     "execution_count": 131,
     "metadata": {},
     "output_type": "execute_result"
    }
   ],
   "source": [
    "accuracy_score(y_treino, previsoes_treino)"
   ]
  },
  {
   "cell_type": "code",
   "execution_count": 132,
   "metadata": {
    "id": "w4ce2FGJ2KT_"
   },
   "outputs": [
    {
     "data": {
      "text/plain": [
       "array([[244,  45],\n",
       "       [ 26, 326]])"
      ]
     },
     "execution_count": 132,
     "metadata": {},
     "output_type": "execute_result"
    }
   ],
   "source": [
    "confusion_matrix(y_treino, previsoes_treino)"
   ]
  },
  {
   "cell_type": "markdown",
   "metadata": {
    "id": "pUNWBzC8KJ5v"
   },
   "source": [
    "### **Validação Cruzada**"
   ]
  },
  {
   "cell_type": "code",
   "execution_count": 133,
   "metadata": {
    "id": "b88vNYd8KJ5w"
   },
   "outputs": [],
   "source": [
    "from sklearn.model_selection import KFold\n",
    "from sklearn.model_selection import cross_val_score"
   ]
  },
  {
   "cell_type": "code",
   "execution_count": 134,
   "metadata": {
    "id": "nG58w5CNKJ5w"
   },
   "outputs": [],
   "source": [
    "# Separando os dados em folds\n",
    "kfold = KFold(n_splits = 30, shuffle=True, random_state = 5)"
   ]
  },
  {
   "cell_type": "code",
   "execution_count": 135,
   "metadata": {
    "id": "V9BM96VTKJ5w"
   },
   "outputs": [
    {
     "name": "stdout",
     "output_type": "stream",
     "text": [
      "Acurácia Média: 85.84%\n"
     ]
    }
   ],
   "source": [
    "# Criando o modelo\n",
    "modelo = KNeighborsClassifier(n_neighbors=7, metric='minkowski', p = 1)\n",
    "resultado = cross_val_score(modelo, previsores3_esc, alvo, cv = kfold)\n",
    "\n",
    "# Usamos a média e o desvio padrão\n",
    "print(\"Acurácia Média: %.2f%%\" % (resultado.mean() * 100.0))"
   ]
  },
  {
   "cell_type": "markdown",
   "metadata": {
    "id": "ovmlWcN6xOSK"
   },
   "source": [
    "Naive Bayes = 84,78% (treino e teste) - 234 acertos e 85,17% (validação cruzada) : previsores3_esc\n",
    "\n",
    "SVM = 86,23% - 238 acertos e 85,72% (validação cruzada) : previsores3-esc - SVC(kernel='rbf', random_state=1, C = 2)\n",
    "\n",
    "Regressão logística = 86,23% - 238 acertos e 85,83% (validação cruzada) : previsores3_esc - LogisticRegression(random_state=1, max_iter=600, penalty=\"l2\", tol=0.0001, C=1,solver=\"lbfgs\")\n",
    "\n",
    "KNN = 84,06% - 232 acertos e 85,84% (validação cruzada) : previsores3_esc ou previsores_esc - KNeighborsClassifier(n_neighbors=7, metric='minkowski', p = 1)\n",
    "\n"
   ]
  },
  {
   "cell_type": "markdown",
   "metadata": {
    "id": "VdGvKcYjODGt",
    "jp-MarkdownHeadingCollapsed": true
   },
   "source": [
    "# **ÁRVORE DE DECISÃO**"
   ]
  },
  {
   "cell_type": "markdown",
   "metadata": {
    "id": "i65VtZ4pcQGP"
   },
   "source": [
    "https://scikit-learn.org/stable/modules/tree.html"
   ]
  },
  {
   "cell_type": "code",
   "execution_count": 136,
   "metadata": {
    "id": "-2oaMph5OFa2"
   },
   "outputs": [],
   "source": [
    "from sklearn.tree import DecisionTreeClassifier"
   ]
  },
  {
   "cell_type": "code",
   "execution_count": 137,
   "metadata": {
    "id": "Zxu4_zhCOMVj"
   },
   "outputs": [
    {
     "data": {
      "text/html": [
       "<style>#sk-container-id-5 {color: black;background-color: white;}#sk-container-id-5 pre{padding: 0;}#sk-container-id-5 div.sk-toggleable {background-color: white;}#sk-container-id-5 label.sk-toggleable__label {cursor: pointer;display: block;width: 100%;margin-bottom: 0;padding: 0.3em;box-sizing: border-box;text-align: center;}#sk-container-id-5 label.sk-toggleable__label-arrow:before {content: \"▸\";float: left;margin-right: 0.25em;color: #696969;}#sk-container-id-5 label.sk-toggleable__label-arrow:hover:before {color: black;}#sk-container-id-5 div.sk-estimator:hover label.sk-toggleable__label-arrow:before {color: black;}#sk-container-id-5 div.sk-toggleable__content {max-height: 0;max-width: 0;overflow: hidden;text-align: left;background-color: #f0f8ff;}#sk-container-id-5 div.sk-toggleable__content pre {margin: 0.2em;color: black;border-radius: 0.25em;background-color: #f0f8ff;}#sk-container-id-5 input.sk-toggleable__control:checked~div.sk-toggleable__content {max-height: 200px;max-width: 100%;overflow: auto;}#sk-container-id-5 input.sk-toggleable__control:checked~label.sk-toggleable__label-arrow:before {content: \"▾\";}#sk-container-id-5 div.sk-estimator input.sk-toggleable__control:checked~label.sk-toggleable__label {background-color: #d4ebff;}#sk-container-id-5 div.sk-label input.sk-toggleable__control:checked~label.sk-toggleable__label {background-color: #d4ebff;}#sk-container-id-5 input.sk-hidden--visually {border: 0;clip: rect(1px 1px 1px 1px);clip: rect(1px, 1px, 1px, 1px);height: 1px;margin: -1px;overflow: hidden;padding: 0;position: absolute;width: 1px;}#sk-container-id-5 div.sk-estimator {font-family: monospace;background-color: #f0f8ff;border: 1px dotted black;border-radius: 0.25em;box-sizing: border-box;margin-bottom: 0.5em;}#sk-container-id-5 div.sk-estimator:hover {background-color: #d4ebff;}#sk-container-id-5 div.sk-parallel-item::after {content: \"\";width: 100%;border-bottom: 1px solid gray;flex-grow: 1;}#sk-container-id-5 div.sk-label:hover label.sk-toggleable__label {background-color: #d4ebff;}#sk-container-id-5 div.sk-serial::before {content: \"\";position: absolute;border-left: 1px solid gray;box-sizing: border-box;top: 0;bottom: 0;left: 50%;z-index: 0;}#sk-container-id-5 div.sk-serial {display: flex;flex-direction: column;align-items: center;background-color: white;padding-right: 0.2em;padding-left: 0.2em;position: relative;}#sk-container-id-5 div.sk-item {position: relative;z-index: 1;}#sk-container-id-5 div.sk-parallel {display: flex;align-items: stretch;justify-content: center;background-color: white;position: relative;}#sk-container-id-5 div.sk-item::before, #sk-container-id-5 div.sk-parallel-item::before {content: \"\";position: absolute;border-left: 1px solid gray;box-sizing: border-box;top: 0;bottom: 0;left: 50%;z-index: -1;}#sk-container-id-5 div.sk-parallel-item {display: flex;flex-direction: column;z-index: 1;position: relative;background-color: white;}#sk-container-id-5 div.sk-parallel-item:first-child::after {align-self: flex-end;width: 50%;}#sk-container-id-5 div.sk-parallel-item:last-child::after {align-self: flex-start;width: 50%;}#sk-container-id-5 div.sk-parallel-item:only-child::after {width: 0;}#sk-container-id-5 div.sk-dashed-wrapped {border: 1px dashed gray;margin: 0 0.4em 0.5em 0.4em;box-sizing: border-box;padding-bottom: 0.4em;background-color: white;}#sk-container-id-5 div.sk-label label {font-family: monospace;font-weight: bold;display: inline-block;line-height: 1.2em;}#sk-container-id-5 div.sk-label-container {text-align: center;}#sk-container-id-5 div.sk-container {/* jupyter's `normalize.less` sets `[hidden] { display: none; }` but bootstrap.min.css set `[hidden] { display: none !important; }` so we also need the `!important` here to be able to override the default hidden behavior on the sphinx rendered scikit-learn.org. See: https://github.com/scikit-learn/scikit-learn/issues/21755 */display: inline-block !important;position: relative;}#sk-container-id-5 div.sk-text-repr-fallback {display: none;}</style><div id=\"sk-container-id-5\" class=\"sk-top-container\"><div class=\"sk-text-repr-fallback\"><pre>DecisionTreeClassifier(criterion=&#x27;entropy&#x27;, max_depth=3, random_state=0)</pre><b>In a Jupyter environment, please rerun this cell to show the HTML representation or trust the notebook. <br />On GitHub, the HTML representation is unable to render, please try loading this page with nbviewer.org.</b></div><div class=\"sk-container\" hidden><div class=\"sk-item\"><div class=\"sk-estimator sk-toggleable\"><input class=\"sk-toggleable__control sk-hidden--visually\" id=\"sk-estimator-id-5\" type=\"checkbox\" checked><label for=\"sk-estimator-id-5\" class=\"sk-toggleable__label sk-toggleable__label-arrow\">DecisionTreeClassifier</label><div class=\"sk-toggleable__content\"><pre>DecisionTreeClassifier(criterion=&#x27;entropy&#x27;, max_depth=3, random_state=0)</pre></div></div></div></div></div>"
      ],
      "text/plain": [
       "DecisionTreeClassifier(criterion='entropy', max_depth=3, random_state=0)"
      ]
     },
     "execution_count": 137,
     "metadata": {},
     "output_type": "execute_result"
    }
   ],
   "source": [
    "arvore = DecisionTreeClassifier(criterion='entropy', random_state = 0, max_depth=3)\n",
    "arvore.fit(x_treino, y_treino)"
   ]
  },
  {
   "cell_type": "code",
   "execution_count": 138,
   "metadata": {
    "id": "UnxRfJZXOVkk"
   },
   "outputs": [
    {
     "data": {
      "text/plain": [
       "array([1, 1, 1, 0, 0, 0, 1, 0, 0, 0, 1, 1, 1, 1, 0, 1, 1, 1, 1, 0, 1, 1,\n",
       "       0, 0, 0, 0, 1, 1, 0, 1, 1, 0, 0, 0, 1, 0, 0, 0, 1, 0, 0, 1, 1, 1,\n",
       "       1, 0, 0, 1, 0, 1, 1, 0, 0, 0, 1, 0, 0, 0, 0, 0, 1, 1, 0, 0, 1, 1,\n",
       "       1, 0, 1, 0, 1, 1, 0, 1, 1, 1, 0, 1, 1, 1, 1, 1, 0, 0, 1, 1, 1, 1,\n",
       "       1, 0, 1, 0, 0, 0, 0, 0, 1, 0, 0, 0, 0, 1, 1, 1, 0, 1, 0, 0, 0, 0,\n",
       "       0, 1, 1, 1, 0, 1, 1, 1, 1, 1, 1, 1, 1, 0, 0, 1, 0, 1, 0, 1, 0, 1,\n",
       "       1, 1, 0, 0, 0, 1, 0, 0, 0, 1, 0, 1, 0, 0, 1, 0, 1, 0, 0, 1, 1, 0,\n",
       "       1, 0, 1, 0, 1, 0, 1, 0, 1, 0, 1, 0, 1, 0, 1, 0, 1, 0, 0, 0, 1, 1,\n",
       "       1, 0, 0, 1, 1, 1, 0, 1, 1, 1, 0, 1, 1, 0, 1, 0, 1, 0, 1, 0, 0, 0,\n",
       "       1, 0, 1, 1, 0, 1, 1, 0, 0, 0, 1, 0, 1, 1, 0, 0, 0, 0, 1, 0, 1, 1,\n",
       "       1, 1, 0, 1, 1, 1, 0, 1, 1, 1, 0, 1, 1, 1, 0, 1, 0, 1, 0, 1, 1, 0,\n",
       "       1, 0, 0, 0, 0, 0, 1, 0, 1, 0, 1, 0, 0, 0, 1, 0, 0, 1, 0, 1, 1, 0,\n",
       "       0, 0, 0, 0, 1, 0, 0, 1, 1, 1, 1, 1])"
      ]
     },
     "execution_count": 138,
     "metadata": {},
     "output_type": "execute_result"
    }
   ],
   "source": [
    "previsoes_arvore = arvore.predict(x_teste)\n",
    "previsoes_arvore"
   ]
  },
  {
   "cell_type": "code",
   "execution_count": 139,
   "metadata": {
    "id": "ozqiMkVAOke6"
   },
   "outputs": [
    {
     "data": {
      "text/plain": [
       "array([1, 0, 1, 0, 0, 0, 0, 0, 0, 0, 1, 0, 1, 1, 0, 1, 1, 1, 1, 0, 1, 1,\n",
       "       1, 0, 0, 0, 1, 1, 0, 0, 1, 0, 0, 0, 1, 0, 1, 0, 1, 0, 0, 1, 1, 1,\n",
       "       1, 0, 0, 1, 1, 1, 1, 0, 0, 1, 1, 0, 0, 0, 1, 0, 1, 1, 1, 0, 1, 1,\n",
       "       1, 0, 1, 0, 1, 1, 1, 1, 1, 1, 1, 1, 1, 0, 0, 1, 0, 0, 1, 1, 0, 1,\n",
       "       1, 0, 1, 0, 0, 1, 1, 0, 1, 0, 0, 0, 0, 1, 1, 1, 0, 1, 0, 0, 0, 1,\n",
       "       0, 1, 1, 1, 0, 1, 1, 1, 1, 1, 1, 1, 1, 0, 0, 1, 0, 1, 0, 1, 0, 1,\n",
       "       0, 1, 0, 0, 0, 1, 1, 0, 1, 1, 0, 1, 0, 0, 1, 1, 1, 0, 1, 1, 0, 0,\n",
       "       0, 0, 1, 1, 1, 0, 1, 1, 1, 0, 1, 0, 1, 0, 1, 0, 1, 1, 0, 0, 1, 0,\n",
       "       0, 1, 0, 1, 1, 1, 0, 1, 1, 1, 0, 1, 1, 0, 0, 0, 1, 1, 1, 1, 1, 0,\n",
       "       1, 0, 1, 1, 0, 1, 1, 0, 0, 0, 1, 0, 1, 1, 0, 1, 0, 1, 1, 1, 1, 1,\n",
       "       1, 1, 0, 0, 0, 1, 0, 1, 1, 1, 0, 1, 0, 1, 1, 1, 1, 1, 0, 1, 1, 0,\n",
       "       1, 0, 1, 0, 0, 0, 1, 0, 1, 0, 1, 1, 0, 0, 1, 0, 0, 1, 0, 1, 1, 0,\n",
       "       0, 0, 0, 0, 1, 0, 0, 1, 1, 1, 1, 1])"
      ]
     },
     "execution_count": 139,
     "metadata": {},
     "output_type": "execute_result"
    }
   ],
   "source": [
    "y_teste"
   ]
  },
  {
   "cell_type": "code",
   "execution_count": 140,
   "metadata": {
    "id": "fS4QmmG9vrl4"
   },
   "outputs": [],
   "source": [
    "from sklearn.metrics import accuracy_score, confusion_matrix, classification_report"
   ]
  },
  {
   "cell_type": "code",
   "execution_count": 141,
   "metadata": {
    "id": "9vuYKW1_Onqq"
   },
   "outputs": [
    {
     "name": "stdout",
     "output_type": "stream",
     "text": [
      "Acurácia: 83.70%\n"
     ]
    }
   ],
   "source": [
    "print(\"Acurácia: %.2f%%\" % (accuracy_score(y_teste, previsoes_arvore) * 100.0))"
   ]
  },
  {
   "cell_type": "code",
   "execution_count": 142,
   "metadata": {
    "id": "IAJonpblPUGh"
   },
   "outputs": [
    {
     "data": {
      "text/plain": [
       "array([[105,  16],\n",
       "       [ 29, 126]])"
      ]
     },
     "execution_count": 142,
     "metadata": {},
     "output_type": "execute_result"
    }
   ],
   "source": [
    "confusion_matrix(y_teste, previsoes_arvore)"
   ]
  },
  {
   "cell_type": "code",
   "execution_count": 143,
   "metadata": {
    "id": "wACzOEs-PcTo"
   },
   "outputs": [
    {
     "name": "stdout",
     "output_type": "stream",
     "text": [
      "              precision    recall  f1-score   support\n",
      "\n",
      "           0       0.78      0.87      0.82       121\n",
      "           1       0.89      0.81      0.85       155\n",
      "\n",
      "    accuracy                           0.84       276\n",
      "   macro avg       0.84      0.84      0.84       276\n",
      "weighted avg       0.84      0.84      0.84       276\n",
      "\n"
     ]
    }
   ],
   "source": [
    "print(classification_report(y_teste, previsoes_arvore))"
   ]
  },
  {
   "cell_type": "markdown",
   "metadata": {
    "id": "PXa_22cA1DcE"
   },
   "source": [
    "**Análise dados de treino**"
   ]
  },
  {
   "cell_type": "code",
   "execution_count": 144,
   "metadata": {
    "id": "UZFn-68G1DcF"
   },
   "outputs": [
    {
     "data": {
      "text/plain": [
       "array([1, 0, 1, 1, 1, 0, 0, 0, 0, 0, 1, 0, 1, 1, 1, 0, 0, 0, 0, 1, 0, 1,\n",
       "       1, 1, 1, 0, 0, 1, 0, 1, 1, 0, 1, 1, 0, 0, 0, 1, 0, 1, 0, 1, 0, 0,\n",
       "       1, 1, 0, 1, 1, 1, 1, 0, 1, 0, 1, 0, 1, 0, 1, 0, 0, 0, 0, 0, 1, 1,\n",
       "       0, 1, 1, 0, 0, 1, 1, 1, 0, 0, 0, 1, 0, 1, 1, 1, 1, 1, 0, 1, 1, 1,\n",
       "       1, 1, 0, 0, 0, 0, 1, 1, 1, 1, 1, 1, 0, 0, 0, 1, 1, 1, 1, 0, 0, 1,\n",
       "       0, 0, 1, 0, 1, 0, 1, 0, 1, 0, 0, 0, 0, 1, 0, 1, 0, 0, 1, 1, 1, 0,\n",
       "       0, 1, 0, 0, 1, 0, 1, 1, 0, 1, 1, 1, 1, 1, 1, 0, 0, 1, 1, 0, 1, 0,\n",
       "       1, 0, 1, 1, 1, 0, 1, 0, 0, 0, 0, 0, 1, 0, 0, 0, 0, 1, 1, 0, 1, 1,\n",
       "       0, 1, 1, 0, 0, 0, 0, 0, 0, 1, 1, 1, 1, 0, 0, 0, 1, 0, 0, 1, 1, 1,\n",
       "       1, 1, 0, 0, 0, 1, 1, 0, 0, 1, 1, 0, 0, 0, 1, 1, 1, 1, 1, 0, 0, 1,\n",
       "       1, 0, 0, 1, 1, 0, 1, 1, 1, 1, 1, 1, 0, 1, 1, 0, 1, 0, 1, 0, 1, 0,\n",
       "       1, 1, 1, 0, 1, 1, 1, 1, 1, 1, 0, 0, 0, 0, 0, 0, 0, 0, 0, 0, 1, 0,\n",
       "       1, 0, 1, 0, 1, 0, 1, 1, 0, 0, 0, 1, 1, 0, 0, 0, 1, 0, 0, 0, 1, 1,\n",
       "       0, 0, 1, 1, 1, 0, 1, 1, 1, 1, 0, 0, 0, 1, 1, 0, 0, 1, 0, 0, 1, 1,\n",
       "       1, 0, 1, 0, 0, 0, 1, 0, 1, 0, 1, 0, 1, 1, 1, 1, 0, 1, 1, 1, 1, 0,\n",
       "       0, 0, 1, 0, 0, 0, 1, 1, 0, 1, 1, 1, 1, 1, 1, 1, 1, 1, 0, 1, 0, 1,\n",
       "       0, 0, 0, 1, 0, 0, 1, 1, 0, 0, 0, 1, 1, 0, 0, 0, 0, 0, 1, 1, 0, 1,\n",
       "       0, 1, 1, 1, 0, 0, 1, 1, 0, 1, 0, 1, 0, 0, 0, 1, 0, 0, 1, 0, 1, 1,\n",
       "       0, 0, 1, 1, 1, 1, 1, 0, 1, 0, 1, 1, 1, 0, 0, 1, 0, 1, 1, 1, 0, 0,\n",
       "       0, 1, 1, 0, 0, 1, 1, 0, 0, 1, 0, 0, 0, 1, 1, 0, 1, 1, 1, 0, 1, 1,\n",
       "       0, 0, 1, 1, 0, 1, 0, 1, 0, 0, 1, 0, 1, 1, 1, 1, 0, 0, 1, 1, 0, 1,\n",
       "       1, 1, 1, 1, 1, 0, 1, 0, 1, 1, 1, 1, 0, 1, 1, 0, 0, 0, 1, 0, 0, 0,\n",
       "       0, 0, 1, 0, 1, 1, 1, 0, 0, 1, 1, 0, 1, 1, 1, 0, 1, 1, 0, 0, 1, 1,\n",
       "       1, 1, 0, 0, 1, 1, 0, 1, 0, 1, 0, 0, 0, 0, 1, 1, 0, 1, 0, 1, 1, 0,\n",
       "       1, 0, 1, 0, 1, 0, 1, 0, 0, 0, 1, 1, 0, 1, 1, 0, 1, 0, 0, 1, 1, 0,\n",
       "       0, 0, 1, 0, 1, 0, 1, 1, 1, 0, 1, 1, 1, 0, 0, 0, 1, 0, 0, 1, 0, 1,\n",
       "       1, 1, 0, 0, 1, 0, 0, 1, 0, 1, 0, 1, 1, 1, 1, 0, 1, 0, 0, 0, 0, 0,\n",
       "       0, 0, 0, 0, 0, 1, 0, 0, 0, 0, 1, 0, 1, 1, 0, 1, 1, 1, 1, 1, 0, 1,\n",
       "       1, 1, 0, 1, 1, 0, 1, 0, 1, 1, 0, 1, 0, 1, 1, 0, 0, 1, 1, 0, 1, 0,\n",
       "       1, 0, 1])"
      ]
     },
     "execution_count": 144,
     "metadata": {},
     "output_type": "execute_result"
    }
   ],
   "source": [
    "previsoes_treino = arvore.predict(x_treino)\n",
    "previsoes_treino"
   ]
  },
  {
   "cell_type": "code",
   "execution_count": 145,
   "metadata": {
    "id": "mDqKNd3v1DcG"
   },
   "outputs": [
    {
     "data": {
      "text/plain": [
       "0.8517940717628705"
      ]
     },
     "execution_count": 145,
     "metadata": {},
     "output_type": "execute_result"
    }
   ],
   "source": [
    "accuracy_score(y_treino, previsoes_treino)"
   ]
  },
  {
   "cell_type": "code",
   "execution_count": 146,
   "metadata": {
    "id": "dMQiq4o01DcG"
   },
   "outputs": [
    {
     "data": {
      "text/plain": [
       "array([[249,  40],\n",
       "       [ 55, 297]])"
      ]
     },
     "execution_count": 146,
     "metadata": {},
     "output_type": "execute_result"
    }
   ],
   "source": [
    "confusion_matrix(y_treino, previsoes_treino)"
   ]
  },
  {
   "cell_type": "markdown",
   "metadata": {
    "id": "dxwugdgiEhdw"
   },
   "source": [
    "### **Validação Cruzada**"
   ]
  },
  {
   "cell_type": "code",
   "execution_count": 147,
   "metadata": {
    "id": "ArJOjabUEZJf"
   },
   "outputs": [],
   "source": [
    "from sklearn.model_selection import KFold\n",
    "from sklearn.model_selection import cross_val_score"
   ]
  },
  {
   "cell_type": "code",
   "execution_count": 148,
   "metadata": {
    "id": "zfWK55DrEZJg"
   },
   "outputs": [],
   "source": [
    "# Separando os dados em folds\n",
    "kfold = KFold(n_splits = 30, shuffle=True, random_state = 5)"
   ]
  },
  {
   "cell_type": "code",
   "execution_count": 149,
   "metadata": {
    "id": "MwGsKOFZEZJh"
   },
   "outputs": [
    {
     "name": "stdout",
     "output_type": "stream",
     "text": [
      "Acurácia Média: 83.32%\n"
     ]
    }
   ],
   "source": [
    "# Criando o modelo\n",
    "modelo = DecisionTreeClassifier(criterion='entropy', random_state = 0, max_depth=3)\n",
    "resultado = cross_val_score(modelo, previsores3_esc, alvo, cv = kfold)\n",
    "\n",
    "# Usamos a média e o desvio padrão\n",
    "print(\"Acurácia Média: %.2f%%\" % (resultado.mean() * 100.0))"
   ]
  },
  {
   "cell_type": "markdown",
   "metadata": {
    "id": "-Ti98jalQK23"
   },
   "source": [
    "Naive Bayes = 84,78% (treino e teste) - 234 acertos e 85,17% (validação cruzada) : previsores3_esc\n",
    "\n",
    "SVM = 86,23% - 238 acertos e 85,72% (validação cruzada) : previsores3-esc - SVC(kernel='rbf', random_state=1, C = 2)\n",
    "\n",
    "Regressão logística = 86,23% - 238 acertos e 85,83% (validação cruzada) : previsores3_esc - LogisticRegression(random_state=1, max_iter=600, penalty=\"l2\", tol=0.0001, C=1,solver=\"lbfgs\")\n",
    "\n",
    "KNN = 84,06% - 232 acertos e 85,84% (validação cruzada) : previsores3_esc ou previsores_esc - KNeighborsClassifier(n_neighbors=7, metric='minkowski', p = 1)\n",
    "\n",
    "Árvore de decisão = 83,7% (treino e teste) - 231 acertos e 83,32% (validação cruzada): previsores3_esc - DecisionTreeClassifier(criterion='entropy', random_state = 0, max_depth=3)"
   ]
  },
  {
   "cell_type": "markdown",
   "metadata": {
    "id": "hw7px-UemoSc",
    "jp-MarkdownHeadingCollapsed": true
   },
   "source": [
    "# **RANDOM FOREST**"
   ]
  },
  {
   "cell_type": "markdown",
   "metadata": {
    "id": "HAUbw5xfcCYy"
   },
   "source": [
    "https://scikit-learn.org/stable/modules/generated/sklearn.ensemble.RandomForestClassifier.html"
   ]
  },
  {
   "cell_type": "code",
   "execution_count": 150,
   "metadata": {
    "id": "BqqXdinImokj"
   },
   "outputs": [],
   "source": [
    "from sklearn.ensemble import RandomForestClassifier"
   ]
  },
  {
   "cell_type": "code",
   "execution_count": 151,
   "metadata": {
    "id": "Klr3lymumztn"
   },
   "outputs": [
    {
     "data": {
      "text/html": [
       "<style>#sk-container-id-6 {color: black;background-color: white;}#sk-container-id-6 pre{padding: 0;}#sk-container-id-6 div.sk-toggleable {background-color: white;}#sk-container-id-6 label.sk-toggleable__label {cursor: pointer;display: block;width: 100%;margin-bottom: 0;padding: 0.3em;box-sizing: border-box;text-align: center;}#sk-container-id-6 label.sk-toggleable__label-arrow:before {content: \"▸\";float: left;margin-right: 0.25em;color: #696969;}#sk-container-id-6 label.sk-toggleable__label-arrow:hover:before {color: black;}#sk-container-id-6 div.sk-estimator:hover label.sk-toggleable__label-arrow:before {color: black;}#sk-container-id-6 div.sk-toggleable__content {max-height: 0;max-width: 0;overflow: hidden;text-align: left;background-color: #f0f8ff;}#sk-container-id-6 div.sk-toggleable__content pre {margin: 0.2em;color: black;border-radius: 0.25em;background-color: #f0f8ff;}#sk-container-id-6 input.sk-toggleable__control:checked~div.sk-toggleable__content {max-height: 200px;max-width: 100%;overflow: auto;}#sk-container-id-6 input.sk-toggleable__control:checked~label.sk-toggleable__label-arrow:before {content: \"▾\";}#sk-container-id-6 div.sk-estimator input.sk-toggleable__control:checked~label.sk-toggleable__label {background-color: #d4ebff;}#sk-container-id-6 div.sk-label input.sk-toggleable__control:checked~label.sk-toggleable__label {background-color: #d4ebff;}#sk-container-id-6 input.sk-hidden--visually {border: 0;clip: rect(1px 1px 1px 1px);clip: rect(1px, 1px, 1px, 1px);height: 1px;margin: -1px;overflow: hidden;padding: 0;position: absolute;width: 1px;}#sk-container-id-6 div.sk-estimator {font-family: monospace;background-color: #f0f8ff;border: 1px dotted black;border-radius: 0.25em;box-sizing: border-box;margin-bottom: 0.5em;}#sk-container-id-6 div.sk-estimator:hover {background-color: #d4ebff;}#sk-container-id-6 div.sk-parallel-item::after {content: \"\";width: 100%;border-bottom: 1px solid gray;flex-grow: 1;}#sk-container-id-6 div.sk-label:hover label.sk-toggleable__label {background-color: #d4ebff;}#sk-container-id-6 div.sk-serial::before {content: \"\";position: absolute;border-left: 1px solid gray;box-sizing: border-box;top: 0;bottom: 0;left: 50%;z-index: 0;}#sk-container-id-6 div.sk-serial {display: flex;flex-direction: column;align-items: center;background-color: white;padding-right: 0.2em;padding-left: 0.2em;position: relative;}#sk-container-id-6 div.sk-item {position: relative;z-index: 1;}#sk-container-id-6 div.sk-parallel {display: flex;align-items: stretch;justify-content: center;background-color: white;position: relative;}#sk-container-id-6 div.sk-item::before, #sk-container-id-6 div.sk-parallel-item::before {content: \"\";position: absolute;border-left: 1px solid gray;box-sizing: border-box;top: 0;bottom: 0;left: 50%;z-index: -1;}#sk-container-id-6 div.sk-parallel-item {display: flex;flex-direction: column;z-index: 1;position: relative;background-color: white;}#sk-container-id-6 div.sk-parallel-item:first-child::after {align-self: flex-end;width: 50%;}#sk-container-id-6 div.sk-parallel-item:last-child::after {align-self: flex-start;width: 50%;}#sk-container-id-6 div.sk-parallel-item:only-child::after {width: 0;}#sk-container-id-6 div.sk-dashed-wrapped {border: 1px dashed gray;margin: 0 0.4em 0.5em 0.4em;box-sizing: border-box;padding-bottom: 0.4em;background-color: white;}#sk-container-id-6 div.sk-label label {font-family: monospace;font-weight: bold;display: inline-block;line-height: 1.2em;}#sk-container-id-6 div.sk-label-container {text-align: center;}#sk-container-id-6 div.sk-container {/* jupyter's `normalize.less` sets `[hidden] { display: none; }` but bootstrap.min.css set `[hidden] { display: none !important; }` so we also need the `!important` here to be able to override the default hidden behavior on the sphinx rendered scikit-learn.org. See: https://github.com/scikit-learn/scikit-learn/issues/21755 */display: inline-block !important;position: relative;}#sk-container-id-6 div.sk-text-repr-fallback {display: none;}</style><div id=\"sk-container-id-6\" class=\"sk-top-container\"><div class=\"sk-text-repr-fallback\"><pre>RandomForestClassifier(criterion=&#x27;entropy&#x27;, max_depth=4, n_estimators=150,\n",
       "                       random_state=0)</pre><b>In a Jupyter environment, please rerun this cell to show the HTML representation or trust the notebook. <br />On GitHub, the HTML representation is unable to render, please try loading this page with nbviewer.org.</b></div><div class=\"sk-container\" hidden><div class=\"sk-item\"><div class=\"sk-estimator sk-toggleable\"><input class=\"sk-toggleable__control sk-hidden--visually\" id=\"sk-estimator-id-6\" type=\"checkbox\" checked><label for=\"sk-estimator-id-6\" class=\"sk-toggleable__label sk-toggleable__label-arrow\">RandomForestClassifier</label><div class=\"sk-toggleable__content\"><pre>RandomForestClassifier(criterion=&#x27;entropy&#x27;, max_depth=4, n_estimators=150,\n",
       "                       random_state=0)</pre></div></div></div></div></div>"
      ],
      "text/plain": [
       "RandomForestClassifier(criterion='entropy', max_depth=4, n_estimators=150,\n",
       "                       random_state=0)"
      ]
     },
     "execution_count": 151,
     "metadata": {},
     "output_type": "execute_result"
    }
   ],
   "source": [
    "random = RandomForestClassifier(n_estimators=150, criterion='entropy', random_state = 0, max_depth=4)\n",
    "random.fit(x_treino, y_treino)"
   ]
  },
  {
   "cell_type": "code",
   "execution_count": 152,
   "metadata": {
    "id": "0JOqI4bQnY17"
   },
   "outputs": [
    {
     "data": {
      "text/plain": [
       "array([1, 1, 1, 0, 0, 0, 1, 0, 0, 0, 1, 1, 1, 1, 0, 1, 1, 1, 1, 0, 1, 1,\n",
       "       0, 0, 0, 0, 1, 1, 1, 1, 1, 0, 0, 0, 1, 0, 0, 0, 1, 0, 0, 1, 1, 1,\n",
       "       1, 0, 0, 1, 0, 1, 1, 0, 0, 0, 1, 0, 0, 0, 0, 0, 1, 1, 1, 0, 1, 1,\n",
       "       1, 0, 1, 0, 1, 1, 0, 1, 1, 1, 0, 1, 1, 1, 1, 1, 0, 0, 1, 1, 1, 1,\n",
       "       1, 0, 1, 0, 0, 0, 0, 0, 1, 0, 0, 0, 0, 1, 1, 1, 0, 1, 0, 0, 0, 0,\n",
       "       0, 1, 1, 1, 0, 1, 0, 1, 1, 1, 1, 1, 1, 0, 1, 1, 0, 1, 0, 1, 0, 1,\n",
       "       1, 1, 0, 1, 1, 1, 1, 0, 0, 1, 0, 1, 1, 0, 1, 0, 1, 0, 0, 1, 1, 0,\n",
       "       1, 0, 1, 1, 1, 0, 1, 1, 1, 0, 1, 0, 1, 0, 1, 0, 1, 1, 0, 0, 1, 1,\n",
       "       1, 0, 0, 1, 1, 1, 0, 1, 1, 1, 0, 1, 1, 0, 1, 0, 1, 0, 1, 0, 0, 0,\n",
       "       1, 0, 1, 1, 0, 1, 1, 0, 0, 0, 1, 0, 1, 1, 0, 0, 0, 0, 1, 0, 1, 1,\n",
       "       1, 0, 0, 1, 1, 1, 0, 1, 0, 1, 0, 1, 1, 1, 0, 1, 1, 1, 0, 1, 1, 0,\n",
       "       1, 0, 0, 0, 0, 0, 1, 0, 1, 0, 1, 0, 0, 0, 1, 0, 0, 1, 0, 1, 1, 0,\n",
       "       0, 0, 0, 0, 1, 0, 0, 1, 1, 1, 1, 1])"
      ]
     },
     "execution_count": 152,
     "metadata": {},
     "output_type": "execute_result"
    }
   ],
   "source": [
    "previsoes_random = random.predict(x_teste)\n",
    "previsoes_random"
   ]
  },
  {
   "cell_type": "code",
   "execution_count": 153,
   "metadata": {
    "id": "fRN6hPPXn5qp"
   },
   "outputs": [
    {
     "data": {
      "text/plain": [
       "array([1, 0, 1, 0, 0, 0, 0, 0, 0, 0, 1, 0, 1, 1, 0, 1, 1, 1, 1, 0, 1, 1,\n",
       "       1, 0, 0, 0, 1, 1, 0, 0, 1, 0, 0, 0, 1, 0, 1, 0, 1, 0, 0, 1, 1, 1,\n",
       "       1, 0, 0, 1, 1, 1, 1, 0, 0, 1, 1, 0, 0, 0, 1, 0, 1, 1, 1, 0, 1, 1,\n",
       "       1, 0, 1, 0, 1, 1, 1, 1, 1, 1, 1, 1, 1, 0, 0, 1, 0, 0, 1, 1, 0, 1,\n",
       "       1, 0, 1, 0, 0, 1, 1, 0, 1, 0, 0, 0, 0, 1, 1, 1, 0, 1, 0, 0, 0, 1,\n",
       "       0, 1, 1, 1, 0, 1, 1, 1, 1, 1, 1, 1, 1, 0, 0, 1, 0, 1, 0, 1, 0, 1,\n",
       "       0, 1, 0, 0, 0, 1, 1, 0, 1, 1, 0, 1, 0, 0, 1, 1, 1, 0, 1, 1, 0, 0,\n",
       "       0, 0, 1, 1, 1, 0, 1, 1, 1, 0, 1, 0, 1, 0, 1, 0, 1, 1, 0, 0, 1, 0,\n",
       "       0, 1, 0, 1, 1, 1, 0, 1, 1, 1, 0, 1, 1, 0, 0, 0, 1, 1, 1, 1, 1, 0,\n",
       "       1, 0, 1, 1, 0, 1, 1, 0, 0, 0, 1, 0, 1, 1, 0, 1, 0, 1, 1, 1, 1, 1,\n",
       "       1, 1, 0, 0, 0, 1, 0, 1, 1, 1, 0, 1, 0, 1, 1, 1, 1, 1, 0, 1, 1, 0,\n",
       "       1, 0, 1, 0, 0, 0, 1, 0, 1, 0, 1, 1, 0, 0, 1, 0, 0, 1, 0, 1, 1, 0,\n",
       "       0, 0, 0, 0, 1, 0, 0, 1, 1, 1, 1, 1])"
      ]
     },
     "execution_count": 153,
     "metadata": {},
     "output_type": "execute_result"
    }
   ],
   "source": [
    "y_teste"
   ]
  },
  {
   "cell_type": "code",
   "execution_count": 154,
   "metadata": {
    "id": "cgB44VIOvpZf"
   },
   "outputs": [],
   "source": [
    "from sklearn.metrics import accuracy_score, confusion_matrix, classification_report"
   ]
  },
  {
   "cell_type": "code",
   "execution_count": 155,
   "metadata": {
    "id": "gnAuxYDDoDxM"
   },
   "outputs": [
    {
     "name": "stdout",
     "output_type": "stream",
     "text": [
      "Acurácia: 82.97%\n"
     ]
    }
   ],
   "source": [
    "print(\"Acurácia: %.2f%%\" % (accuracy_score(y_teste, previsoes_random) * 100.0))"
   ]
  },
  {
   "cell_type": "code",
   "execution_count": 156,
   "metadata": {
    "id": "zjAqh3e8oDxN"
   },
   "outputs": [
    {
     "data": {
      "text/plain": [
       "array([[100,  21],\n",
       "       [ 26, 129]])"
      ]
     },
     "execution_count": 156,
     "metadata": {},
     "output_type": "execute_result"
    }
   ],
   "source": [
    "confusion_matrix(y_teste, previsoes_random)"
   ]
  },
  {
   "cell_type": "code",
   "execution_count": 157,
   "metadata": {
    "id": "IdpisYpjoDxO"
   },
   "outputs": [
    {
     "name": "stdout",
     "output_type": "stream",
     "text": [
      "              precision    recall  f1-score   support\n",
      "\n",
      "           0       0.79      0.83      0.81       121\n",
      "           1       0.86      0.83      0.85       155\n",
      "\n",
      "    accuracy                           0.83       276\n",
      "   macro avg       0.83      0.83      0.83       276\n",
      "weighted avg       0.83      0.83      0.83       276\n",
      "\n"
     ]
    }
   ],
   "source": [
    "print(classification_report(y_teste, previsoes_random))"
   ]
  },
  {
   "cell_type": "markdown",
   "metadata": {
    "id": "e9NiPecr1bdw"
   },
   "source": [
    "**Análise dados de treino**"
   ]
  },
  {
   "cell_type": "code",
   "execution_count": 158,
   "metadata": {
    "id": "DDs9J1hX1bdx"
   },
   "outputs": [
    {
     "data": {
      "text/plain": [
       "array([1, 1, 1, 1, 1, 1, 0, 0, 0, 0, 1, 0, 1, 1, 1, 0, 0, 0, 0, 1, 1, 1,\n",
       "       1, 1, 1, 0, 0, 1, 1, 1, 1, 0, 1, 1, 0, 0, 1, 1, 0, 1, 0, 1, 0, 0,\n",
       "       1, 1, 0, 1, 1, 1, 1, 0, 1, 1, 1, 0, 1, 0, 1, 0, 0, 0, 0, 0, 1, 1,\n",
       "       0, 0, 1, 0, 1, 1, 1, 1, 0, 0, 1, 1, 1, 1, 1, 1, 1, 1, 0, 1, 1, 1,\n",
       "       1, 1, 0, 1, 0, 0, 1, 1, 1, 1, 1, 1, 1, 1, 0, 1, 1, 1, 1, 0, 0, 1,\n",
       "       0, 0, 1, 0, 1, 0, 1, 0, 1, 0, 0, 0, 0, 1, 1, 1, 0, 0, 1, 1, 1, 0,\n",
       "       0, 1, 0, 0, 1, 0, 1, 1, 0, 1, 1, 1, 1, 1, 0, 0, 0, 1, 1, 0, 1, 0,\n",
       "       1, 0, 1, 1, 1, 0, 1, 0, 0, 0, 0, 0, 1, 0, 0, 0, 0, 1, 1, 0, 1, 0,\n",
       "       0, 1, 1, 0, 0, 0, 0, 0, 0, 1, 1, 1, 1, 1, 0, 0, 1, 0, 0, 1, 1, 0,\n",
       "       1, 1, 0, 0, 0, 1, 1, 1, 1, 1, 1, 0, 1, 0, 1, 1, 1, 1, 1, 0, 0, 1,\n",
       "       1, 0, 0, 1, 1, 1, 1, 1, 1, 1, 1, 1, 0, 1, 1, 0, 1, 0, 1, 0, 1, 0,\n",
       "       1, 1, 0, 1, 1, 1, 1, 1, 1, 1, 0, 0, 0, 0, 0, 0, 0, 0, 1, 0, 1, 1,\n",
       "       1, 0, 1, 0, 1, 0, 1, 1, 0, 1, 0, 1, 1, 1, 0, 0, 1, 0, 0, 0, 1, 1,\n",
       "       1, 1, 1, 1, 1, 0, 1, 1, 0, 1, 0, 1, 0, 1, 1, 0, 0, 1, 0, 0, 1, 1,\n",
       "       1, 0, 1, 0, 1, 0, 1, 0, 1, 1, 1, 0, 1, 1, 1, 1, 0, 1, 1, 1, 1, 0,\n",
       "       0, 0, 1, 0, 0, 0, 1, 1, 0, 1, 1, 1, 1, 1, 1, 0, 1, 1, 0, 1, 0, 1,\n",
       "       0, 0, 0, 1, 0, 0, 1, 1, 0, 1, 0, 1, 1, 0, 0, 0, 0, 0, 1, 1, 1, 1,\n",
       "       0, 1, 1, 1, 0, 1, 1, 1, 0, 1, 0, 1, 0, 0, 0, 1, 0, 0, 1, 1, 1, 1,\n",
       "       0, 0, 1, 1, 1, 1, 1, 0, 1, 0, 1, 1, 1, 0, 1, 1, 0, 1, 1, 1, 0, 0,\n",
       "       0, 1, 1, 0, 0, 1, 1, 0, 1, 1, 0, 0, 0, 1, 1, 1, 1, 1, 1, 1, 1, 1,\n",
       "       0, 0, 1, 1, 0, 1, 0, 1, 0, 0, 1, 0, 1, 1, 1, 1, 0, 0, 0, 1, 0, 1,\n",
       "       1, 1, 1, 1, 1, 0, 1, 0, 1, 1, 1, 1, 1, 1, 1, 0, 0, 0, 1, 0, 0, 0,\n",
       "       0, 0, 1, 0, 1, 1, 1, 0, 0, 1, 1, 0, 0, 1, 1, 0, 1, 1, 0, 0, 1, 1,\n",
       "       1, 1, 0, 0, 1, 1, 1, 1, 0, 1, 0, 0, 1, 0, 1, 1, 1, 1, 0, 1, 1, 0,\n",
       "       1, 0, 1, 0, 1, 0, 1, 0, 1, 0, 1, 1, 0, 1, 1, 1, 1, 0, 0, 1, 1, 0,\n",
       "       0, 1, 1, 0, 1, 0, 1, 1, 1, 0, 1, 1, 0, 1, 0, 1, 1, 0, 0, 1, 0, 1,\n",
       "       1, 1, 0, 1, 1, 0, 0, 1, 0, 1, 0, 1, 1, 1, 1, 0, 1, 0, 0, 0, 0, 1,\n",
       "       0, 0, 1, 0, 0, 1, 0, 0, 0, 0, 1, 0, 1, 1, 0, 1, 1, 1, 1, 1, 0, 1,\n",
       "       1, 1, 1, 1, 1, 0, 1, 1, 1, 1, 1, 1, 0, 1, 1, 0, 0, 1, 1, 0, 1, 0,\n",
       "       1, 0, 1])"
      ]
     },
     "execution_count": 158,
     "metadata": {},
     "output_type": "execute_result"
    }
   ],
   "source": [
    "previsoes_treino = random.predict(x_treino)\n",
    "previsoes_treino"
   ]
  },
  {
   "cell_type": "code",
   "execution_count": 159,
   "metadata": {
    "id": "MkH9uYfz1bdy"
   },
   "outputs": [
    {
     "data": {
      "text/plain": [
       "0.8783151326053042"
      ]
     },
     "execution_count": 159,
     "metadata": {},
     "output_type": "execute_result"
    }
   ],
   "source": [
    "accuracy_score(y_treino, previsoes_treino)"
   ]
  },
  {
   "cell_type": "code",
   "execution_count": 160,
   "metadata": {
    "id": "pLge3xVL1bdy"
   },
   "outputs": [
    {
     "data": {
      "text/plain": [
       "array([[237,  52],\n",
       "       [ 26, 326]])"
      ]
     },
     "execution_count": 160,
     "metadata": {},
     "output_type": "execute_result"
    }
   ],
   "source": [
    "confusion_matrix(y_treino, previsoes_treino)"
   ]
  },
  {
   "cell_type": "markdown",
   "metadata": {
    "id": "GH4nEvlaGOb7"
   },
   "source": [
    "### **Validação Cruzada**"
   ]
  },
  {
   "cell_type": "code",
   "execution_count": 161,
   "metadata": {
    "id": "hreEC55-GOb8"
   },
   "outputs": [],
   "source": [
    "from sklearn.model_selection import KFold\n",
    "from sklearn.model_selection import cross_val_score"
   ]
  },
  {
   "cell_type": "code",
   "execution_count": 162,
   "metadata": {
    "id": "ETYEB99OGOb9"
   },
   "outputs": [],
   "source": [
    "# Separando os dados em folds\n",
    "kfold = KFold(n_splits = 30, shuffle=True, random_state = 5)"
   ]
  },
  {
   "cell_type": "code",
   "execution_count": 163,
   "metadata": {
    "id": "7GHcsag3GOb9"
   },
   "outputs": [
    {
     "name": "stdout",
     "output_type": "stream",
     "text": [
      "Acurácia Média: 85.92%\n"
     ]
    }
   ],
   "source": [
    "# Criando o modelo\n",
    "modelo = RandomForestClassifier(n_estimators=150, criterion='entropy', random_state = 0, max_depth=4)\n",
    "resultado = cross_val_score(modelo, previsores, alvo, cv = kfold)\n",
    "\n",
    "# Usamos a média e o desvio padrão\n",
    "print(\"Acurácia Média: %.2f%%\" % (resultado.mean() * 100.0))"
   ]
  },
  {
   "cell_type": "markdown",
   "metadata": {
    "id": "N3dUl9DDpNnz"
   },
   "source": [
    "Naive Bayes = 84,78% (treino e teste) - 234 acertos e 85,17% (validação cruzada) : previsores3_esc\n",
    "\n",
    "SVM = 86,23% - 238 acertos e 85,72% (validação cruzada) : previsores3-esc - SVC(kernel='rbf', random_state=1, C = 2)\n",
    "\n",
    "Regressão logística = 86,23% - 238 acertos e 85,83% (validação cruzada) : previsores3_esc - LogisticRegression(random_state=1, max_iter=600, penalty=\"l2\", tol=0.0001, C=1,solver=\"lbfgs\")\n",
    "\n",
    "KNN = 84,06% - 232 acertos e 85,84% (validação cruzada) : previsores3_esc ou previsores_esc - KNeighborsClassifier(n_neighbors=7, metric='minkowski', p = 1)\n",
    "\n",
    "Árvore de decisão = 83,7% (treino e teste) - 231 acertos e 83,32% (validação cruzada): previsores3_esc - DecisionTreeClassifier(criterion='entropy', random_state = 0, max_depth=3)\n",
    "\n",
    "Random Forest = 86,59% - 239 acertos e 85,92% (validação cruzada) : previsores - RandomForestClassifier(n_estimators=150, criterion='entropy', random_state = 0, max_depth=4)"
   ]
  },
  {
   "cell_type": "markdown",
   "metadata": {
    "id": "jH3OocboSGXH"
   },
   "source": [
    "# **XGBOOST**"
   ]
  },
  {
   "cell_type": "markdown",
   "metadata": {
    "id": "OpLLJlcnbcsR"
   },
   "source": [
    "https://xgboost.readthedocs.io/en/stable/"
   ]
  },
  {
   "cell_type": "code",
   "execution_count": 164,
   "metadata": {
    "id": "PKdcu1J2Qk0h"
   },
   "outputs": [],
   "source": [
    "from xgboost import XGBClassifier"
   ]
  },
  {
   "cell_type": "code",
   "execution_count": 165,
   "metadata": {
    "id": "jyOMVARbQmLa"
   },
   "outputs": [
    {
     "data": {
      "text/html": [
       "<style>#sk-container-id-7 {color: black;background-color: white;}#sk-container-id-7 pre{padding: 0;}#sk-container-id-7 div.sk-toggleable {background-color: white;}#sk-container-id-7 label.sk-toggleable__label {cursor: pointer;display: block;width: 100%;margin-bottom: 0;padding: 0.3em;box-sizing: border-box;text-align: center;}#sk-container-id-7 label.sk-toggleable__label-arrow:before {content: \"▸\";float: left;margin-right: 0.25em;color: #696969;}#sk-container-id-7 label.sk-toggleable__label-arrow:hover:before {color: black;}#sk-container-id-7 div.sk-estimator:hover label.sk-toggleable__label-arrow:before {color: black;}#sk-container-id-7 div.sk-toggleable__content {max-height: 0;max-width: 0;overflow: hidden;text-align: left;background-color: #f0f8ff;}#sk-container-id-7 div.sk-toggleable__content pre {margin: 0.2em;color: black;border-radius: 0.25em;background-color: #f0f8ff;}#sk-container-id-7 input.sk-toggleable__control:checked~div.sk-toggleable__content {max-height: 200px;max-width: 100%;overflow: auto;}#sk-container-id-7 input.sk-toggleable__control:checked~label.sk-toggleable__label-arrow:before {content: \"▾\";}#sk-container-id-7 div.sk-estimator input.sk-toggleable__control:checked~label.sk-toggleable__label {background-color: #d4ebff;}#sk-container-id-7 div.sk-label input.sk-toggleable__control:checked~label.sk-toggleable__label {background-color: #d4ebff;}#sk-container-id-7 input.sk-hidden--visually {border: 0;clip: rect(1px 1px 1px 1px);clip: rect(1px, 1px, 1px, 1px);height: 1px;margin: -1px;overflow: hidden;padding: 0;position: absolute;width: 1px;}#sk-container-id-7 div.sk-estimator {font-family: monospace;background-color: #f0f8ff;border: 1px dotted black;border-radius: 0.25em;box-sizing: border-box;margin-bottom: 0.5em;}#sk-container-id-7 div.sk-estimator:hover {background-color: #d4ebff;}#sk-container-id-7 div.sk-parallel-item::after {content: \"\";width: 100%;border-bottom: 1px solid gray;flex-grow: 1;}#sk-container-id-7 div.sk-label:hover label.sk-toggleable__label {background-color: #d4ebff;}#sk-container-id-7 div.sk-serial::before {content: \"\";position: absolute;border-left: 1px solid gray;box-sizing: border-box;top: 0;bottom: 0;left: 50%;z-index: 0;}#sk-container-id-7 div.sk-serial {display: flex;flex-direction: column;align-items: center;background-color: white;padding-right: 0.2em;padding-left: 0.2em;position: relative;}#sk-container-id-7 div.sk-item {position: relative;z-index: 1;}#sk-container-id-7 div.sk-parallel {display: flex;align-items: stretch;justify-content: center;background-color: white;position: relative;}#sk-container-id-7 div.sk-item::before, #sk-container-id-7 div.sk-parallel-item::before {content: \"\";position: absolute;border-left: 1px solid gray;box-sizing: border-box;top: 0;bottom: 0;left: 50%;z-index: -1;}#sk-container-id-7 div.sk-parallel-item {display: flex;flex-direction: column;z-index: 1;position: relative;background-color: white;}#sk-container-id-7 div.sk-parallel-item:first-child::after {align-self: flex-end;width: 50%;}#sk-container-id-7 div.sk-parallel-item:last-child::after {align-self: flex-start;width: 50%;}#sk-container-id-7 div.sk-parallel-item:only-child::after {width: 0;}#sk-container-id-7 div.sk-dashed-wrapped {border: 1px dashed gray;margin: 0 0.4em 0.5em 0.4em;box-sizing: border-box;padding-bottom: 0.4em;background-color: white;}#sk-container-id-7 div.sk-label label {font-family: monospace;font-weight: bold;display: inline-block;line-height: 1.2em;}#sk-container-id-7 div.sk-label-container {text-align: center;}#sk-container-id-7 div.sk-container {/* jupyter's `normalize.less` sets `[hidden] { display: none; }` but bootstrap.min.css set `[hidden] { display: none !important; }` so we also need the `!important` here to be able to override the default hidden behavior on the sphinx rendered scikit-learn.org. See: https://github.com/scikit-learn/scikit-learn/issues/21755 */display: inline-block !important;position: relative;}#sk-container-id-7 div.sk-text-repr-fallback {display: none;}</style><div id=\"sk-container-id-7\" class=\"sk-top-container\"><div class=\"sk-text-repr-fallback\"><pre>XGBClassifier(base_score=None, booster=None, callbacks=None,\n",
       "              colsample_bylevel=None, colsample_bynode=None,\n",
       "              colsample_bytree=None, early_stopping_rounds=None,\n",
       "              enable_categorical=False, eval_metric=None, feature_types=None,\n",
       "              gamma=None, gpu_id=None, grow_policy=None, importance_type=None,\n",
       "              interaction_constraints=None, learning_rate=0.05, max_bin=None,\n",
       "              max_cat_threshold=None, max_cat_to_onehot=None,\n",
       "              max_delta_step=None, max_depth=2, max_leaves=None,\n",
       "              min_child_weight=None, missing=nan, monotone_constraints=None,\n",
       "              n_estimators=250, n_jobs=None, num_parallel_tree=None,\n",
       "              predictor=None, random_state=3, ...)</pre><b>In a Jupyter environment, please rerun this cell to show the HTML representation or trust the notebook. <br />On GitHub, the HTML representation is unable to render, please try loading this page with nbviewer.org.</b></div><div class=\"sk-container\" hidden><div class=\"sk-item\"><div class=\"sk-estimator sk-toggleable\"><input class=\"sk-toggleable__control sk-hidden--visually\" id=\"sk-estimator-id-7\" type=\"checkbox\" checked><label for=\"sk-estimator-id-7\" class=\"sk-toggleable__label sk-toggleable__label-arrow\">XGBClassifier</label><div class=\"sk-toggleable__content\"><pre>XGBClassifier(base_score=None, booster=None, callbacks=None,\n",
       "              colsample_bylevel=None, colsample_bynode=None,\n",
       "              colsample_bytree=None, early_stopping_rounds=None,\n",
       "              enable_categorical=False, eval_metric=None, feature_types=None,\n",
       "              gamma=None, gpu_id=None, grow_policy=None, importance_type=None,\n",
       "              interaction_constraints=None, learning_rate=0.05, max_bin=None,\n",
       "              max_cat_threshold=None, max_cat_to_onehot=None,\n",
       "              max_delta_step=None, max_depth=2, max_leaves=None,\n",
       "              min_child_weight=None, missing=nan, monotone_constraints=None,\n",
       "              n_estimators=250, n_jobs=None, num_parallel_tree=None,\n",
       "              predictor=None, random_state=3, ...)</pre></div></div></div></div></div>"
      ],
      "text/plain": [
       "XGBClassifier(base_score=None, booster=None, callbacks=None,\n",
       "              colsample_bylevel=None, colsample_bynode=None,\n",
       "              colsample_bytree=None, early_stopping_rounds=None,\n",
       "              enable_categorical=False, eval_metric=None, feature_types=None,\n",
       "              gamma=None, gpu_id=None, grow_policy=None, importance_type=None,\n",
       "              interaction_constraints=None, learning_rate=0.05, max_bin=None,\n",
       "              max_cat_threshold=None, max_cat_to_onehot=None,\n",
       "              max_delta_step=None, max_depth=2, max_leaves=None,\n",
       "              min_child_weight=None, missing=nan, monotone_constraints=None,\n",
       "              n_estimators=250, n_jobs=None, num_parallel_tree=None,\n",
       "              predictor=None, random_state=3, ...)"
      ]
     },
     "execution_count": 165,
     "metadata": {},
     "output_type": "execute_result"
    }
   ],
   "source": [
    "xg = XGBClassifier(max_depth=2, learning_rate=0.05, n_estimators=250, objective='binary:logistic', random_state=3)\n",
    "xg.fit(x_treino,y_treino)"
   ]
  },
  {
   "cell_type": "code",
   "execution_count": 166,
   "metadata": {
    "colab": {
     "base_uri": "https://localhost:8080/"
    },
    "executionInfo": {
     "elapsed": 423,
     "status": "ok",
     "timestamp": 1685828799536,
     "user": {
      "displayName": "Luciano Galdino",
      "userId": "10237697037323960148"
     },
     "user_tz": 180
    },
    "id": "QrR1ZLZVQ5K4",
    "outputId": "d2f031c1-2b36-4d0e-e8f0-b007aa75989c"
   },
   "outputs": [
    {
     "data": {
      "text/plain": [
       "array([1, 1, 1, 0, 0, 0, 1, 0, 0, 0, 1, 1, 1, 1, 0, 1, 1, 1, 1, 0, 1, 1,\n",
       "       1, 0, 0, 0, 1, 1, 1, 1, 1, 0, 0, 0, 1, 0, 0, 0, 1, 0, 0, 1, 1, 1,\n",
       "       1, 0, 0, 1, 0, 1, 1, 0, 0, 0, 1, 0, 0, 0, 1, 0, 1, 1, 1, 0, 1, 1,\n",
       "       1, 0, 1, 0, 1, 1, 0, 1, 1, 1, 1, 1, 1, 1, 1, 1, 0, 0, 1, 1, 1, 1,\n",
       "       1, 0, 1, 0, 0, 0, 1, 0, 1, 0, 0, 0, 0, 1, 1, 1, 0, 1, 0, 0, 0, 1,\n",
       "       0, 1, 1, 1, 0, 1, 0, 1, 1, 1, 1, 1, 1, 0, 1, 1, 0, 1, 0, 1, 0, 1,\n",
       "       1, 1, 0, 0, 1, 1, 1, 0, 0, 1, 0, 1, 1, 0, 1, 1, 1, 0, 0, 1, 1, 0,\n",
       "       1, 0, 1, 1, 1, 0, 1, 1, 1, 0, 1, 0, 1, 0, 1, 0, 1, 1, 0, 0, 1, 0,\n",
       "       1, 0, 0, 1, 1, 1, 0, 1, 1, 1, 0, 1, 1, 0, 1, 0, 1, 0, 1, 1, 0, 0,\n",
       "       1, 0, 1, 1, 0, 1, 1, 0, 0, 0, 1, 0, 1, 1, 0, 1, 0, 0, 1, 0, 1, 1,\n",
       "       1, 0, 0, 0, 1, 1, 0, 1, 0, 1, 0, 1, 1, 1, 0, 1, 1, 1, 0, 1, 1, 0,\n",
       "       1, 0, 0, 0, 0, 0, 1, 0, 1, 0, 1, 1, 0, 0, 1, 0, 0, 1, 0, 0, 1, 0,\n",
       "       1, 0, 0, 0, 1, 0, 0, 1, 1, 1, 1, 1])"
      ]
     },
     "execution_count": 166,
     "metadata": {},
     "output_type": "execute_result"
    }
   ],
   "source": [
    "previsoes_xg = xg.predict(x_teste)\n",
    "previsoes_xg"
   ]
  },
  {
   "cell_type": "code",
   "execution_count": 167,
   "metadata": {
    "id": "HSR36D1mRZpz"
   },
   "outputs": [],
   "source": [
    "from sklearn.metrics import accuracy_score, confusion_matrix, classification_report"
   ]
  },
  {
   "cell_type": "code",
   "execution_count": 168,
   "metadata": {
    "colab": {
     "base_uri": "https://localhost:8080/"
    },
    "executionInfo": {
     "elapsed": 7,
     "status": "ok",
     "timestamp": 1685828799536,
     "user": {
      "displayName": "Luciano Galdino",
      "userId": "10237697037323960148"
     },
     "user_tz": 180
    },
    "id": "UxMj0PznRZp0",
    "outputId": "29589b95-e081-42dc-ec2a-f2edd2835aa3"
   },
   "outputs": [
    {
     "name": "stdout",
     "output_type": "stream",
     "text": [
      "Acurácia: 86.59%\n"
     ]
    }
   ],
   "source": [
    "print(\"Acurácia: %.2f%%\" % (accuracy_score(y_teste, previsoes_xg) * 100.0))"
   ]
  },
  {
   "cell_type": "code",
   "execution_count": 169,
   "metadata": {
    "colab": {
     "base_uri": "https://localhost:8080/"
    },
    "executionInfo": {
     "elapsed": 6,
     "status": "ok",
     "timestamp": 1685828799536,
     "user": {
      "displayName": "Luciano Galdino",
      "userId": "10237697037323960148"
     },
     "user_tz": 180
    },
    "id": "5PcyMmFqRZp1",
    "outputId": "52542755-f4f9-45e7-d093-ba5931c8f9dc"
   },
   "outputs": [
    {
     "data": {
      "text/plain": [
       "array([[102,  19],\n",
       "       [ 18, 137]])"
      ]
     },
     "execution_count": 169,
     "metadata": {},
     "output_type": "execute_result"
    }
   ],
   "source": [
    "confusion_matrix(y_teste, previsoes_xg)"
   ]
  },
  {
   "cell_type": "code",
   "execution_count": 170,
   "metadata": {
    "colab": {
     "base_uri": "https://localhost:8080/"
    },
    "executionInfo": {
     "elapsed": 7,
     "status": "ok",
     "timestamp": 1685828799537,
     "user": {
      "displayName": "Luciano Galdino",
      "userId": "10237697037323960148"
     },
     "user_tz": 180
    },
    "id": "fBYjluOzRZp2",
    "outputId": "890bfdba-5e19-4fbf-d1c3-870de18c3891"
   },
   "outputs": [
    {
     "name": "stdout",
     "output_type": "stream",
     "text": [
      "              precision    recall  f1-score   support\n",
      "\n",
      "           0       0.85      0.84      0.85       121\n",
      "           1       0.88      0.88      0.88       155\n",
      "\n",
      "    accuracy                           0.87       276\n",
      "   macro avg       0.86      0.86      0.86       276\n",
      "weighted avg       0.87      0.87      0.87       276\n",
      "\n"
     ]
    }
   ],
   "source": [
    "print(classification_report(y_teste, previsoes_xg))"
   ]
  },
  {
   "cell_type": "markdown",
   "metadata": {
    "id": "VLAUCC_t2dkX"
   },
   "source": [
    "**Análise dados de treino**"
   ]
  },
  {
   "cell_type": "code",
   "execution_count": 171,
   "metadata": {
    "colab": {
     "base_uri": "https://localhost:8080/"
    },
    "executionInfo": {
     "elapsed": 6,
     "status": "ok",
     "timestamp": 1685828799537,
     "user": {
      "displayName": "Luciano Galdino",
      "userId": "10237697037323960148"
     },
     "user_tz": 180
    },
    "id": "K5oak1Jy2dkY",
    "outputId": "447747c1-1669-443e-e3be-1cb76e84ad71"
   },
   "outputs": [
    {
     "data": {
      "text/plain": [
       "array([1, 0, 1, 1, 1, 1, 0, 0, 0, 0, 1, 0, 1, 1, 1, 0, 0, 0, 0, 1, 0, 1,\n",
       "       1, 1, 1, 0, 0, 1, 1, 1, 1, 0, 1, 1, 0, 0, 1, 1, 0, 1, 0, 1, 0, 0,\n",
       "       1, 1, 0, 1, 1, 1, 0, 0, 1, 0, 1, 0, 1, 0, 1, 0, 0, 0, 1, 0, 1, 1,\n",
       "       0, 1, 1, 0, 0, 1, 1, 1, 0, 0, 1, 1, 1, 1, 1, 1, 1, 1, 0, 1, 1, 1,\n",
       "       1, 1, 0, 0, 0, 0, 1, 1, 1, 1, 1, 1, 1, 1, 0, 1, 1, 1, 1, 0, 1, 1,\n",
       "       0, 0, 1, 0, 1, 0, 1, 0, 1, 0, 0, 0, 0, 1, 0, 1, 1, 0, 1, 1, 1, 0,\n",
       "       1, 1, 0, 0, 1, 0, 1, 1, 0, 1, 1, 1, 1, 1, 0, 0, 0, 1, 1, 0, 1, 0,\n",
       "       1, 0, 1, 1, 1, 0, 1, 0, 0, 0, 1, 0, 1, 0, 0, 0, 0, 1, 1, 0, 1, 0,\n",
       "       0, 1, 1, 0, 0, 0, 0, 0, 0, 1, 1, 1, 1, 1, 0, 0, 1, 0, 0, 1, 1, 1,\n",
       "       1, 1, 0, 0, 0, 1, 1, 1, 1, 1, 0, 0, 1, 0, 1, 1, 1, 1, 1, 0, 0, 1,\n",
       "       1, 0, 0, 1, 1, 1, 1, 1, 1, 1, 1, 1, 0, 1, 1, 0, 1, 0, 1, 0, 1, 0,\n",
       "       1, 1, 0, 1, 1, 1, 1, 1, 1, 1, 0, 0, 0, 0, 0, 0, 0, 0, 0, 0, 1, 0,\n",
       "       1, 0, 1, 1, 1, 0, 1, 1, 0, 0, 0, 1, 1, 0, 0, 0, 1, 0, 0, 0, 1, 1,\n",
       "       1, 1, 1, 1, 1, 0, 1, 1, 0, 1, 0, 1, 0, 1, 1, 0, 0, 1, 0, 0, 1, 1,\n",
       "       1, 0, 1, 0, 1, 0, 1, 0, 1, 1, 1, 0, 1, 1, 1, 1, 0, 1, 1, 1, 1, 0,\n",
       "       0, 0, 1, 0, 0, 0, 1, 1, 0, 1, 1, 1, 1, 1, 1, 0, 1, 1, 0, 1, 0, 1,\n",
       "       0, 0, 0, 1, 0, 1, 1, 1, 0, 1, 0, 1, 1, 0, 0, 0, 0, 0, 1, 1, 0, 1,\n",
       "       0, 1, 1, 1, 0, 1, 1, 1, 0, 1, 0, 1, 0, 0, 1, 1, 0, 0, 1, 1, 1, 1,\n",
       "       0, 0, 0, 1, 1, 1, 1, 0, 1, 1, 1, 1, 1, 0, 0, 1, 0, 1, 1, 1, 0, 0,\n",
       "       0, 1, 1, 0, 0, 1, 1, 0, 1, 1, 0, 0, 0, 1, 1, 0, 1, 1, 1, 1, 1, 1,\n",
       "       0, 0, 1, 1, 0, 1, 0, 1, 0, 0, 1, 0, 1, 1, 1, 1, 0, 0, 0, 1, 0, 1,\n",
       "       1, 1, 1, 1, 1, 0, 1, 0, 1, 1, 1, 1, 1, 1, 1, 0, 0, 0, 1, 0, 0, 0,\n",
       "       0, 0, 1, 0, 1, 1, 0, 0, 0, 1, 1, 0, 0, 1, 1, 0, 1, 1, 0, 0, 1, 1,\n",
       "       1, 1, 0, 0, 1, 1, 1, 1, 0, 1, 0, 0, 1, 0, 1, 1, 1, 1, 0, 1, 1, 0,\n",
       "       1, 0, 1, 0, 1, 0, 1, 0, 1, 0, 1, 1, 0, 1, 1, 1, 1, 0, 0, 1, 1, 0,\n",
       "       0, 1, 1, 0, 1, 0, 1, 1, 1, 0, 1, 1, 1, 1, 0, 1, 1, 0, 1, 1, 0, 1,\n",
       "       1, 1, 0, 0, 1, 0, 0, 0, 0, 0, 0, 1, 1, 1, 1, 0, 1, 0, 0, 0, 0, 0,\n",
       "       0, 0, 1, 0, 0, 0, 0, 0, 0, 0, 1, 0, 1, 1, 1, 1, 1, 1, 1, 1, 0, 1,\n",
       "       1, 1, 0, 1, 1, 0, 1, 1, 1, 1, 1, 1, 0, 1, 1, 0, 0, 1, 1, 0, 1, 0,\n",
       "       0, 0, 1])"
      ]
     },
     "execution_count": 171,
     "metadata": {},
     "output_type": "execute_result"
    }
   ],
   "source": [
    "previsoes_treino = xg.predict(x_treino)\n",
    "previsoes_treino"
   ]
  },
  {
   "cell_type": "code",
   "execution_count": 172,
   "metadata": {
    "colab": {
     "base_uri": "https://localhost:8080/"
    },
    "executionInfo": {
     "elapsed": 5,
     "status": "ok",
     "timestamp": 1685828799537,
     "user": {
      "displayName": "Luciano Galdino",
      "userId": "10237697037323960148"
     },
     "user_tz": 180
    },
    "id": "70k-raF62dkZ",
    "outputId": "c16f734b-4b7e-418f-a1bc-e90cb87e81f5"
   },
   "outputs": [
    {
     "data": {
      "text/plain": [
       "0.9157566302652106"
      ]
     },
     "execution_count": 172,
     "metadata": {},
     "output_type": "execute_result"
    }
   ],
   "source": [
    "accuracy_score(y_treino, previsoes_treino)"
   ]
  },
  {
   "cell_type": "code",
   "execution_count": 173,
   "metadata": {
    "colab": {
     "base_uri": "https://localhost:8080/"
    },
    "executionInfo": {
     "elapsed": 5,
     "status": "ok",
     "timestamp": 1685828799537,
     "user": {
      "displayName": "Luciano Galdino",
      "userId": "10237697037323960148"
     },
     "user_tz": 180
    },
    "id": "Hy7uFw9E2dkZ",
    "outputId": "3cb4435f-8809-43c3-8af5-35ee4fc8623e"
   },
   "outputs": [
    {
     "data": {
      "text/plain": [
       "array([[254,  35],\n",
       "       [ 19, 333]])"
      ]
     },
     "execution_count": 173,
     "metadata": {},
     "output_type": "execute_result"
    }
   ],
   "source": [
    "confusion_matrix(y_treino, previsoes_treino)"
   ]
  },
  {
   "cell_type": "markdown",
   "metadata": {
    "id": "gHvG_uWZLARo"
   },
   "source": [
    "### **Validação Cruzada**"
   ]
  },
  {
   "cell_type": "code",
   "execution_count": 174,
   "metadata": {
    "id": "l3RZmFL_LARp"
   },
   "outputs": [],
   "source": [
    "from sklearn.model_selection import KFold\n",
    "from sklearn.model_selection import cross_val_score"
   ]
  },
  {
   "cell_type": "code",
   "execution_count": 175,
   "metadata": {
    "id": "BKmF7defLARq"
   },
   "outputs": [],
   "source": [
    "# Separando os dados em folds\n",
    "kfold = KFold(n_splits = 30, shuffle=True, random_state = 5)"
   ]
  },
  {
   "cell_type": "code",
   "execution_count": 176,
   "metadata": {
    "colab": {
     "base_uri": "https://localhost:8080/"
    },
    "executionInfo": {
     "elapsed": 3594,
     "status": "ok",
     "timestamp": 1685830159736,
     "user": {
      "displayName": "Luciano Galdino",
      "userId": "10237697037323960148"
     },
     "user_tz": 180
    },
    "id": "1h7FUmsWLARr",
    "outputId": "c7f21814-3114-4724-f8e5-f7f4766440ae"
   },
   "outputs": [
    {
     "name": "stdout",
     "output_type": "stream",
     "text": [
      "Acurácia Média: 86.91%\n"
     ]
    }
   ],
   "source": [
    "# Criando o modelo\n",
    "modelo = XGBClassifier(max_depth=2, learning_rate=0.05, n_estimators=250, objective='binary:logistic', random_state=3)\n",
    "resultado = cross_val_score(modelo, previsores2, alvo, cv = kfold)\n",
    "\n",
    "# Usamos a média e o desvio padrão\n",
    "print(\"Acurácia Média: %.2f%%\" % (resultado.mean() * 100.0))"
   ]
  },
  {
   "cell_type": "markdown",
   "metadata": {
    "id": "gkZCAe-OR3rW"
   },
   "source": [
    "Naive Bayes = 84,78% (treino e teste) - 234 acertos e 85,17% (validação cruzada) : previsores3_esc\n",
    "\n",
    "SVM = 86,23% - 238 acertos e 85,72% (validação cruzada) : previsores3-esc - SVC(kernel='rbf', random_state=1, C = 2)\n",
    "\n",
    "Regressão logística = 86,23% - 238 acertos e 85,83% (validação cruzada) : previsores3_esc - LogisticRegression(random_state=1, max_iter=600, penalty=\"l2\", tol=0.0001, C=1,solver=\"lbfgs\")\n",
    "\n",
    "KNN = 84,06% - 232 acertos e 85,84% (validação cruzada) : previsores3_esc ou previsores_esc - KNeighborsClassifier(n_neighbors=7, metric='minkowski', p = 1)\n",
    "\n",
    "Árvore de decisão = 83,7% (treino e teste) - 231 acertos e 83,32% (validação cruzada): previsores3_esc - DecisionTreeClassifier(criterion='entropy', random_state = 0, max_depth=3)\n",
    "\n",
    "Random Forest = 86,59% - 239 acertos e 85,92% (validação cruzada) : previsores - RandomForestClassifier(n_estimators=150, criterion='entropy', random_state = 0, max_depth=4)\n",
    "\n",
    "XGboost = 87,68% - 242 acertos e 87,13% (validação cruzada) : previsores - XGBClassifier(max_depth=2, learning_rate=0.05, n_estimators=250, objective='binary:logistic', random_state=3)"
   ]
  },
  {
   "cell_type": "markdown",
   "metadata": {
    "id": "sPZLUYzCqTWL"
   },
   "source": [
    "# **LIGHTGBM**"
   ]
  },
  {
   "cell_type": "markdown",
   "metadata": {
    "id": "LLop9X5OVOfc"
   },
   "source": [
    "https://lightgbm.readthedocs.io/en/latest/pythonapi/lightgbm.train.html"
   ]
  },
  {
   "cell_type": "code",
   "execution_count": 177,
   "metadata": {
    "colab": {
     "base_uri": "https://localhost:8080/"
    },
    "executionInfo": {
     "elapsed": 4064,
     "status": "ok",
     "timestamp": 1662477561484,
     "user": {
      "displayName": "Luciano Galdino",
      "userId": "10237697037323960148"
     },
     "user_tz": 180
    },
    "id": "r2fYJevzt58X",
    "outputId": "fa65acd1-d56f-4c5e-9502-0394090b56a3"
   },
   "outputs": [
    {
     "name": "stdout",
     "output_type": "stream",
     "text": [
      "Requirement already satisfied: lightgbm in /home/mrzebodexxsz/anaconda3/lib/python3.11/site-packages (4.3.0)\n",
      "Requirement already satisfied: numpy in /home/mrzebodexxsz/anaconda3/lib/python3.11/site-packages (from lightgbm) (1.26.4)\n",
      "Requirement already satisfied: scipy in /home/mrzebodexxsz/anaconda3/lib/python3.11/site-packages (from lightgbm) (1.11.4)\n"
     ]
    }
   ],
   "source": [
    "# Instalação do Algoritmo\n",
    "!pip install lightgbm"
   ]
  },
  {
   "cell_type": "code",
   "execution_count": 178,
   "metadata": {
    "id": "HyJzU46uq9mQ"
   },
   "outputs": [],
   "source": [
    "import lightgbm as lgb"
   ]
  },
  {
   "cell_type": "code",
   "execution_count": 179,
   "metadata": {
    "id": "D7GfTX-TxWh2"
   },
   "outputs": [],
   "source": [
    "# Dataset para treino\n",
    "dataset = lgb.Dataset(x_treino,label=y_treino)"
   ]
  },
  {
   "cell_type": "markdown",
   "metadata": {
    "id": "9sYH7x7pjczh"
   },
   "source": [
    "**Hiperparâmetros**\n",
    "\n",
    "**Controle de ajuste**\n",
    "\n",
    "num_leaves : define o número de folhas a serem formadas em uma árvore. Não tem uma relação direta entre num_leaves e max_depth e, portanto, os dois não devem estar vinculados um ao outro.\n",
    "\n",
    "max_depth : especifica a profundidade máxima ou nível até o qual a árvore pode crescer.\n",
    "\n",
    "**Controle de velocidade**\n",
    "\n",
    "learning_rate: taxa de aprendizagem, determina o impacto de cada árvore no resultado final.\n",
    "\n",
    "max_bin : O valor menor de max_bin reduz muito tempo de procesamento, pois agrupa os valores do recurso em caixas discretas, o que é computacionalmente mais barato.\n",
    "\n",
    "**Controle de precisão**\n",
    "\n",
    "num_leaves : valor alto produz árvores mais profundas com maior precisão, mas leva ao overfitting.\n",
    "\n",
    "max_bin : valores altos tem efeito semelhante ao causado pelo aumento do valor de num_leaves e também torna mais lento o procedimento de treinamento."
   ]
  },
  {
   "cell_type": "code",
   "execution_count": 180,
   "metadata": {
    "id": "eRYtywqRxnRM"
   },
   "outputs": [],
   "source": [
    "# Parâmetros\n",
    "parametros = {'num_leaves':250, # número de folhas\n",
    "              'objective':'binary', # classificação Binária\n",
    "              'max_depth':2,\n",
    "              'learning_rate':.05,\n",
    "              'max_bin':100}"
   ]
  },
  {
   "cell_type": "code",
   "execution_count": 181,
   "metadata": {
    "id": "s-75IteevPFt"
   },
   "outputs": [
    {
     "name": "stdout",
     "output_type": "stream",
     "text": [
      "[LightGBM] [Info] Number of positive: 352, number of negative: 289\n",
      "[LightGBM] [Info] Auto-choosing row-wise multi-threading, the overhead of testing was 0.000551 seconds.\n",
      "You can set `force_row_wise=true` to remove the overhead.\n",
      "And if memory is not enough, you can set `force_col_wise=true`.\n",
      "[LightGBM] [Info] Total Bins 354\n",
      "[LightGBM] [Info] Number of data points in the train set: 641, number of used features: 20\n",
      "[LightGBM] [Info] [binary:BoostFromScore]: pavg=0.549142 -> initscore=0.197204\n",
      "[LightGBM] [Info] Start training from score 0.197204\n",
      "[LightGBM] [Warning] No further splits with positive gain, best gain: -inf\n",
      "[LightGBM] [Warning] No further splits with positive gain, best gain: -inf\n",
      "[LightGBM] [Warning] No further splits with positive gain, best gain: -inf\n",
      "[LightGBM] [Warning] No further splits with positive gain, best gain: -inf\n",
      "[LightGBM] [Warning] No further splits with positive gain, best gain: -inf\n",
      "[LightGBM] [Warning] No further splits with positive gain, best gain: -inf\n",
      "[LightGBM] [Warning] No further splits with positive gain, best gain: -inf\n"
     ]
    }
   ],
   "source": [
    "lgbm=lgb.train(parametros,dataset,num_boost_round=200)"
   ]
  },
  {
   "cell_type": "code",
   "execution_count": 182,
   "metadata": {
    "colab": {
     "base_uri": "https://localhost:8080/"
    },
    "executionInfo": {
     "elapsed": 256,
     "status": "ok",
     "timestamp": 1662477811733,
     "user": {
      "displayName": "Luciano Galdino",
      "userId": "10237697037323960148"
     },
     "user_tz": 180
    },
    "id": "w2eVSPh7XeQe",
    "outputId": "fbec8a9e-117f-4dd8-a52c-2b96d3faa34a"
   },
   "outputs": [
    {
     "name": "stdout",
     "output_type": "stream",
     "text": [
      "[LightGBM] [Info] Number of positive: 352, number of negative: 289\n",
      "[LightGBM] [Info] Auto-choosing col-wise multi-threading, the overhead of testing was 0.000156 seconds.\n",
      "You can set `force_col_wise=true` to remove the overhead.\n",
      "[LightGBM] [Info] Total Bins 354\n",
      "[LightGBM] [Info] Number of data points in the train set: 641, number of used features: 20\n",
      "[LightGBM] [Info] [binary:BoostFromScore]: pavg=0.549142 -> initscore=0.197204\n",
      "[LightGBM] [Info] Start training from score 0.197204\n"
     ]
    },
    {
     "data": {
      "text/plain": [
       "datetime.timedelta(microseconds=48238)"
      ]
     },
     "execution_count": 182,
     "metadata": {},
     "output_type": "execute_result"
    }
   ],
   "source": [
    "# Marcação do tempo de execução\n",
    "from datetime import datetime\n",
    "inicio=datetime.now()\n",
    "lgbm=lgb.train(parametros,dataset)\n",
    "fim=datetime.now()\n",
    "\n",
    "tempo = fim - inicio\n",
    "tempo"
   ]
  },
  {
   "cell_type": "code",
   "execution_count": 183,
   "metadata": {
    "colab": {
     "base_uri": "https://localhost:8080/"
    },
    "executionInfo": {
     "elapsed": 257,
     "status": "ok",
     "timestamp": 1662477814289,
     "user": {
      "displayName": "Luciano Galdino",
      "userId": "10237697037323960148"
     },
     "user_tz": 180
    },
    "id": "FbY1sQrzvPFv",
    "outputId": "e28c998b-6f00-49a1-b6fd-57310686c714"
   },
   "outputs": [
    {
     "data": {
      "text/plain": [
       "array([0.90175746, 0.83817337, 0.94694458, 0.05434834, 0.11675028,\n",
       "       0.33530127, 0.48197451, 0.03976203, 0.06437363, 0.12811183,\n",
       "       0.90963356, 0.85004913, 0.94694458, 0.93188913, 0.36973644,\n",
       "       0.92369933, 0.61880732, 0.90967693, 0.90132757, 0.19846475,\n",
       "       0.92203706, 0.92855903, 0.56910873, 0.2522068 , 0.0702096 ,\n",
       "       0.03882624, 0.91245519, 0.95478377, 0.71679144, 0.63035861,\n",
       "       0.92603784, 0.06838684, 0.07083338, 0.05262481, 0.72138976,\n",
       "       0.15805813, 0.17278162, 0.04533004, 0.63035861, 0.02624316,\n",
       "       0.05246731, 0.89520297, 0.90705122, 0.93124282, 0.9020616 ,\n",
       "       0.09379078, 0.02595684, 0.90383172, 0.3974846 , 0.93041393,\n",
       "       0.89260614, 0.11384202, 0.10663079, 0.29981942, 0.94447778,\n",
       "       0.14652545, 0.07461497, 0.12110524, 0.50731251, 0.13900679,\n",
       "       0.94438887, 0.86717642, 0.62244727, 0.12886705, 0.94278098,\n",
       "       0.61362594, 0.96120556, 0.32027481, 0.93173331, 0.08854871,\n",
       "       0.89444302, 0.90444046, 0.31301452, 0.94447778, 0.88652843,\n",
       "       0.90322609, 0.66005028, 0.96452123, 0.89087511, 0.88094966,\n",
       "       0.86294731, 0.85939207, 0.10424097, 0.11664633, 0.88961343,\n",
       "       0.75449821, 0.86287839, 0.93838916, 0.91326213, 0.19627329,\n",
       "       0.90448326, 0.33237909, 0.0471    , 0.34429658, 0.55332542,\n",
       "       0.12745784, 0.87040214, 0.06932913, 0.09821682, 0.13721864,\n",
       "       0.1713494 , 0.74319333, 0.95088211, 0.8745673 , 0.24237205,\n",
       "       0.92176267, 0.29705247, 0.05350993, 0.22804649, 0.59820263,\n",
       "       0.4279503 , 0.94173753, 0.9431777 , 0.90967693, 0.28845149,\n",
       "       0.94053278, 0.48197451, 0.9397637 , 0.94572943, 0.87894625,\n",
       "       0.9180202 , 0.97452858, 0.95910746, 0.11949416, 0.58874091,\n",
       "       0.66614716, 0.26360389, 0.64078462, 0.04533004, 0.9431777 ,\n",
       "       0.30085019, 0.96531341, 0.8455391 , 0.82333368, 0.27058185,\n",
       "       0.55047072, 0.56328855, 0.94435882, 0.79731638, 0.08318889,\n",
       "       0.22375157, 0.94138291, 0.04172109, 0.88026668, 0.5247084 ,\n",
       "       0.05256545, 0.89231978, 0.53636518, 0.5216166 , 0.21276134,\n",
       "       0.37926282, 0.895517  , 0.68525917, 0.06930979, 0.89936125,\n",
       "       0.04641191, 0.81591294, 0.68573757, 0.80044859, 0.05246731,\n",
       "       0.96086433, 0.53882338, 0.94283882, 0.43194284, 0.89260614,\n",
       "       0.18605153, 0.88413544, 0.03058867, 0.86686271, 0.35780176,\n",
       "       0.81558398, 0.7668874 , 0.04002302, 0.22804649, 0.75193812,\n",
       "       0.49278787, 0.67964707, 0.3094732 , 0.1227244 , 0.63546296,\n",
       "       0.94447778, 0.78389591, 0.12431895, 0.91563628, 0.93404959,\n",
       "       0.92998952, 0.10778301, 0.88413544, 0.93806074, 0.13196866,\n",
       "       0.5216166 , 0.13813426, 0.93343098, 0.49113142, 0.92231324,\n",
       "       0.53766785, 0.26760635, 0.03882624, 0.78312007, 0.07598646,\n",
       "       0.93709355, 0.87197266, 0.22624551, 0.93948219, 0.95383916,\n",
       "       0.30183044, 0.053559  , 0.06279869, 0.95082882, 0.2522068 ,\n",
       "       0.8840495 , 0.95431967, 0.02695876, 0.53851285, 0.10180147,\n",
       "       0.07271526, 0.91730353, 0.09726176, 0.81938569, 0.80631844,\n",
       "       0.90932191, 0.13828727, 0.41549531, 0.60102563, 0.8976988 ,\n",
       "       0.8875136 , 0.07421989, 0.88965202, 0.18980885, 0.84869596,\n",
       "       0.04098367, 0.94145077, 0.73699751, 0.92670173, 0.07973956,\n",
       "       0.90665538, 0.69762501, 0.82472836, 0.05587726, 0.93098607,\n",
       "       0.94694458, 0.02595684, 0.90932191, 0.19016465, 0.22447081,\n",
       "       0.06714255, 0.19095056, 0.27373582, 0.91708883, 0.07841518,\n",
       "       0.95478377, 0.04704364, 0.72527461, 0.32987994, 0.03143502,\n",
       "       0.10440514, 0.95556152, 0.09359995, 0.08919562, 0.91280631,\n",
       "       0.10879222, 0.52130938, 0.51446776, 0.07154032, 0.40110815,\n",
       "       0.33237909, 0.03976203, 0.06465367, 0.93948707, 0.0623504 ,\n",
       "       0.03588054, 0.87611858, 0.91439129, 0.94202402, 0.86863114,\n",
       "       0.86717642])"
      ]
     },
     "execution_count": 183,
     "metadata": {},
     "output_type": "execute_result"
    }
   ],
   "source": [
    "previsoes_lgbm = lgbm.predict(x_teste)\n",
    "previsoes_lgbm"
   ]
  },
  {
   "cell_type": "code",
   "execution_count": 184,
   "metadata": {
    "colab": {
     "base_uri": "https://localhost:8080/"
    },
    "executionInfo": {
     "elapsed": 259,
     "status": "ok",
     "timestamp": 1662477817927,
     "user": {
      "displayName": "Luciano Galdino",
      "userId": "10237697037323960148"
     },
     "user_tz": 180
    },
    "id": "eQ-eOobHzgdY",
    "outputId": "a47a2781-9979-47b2-ca6f-228d907cb1ba"
   },
   "outputs": [
    {
     "data": {
      "text/plain": [
       "(276,)"
      ]
     },
     "execution_count": 184,
     "metadata": {},
     "output_type": "execute_result"
    }
   ],
   "source": [
    "previsoes_lgbm.shape"
   ]
  },
  {
   "cell_type": "code",
   "execution_count": 185,
   "metadata": {
    "id": "bCK5052RyreS"
   },
   "outputs": [],
   "source": [
    "# Quando for menor que 5 considera 0 e quando for maior ou igual a 5 considera 1\n",
    "for i in range(0, 276):\n",
    "    if previsoes_lgbm[i] >= .5:\n",
    "       previsoes_lgbm[i] = 1\n",
    "    else:\n",
    "       previsoes_lgbm[i] = 0"
   ]
  },
  {
   "cell_type": "code",
   "execution_count": 186,
   "metadata": {
    "colab": {
     "base_uri": "https://localhost:8080/"
    },
    "executionInfo": {
     "elapsed": 351,
     "status": "ok",
     "timestamp": 1662477822908,
     "user": {
      "displayName": "Luciano Galdino",
      "userId": "10237697037323960148"
     },
     "user_tz": 180
    },
    "id": "X3kyhhXJzmtG",
    "outputId": "ddc6ac3d-8b08-41e4-9eab-ca9ebdc2bc93"
   },
   "outputs": [
    {
     "data": {
      "text/plain": [
       "array([1., 1., 1., 0., 0., 0., 0., 0., 0., 0., 1., 1., 1., 1., 0., 1., 1.,\n",
       "       1., 1., 0., 1., 1., 1., 0., 0., 0., 1., 1., 1., 1., 1., 0., 0., 0.,\n",
       "       1., 0., 0., 0., 1., 0., 0., 1., 1., 1., 1., 0., 0., 1., 0., 1., 1.,\n",
       "       0., 0., 0., 1., 0., 0., 0., 1., 0., 1., 1., 1., 0., 1., 1., 1., 0.,\n",
       "       1., 0., 1., 1., 0., 1., 1., 1., 1., 1., 1., 1., 1., 1., 0., 0., 1.,\n",
       "       1., 1., 1., 1., 0., 1., 0., 0., 0., 1., 0., 1., 0., 0., 0., 0., 1.,\n",
       "       1., 1., 0., 1., 0., 0., 0., 1., 0., 1., 1., 1., 0., 1., 0., 1., 1.,\n",
       "       1., 1., 1., 1., 0., 1., 1., 0., 1., 0., 1., 0., 1., 1., 1., 0., 1.,\n",
       "       1., 1., 1., 0., 0., 1., 0., 1., 1., 0., 1., 1., 1., 0., 0., 1., 1.,\n",
       "       0., 1., 0., 1., 1., 1., 0., 1., 1., 1., 0., 1., 0., 1., 0., 1., 0.,\n",
       "       1., 1., 0., 0., 1., 0., 1., 0., 0., 1., 1., 1., 0., 1., 1., 1., 0.,\n",
       "       1., 1., 0., 1., 0., 1., 0., 1., 1., 0., 0., 1., 0., 1., 1., 0., 1.,\n",
       "       1., 0., 0., 0., 1., 0., 1., 1., 0., 1., 0., 0., 1., 0., 1., 1., 1.,\n",
       "       0., 0., 1., 1., 1., 0., 1., 0., 1., 0., 1., 1., 1., 0., 1., 1., 1.,\n",
       "       0., 1., 1., 0., 1., 0., 0., 0., 0., 0., 1., 0., 1., 0., 1., 0., 0.,\n",
       "       0., 1., 0., 0., 1., 0., 1., 1., 0., 0., 0., 0., 0., 1., 0., 0., 1.,\n",
       "       1., 1., 1., 1.])"
      ]
     },
     "execution_count": 186,
     "metadata": {},
     "output_type": "execute_result"
    }
   ],
   "source": [
    "previsoes_lgbm"
   ]
  },
  {
   "cell_type": "code",
   "execution_count": 187,
   "metadata": {
    "colab": {
     "base_uri": "https://localhost:8080/"
    },
    "executionInfo": {
     "elapsed": 246,
     "status": "ok",
     "timestamp": 1662477825619,
     "user": {
      "displayName": "Luciano Galdino",
      "userId": "10237697037323960148"
     },
     "user_tz": 180
    },
    "id": "wvItoNPgvPFw",
    "outputId": "cb607575-1c1d-45c4-b0da-55b064d7f9fc"
   },
   "outputs": [
    {
     "data": {
      "text/plain": [
       "array([1, 0, 1, 0, 0, 0, 0, 0, 0, 0, 1, 0, 1, 1, 0, 1, 1, 1, 1, 0, 1, 1,\n",
       "       1, 0, 0, 0, 1, 1, 0, 0, 1, 0, 0, 0, 1, 0, 1, 0, 1, 0, 0, 1, 1, 1,\n",
       "       1, 0, 0, 1, 1, 1, 1, 0, 0, 1, 1, 0, 0, 0, 1, 0, 1, 1, 1, 0, 1, 1,\n",
       "       1, 0, 1, 0, 1, 1, 1, 1, 1, 1, 1, 1, 1, 0, 0, 1, 0, 0, 1, 1, 0, 1,\n",
       "       1, 0, 1, 0, 0, 1, 1, 0, 1, 0, 0, 0, 0, 1, 1, 1, 0, 1, 0, 0, 0, 1,\n",
       "       0, 1, 1, 1, 0, 1, 1, 1, 1, 1, 1, 1, 1, 0, 0, 1, 0, 1, 0, 1, 0, 1,\n",
       "       0, 1, 0, 0, 0, 1, 1, 0, 1, 1, 0, 1, 0, 0, 1, 1, 1, 0, 1, 1, 0, 0,\n",
       "       0, 0, 1, 1, 1, 0, 1, 1, 1, 0, 1, 0, 1, 0, 1, 0, 1, 1, 0, 0, 1, 0,\n",
       "       0, 1, 0, 1, 1, 1, 0, 1, 1, 1, 0, 1, 1, 0, 0, 0, 1, 1, 1, 1, 1, 0,\n",
       "       1, 0, 1, 1, 0, 1, 1, 0, 0, 0, 1, 0, 1, 1, 0, 1, 0, 1, 1, 1, 1, 1,\n",
       "       1, 1, 0, 0, 0, 1, 0, 1, 1, 1, 0, 1, 0, 1, 1, 1, 1, 1, 0, 1, 1, 0,\n",
       "       1, 0, 1, 0, 0, 0, 1, 0, 1, 0, 1, 1, 0, 0, 1, 0, 0, 1, 0, 1, 1, 0,\n",
       "       0, 0, 0, 0, 1, 0, 0, 1, 1, 1, 1, 1])"
      ]
     },
     "execution_count": 187,
     "metadata": {},
     "output_type": "execute_result"
    }
   ],
   "source": [
    "y_teste"
   ]
  },
  {
   "cell_type": "code",
   "execution_count": 188,
   "metadata": {
    "id": "7zmmlXg00NgO"
   },
   "outputs": [],
   "source": [
    "from sklearn.metrics import accuracy_score, confusion_matrix, classification_report"
   ]
  },
  {
   "cell_type": "code",
   "execution_count": 189,
   "metadata": {
    "colab": {
     "base_uri": "https://localhost:8080/"
    },
    "executionInfo": {
     "elapsed": 3,
     "status": "ok",
     "timestamp": 1662477828140,
     "user": {
      "displayName": "Luciano Galdino",
      "userId": "10237697037323960148"
     },
     "user_tz": 180
    },
    "id": "7jtEMCEd0NgP",
    "outputId": "cae83075-c073-43c9-aa66-4b0879352168"
   },
   "outputs": [
    {
     "name": "stdout",
     "output_type": "stream",
     "text": [
      "Acurácia: 86.59%\n"
     ]
    }
   ],
   "source": [
    "print(\"Acurácia: %.2f%%\" % (accuracy_score(y_teste, previsoes_lgbm) * 100.0))"
   ]
  },
  {
   "cell_type": "code",
   "execution_count": 190,
   "metadata": {
    "colab": {
     "base_uri": "https://localhost:8080/"
    },
    "executionInfo": {
     "elapsed": 261,
     "status": "ok",
     "timestamp": 1662477830165,
     "user": {
      "displayName": "Luciano Galdino",
      "userId": "10237697037323960148"
     },
     "user_tz": 180
    },
    "id": "Vi92nyDd0NgQ",
    "outputId": "6fef1a2f-ff41-4ded-b096-9ad29cc70b5f"
   },
   "outputs": [
    {
     "data": {
      "text/plain": [
       "array([[102,  19],\n",
       "       [ 18, 137]])"
      ]
     },
     "execution_count": 190,
     "metadata": {},
     "output_type": "execute_result"
    }
   ],
   "source": [
    "confusion_matrix(y_teste, previsoes_lgbm)"
   ]
  },
  {
   "cell_type": "markdown",
   "metadata": {
    "id": "u3pNMaVs0NgR"
   },
   "source": [
    "**Análise dados de treino**"
   ]
  },
  {
   "cell_type": "code",
   "execution_count": 191,
   "metadata": {
    "id": "fS-C8nIw0NgR"
   },
   "outputs": [
    {
     "data": {
      "text/plain": [
       "array([0.8875558 , 0.59615942, 0.93200136, 0.82382086, 0.72192045,\n",
       "       0.67580338, 0.13674221, 0.02898807, 0.07820554, 0.07348693,\n",
       "       0.88903857, 0.0528394 , 0.83827152, 0.78519598, 0.91183363,\n",
       "       0.03143502, 0.03588054, 0.22804649, 0.30122937, 0.93188913,\n",
       "       0.34530554, 0.75378022, 0.88903857, 0.85478605, 0.79315484,\n",
       "       0.08715263, 0.20579516, 0.88326727, 0.66116336, 0.91212837,\n",
       "       0.94668485, 0.02045933, 0.88681674, 0.94730222, 0.05532844,\n",
       "       0.2522068 , 0.78166641, 0.63035861, 0.03881921, 0.880088  ,\n",
       "       0.15770996, 0.91607697, 0.07108912, 0.08919562, 0.93806074,\n",
       "       0.94734273, 0.08862078, 0.92583744, 0.93808769, 0.8514866 ,\n",
       "       0.43364185, 0.09349884, 0.77163886, 0.36990528, 0.93149559,\n",
       "       0.30085019, 0.8793255 , 0.06169743, 0.80679194, 0.06714255,\n",
       "       0.04002302, 0.06488874, 0.48972726, 0.02898807, 0.93101123,\n",
       "       0.86566569, 0.09353344, 0.67571328, 0.96531341, 0.02286362,\n",
       "       0.56835861, 0.89189851, 0.94932541, 0.96074652, 0.04002302,\n",
       "       0.03588054, 0.56013555, 0.94447778, 0.67944533, 0.93505375,\n",
       "       0.76045164, 0.96247488, 0.94008258, 0.94278098, 0.08996402,\n",
       "       0.92369933, 0.93294712, 0.64461399, 0.95649471, 0.95601358,\n",
       "       0.11100045, 0.59412897, 0.058495  , 0.19025048, 0.91530918,\n",
       "       0.8214601 , 0.79315484, 0.88413544, 0.88418296, 0.93586194,\n",
       "       0.74258428, 0.75658882, 0.21343133, 0.54013473, 0.93806074,\n",
       "       0.90281276, 0.86412646, 0.14700484, 0.46201744, 0.90072606,\n",
       "       0.03408555, 0.15376158, 0.93618108, 0.17383643, 0.82382086,\n",
       "       0.10866096, 0.82107848, 0.06566773, 0.57162804, 0.34934529,\n",
       "       0.11515228, 0.03588054, 0.02045933, 0.72242131, 0.44668684,\n",
       "       0.96531341, 0.442704  , 0.0623504 , 0.83512692, 0.86568269,\n",
       "       0.85347291, 0.03588054, 0.5532754 , 0.73173859, 0.02898807,\n",
       "       0.38391854, 0.53337997, 0.02286362, 0.89174059, 0.82670503,\n",
       "       0.0413537 , 0.93101123, 0.62113097, 0.90556503, 0.86298799,\n",
       "       0.89774234, 0.39972592, 0.18165538, 0.35780176, 0.93808769,\n",
       "       0.9313151 , 0.15926093, 0.78389591, 0.06271028, 0.90598719,\n",
       "       0.02045933, 0.75378022, 0.91439129, 0.66507222, 0.26789839,\n",
       "       0.93570039, 0.36973644, 0.07156154, 0.0623504 , 0.5155795 ,\n",
       "       0.27053598, 0.92536192, 0.32208844, 0.07156154, 0.05505005,\n",
       "       0.06469042, 0.84237889, 0.71031706, 0.04293669, 0.9303426 ,\n",
       "       0.36934722, 0.08719121, 0.92992252, 0.87178737, 0.03493018,\n",
       "       0.13115486, 0.06067276, 0.06930979, 0.2522068 , 0.06437363,\n",
       "       0.90967693, 0.94036421, 0.88947422, 0.94535379, 0.79955085,\n",
       "       0.04971203, 0.21835097, 0.89620235, 0.20858295, 0.09379078,\n",
       "       0.70629446, 0.7875634 , 0.36387361, 0.76478213, 0.8879979 ,\n",
       "       0.22804649, 0.31947475, 0.03508293, 0.79348345, 0.73383333,\n",
       "       0.66363222, 0.66094463, 0.85687042, 0.48234828, 0.13058151,\n",
       "       0.70394585, 0.22702356, 0.92333727, 0.95910746, 0.84342026,\n",
       "       0.63035861, 0.83833819, 0.2522068 , 0.07766196, 0.933534  ,\n",
       "       0.78890094, 0.30085019, 0.23192454, 0.85685394, 0.55847351,\n",
       "       0.65003564, 0.92928318, 0.67657507, 0.78763224, 0.9036623 ,\n",
       "       0.87579587, 0.94180606, 0.16734191, 0.94668485, 0.82002087,\n",
       "       0.06279869, 0.89620235, 0.08207341, 0.90466263, 0.05058129,\n",
       "       0.94855139, 0.06437363, 0.75322611, 0.76296324, 0.25078139,\n",
       "       0.68953243, 0.65205822, 0.92852447, 0.92253927, 0.76749439,\n",
       "       0.67959164, 0.92119641, 0.02045933, 0.04167349, 0.06437363,\n",
       "       0.0623504 , 0.06104595, 0.05050634, 0.31947475, 0.11664633,\n",
       "       0.55997566, 0.32129917, 0.96531341, 0.53350218, 0.93806074,\n",
       "       0.31497282, 0.94278098, 0.36395881, 0.94180606, 0.10180147,\n",
       "       0.87732619, 0.9020616 , 0.09289102, 0.40311397, 0.17832945,\n",
       "       0.90992861, 0.82224203, 0.43876572, 0.06965447, 0.0699953 ,\n",
       "       0.92490033, 0.26480271, 0.03588054, 0.03588054, 0.85589172,\n",
       "       0.92203706, 0.61075829, 0.82394393, 0.88439276, 0.89595048,\n",
       "       0.81998498, 0.03143502, 0.94337817, 0.93404959, 0.37723252,\n",
       "       0.60604266, 0.06930979, 0.66689877, 0.13526217, 0.94697859,\n",
       "       0.88413544, 0.13196866, 0.04859592, 0.82191128, 0.04194849,\n",
       "       0.4911742 , 0.51220407, 0.8154683 , 0.93388599, 0.07570607,\n",
       "       0.93806074, 0.03588054, 0.65066804, 0.31516998, 0.94719189,\n",
       "       0.04002302, 0.86445431, 0.49163103, 0.7875634 , 0.2688185 ,\n",
       "       0.82327671, 0.89298739, 0.92006751, 0.85337674, 0.42548733,\n",
       "       0.96531341, 0.90513516, 0.8532137 , 0.68515485, 0.12527865,\n",
       "       0.10850147, 0.10361672, 0.94027734, 0.11384202, 0.02569458,\n",
       "       0.19025048, 0.76654996, 0.95478377, 0.15815284, 0.79072059,\n",
       "       0.91696133, 0.79410477, 0.92591753, 0.93342553, 0.94606024,\n",
       "       0.43608412, 0.93860269, 0.89870298, 0.0553597 , 0.80144987,\n",
       "       0.21150362, 0.96522683, 0.10389863, 0.06714255, 0.1028752 ,\n",
       "       0.70991918, 0.03976203, 0.55515148, 0.84641393, 0.80517118,\n",
       "       0.31516998, 0.69762501, 0.26908793, 0.873954  , 0.84059854,\n",
       "       0.09183512, 0.03588054, 0.03588054, 0.04002302, 0.03508293,\n",
       "       0.83512692, 0.70116521, 0.47532954, 0.83954203, 0.2806845 ,\n",
       "       0.93642501, 0.88598865, 0.91866268, 0.37459307, 0.68109235,\n",
       "       0.94697859, 0.93473637, 0.02045933, 0.93934309, 0.06469042,\n",
       "       0.94855139, 0.27261844, 0.08679463, 0.46365492, 0.92846879,\n",
       "       0.03882624, 0.41447306, 0.83522616, 0.66209347, 0.86746973,\n",
       "       0.93353647, 0.080877  , 0.11979055, 0.52659211, 0.90429088,\n",
       "       0.90575262, 0.96690863, 0.76162657, 0.13115486, 0.955062  ,\n",
       "       0.46492889, 0.90173569, 0.81391192, 0.59332109, 0.06733912,\n",
       "       0.47630189, 0.61105584, 0.06932913, 0.82640579, 0.89870298,\n",
       "       0.78545001, 0.10754005, 0.33975216, 0.21258789, 0.87629643,\n",
       "       0.895517  , 0.38555717, 0.10768041, 0.90448326, 0.83260172,\n",
       "       0.30085019, 0.64560656, 0.53650964, 0.04672211, 0.04533004,\n",
       "       0.0623504 , 0.92319729, 0.9113391 , 0.50665026, 0.95127908,\n",
       "       0.96022457, 0.92801215, 0.68206587, 0.92006751, 0.856492  ,\n",
       "       0.08725266, 0.2549733 , 0.91184018, 0.93806074, 0.39940152,\n",
       "       0.941005  , 0.04002302, 0.90967693, 0.11664633, 0.053559  ,\n",
       "       0.84927189, 0.06714255, 0.82877328, 0.90967693, 0.83260361,\n",
       "       0.89150359, 0.06437363, 0.0623504 , 0.28162542, 0.95285311,\n",
       "       0.06714255, 0.90557374, 0.69382212, 0.82773202, 0.86138725,\n",
       "       0.89182008, 0.9215686 , 0.1430146 , 0.92734501, 0.40964408,\n",
       "       0.84379171, 0.93806074, 0.94535379, 0.85453477, 0.55199336,\n",
       "       0.95299669, 0.93798922, 0.31024759, 0.06932913, 0.03976203,\n",
       "       0.64776583, 0.26799616, 0.12039666, 0.24358522, 0.05309177,\n",
       "       0.10711606, 0.89265154, 0.09330643, 0.94855139, 0.58924501,\n",
       "       0.45400885, 0.15216704, 0.0933044 , 0.92837671, 0.8599871 ,\n",
       "       0.12886705, 0.55595737, 0.94511111, 0.83709751, 0.10711606,\n",
       "       0.96337829, 0.96452123, 0.03588054, 0.34881264, 0.71315024,\n",
       "       0.93620122, 0.91327414, 0.79419462, 0.04002302, 0.05956203,\n",
       "       0.8840495 , 0.81490655, 0.63419961, 0.95108976, 0.22804649,\n",
       "       0.93618108, 0.096729  , 0.10385095, 0.79225443, 0.11056193,\n",
       "       0.92701679, 0.66878978, 0.79722576, 0.65764437, 0.06932913,\n",
       "       0.9431777 , 0.85715844, 0.08120766, 0.9023999 , 0.22804649,\n",
       "       0.89217761, 0.04167349, 0.94734449, 0.09187673, 0.91636575,\n",
       "       0.06714255, 0.732936  , 0.08340269, 0.93343098, 0.67885627,\n",
       "       0.04021678, 0.93806074, 0.83817337, 0.78647092, 0.89217761,\n",
       "       0.15771518, 0.26793905, 0.90932191, 0.84089541, 0.11899959,\n",
       "       0.0413537 , 0.65421875, 0.93642501, 0.02595684, 0.92583744,\n",
       "       0.16673536, 0.85939207, 0.88439276, 0.75181652, 0.31497282,\n",
       "       0.82382086, 0.94438887, 0.54652228, 0.48487629, 0.05695256,\n",
       "       0.61599531, 0.94694458, 0.06437363, 0.40110815, 0.95665232,\n",
       "       0.09187673, 0.93101123, 0.90967693, 0.79288168, 0.06932913,\n",
       "       0.45550083, 0.93537052, 0.14782044, 0.03674556, 0.64170196,\n",
       "       0.03493018, 0.60123798, 0.08283247, 0.80474505, 0.96074652,\n",
       "       0.96690863, 0.73288015, 0.09495797, 0.93098607, 0.16862399,\n",
       "       0.32906828, 0.30873607, 0.05210477, 0.51569253, 0.10180147,\n",
       "       0.05516911, 0.80857009, 0.03674556, 0.09158503, 0.65986995,\n",
       "       0.05587726, 0.10042316, 0.06714255, 0.14700484, 0.92583744,\n",
       "       0.2806845 , 0.5216166 , 0.92533486, 0.36395881, 0.73483518,\n",
       "       0.92863824, 0.8150095 , 0.78820929, 0.94692867, 0.08133031,\n",
       "       0.77761809, 0.9443634 , 0.91018082, 0.33414288, 0.86064991,\n",
       "       0.88903857, 0.21934903, 0.83825657, 0.623795  , 0.90935058,\n",
       "       0.90857188, 0.75821268, 0.88413544, 0.3094732 , 0.8403367 ,\n",
       "       0.86644011, 0.19298627, 0.06860842, 0.87206722, 0.88731296,\n",
       "       0.11506127, 0.92237594, 0.07075759, 0.52416376, 0.06965447,\n",
       "       0.91530918])"
      ]
     },
     "execution_count": 191,
     "metadata": {},
     "output_type": "execute_result"
    }
   ],
   "source": [
    "previsoes_treino = lgbm.predict(x_treino)\n",
    "previsoes_treino"
   ]
  },
  {
   "cell_type": "code",
   "execution_count": 192,
   "metadata": {
    "id": "5ZTvZKs51umQ"
   },
   "outputs": [
    {
     "data": {
      "text/plain": [
       "(641,)"
      ]
     },
     "execution_count": 192,
     "metadata": {},
     "output_type": "execute_result"
    }
   ],
   "source": [
    "previsoes_treino.shape"
   ]
  },
  {
   "cell_type": "code",
   "execution_count": 193,
   "metadata": {
    "id": "y_Xb-SEN1bNL"
   },
   "outputs": [],
   "source": [
    "# Quando for menor que 5 considera 0 e quando for maior ou igual a 5 considera 1\n",
    "for i in range(0, 641):\n",
    "    if previsoes_treino[i] >= .5:\n",
    "       previsoes_treino[i] = 1\n",
    "    else:\n",
    "       previsoes_treino[i] = 0"
   ]
  },
  {
   "cell_type": "code",
   "execution_count": 194,
   "metadata": {
    "id": "ENkdM8Jd1oCJ"
   },
   "outputs": [
    {
     "data": {
      "text/plain": [
       "array([1., 1., 1., 1., 1., 1., 0., 0., 0., 0., 1., 0., 1., 1., 1., 0., 0.,\n",
       "       0., 0., 1., 0., 1., 1., 1., 1., 0., 0., 1., 1., 1., 1., 0., 1., 1.,\n",
       "       0., 0., 1., 1., 0., 1., 0., 1., 0., 0., 1., 1., 0., 1., 1., 1., 0.,\n",
       "       0., 1., 0., 1., 0., 1., 0., 1., 0., 0., 0., 0., 0., 1., 1., 0., 1.,\n",
       "       1., 0., 1., 1., 1., 1., 0., 0., 1., 1., 1., 1., 1., 1., 1., 1., 0.,\n",
       "       1., 1., 1., 1., 1., 0., 1., 0., 0., 1., 1., 1., 1., 1., 1., 1., 1.,\n",
       "       0., 1., 1., 1., 1., 0., 0., 1., 0., 0., 1., 0., 1., 0., 1., 0., 1.,\n",
       "       0., 0., 0., 0., 1., 0., 1., 0., 0., 1., 1., 1., 0., 1., 1., 0., 0.,\n",
       "       1., 0., 1., 1., 0., 1., 1., 1., 1., 1., 0., 0., 0., 1., 1., 0., 1.,\n",
       "       0., 1., 0., 1., 1., 1., 0., 1., 0., 0., 0., 1., 0., 1., 0., 0., 0.,\n",
       "       0., 1., 1., 0., 1., 0., 0., 1., 1., 0., 0., 0., 0., 0., 0., 1., 1.,\n",
       "       1., 1., 1., 0., 0., 1., 0., 0., 1., 1., 0., 1., 1., 0., 0., 0., 1.,\n",
       "       1., 1., 1., 1., 0., 0., 1., 0., 1., 1., 1., 1., 1., 0., 0., 1., 1.,\n",
       "       0., 0., 1., 1., 1., 1., 1., 1., 1., 1., 1., 0., 1., 1., 0., 1., 0.,\n",
       "       1., 0., 1., 0., 1., 1., 0., 1., 1., 1., 1., 1., 1., 1., 0., 0., 0.,\n",
       "       0., 0., 0., 0., 0., 1., 0., 1., 1., 1., 0., 1., 0., 1., 0., 1., 1.,\n",
       "       0., 0., 0., 1., 1., 0., 0., 0., 1., 0., 0., 0., 1., 1., 1., 1., 1.,\n",
       "       1., 1., 0., 1., 1., 0., 1., 0., 1., 0., 1., 1., 0., 0., 1., 0., 0.,\n",
       "       1., 1., 1., 0., 1., 0., 1., 0., 1., 0., 1., 0., 1., 0., 1., 1., 1.,\n",
       "       1., 0., 1., 1., 1., 1., 0., 0., 0., 1., 0., 0., 0., 1., 1., 0., 1.,\n",
       "       1., 1., 1., 1., 1., 0., 1., 1., 0., 1., 0., 1., 0., 0., 0., 1., 0.,\n",
       "       1., 1., 1., 0., 1., 0., 1., 1., 0., 0., 0., 0., 0., 1., 1., 0., 1.,\n",
       "       0., 1., 1., 1., 0., 1., 1., 1., 0., 1., 0., 1., 0., 0., 0., 1., 0.,\n",
       "       0., 1., 1., 1., 1., 0., 0., 1., 1., 1., 1., 1., 0., 1., 0., 1., 1.,\n",
       "       1., 0., 0., 1., 0., 1., 1., 1., 0., 0., 0., 1., 1., 0., 0., 1., 1.,\n",
       "       0., 1., 1., 0., 0., 0., 1., 1., 1., 1., 1., 1., 1., 1., 1., 0., 0.,\n",
       "       1., 1., 0., 1., 0., 1., 0., 0., 1., 0., 1., 1., 1., 1., 0., 0., 0.,\n",
       "       1., 0., 1., 1., 1., 1., 1., 1., 0., 1., 0., 1., 1., 1., 1., 1., 1.,\n",
       "       1., 0., 0., 0., 1., 0., 0., 0., 0., 0., 1., 0., 1., 1., 0., 0., 0.,\n",
       "       1., 1., 0., 1., 1., 1., 0., 1., 1., 0., 0., 1., 1., 1., 1., 0., 0.,\n",
       "       1., 1., 1., 1., 0., 1., 0., 0., 1., 0., 1., 1., 1., 1., 0., 1., 1.,\n",
       "       0., 1., 0., 1., 0., 1., 0., 1., 0., 1., 0., 1., 1., 0., 1., 1., 1.,\n",
       "       1., 0., 0., 1., 1., 0., 0., 1., 1., 0., 1., 0., 1., 1., 1., 0., 1.,\n",
       "       1., 1., 0., 0., 1., 1., 0., 0., 1., 0., 1., 1., 1., 0., 0., 1., 0.,\n",
       "       0., 1., 0., 1., 0., 1., 1., 1., 1., 0., 1., 0., 0., 0., 0., 1., 0.,\n",
       "       0., 1., 0., 0., 1., 0., 0., 0., 0., 1., 0., 1., 1., 0., 1., 1., 1.,\n",
       "       1., 1., 0., 1., 1., 1., 0., 1., 1., 0., 1., 1., 1., 1., 1., 1., 0.,\n",
       "       1., 1., 0., 0., 1., 1., 0., 1., 0., 1., 0., 1.])"
      ]
     },
     "execution_count": 194,
     "metadata": {},
     "output_type": "execute_result"
    }
   ],
   "source": [
    "previsoes_treino"
   ]
  },
  {
   "cell_type": "code",
   "execution_count": 195,
   "metadata": {
    "id": "NKAIaTGF0NgS"
   },
   "outputs": [
    {
     "data": {
      "text/plain": [
       "0.890795631825273"
      ]
     },
     "execution_count": 195,
     "metadata": {},
     "output_type": "execute_result"
    }
   ],
   "source": [
    "accuracy_score(y_treino, previsoes_treino)"
   ]
  },
  {
   "cell_type": "code",
   "execution_count": 196,
   "metadata": {
    "id": "dDOEsI4W0NgT"
   },
   "outputs": [
    {
     "data": {
      "text/plain": [
       "array([[245,  44],\n",
       "       [ 26, 326]])"
      ]
     },
     "execution_count": 196,
     "metadata": {},
     "output_type": "execute_result"
    }
   ],
   "source": [
    "confusion_matrix(y_treino, previsoes_treino)"
   ]
  },
  {
   "cell_type": "markdown",
   "metadata": {
    "id": "3hEGp61Q0NgT",
    "jp-MarkdownHeadingCollapsed": true
   },
   "source": [
    "### **Validação Cruzada**"
   ]
  },
  {
   "cell_type": "code",
   "execution_count": 197,
   "metadata": {
    "id": "RwR3Salk0NgT"
   },
   "outputs": [],
   "source": [
    "from sklearn.model_selection import KFold\n",
    "from sklearn.model_selection import cross_val_score"
   ]
  },
  {
   "cell_type": "code",
   "execution_count": 198,
   "metadata": {
    "id": "8Xnl-F4XSNTJ"
   },
   "outputs": [],
   "source": [
    "# Separando os dados em folds\n",
    "kfold = KFold(n_splits = 30, shuffle=True, random_state = 5)"
   ]
  },
  {
   "cell_type": "code",
   "execution_count": 199,
   "metadata": {
    "id": "Qq7iUdMxSNTL"
   },
   "outputs": [
    {
     "name": "stdout",
     "output_type": "stream",
     "text": [
      "[LightGBM] [Info] Number of positive: 489, number of negative: 397\n",
      "[LightGBM] [Info] Auto-choosing row-wise multi-threading, the overhead of testing was 0.000096 seconds.\n",
      "You can set `force_row_wise=true` to remove the overhead.\n",
      "And if memory is not enough, you can set `force_col_wise=true`.\n",
      "[LightGBM] [Info] Total Bins 342\n",
      "[LightGBM] [Info] Number of data points in the train set: 886, number of used features: 11\n",
      "[LightGBM] [Info] [binary:BoostFromScore]: pavg=0.551919 -> initscore=0.208426\n",
      "[LightGBM] [Info] Start training from score 0.208426\n",
      "[LightGBM] [Info] Number of positive: 490, number of negative: 396\n",
      "[LightGBM] [Info] Auto-choosing row-wise multi-threading, the overhead of testing was 0.000081 seconds.\n",
      "You can set `force_row_wise=true` to remove the overhead.\n",
      "And if memory is not enough, you can set `force_col_wise=true`.\n",
      "[LightGBM] [Info] Total Bins 343\n",
      "[LightGBM] [Info] Number of data points in the train set: 886, number of used features: 11\n",
      "[LightGBM] [Info] [binary:BoostFromScore]: pavg=0.553047 -> initscore=0.212991\n",
      "[LightGBM] [Info] Start training from score 0.212991\n",
      "[LightGBM] [Info] Number of positive: 486, number of negative: 400\n",
      "[LightGBM] [Info] Auto-choosing row-wise multi-threading, the overhead of testing was 0.000073 seconds.\n",
      "You can set `force_row_wise=true` to remove the overhead.\n",
      "And if memory is not enough, you can set `force_col_wise=true`.\n",
      "[LightGBM] [Info] Total Bins 340\n",
      "[LightGBM] [Info] Number of data points in the train set: 886, number of used features: 11\n",
      "[LightGBM] [Info] [binary:BoostFromScore]: pavg=0.548533 -> initscore=0.194744\n",
      "[LightGBM] [Info] Start training from score 0.194744\n",
      "[LightGBM] [Info] Number of positive: 487, number of negative: 399\n",
      "[LightGBM] [Info] Auto-choosing row-wise multi-threading, the overhead of testing was 0.000046 seconds.\n",
      "You can set `force_row_wise=true` to remove the overhead.\n",
      "And if memory is not enough, you can set `force_col_wise=true`.\n",
      "[LightGBM] [Info] Total Bins 344\n",
      "[LightGBM] [Info] Number of data points in the train set: 886, number of used features: 11\n",
      "[LightGBM] [Info] [binary:BoostFromScore]: pavg=0.549661 -> initscore=0.199303\n",
      "[LightGBM] [Info] Start training from score 0.199303\n",
      "[LightGBM] [Info] Number of positive: 490, number of negative: 396\n",
      "[LightGBM] [Info] Auto-choosing row-wise multi-threading, the overhead of testing was 0.000047 seconds.\n",
      "You can set `force_row_wise=true` to remove the overhead.\n",
      "And if memory is not enough, you can set `force_col_wise=true`.\n",
      "[LightGBM] [Info] Total Bins 344\n",
      "[LightGBM] [Info] Number of data points in the train set: 886, number of used features: 11\n",
      "[LightGBM] [Info] [binary:BoostFromScore]: pavg=0.553047 -> initscore=0.212991\n",
      "[LightGBM] [Info] Start training from score 0.212991\n",
      "[LightGBM] [Info] Number of positive: 489, number of negative: 397\n",
      "[LightGBM] [Info] Auto-choosing row-wise multi-threading, the overhead of testing was 0.000044 seconds.\n",
      "You can set `force_row_wise=true` to remove the overhead.\n",
      "And if memory is not enough, you can set `force_col_wise=true`.\n",
      "[LightGBM] [Info] Total Bins 343\n",
      "[LightGBM] [Info] Number of data points in the train set: 886, number of used features: 11\n",
      "[LightGBM] [Info] [binary:BoostFromScore]: pavg=0.551919 -> initscore=0.208426\n",
      "[LightGBM] [Info] Start training from score 0.208426\n",
      "[LightGBM] [Info] Number of positive: 490, number of negative: 396\n",
      "[LightGBM] [Info] Auto-choosing row-wise multi-threading, the overhead of testing was 0.000047 seconds.\n",
      "You can set `force_row_wise=true` to remove the overhead.\n",
      "And if memory is not enough, you can set `force_col_wise=true`.\n",
      "[LightGBM] [Info] Total Bins 343\n",
      "[LightGBM] [Info] Number of data points in the train set: 886, number of used features: 11\n",
      "[LightGBM] [Info] [binary:BoostFromScore]: pavg=0.553047 -> initscore=0.212991\n",
      "[LightGBM] [Info] Start training from score 0.212991\n",
      "[LightGBM] [Info] Number of positive: 491, number of negative: 395\n",
      "[LightGBM] [Info] Auto-choosing row-wise multi-threading, the overhead of testing was 0.000046 seconds.\n",
      "You can set `force_row_wise=true` to remove the overhead.\n",
      "And if memory is not enough, you can set `force_col_wise=true`.\n",
      "[LightGBM] [Info] Total Bins 343\n",
      "[LightGBM] [Info] Number of data points in the train set: 886, number of used features: 11\n",
      "[LightGBM] [Info] [binary:BoostFromScore]: pavg=0.554176 -> initscore=0.217558\n",
      "[LightGBM] [Info] Start training from score 0.217558\n",
      "[LightGBM] [Info] Number of positive: 491, number of negative: 395\n",
      "[LightGBM] [Info] Auto-choosing row-wise multi-threading, the overhead of testing was 0.000045 seconds.\n",
      "You can set `force_row_wise=true` to remove the overhead.\n",
      "And if memory is not enough, you can set `force_col_wise=true`.\n",
      "[LightGBM] [Info] Total Bins 343\n",
      "[LightGBM] [Info] Number of data points in the train set: 886, number of used features: 11\n",
      "[LightGBM] [Info] [binary:BoostFromScore]: pavg=0.554176 -> initscore=0.217558\n",
      "[LightGBM] [Info] Start training from score 0.217558\n",
      "[LightGBM] [Info] Number of positive: 490, number of negative: 396\n",
      "[LightGBM] [Info] Auto-choosing row-wise multi-threading, the overhead of testing was 0.000041 seconds.\n",
      "You can set `force_row_wise=true` to remove the overhead.\n",
      "And if memory is not enough, you can set `force_col_wise=true`.\n",
      "[LightGBM] [Info] Total Bins 345\n",
      "[LightGBM] [Info] Number of data points in the train set: 886, number of used features: 11\n",
      "[LightGBM] [Info] [binary:BoostFromScore]: pavg=0.553047 -> initscore=0.212991\n",
      "[LightGBM] [Info] Start training from score 0.212991\n",
      "[LightGBM] [Info] Number of positive: 492, number of negative: 394\n",
      "[LightGBM] [Info] Auto-choosing row-wise multi-threading, the overhead of testing was 0.000046 seconds.\n",
      "You can set `force_row_wise=true` to remove the overhead.\n",
      "And if memory is not enough, you can set `force_col_wise=true`.\n",
      "[LightGBM] [Info] Total Bins 345\n",
      "[LightGBM] [Info] Number of data points in the train set: 886, number of used features: 11\n",
      "[LightGBM] [Info] [binary:BoostFromScore]: pavg=0.555305 -> initscore=0.222128\n",
      "[LightGBM] [Info] Start training from score 0.222128\n",
      "[LightGBM] [Info] Number of positive: 484, number of negative: 402\n",
      "[LightGBM] [Info] Auto-choosing row-wise multi-threading, the overhead of testing was 0.000045 seconds.\n",
      "You can set `force_row_wise=true` to remove the overhead.\n",
      "And if memory is not enough, you can set `force_col_wise=true`.\n",
      "[LightGBM] [Info] Total Bins 342\n",
      "[LightGBM] [Info] Number of data points in the train set: 886, number of used features: 11\n",
      "[LightGBM] [Info] [binary:BoostFromScore]: pavg=0.546275 -> initscore=0.185633\n",
      "[LightGBM] [Info] Start training from score 0.185633\n",
      "[LightGBM] [Info] Number of positive: 489, number of negative: 397\n",
      "[LightGBM] [Info] Auto-choosing row-wise multi-threading, the overhead of testing was 0.000046 seconds.\n",
      "You can set `force_row_wise=true` to remove the overhead.\n",
      "And if memory is not enough, you can set `force_col_wise=true`.\n",
      "[LightGBM] [Info] Total Bins 342\n",
      "[LightGBM] [Info] Number of data points in the train set: 886, number of used features: 11\n",
      "[LightGBM] [Info] [binary:BoostFromScore]: pavg=0.551919 -> initscore=0.208426\n",
      "[LightGBM] [Info] Start training from score 0.208426\n",
      "[LightGBM] [Info] Number of positive: 489, number of negative: 397\n",
      "[LightGBM] [Info] Auto-choosing row-wise multi-threading, the overhead of testing was 0.000037 seconds.\n",
      "You can set `force_row_wise=true` to remove the overhead.\n",
      "And if memory is not enough, you can set `force_col_wise=true`.\n",
      "[LightGBM] [Info] Total Bins 344\n",
      "[LightGBM] [Info] Number of data points in the train set: 886, number of used features: 11\n",
      "[LightGBM] [Info] [binary:BoostFromScore]: pavg=0.551919 -> initscore=0.208426\n",
      "[LightGBM] [Info] Start training from score 0.208426\n",
      "[LightGBM] [Info] Number of positive: 494, number of negative: 392\n",
      "[LightGBM] [Info] Auto-choosing row-wise multi-threading, the overhead of testing was 0.000051 seconds.\n",
      "You can set `force_row_wise=true` to remove the overhead.\n",
      "And if memory is not enough, you can set `force_col_wise=true`.\n",
      "[LightGBM] [Info] Total Bins 343\n",
      "[LightGBM] [Info] Number of data points in the train set: 886, number of used features: 11\n",
      "[LightGBM] [Info] [binary:BoostFromScore]: pavg=0.557562 -> initscore=0.231274\n",
      "[LightGBM] [Info] Start training from score 0.231274\n",
      "[LightGBM] [Info] Number of positive: 488, number of negative: 398\n",
      "[LightGBM] [Info] Auto-choosing row-wise multi-threading, the overhead of testing was 0.000038 seconds.\n",
      "You can set `force_row_wise=true` to remove the overhead.\n",
      "And if memory is not enough, you can set `force_col_wise=true`.\n",
      "[LightGBM] [Info] Total Bins 345\n",
      "[LightGBM] [Info] Number of data points in the train set: 886, number of used features: 11\n",
      "[LightGBM] [Info] [binary:BoostFromScore]: pavg=0.550790 -> initscore=0.203863\n",
      "[LightGBM] [Info] Start training from score 0.203863\n",
      "[LightGBM] [Info] Number of positive: 489, number of negative: 397\n",
      "[LightGBM] [Info] Auto-choosing row-wise multi-threading, the overhead of testing was 0.000048 seconds.\n",
      "You can set `force_row_wise=true` to remove the overhead.\n",
      "And if memory is not enough, you can set `force_col_wise=true`.\n",
      "[LightGBM] [Info] Total Bins 344\n",
      "[LightGBM] [Info] Number of data points in the train set: 886, number of used features: 11\n",
      "[LightGBM] [Info] [binary:BoostFromScore]: pavg=0.551919 -> initscore=0.208426\n",
      "[LightGBM] [Info] Start training from score 0.208426\n",
      "[LightGBM] [Info] Number of positive: 488, number of negative: 399\n",
      "[LightGBM] [Info] Auto-choosing row-wise multi-threading, the overhead of testing was 0.000054 seconds.\n",
      "You can set `force_row_wise=true` to remove the overhead.\n",
      "And if memory is not enough, you can set `force_col_wise=true`.\n",
      "[LightGBM] [Info] Total Bins 344\n",
      "[LightGBM] [Info] Number of data points in the train set: 887, number of used features: 11\n",
      "[LightGBM] [Info] [binary:BoostFromScore]: pavg=0.550169 -> initscore=0.201354\n",
      "[LightGBM] [Info] Start training from score 0.201354\n",
      "[LightGBM] [Info] Number of positive: 490, number of negative: 397\n",
      "[LightGBM] [Info] Auto-choosing row-wise multi-threading, the overhead of testing was 0.000041 seconds.\n",
      "You can set `force_row_wise=true` to remove the overhead.\n",
      "And if memory is not enough, you can set `force_col_wise=true`.\n",
      "[LightGBM] [Info] Total Bins 341\n",
      "[LightGBM] [Info] Number of data points in the train set: 887, number of used features: 11\n",
      "[LightGBM] [Info] [binary:BoostFromScore]: pavg=0.552424 -> initscore=0.210469\n",
      "[LightGBM] [Info] Start training from score 0.210469\n",
      "[LightGBM] [Info] Number of positive: 490, number of negative: 397\n",
      "[LightGBM] [Info] Auto-choosing row-wise multi-threading, the overhead of testing was 0.000050 seconds.\n",
      "You can set `force_row_wise=true` to remove the overhead.\n",
      "And if memory is not enough, you can set `force_col_wise=true`.\n",
      "[LightGBM] [Info] Total Bins 342\n",
      "[LightGBM] [Info] Number of data points in the train set: 887, number of used features: 11\n",
      "[LightGBM] [Info] [binary:BoostFromScore]: pavg=0.552424 -> initscore=0.210469\n",
      "[LightGBM] [Info] Start training from score 0.210469\n",
      "[LightGBM] [Info] Number of positive: 491, number of negative: 396\n",
      "[LightGBM] [Info] Auto-choosing row-wise multi-threading, the overhead of testing was 0.000042 seconds.\n",
      "You can set `force_row_wise=true` to remove the overhead.\n",
      "And if memory is not enough, you can set `force_col_wise=true`.\n",
      "[LightGBM] [Info] Total Bins 342\n",
      "[LightGBM] [Info] Number of data points in the train set: 887, number of used features: 11\n",
      "[LightGBM] [Info] [binary:BoostFromScore]: pavg=0.553551 -> initscore=0.215030\n",
      "[LightGBM] [Info] Start training from score 0.215030\n",
      "[LightGBM] [Info] Number of positive: 491, number of negative: 396\n",
      "[LightGBM] [Info] Auto-choosing row-wise multi-threading, the overhead of testing was 0.000051 seconds.\n",
      "You can set `force_row_wise=true` to remove the overhead.\n",
      "And if memory is not enough, you can set `force_col_wise=true`.\n",
      "[LightGBM] [Info] Total Bins 343\n",
      "[LightGBM] [Info] Number of data points in the train set: 887, number of used features: 11\n",
      "[LightGBM] [Info] [binary:BoostFromScore]: pavg=0.553551 -> initscore=0.215030\n",
      "[LightGBM] [Info] Start training from score 0.215030\n",
      "[LightGBM] [Info] Number of positive: 493, number of negative: 394\n",
      "[LightGBM] [Info] Auto-choosing row-wise multi-threading, the overhead of testing was 0.000048 seconds.\n",
      "You can set `force_row_wise=true` to remove the overhead.\n",
      "And if memory is not enough, you can set `force_col_wise=true`.\n",
      "[LightGBM] [Info] Total Bins 344\n",
      "[LightGBM] [Info] Number of data points in the train set: 887, number of used features: 11\n",
      "[LightGBM] [Info] [binary:BoostFromScore]: pavg=0.555806 -> initscore=0.224158\n",
      "[LightGBM] [Info] Start training from score 0.224158\n",
      "[LightGBM] [Info] Number of positive: 494, number of negative: 393\n",
      "[LightGBM] [Info] Auto-choosing row-wise multi-threading, the overhead of testing was 0.000049 seconds.\n",
      "You can set `force_row_wise=true` to remove the overhead.\n",
      "And if memory is not enough, you can set `force_col_wise=true`.\n",
      "[LightGBM] [Info] Total Bins 344\n",
      "[LightGBM] [Info] Number of data points in the train set: 887, number of used features: 11\n",
      "[LightGBM] [Info] [binary:BoostFromScore]: pavg=0.556933 -> initscore=0.228726\n",
      "[LightGBM] [Info] Start training from score 0.228726\n",
      "[LightGBM] [Info] Number of positive: 493, number of negative: 394\n",
      "[LightGBM] [Info] Auto-choosing row-wise multi-threading, the overhead of testing was 0.000047 seconds.\n",
      "You can set `force_row_wise=true` to remove the overhead.\n",
      "And if memory is not enough, you can set `force_col_wise=true`.\n",
      "[LightGBM] [Info] Total Bins 341\n",
      "[LightGBM] [Info] Number of data points in the train set: 887, number of used features: 11\n",
      "[LightGBM] [Info] [binary:BoostFromScore]: pavg=0.555806 -> initscore=0.224158\n",
      "[LightGBM] [Info] Start training from score 0.224158\n",
      "[LightGBM] [Info] Number of positive: 487, number of negative: 400\n",
      "[LightGBM] [Info] Auto-choosing row-wise multi-threading, the overhead of testing was 0.000047 seconds.\n",
      "You can set `force_row_wise=true` to remove the overhead.\n",
      "And if memory is not enough, you can set `force_col_wise=true`.\n",
      "[LightGBM] [Info] Total Bins 343\n",
      "[LightGBM] [Info] Number of data points in the train set: 887, number of used features: 11\n",
      "[LightGBM] [Info] [binary:BoostFromScore]: pavg=0.549042 -> initscore=0.196800\n",
      "[LightGBM] [Info] Start training from score 0.196800\n",
      "[LightGBM] [Info] Number of positive: 489, number of negative: 398\n",
      "[LightGBM] [Info] Auto-choosing row-wise multi-threading, the overhead of testing was 0.000037 seconds.\n",
      "You can set `force_row_wise=true` to remove the overhead.\n",
      "And if memory is not enough, you can set `force_col_wise=true`.\n",
      "[LightGBM] [Info] Total Bins 341\n",
      "[LightGBM] [Info] Number of data points in the train set: 887, number of used features: 11\n",
      "[LightGBM] [Info] [binary:BoostFromScore]: pavg=0.551297 -> initscore=0.205910\n",
      "[LightGBM] [Info] Start training from score 0.205910\n",
      "[LightGBM] [Info] Number of positive: 492, number of negative: 395\n",
      "[LightGBM] [Info] Auto-choosing row-wise multi-threading, the overhead of testing was 0.000048 seconds.\n",
      "You can set `force_row_wise=true` to remove the overhead.\n",
      "And if memory is not enough, you can set `force_col_wise=true`.\n",
      "[LightGBM] [Info] Total Bins 345\n",
      "[LightGBM] [Info] Number of data points in the train set: 887, number of used features: 11\n",
      "[LightGBM] [Info] [binary:BoostFromScore]: pavg=0.554679 -> initscore=0.219593\n",
      "[LightGBM] [Info] Start training from score 0.219593\n",
      "[LightGBM] [Info] Number of positive: 493, number of negative: 394\n",
      "[LightGBM] [Info] Auto-choosing row-wise multi-threading, the overhead of testing was 0.000036 seconds.\n",
      "You can set `force_row_wise=true` to remove the overhead.\n",
      "And if memory is not enough, you can set `force_col_wise=true`.\n",
      "[LightGBM] [Info] Total Bins 342\n",
      "[LightGBM] [Info] Number of data points in the train set: 887, number of used features: 11\n",
      "[LightGBM] [Info] [binary:BoostFromScore]: pavg=0.555806 -> initscore=0.224158\n",
      "[LightGBM] [Info] Start training from score 0.224158\n",
      "[LightGBM] [Info] Number of positive: 494, number of negative: 393\n",
      "[LightGBM] [Info] Auto-choosing row-wise multi-threading, the overhead of testing was 0.000039 seconds.\n",
      "You can set `force_row_wise=true` to remove the overhead.\n",
      "And if memory is not enough, you can set `force_col_wise=true`.\n",
      "[LightGBM] [Info] Total Bins 343\n",
      "[LightGBM] [Info] Number of data points in the train set: 887, number of used features: 11\n",
      "[LightGBM] [Info] [binary:BoostFromScore]: pavg=0.556933 -> initscore=0.228726\n",
      "[LightGBM] [Info] Start training from score 0.228726\n",
      "Acurácia Média: 85.93%\n"
     ]
    }
   ],
   "source": [
    "# Criando o modelo\n",
    "modelo = lgb.LGBMClassifier(num_leaves = 250, objective = 'binary',\n",
    "                            max_depth = 2, learning_rate = .05, max_bin =100)\n",
    "resultado = cross_val_score(modelo, previsores, alvo, cv = kfold)\n",
    "\n",
    "# Usamos a média e o desvio padrão\n",
    "print(\"Acurácia Média: %.2f%%\" % (resultado.mean() * 100.0))"
   ]
  },
  {
   "cell_type": "markdown",
   "metadata": {
    "id": "W6ADUoMW0NgV"
   },
   "source": [
    "Naive Bayes = 84,78% (treino e teste) - 234 acertos e 85,17% (validação cruzada) : previsores3_esc\n",
    "\n",
    "SVM = 86,23% - 238 acertos e 85,72% (validação cruzada) : previsores3-esc - SVC(kernel='rbf', random_state=1, C = 2)\n",
    "\n",
    "Regressão logística = 86,23% - 238 acertos e 85,83% (validação cruzada) : previsores3_esc - LogisticRegression(random_state=1, max_iter=600, penalty=\"l2\", tol=0.0001, C=1,solver=\"lbfgs\")\n",
    "\n",
    "KNN = 84,06% - 232 acertos e 85,84% (validação cruzada) : previsores3_esc ou previsores_esc - KNeighborsClassifier(n_neighbors=7, metric='minkowski', p = 1)\n",
    "\n",
    "Árvore de decisão = 83,7% (treino e teste) - 231 acertos e 83,32% (validação cruzada): previsores3_esc - DecisionTreeClassifier(criterion='entropy', random_state = 0, max_depth=3)\n",
    "\n",
    "Random Forest = 86,59% - 239 acertos e 85,92% (validação cruzada) : previsores - RandomForestClassifier(n_estimators=150, criterion='entropy', random_state = 0, max_depth=4)\n",
    "\n",
    "XGboost = 87,68% - 242 acertos e 87,13% (validação cruzada) : previsores - XGBClassifier(max_depth=2, learning_rate=0.05, n_estimators=250, objective='binary:logistic', random_state=3)\n",
    "\n",
    "LightGBM = 86,23% (treino e teste)- 238 acertos e 85,93% (validação cruzada) : previsores - lgb.LGBMClassifier(num_leaves = 250, objective = 'binary',  max_depth = 2, learning_rate = .05, max_bin =100)"
   ]
  },
  {
   "cell_type": "markdown",
   "metadata": {
    "id": "yKpYGEuWUChU"
   },
   "source": [
    "# **CATBOOST**"
   ]
  },
  {
   "cell_type": "markdown",
   "metadata": {
    "id": "LMqQ_NMTUChV"
   },
   "source": [
    "https://catboost.ai/en/docs/"
   ]
  },
  {
   "cell_type": "code",
   "execution_count": 200,
   "metadata": {
    "id": "Vkt7hfJVUChV"
   },
   "outputs": [
    {
     "name": "stdout",
     "output_type": "stream",
     "text": [
      "Requirement already satisfied: catboost in /home/mrzebodexxsz/anaconda3/lib/python3.11/site-packages (1.2.5)\n",
      "Requirement already satisfied: graphviz in /home/mrzebodexxsz/anaconda3/lib/python3.11/site-packages (from catboost) (0.20.3)\n",
      "Requirement already satisfied: matplotlib in /home/mrzebodexxsz/anaconda3/lib/python3.11/site-packages (from catboost) (3.8.0)\n",
      "Requirement already satisfied: numpy>=1.16.0 in /home/mrzebodexxsz/anaconda3/lib/python3.11/site-packages (from catboost) (1.26.4)\n",
      "Requirement already satisfied: pandas>=0.24 in /home/mrzebodexxsz/anaconda3/lib/python3.11/site-packages (from catboost) (2.1.4)\n",
      "Requirement already satisfied: scipy in /home/mrzebodexxsz/anaconda3/lib/python3.11/site-packages (from catboost) (1.11.4)\n",
      "Requirement already satisfied: plotly in /home/mrzebodexxsz/anaconda3/lib/python3.11/site-packages (from catboost) (5.9.0)\n",
      "Requirement already satisfied: six in /home/mrzebodexxsz/anaconda3/lib/python3.11/site-packages (from catboost) (1.16.0)\n",
      "Requirement already satisfied: python-dateutil>=2.8.2 in /home/mrzebodexxsz/anaconda3/lib/python3.11/site-packages (from pandas>=0.24->catboost) (2.8.2)\n",
      "Requirement already satisfied: pytz>=2020.1 in /home/mrzebodexxsz/anaconda3/lib/python3.11/site-packages (from pandas>=0.24->catboost) (2023.3.post1)\n",
      "Requirement already satisfied: tzdata>=2022.1 in /home/mrzebodexxsz/anaconda3/lib/python3.11/site-packages (from pandas>=0.24->catboost) (2023.3)\n",
      "Requirement already satisfied: contourpy>=1.0.1 in /home/mrzebodexxsz/anaconda3/lib/python3.11/site-packages (from matplotlib->catboost) (1.2.0)\n",
      "Requirement already satisfied: cycler>=0.10 in /home/mrzebodexxsz/anaconda3/lib/python3.11/site-packages (from matplotlib->catboost) (0.11.0)\n",
      "Requirement already satisfied: fonttools>=4.22.0 in /home/mrzebodexxsz/anaconda3/lib/python3.11/site-packages (from matplotlib->catboost) (4.25.0)\n",
      "Requirement already satisfied: kiwisolver>=1.0.1 in /home/mrzebodexxsz/anaconda3/lib/python3.11/site-packages (from matplotlib->catboost) (1.4.4)\n",
      "Requirement already satisfied: packaging>=20.0 in /home/mrzebodexxsz/anaconda3/lib/python3.11/site-packages (from matplotlib->catboost) (23.1)\n",
      "Requirement already satisfied: pillow>=6.2.0 in /home/mrzebodexxsz/anaconda3/lib/python3.11/site-packages (from matplotlib->catboost) (10.2.0)\n",
      "Requirement already satisfied: pyparsing>=2.3.1 in /home/mrzebodexxsz/anaconda3/lib/python3.11/site-packages (from matplotlib->catboost) (3.0.9)\n",
      "Requirement already satisfied: tenacity>=6.2.0 in /home/mrzebodexxsz/anaconda3/lib/python3.11/site-packages (from plotly->catboost) (8.2.2)\n"
     ]
    }
   ],
   "source": [
    "#Instalação\n",
    "!pip install catboost"
   ]
  },
  {
   "cell_type": "code",
   "execution_count": 201,
   "metadata": {
    "id": "kisDuh-RUChW"
   },
   "outputs": [],
   "source": [
    "from catboost import CatBoostClassifier"
   ]
  },
  {
   "cell_type": "code",
   "execution_count": 202,
   "metadata": {
    "id": "fochAJydUChX"
   },
   "outputs": [
    {
     "data": {
      "text/html": [
       "<div>\n",
       "<style scoped>\n",
       "    .dataframe tbody tr th:only-of-type {\n",
       "        vertical-align: middle;\n",
       "    }\n",
       "\n",
       "    .dataframe tbody tr th {\n",
       "        vertical-align: top;\n",
       "    }\n",
       "\n",
       "    .dataframe thead th {\n",
       "        text-align: right;\n",
       "    }\n",
       "</style>\n",
       "<table border=\"1\" class=\"dataframe\">\n",
       "  <thead>\n",
       "    <tr style=\"text-align: right;\">\n",
       "      <th></th>\n",
       "      <th>Age</th>\n",
       "      <th>Sex</th>\n",
       "      <th>ChestPainType</th>\n",
       "      <th>RestingBP</th>\n",
       "      <th>Cholesterol</th>\n",
       "      <th>FastingBS</th>\n",
       "      <th>RestingECG</th>\n",
       "      <th>MaxHR</th>\n",
       "      <th>ExerciseAngina</th>\n",
       "      <th>Oldpeak</th>\n",
       "      <th>ST_Slope</th>\n",
       "      <th>HeartDisease</th>\n",
       "    </tr>\n",
       "  </thead>\n",
       "  <tbody>\n",
       "    <tr>\n",
       "      <th>0</th>\n",
       "      <td>40</td>\n",
       "      <td>M</td>\n",
       "      <td>ATA</td>\n",
       "      <td>140</td>\n",
       "      <td>289.0</td>\n",
       "      <td>0</td>\n",
       "      <td>Normal</td>\n",
       "      <td>172</td>\n",
       "      <td>N</td>\n",
       "      <td>0.0</td>\n",
       "      <td>Up</td>\n",
       "      <td>0</td>\n",
       "    </tr>\n",
       "    <tr>\n",
       "      <th>1</th>\n",
       "      <td>49</td>\n",
       "      <td>F</td>\n",
       "      <td>NAP</td>\n",
       "      <td>160</td>\n",
       "      <td>180.0</td>\n",
       "      <td>0</td>\n",
       "      <td>Normal</td>\n",
       "      <td>156</td>\n",
       "      <td>N</td>\n",
       "      <td>1.0</td>\n",
       "      <td>Flat</td>\n",
       "      <td>1</td>\n",
       "    </tr>\n",
       "    <tr>\n",
       "      <th>2</th>\n",
       "      <td>37</td>\n",
       "      <td>M</td>\n",
       "      <td>ATA</td>\n",
       "      <td>130</td>\n",
       "      <td>283.0</td>\n",
       "      <td>0</td>\n",
       "      <td>ST</td>\n",
       "      <td>98</td>\n",
       "      <td>N</td>\n",
       "      <td>0.0</td>\n",
       "      <td>Up</td>\n",
       "      <td>0</td>\n",
       "    </tr>\n",
       "    <tr>\n",
       "      <th>3</th>\n",
       "      <td>48</td>\n",
       "      <td>F</td>\n",
       "      <td>ASY</td>\n",
       "      <td>138</td>\n",
       "      <td>214.0</td>\n",
       "      <td>0</td>\n",
       "      <td>Normal</td>\n",
       "      <td>108</td>\n",
       "      <td>Y</td>\n",
       "      <td>1.5</td>\n",
       "      <td>Flat</td>\n",
       "      <td>1</td>\n",
       "    </tr>\n",
       "    <tr>\n",
       "      <th>4</th>\n",
       "      <td>54</td>\n",
       "      <td>M</td>\n",
       "      <td>NAP</td>\n",
       "      <td>150</td>\n",
       "      <td>195.0</td>\n",
       "      <td>0</td>\n",
       "      <td>Normal</td>\n",
       "      <td>122</td>\n",
       "      <td>N</td>\n",
       "      <td>0.0</td>\n",
       "      <td>Up</td>\n",
       "      <td>0</td>\n",
       "    </tr>\n",
       "    <tr>\n",
       "      <th>...</th>\n",
       "      <td>...</td>\n",
       "      <td>...</td>\n",
       "      <td>...</td>\n",
       "      <td>...</td>\n",
       "      <td>...</td>\n",
       "      <td>...</td>\n",
       "      <td>...</td>\n",
       "      <td>...</td>\n",
       "      <td>...</td>\n",
       "      <td>...</td>\n",
       "      <td>...</td>\n",
       "      <td>...</td>\n",
       "    </tr>\n",
       "    <tr>\n",
       "      <th>912</th>\n",
       "      <td>45</td>\n",
       "      <td>M</td>\n",
       "      <td>TA</td>\n",
       "      <td>110</td>\n",
       "      <td>264.0</td>\n",
       "      <td>0</td>\n",
       "      <td>Normal</td>\n",
       "      <td>132</td>\n",
       "      <td>N</td>\n",
       "      <td>1.2</td>\n",
       "      <td>Flat</td>\n",
       "      <td>1</td>\n",
       "    </tr>\n",
       "    <tr>\n",
       "      <th>913</th>\n",
       "      <td>68</td>\n",
       "      <td>M</td>\n",
       "      <td>ASY</td>\n",
       "      <td>144</td>\n",
       "      <td>193.0</td>\n",
       "      <td>1</td>\n",
       "      <td>Normal</td>\n",
       "      <td>141</td>\n",
       "      <td>N</td>\n",
       "      <td>3.4</td>\n",
       "      <td>Flat</td>\n",
       "      <td>1</td>\n",
       "    </tr>\n",
       "    <tr>\n",
       "      <th>914</th>\n",
       "      <td>57</td>\n",
       "      <td>M</td>\n",
       "      <td>ASY</td>\n",
       "      <td>130</td>\n",
       "      <td>131.0</td>\n",
       "      <td>0</td>\n",
       "      <td>Normal</td>\n",
       "      <td>115</td>\n",
       "      <td>Y</td>\n",
       "      <td>1.2</td>\n",
       "      <td>Flat</td>\n",
       "      <td>1</td>\n",
       "    </tr>\n",
       "    <tr>\n",
       "      <th>915</th>\n",
       "      <td>57</td>\n",
       "      <td>F</td>\n",
       "      <td>ATA</td>\n",
       "      <td>130</td>\n",
       "      <td>236.0</td>\n",
       "      <td>0</td>\n",
       "      <td>LVH</td>\n",
       "      <td>174</td>\n",
       "      <td>N</td>\n",
       "      <td>0.0</td>\n",
       "      <td>Flat</td>\n",
       "      <td>1</td>\n",
       "    </tr>\n",
       "    <tr>\n",
       "      <th>916</th>\n",
       "      <td>38</td>\n",
       "      <td>M</td>\n",
       "      <td>NAP</td>\n",
       "      <td>138</td>\n",
       "      <td>175.0</td>\n",
       "      <td>0</td>\n",
       "      <td>Normal</td>\n",
       "      <td>173</td>\n",
       "      <td>N</td>\n",
       "      <td>0.0</td>\n",
       "      <td>Up</td>\n",
       "      <td>0</td>\n",
       "    </tr>\n",
       "  </tbody>\n",
       "</table>\n",
       "<p>917 rows × 12 columns</p>\n",
       "</div>"
      ],
      "text/plain": [
       "     Age Sex ChestPainType  RestingBP  Cholesterol  FastingBS RestingECG  \\\n",
       "0     40   M           ATA        140        289.0          0     Normal   \n",
       "1     49   F           NAP        160        180.0          0     Normal   \n",
       "2     37   M           ATA        130        283.0          0         ST   \n",
       "3     48   F           ASY        138        214.0          0     Normal   \n",
       "4     54   M           NAP        150        195.0          0     Normal   \n",
       "..   ...  ..           ...        ...          ...        ...        ...   \n",
       "912   45   M            TA        110        264.0          0     Normal   \n",
       "913   68   M           ASY        144        193.0          1     Normal   \n",
       "914   57   M           ASY        130        131.0          0     Normal   \n",
       "915   57   F           ATA        130        236.0          0        LVH   \n",
       "916   38   M           NAP        138        175.0          0     Normal   \n",
       "\n",
       "     MaxHR ExerciseAngina  Oldpeak ST_Slope  HeartDisease  \n",
       "0      172              N      0.0       Up             0  \n",
       "1      156              N      1.0     Flat             1  \n",
       "2       98              N      0.0       Up             0  \n",
       "3      108              Y      1.5     Flat             1  \n",
       "4      122              N      0.0       Up             0  \n",
       "..     ...            ...      ...      ...           ...  \n",
       "912    132              N      1.2     Flat             1  \n",
       "913    141              N      3.4     Flat             1  \n",
       "914    115              Y      1.2     Flat             1  \n",
       "915    174              N      0.0     Flat             1  \n",
       "916    173              N      0.0       Up             0  \n",
       "\n",
       "[917 rows x 12 columns]"
      ]
     },
     "execution_count": 202,
     "metadata": {},
     "output_type": "execute_result"
    }
   ],
   "source": [
    "df"
   ]
  },
  {
   "cell_type": "code",
   "execution_count": 203,
   "metadata": {
    "id": "mFw4wb_2CZWv"
   },
   "outputs": [],
   "source": [
    "previsores4 = df.iloc[:, 0:11]"
   ]
  },
  {
   "cell_type": "code",
   "execution_count": 204,
   "metadata": {
    "id": "6EGMtQa9Dwf7"
   },
   "outputs": [
    {
     "data": {
      "text/html": [
       "<div>\n",
       "<style scoped>\n",
       "    .dataframe tbody tr th:only-of-type {\n",
       "        vertical-align: middle;\n",
       "    }\n",
       "\n",
       "    .dataframe tbody tr th {\n",
       "        vertical-align: top;\n",
       "    }\n",
       "\n",
       "    .dataframe thead th {\n",
       "        text-align: right;\n",
       "    }\n",
       "</style>\n",
       "<table border=\"1\" class=\"dataframe\">\n",
       "  <thead>\n",
       "    <tr style=\"text-align: right;\">\n",
       "      <th></th>\n",
       "      <th>Age</th>\n",
       "      <th>Sex</th>\n",
       "      <th>ChestPainType</th>\n",
       "      <th>RestingBP</th>\n",
       "      <th>Cholesterol</th>\n",
       "      <th>FastingBS</th>\n",
       "      <th>RestingECG</th>\n",
       "      <th>MaxHR</th>\n",
       "      <th>ExerciseAngina</th>\n",
       "      <th>Oldpeak</th>\n",
       "      <th>ST_Slope</th>\n",
       "    </tr>\n",
       "  </thead>\n",
       "  <tbody>\n",
       "    <tr>\n",
       "      <th>0</th>\n",
       "      <td>40</td>\n",
       "      <td>M</td>\n",
       "      <td>ATA</td>\n",
       "      <td>140</td>\n",
       "      <td>289.0</td>\n",
       "      <td>0</td>\n",
       "      <td>Normal</td>\n",
       "      <td>172</td>\n",
       "      <td>N</td>\n",
       "      <td>0.0</td>\n",
       "      <td>Up</td>\n",
       "    </tr>\n",
       "    <tr>\n",
       "      <th>1</th>\n",
       "      <td>49</td>\n",
       "      <td>F</td>\n",
       "      <td>NAP</td>\n",
       "      <td>160</td>\n",
       "      <td>180.0</td>\n",
       "      <td>0</td>\n",
       "      <td>Normal</td>\n",
       "      <td>156</td>\n",
       "      <td>N</td>\n",
       "      <td>1.0</td>\n",
       "      <td>Flat</td>\n",
       "    </tr>\n",
       "    <tr>\n",
       "      <th>2</th>\n",
       "      <td>37</td>\n",
       "      <td>M</td>\n",
       "      <td>ATA</td>\n",
       "      <td>130</td>\n",
       "      <td>283.0</td>\n",
       "      <td>0</td>\n",
       "      <td>ST</td>\n",
       "      <td>98</td>\n",
       "      <td>N</td>\n",
       "      <td>0.0</td>\n",
       "      <td>Up</td>\n",
       "    </tr>\n",
       "    <tr>\n",
       "      <th>3</th>\n",
       "      <td>48</td>\n",
       "      <td>F</td>\n",
       "      <td>ASY</td>\n",
       "      <td>138</td>\n",
       "      <td>214.0</td>\n",
       "      <td>0</td>\n",
       "      <td>Normal</td>\n",
       "      <td>108</td>\n",
       "      <td>Y</td>\n",
       "      <td>1.5</td>\n",
       "      <td>Flat</td>\n",
       "    </tr>\n",
       "    <tr>\n",
       "      <th>4</th>\n",
       "      <td>54</td>\n",
       "      <td>M</td>\n",
       "      <td>NAP</td>\n",
       "      <td>150</td>\n",
       "      <td>195.0</td>\n",
       "      <td>0</td>\n",
       "      <td>Normal</td>\n",
       "      <td>122</td>\n",
       "      <td>N</td>\n",
       "      <td>0.0</td>\n",
       "      <td>Up</td>\n",
       "    </tr>\n",
       "  </tbody>\n",
       "</table>\n",
       "</div>"
      ],
      "text/plain": [
       "   Age Sex ChestPainType  RestingBP  Cholesterol  FastingBS RestingECG  MaxHR  \\\n",
       "0   40   M           ATA        140        289.0          0     Normal    172   \n",
       "1   49   F           NAP        160        180.0          0     Normal    156   \n",
       "2   37   M           ATA        130        283.0          0         ST     98   \n",
       "3   48   F           ASY        138        214.0          0     Normal    108   \n",
       "4   54   M           NAP        150        195.0          0     Normal    122   \n",
       "\n",
       "  ExerciseAngina  Oldpeak ST_Slope  \n",
       "0              N      0.0       Up  \n",
       "1              N      1.0     Flat  \n",
       "2              N      0.0       Up  \n",
       "3              Y      1.5     Flat  \n",
       "4              N      0.0       Up  "
      ]
     },
     "execution_count": 204,
     "metadata": {},
     "output_type": "execute_result"
    }
   ],
   "source": [
    "previsores4.head()"
   ]
  },
  {
   "cell_type": "code",
   "execution_count": 205,
   "metadata": {
    "id": "G0qli4gSEBbM"
   },
   "outputs": [],
   "source": [
    "alvo4 = df.iloc[:, 11]"
   ]
  },
  {
   "cell_type": "code",
   "execution_count": 206,
   "metadata": {
    "id": "hAcS1ULCC78V"
   },
   "outputs": [],
   "source": [
    "from sklearn.model_selection import train_test_split"
   ]
  },
  {
   "cell_type": "code",
   "execution_count": 207,
   "metadata": {
    "id": "OP69_qpGC78W"
   },
   "outputs": [],
   "source": [
    "x_treino, x_teste, y_treino, y_teste = train_test_split(previsores4, alvo4, test_size = 0.3, random_state = 0)"
   ]
  },
  {
   "cell_type": "code",
   "execution_count": 208,
   "metadata": {
    "id": "B9Gb_1r2UChX"
   },
   "outputs": [],
   "source": [
    "categoricas = ['Sex','ChestPainType', 'RestingECG', 'ExerciseAngina', 'ST_Slope']"
   ]
  },
  {
   "cell_type": "code",
   "execution_count": 209,
   "metadata": {
    "id": "kM7Xaph4UChY"
   },
   "outputs": [],
   "source": [
    "catboost = CatBoostClassifier(task_type='CPU', iterations=100, learning_rate=0.1, depth = 8, random_state = 5,\n",
    "                              eval_metric=\"Accuracy\")"
   ]
  },
  {
   "cell_type": "code",
   "execution_count": 210,
   "metadata": {
    "id": "frZ9Fw1EUChY"
   },
   "outputs": [
    {
     "data": {
      "application/vnd.jupyter.widget-view+json": {
       "model_id": "38620c0aebdc4b34bb1ccd933c09030c",
       "version_major": 2,
       "version_minor": 0
      },
      "text/plain": [
       "MetricVisualizer(layout=Layout(align_self='stretch', height='500px'))"
      ]
     },
     "metadata": {},
     "output_type": "display_data"
    },
    {
     "name": "stdout",
     "output_type": "stream",
     "text": [
      "0:\tlearn: 0.8861154\ttest: 0.7789855\tbest: 0.7789855 (0)\ttotal: 49.6ms\tremaining: 4.91s\n",
      "1:\tlearn: 0.8689548\ttest: 0.7934783\tbest: 0.7934783 (1)\ttotal: 51.5ms\tremaining: 2.52s\n",
      "2:\tlearn: 0.8471139\ttest: 0.7971014\tbest: 0.7971014 (2)\ttotal: 52.5ms\tremaining: 1.7s\n",
      "3:\tlearn: 0.8549142\ttest: 0.8043478\tbest: 0.8043478 (3)\ttotal: 53.6ms\tremaining: 1.29s\n",
      "4:\tlearn: 0.8517941\ttest: 0.8043478\tbest: 0.8043478 (3)\ttotal: 54.8ms\tremaining: 1.04s\n",
      "5:\tlearn: 0.8486739\ttest: 0.8043478\tbest: 0.8043478 (3)\ttotal: 56ms\tremaining: 878ms\n",
      "6:\tlearn: 0.8580343\ttest: 0.8115942\tbest: 0.8115942 (6)\ttotal: 57.1ms\tremaining: 759ms\n",
      "7:\tlearn: 0.8642746\ttest: 0.8043478\tbest: 0.8115942 (6)\ttotal: 58.1ms\tremaining: 668ms\n",
      "8:\tlearn: 0.8533541\ttest: 0.8043478\tbest: 0.8115942 (6)\ttotal: 59.3ms\tremaining: 600ms\n",
      "9:\tlearn: 0.8611544\ttest: 0.8115942\tbest: 0.8115942 (6)\ttotal: 60.4ms\tremaining: 544ms\n",
      "10:\tlearn: 0.8642746\ttest: 0.8079710\tbest: 0.8115942 (6)\ttotal: 61.5ms\tremaining: 498ms\n",
      "11:\tlearn: 0.8658346\ttest: 0.8043478\tbest: 0.8115942 (6)\ttotal: 62.6ms\tremaining: 459ms\n",
      "12:\tlearn: 0.8689548\ttest: 0.8043478\tbest: 0.8115942 (6)\ttotal: 63.7ms\tremaining: 427ms\n",
      "13:\tlearn: 0.8611544\ttest: 0.8007246\tbest: 0.8115942 (6)\ttotal: 64ms\tremaining: 393ms\n",
      "14:\tlearn: 0.8611544\ttest: 0.8007246\tbest: 0.8115942 (6)\ttotal: 64.9ms\tremaining: 368ms\n",
      "15:\tlearn: 0.8658346\ttest: 0.7971014\tbest: 0.8115942 (6)\ttotal: 65.5ms\tremaining: 344ms\n",
      "16:\tlearn: 0.8673947\ttest: 0.7971014\tbest: 0.8115942 (6)\ttotal: 66.6ms\tremaining: 325ms\n",
      "17:\tlearn: 0.8689548\ttest: 0.8007246\tbest: 0.8115942 (6)\ttotal: 67.8ms\tremaining: 309ms\n",
      "18:\tlearn: 0.8720749\ttest: 0.8007246\tbest: 0.8115942 (6)\ttotal: 68.9ms\tremaining: 294ms\n",
      "19:\tlearn: 0.8767551\ttest: 0.8007246\tbest: 0.8115942 (6)\ttotal: 70ms\tremaining: 280ms\n",
      "20:\tlearn: 0.8767551\ttest: 0.8079710\tbest: 0.8115942 (6)\ttotal: 71.2ms\tremaining: 268ms\n",
      "21:\tlearn: 0.8798752\ttest: 0.8079710\tbest: 0.8115942 (6)\ttotal: 72.3ms\tremaining: 256ms\n",
      "22:\tlearn: 0.8814353\ttest: 0.8079710\tbest: 0.8115942 (6)\ttotal: 73.5ms\tremaining: 246ms\n",
      "23:\tlearn: 0.8814353\ttest: 0.8079710\tbest: 0.8115942 (6)\ttotal: 75ms\tremaining: 237ms\n",
      "24:\tlearn: 0.8814353\ttest: 0.8079710\tbest: 0.8115942 (6)\ttotal: 76ms\tremaining: 228ms\n",
      "25:\tlearn: 0.8829953\ttest: 0.8115942\tbest: 0.8115942 (6)\ttotal: 77.1ms\tremaining: 219ms\n",
      "26:\tlearn: 0.8845554\ttest: 0.8152174\tbest: 0.8152174 (26)\ttotal: 78.4ms\tremaining: 212ms\n",
      "27:\tlearn: 0.8829953\ttest: 0.8152174\tbest: 0.8152174 (26)\ttotal: 78.8ms\tremaining: 203ms\n",
      "28:\tlearn: 0.8861154\ttest: 0.8115942\tbest: 0.8152174 (26)\ttotal: 80.4ms\tremaining: 197ms\n",
      "29:\tlearn: 0.8939158\ttest: 0.8115942\tbest: 0.8152174 (26)\ttotal: 81.6ms\tremaining: 190ms\n",
      "30:\tlearn: 0.8954758\ttest: 0.8115942\tbest: 0.8152174 (26)\ttotal: 83.2ms\tremaining: 185ms\n",
      "31:\tlearn: 0.8954758\ttest: 0.8152174\tbest: 0.8152174 (26)\ttotal: 84.7ms\tremaining: 180ms\n",
      "32:\tlearn: 0.8970359\ttest: 0.8115942\tbest: 0.8152174 (26)\ttotal: 86ms\tremaining: 175ms\n",
      "33:\tlearn: 0.9001560\ttest: 0.8152174\tbest: 0.8152174 (26)\ttotal: 88ms\tremaining: 171ms\n",
      "34:\tlearn: 0.9048362\ttest: 0.8188406\tbest: 0.8188406 (34)\ttotal: 89.6ms\tremaining: 166ms\n",
      "35:\tlearn: 0.9095164\ttest: 0.8297101\tbest: 0.8297101 (35)\ttotal: 91ms\tremaining: 162ms\n",
      "36:\tlearn: 0.9110764\ttest: 0.8224638\tbest: 0.8297101 (35)\ttotal: 92ms\tremaining: 157ms\n",
      "37:\tlearn: 0.9157566\ttest: 0.8260870\tbest: 0.8297101 (35)\ttotal: 93.4ms\tremaining: 152ms\n",
      "38:\tlearn: 0.9157566\ttest: 0.8333333\tbest: 0.8333333 (38)\ttotal: 93.8ms\tremaining: 147ms\n",
      "39:\tlearn: 0.9173167\ttest: 0.8333333\tbest: 0.8333333 (38)\ttotal: 94.9ms\tremaining: 142ms\n",
      "40:\tlearn: 0.9141966\ttest: 0.8369565\tbest: 0.8369565 (40)\ttotal: 95.3ms\tremaining: 137ms\n",
      "41:\tlearn: 0.9141966\ttest: 0.8405797\tbest: 0.8405797 (41)\ttotal: 96.3ms\tremaining: 133ms\n",
      "42:\tlearn: 0.9173167\ttest: 0.8442029\tbest: 0.8442029 (42)\ttotal: 97.6ms\tremaining: 129ms\n",
      "43:\tlearn: 0.9173167\ttest: 0.8514493\tbest: 0.8514493 (43)\ttotal: 98.5ms\tremaining: 125ms\n",
      "44:\tlearn: 0.9173167\ttest: 0.8478261\tbest: 0.8514493 (43)\ttotal: 100ms\tremaining: 122ms\n",
      "45:\tlearn: 0.9188768\ttest: 0.8478261\tbest: 0.8514493 (43)\ttotal: 101ms\tremaining: 119ms\n",
      "46:\tlearn: 0.9204368\ttest: 0.8514493\tbest: 0.8514493 (43)\ttotal: 103ms\tremaining: 116ms\n",
      "47:\tlearn: 0.9204368\ttest: 0.8550725\tbest: 0.8550725 (47)\ttotal: 104ms\tremaining: 112ms\n",
      "48:\tlearn: 0.9219969\ttest: 0.8623188\tbest: 0.8623188 (48)\ttotal: 105ms\tremaining: 109ms\n",
      "49:\tlearn: 0.9188768\ttest: 0.8623188\tbest: 0.8623188 (48)\ttotal: 105ms\tremaining: 105ms\n",
      "50:\tlearn: 0.9204368\ttest: 0.8659420\tbest: 0.8659420 (50)\ttotal: 106ms\tremaining: 102ms\n",
      "51:\tlearn: 0.9235569\ttest: 0.8659420\tbest: 0.8659420 (50)\ttotal: 107ms\tremaining: 98.8ms\n",
      "52:\tlearn: 0.9235569\ttest: 0.8659420\tbest: 0.8659420 (50)\ttotal: 107ms\tremaining: 95.2ms\n",
      "53:\tlearn: 0.9251170\ttest: 0.8659420\tbest: 0.8659420 (50)\ttotal: 108ms\tremaining: 92.3ms\n",
      "54:\tlearn: 0.9235569\ttest: 0.8695652\tbest: 0.8695652 (54)\ttotal: 109ms\tremaining: 89.5ms\n",
      "55:\tlearn: 0.9204368\ttest: 0.8695652\tbest: 0.8695652 (54)\ttotal: 111ms\tremaining: 86.9ms\n",
      "56:\tlearn: 0.9219969\ttest: 0.8695652\tbest: 0.8695652 (54)\ttotal: 112ms\tremaining: 84.3ms\n",
      "57:\tlearn: 0.9251170\ttest: 0.8695652\tbest: 0.8695652 (54)\ttotal: 113ms\tremaining: 81.8ms\n",
      "58:\tlearn: 0.9266771\ttest: 0.8695652\tbest: 0.8695652 (54)\ttotal: 114ms\tremaining: 79.2ms\n",
      "59:\tlearn: 0.9282371\ttest: 0.8695652\tbest: 0.8695652 (54)\ttotal: 115ms\tremaining: 76.8ms\n",
      "60:\tlearn: 0.9282371\ttest: 0.8695652\tbest: 0.8695652 (54)\ttotal: 117ms\tremaining: 74.7ms\n",
      "61:\tlearn: 0.9282371\ttest: 0.8695652\tbest: 0.8695652 (54)\ttotal: 119ms\tremaining: 72.7ms\n",
      "62:\tlearn: 0.9251170\ttest: 0.8695652\tbest: 0.8695652 (54)\ttotal: 120ms\tremaining: 70.3ms\n",
      "63:\tlearn: 0.9251170\ttest: 0.8695652\tbest: 0.8695652 (54)\ttotal: 121ms\tremaining: 68ms\n",
      "64:\tlearn: 0.9251170\ttest: 0.8695652\tbest: 0.8695652 (54)\ttotal: 121ms\tremaining: 65.2ms\n",
      "65:\tlearn: 0.9251170\ttest: 0.8695652\tbest: 0.8695652 (54)\ttotal: 123ms\tremaining: 63.3ms\n",
      "66:\tlearn: 0.9251170\ttest: 0.8695652\tbest: 0.8695652 (54)\ttotal: 124ms\tremaining: 61.1ms\n",
      "67:\tlearn: 0.9266771\ttest: 0.8695652\tbest: 0.8695652 (54)\ttotal: 124ms\tremaining: 58.6ms\n",
      "68:\tlearn: 0.9266771\ttest: 0.8695652\tbest: 0.8695652 (54)\ttotal: 125ms\tremaining: 56.1ms\n",
      "69:\tlearn: 0.9266771\ttest: 0.8695652\tbest: 0.8695652 (54)\ttotal: 125ms\tremaining: 53.7ms\n",
      "70:\tlearn: 0.9266771\ttest: 0.8695652\tbest: 0.8695652 (54)\ttotal: 126ms\tremaining: 51.6ms\n",
      "71:\tlearn: 0.9266771\ttest: 0.8695652\tbest: 0.8695652 (54)\ttotal: 127ms\tremaining: 49.3ms\n",
      "72:\tlearn: 0.9266771\ttest: 0.8695652\tbest: 0.8695652 (54)\ttotal: 127ms\tremaining: 47ms\n",
      "73:\tlearn: 0.9251170\ttest: 0.8695652\tbest: 0.8695652 (54)\ttotal: 128ms\tremaining: 45.1ms\n",
      "74:\tlearn: 0.9251170\ttest: 0.8695652\tbest: 0.8695652 (54)\ttotal: 129ms\tremaining: 42.9ms\n",
      "75:\tlearn: 0.9266771\ttest: 0.8695652\tbest: 0.8695652 (54)\ttotal: 130ms\tremaining: 40.9ms\n",
      "76:\tlearn: 0.9266771\ttest: 0.8695652\tbest: 0.8695652 (54)\ttotal: 131ms\tremaining: 39.3ms\n",
      "77:\tlearn: 0.9266771\ttest: 0.8695652\tbest: 0.8695652 (54)\ttotal: 133ms\tremaining: 37.4ms\n",
      "78:\tlearn: 0.9266771\ttest: 0.8659420\tbest: 0.8695652 (54)\ttotal: 134ms\tremaining: 35.6ms\n",
      "79:\tlearn: 0.9266771\ttest: 0.8659420\tbest: 0.8695652 (54)\ttotal: 134ms\tremaining: 33.6ms\n",
      "80:\tlearn: 0.9266771\ttest: 0.8659420\tbest: 0.8695652 (54)\ttotal: 136ms\tremaining: 31.9ms\n",
      "81:\tlearn: 0.9266771\ttest: 0.8659420\tbest: 0.8695652 (54)\ttotal: 137ms\tremaining: 30ms\n",
      "82:\tlearn: 0.9266771\ttest: 0.8659420\tbest: 0.8695652 (54)\ttotal: 138ms\tremaining: 28.3ms\n",
      "83:\tlearn: 0.9266771\ttest: 0.8659420\tbest: 0.8695652 (54)\ttotal: 140ms\tremaining: 26.6ms\n",
      "84:\tlearn: 0.9297972\ttest: 0.8659420\tbest: 0.8695652 (54)\ttotal: 141ms\tremaining: 24.9ms\n",
      "85:\tlearn: 0.9297972\ttest: 0.8659420\tbest: 0.8695652 (54)\ttotal: 142ms\tremaining: 23.2ms\n",
      "86:\tlearn: 0.9282371\ttest: 0.8659420\tbest: 0.8695652 (54)\ttotal: 144ms\tremaining: 21.5ms\n",
      "87:\tlearn: 0.9282371\ttest: 0.8659420\tbest: 0.8695652 (54)\ttotal: 145ms\tremaining: 19.8ms\n",
      "88:\tlearn: 0.9282371\ttest: 0.8659420\tbest: 0.8695652 (54)\ttotal: 146ms\tremaining: 18.1ms\n",
      "89:\tlearn: 0.9282371\ttest: 0.8659420\tbest: 0.8695652 (54)\ttotal: 147ms\tremaining: 16.3ms\n",
      "90:\tlearn: 0.9282371\ttest: 0.8659420\tbest: 0.8695652 (54)\ttotal: 148ms\tremaining: 14.6ms\n",
      "91:\tlearn: 0.9282371\ttest: 0.8659420\tbest: 0.8695652 (54)\ttotal: 149ms\tremaining: 13ms\n",
      "92:\tlearn: 0.9282371\ttest: 0.8659420\tbest: 0.8695652 (54)\ttotal: 150ms\tremaining: 11.3ms\n",
      "93:\tlearn: 0.9282371\ttest: 0.8659420\tbest: 0.8695652 (54)\ttotal: 152ms\tremaining: 9.68ms\n",
      "94:\tlearn: 0.9282371\ttest: 0.8659420\tbest: 0.8695652 (54)\ttotal: 153ms\tremaining: 8.04ms\n",
      "95:\tlearn: 0.9282371\ttest: 0.8659420\tbest: 0.8695652 (54)\ttotal: 154ms\tremaining: 6.43ms\n",
      "96:\tlearn: 0.9282371\ttest: 0.8659420\tbest: 0.8695652 (54)\ttotal: 156ms\tremaining: 4.81ms\n",
      "97:\tlearn: 0.9282371\ttest: 0.8659420\tbest: 0.8695652 (54)\ttotal: 157ms\tremaining: 3.2ms\n",
      "98:\tlearn: 0.9282371\ttest: 0.8659420\tbest: 0.8695652 (54)\ttotal: 159ms\tremaining: 1.61ms\n",
      "99:\tlearn: 0.9297972\ttest: 0.8659420\tbest: 0.8695652 (54)\ttotal: 161ms\tremaining: 0us\n",
      "\n",
      "bestTest = 0.8695652174\n",
      "bestIteration = 54\n",
      "\n",
      "Shrink model to first 55 iterations.\n"
     ]
    },
    {
     "data": {
      "text/plain": [
       "<catboost.core.CatBoostClassifier at 0x75643cf53fd0>"
      ]
     },
     "execution_count": 210,
     "metadata": {},
     "output_type": "execute_result"
    }
   ],
   "source": [
    "catboost.fit( x_treino, y_treino, cat_features= categoricas, plot=True, eval_set=(x_teste, y_teste))"
   ]
  },
  {
   "cell_type": "code",
   "execution_count": 211,
   "metadata": {
    "id": "MIJVraLTUChZ"
   },
   "outputs": [
    {
     "data": {
      "text/plain": [
       "array([1, 1, 1, 0, 0, 0, 0, 0, 0, 0, 1, 1, 1, 1, 0, 1, 1, 1, 1, 0, 1, 1,\n",
       "       1, 0, 0, 0, 1, 1, 1, 1, 1, 0, 0, 0, 1, 0, 0, 0, 1, 0, 0, 1, 1, 1,\n",
       "       1, 0, 0, 1, 0, 1, 1, 0, 0, 0, 1, 0, 0, 0, 1, 0, 1, 1, 1, 0, 1, 1,\n",
       "       1, 0, 1, 0, 1, 1, 0, 1, 1, 1, 1, 1, 1, 1, 1, 1, 0, 0, 1, 1, 1, 1,\n",
       "       1, 0, 1, 0, 0, 0, 1, 0, 1, 0, 0, 0, 0, 1, 1, 1, 0, 1, 0, 0, 0, 1,\n",
       "       0, 1, 1, 1, 0, 1, 0, 1, 1, 1, 1, 1, 1, 0, 1, 1, 0, 1, 0, 1, 0, 1,\n",
       "       1, 1, 0, 1, 1, 1, 1, 0, 0, 1, 0, 1, 0, 0, 1, 1, 1, 0, 0, 1, 1, 0,\n",
       "       1, 0, 1, 1, 1, 0, 1, 1, 1, 0, 1, 0, 1, 0, 1, 0, 1, 1, 0, 0, 1, 0,\n",
       "       1, 0, 0, 1, 1, 1, 0, 1, 1, 1, 0, 1, 1, 0, 1, 0, 1, 1, 1, 1, 0, 0,\n",
       "       1, 0, 1, 1, 0, 1, 1, 0, 0, 0, 1, 0, 1, 1, 0, 1, 0, 0, 1, 0, 1, 1,\n",
       "       1, 0, 0, 1, 1, 1, 0, 1, 0, 1, 0, 1, 1, 1, 0, 1, 1, 1, 0, 1, 1, 0,\n",
       "       1, 0, 0, 0, 0, 0, 1, 0, 1, 0, 1, 0, 0, 0, 1, 0, 0, 1, 0, 1, 0, 0,\n",
       "       0, 0, 0, 0, 1, 0, 0, 1, 1, 1, 1, 1])"
      ]
     },
     "execution_count": 211,
     "metadata": {},
     "output_type": "execute_result"
    }
   ],
   "source": [
    "previsoes_cat = catboost.predict(x_teste)\n",
    "previsoes_cat"
   ]
  },
  {
   "cell_type": "code",
   "execution_count": 212,
   "metadata": {
    "id": "dSrjeuL_UCha"
   },
   "outputs": [
    {
     "data": {
      "text/plain": [
       "306    1\n",
       "710    0\n",
       "298    1\n",
       "466    0\n",
       "253    0\n",
       "      ..\n",
       "49     1\n",
       "456    1\n",
       "342    1\n",
       "906    1\n",
       "116    1\n",
       "Name: HeartDisease, Length: 276, dtype: int64"
      ]
     },
     "execution_count": 212,
     "metadata": {},
     "output_type": "execute_result"
    }
   ],
   "source": [
    "y_teste"
   ]
  },
  {
   "cell_type": "code",
   "execution_count": 213,
   "metadata": {
    "id": "r6FeKp07UCha"
   },
   "outputs": [],
   "source": [
    "from sklearn.metrics import accuracy_score, confusion_matrix, classification_report"
   ]
  },
  {
   "cell_type": "code",
   "execution_count": 214,
   "metadata": {
    "id": "rknZXiSyUChb"
   },
   "outputs": [
    {
     "name": "stdout",
     "output_type": "stream",
     "text": [
      "Acurácia: 86.96%\n"
     ]
    }
   ],
   "source": [
    "print(\"Acurácia: %.2f%%\" % (accuracy_score(y_teste, previsoes_cat) * 100.0))"
   ]
  },
  {
   "cell_type": "code",
   "execution_count": 215,
   "metadata": {
    "id": "coB92zR9UChb"
   },
   "outputs": [
    {
     "data": {
      "text/plain": [
       "array([[103,  18],\n",
       "       [ 18, 137]])"
      ]
     },
     "execution_count": 215,
     "metadata": {},
     "output_type": "execute_result"
    }
   ],
   "source": [
    "confusion_matrix(y_teste, previsoes_cat)"
   ]
  },
  {
   "cell_type": "markdown",
   "metadata": {
    "id": "IA02yBduUChc"
   },
   "source": [
    "**Análise dados de treino**"
   ]
  },
  {
   "cell_type": "code",
   "execution_count": 216,
   "metadata": {
    "id": "pu0f-5frUChc"
   },
   "outputs": [
    {
     "data": {
      "text/plain": [
       "array([1, 0, 1, 1, 1, 1, 0, 0, 0, 0, 1, 0, 1, 1, 1, 0, 0, 0, 0, 1, 0, 1,\n",
       "       1, 1, 1, 0, 0, 1, 1, 1, 1, 0, 1, 1, 0, 0, 1, 1, 0, 1, 0, 1, 0, 0,\n",
       "       1, 1, 0, 1, 1, 1, 1, 0, 1, 0, 1, 0, 1, 0, 1, 0, 0, 0, 0, 0, 1, 1,\n",
       "       0, 0, 1, 0, 1, 1, 1, 1, 0, 0, 1, 1, 1, 1, 1, 1, 1, 1, 0, 1, 1, 1,\n",
       "       1, 1, 0, 1, 0, 0, 1, 1, 1, 1, 1, 1, 1, 1, 0, 1, 1, 1, 1, 0, 1, 1,\n",
       "       0, 0, 1, 0, 1, 0, 1, 0, 1, 0, 0, 0, 0, 1, 0, 1, 0, 0, 1, 1, 1, 0,\n",
       "       1, 1, 0, 1, 1, 0, 1, 1, 0, 1, 1, 1, 1, 1, 0, 0, 0, 1, 1, 0, 1, 0,\n",
       "       1, 0, 1, 1, 1, 0, 1, 0, 0, 0, 1, 0, 1, 0, 0, 0, 0, 1, 1, 0, 1, 0,\n",
       "       0, 1, 1, 0, 0, 0, 0, 0, 0, 1, 1, 1, 1, 1, 0, 0, 1, 0, 0, 1, 1, 1,\n",
       "       1, 1, 0, 0, 0, 1, 1, 0, 1, 1, 1, 0, 1, 0, 1, 1, 1, 0, 1, 0, 0, 1,\n",
       "       1, 0, 0, 1, 1, 1, 1, 1, 1, 1, 1, 1, 0, 1, 1, 0, 1, 0, 1, 0, 1, 0,\n",
       "       1, 1, 0, 1, 1, 1, 1, 1, 0, 1, 0, 0, 0, 0, 0, 0, 0, 0, 1, 0, 1, 0,\n",
       "       1, 0, 1, 0, 1, 0, 1, 1, 0, 0, 0, 1, 1, 0, 0, 0, 1, 0, 0, 0, 1, 1,\n",
       "       1, 1, 1, 1, 1, 0, 1, 1, 0, 1, 0, 1, 0, 1, 1, 0, 0, 1, 0, 0, 1, 1,\n",
       "       1, 0, 1, 0, 1, 0, 1, 0, 1, 1, 1, 0, 1, 1, 1, 1, 0, 1, 1, 1, 1, 0,\n",
       "       0, 0, 1, 0, 0, 0, 1, 1, 0, 1, 1, 1, 1, 1, 1, 0, 1, 1, 0, 1, 0, 1,\n",
       "       0, 0, 0, 1, 0, 1, 1, 1, 0, 1, 0, 1, 1, 0, 0, 0, 0, 0, 1, 1, 0, 1,\n",
       "       0, 1, 1, 1, 0, 1, 1, 1, 0, 1, 0, 1, 0, 0, 1, 1, 0, 0, 1, 1, 1, 1,\n",
       "       0, 0, 0, 1, 1, 1, 1, 0, 1, 1, 1, 1, 1, 0, 0, 1, 0, 1, 1, 1, 0, 0,\n",
       "       0, 1, 1, 0, 0, 1, 1, 0, 1, 1, 0, 0, 0, 1, 1, 0, 1, 1, 1, 1, 1, 1,\n",
       "       0, 0, 1, 1, 0, 1, 0, 1, 0, 0, 1, 0, 1, 1, 1, 1, 0, 0, 0, 1, 0, 1,\n",
       "       1, 1, 1, 1, 1, 0, 1, 0, 1, 1, 1, 1, 1, 1, 1, 0, 0, 0, 1, 0, 0, 0,\n",
       "       0, 0, 1, 0, 1, 1, 0, 0, 0, 1, 1, 0, 1, 1, 1, 0, 1, 1, 0, 0, 1, 1,\n",
       "       1, 1, 0, 0, 1, 1, 1, 1, 0, 1, 0, 0, 1, 0, 1, 1, 1, 1, 0, 1, 1, 0,\n",
       "       1, 0, 1, 0, 1, 0, 1, 0, 1, 0, 1, 1, 0, 1, 1, 1, 1, 0, 0, 1, 1, 0,\n",
       "       0, 1, 1, 0, 1, 0, 1, 1, 1, 0, 1, 1, 0, 1, 0, 1, 1, 0, 0, 1, 0, 1,\n",
       "       1, 1, 0, 0, 1, 0, 0, 0, 0, 1, 0, 1, 1, 1, 1, 0, 1, 0, 0, 0, 0, 0,\n",
       "       0, 0, 1, 0, 0, 1, 0, 0, 0, 0, 1, 0, 1, 1, 0, 1, 1, 1, 1, 1, 0, 1,\n",
       "       1, 1, 0, 1, 1, 0, 1, 1, 1, 1, 1, 1, 0, 1, 1, 0, 0, 1, 1, 0, 1, 0,\n",
       "       0, 0, 1])"
      ]
     },
     "execution_count": 216,
     "metadata": {},
     "output_type": "execute_result"
    }
   ],
   "source": [
    "previsoes_treino = catboost.predict(x_treino)\n",
    "previsoes_treino"
   ]
  },
  {
   "cell_type": "code",
   "execution_count": 217,
   "metadata": {
    "id": "agSmZWOEUChc"
   },
   "outputs": [
    {
     "data": {
      "text/plain": [
       "0.9173166926677067"
      ]
     },
     "execution_count": 217,
     "metadata": {},
     "output_type": "execute_result"
    }
   ],
   "source": [
    "accuracy_score(y_treino, previsoes_treino)"
   ]
  },
  {
   "cell_type": "code",
   "execution_count": 218,
   "metadata": {
    "id": "Oh06bx0IUChd"
   },
   "outputs": [
    {
     "data": {
      "text/plain": [
       "array([[255,  34],\n",
       "       [ 19, 333]])"
      ]
     },
     "execution_count": 218,
     "metadata": {},
     "output_type": "execute_result"
    }
   ],
   "source": [
    "confusion_matrix(y_treino, previsoes_treino)"
   ]
  },
  {
   "cell_type": "markdown",
   "metadata": {
    "id": "2LgdzmpMUChd"
   },
   "source": [
    "### **Validação Cruzada**"
   ]
  },
  {
   "cell_type": "code",
   "execution_count": 219,
   "metadata": {
    "id": "N80OsHhNUChd"
   },
   "outputs": [],
   "source": [
    "from sklearn.model_selection import KFold\n",
    "from sklearn.model_selection import cross_val_score"
   ]
  },
  {
   "cell_type": "code",
   "execution_count": 220,
   "metadata": {
    "id": "vkhW9kFUUChd"
   },
   "outputs": [],
   "source": [
    "# Separando os dados em folds\n",
    "kfold = KFold(n_splits = 30, shuffle=True, random_state = 5)"
   ]
  },
  {
   "cell_type": "code",
   "execution_count": 221,
   "metadata": {
    "id": "lwgfw-cVUChd"
   },
   "outputs": [
    {
     "name": "stdout",
     "output_type": "stream",
     "text": [
      "0:\tlearn: 0.8803612\ttotal: 3.96ms\tremaining: 392ms\n",
      "1:\tlearn: 0.8758465\ttotal: 5.23ms\tremaining: 256ms\n",
      "2:\tlearn: 0.8837472\ttotal: 6.14ms\tremaining: 198ms\n",
      "3:\tlearn: 0.8927765\ttotal: 7.25ms\tremaining: 174ms\n",
      "4:\tlearn: 0.8792325\ttotal: 7.52ms\tremaining: 143ms\n",
      "5:\tlearn: 0.8803612\ttotal: 8.58ms\tremaining: 134ms\n",
      "6:\tlearn: 0.8893905\ttotal: 9.5ms\tremaining: 126ms\n",
      "7:\tlearn: 0.8860045\ttotal: 10.5ms\tremaining: 121ms\n",
      "8:\tlearn: 0.8927765\ttotal: 11.4ms\tremaining: 116ms\n",
      "9:\tlearn: 0.8950339\ttotal: 12.4ms\tremaining: 112ms\n",
      "10:\tlearn: 0.8950339\ttotal: 13.7ms\tremaining: 110ms\n",
      "11:\tlearn: 0.8961625\ttotal: 14.7ms\tremaining: 107ms\n",
      "12:\tlearn: 0.8972912\ttotal: 15.8ms\tremaining: 105ms\n",
      "13:\tlearn: 0.8972912\ttotal: 16.7ms\tremaining: 103ms\n",
      "14:\tlearn: 0.8995485\ttotal: 17.6ms\tremaining: 99.9ms\n",
      "15:\tlearn: 0.9006772\ttotal: 18.6ms\tremaining: 97.5ms\n",
      "16:\tlearn: 0.9029345\ttotal: 19.6ms\tremaining: 95.7ms\n",
      "17:\tlearn: 0.9040632\ttotal: 20.6ms\tremaining: 93.8ms\n",
      "18:\tlearn: 0.9018059\ttotal: 20.9ms\tremaining: 89.1ms\n",
      "19:\tlearn: 0.9051919\ttotal: 21.9ms\tremaining: 87.6ms\n",
      "20:\tlearn: 0.9029345\ttotal: 23.2ms\tremaining: 87.2ms\n",
      "21:\tlearn: 0.9074492\ttotal: 24.2ms\tremaining: 85.9ms\n",
      "22:\tlearn: 0.9063205\ttotal: 25.2ms\tremaining: 84.4ms\n",
      "23:\tlearn: 0.9085779\ttotal: 25.4ms\tremaining: 80.5ms\n",
      "24:\tlearn: 0.9097065\ttotal: 26.4ms\tremaining: 79.2ms\n",
      "25:\tlearn: 0.9085779\ttotal: 27.8ms\tremaining: 79ms\n",
      "26:\tlearn: 0.9097065\ttotal: 28.7ms\tremaining: 77.5ms\n",
      "27:\tlearn: 0.9097065\ttotal: 29.6ms\tremaining: 76.2ms\n",
      "28:\tlearn: 0.9130926\ttotal: 30.6ms\tremaining: 74.9ms\n",
      "29:\tlearn: 0.9119639\ttotal: 31.7ms\tremaining: 73.9ms\n",
      "30:\tlearn: 0.9130926\ttotal: 32.7ms\tremaining: 72.9ms\n",
      "31:\tlearn: 0.9130926\ttotal: 33.9ms\tremaining: 72.1ms\n",
      "32:\tlearn: 0.9130926\ttotal: 35.1ms\tremaining: 71.2ms\n",
      "33:\tlearn: 0.9119639\ttotal: 36.3ms\tremaining: 70.4ms\n",
      "34:\tlearn: 0.9142212\ttotal: 37.4ms\tremaining: 69.5ms\n",
      "35:\tlearn: 0.9142212\ttotal: 38.8ms\tremaining: 69ms\n",
      "36:\tlearn: 0.9142212\ttotal: 40.3ms\tremaining: 68.6ms\n",
      "37:\tlearn: 0.9187359\ttotal: 41.5ms\tremaining: 67.6ms\n",
      "38:\tlearn: 0.9164786\ttotal: 42.7ms\tremaining: 66.8ms\n",
      "39:\tlearn: 0.9187359\ttotal: 44ms\tremaining: 66ms\n",
      "40:\tlearn: 0.9198646\ttotal: 45.3ms\tremaining: 65.2ms\n",
      "41:\tlearn: 0.9209932\ttotal: 46.4ms\tremaining: 64.1ms\n",
      "42:\tlearn: 0.9221219\ttotal: 47.5ms\tremaining: 63ms\n",
      "43:\tlearn: 0.9243792\ttotal: 48.6ms\tremaining: 61.8ms\n",
      "44:\tlearn: 0.9232506\ttotal: 49.7ms\tremaining: 60.7ms\n",
      "45:\tlearn: 0.9266366\ttotal: 50.8ms\tremaining: 59.6ms\n",
      "46:\tlearn: 0.9266366\ttotal: 51.8ms\tremaining: 58.4ms\n",
      "47:\tlearn: 0.9277652\ttotal: 53ms\tremaining: 57.4ms\n",
      "48:\tlearn: 0.9277652\ttotal: 54.1ms\tremaining: 56.4ms\n",
      "49:\tlearn: 0.9277652\ttotal: 55.3ms\tremaining: 55.3ms\n",
      "50:\tlearn: 0.9266366\ttotal: 56.4ms\tremaining: 54.2ms\n",
      "51:\tlearn: 0.9277652\ttotal: 57.5ms\tremaining: 53ms\n",
      "52:\tlearn: 0.9277652\ttotal: 58.6ms\tremaining: 52ms\n",
      "53:\tlearn: 0.9277652\ttotal: 59.7ms\tremaining: 50.9ms\n",
      "54:\tlearn: 0.9277652\ttotal: 60.9ms\tremaining: 49.9ms\n",
      "55:\tlearn: 0.9266366\ttotal: 62ms\tremaining: 48.7ms\n",
      "56:\tlearn: 0.9277652\ttotal: 63.1ms\tremaining: 47.6ms\n",
      "57:\tlearn: 0.9288939\ttotal: 64ms\tremaining: 46.4ms\n",
      "58:\tlearn: 0.9277652\ttotal: 65.1ms\tremaining: 45.2ms\n",
      "59:\tlearn: 0.9277652\ttotal: 66.4ms\tremaining: 44.3ms\n",
      "60:\tlearn: 0.9288939\ttotal: 67.6ms\tremaining: 43.2ms\n",
      "61:\tlearn: 0.9300226\ttotal: 68.5ms\tremaining: 42ms\n",
      "62:\tlearn: 0.9300226\ttotal: 68.9ms\tremaining: 40.5ms\n",
      "63:\tlearn: 0.9300226\ttotal: 69.8ms\tremaining: 39.3ms\n",
      "64:\tlearn: 0.9288939\ttotal: 71ms\tremaining: 38.2ms\n",
      "65:\tlearn: 0.9300226\ttotal: 71.9ms\tremaining: 37.1ms\n",
      "66:\tlearn: 0.9300226\ttotal: 72.9ms\tremaining: 35.9ms\n",
      "67:\tlearn: 0.9300226\ttotal: 73.9ms\tremaining: 34.8ms\n",
      "68:\tlearn: 0.9300226\ttotal: 74.9ms\tremaining: 33.7ms\n",
      "69:\tlearn: 0.9288939\ttotal: 75.9ms\tremaining: 32.5ms\n",
      "70:\tlearn: 0.9300226\ttotal: 76.9ms\tremaining: 31.4ms\n",
      "71:\tlearn: 0.9300226\ttotal: 78.1ms\tremaining: 30.4ms\n",
      "72:\tlearn: 0.9322799\ttotal: 79.1ms\tremaining: 29.3ms\n",
      "73:\tlearn: 0.9334086\ttotal: 80.2ms\tremaining: 28.2ms\n",
      "74:\tlearn: 0.9334086\ttotal: 81.2ms\tremaining: 27.1ms\n",
      "75:\tlearn: 0.9334086\ttotal: 82.2ms\tremaining: 26ms\n",
      "76:\tlearn: 0.9367946\ttotal: 83.2ms\tremaining: 24.8ms\n",
      "77:\tlearn: 0.9367946\ttotal: 84.2ms\tremaining: 23.7ms\n",
      "78:\tlearn: 0.9367946\ttotal: 85ms\tremaining: 22.6ms\n",
      "79:\tlearn: 0.9367946\ttotal: 85.7ms\tremaining: 21.4ms\n",
      "80:\tlearn: 0.9356659\ttotal: 86.6ms\tremaining: 20.3ms\n",
      "81:\tlearn: 0.9356659\ttotal: 87.6ms\tremaining: 19.2ms\n",
      "82:\tlearn: 0.9356659\ttotal: 88.5ms\tremaining: 18.1ms\n",
      "83:\tlearn: 0.9356659\ttotal: 90ms\tremaining: 17.1ms\n",
      "84:\tlearn: 0.9356659\ttotal: 91.2ms\tremaining: 16.1ms\n",
      "85:\tlearn: 0.9367946\ttotal: 92.2ms\tremaining: 15ms\n",
      "86:\tlearn: 0.9367946\ttotal: 93.1ms\tremaining: 13.9ms\n",
      "87:\tlearn: 0.9367946\ttotal: 94.1ms\tremaining: 12.8ms\n",
      "88:\tlearn: 0.9367946\ttotal: 94.8ms\tremaining: 11.7ms\n",
      "89:\tlearn: 0.9367946\ttotal: 96.1ms\tremaining: 10.7ms\n",
      "90:\tlearn: 0.9367946\ttotal: 97.6ms\tremaining: 9.65ms\n",
      "91:\tlearn: 0.9367946\ttotal: 98.8ms\tremaining: 8.59ms\n",
      "92:\tlearn: 0.9367946\ttotal: 99.9ms\tremaining: 7.52ms\n",
      "93:\tlearn: 0.9367946\ttotal: 100ms\tremaining: 6.41ms\n",
      "94:\tlearn: 0.9367946\ttotal: 102ms\tremaining: 5.35ms\n",
      "95:\tlearn: 0.9367946\ttotal: 103ms\tremaining: 4.27ms\n",
      "96:\tlearn: 0.9367946\ttotal: 103ms\tremaining: 3.2ms\n",
      "97:\tlearn: 0.9367946\ttotal: 104ms\tremaining: 2.13ms\n",
      "98:\tlearn: 0.9367946\ttotal: 105ms\tremaining: 1.06ms\n",
      "99:\tlearn: 0.9367946\ttotal: 106ms\tremaining: 0us\n",
      "0:\tlearn: 0.8735892\ttotal: 1.5ms\tremaining: 149ms\n",
      "1:\tlearn: 0.8814898\ttotal: 2.52ms\tremaining: 123ms\n",
      "2:\tlearn: 0.8871332\ttotal: 3.46ms\tremaining: 112ms\n",
      "3:\tlearn: 0.8871332\ttotal: 4.61ms\tremaining: 111ms\n",
      "4:\tlearn: 0.8769752\ttotal: 4.91ms\tremaining: 93.3ms\n",
      "5:\tlearn: 0.8735892\ttotal: 5.34ms\tremaining: 83.6ms\n",
      "6:\tlearn: 0.8758465\ttotal: 21.9ms\tremaining: 292ms\n",
      "7:\tlearn: 0.8803612\ttotal: 23ms\tremaining: 264ms\n",
      "8:\tlearn: 0.8803612\ttotal: 24.2ms\tremaining: 245ms\n",
      "9:\tlearn: 0.8814898\ttotal: 25.2ms\tremaining: 227ms\n",
      "10:\tlearn: 0.8814898\ttotal: 26.3ms\tremaining: 213ms\n",
      "11:\tlearn: 0.8814898\ttotal: 27.2ms\tremaining: 200ms\n",
      "12:\tlearn: 0.8814898\ttotal: 28.3ms\tremaining: 189ms\n",
      "13:\tlearn: 0.8860045\ttotal: 28.7ms\tremaining: 176ms\n",
      "14:\tlearn: 0.8860045\ttotal: 29.7ms\tremaining: 168ms\n",
      "15:\tlearn: 0.8882619\ttotal: 30.7ms\tremaining: 161ms\n",
      "16:\tlearn: 0.8893905\ttotal: 31.6ms\tremaining: 154ms\n",
      "17:\tlearn: 0.8905192\ttotal: 32.5ms\tremaining: 148ms\n",
      "18:\tlearn: 0.8927765\ttotal: 33.5ms\tremaining: 143ms\n",
      "19:\tlearn: 0.8905192\ttotal: 34.5ms\tremaining: 138ms\n",
      "20:\tlearn: 0.8916479\ttotal: 35.9ms\tremaining: 135ms\n",
      "21:\tlearn: 0.8927765\ttotal: 36.9ms\tremaining: 131ms\n",
      "22:\tlearn: 0.8972912\ttotal: 37.8ms\tremaining: 127ms\n",
      "23:\tlearn: 0.8984199\ttotal: 39.1ms\tremaining: 124ms\n",
      "24:\tlearn: 0.8984199\ttotal: 40.4ms\tremaining: 121ms\n",
      "25:\tlearn: 0.9006772\ttotal: 41.5ms\tremaining: 118ms\n",
      "26:\tlearn: 0.9006772\ttotal: 42.6ms\tremaining: 115ms\n",
      "27:\tlearn: 0.9051919\ttotal: 43.6ms\tremaining: 112ms\n",
      "28:\tlearn: 0.9051919\ttotal: 44.8ms\tremaining: 110ms\n",
      "29:\tlearn: 0.9074492\ttotal: 45.8ms\tremaining: 107ms\n",
      "30:\tlearn: 0.9074492\ttotal: 46.9ms\tremaining: 104ms\n",
      "31:\tlearn: 0.9063205\ttotal: 47.9ms\tremaining: 102ms\n",
      "32:\tlearn: 0.9063205\ttotal: 49ms\tremaining: 99.4ms\n",
      "33:\tlearn: 0.9063205\ttotal: 50ms\tremaining: 97ms\n",
      "34:\tlearn: 0.9097065\ttotal: 50.9ms\tremaining: 94.6ms\n",
      "35:\tlearn: 0.9108352\ttotal: 51.8ms\tremaining: 92.2ms\n",
      "36:\tlearn: 0.9108352\ttotal: 53.4ms\tremaining: 90.9ms\n",
      "37:\tlearn: 0.9130926\ttotal: 54.9ms\tremaining: 89.6ms\n",
      "38:\tlearn: 0.9153499\ttotal: 56.2ms\tremaining: 87.9ms\n",
      "39:\tlearn: 0.9164786\ttotal: 57.6ms\tremaining: 86.5ms\n",
      "40:\tlearn: 0.9153499\ttotal: 59ms\tremaining: 84.9ms\n",
      "41:\tlearn: 0.9164786\ttotal: 60.6ms\tremaining: 83.6ms\n",
      "42:\tlearn: 0.9164786\ttotal: 61.9ms\tremaining: 82.1ms\n",
      "43:\tlearn: 0.9176072\ttotal: 63.5ms\tremaining: 80.8ms\n",
      "44:\tlearn: 0.9164786\ttotal: 64.7ms\tremaining: 79ms\n",
      "45:\tlearn: 0.9176072\ttotal: 66ms\tremaining: 77.5ms\n",
      "46:\tlearn: 0.9176072\ttotal: 67ms\tremaining: 75.6ms\n",
      "47:\tlearn: 0.9176072\ttotal: 68.1ms\tremaining: 73.7ms\n",
      "48:\tlearn: 0.9198646\ttotal: 69.2ms\tremaining: 72ms\n",
      "49:\tlearn: 0.9209932\ttotal: 70.4ms\tremaining: 70.4ms\n",
      "50:\tlearn: 0.9209932\ttotal: 71.5ms\tremaining: 68.7ms\n",
      "51:\tlearn: 0.9209932\ttotal: 72.7ms\tremaining: 67.1ms\n",
      "52:\tlearn: 0.9221219\ttotal: 73.8ms\tremaining: 65.4ms\n",
      "53:\tlearn: 0.9221219\ttotal: 75ms\tremaining: 63.9ms\n",
      "54:\tlearn: 0.9255079\ttotal: 76.2ms\tremaining: 62.3ms\n",
      "55:\tlearn: 0.9243792\ttotal: 77.3ms\tremaining: 60.7ms\n",
      "56:\tlearn: 0.9243792\ttotal: 78.8ms\tremaining: 59.5ms\n",
      "57:\tlearn: 0.9255079\ttotal: 80ms\tremaining: 57.9ms\n",
      "58:\tlearn: 0.9266366\ttotal: 81.1ms\tremaining: 56.3ms\n",
      "59:\tlearn: 0.9277652\ttotal: 82.3ms\tremaining: 54.9ms\n",
      "60:\tlearn: 0.9277652\ttotal: 83.5ms\tremaining: 53.4ms\n",
      "61:\tlearn: 0.9300226\ttotal: 84.9ms\tremaining: 52ms\n",
      "62:\tlearn: 0.9266366\ttotal: 85.3ms\tremaining: 50.1ms\n",
      "63:\tlearn: 0.9277652\ttotal: 86.5ms\tremaining: 48.6ms\n",
      "64:\tlearn: 0.9277652\ttotal: 87.9ms\tremaining: 47.3ms\n",
      "65:\tlearn: 0.9277652\ttotal: 89.1ms\tremaining: 45.9ms\n",
      "66:\tlearn: 0.9277652\ttotal: 90.4ms\tremaining: 44.5ms\n",
      "67:\tlearn: 0.9288939\ttotal: 91.6ms\tremaining: 43.1ms\n",
      "68:\tlearn: 0.9300226\ttotal: 92.7ms\tremaining: 41.7ms\n",
      "69:\tlearn: 0.9311512\ttotal: 93.9ms\tremaining: 40.2ms\n",
      "70:\tlearn: 0.9300226\ttotal: 95.3ms\tremaining: 38.9ms\n",
      "71:\tlearn: 0.9311512\ttotal: 96.4ms\tremaining: 37.5ms\n",
      "72:\tlearn: 0.9311512\ttotal: 97.6ms\tremaining: 36.1ms\n",
      "73:\tlearn: 0.9300226\ttotal: 98.6ms\tremaining: 34.6ms\n",
      "74:\tlearn: 0.9311512\ttotal: 99.7ms\tremaining: 33.2ms\n",
      "75:\tlearn: 0.9300226\ttotal: 101ms\tremaining: 31.8ms\n",
      "76:\tlearn: 0.9300226\ttotal: 102ms\tremaining: 30.4ms\n",
      "77:\tlearn: 0.9300226\ttotal: 103ms\tremaining: 29.1ms\n",
      "78:\tlearn: 0.9300226\ttotal: 104ms\tremaining: 27.7ms\n",
      "79:\tlearn: 0.9300226\ttotal: 105ms\tremaining: 26.3ms\n",
      "80:\tlearn: 0.9311512\ttotal: 106ms\tremaining: 24.9ms\n",
      "81:\tlearn: 0.9300226\ttotal: 108ms\tremaining: 23.6ms\n",
      "82:\tlearn: 0.9311512\ttotal: 108ms\tremaining: 22.2ms\n",
      "83:\tlearn: 0.9311512\ttotal: 110ms\tremaining: 20.9ms\n",
      "84:\tlearn: 0.9311512\ttotal: 111ms\tremaining: 19.6ms\n",
      "85:\tlearn: 0.9300226\ttotal: 112ms\tremaining: 18.3ms\n",
      "86:\tlearn: 0.9300226\ttotal: 113ms\tremaining: 16.9ms\n",
      "87:\tlearn: 0.9300226\ttotal: 114ms\tremaining: 15.6ms\n",
      "88:\tlearn: 0.9311512\ttotal: 114ms\tremaining: 14.1ms\n",
      "89:\tlearn: 0.9311512\ttotal: 116ms\tremaining: 12.9ms\n",
      "90:\tlearn: 0.9288939\ttotal: 119ms\tremaining: 11.7ms\n",
      "91:\tlearn: 0.9311512\ttotal: 121ms\tremaining: 10.5ms\n",
      "92:\tlearn: 0.9322799\ttotal: 122ms\tremaining: 9.2ms\n",
      "93:\tlearn: 0.9322799\ttotal: 123ms\tremaining: 7.86ms\n",
      "94:\tlearn: 0.9322799\ttotal: 124ms\tremaining: 6.5ms\n",
      "95:\tlearn: 0.9322799\ttotal: 124ms\tremaining: 5.16ms\n",
      "96:\tlearn: 0.9322799\ttotal: 124ms\tremaining: 3.85ms\n",
      "97:\tlearn: 0.9334086\ttotal: 125ms\tremaining: 2.56ms\n",
      "98:\tlearn: 0.9334086\ttotal: 127ms\tremaining: 1.28ms\n",
      "99:\tlearn: 0.9345372\ttotal: 128ms\tremaining: 0us\n",
      "0:\tlearn: 0.8634312\ttotal: 4.29ms\tremaining: 425ms\n",
      "1:\tlearn: 0.8781038\ttotal: 9.53ms\tremaining: 467ms\n",
      "2:\tlearn: 0.8837472\ttotal: 14.8ms\tremaining: 480ms\n",
      "3:\tlearn: 0.8871332\ttotal: 19ms\tremaining: 457ms\n",
      "4:\tlearn: 0.8781038\ttotal: 19.5ms\tremaining: 370ms\n",
      "5:\tlearn: 0.8826185\ttotal: 23.2ms\tremaining: 364ms\n",
      "6:\tlearn: 0.8905192\ttotal: 25.6ms\tremaining: 340ms\n",
      "7:\tlearn: 0.8893905\ttotal: 35.2ms\tremaining: 405ms\n",
      "8:\tlearn: 0.8961625\ttotal: 36.7ms\tremaining: 371ms\n",
      "9:\tlearn: 0.8950339\ttotal: 38.2ms\tremaining: 344ms\n",
      "10:\tlearn: 0.8939052\ttotal: 40.5ms\tremaining: 328ms\n",
      "11:\tlearn: 0.8939052\ttotal: 43ms\tremaining: 315ms\n",
      "12:\tlearn: 0.8950339\ttotal: 45.5ms\tremaining: 304ms\n",
      "13:\tlearn: 0.8939052\ttotal: 49.4ms\tremaining: 303ms\n",
      "14:\tlearn: 0.8961625\ttotal: 51.7ms\tremaining: 293ms\n",
      "15:\tlearn: 0.9018059\ttotal: 54.3ms\tremaining: 285ms\n",
      "16:\tlearn: 0.9051919\ttotal: 55.7ms\tremaining: 272ms\n",
      "17:\tlearn: 0.9029345\ttotal: 59.6ms\tremaining: 272ms\n",
      "18:\tlearn: 0.8995485\ttotal: 60.1ms\tremaining: 256ms\n",
      "19:\tlearn: 0.9029345\ttotal: 62.6ms\tremaining: 251ms\n",
      "20:\tlearn: 0.9040632\ttotal: 64.5ms\tremaining: 243ms\n",
      "21:\tlearn: 0.9018059\ttotal: 66.9ms\tremaining: 237ms\n",
      "22:\tlearn: 0.9051919\ttotal: 68.4ms\tremaining: 229ms\n",
      "23:\tlearn: 0.9074492\ttotal: 68.7ms\tremaining: 218ms\n",
      "24:\tlearn: 0.9063205\ttotal: 70.4ms\tremaining: 211ms\n",
      "25:\tlearn: 0.9119639\ttotal: 72.8ms\tremaining: 207ms\n",
      "26:\tlearn: 0.9108352\ttotal: 75ms\tremaining: 203ms\n",
      "27:\tlearn: 0.9119639\ttotal: 76.7ms\tremaining: 197ms\n",
      "28:\tlearn: 0.9097065\ttotal: 84.2ms\tremaining: 206ms\n",
      "29:\tlearn: 0.9130926\ttotal: 91.1ms\tremaining: 213ms\n",
      "30:\tlearn: 0.9142212\ttotal: 92.5ms\tremaining: 206ms\n",
      "31:\tlearn: 0.9142212\ttotal: 94ms\tremaining: 200ms\n",
      "32:\tlearn: 0.9164786\ttotal: 95.6ms\tremaining: 194ms\n",
      "33:\tlearn: 0.9176072\ttotal: 97.3ms\tremaining: 189ms\n",
      "34:\tlearn: 0.9187359\ttotal: 98.8ms\tremaining: 183ms\n",
      "35:\tlearn: 0.9187359\ttotal: 100ms\tremaining: 178ms\n",
      "36:\tlearn: 0.9198646\ttotal: 102ms\tremaining: 173ms\n",
      "37:\tlearn: 0.9198646\ttotal: 104ms\tremaining: 169ms\n",
      "38:\tlearn: 0.9198646\ttotal: 105ms\tremaining: 164ms\n",
      "39:\tlearn: 0.9221219\ttotal: 106ms\tremaining: 159ms\n",
      "40:\tlearn: 0.9221219\ttotal: 107ms\tremaining: 154ms\n",
      "41:\tlearn: 0.9232506\ttotal: 109ms\tremaining: 150ms\n",
      "42:\tlearn: 0.9221219\ttotal: 111ms\tremaining: 148ms\n",
      "43:\tlearn: 0.9221219\ttotal: 113ms\tremaining: 143ms\n",
      "44:\tlearn: 0.9221219\ttotal: 114ms\tremaining: 139ms\n",
      "45:\tlearn: 0.9232506\ttotal: 115ms\tremaining: 135ms\n",
      "46:\tlearn: 0.9255079\ttotal: 116ms\tremaining: 131ms\n",
      "47:\tlearn: 0.9232506\ttotal: 118ms\tremaining: 127ms\n",
      "48:\tlearn: 0.9243792\ttotal: 119ms\tremaining: 124ms\n",
      "49:\tlearn: 0.9243792\ttotal: 120ms\tremaining: 120ms\n",
      "50:\tlearn: 0.9243792\ttotal: 121ms\tremaining: 116ms\n",
      "51:\tlearn: 0.9266366\ttotal: 122ms\tremaining: 113ms\n",
      "52:\tlearn: 0.9277652\ttotal: 124ms\tremaining: 110ms\n",
      "53:\tlearn: 0.9288939\ttotal: 125ms\tremaining: 106ms\n",
      "54:\tlearn: 0.9288939\ttotal: 126ms\tremaining: 103ms\n",
      "55:\tlearn: 0.9288939\ttotal: 127ms\tremaining: 100ms\n",
      "56:\tlearn: 0.9288939\ttotal: 129ms\tremaining: 97.3ms\n",
      "57:\tlearn: 0.9288939\ttotal: 131ms\tremaining: 94.6ms\n",
      "58:\tlearn: 0.9277652\ttotal: 133ms\tremaining: 92.2ms\n",
      "59:\tlearn: 0.9288939\ttotal: 134ms\tremaining: 89.4ms\n",
      "60:\tlearn: 0.9288939\ttotal: 135ms\tremaining: 86.5ms\n",
      "61:\tlearn: 0.9300226\ttotal: 137ms\tremaining: 83.8ms\n",
      "62:\tlearn: 0.9300226\ttotal: 138ms\tremaining: 81ms\n",
      "63:\tlearn: 0.9300226\ttotal: 139ms\tremaining: 78.3ms\n",
      "64:\tlearn: 0.9311512\ttotal: 141ms\tremaining: 75.7ms\n",
      "65:\tlearn: 0.9322799\ttotal: 142ms\tremaining: 73ms\n",
      "66:\tlearn: 0.9334086\ttotal: 143ms\tremaining: 70.6ms\n",
      "67:\tlearn: 0.9322799\ttotal: 145ms\tremaining: 68ms\n",
      "68:\tlearn: 0.9322799\ttotal: 146ms\tremaining: 65.5ms\n",
      "69:\tlearn: 0.9334086\ttotal: 147ms\tremaining: 63.1ms\n",
      "70:\tlearn: 0.9322799\ttotal: 149ms\tremaining: 60.8ms\n",
      "71:\tlearn: 0.9334086\ttotal: 150ms\tremaining: 58.3ms\n",
      "72:\tlearn: 0.9322799\ttotal: 151ms\tremaining: 55.9ms\n",
      "73:\tlearn: 0.9345372\ttotal: 152ms\tremaining: 53.5ms\n",
      "74:\tlearn: 0.9356659\ttotal: 153ms\tremaining: 51.1ms\n",
      "75:\tlearn: 0.9345372\ttotal: 155ms\tremaining: 48.9ms\n",
      "76:\tlearn: 0.9356659\ttotal: 156ms\tremaining: 46.7ms\n",
      "77:\tlearn: 0.9367946\ttotal: 158ms\tremaining: 44.5ms\n",
      "78:\tlearn: 0.9356659\ttotal: 159ms\tremaining: 42.3ms\n",
      "79:\tlearn: 0.9345372\ttotal: 160ms\tremaining: 40ms\n",
      "80:\tlearn: 0.9379233\ttotal: 161ms\tremaining: 37.9ms\n",
      "81:\tlearn: 0.9367946\ttotal: 162ms\tremaining: 35.5ms\n",
      "82:\tlearn: 0.9367946\ttotal: 164ms\tremaining: 33.6ms\n",
      "83:\tlearn: 0.9390519\ttotal: 166ms\tremaining: 31.6ms\n",
      "84:\tlearn: 0.9390519\ttotal: 168ms\tremaining: 29.6ms\n",
      "85:\tlearn: 0.9379233\ttotal: 169ms\tremaining: 27.5ms\n",
      "86:\tlearn: 0.9379233\ttotal: 171ms\tremaining: 25.5ms\n",
      "87:\tlearn: 0.9379233\ttotal: 173ms\tremaining: 23.6ms\n",
      "88:\tlearn: 0.9379233\ttotal: 174ms\tremaining: 21.5ms\n",
      "89:\tlearn: 0.9379233\ttotal: 177ms\tremaining: 19.7ms\n",
      "90:\tlearn: 0.9379233\ttotal: 179ms\tremaining: 17.7ms\n",
      "91:\tlearn: 0.9379233\ttotal: 179ms\tremaining: 15.6ms\n",
      "92:\tlearn: 0.9379233\ttotal: 181ms\tremaining: 13.6ms\n",
      "93:\tlearn: 0.9379233\ttotal: 182ms\tremaining: 11.6ms\n",
      "94:\tlearn: 0.9390519\ttotal: 184ms\tremaining: 9.67ms\n",
      "95:\tlearn: 0.9401806\ttotal: 186ms\tremaining: 7.76ms\n",
      "96:\tlearn: 0.9401806\ttotal: 189ms\tremaining: 5.83ms\n",
      "97:\tlearn: 0.9413093\ttotal: 191ms\tremaining: 3.89ms\n",
      "98:\tlearn: 0.9424379\ttotal: 193ms\tremaining: 1.95ms\n",
      "99:\tlearn: 0.9424379\ttotal: 194ms\tremaining: 0us\n",
      "0:\tlearn: 0.8713318\ttotal: 1.27ms\tremaining: 126ms\n",
      "1:\tlearn: 0.8781038\ttotal: 2.44ms\tremaining: 119ms\n",
      "2:\tlearn: 0.8950339\ttotal: 3.3ms\tremaining: 107ms\n",
      "3:\tlearn: 0.8995485\ttotal: 4.18ms\tremaining: 100ms\n",
      "4:\tlearn: 0.8848758\ttotal: 4.41ms\tremaining: 83.9ms\n",
      "5:\tlearn: 0.8826185\ttotal: 4.68ms\tremaining: 73.4ms\n",
      "6:\tlearn: 0.8803612\ttotal: 5.33ms\tremaining: 70.9ms\n",
      "7:\tlearn: 0.8792325\ttotal: 9.18ms\tremaining: 106ms\n",
      "8:\tlearn: 0.8826185\ttotal: 10.2ms\tremaining: 103ms\n",
      "9:\tlearn: 0.8826185\ttotal: 11.1ms\tremaining: 100ms\n",
      "10:\tlearn: 0.8871332\ttotal: 12.3ms\tremaining: 99.9ms\n",
      "11:\tlearn: 0.8837472\ttotal: 13.2ms\tremaining: 96.9ms\n",
      "12:\tlearn: 0.8871332\ttotal: 14.4ms\tremaining: 96.6ms\n",
      "13:\tlearn: 0.8860045\ttotal: 14.8ms\tremaining: 91ms\n",
      "14:\tlearn: 0.8848758\ttotal: 15.8ms\tremaining: 89.3ms\n",
      "15:\tlearn: 0.8860045\ttotal: 16.7ms\tremaining: 87.6ms\n",
      "16:\tlearn: 0.8837472\ttotal: 17.7ms\tremaining: 86.6ms\n",
      "17:\tlearn: 0.8871332\ttotal: 19.1ms\tremaining: 87.1ms\n",
      "18:\tlearn: 0.8893905\ttotal: 20.1ms\tremaining: 85.9ms\n",
      "19:\tlearn: 0.8905192\ttotal: 21.4ms\tremaining: 85.6ms\n",
      "20:\tlearn: 0.8916479\ttotal: 22.4ms\tremaining: 84.2ms\n",
      "21:\tlearn: 0.8961625\ttotal: 23.4ms\tremaining: 82.9ms\n",
      "22:\tlearn: 0.8961625\ttotal: 24.3ms\tremaining: 81.4ms\n",
      "23:\tlearn: 0.9018059\ttotal: 25.2ms\tremaining: 79.9ms\n",
      "24:\tlearn: 0.9029345\ttotal: 26ms\tremaining: 78.1ms\n",
      "25:\tlearn: 0.9040632\ttotal: 26.9ms\tremaining: 76.6ms\n",
      "26:\tlearn: 0.9051919\ttotal: 27.8ms\tremaining: 75.2ms\n",
      "27:\tlearn: 0.9074492\ttotal: 28.6ms\tremaining: 73.6ms\n",
      "28:\tlearn: 0.9108352\ttotal: 29.4ms\tremaining: 72ms\n",
      "29:\tlearn: 0.9108352\ttotal: 30.2ms\tremaining: 70.5ms\n",
      "30:\tlearn: 0.9108352\ttotal: 31.1ms\tremaining: 69.2ms\n",
      "31:\tlearn: 0.9108352\ttotal: 31.9ms\tremaining: 67.8ms\n",
      "32:\tlearn: 0.9108352\ttotal: 32.7ms\tremaining: 66.4ms\n",
      "33:\tlearn: 0.9097065\ttotal: 33.5ms\tremaining: 65ms\n",
      "34:\tlearn: 0.9130926\ttotal: 34.3ms\tremaining: 63.8ms\n",
      "35:\tlearn: 0.9130926\ttotal: 35.2ms\tremaining: 62.5ms\n",
      "36:\tlearn: 0.9164786\ttotal: 35.9ms\tremaining: 61.2ms\n",
      "37:\tlearn: 0.9164786\ttotal: 36.8ms\tremaining: 60ms\n",
      "38:\tlearn: 0.9164786\ttotal: 37.6ms\tremaining: 58.8ms\n",
      "39:\tlearn: 0.9176072\ttotal: 38.4ms\tremaining: 57.7ms\n",
      "40:\tlearn: 0.9187359\ttotal: 39.2ms\tremaining: 56.5ms\n",
      "41:\tlearn: 0.9187359\ttotal: 40.1ms\tremaining: 55.4ms\n",
      "42:\tlearn: 0.9198646\ttotal: 40.9ms\tremaining: 54.2ms\n",
      "43:\tlearn: 0.9198646\ttotal: 41.7ms\tremaining: 53.1ms\n",
      "44:\tlearn: 0.9209932\ttotal: 42.5ms\tremaining: 51.9ms\n",
      "45:\tlearn: 0.9232506\ttotal: 43.3ms\tremaining: 50.8ms\n",
      "46:\tlearn: 0.9232506\ttotal: 44.7ms\tremaining: 50.4ms\n",
      "47:\tlearn: 0.9232506\ttotal: 45.7ms\tremaining: 49.5ms\n",
      "48:\tlearn: 0.9232506\ttotal: 46.5ms\tremaining: 48.4ms\n",
      "49:\tlearn: 0.9243792\ttotal: 47.3ms\tremaining: 47.3ms\n",
      "50:\tlearn: 0.9243792\ttotal: 48.1ms\tremaining: 46.2ms\n",
      "51:\tlearn: 0.9243792\ttotal: 48.9ms\tremaining: 45.2ms\n",
      "52:\tlearn: 0.9243792\ttotal: 49.7ms\tremaining: 44.1ms\n",
      "53:\tlearn: 0.9243792\ttotal: 50.5ms\tremaining: 43ms\n",
      "54:\tlearn: 0.9243792\ttotal: 51.3ms\tremaining: 42ms\n",
      "55:\tlearn: 0.9255079\ttotal: 52.1ms\tremaining: 40.9ms\n",
      "56:\tlearn: 0.9232506\ttotal: 52.9ms\tremaining: 39.9ms\n",
      "57:\tlearn: 0.9232506\ttotal: 53.8ms\tremaining: 39ms\n",
      "58:\tlearn: 0.9209932\ttotal: 54.6ms\tremaining: 37.9ms\n",
      "59:\tlearn: 0.9243792\ttotal: 55.4ms\tremaining: 36.9ms\n",
      "60:\tlearn: 0.9255079\ttotal: 56.2ms\tremaining: 36ms\n",
      "61:\tlearn: 0.9255079\ttotal: 57ms\tremaining: 34.9ms\n",
      "62:\tlearn: 0.9266366\ttotal: 57.3ms\tremaining: 33.7ms\n",
      "63:\tlearn: 0.9266366\ttotal: 58.1ms\tremaining: 32.7ms\n",
      "64:\tlearn: 0.9277652\ttotal: 59.1ms\tremaining: 31.8ms\n",
      "65:\tlearn: 0.9277652\ttotal: 59.9ms\tremaining: 30.8ms\n",
      "66:\tlearn: 0.9277652\ttotal: 60.7ms\tremaining: 29.9ms\n",
      "67:\tlearn: 0.9288939\ttotal: 61.5ms\tremaining: 28.9ms\n",
      "68:\tlearn: 0.9277652\ttotal: 62.3ms\tremaining: 28ms\n",
      "69:\tlearn: 0.9300226\ttotal: 63.2ms\tremaining: 27.1ms\n",
      "70:\tlearn: 0.9300226\ttotal: 64.1ms\tremaining: 26.2ms\n",
      "71:\tlearn: 0.9311512\ttotal: 65.1ms\tremaining: 25.3ms\n",
      "72:\tlearn: 0.9300226\ttotal: 66ms\tremaining: 24.4ms\n",
      "73:\tlearn: 0.9311512\ttotal: 67ms\tremaining: 23.5ms\n",
      "74:\tlearn: 0.9322799\ttotal: 67.8ms\tremaining: 22.6ms\n",
      "75:\tlearn: 0.9311512\ttotal: 68.8ms\tremaining: 21.7ms\n",
      "76:\tlearn: 0.9311512\ttotal: 69.7ms\tremaining: 20.8ms\n",
      "77:\tlearn: 0.9311512\ttotal: 70.6ms\tremaining: 19.9ms\n",
      "78:\tlearn: 0.9311512\ttotal: 71.5ms\tremaining: 19ms\n",
      "79:\tlearn: 0.9311512\ttotal: 72.2ms\tremaining: 18.1ms\n",
      "80:\tlearn: 0.9311512\ttotal: 73ms\tremaining: 17.1ms\n",
      "81:\tlearn: 0.9311512\ttotal: 73.8ms\tremaining: 16.2ms\n",
      "82:\tlearn: 0.9311512\ttotal: 74.6ms\tremaining: 15.3ms\n",
      "83:\tlearn: 0.9311512\ttotal: 75.5ms\tremaining: 14.4ms\n",
      "84:\tlearn: 0.9322799\ttotal: 76.2ms\tremaining: 13.5ms\n",
      "85:\tlearn: 0.9334086\ttotal: 77ms\tremaining: 12.5ms\n",
      "86:\tlearn: 0.9334086\ttotal: 77.8ms\tremaining: 11.6ms\n",
      "87:\tlearn: 0.9334086\ttotal: 78.7ms\tremaining: 10.7ms\n",
      "88:\tlearn: 0.9345372\ttotal: 79.5ms\tremaining: 9.82ms\n",
      "89:\tlearn: 0.9334086\ttotal: 80.3ms\tremaining: 8.93ms\n",
      "90:\tlearn: 0.9334086\ttotal: 80.6ms\tremaining: 7.97ms\n",
      "91:\tlearn: 0.9334086\ttotal: 81.6ms\tremaining: 7.1ms\n",
      "92:\tlearn: 0.9334086\ttotal: 82ms\tremaining: 6.17ms\n",
      "93:\tlearn: 0.9322799\ttotal: 82.9ms\tremaining: 5.29ms\n",
      "94:\tlearn: 0.9334086\ttotal: 83.5ms\tremaining: 4.39ms\n",
      "95:\tlearn: 0.9334086\ttotal: 84.3ms\tremaining: 3.51ms\n",
      "96:\tlearn: 0.9334086\ttotal: 85.2ms\tremaining: 2.63ms\n",
      "97:\tlearn: 0.9345372\ttotal: 86ms\tremaining: 1.75ms\n",
      "98:\tlearn: 0.9345372\ttotal: 86.7ms\tremaining: 875us\n",
      "99:\tlearn: 0.9345372\ttotal: 87ms\tremaining: 0us\n",
      "0:\tlearn: 0.8690745\ttotal: 1.25ms\tremaining: 124ms\n",
      "1:\tlearn: 0.8803612\ttotal: 2.39ms\tremaining: 117ms\n",
      "2:\tlearn: 0.8927765\ttotal: 3.49ms\tremaining: 113ms\n",
      "3:\tlearn: 0.8916479\ttotal: 4.48ms\tremaining: 108ms\n",
      "4:\tlearn: 0.8724605\ttotal: 4.91ms\tremaining: 93.2ms\n",
      "5:\tlearn: 0.8803612\ttotal: 5.24ms\tremaining: 82.1ms\n",
      "6:\tlearn: 0.8758465\ttotal: 5.63ms\tremaining: 74.8ms\n",
      "7:\tlearn: 0.8814898\ttotal: 6.68ms\tremaining: 76.8ms\n",
      "8:\tlearn: 0.8814898\ttotal: 7.78ms\tremaining: 78.7ms\n",
      "9:\tlearn: 0.8837472\ttotal: 8.82ms\tremaining: 79.4ms\n",
      "10:\tlearn: 0.8826185\ttotal: 9.86ms\tremaining: 79.8ms\n",
      "11:\tlearn: 0.8860045\ttotal: 10.9ms\tremaining: 79.9ms\n",
      "12:\tlearn: 0.8848758\ttotal: 11.9ms\tremaining: 79.5ms\n",
      "13:\tlearn: 0.8814898\ttotal: 12.8ms\tremaining: 78.9ms\n",
      "14:\tlearn: 0.8837472\ttotal: 13.7ms\tremaining: 77.9ms\n",
      "15:\tlearn: 0.8848758\ttotal: 14.6ms\tremaining: 76.9ms\n",
      "16:\tlearn: 0.8848758\ttotal: 15ms\tremaining: 73ms\n",
      "17:\tlearn: 0.8826185\ttotal: 15.9ms\tremaining: 72.4ms\n",
      "18:\tlearn: 0.8871332\ttotal: 17.1ms\tremaining: 72.8ms\n",
      "19:\tlearn: 0.8916479\ttotal: 17.8ms\tremaining: 71.3ms\n",
      "20:\tlearn: 0.8927765\ttotal: 18.8ms\tremaining: 70.8ms\n",
      "21:\tlearn: 0.8939052\ttotal: 19.7ms\tremaining: 69.9ms\n",
      "22:\tlearn: 0.8961625\ttotal: 20.6ms\tremaining: 68.8ms\n",
      "23:\tlearn: 0.8984199\ttotal: 21.4ms\tremaining: 67.9ms\n",
      "24:\tlearn: 0.8995485\ttotal: 22.2ms\tremaining: 66.7ms\n",
      "25:\tlearn: 0.9040632\ttotal: 23.2ms\tremaining: 66ms\n",
      "26:\tlearn: 0.9040632\ttotal: 24.1ms\tremaining: 65.1ms\n",
      "27:\tlearn: 0.9063205\ttotal: 24.9ms\tremaining: 64.2ms\n",
      "28:\tlearn: 0.9051919\ttotal: 25.7ms\tremaining: 63ms\n",
      "29:\tlearn: 0.9051919\ttotal: 26.5ms\tremaining: 61.9ms\n",
      "30:\tlearn: 0.9074492\ttotal: 27.4ms\tremaining: 61.1ms\n",
      "31:\tlearn: 0.9074492\ttotal: 28.2ms\tremaining: 60ms\n",
      "32:\tlearn: 0.9108352\ttotal: 29ms\tremaining: 58.9ms\n",
      "33:\tlearn: 0.9097065\ttotal: 29.8ms\tremaining: 57.9ms\n",
      "34:\tlearn: 0.9097065\ttotal: 30.6ms\tremaining: 56.9ms\n",
      "35:\tlearn: 0.9142212\ttotal: 31.4ms\tremaining: 55.8ms\n",
      "36:\tlearn: 0.9142212\ttotal: 32.2ms\tremaining: 54.8ms\n",
      "37:\tlearn: 0.9164786\ttotal: 33ms\tremaining: 53.8ms\n",
      "38:\tlearn: 0.9176072\ttotal: 33.8ms\tremaining: 52.9ms\n",
      "39:\tlearn: 0.9187359\ttotal: 34.6ms\tremaining: 51.9ms\n",
      "40:\tlearn: 0.9176072\ttotal: 35.4ms\tremaining: 50.9ms\n",
      "41:\tlearn: 0.9187359\ttotal: 36.2ms\tremaining: 50ms\n",
      "42:\tlearn: 0.9209932\ttotal: 37ms\tremaining: 49ms\n",
      "43:\tlearn: 0.9221219\ttotal: 37.8ms\tremaining: 48.1ms\n",
      "44:\tlearn: 0.9232506\ttotal: 38.6ms\tremaining: 47.2ms\n",
      "45:\tlearn: 0.9243792\ttotal: 39.5ms\tremaining: 46.3ms\n",
      "46:\tlearn: 0.9266366\ttotal: 40.3ms\tremaining: 45.4ms\n",
      "47:\tlearn: 0.9255079\ttotal: 41.1ms\tremaining: 44.5ms\n",
      "48:\tlearn: 0.9255079\ttotal: 42ms\tremaining: 43.7ms\n",
      "49:\tlearn: 0.9277652\ttotal: 42.8ms\tremaining: 42.8ms\n",
      "50:\tlearn: 0.9266366\ttotal: 43.7ms\tremaining: 41.9ms\n",
      "51:\tlearn: 0.9277652\ttotal: 44.4ms\tremaining: 41ms\n",
      "52:\tlearn: 0.9266366\ttotal: 45.3ms\tremaining: 40.1ms\n",
      "53:\tlearn: 0.9266366\ttotal: 46.7ms\tremaining: 39.8ms\n",
      "54:\tlearn: 0.9266366\ttotal: 47.6ms\tremaining: 39ms\n",
      "55:\tlearn: 0.9266366\ttotal: 48.5ms\tremaining: 38.1ms\n",
      "56:\tlearn: 0.9277652\ttotal: 49.5ms\tremaining: 37.3ms\n",
      "57:\tlearn: 0.9288939\ttotal: 50.5ms\tremaining: 36.5ms\n",
      "58:\tlearn: 0.9277652\ttotal: 51.4ms\tremaining: 35.7ms\n",
      "59:\tlearn: 0.9311512\ttotal: 52.2ms\tremaining: 34.8ms\n",
      "60:\tlearn: 0.9300226\ttotal: 53.1ms\tremaining: 34ms\n",
      "61:\tlearn: 0.9322799\ttotal: 54ms\tremaining: 33.1ms\n",
      "62:\tlearn: 0.9322799\ttotal: 54.8ms\tremaining: 32.2ms\n",
      "63:\tlearn: 0.9322799\ttotal: 55.2ms\tremaining: 31ms\n",
      "64:\tlearn: 0.9322799\ttotal: 56ms\tremaining: 30.1ms\n",
      "65:\tlearn: 0.9322799\ttotal: 56.8ms\tremaining: 29.3ms\n",
      "66:\tlearn: 0.9334086\ttotal: 57.6ms\tremaining: 28.4ms\n",
      "67:\tlearn: 0.9345372\ttotal: 58.5ms\tremaining: 27.5ms\n",
      "68:\tlearn: 0.9334086\ttotal: 58.9ms\tremaining: 26.5ms\n",
      "69:\tlearn: 0.9334086\ttotal: 59.7ms\tremaining: 25.6ms\n",
      "70:\tlearn: 0.9334086\ttotal: 60.5ms\tremaining: 24.7ms\n",
      "71:\tlearn: 0.9356659\ttotal: 61.3ms\tremaining: 23.9ms\n",
      "72:\tlearn: 0.9356659\ttotal: 62.2ms\tremaining: 23ms\n",
      "73:\tlearn: 0.9356659\ttotal: 63ms\tremaining: 22.2ms\n",
      "74:\tlearn: 0.9356659\ttotal: 64.1ms\tremaining: 21.4ms\n",
      "75:\tlearn: 0.9367946\ttotal: 65.2ms\tremaining: 20.6ms\n",
      "76:\tlearn: 0.9356659\ttotal: 66.1ms\tremaining: 19.8ms\n",
      "77:\tlearn: 0.9356659\ttotal: 67.2ms\tremaining: 18.9ms\n",
      "78:\tlearn: 0.9356659\ttotal: 68.1ms\tremaining: 18.1ms\n",
      "79:\tlearn: 0.9356659\ttotal: 69ms\tremaining: 17.3ms\n",
      "80:\tlearn: 0.9356659\ttotal: 69.9ms\tremaining: 16.4ms\n",
      "81:\tlearn: 0.9356659\ttotal: 70.8ms\tremaining: 15.5ms\n",
      "82:\tlearn: 0.9367946\ttotal: 71.8ms\tremaining: 14.7ms\n",
      "83:\tlearn: 0.9356659\ttotal: 72.8ms\tremaining: 13.9ms\n",
      "84:\tlearn: 0.9356659\ttotal: 73.2ms\tremaining: 12.9ms\n",
      "85:\tlearn: 0.9356659\ttotal: 74.1ms\tremaining: 12.1ms\n",
      "86:\tlearn: 0.9356659\ttotal: 75.1ms\tremaining: 11.2ms\n",
      "87:\tlearn: 0.9367946\ttotal: 76ms\tremaining: 10.4ms\n",
      "88:\tlearn: 0.9367946\ttotal: 76.9ms\tremaining: 9.5ms\n",
      "89:\tlearn: 0.9367946\ttotal: 77.8ms\tremaining: 8.65ms\n",
      "90:\tlearn: 0.9367946\ttotal: 78.7ms\tremaining: 7.78ms\n",
      "91:\tlearn: 0.9367946\ttotal: 79.6ms\tremaining: 6.92ms\n",
      "92:\tlearn: 0.9367946\ttotal: 80.6ms\tremaining: 6.06ms\n",
      "93:\tlearn: 0.9367946\ttotal: 81.5ms\tremaining: 5.2ms\n",
      "94:\tlearn: 0.9367946\ttotal: 82.6ms\tremaining: 4.34ms\n",
      "95:\tlearn: 0.9367946\ttotal: 83.6ms\tremaining: 3.48ms\n",
      "96:\tlearn: 0.9379233\ttotal: 84.6ms\tremaining: 2.62ms\n",
      "97:\tlearn: 0.9379233\ttotal: 85.6ms\tremaining: 1.75ms\n",
      "98:\tlearn: 0.9379233\ttotal: 86.5ms\tremaining: 873us\n",
      "99:\tlearn: 0.9379233\ttotal: 86.9ms\tremaining: 0us\n",
      "0:\tlearn: 0.8724605\ttotal: 1.24ms\tremaining: 123ms\n",
      "1:\tlearn: 0.8792325\ttotal: 2.79ms\tremaining: 137ms\n",
      "2:\tlearn: 0.8893905\ttotal: 3.85ms\tremaining: 124ms\n",
      "3:\tlearn: 0.8871332\ttotal: 4.76ms\tremaining: 114ms\n",
      "4:\tlearn: 0.8690745\ttotal: 5.02ms\tremaining: 95.4ms\n",
      "5:\tlearn: 0.8826185\ttotal: 5.86ms\tremaining: 91.7ms\n",
      "6:\tlearn: 0.8871332\ttotal: 6.64ms\tremaining: 88.3ms\n",
      "7:\tlearn: 0.8860045\ttotal: 7.58ms\tremaining: 87.2ms\n",
      "8:\tlearn: 0.8939052\ttotal: 9.19ms\tremaining: 93ms\n",
      "9:\tlearn: 0.8984199\ttotal: 10.5ms\tremaining: 94.2ms\n",
      "10:\tlearn: 0.8984199\ttotal: 11.3ms\tremaining: 91.5ms\n",
      "11:\tlearn: 0.8995485\ttotal: 12.2ms\tremaining: 89.1ms\n",
      "12:\tlearn: 0.8984199\ttotal: 13ms\tremaining: 86.9ms\n",
      "13:\tlearn: 0.8939052\ttotal: 13.9ms\tremaining: 85.1ms\n",
      "14:\tlearn: 0.8950339\ttotal: 14.8ms\tremaining: 84.1ms\n",
      "15:\tlearn: 0.8984199\ttotal: 15.7ms\tremaining: 82.2ms\n",
      "16:\tlearn: 0.8995485\ttotal: 16.5ms\tremaining: 80.7ms\n",
      "17:\tlearn: 0.9018059\ttotal: 17.4ms\tremaining: 79.1ms\n",
      "18:\tlearn: 0.8939052\ttotal: 17.6ms\tremaining: 75.1ms\n",
      "19:\tlearn: 0.8950339\ttotal: 18.4ms\tremaining: 73.6ms\n",
      "20:\tlearn: 0.8984199\ttotal: 19.2ms\tremaining: 72.2ms\n",
      "21:\tlearn: 0.8995485\ttotal: 20ms\tremaining: 70.8ms\n",
      "22:\tlearn: 0.9006772\ttotal: 20.8ms\tremaining: 69.7ms\n",
      "23:\tlearn: 0.9051919\ttotal: 21.6ms\tremaining: 68.3ms\n",
      "24:\tlearn: 0.9074492\ttotal: 22.4ms\tremaining: 67.2ms\n",
      "25:\tlearn: 0.9142212\ttotal: 23.3ms\tremaining: 66.2ms\n",
      "26:\tlearn: 0.9051919\ttotal: 23.5ms\tremaining: 63.4ms\n",
      "27:\tlearn: 0.9074492\ttotal: 24.2ms\tremaining: 62.4ms\n",
      "28:\tlearn: 0.9085779\ttotal: 25ms\tremaining: 61.2ms\n",
      "29:\tlearn: 0.9108352\ttotal: 25.8ms\tremaining: 60.1ms\n",
      "30:\tlearn: 0.9153499\ttotal: 26.5ms\tremaining: 59.1ms\n",
      "31:\tlearn: 0.9164786\ttotal: 27.3ms\tremaining: 58.1ms\n",
      "32:\tlearn: 0.9187359\ttotal: 28.1ms\tremaining: 57.1ms\n",
      "33:\tlearn: 0.9198646\ttotal: 28.9ms\tremaining: 56.1ms\n",
      "34:\tlearn: 0.9209932\ttotal: 29.7ms\tremaining: 55.2ms\n",
      "35:\tlearn: 0.9198646\ttotal: 30.5ms\tremaining: 54.3ms\n",
      "36:\tlearn: 0.9221219\ttotal: 31.3ms\tremaining: 53.3ms\n",
      "37:\tlearn: 0.9232506\ttotal: 32.1ms\tremaining: 52.3ms\n",
      "38:\tlearn: 0.9232506\ttotal: 32.8ms\tremaining: 51.3ms\n",
      "39:\tlearn: 0.9243792\ttotal: 33.8ms\tremaining: 50.7ms\n",
      "40:\tlearn: 0.9243792\ttotal: 34.6ms\tremaining: 49.8ms\n",
      "41:\tlearn: 0.9243792\ttotal: 35.7ms\tremaining: 49.3ms\n",
      "42:\tlearn: 0.9243792\ttotal: 36.5ms\tremaining: 48.4ms\n",
      "43:\tlearn: 0.9255079\ttotal: 37.3ms\tremaining: 47.5ms\n",
      "44:\tlearn: 0.9266366\ttotal: 38.1ms\tremaining: 46.6ms\n",
      "45:\tlearn: 0.9255079\ttotal: 39ms\tremaining: 45.7ms\n",
      "46:\tlearn: 0.9255079\ttotal: 39.8ms\tremaining: 44.9ms\n",
      "47:\tlearn: 0.9255079\ttotal: 40.6ms\tremaining: 44ms\n",
      "48:\tlearn: 0.9255079\ttotal: 41.4ms\tremaining: 43.1ms\n",
      "49:\tlearn: 0.9255079\ttotal: 42.3ms\tremaining: 42.3ms\n",
      "50:\tlearn: 0.9255079\ttotal: 43ms\tremaining: 41.3ms\n",
      "51:\tlearn: 0.9255079\ttotal: 43.9ms\tremaining: 40.5ms\n",
      "52:\tlearn: 0.9277652\ttotal: 44.6ms\tremaining: 39.6ms\n",
      "53:\tlearn: 0.9266366\ttotal: 45.4ms\tremaining: 38.7ms\n",
      "54:\tlearn: 0.9277652\ttotal: 46.3ms\tremaining: 37.8ms\n",
      "55:\tlearn: 0.9266366\ttotal: 47ms\tremaining: 37ms\n",
      "56:\tlearn: 0.9266366\ttotal: 47.8ms\tremaining: 36ms\n",
      "57:\tlearn: 0.9266366\ttotal: 48.6ms\tremaining: 35.2ms\n",
      "58:\tlearn: 0.9266366\ttotal: 49.5ms\tremaining: 34.4ms\n",
      "59:\tlearn: 0.9277652\ttotal: 50.4ms\tremaining: 33.6ms\n",
      "60:\tlearn: 0.9288939\ttotal: 51.8ms\tremaining: 33.1ms\n",
      "61:\tlearn: 0.9300226\ttotal: 52.9ms\tremaining: 32.5ms\n",
      "62:\tlearn: 0.9288939\ttotal: 53.3ms\tremaining: 31.3ms\n",
      "63:\tlearn: 0.9300226\ttotal: 54.1ms\tremaining: 30.4ms\n",
      "64:\tlearn: 0.9311512\ttotal: 54.9ms\tremaining: 29.6ms\n",
      "65:\tlearn: 0.9300226\ttotal: 55.8ms\tremaining: 28.7ms\n",
      "66:\tlearn: 0.9311512\ttotal: 56.6ms\tremaining: 27.9ms\n",
      "67:\tlearn: 0.9322799\ttotal: 57.4ms\tremaining: 27ms\n",
      "68:\tlearn: 0.9311512\ttotal: 58.1ms\tremaining: 26.1ms\n",
      "69:\tlearn: 0.9322799\ttotal: 59ms\tremaining: 25.3ms\n",
      "70:\tlearn: 0.9311512\ttotal: 59.8ms\tremaining: 24.4ms\n",
      "71:\tlearn: 0.9300226\ttotal: 60.5ms\tremaining: 23.5ms\n",
      "72:\tlearn: 0.9300226\ttotal: 61.4ms\tremaining: 22.7ms\n",
      "73:\tlearn: 0.9311512\ttotal: 62.1ms\tremaining: 21.8ms\n",
      "74:\tlearn: 0.9311512\ttotal: 62.9ms\tremaining: 21ms\n",
      "75:\tlearn: 0.9334086\ttotal: 63.7ms\tremaining: 20.1ms\n",
      "76:\tlearn: 0.9345372\ttotal: 64.5ms\tremaining: 19.3ms\n",
      "77:\tlearn: 0.9322799\ttotal: 65.4ms\tremaining: 18.4ms\n",
      "78:\tlearn: 0.9322799\ttotal: 66.2ms\tremaining: 17.6ms\n",
      "79:\tlearn: 0.9322799\ttotal: 66.9ms\tremaining: 16.7ms\n",
      "80:\tlearn: 0.9322799\ttotal: 67.7ms\tremaining: 15.9ms\n",
      "81:\tlearn: 0.9334086\ttotal: 68.4ms\tremaining: 15ms\n",
      "82:\tlearn: 0.9334086\ttotal: 69.2ms\tremaining: 14.2ms\n",
      "83:\tlearn: 0.9334086\ttotal: 69.4ms\tremaining: 13.2ms\n",
      "84:\tlearn: 0.9334086\ttotal: 70.2ms\tremaining: 12.4ms\n",
      "85:\tlearn: 0.9356659\ttotal: 71ms\tremaining: 11.6ms\n",
      "86:\tlearn: 0.9356659\ttotal: 71.8ms\tremaining: 10.7ms\n",
      "87:\tlearn: 0.9367946\ttotal: 72.7ms\tremaining: 9.91ms\n",
      "88:\tlearn: 0.9367946\ttotal: 73.5ms\tremaining: 9.09ms\n",
      "89:\tlearn: 0.9356659\ttotal: 74ms\tremaining: 8.22ms\n",
      "90:\tlearn: 0.9356659\ttotal: 74.4ms\tremaining: 7.36ms\n",
      "91:\tlearn: 0.9356659\ttotal: 74.7ms\tremaining: 6.49ms\n",
      "92:\tlearn: 0.9356659\ttotal: 75.4ms\tremaining: 5.68ms\n",
      "93:\tlearn: 0.9356659\ttotal: 76.2ms\tremaining: 4.86ms\n",
      "94:\tlearn: 0.9379233\ttotal: 77ms\tremaining: 4.05ms\n",
      "95:\tlearn: 0.9379233\ttotal: 77.5ms\tremaining: 3.23ms\n",
      "96:\tlearn: 0.9379233\ttotal: 78.3ms\tremaining: 2.42ms\n",
      "97:\tlearn: 0.9379233\ttotal: 78.7ms\tremaining: 1.6ms\n",
      "98:\tlearn: 0.9379233\ttotal: 79.5ms\tremaining: 802us\n",
      "99:\tlearn: 0.9379233\ttotal: 80.3ms\tremaining: 0us\n",
      "0:\tlearn: 0.8826185\ttotal: 1.27ms\tremaining: 125ms\n",
      "1:\tlearn: 0.8871332\ttotal: 2.24ms\tremaining: 110ms\n",
      "2:\tlearn: 0.8882619\ttotal: 3.11ms\tremaining: 101ms\n",
      "3:\tlearn: 0.8950339\ttotal: 4.03ms\tremaining: 96.6ms\n",
      "4:\tlearn: 0.8893905\ttotal: 4.27ms\tremaining: 81.1ms\n",
      "5:\tlearn: 0.8848758\ttotal: 4.56ms\tremaining: 71.5ms\n",
      "6:\tlearn: 0.8803612\ttotal: 4.78ms\tremaining: 63.6ms\n",
      "7:\tlearn: 0.8882619\ttotal: 5.61ms\tremaining: 64.5ms\n",
      "8:\tlearn: 0.8826185\ttotal: 6.51ms\tremaining: 65.9ms\n",
      "9:\tlearn: 0.8781038\ttotal: 6.78ms\tremaining: 61ms\n",
      "10:\tlearn: 0.8814898\ttotal: 7.59ms\tremaining: 61.4ms\n",
      "11:\tlearn: 0.8837472\ttotal: 8.52ms\tremaining: 62.4ms\n",
      "12:\tlearn: 0.8860045\ttotal: 9.48ms\tremaining: 63.5ms\n",
      "13:\tlearn: 0.8905192\ttotal: 10.3ms\tremaining: 63.3ms\n",
      "14:\tlearn: 0.8972912\ttotal: 11.1ms\tremaining: 62.7ms\n",
      "15:\tlearn: 0.8972912\ttotal: 11.8ms\tremaining: 62.1ms\n",
      "16:\tlearn: 0.8972912\ttotal: 12.6ms\tremaining: 61.5ms\n",
      "17:\tlearn: 0.8995485\ttotal: 13.4ms\tremaining: 61.3ms\n",
      "18:\tlearn: 0.9029345\ttotal: 14.2ms\tremaining: 60.7ms\n",
      "19:\tlearn: 0.9029345\ttotal: 14.8ms\tremaining: 59.3ms\n",
      "20:\tlearn: 0.9040632\ttotal: 15.6ms\tremaining: 58.7ms\n",
      "21:\tlearn: 0.9051919\ttotal: 16.4ms\tremaining: 58ms\n",
      "22:\tlearn: 0.9051919\ttotal: 17.2ms\tremaining: 57.5ms\n",
      "23:\tlearn: 0.9074492\ttotal: 18ms\tremaining: 56.9ms\n",
      "24:\tlearn: 0.9063205\ttotal: 18.7ms\tremaining: 56ms\n",
      "25:\tlearn: 0.9085779\ttotal: 19.4ms\tremaining: 55.3ms\n",
      "26:\tlearn: 0.9051919\ttotal: 19.6ms\tremaining: 53.1ms\n",
      "27:\tlearn: 0.9063205\ttotal: 20.4ms\tremaining: 52.5ms\n",
      "28:\tlearn: 0.9085779\ttotal: 21.2ms\tremaining: 52ms\n",
      "29:\tlearn: 0.9074492\ttotal: 22ms\tremaining: 51.4ms\n",
      "30:\tlearn: 0.9063205\ttotal: 22.8ms\tremaining: 50.8ms\n",
      "31:\tlearn: 0.9108352\ttotal: 23.6ms\tremaining: 50.1ms\n",
      "32:\tlearn: 0.9108352\ttotal: 24.4ms\tremaining: 49.5ms\n",
      "33:\tlearn: 0.9153499\ttotal: 25.2ms\tremaining: 48.9ms\n",
      "34:\tlearn: 0.9176072\ttotal: 26.1ms\tremaining: 48.4ms\n",
      "35:\tlearn: 0.9164786\ttotal: 27ms\tremaining: 48ms\n",
      "36:\tlearn: 0.9187359\ttotal: 28.1ms\tremaining: 47.9ms\n",
      "37:\tlearn: 0.9198646\ttotal: 29ms\tremaining: 47.3ms\n",
      "38:\tlearn: 0.9221219\ttotal: 29.9ms\tremaining: 46.7ms\n",
      "39:\tlearn: 0.9198646\ttotal: 30.7ms\tremaining: 46.1ms\n",
      "40:\tlearn: 0.9221219\ttotal: 31.5ms\tremaining: 45.4ms\n",
      "41:\tlearn: 0.9221219\ttotal: 32.3ms\tremaining: 44.6ms\n",
      "42:\tlearn: 0.9221219\ttotal: 33ms\tremaining: 43.8ms\n",
      "43:\tlearn: 0.9232506\ttotal: 33.9ms\tremaining: 43.1ms\n",
      "44:\tlearn: 0.9221219\ttotal: 34.2ms\tremaining: 41.9ms\n",
      "45:\tlearn: 0.9221219\ttotal: 35.1ms\tremaining: 41.2ms\n",
      "46:\tlearn: 0.9221219\ttotal: 35.9ms\tremaining: 40.5ms\n",
      "47:\tlearn: 0.9221219\ttotal: 36.7ms\tremaining: 39.8ms\n",
      "48:\tlearn: 0.9232506\ttotal: 37.5ms\tremaining: 39ms\n",
      "49:\tlearn: 0.9232506\ttotal: 38.3ms\tremaining: 38.3ms\n",
      "50:\tlearn: 0.9232506\ttotal: 39.1ms\tremaining: 37.5ms\n",
      "51:\tlearn: 0.9255079\ttotal: 39.9ms\tremaining: 36.8ms\n",
      "52:\tlearn: 0.9232506\ttotal: 40.8ms\tremaining: 36.2ms\n",
      "53:\tlearn: 0.9243792\ttotal: 41.7ms\tremaining: 35.5ms\n",
      "54:\tlearn: 0.9255079\ttotal: 42.8ms\tremaining: 35ms\n",
      "55:\tlearn: 0.9255079\ttotal: 43.7ms\tremaining: 34.4ms\n",
      "56:\tlearn: 0.9255079\ttotal: 44.6ms\tremaining: 33.7ms\n",
      "57:\tlearn: 0.9255079\ttotal: 45.4ms\tremaining: 32.9ms\n",
      "58:\tlearn: 0.9243792\ttotal: 46.2ms\tremaining: 32.1ms\n",
      "59:\tlearn: 0.9255079\ttotal: 47.1ms\tremaining: 31.4ms\n",
      "60:\tlearn: 0.9266366\ttotal: 48ms\tremaining: 30.7ms\n",
      "61:\tlearn: 0.9255079\ttotal: 48.9ms\tremaining: 30ms\n",
      "62:\tlearn: 0.9277652\ttotal: 49.7ms\tremaining: 29.2ms\n",
      "63:\tlearn: 0.9300226\ttotal: 50.5ms\tremaining: 28.4ms\n",
      "64:\tlearn: 0.9322799\ttotal: 51.4ms\tremaining: 27.7ms\n",
      "65:\tlearn: 0.9345372\ttotal: 52.2ms\tremaining: 26.9ms\n",
      "66:\tlearn: 0.9334086\ttotal: 53.1ms\tremaining: 26.2ms\n",
      "67:\tlearn: 0.9334086\ttotal: 53.9ms\tremaining: 25.4ms\n",
      "68:\tlearn: 0.9356659\ttotal: 54.7ms\tremaining: 24.6ms\n",
      "69:\tlearn: 0.9356659\ttotal: 55.4ms\tremaining: 23.8ms\n",
      "70:\tlearn: 0.9356659\ttotal: 56.2ms\tremaining: 23ms\n",
      "71:\tlearn: 0.9367946\ttotal: 57ms\tremaining: 22.2ms\n",
      "72:\tlearn: 0.9367946\ttotal: 57.8ms\tremaining: 21.4ms\n",
      "73:\tlearn: 0.9367946\ttotal: 58.6ms\tremaining: 20.6ms\n",
      "74:\tlearn: 0.9379233\ttotal: 59.4ms\tremaining: 19.8ms\n",
      "75:\tlearn: 0.9367946\ttotal: 60.2ms\tremaining: 19ms\n",
      "76:\tlearn: 0.9367946\ttotal: 60.9ms\tremaining: 18.2ms\n",
      "77:\tlearn: 0.9367946\ttotal: 61.8ms\tremaining: 17.4ms\n",
      "78:\tlearn: 0.9367946\ttotal: 62.6ms\tremaining: 16.6ms\n",
      "79:\tlearn: 0.9379233\ttotal: 63.4ms\tremaining: 15.8ms\n",
      "80:\tlearn: 0.9379233\ttotal: 64.2ms\tremaining: 15.1ms\n",
      "81:\tlearn: 0.9379233\ttotal: 65.2ms\tremaining: 14.3ms\n",
      "82:\tlearn: 0.9390519\ttotal: 66.2ms\tremaining: 13.6ms\n",
      "83:\tlearn: 0.9390519\ttotal: 67ms\tremaining: 12.8ms\n",
      "84:\tlearn: 0.9390519\ttotal: 67.9ms\tremaining: 12ms\n",
      "85:\tlearn: 0.9390519\ttotal: 68.7ms\tremaining: 11.2ms\n",
      "86:\tlearn: 0.9401806\ttotal: 69.4ms\tremaining: 10.4ms\n",
      "87:\tlearn: 0.9401806\ttotal: 70.2ms\tremaining: 9.58ms\n",
      "88:\tlearn: 0.9401806\ttotal: 71ms\tremaining: 8.78ms\n",
      "89:\tlearn: 0.9401806\ttotal: 72.1ms\tremaining: 8.01ms\n",
      "90:\tlearn: 0.9413093\ttotal: 72.9ms\tremaining: 7.21ms\n",
      "91:\tlearn: 0.9413093\ttotal: 73.7ms\tremaining: 6.41ms\n",
      "92:\tlearn: 0.9413093\ttotal: 73.8ms\tremaining: 5.56ms\n",
      "93:\tlearn: 0.9413093\ttotal: 74.6ms\tremaining: 4.76ms\n",
      "94:\tlearn: 0.9413093\ttotal: 75.4ms\tremaining: 3.97ms\n",
      "95:\tlearn: 0.9413093\ttotal: 76.2ms\tremaining: 3.17ms\n",
      "96:\tlearn: 0.9413093\ttotal: 77ms\tremaining: 2.38ms\n",
      "97:\tlearn: 0.9413093\ttotal: 77.7ms\tremaining: 1.59ms\n",
      "98:\tlearn: 0.9413093\ttotal: 78.5ms\tremaining: 793us\n",
      "99:\tlearn: 0.9413093\ttotal: 79.3ms\tremaining: 0us\n",
      "0:\tlearn: 0.8724605\ttotal: 1.03ms\tremaining: 102ms\n",
      "1:\tlearn: 0.8803612\ttotal: 2.06ms\tremaining: 101ms\n",
      "2:\tlearn: 0.8916479\ttotal: 2.92ms\tremaining: 94.6ms\n",
      "3:\tlearn: 0.8905192\ttotal: 4.21ms\tremaining: 101ms\n",
      "4:\tlearn: 0.8792325\ttotal: 5.02ms\tremaining: 95.4ms\n",
      "5:\tlearn: 0.8893905\ttotal: 6.18ms\tremaining: 96.8ms\n",
      "6:\tlearn: 0.8950339\ttotal: 11.6ms\tremaining: 154ms\n",
      "7:\tlearn: 0.9063205\ttotal: 13.1ms\tremaining: 151ms\n",
      "8:\tlearn: 0.8995485\ttotal: 14.1ms\tremaining: 143ms\n",
      "9:\tlearn: 0.9029345\ttotal: 15.2ms\tremaining: 137ms\n",
      "10:\tlearn: 0.9051919\ttotal: 16.1ms\tremaining: 130ms\n",
      "11:\tlearn: 0.9040632\ttotal: 17ms\tremaining: 125ms\n",
      "12:\tlearn: 0.9051919\ttotal: 17.9ms\tremaining: 120ms\n",
      "13:\tlearn: 0.9085779\ttotal: 19ms\tremaining: 117ms\n",
      "14:\tlearn: 0.9097065\ttotal: 20ms\tremaining: 113ms\n",
      "15:\tlearn: 0.9018059\ttotal: 21.2ms\tremaining: 111ms\n",
      "16:\tlearn: 0.9063205\ttotal: 22.1ms\tremaining: 108ms\n",
      "17:\tlearn: 0.9085779\ttotal: 22.9ms\tremaining: 104ms\n",
      "18:\tlearn: 0.9051919\ttotal: 23.1ms\tremaining: 98.5ms\n",
      "19:\tlearn: 0.9040632\ttotal: 23.9ms\tremaining: 95.6ms\n",
      "20:\tlearn: 0.9097065\ttotal: 24.7ms\tremaining: 92.8ms\n",
      "21:\tlearn: 0.9074492\ttotal: 25ms\tremaining: 88.5ms\n",
      "22:\tlearn: 0.9063205\ttotal: 25.8ms\tremaining: 86.3ms\n",
      "23:\tlearn: 0.9074492\ttotal: 26.6ms\tremaining: 84.1ms\n",
      "24:\tlearn: 0.9074492\ttotal: 27.4ms\tremaining: 82.1ms\n",
      "25:\tlearn: 0.9074492\ttotal: 28.2ms\tremaining: 80.1ms\n",
      "26:\tlearn: 0.9074492\ttotal: 28.9ms\tremaining: 78.3ms\n",
      "27:\tlearn: 0.9119639\ttotal: 29.7ms\tremaining: 76.4ms\n",
      "28:\tlearn: 0.9119639\ttotal: 30.6ms\tremaining: 74.8ms\n",
      "29:\tlearn: 0.9153499\ttotal: 31.5ms\tremaining: 73.5ms\n",
      "30:\tlearn: 0.9164786\ttotal: 32.4ms\tremaining: 72.2ms\n",
      "31:\tlearn: 0.9176072\ttotal: 33.5ms\tremaining: 71.3ms\n",
      "32:\tlearn: 0.9187359\ttotal: 34.3ms\tremaining: 69.7ms\n",
      "33:\tlearn: 0.9209932\ttotal: 35.1ms\tremaining: 68.2ms\n",
      "34:\tlearn: 0.9209932\ttotal: 35.9ms\tremaining: 66.7ms\n",
      "35:\tlearn: 0.9221219\ttotal: 36.8ms\tremaining: 65.4ms\n",
      "36:\tlearn: 0.9243792\ttotal: 37.7ms\tremaining: 64.2ms\n",
      "37:\tlearn: 0.9221219\ttotal: 38ms\tremaining: 61.9ms\n",
      "38:\tlearn: 0.9209932\ttotal: 38.8ms\tremaining: 60.6ms\n",
      "39:\tlearn: 0.9221219\ttotal: 39.7ms\tremaining: 59.5ms\n",
      "40:\tlearn: 0.9221219\ttotal: 40.6ms\tremaining: 58.5ms\n",
      "41:\tlearn: 0.9232506\ttotal: 41.5ms\tremaining: 57.3ms\n",
      "42:\tlearn: 0.9221219\ttotal: 42.4ms\tremaining: 56.1ms\n",
      "43:\tlearn: 0.9232506\ttotal: 43.2ms\tremaining: 55ms\n",
      "44:\tlearn: 0.9243792\ttotal: 44.1ms\tremaining: 54ms\n",
      "45:\tlearn: 0.9266366\ttotal: 45.1ms\tremaining: 52.9ms\n",
      "46:\tlearn: 0.9277652\ttotal: 46ms\tremaining: 51.8ms\n",
      "47:\tlearn: 0.9277652\ttotal: 46.9ms\tremaining: 50.8ms\n",
      "48:\tlearn: 0.9277652\ttotal: 47.7ms\tremaining: 49.6ms\n",
      "49:\tlearn: 0.9288939\ttotal: 48.5ms\tremaining: 48.5ms\n",
      "50:\tlearn: 0.9288939\ttotal: 49.2ms\tremaining: 47.3ms\n",
      "51:\tlearn: 0.9288939\ttotal: 50.1ms\tremaining: 46.2ms\n",
      "52:\tlearn: 0.9300226\ttotal: 50.8ms\tremaining: 45.1ms\n",
      "53:\tlearn: 0.9300226\ttotal: 51.6ms\tremaining: 44ms\n",
      "54:\tlearn: 0.9300226\ttotal: 52.6ms\tremaining: 43ms\n",
      "55:\tlearn: 0.9311512\ttotal: 53.5ms\tremaining: 42ms\n",
      "56:\tlearn: 0.9322799\ttotal: 53.7ms\tremaining: 40.5ms\n",
      "57:\tlearn: 0.9322799\ttotal: 54.5ms\tremaining: 39.5ms\n",
      "58:\tlearn: 0.9322799\ttotal: 55.3ms\tremaining: 38.4ms\n",
      "59:\tlearn: 0.9322799\ttotal: 56.1ms\tremaining: 37.4ms\n",
      "60:\tlearn: 0.9311512\ttotal: 57ms\tremaining: 36.4ms\n",
      "61:\tlearn: 0.9311512\ttotal: 57.8ms\tremaining: 35.4ms\n",
      "62:\tlearn: 0.9322799\ttotal: 58.6ms\tremaining: 34.4ms\n",
      "63:\tlearn: 0.9311512\ttotal: 59.4ms\tremaining: 33.4ms\n",
      "64:\tlearn: 0.9311512\ttotal: 60.3ms\tremaining: 32.4ms\n",
      "65:\tlearn: 0.9345372\ttotal: 61ms\tremaining: 31.4ms\n",
      "66:\tlearn: 0.9334086\ttotal: 61.8ms\tremaining: 30.4ms\n",
      "67:\tlearn: 0.9334086\ttotal: 62.7ms\tremaining: 29.5ms\n",
      "68:\tlearn: 0.9334086\ttotal: 63.5ms\tremaining: 28.5ms\n",
      "69:\tlearn: 0.9345372\ttotal: 64.4ms\tremaining: 27.6ms\n",
      "70:\tlearn: 0.9356659\ttotal: 65.2ms\tremaining: 26.6ms\n",
      "71:\tlearn: 0.9356659\ttotal: 66.1ms\tremaining: 25.7ms\n",
      "72:\tlearn: 0.9356659\ttotal: 66.9ms\tremaining: 24.7ms\n",
      "73:\tlearn: 0.9367946\ttotal: 67.7ms\tremaining: 23.8ms\n",
      "74:\tlearn: 0.9367946\ttotal: 68.4ms\tremaining: 22.8ms\n",
      "75:\tlearn: 0.9367946\ttotal: 69.2ms\tremaining: 21.9ms\n",
      "76:\tlearn: 0.9367946\ttotal: 69.9ms\tremaining: 20.9ms\n",
      "77:\tlearn: 0.9379233\ttotal: 70.8ms\tremaining: 20ms\n",
      "78:\tlearn: 0.9379233\ttotal: 71.5ms\tremaining: 19ms\n",
      "79:\tlearn: 0.9379233\ttotal: 72.3ms\tremaining: 18.1ms\n",
      "80:\tlearn: 0.9379233\ttotal: 73.1ms\tremaining: 17.1ms\n",
      "81:\tlearn: 0.9379233\ttotal: 73.8ms\tremaining: 16.2ms\n",
      "82:\tlearn: 0.9379233\ttotal: 74.6ms\tremaining: 15.3ms\n",
      "83:\tlearn: 0.9390519\ttotal: 75.5ms\tremaining: 14.4ms\n",
      "84:\tlearn: 0.9390519\ttotal: 75.8ms\tremaining: 13.4ms\n",
      "85:\tlearn: 0.9379233\ttotal: 76.6ms\tremaining: 12.5ms\n",
      "86:\tlearn: 0.9379233\ttotal: 77.5ms\tremaining: 11.6ms\n",
      "87:\tlearn: 0.9379233\ttotal: 78.4ms\tremaining: 10.7ms\n",
      "88:\tlearn: 0.9379233\ttotal: 79.2ms\tremaining: 9.79ms\n",
      "89:\tlearn: 0.9413093\ttotal: 79.9ms\tremaining: 8.88ms\n",
      "90:\tlearn: 0.9424379\ttotal: 80.7ms\tremaining: 7.98ms\n",
      "91:\tlearn: 0.9424379\ttotal: 81.5ms\tremaining: 7.08ms\n",
      "92:\tlearn: 0.9424379\ttotal: 82.2ms\tremaining: 6.18ms\n",
      "93:\tlearn: 0.9424379\ttotal: 82.9ms\tremaining: 5.29ms\n",
      "94:\tlearn: 0.9413093\ttotal: 83.5ms\tremaining: 4.39ms\n",
      "95:\tlearn: 0.9424379\ttotal: 84.3ms\tremaining: 3.51ms\n",
      "96:\tlearn: 0.9424379\ttotal: 85.2ms\tremaining: 2.63ms\n",
      "97:\tlearn: 0.9424379\ttotal: 86ms\tremaining: 1.75ms\n",
      "98:\tlearn: 0.9424379\ttotal: 86.9ms\tremaining: 877us\n",
      "99:\tlearn: 0.9424379\ttotal: 87.9ms\tremaining: 0us\n",
      "0:\tlearn: 0.8803612\ttotal: 1.29ms\tremaining: 128ms\n",
      "1:\tlearn: 0.8871332\ttotal: 2.25ms\tremaining: 110ms\n",
      "2:\tlearn: 0.8860045\ttotal: 3.11ms\tremaining: 101ms\n",
      "3:\tlearn: 0.8860045\ttotal: 4ms\tremaining: 96.1ms\n",
      "4:\tlearn: 0.8769752\ttotal: 4.26ms\tremaining: 80.9ms\n",
      "5:\tlearn: 0.8803612\ttotal: 5.14ms\tremaining: 80.5ms\n",
      "6:\tlearn: 0.8781038\ttotal: 6.26ms\tremaining: 83.2ms\n",
      "7:\tlearn: 0.8803612\ttotal: 7.23ms\tremaining: 83.2ms\n",
      "8:\tlearn: 0.8848758\ttotal: 8.48ms\tremaining: 85.7ms\n",
      "9:\tlearn: 0.8871332\ttotal: 9.52ms\tremaining: 85.7ms\n",
      "10:\tlearn: 0.8882619\ttotal: 10.5ms\tremaining: 85ms\n",
      "11:\tlearn: 0.8882619\ttotal: 11.3ms\tremaining: 82.9ms\n",
      "12:\tlearn: 0.8961625\ttotal: 12.4ms\tremaining: 82.8ms\n",
      "13:\tlearn: 0.8927765\ttotal: 13.1ms\tremaining: 80.8ms\n",
      "14:\tlearn: 0.8961625\ttotal: 14.1ms\tremaining: 80.1ms\n",
      "15:\tlearn: 0.9018059\ttotal: 15ms\tremaining: 78.6ms\n",
      "16:\tlearn: 0.9040632\ttotal: 15.8ms\tremaining: 77.2ms\n",
      "17:\tlearn: 0.9029345\ttotal: 16.6ms\tremaining: 75.8ms\n",
      "18:\tlearn: 0.8984199\ttotal: 16.9ms\tremaining: 72.1ms\n",
      "19:\tlearn: 0.9018059\ttotal: 17.7ms\tremaining: 70.6ms\n",
      "20:\tlearn: 0.9029345\ttotal: 18.5ms\tremaining: 69.5ms\n",
      "21:\tlearn: 0.9063205\ttotal: 19.4ms\tremaining: 68.8ms\n",
      "22:\tlearn: 0.9108352\ttotal: 20.3ms\tremaining: 68.1ms\n",
      "23:\tlearn: 0.9097065\ttotal: 20.5ms\tremaining: 65ms\n",
      "24:\tlearn: 0.9108352\ttotal: 21.4ms\tremaining: 64.3ms\n",
      "25:\tlearn: 0.9119639\ttotal: 22.3ms\tremaining: 63.5ms\n",
      "26:\tlearn: 0.9097065\ttotal: 23.2ms\tremaining: 62.7ms\n",
      "27:\tlearn: 0.9097065\ttotal: 24.1ms\tremaining: 62ms\n",
      "28:\tlearn: 0.9108352\ttotal: 25ms\tremaining: 61.1ms\n",
      "29:\tlearn: 0.9119639\ttotal: 25.7ms\tremaining: 60ms\n",
      "30:\tlearn: 0.9153499\ttotal: 26.5ms\tremaining: 59.1ms\n",
      "31:\tlearn: 0.9164786\ttotal: 27.4ms\tremaining: 58.2ms\n",
      "32:\tlearn: 0.9153499\ttotal: 28.3ms\tremaining: 57.5ms\n",
      "33:\tlearn: 0.9142212\ttotal: 29.2ms\tremaining: 56.6ms\n",
      "34:\tlearn: 0.9187359\ttotal: 30.1ms\tremaining: 56ms\n",
      "35:\tlearn: 0.9176072\ttotal: 31.1ms\tremaining: 55.3ms\n",
      "36:\tlearn: 0.9198646\ttotal: 32.1ms\tremaining: 54.7ms\n",
      "37:\tlearn: 0.9187359\ttotal: 33.2ms\tremaining: 54.2ms\n",
      "38:\tlearn: 0.9198646\ttotal: 34.1ms\tremaining: 53.3ms\n",
      "39:\tlearn: 0.9198646\ttotal: 35ms\tremaining: 52.5ms\n",
      "40:\tlearn: 0.9209932\ttotal: 36ms\tremaining: 51.8ms\n",
      "41:\tlearn: 0.9232506\ttotal: 36.9ms\tremaining: 51ms\n",
      "42:\tlearn: 0.9232506\ttotal: 37.7ms\tremaining: 50ms\n",
      "43:\tlearn: 0.9243792\ttotal: 38.5ms\tremaining: 48.9ms\n",
      "44:\tlearn: 0.9243792\ttotal: 39.3ms\tremaining: 48ms\n",
      "45:\tlearn: 0.9232506\ttotal: 40.1ms\tremaining: 47.1ms\n",
      "46:\tlearn: 0.9243792\ttotal: 41ms\tremaining: 46.3ms\n",
      "47:\tlearn: 0.9266366\ttotal: 41.9ms\tremaining: 45.4ms\n",
      "48:\tlearn: 0.9266366\ttotal: 42.7ms\tremaining: 44.4ms\n",
      "49:\tlearn: 0.9266366\ttotal: 43.6ms\tremaining: 43.6ms\n",
      "50:\tlearn: 0.9266366\ttotal: 44.4ms\tremaining: 42.7ms\n",
      "51:\tlearn: 0.9277652\ttotal: 45.2ms\tremaining: 41.7ms\n",
      "52:\tlearn: 0.9300226\ttotal: 46ms\tremaining: 40.8ms\n",
      "53:\tlearn: 0.9300226\ttotal: 46.8ms\tremaining: 39.9ms\n",
      "54:\tlearn: 0.9300226\ttotal: 47.6ms\tremaining: 39ms\n",
      "55:\tlearn: 0.9311512\ttotal: 48.5ms\tremaining: 38.1ms\n",
      "56:\tlearn: 0.9300226\ttotal: 49.3ms\tremaining: 37.2ms\n",
      "57:\tlearn: 0.9300226\ttotal: 50.1ms\tremaining: 36.3ms\n",
      "58:\tlearn: 0.9300226\ttotal: 50.9ms\tremaining: 35.4ms\n",
      "59:\tlearn: 0.9300226\ttotal: 51.8ms\tremaining: 34.5ms\n",
      "60:\tlearn: 0.9311512\ttotal: 52.5ms\tremaining: 33.6ms\n",
      "61:\tlearn: 0.9311512\ttotal: 53.3ms\tremaining: 32.7ms\n",
      "62:\tlearn: 0.9311512\ttotal: 53.6ms\tremaining: 31.5ms\n",
      "63:\tlearn: 0.9311512\ttotal: 54.4ms\tremaining: 30.6ms\n",
      "64:\tlearn: 0.9322799\ttotal: 55.2ms\tremaining: 29.7ms\n",
      "65:\tlearn: 0.9334086\ttotal: 56.2ms\tremaining: 28.9ms\n",
      "66:\tlearn: 0.9322799\ttotal: 56.9ms\tremaining: 28ms\n",
      "67:\tlearn: 0.9334086\ttotal: 57.7ms\tremaining: 27.2ms\n",
      "68:\tlearn: 0.9345372\ttotal: 58.5ms\tremaining: 26.3ms\n",
      "69:\tlearn: 0.9356659\ttotal: 59.3ms\tremaining: 25.4ms\n",
      "70:\tlearn: 0.9356659\ttotal: 60.3ms\tremaining: 24.6ms\n",
      "71:\tlearn: 0.9367946\ttotal: 61.1ms\tremaining: 23.8ms\n",
      "72:\tlearn: 0.9356659\ttotal: 61.8ms\tremaining: 22.9ms\n",
      "73:\tlearn: 0.9356659\ttotal: 62.7ms\tremaining: 22ms\n",
      "74:\tlearn: 0.9367946\ttotal: 63.5ms\tremaining: 21.2ms\n",
      "75:\tlearn: 0.9379233\ttotal: 64.3ms\tremaining: 20.3ms\n",
      "76:\tlearn: 0.9367946\ttotal: 65.2ms\tremaining: 19.5ms\n",
      "77:\tlearn: 0.9379233\ttotal: 66ms\tremaining: 18.6ms\n",
      "78:\tlearn: 0.9390519\ttotal: 66.7ms\tremaining: 17.7ms\n",
      "79:\tlearn: 0.9390519\ttotal: 67.5ms\tremaining: 16.9ms\n",
      "80:\tlearn: 0.9379233\ttotal: 68.2ms\tremaining: 16ms\n",
      "81:\tlearn: 0.9379233\ttotal: 69.1ms\tremaining: 15.2ms\n",
      "82:\tlearn: 0.9367946\ttotal: 69.9ms\tremaining: 14.3ms\n",
      "83:\tlearn: 0.9367946\ttotal: 70.7ms\tremaining: 13.5ms\n",
      "84:\tlearn: 0.9379233\ttotal: 71.6ms\tremaining: 12.6ms\n",
      "85:\tlearn: 0.9367946\ttotal: 72.5ms\tremaining: 11.8ms\n",
      "86:\tlearn: 0.9379233\ttotal: 73.5ms\tremaining: 11ms\n",
      "87:\tlearn: 0.9379233\ttotal: 74.4ms\tremaining: 10.1ms\n",
      "88:\tlearn: 0.9390519\ttotal: 75.5ms\tremaining: 9.33ms\n",
      "89:\tlearn: 0.9401806\ttotal: 78.3ms\tremaining: 8.71ms\n",
      "90:\tlearn: 0.9401806\ttotal: 79.9ms\tremaining: 7.9ms\n",
      "91:\tlearn: 0.9401806\ttotal: 80.8ms\tremaining: 7.02ms\n",
      "92:\tlearn: 0.9390519\ttotal: 81.7ms\tremaining: 6.15ms\n",
      "93:\tlearn: 0.9390519\ttotal: 82.5ms\tremaining: 5.27ms\n",
      "94:\tlearn: 0.9390519\ttotal: 83.4ms\tremaining: 4.39ms\n",
      "95:\tlearn: 0.9390519\ttotal: 84.3ms\tremaining: 3.51ms\n",
      "96:\tlearn: 0.9390519\ttotal: 85.1ms\tremaining: 2.63ms\n",
      "97:\tlearn: 0.9390519\ttotal: 85.9ms\tremaining: 1.75ms\n",
      "98:\tlearn: 0.9390519\ttotal: 86.7ms\tremaining: 875us\n",
      "99:\tlearn: 0.9390519\ttotal: 87.5ms\tremaining: 0us\n",
      "0:\tlearn: 0.8702032\ttotal: 1.84ms\tremaining: 182ms\n",
      "1:\tlearn: 0.8781038\ttotal: 12.9ms\tremaining: 631ms\n",
      "2:\tlearn: 0.8905192\ttotal: 14ms\tremaining: 451ms\n",
      "3:\tlearn: 0.8916479\ttotal: 22.1ms\tremaining: 531ms\n",
      "4:\tlearn: 0.8758465\ttotal: 22.5ms\tremaining: 427ms\n",
      "5:\tlearn: 0.8848758\ttotal: 23.6ms\tremaining: 370ms\n",
      "6:\tlearn: 0.8905192\ttotal: 24.7ms\tremaining: 329ms\n",
      "7:\tlearn: 0.8995485\ttotal: 25.9ms\tremaining: 298ms\n",
      "8:\tlearn: 0.9006772\ttotal: 27.1ms\tremaining: 274ms\n",
      "9:\tlearn: 0.9029345\ttotal: 28.1ms\tremaining: 253ms\n",
      "10:\tlearn: 0.8995485\ttotal: 29.3ms\tremaining: 237ms\n",
      "11:\tlearn: 0.9006772\ttotal: 30.4ms\tremaining: 223ms\n",
      "12:\tlearn: 0.9040632\ttotal: 31.4ms\tremaining: 210ms\n",
      "13:\tlearn: 0.9051919\ttotal: 32.3ms\tremaining: 198ms\n",
      "14:\tlearn: 0.9051919\ttotal: 33.2ms\tremaining: 188ms\n",
      "15:\tlearn: 0.9074492\ttotal: 34.2ms\tremaining: 179ms\n",
      "16:\tlearn: 0.9130926\ttotal: 35.1ms\tremaining: 171ms\n",
      "17:\tlearn: 0.9119639\ttotal: 36.1ms\tremaining: 164ms\n",
      "18:\tlearn: 0.9074492\ttotal: 36.4ms\tremaining: 155ms\n",
      "19:\tlearn: 0.9074492\ttotal: 37.3ms\tremaining: 149ms\n",
      "20:\tlearn: 0.9063205\ttotal: 38.4ms\tremaining: 144ms\n",
      "21:\tlearn: 0.9097065\ttotal: 39.4ms\tremaining: 140ms\n",
      "22:\tlearn: 0.9130926\ttotal: 40.3ms\tremaining: 135ms\n",
      "23:\tlearn: 0.9142212\ttotal: 41.2ms\tremaining: 131ms\n",
      "24:\tlearn: 0.9153499\ttotal: 42.4ms\tremaining: 127ms\n",
      "25:\tlearn: 0.9164786\ttotal: 43.5ms\tremaining: 124ms\n",
      "26:\tlearn: 0.9142212\ttotal: 43.8ms\tremaining: 118ms\n",
      "27:\tlearn: 0.9153499\ttotal: 45ms\tremaining: 116ms\n",
      "28:\tlearn: 0.9153499\ttotal: 46ms\tremaining: 113ms\n",
      "29:\tlearn: 0.9142212\ttotal: 47.1ms\tremaining: 110ms\n",
      "30:\tlearn: 0.9187359\ttotal: 48.4ms\tremaining: 108ms\n",
      "31:\tlearn: 0.9198646\ttotal: 49.3ms\tremaining: 105ms\n",
      "32:\tlearn: 0.9198646\ttotal: 50.4ms\tremaining: 102ms\n",
      "33:\tlearn: 0.9209932\ttotal: 51.5ms\tremaining: 99.9ms\n",
      "34:\tlearn: 0.9209932\ttotal: 52.8ms\tremaining: 98.1ms\n",
      "35:\tlearn: 0.9209932\ttotal: 53.8ms\tremaining: 95.7ms\n",
      "36:\tlearn: 0.9221219\ttotal: 55ms\tremaining: 93.6ms\n",
      "37:\tlearn: 0.9255079\ttotal: 55.9ms\tremaining: 91.1ms\n",
      "38:\tlearn: 0.9243792\ttotal: 56.6ms\tremaining: 88.6ms\n",
      "39:\tlearn: 0.9266366\ttotal: 57.5ms\tremaining: 86.3ms\n",
      "40:\tlearn: 0.9288939\ttotal: 58.3ms\tremaining: 83.9ms\n",
      "41:\tlearn: 0.9277652\ttotal: 59.1ms\tremaining: 81.6ms\n",
      "42:\tlearn: 0.9288939\ttotal: 59.9ms\tremaining: 79.4ms\n",
      "43:\tlearn: 0.9288939\ttotal: 60.8ms\tremaining: 77.4ms\n",
      "44:\tlearn: 0.9277652\ttotal: 61.6ms\tremaining: 75.3ms\n",
      "45:\tlearn: 0.9277652\ttotal: 62.5ms\tremaining: 73.3ms\n",
      "46:\tlearn: 0.9288939\ttotal: 63.3ms\tremaining: 71.4ms\n",
      "47:\tlearn: 0.9300226\ttotal: 64.2ms\tremaining: 69.6ms\n",
      "48:\tlearn: 0.9311512\ttotal: 65.1ms\tremaining: 67.8ms\n",
      "49:\tlearn: 0.9322799\ttotal: 66ms\tremaining: 66ms\n",
      "50:\tlearn: 0.9322799\ttotal: 66.7ms\tremaining: 64.1ms\n",
      "51:\tlearn: 0.9345372\ttotal: 67.6ms\tremaining: 62.4ms\n",
      "52:\tlearn: 0.9356659\ttotal: 68.4ms\tremaining: 60.6ms\n",
      "53:\tlearn: 0.9356659\ttotal: 69.2ms\tremaining: 58.9ms\n",
      "54:\tlearn: 0.9345372\ttotal: 70.1ms\tremaining: 57.3ms\n",
      "55:\tlearn: 0.9345372\ttotal: 70.9ms\tremaining: 55.7ms\n",
      "56:\tlearn: 0.9356659\ttotal: 71.7ms\tremaining: 54.1ms\n",
      "57:\tlearn: 0.9345372\ttotal: 72.5ms\tremaining: 52.5ms\n",
      "58:\tlearn: 0.9367946\ttotal: 73.3ms\tremaining: 50.9ms\n",
      "59:\tlearn: 0.9367946\ttotal: 74.2ms\tremaining: 49.4ms\n",
      "60:\tlearn: 0.9356659\ttotal: 75ms\tremaining: 47.9ms\n",
      "61:\tlearn: 0.9367946\ttotal: 75.9ms\tremaining: 46.5ms\n",
      "62:\tlearn: 0.9367946\ttotal: 76.2ms\tremaining: 44.8ms\n",
      "63:\tlearn: 0.9356659\ttotal: 77ms\tremaining: 43.3ms\n",
      "64:\tlearn: 0.9356659\ttotal: 77.9ms\tremaining: 41.9ms\n",
      "65:\tlearn: 0.9356659\ttotal: 78.7ms\tremaining: 40.5ms\n",
      "66:\tlearn: 0.9356659\ttotal: 79.4ms\tremaining: 39.1ms\n",
      "67:\tlearn: 0.9356659\ttotal: 80.4ms\tremaining: 37.8ms\n",
      "68:\tlearn: 0.9345372\ttotal: 81.3ms\tremaining: 36.5ms\n",
      "69:\tlearn: 0.9356659\ttotal: 82.1ms\tremaining: 35.2ms\n",
      "70:\tlearn: 0.9356659\ttotal: 83ms\tremaining: 33.9ms\n",
      "71:\tlearn: 0.9379233\ttotal: 83.8ms\tremaining: 32.6ms\n",
      "72:\tlearn: 0.9379233\ttotal: 84.7ms\tremaining: 31.3ms\n",
      "73:\tlearn: 0.9390519\ttotal: 85.5ms\tremaining: 30ms\n",
      "74:\tlearn: 0.9390519\ttotal: 86.4ms\tremaining: 28.8ms\n",
      "75:\tlearn: 0.9401806\ttotal: 87.1ms\tremaining: 27.5ms\n",
      "76:\tlearn: 0.9401806\ttotal: 88ms\tremaining: 26.3ms\n",
      "77:\tlearn: 0.9413093\ttotal: 88.8ms\tremaining: 25ms\n",
      "78:\tlearn: 0.9413093\ttotal: 89.5ms\tremaining: 23.8ms\n",
      "79:\tlearn: 0.9413093\ttotal: 90.3ms\tremaining: 22.6ms\n",
      "80:\tlearn: 0.9413093\ttotal: 91ms\tremaining: 21.4ms\n",
      "81:\tlearn: 0.9413093\ttotal: 91.8ms\tremaining: 20.1ms\n",
      "82:\tlearn: 0.9413093\ttotal: 92.8ms\tremaining: 19ms\n",
      "83:\tlearn: 0.9413093\ttotal: 93.7ms\tremaining: 17.9ms\n",
      "84:\tlearn: 0.9424379\ttotal: 94.5ms\tremaining: 16.7ms\n",
      "85:\tlearn: 0.9424379\ttotal: 95.3ms\tremaining: 15.5ms\n",
      "86:\tlearn: 0.9413093\ttotal: 96.1ms\tremaining: 14.4ms\n",
      "87:\tlearn: 0.9424379\ttotal: 96.9ms\tremaining: 13.2ms\n",
      "88:\tlearn: 0.9424379\ttotal: 97.7ms\tremaining: 12.1ms\n",
      "89:\tlearn: 0.9424379\ttotal: 98.5ms\tremaining: 10.9ms\n",
      "90:\tlearn: 0.9424379\ttotal: 98.8ms\tremaining: 9.77ms\n",
      "91:\tlearn: 0.9424379\ttotal: 99.6ms\tremaining: 8.66ms\n",
      "92:\tlearn: 0.9424379\ttotal: 100ms\tremaining: 7.55ms\n",
      "93:\tlearn: 0.9424379\ttotal: 101ms\tremaining: 6.45ms\n",
      "94:\tlearn: 0.9424379\ttotal: 102ms\tremaining: 5.36ms\n",
      "95:\tlearn: 0.9424379\ttotal: 102ms\tremaining: 4.25ms\n",
      "96:\tlearn: 0.9424379\ttotal: 103ms\tremaining: 3.17ms\n",
      "97:\tlearn: 0.9424379\ttotal: 103ms\tremaining: 2.11ms\n",
      "98:\tlearn: 0.9435666\ttotal: 104ms\tremaining: 1.05ms\n",
      "99:\tlearn: 0.9435666\ttotal: 105ms\tremaining: 0us\n",
      "0:\tlearn: 0.8747178\ttotal: 1.25ms\tremaining: 124ms\n",
      "1:\tlearn: 0.8871332\ttotal: 2.1ms\tremaining: 103ms\n",
      "2:\tlearn: 0.8927765\ttotal: 2.92ms\tremaining: 94.3ms\n",
      "3:\tlearn: 0.8984199\ttotal: 3.9ms\tremaining: 93.6ms\n",
      "4:\tlearn: 0.8848758\ttotal: 4.29ms\tremaining: 81.5ms\n",
      "5:\tlearn: 0.8837472\ttotal: 4.59ms\tremaining: 71.9ms\n",
      "6:\tlearn: 0.8803612\ttotal: 4.8ms\tremaining: 63.8ms\n",
      "7:\tlearn: 0.8848758\ttotal: 5.58ms\tremaining: 64.2ms\n",
      "8:\tlearn: 0.8769752\ttotal: 6.35ms\tremaining: 64.2ms\n",
      "9:\tlearn: 0.8826185\ttotal: 7.16ms\tremaining: 64.5ms\n",
      "10:\tlearn: 0.8814898\ttotal: 8.12ms\tremaining: 65.7ms\n",
      "11:\tlearn: 0.8803612\ttotal: 8.91ms\tremaining: 65.3ms\n",
      "12:\tlearn: 0.8792325\ttotal: 9.8ms\tremaining: 65.6ms\n",
      "13:\tlearn: 0.8837472\ttotal: 10.6ms\tremaining: 65ms\n",
      "14:\tlearn: 0.8803612\ttotal: 11.3ms\tremaining: 64.3ms\n",
      "15:\tlearn: 0.8860045\ttotal: 12.1ms\tremaining: 63.8ms\n",
      "16:\tlearn: 0.8826185\ttotal: 12.3ms\tremaining: 60.2ms\n",
      "17:\tlearn: 0.8871332\ttotal: 13.1ms\tremaining: 59.6ms\n",
      "18:\tlearn: 0.8939052\ttotal: 13.8ms\tremaining: 59ms\n",
      "19:\tlearn: 0.8916479\ttotal: 14.4ms\tremaining: 57.8ms\n",
      "20:\tlearn: 0.8916479\ttotal: 15.4ms\tremaining: 57.8ms\n",
      "21:\tlearn: 0.8939052\ttotal: 16.2ms\tremaining: 57.5ms\n",
      "22:\tlearn: 0.8995485\ttotal: 17ms\tremaining: 56.8ms\n",
      "23:\tlearn: 0.9006772\ttotal: 17.8ms\tremaining: 56.3ms\n",
      "24:\tlearn: 0.9006772\ttotal: 18.6ms\tremaining: 55.8ms\n",
      "25:\tlearn: 0.8995485\ttotal: 19.5ms\tremaining: 55.4ms\n",
      "26:\tlearn: 0.8972912\ttotal: 19.7ms\tremaining: 53.3ms\n",
      "27:\tlearn: 0.8984199\ttotal: 20.6ms\tremaining: 53.1ms\n",
      "28:\tlearn: 0.9006772\ttotal: 21.4ms\tremaining: 52.4ms\n",
      "29:\tlearn: 0.9040632\ttotal: 22.1ms\tremaining: 51.6ms\n",
      "30:\tlearn: 0.9051919\ttotal: 22.8ms\tremaining: 50.8ms\n",
      "31:\tlearn: 0.9074492\ttotal: 23.6ms\tremaining: 50.1ms\n",
      "32:\tlearn: 0.9063205\ttotal: 24.4ms\tremaining: 49.6ms\n",
      "33:\tlearn: 0.9051919\ttotal: 25.4ms\tremaining: 49.4ms\n",
      "34:\tlearn: 0.9063205\ttotal: 26.2ms\tremaining: 48.7ms\n",
      "35:\tlearn: 0.9097065\ttotal: 27.1ms\tremaining: 48.2ms\n",
      "36:\tlearn: 0.9130926\ttotal: 28.4ms\tremaining: 48.3ms\n",
      "37:\tlearn: 0.9130926\ttotal: 29.3ms\tremaining: 47.8ms\n",
      "38:\tlearn: 0.9153499\ttotal: 30.2ms\tremaining: 47.2ms\n",
      "39:\tlearn: 0.9153499\ttotal: 31.4ms\tremaining: 47ms\n",
      "40:\tlearn: 0.9164786\ttotal: 32.2ms\tremaining: 46.4ms\n",
      "41:\tlearn: 0.9153499\ttotal: 33.1ms\tremaining: 45.7ms\n",
      "42:\tlearn: 0.9187359\ttotal: 33.9ms\tremaining: 45ms\n",
      "43:\tlearn: 0.9187359\ttotal: 34.7ms\tremaining: 44.2ms\n",
      "44:\tlearn: 0.9187359\ttotal: 35.4ms\tremaining: 43.3ms\n",
      "45:\tlearn: 0.9209932\ttotal: 36.2ms\tremaining: 42.5ms\n",
      "46:\tlearn: 0.9187359\ttotal: 36.9ms\tremaining: 41.6ms\n",
      "47:\tlearn: 0.9176072\ttotal: 37.8ms\tremaining: 40.9ms\n",
      "48:\tlearn: 0.9221219\ttotal: 38.5ms\tremaining: 40.1ms\n",
      "49:\tlearn: 0.9209932\ttotal: 39.3ms\tremaining: 39.3ms\n",
      "50:\tlearn: 0.9209932\ttotal: 40ms\tremaining: 38.4ms\n",
      "51:\tlearn: 0.9221219\ttotal: 40.7ms\tremaining: 37.6ms\n",
      "52:\tlearn: 0.9221219\ttotal: 41.5ms\tremaining: 36.8ms\n",
      "53:\tlearn: 0.9232506\ttotal: 42.3ms\tremaining: 36ms\n",
      "54:\tlearn: 0.9243792\ttotal: 43ms\tremaining: 35.2ms\n",
      "55:\tlearn: 0.9255079\ttotal: 43.8ms\tremaining: 34.5ms\n",
      "56:\tlearn: 0.9266366\ttotal: 44.1ms\tremaining: 33.2ms\n",
      "57:\tlearn: 0.9243792\ttotal: 44.8ms\tremaining: 32.4ms\n",
      "58:\tlearn: 0.9255079\ttotal: 45.6ms\tremaining: 31.7ms\n",
      "59:\tlearn: 0.9255079\ttotal: 46.3ms\tremaining: 30.9ms\n",
      "60:\tlearn: 0.9266366\ttotal: 47ms\tremaining: 30.1ms\n",
      "61:\tlearn: 0.9255079\ttotal: 47.7ms\tremaining: 29.3ms\n",
      "62:\tlearn: 0.9243792\ttotal: 48.5ms\tremaining: 28.5ms\n",
      "63:\tlearn: 0.9277652\ttotal: 49.1ms\tremaining: 27.6ms\n",
      "64:\tlearn: 0.9277652\ttotal: 49.8ms\tremaining: 26.8ms\n",
      "65:\tlearn: 0.9277652\ttotal: 50.6ms\tremaining: 26.1ms\n",
      "66:\tlearn: 0.9277652\ttotal: 51.3ms\tremaining: 25.3ms\n",
      "67:\tlearn: 0.9288939\ttotal: 52.2ms\tremaining: 24.5ms\n",
      "68:\tlearn: 0.9288939\ttotal: 52.9ms\tremaining: 23.8ms\n",
      "69:\tlearn: 0.9311512\ttotal: 53.6ms\tremaining: 23ms\n",
      "70:\tlearn: 0.9311512\ttotal: 54.3ms\tremaining: 22.2ms\n",
      "71:\tlearn: 0.9300226\ttotal: 55.1ms\tremaining: 21.4ms\n",
      "72:\tlearn: 0.9311512\ttotal: 55.8ms\tremaining: 20.6ms\n",
      "73:\tlearn: 0.9311512\ttotal: 56.6ms\tremaining: 19.9ms\n",
      "74:\tlearn: 0.9300226\ttotal: 57.2ms\tremaining: 19.1ms\n",
      "75:\tlearn: 0.9311512\ttotal: 58ms\tremaining: 18.3ms\n",
      "76:\tlearn: 0.9322799\ttotal: 58.8ms\tremaining: 17.6ms\n",
      "77:\tlearn: 0.9311512\ttotal: 59.5ms\tremaining: 16.8ms\n",
      "78:\tlearn: 0.9311512\ttotal: 60.2ms\tremaining: 16ms\n",
      "79:\tlearn: 0.9334086\ttotal: 60.9ms\tremaining: 15.2ms\n",
      "80:\tlearn: 0.9311512\ttotal: 61.6ms\tremaining: 14.5ms\n",
      "81:\tlearn: 0.9311512\ttotal: 62.3ms\tremaining: 13.7ms\n",
      "82:\tlearn: 0.9322799\ttotal: 63.1ms\tremaining: 12.9ms\n",
      "83:\tlearn: 0.9334086\ttotal: 63.9ms\tremaining: 12.2ms\n",
      "84:\tlearn: 0.9356659\ttotal: 64.6ms\tremaining: 11.4ms\n",
      "85:\tlearn: 0.9345372\ttotal: 65.3ms\tremaining: 10.6ms\n",
      "86:\tlearn: 0.9356659\ttotal: 66.1ms\tremaining: 9.88ms\n",
      "87:\tlearn: 0.9356659\ttotal: 66.8ms\tremaining: 9.11ms\n",
      "88:\tlearn: 0.9356659\ttotal: 67.5ms\tremaining: 8.35ms\n",
      "89:\tlearn: 0.9356659\ttotal: 68.2ms\tremaining: 7.58ms\n",
      "90:\tlearn: 0.9345372\ttotal: 69ms\tremaining: 6.82ms\n",
      "91:\tlearn: 0.9334086\ttotal: 69.8ms\tremaining: 6.07ms\n",
      "92:\tlearn: 0.9334086\ttotal: 70.5ms\tremaining: 5.3ms\n",
      "93:\tlearn: 0.9334086\ttotal: 70.7ms\tremaining: 4.51ms\n",
      "94:\tlearn: 0.9334086\ttotal: 71.4ms\tremaining: 3.75ms\n",
      "95:\tlearn: 0.9334086\ttotal: 72.1ms\tremaining: 3ms\n",
      "96:\tlearn: 0.9356659\ttotal: 72.9ms\tremaining: 2.25ms\n",
      "97:\tlearn: 0.9345372\ttotal: 73.7ms\tremaining: 1.5ms\n",
      "98:\tlearn: 0.9345372\ttotal: 74.5ms\tremaining: 752us\n",
      "99:\tlearn: 0.9345372\ttotal: 75ms\tremaining: 0us\n",
      "0:\tlearn: 0.8792325\ttotal: 1.6ms\tremaining: 159ms\n",
      "1:\tlearn: 0.8814898\ttotal: 2.42ms\tremaining: 119ms\n",
      "2:\tlearn: 0.8871332\ttotal: 3.23ms\tremaining: 105ms\n",
      "3:\tlearn: 0.8916479\ttotal: 4.02ms\tremaining: 96.5ms\n",
      "4:\tlearn: 0.8826185\ttotal: 4.34ms\tremaining: 82.5ms\n",
      "5:\tlearn: 0.8837472\ttotal: 4.64ms\tremaining: 72.7ms\n",
      "6:\tlearn: 0.8769752\ttotal: 4.87ms\tremaining: 64.7ms\n",
      "7:\tlearn: 0.8848758\ttotal: 5.68ms\tremaining: 65.3ms\n",
      "8:\tlearn: 0.8724605\ttotal: 7.18ms\tremaining: 72.6ms\n",
      "9:\tlearn: 0.8781038\ttotal: 7.98ms\tremaining: 71.8ms\n",
      "10:\tlearn: 0.8769752\ttotal: 8.74ms\tremaining: 70.7ms\n",
      "11:\tlearn: 0.8814898\ttotal: 9.46ms\tremaining: 69.4ms\n",
      "12:\tlearn: 0.8837472\ttotal: 10.3ms\tremaining: 68.8ms\n",
      "13:\tlearn: 0.8826185\ttotal: 10.6ms\tremaining: 65.2ms\n",
      "14:\tlearn: 0.8860045\ttotal: 11.4ms\tremaining: 64.4ms\n",
      "15:\tlearn: 0.8916479\ttotal: 12.1ms\tremaining: 63.6ms\n",
      "16:\tlearn: 0.8905192\ttotal: 13ms\tremaining: 63.5ms\n",
      "17:\tlearn: 0.8905192\ttotal: 13.9ms\tremaining: 63.2ms\n",
      "18:\tlearn: 0.8893905\ttotal: 14.7ms\tremaining: 62.5ms\n",
      "19:\tlearn: 0.8893905\ttotal: 15.4ms\tremaining: 61.7ms\n",
      "20:\tlearn: 0.8882619\ttotal: 16.1ms\tremaining: 60.7ms\n",
      "21:\tlearn: 0.8905192\ttotal: 17ms\tremaining: 60.4ms\n",
      "22:\tlearn: 0.8916479\ttotal: 17.8ms\tremaining: 59.4ms\n",
      "23:\tlearn: 0.8927765\ttotal: 18.5ms\tremaining: 58.6ms\n",
      "24:\tlearn: 0.8927765\ttotal: 19.3ms\tremaining: 57.8ms\n",
      "25:\tlearn: 0.8950339\ttotal: 20ms\tremaining: 57ms\n",
      "26:\tlearn: 0.8950339\ttotal: 20.9ms\tremaining: 56.4ms\n",
      "27:\tlearn: 0.8961625\ttotal: 21.6ms\tremaining: 55.6ms\n",
      "28:\tlearn: 0.9006772\ttotal: 22.4ms\tremaining: 54.9ms\n",
      "29:\tlearn: 0.9029345\ttotal: 23.1ms\tremaining: 54ms\n",
      "30:\tlearn: 0.9051919\ttotal: 23.9ms\tremaining: 53.2ms\n",
      "31:\tlearn: 0.9040632\ttotal: 24.6ms\tremaining: 52.4ms\n",
      "32:\tlearn: 0.9029345\ttotal: 25.4ms\tremaining: 51.5ms\n",
      "33:\tlearn: 0.9040632\ttotal: 26.1ms\tremaining: 50.7ms\n",
      "34:\tlearn: 0.9074492\ttotal: 26.8ms\tremaining: 49.8ms\n",
      "35:\tlearn: 0.9063205\ttotal: 27.5ms\tremaining: 48.9ms\n",
      "36:\tlearn: 0.9074492\ttotal: 28.2ms\tremaining: 48.1ms\n",
      "37:\tlearn: 0.9108352\ttotal: 28.9ms\tremaining: 47.2ms\n",
      "38:\tlearn: 0.9130926\ttotal: 29.6ms\tremaining: 46.2ms\n",
      "39:\tlearn: 0.9142212\ttotal: 30.2ms\tremaining: 45.3ms\n",
      "40:\tlearn: 0.9153499\ttotal: 30.9ms\tremaining: 44.4ms\n",
      "41:\tlearn: 0.9142212\ttotal: 31.7ms\tremaining: 43.7ms\n",
      "42:\tlearn: 0.9164786\ttotal: 32.4ms\tremaining: 42.9ms\n",
      "43:\tlearn: 0.9164786\ttotal: 33.1ms\tremaining: 42.1ms\n",
      "44:\tlearn: 0.9187359\ttotal: 33.8ms\tremaining: 41.3ms\n",
      "45:\tlearn: 0.9198646\ttotal: 34.4ms\tremaining: 40.4ms\n",
      "46:\tlearn: 0.9198646\ttotal: 35.2ms\tremaining: 39.7ms\n",
      "47:\tlearn: 0.9209932\ttotal: 35.8ms\tremaining: 38.8ms\n",
      "48:\tlearn: 0.9209932\ttotal: 36.6ms\tremaining: 38.1ms\n",
      "49:\tlearn: 0.9198646\ttotal: 37.3ms\tremaining: 37.3ms\n",
      "50:\tlearn: 0.9209932\ttotal: 37.9ms\tremaining: 36.4ms\n",
      "51:\tlearn: 0.9221219\ttotal: 38.7ms\tremaining: 35.7ms\n",
      "52:\tlearn: 0.9221219\ttotal: 39.6ms\tremaining: 35.1ms\n",
      "53:\tlearn: 0.9221219\ttotal: 40.2ms\tremaining: 34.3ms\n",
      "54:\tlearn: 0.9221219\ttotal: 40.9ms\tremaining: 33.5ms\n",
      "55:\tlearn: 0.9221219\ttotal: 41.6ms\tremaining: 32.7ms\n",
      "56:\tlearn: 0.9243792\ttotal: 42.4ms\tremaining: 31.9ms\n",
      "57:\tlearn: 0.9243792\ttotal: 43ms\tremaining: 31.1ms\n",
      "58:\tlearn: 0.9243792\ttotal: 43.7ms\tremaining: 30.4ms\n",
      "59:\tlearn: 0.9243792\ttotal: 44.5ms\tremaining: 29.6ms\n",
      "60:\tlearn: 0.9243792\ttotal: 45.1ms\tremaining: 28.9ms\n",
      "61:\tlearn: 0.9243792\ttotal: 45.8ms\tremaining: 28.1ms\n",
      "62:\tlearn: 0.9255079\ttotal: 46.1ms\tremaining: 27.1ms\n",
      "63:\tlearn: 0.9232506\ttotal: 46.8ms\tremaining: 26.3ms\n",
      "64:\tlearn: 0.9221219\ttotal: 47.5ms\tremaining: 25.6ms\n",
      "65:\tlearn: 0.9232506\ttotal: 48.1ms\tremaining: 24.8ms\n",
      "66:\tlearn: 0.9232506\ttotal: 48.9ms\tremaining: 24.1ms\n",
      "67:\tlearn: 0.9243792\ttotal: 49.5ms\tremaining: 23.3ms\n",
      "68:\tlearn: 0.9232506\ttotal: 50.2ms\tremaining: 22.5ms\n",
      "69:\tlearn: 0.9243792\ttotal: 50.8ms\tremaining: 21.8ms\n",
      "70:\tlearn: 0.9266366\ttotal: 51.5ms\tremaining: 21ms\n",
      "71:\tlearn: 0.9255079\ttotal: 52.2ms\tremaining: 20.3ms\n",
      "72:\tlearn: 0.9300226\ttotal: 52.9ms\tremaining: 19.5ms\n",
      "73:\tlearn: 0.9311512\ttotal: 53.5ms\tremaining: 18.8ms\n",
      "74:\tlearn: 0.9311512\ttotal: 54.2ms\tremaining: 18.1ms\n",
      "75:\tlearn: 0.9322799\ttotal: 54.9ms\tremaining: 17.3ms\n",
      "76:\tlearn: 0.9322799\ttotal: 55.6ms\tremaining: 16.6ms\n",
      "77:\tlearn: 0.9322799\ttotal: 56.2ms\tremaining: 15.9ms\n",
      "78:\tlearn: 0.9322799\ttotal: 56.9ms\tremaining: 15.1ms\n",
      "79:\tlearn: 0.9322799\ttotal: 57.6ms\tremaining: 14.4ms\n",
      "80:\tlearn: 0.9334086\ttotal: 58.3ms\tremaining: 13.7ms\n",
      "81:\tlearn: 0.9322799\ttotal: 58.9ms\tremaining: 12.9ms\n",
      "82:\tlearn: 0.9322799\ttotal: 59.6ms\tremaining: 12.2ms\n",
      "83:\tlearn: 0.9322799\ttotal: 59.8ms\tremaining: 11.4ms\n",
      "84:\tlearn: 0.9322799\ttotal: 60.6ms\tremaining: 10.7ms\n",
      "85:\tlearn: 0.9322799\ttotal: 61.3ms\tremaining: 9.97ms\n",
      "86:\tlearn: 0.9311512\ttotal: 61.9ms\tremaining: 9.25ms\n",
      "87:\tlearn: 0.9311512\ttotal: 62.2ms\tremaining: 8.49ms\n",
      "88:\tlearn: 0.9300226\ttotal: 62.9ms\tremaining: 7.78ms\n",
      "89:\tlearn: 0.9311512\ttotal: 63.6ms\tremaining: 7.06ms\n",
      "90:\tlearn: 0.9300226\ttotal: 64.2ms\tremaining: 6.35ms\n",
      "91:\tlearn: 0.9300226\ttotal: 64.9ms\tremaining: 5.64ms\n",
      "92:\tlearn: 0.9300226\ttotal: 65.5ms\tremaining: 4.93ms\n",
      "93:\tlearn: 0.9300226\ttotal: 65.8ms\tremaining: 4.2ms\n",
      "94:\tlearn: 0.9311512\ttotal: 66.4ms\tremaining: 3.5ms\n",
      "95:\tlearn: 0.9311512\ttotal: 67.1ms\tremaining: 2.79ms\n",
      "96:\tlearn: 0.9311512\ttotal: 67.4ms\tremaining: 2.08ms\n",
      "97:\tlearn: 0.9322799\ttotal: 68ms\tremaining: 1.39ms\n",
      "98:\tlearn: 0.9322799\ttotal: 68.7ms\tremaining: 693us\n",
      "99:\tlearn: 0.9322799\ttotal: 69.4ms\tremaining: 0us\n",
      "0:\tlearn: 0.8656885\ttotal: 1.12ms\tremaining: 111ms\n",
      "1:\tlearn: 0.8769752\ttotal: 1.97ms\tremaining: 96.4ms\n",
      "2:\tlearn: 0.8905192\ttotal: 2.76ms\tremaining: 89.2ms\n",
      "3:\tlearn: 0.8882619\ttotal: 3.46ms\tremaining: 83.2ms\n",
      "4:\tlearn: 0.8702032\ttotal: 3.67ms\tremaining: 69.8ms\n",
      "5:\tlearn: 0.8769752\ttotal: 4.41ms\tremaining: 69.1ms\n",
      "6:\tlearn: 0.8826185\ttotal: 5.22ms\tremaining: 69.3ms\n",
      "7:\tlearn: 0.8826185\ttotal: 5.99ms\tremaining: 68.9ms\n",
      "8:\tlearn: 0.8837472\ttotal: 6.68ms\tremaining: 67.6ms\n",
      "9:\tlearn: 0.8848758\ttotal: 7.42ms\tremaining: 66.8ms\n",
      "10:\tlearn: 0.8905192\ttotal: 8.14ms\tremaining: 65.9ms\n",
      "11:\tlearn: 0.8927765\ttotal: 8.89ms\tremaining: 65.2ms\n",
      "12:\tlearn: 0.8939052\ttotal: 9.61ms\tremaining: 64.3ms\n",
      "13:\tlearn: 0.8961625\ttotal: 10.3ms\tremaining: 63.3ms\n",
      "14:\tlearn: 0.8972912\ttotal: 11ms\tremaining: 62.4ms\n",
      "15:\tlearn: 0.8972912\ttotal: 11.7ms\tremaining: 61.2ms\n",
      "16:\tlearn: 0.8995485\ttotal: 12.3ms\tremaining: 60.2ms\n",
      "17:\tlearn: 0.8984199\ttotal: 13ms\tremaining: 59.4ms\n",
      "18:\tlearn: 0.8972912\ttotal: 13.2ms\tremaining: 56.5ms\n",
      "19:\tlearn: 0.8995485\ttotal: 13.9ms\tremaining: 55.6ms\n",
      "20:\tlearn: 0.9006772\ttotal: 14.6ms\tremaining: 54.8ms\n",
      "21:\tlearn: 0.8995485\ttotal: 15.3ms\tremaining: 54.1ms\n",
      "22:\tlearn: 0.9006772\ttotal: 15.9ms\tremaining: 53.3ms\n",
      "23:\tlearn: 0.9018059\ttotal: 16.6ms\tremaining: 52.6ms\n",
      "24:\tlearn: 0.9029345\ttotal: 17.3ms\tremaining: 51.8ms\n",
      "25:\tlearn: 0.9051919\ttotal: 17.9ms\tremaining: 51ms\n",
      "26:\tlearn: 0.9006772\ttotal: 18.1ms\tremaining: 48.9ms\n",
      "27:\tlearn: 0.9040632\ttotal: 18.7ms\tremaining: 48.1ms\n",
      "28:\tlearn: 0.9029345\ttotal: 19.4ms\tremaining: 47.4ms\n",
      "29:\tlearn: 0.9063205\ttotal: 20.1ms\tremaining: 46.8ms\n",
      "30:\tlearn: 0.9097065\ttotal: 20.7ms\tremaining: 46.1ms\n",
      "31:\tlearn: 0.9085779\ttotal: 21.4ms\tremaining: 45.5ms\n",
      "32:\tlearn: 0.9142212\ttotal: 22.1ms\tremaining: 44.8ms\n",
      "33:\tlearn: 0.9130926\ttotal: 22.8ms\tremaining: 44.2ms\n",
      "34:\tlearn: 0.9176072\ttotal: 23.8ms\tremaining: 44.2ms\n",
      "35:\tlearn: 0.9176072\ttotal: 24.7ms\tremaining: 43.9ms\n",
      "36:\tlearn: 0.9176072\ttotal: 25.4ms\tremaining: 43.3ms\n",
      "37:\tlearn: 0.9164786\ttotal: 26.2ms\tremaining: 42.7ms\n",
      "38:\tlearn: 0.9164786\ttotal: 26.9ms\tremaining: 42ms\n",
      "39:\tlearn: 0.9164786\ttotal: 27.6ms\tremaining: 41.5ms\n",
      "40:\tlearn: 0.9209932\ttotal: 28.4ms\tremaining: 40.9ms\n",
      "41:\tlearn: 0.9198646\ttotal: 29.3ms\tremaining: 40.4ms\n",
      "42:\tlearn: 0.9209932\ttotal: 30ms\tremaining: 39.8ms\n",
      "43:\tlearn: 0.9221219\ttotal: 30.7ms\tremaining: 39.1ms\n",
      "44:\tlearn: 0.9209932\ttotal: 31.5ms\tremaining: 38.4ms\n",
      "45:\tlearn: 0.9209932\ttotal: 32.1ms\tremaining: 37.7ms\n",
      "46:\tlearn: 0.9198646\ttotal: 32.8ms\tremaining: 37ms\n",
      "47:\tlearn: 0.9198646\ttotal: 33.5ms\tremaining: 36.3ms\n",
      "48:\tlearn: 0.9209932\ttotal: 34.2ms\tremaining: 35.6ms\n",
      "49:\tlearn: 0.9209932\ttotal: 34.9ms\tremaining: 34.9ms\n",
      "50:\tlearn: 0.9221219\ttotal: 35.6ms\tremaining: 34.2ms\n",
      "51:\tlearn: 0.9266366\ttotal: 36.3ms\tremaining: 33.5ms\n",
      "52:\tlearn: 0.9277652\ttotal: 37.1ms\tremaining: 32.9ms\n",
      "53:\tlearn: 0.9266366\ttotal: 37.9ms\tremaining: 32.3ms\n",
      "54:\tlearn: 0.9277652\ttotal: 38.8ms\tremaining: 31.8ms\n",
      "55:\tlearn: 0.9266366\ttotal: 39.6ms\tremaining: 31.1ms\n",
      "56:\tlearn: 0.9266366\ttotal: 40.4ms\tremaining: 30.5ms\n",
      "57:\tlearn: 0.9277652\ttotal: 41.2ms\tremaining: 29.9ms\n",
      "58:\tlearn: 0.9277652\ttotal: 42ms\tremaining: 29.2ms\n",
      "59:\tlearn: 0.9288939\ttotal: 43ms\tremaining: 28.7ms\n",
      "60:\tlearn: 0.9277652\ttotal: 43.9ms\tremaining: 28.1ms\n",
      "61:\tlearn: 0.9266366\ttotal: 45.2ms\tremaining: 27.7ms\n",
      "62:\tlearn: 0.9266366\ttotal: 45.6ms\tremaining: 26.8ms\n",
      "63:\tlearn: 0.9266366\ttotal: 46.5ms\tremaining: 26.2ms\n",
      "64:\tlearn: 0.9266366\ttotal: 47.8ms\tremaining: 25.7ms\n",
      "65:\tlearn: 0.9266366\ttotal: 48.8ms\tremaining: 25.1ms\n",
      "66:\tlearn: 0.9266366\ttotal: 49.6ms\tremaining: 24.4ms\n",
      "67:\tlearn: 0.9277652\ttotal: 50.4ms\tremaining: 23.7ms\n",
      "68:\tlearn: 0.9277652\ttotal: 51.2ms\tremaining: 23ms\n",
      "69:\tlearn: 0.9277652\ttotal: 52.4ms\tremaining: 22.5ms\n",
      "70:\tlearn: 0.9288939\ttotal: 54ms\tremaining: 22ms\n",
      "71:\tlearn: 0.9300226\ttotal: 54.9ms\tremaining: 21.4ms\n",
      "72:\tlearn: 0.9300226\ttotal: 55.9ms\tremaining: 20.7ms\n",
      "73:\tlearn: 0.9300226\ttotal: 56.9ms\tremaining: 20ms\n",
      "74:\tlearn: 0.9311512\ttotal: 57.7ms\tremaining: 19.2ms\n",
      "75:\tlearn: 0.9345372\ttotal: 58.6ms\tremaining: 18.5ms\n",
      "76:\tlearn: 0.9345372\ttotal: 59.6ms\tremaining: 17.8ms\n",
      "77:\tlearn: 0.9334086\ttotal: 60.6ms\tremaining: 17.1ms\n",
      "78:\tlearn: 0.9322799\ttotal: 61.3ms\tremaining: 16.3ms\n",
      "79:\tlearn: 0.9322799\ttotal: 62.1ms\tremaining: 15.5ms\n",
      "80:\tlearn: 0.9334086\ttotal: 62.8ms\tremaining: 14.7ms\n",
      "81:\tlearn: 0.9334086\ttotal: 63.4ms\tremaining: 13.9ms\n",
      "82:\tlearn: 0.9334086\ttotal: 64.1ms\tremaining: 13.1ms\n",
      "83:\tlearn: 0.9334086\ttotal: 64.8ms\tremaining: 12.4ms\n",
      "84:\tlearn: 0.9345372\ttotal: 65.5ms\tremaining: 11.6ms\n",
      "85:\tlearn: 0.9356659\ttotal: 66.2ms\tremaining: 10.8ms\n",
      "86:\tlearn: 0.9356659\ttotal: 67ms\tremaining: 10ms\n",
      "87:\tlearn: 0.9367946\ttotal: 67.7ms\tremaining: 9.23ms\n",
      "88:\tlearn: 0.9367946\ttotal: 68.4ms\tremaining: 8.46ms\n",
      "89:\tlearn: 0.9356659\ttotal: 69.2ms\tremaining: 7.68ms\n",
      "90:\tlearn: 0.9367946\ttotal: 69.8ms\tremaining: 6.91ms\n",
      "91:\tlearn: 0.9356659\ttotal: 70.6ms\tremaining: 6.14ms\n",
      "92:\tlearn: 0.9356659\ttotal: 71.4ms\tremaining: 5.38ms\n",
      "93:\tlearn: 0.9356659\ttotal: 72.2ms\tremaining: 4.61ms\n",
      "94:\tlearn: 0.9356659\ttotal: 72.8ms\tremaining: 3.83ms\n",
      "95:\tlearn: 0.9356659\ttotal: 73.6ms\tremaining: 3.07ms\n",
      "96:\tlearn: 0.9356659\ttotal: 74.4ms\tremaining: 2.3ms\n",
      "97:\tlearn: 0.9356659\ttotal: 75.1ms\tremaining: 1.53ms\n",
      "98:\tlearn: 0.9356659\ttotal: 75.7ms\tremaining: 764us\n",
      "99:\tlearn: 0.9379233\ttotal: 76.4ms\tremaining: 0us\n",
      "0:\tlearn: 0.8724605\ttotal: 1.19ms\tremaining: 118ms\n",
      "1:\tlearn: 0.8803612\ttotal: 1.93ms\tremaining: 94.4ms\n",
      "2:\tlearn: 0.8848758\ttotal: 2.67ms\tremaining: 86.4ms\n",
      "3:\tlearn: 0.8792325\ttotal: 3.41ms\tremaining: 81.9ms\n",
      "4:\tlearn: 0.8758465\ttotal: 3.62ms\tremaining: 68.8ms\n",
      "5:\tlearn: 0.8735892\ttotal: 4.37ms\tremaining: 68.5ms\n",
      "6:\tlearn: 0.8882619\ttotal: 5.03ms\tremaining: 66.9ms\n",
      "7:\tlearn: 0.8893905\ttotal: 5.7ms\tremaining: 65.5ms\n",
      "8:\tlearn: 0.8972912\ttotal: 6.36ms\tremaining: 64.3ms\n",
      "9:\tlearn: 0.8961625\ttotal: 7.1ms\tremaining: 63.9ms\n",
      "10:\tlearn: 0.8916479\ttotal: 7.79ms\tremaining: 63ms\n",
      "11:\tlearn: 0.8927765\ttotal: 8.47ms\tremaining: 62.1ms\n",
      "12:\tlearn: 0.8984199\ttotal: 9.31ms\tremaining: 62.3ms\n",
      "13:\tlearn: 0.8972912\ttotal: 10ms\tremaining: 61.6ms\n",
      "14:\tlearn: 0.8972912\ttotal: 10.7ms\tremaining: 60.5ms\n",
      "15:\tlearn: 0.8972912\ttotal: 11.4ms\tremaining: 59.9ms\n",
      "16:\tlearn: 0.9018059\ttotal: 12.1ms\tremaining: 59.1ms\n",
      "17:\tlearn: 0.9040632\ttotal: 12.8ms\tremaining: 58.4ms\n",
      "18:\tlearn: 0.9018059\ttotal: 13ms\tremaining: 55.3ms\n",
      "19:\tlearn: 0.9051919\ttotal: 13.6ms\tremaining: 54.6ms\n",
      "20:\tlearn: 0.9051919\ttotal: 14.1ms\tremaining: 53.1ms\n",
      "21:\tlearn: 0.9040632\ttotal: 14.3ms\tremaining: 50.8ms\n",
      "22:\tlearn: 0.9063205\ttotal: 15ms\tremaining: 50.1ms\n",
      "23:\tlearn: 0.9074492\ttotal: 15.6ms\tremaining: 49.5ms\n",
      "24:\tlearn: 0.9040632\ttotal: 16.4ms\tremaining: 49.1ms\n",
      "25:\tlearn: 0.9029345\ttotal: 17ms\tremaining: 48.5ms\n",
      "26:\tlearn: 0.9029345\ttotal: 17.7ms\tremaining: 47.9ms\n",
      "27:\tlearn: 0.9051919\ttotal: 18.4ms\tremaining: 47.3ms\n",
      "28:\tlearn: 0.9051919\ttotal: 19ms\tremaining: 46.6ms\n",
      "29:\tlearn: 0.9074492\ttotal: 19.8ms\tremaining: 46.2ms\n",
      "30:\tlearn: 0.9108352\ttotal: 20.4ms\tremaining: 45.5ms\n",
      "31:\tlearn: 0.9130926\ttotal: 21.2ms\tremaining: 45ms\n",
      "32:\tlearn: 0.9142212\ttotal: 21.9ms\tremaining: 44.5ms\n",
      "33:\tlearn: 0.9142212\ttotal: 22.6ms\tremaining: 43.9ms\n",
      "34:\tlearn: 0.9142212\ttotal: 23.3ms\tremaining: 43.3ms\n",
      "35:\tlearn: 0.9130926\ttotal: 24ms\tremaining: 42.6ms\n",
      "36:\tlearn: 0.9164786\ttotal: 24.8ms\tremaining: 42.2ms\n",
      "37:\tlearn: 0.9187359\ttotal: 25.5ms\tremaining: 41.6ms\n",
      "38:\tlearn: 0.9221219\ttotal: 26.2ms\tremaining: 40.9ms\n",
      "39:\tlearn: 0.9198646\ttotal: 26.9ms\tremaining: 40.3ms\n",
      "40:\tlearn: 0.9198646\ttotal: 27.5ms\tremaining: 39.6ms\n",
      "41:\tlearn: 0.9221219\ttotal: 28.2ms\tremaining: 39ms\n",
      "42:\tlearn: 0.9221219\ttotal: 28.9ms\tremaining: 38.3ms\n",
      "43:\tlearn: 0.9221219\ttotal: 29.6ms\tremaining: 37.6ms\n",
      "44:\tlearn: 0.9232506\ttotal: 30.2ms\tremaining: 36.9ms\n",
      "45:\tlearn: 0.9232506\ttotal: 30.9ms\tremaining: 36.3ms\n",
      "46:\tlearn: 0.9243792\ttotal: 31.5ms\tremaining: 35.5ms\n",
      "47:\tlearn: 0.9255079\ttotal: 32.2ms\tremaining: 34.9ms\n",
      "48:\tlearn: 0.9266366\ttotal: 32.9ms\tremaining: 34.2ms\n",
      "49:\tlearn: 0.9277652\ttotal: 33.6ms\tremaining: 33.6ms\n",
      "50:\tlearn: 0.9277652\ttotal: 34.2ms\tremaining: 32.9ms\n",
      "51:\tlearn: 0.9266366\ttotal: 34.9ms\tremaining: 32.2ms\n",
      "52:\tlearn: 0.9288939\ttotal: 35.6ms\tremaining: 31.6ms\n",
      "53:\tlearn: 0.9300226\ttotal: 36.2ms\tremaining: 30.9ms\n",
      "54:\tlearn: 0.9300226\ttotal: 36.9ms\tremaining: 30.2ms\n",
      "55:\tlearn: 0.9300226\ttotal: 37.6ms\tremaining: 29.5ms\n",
      "56:\tlearn: 0.9311512\ttotal: 38.3ms\tremaining: 28.9ms\n",
      "57:\tlearn: 0.9311512\ttotal: 38.9ms\tremaining: 28.2ms\n",
      "58:\tlearn: 0.9311512\ttotal: 39.6ms\tremaining: 27.5ms\n",
      "59:\tlearn: 0.9311512\ttotal: 40.2ms\tremaining: 26.8ms\n",
      "60:\tlearn: 0.9311512\ttotal: 40.9ms\tremaining: 26.1ms\n",
      "61:\tlearn: 0.9311512\ttotal: 41.6ms\tremaining: 25.5ms\n",
      "62:\tlearn: 0.9311512\ttotal: 42.2ms\tremaining: 24.8ms\n",
      "63:\tlearn: 0.9311512\ttotal: 42.9ms\tremaining: 24.1ms\n",
      "64:\tlearn: 0.9311512\ttotal: 43.6ms\tremaining: 23.5ms\n",
      "65:\tlearn: 0.9311512\ttotal: 44.2ms\tremaining: 22.8ms\n",
      "66:\tlearn: 0.9311512\ttotal: 44.9ms\tremaining: 22.1ms\n",
      "67:\tlearn: 0.9311512\ttotal: 45.6ms\tremaining: 21.5ms\n",
      "68:\tlearn: 0.9322799\ttotal: 46.3ms\tremaining: 20.8ms\n",
      "69:\tlearn: 0.9322799\ttotal: 47ms\tremaining: 20.1ms\n",
      "70:\tlearn: 0.9334086\ttotal: 47.7ms\tremaining: 19.5ms\n",
      "71:\tlearn: 0.9356659\ttotal: 48.3ms\tremaining: 18.8ms\n",
      "72:\tlearn: 0.9345372\ttotal: 49ms\tremaining: 18.1ms\n",
      "73:\tlearn: 0.9345372\ttotal: 49.7ms\tremaining: 17.5ms\n",
      "74:\tlearn: 0.9356659\ttotal: 50.3ms\tremaining: 16.8ms\n",
      "75:\tlearn: 0.9356659\ttotal: 51ms\tremaining: 16.1ms\n",
      "76:\tlearn: 0.9367946\ttotal: 51.7ms\tremaining: 15.4ms\n",
      "77:\tlearn: 0.9367946\ttotal: 52.4ms\tremaining: 14.8ms\n",
      "78:\tlearn: 0.9367946\ttotal: 53.3ms\tremaining: 14.2ms\n",
      "79:\tlearn: 0.9356659\ttotal: 54ms\tremaining: 13.5ms\n",
      "80:\tlearn: 0.9356659\ttotal: 54.2ms\tremaining: 12.7ms\n",
      "81:\tlearn: 0.9356659\ttotal: 54.9ms\tremaining: 12ms\n",
      "82:\tlearn: 0.9356659\ttotal: 55.5ms\tremaining: 11.4ms\n",
      "83:\tlearn: 0.9356659\ttotal: 56.2ms\tremaining: 10.7ms\n",
      "84:\tlearn: 0.9356659\ttotal: 56.9ms\tremaining: 10ms\n",
      "85:\tlearn: 0.9345372\ttotal: 57.5ms\tremaining: 9.37ms\n",
      "86:\tlearn: 0.9367946\ttotal: 58.2ms\tremaining: 8.7ms\n",
      "87:\tlearn: 0.9367946\ttotal: 58.9ms\tremaining: 8.03ms\n",
      "88:\tlearn: 0.9379233\ttotal: 59.6ms\tremaining: 7.36ms\n",
      "89:\tlearn: 0.9379233\ttotal: 60.2ms\tremaining: 6.69ms\n",
      "90:\tlearn: 0.9379233\ttotal: 60.9ms\tremaining: 6.02ms\n",
      "91:\tlearn: 0.9367946\ttotal: 61.5ms\tremaining: 5.35ms\n",
      "92:\tlearn: 0.9367946\ttotal: 62.2ms\tremaining: 4.68ms\n",
      "93:\tlearn: 0.9367946\ttotal: 62.5ms\tremaining: 3.99ms\n",
      "94:\tlearn: 0.9367946\ttotal: 63.3ms\tremaining: 3.33ms\n",
      "95:\tlearn: 0.9367946\ttotal: 64ms\tremaining: 2.67ms\n",
      "96:\tlearn: 0.9367946\ttotal: 64.3ms\tremaining: 1.99ms\n",
      "97:\tlearn: 0.9367946\ttotal: 65.2ms\tremaining: 1.33ms\n",
      "98:\tlearn: 0.9367946\ttotal: 66.1ms\tremaining: 667us\n",
      "99:\tlearn: 0.9367946\ttotal: 67ms\tremaining: 0us\n",
      "0:\tlearn: 0.8668172\ttotal: 1.51ms\tremaining: 150ms\n",
      "1:\tlearn: 0.8758465\ttotal: 2.32ms\tremaining: 114ms\n",
      "2:\tlearn: 0.8871332\ttotal: 3.14ms\tremaining: 102ms\n",
      "3:\tlearn: 0.8848758\ttotal: 3.81ms\tremaining: 91.4ms\n",
      "4:\tlearn: 0.8735892\ttotal: 4.02ms\tremaining: 76.4ms\n",
      "5:\tlearn: 0.8747178\ttotal: 4.29ms\tremaining: 67.2ms\n",
      "6:\tlearn: 0.8713318\ttotal: 4.5ms\tremaining: 59.8ms\n",
      "7:\tlearn: 0.8792325\ttotal: 5.19ms\tremaining: 59.7ms\n",
      "8:\tlearn: 0.8747178\ttotal: 5.91ms\tremaining: 59.7ms\n",
      "9:\tlearn: 0.8758465\ttotal: 6.64ms\tremaining: 59.8ms\n",
      "10:\tlearn: 0.8803612\ttotal: 7.32ms\tremaining: 59.2ms\n",
      "11:\tlearn: 0.8803612\ttotal: 8.04ms\tremaining: 58.9ms\n",
      "12:\tlearn: 0.8848758\ttotal: 8.84ms\tremaining: 59.2ms\n",
      "13:\tlearn: 0.8814898\ttotal: 9.15ms\tremaining: 56.2ms\n",
      "14:\tlearn: 0.8837472\ttotal: 9.9ms\tremaining: 56.1ms\n",
      "15:\tlearn: 0.8871332\ttotal: 10.7ms\tremaining: 56.1ms\n",
      "16:\tlearn: 0.8882619\ttotal: 11.4ms\tremaining: 55.9ms\n",
      "17:\tlearn: 0.8893905\ttotal: 12.2ms\tremaining: 55.7ms\n",
      "18:\tlearn: 0.8916479\ttotal: 13ms\tremaining: 55.4ms\n",
      "19:\tlearn: 0.8893905\ttotal: 13.7ms\tremaining: 54.8ms\n",
      "20:\tlearn: 0.8905192\ttotal: 14.4ms\tremaining: 54.1ms\n",
      "21:\tlearn: 0.8916479\ttotal: 15.2ms\tremaining: 53.7ms\n",
      "22:\tlearn: 0.8927765\ttotal: 15.9ms\tremaining: 53.3ms\n",
      "23:\tlearn: 0.8893905\ttotal: 16.6ms\tremaining: 52.5ms\n",
      "24:\tlearn: 0.8939052\ttotal: 17.2ms\tremaining: 51.7ms\n",
      "25:\tlearn: 0.8961625\ttotal: 17.9ms\tremaining: 51ms\n",
      "26:\tlearn: 0.8984199\ttotal: 18.6ms\tremaining: 50.2ms\n",
      "27:\tlearn: 0.9006772\ttotal: 19.2ms\tremaining: 49.4ms\n",
      "28:\tlearn: 0.9018059\ttotal: 19.9ms\tremaining: 48.6ms\n",
      "29:\tlearn: 0.9029345\ttotal: 20.5ms\tremaining: 47.9ms\n",
      "30:\tlearn: 0.9051919\ttotal: 21.3ms\tremaining: 47.3ms\n",
      "31:\tlearn: 0.9040632\ttotal: 21.9ms\tremaining: 46.6ms\n",
      "32:\tlearn: 0.9074492\ttotal: 22.9ms\tremaining: 46.4ms\n",
      "33:\tlearn: 0.9074492\ttotal: 23.6ms\tremaining: 45.9ms\n",
      "34:\tlearn: 0.9085779\ttotal: 24.3ms\tremaining: 45.2ms\n",
      "35:\tlearn: 0.9085779\ttotal: 25.1ms\tremaining: 44.6ms\n",
      "36:\tlearn: 0.9108352\ttotal: 25.8ms\tremaining: 44ms\n",
      "37:\tlearn: 0.9130926\ttotal: 26.5ms\tremaining: 43.3ms\n",
      "38:\tlearn: 0.9142212\ttotal: 27.2ms\tremaining: 42.6ms\n",
      "39:\tlearn: 0.9142212\ttotal: 28.1ms\tremaining: 42.1ms\n",
      "40:\tlearn: 0.9130926\ttotal: 28.8ms\tremaining: 41.5ms\n",
      "41:\tlearn: 0.9142212\ttotal: 29.6ms\tremaining: 40.8ms\n",
      "42:\tlearn: 0.9176072\ttotal: 30.3ms\tremaining: 40.1ms\n",
      "43:\tlearn: 0.9187359\ttotal: 31ms\tremaining: 39.5ms\n",
      "44:\tlearn: 0.9187359\ttotal: 31.8ms\tremaining: 38.8ms\n",
      "45:\tlearn: 0.9198646\ttotal: 32.5ms\tremaining: 38.2ms\n",
      "46:\tlearn: 0.9198646\ttotal: 33.2ms\tremaining: 37.5ms\n",
      "47:\tlearn: 0.9176072\ttotal: 34ms\tremaining: 36.9ms\n",
      "48:\tlearn: 0.9176072\ttotal: 34.8ms\tremaining: 36.2ms\n",
      "49:\tlearn: 0.9187359\ttotal: 35.5ms\tremaining: 35.5ms\n",
      "50:\tlearn: 0.9187359\ttotal: 36.1ms\tremaining: 34.7ms\n",
      "51:\tlearn: 0.9209932\ttotal: 36.9ms\tremaining: 34ms\n",
      "52:\tlearn: 0.9221219\ttotal: 37.6ms\tremaining: 33.3ms\n",
      "53:\tlearn: 0.9221219\ttotal: 38.3ms\tremaining: 32.6ms\n",
      "54:\tlearn: 0.9232506\ttotal: 39ms\tremaining: 31.9ms\n",
      "55:\tlearn: 0.9209932\ttotal: 39.8ms\tremaining: 31.2ms\n",
      "56:\tlearn: 0.9232506\ttotal: 40.5ms\tremaining: 30.6ms\n",
      "57:\tlearn: 0.9232506\ttotal: 41.3ms\tremaining: 29.9ms\n",
      "58:\tlearn: 0.9221219\ttotal: 42.2ms\tremaining: 29.3ms\n",
      "59:\tlearn: 0.9232506\ttotal: 43.1ms\tremaining: 28.7ms\n",
      "60:\tlearn: 0.9243792\ttotal: 43.9ms\tremaining: 28.1ms\n",
      "61:\tlearn: 0.9255079\ttotal: 44.7ms\tremaining: 27.4ms\n",
      "62:\tlearn: 0.9243792\ttotal: 44.9ms\tremaining: 26.4ms\n",
      "63:\tlearn: 0.9232506\ttotal: 45.7ms\tremaining: 25.7ms\n",
      "64:\tlearn: 0.9243792\ttotal: 46.3ms\tremaining: 24.9ms\n",
      "65:\tlearn: 0.9277652\ttotal: 47.1ms\tremaining: 24.3ms\n",
      "66:\tlearn: 0.9277652\ttotal: 47.9ms\tremaining: 23.6ms\n",
      "67:\tlearn: 0.9266366\ttotal: 48.7ms\tremaining: 22.9ms\n",
      "68:\tlearn: 0.9277652\ttotal: 49.4ms\tremaining: 22.2ms\n",
      "69:\tlearn: 0.9300226\ttotal: 50.1ms\tremaining: 21.5ms\n",
      "70:\tlearn: 0.9311512\ttotal: 50.8ms\tremaining: 20.8ms\n",
      "71:\tlearn: 0.9311512\ttotal: 51.5ms\tremaining: 20ms\n",
      "72:\tlearn: 0.9311512\ttotal: 52.2ms\tremaining: 19.3ms\n",
      "73:\tlearn: 0.9322799\ttotal: 52.9ms\tremaining: 18.6ms\n",
      "74:\tlearn: 0.9322799\ttotal: 53.7ms\tremaining: 17.9ms\n",
      "75:\tlearn: 0.9322799\ttotal: 54.3ms\tremaining: 17.2ms\n",
      "76:\tlearn: 0.9345372\ttotal: 55ms\tremaining: 16.4ms\n",
      "77:\tlearn: 0.9345372\ttotal: 55.7ms\tremaining: 15.7ms\n",
      "78:\tlearn: 0.9334086\ttotal: 56.4ms\tremaining: 15ms\n",
      "79:\tlearn: 0.9345372\ttotal: 57ms\tremaining: 14.3ms\n",
      "80:\tlearn: 0.9334086\ttotal: 57.7ms\tremaining: 13.5ms\n",
      "81:\tlearn: 0.9334086\ttotal: 58.4ms\tremaining: 12.8ms\n",
      "82:\tlearn: 0.9345372\ttotal: 59ms\tremaining: 12.1ms\n",
      "83:\tlearn: 0.9345372\ttotal: 59.7ms\tremaining: 11.4ms\n",
      "84:\tlearn: 0.9345372\ttotal: 60.5ms\tremaining: 10.7ms\n",
      "85:\tlearn: 0.9322799\ttotal: 61.2ms\tremaining: 9.96ms\n",
      "86:\tlearn: 0.9322799\ttotal: 61.9ms\tremaining: 9.25ms\n",
      "87:\tlearn: 0.9322799\ttotal: 62.3ms\tremaining: 8.5ms\n",
      "88:\tlearn: 0.9322799\ttotal: 63ms\tremaining: 7.78ms\n",
      "89:\tlearn: 0.9322799\ttotal: 63.7ms\tremaining: 7.07ms\n",
      "90:\tlearn: 0.9322799\ttotal: 63.9ms\tremaining: 6.32ms\n",
      "91:\tlearn: 0.9322799\ttotal: 64.5ms\tremaining: 5.61ms\n",
      "92:\tlearn: 0.9322799\ttotal: 65.2ms\tremaining: 4.91ms\n",
      "93:\tlearn: 0.9334086\ttotal: 65.9ms\tremaining: 4.21ms\n",
      "94:\tlearn: 0.9345372\ttotal: 66.7ms\tremaining: 3.51ms\n",
      "95:\tlearn: 0.9334086\ttotal: 67.3ms\tremaining: 2.8ms\n",
      "96:\tlearn: 0.9334086\ttotal: 68ms\tremaining: 2.1ms\n",
      "97:\tlearn: 0.9334086\ttotal: 68.6ms\tremaining: 1.4ms\n",
      "98:\tlearn: 0.9334086\ttotal: 69.3ms\tremaining: 700us\n",
      "99:\tlearn: 0.9334086\ttotal: 70ms\tremaining: 0us\n",
      "0:\tlearn: 0.8623025\ttotal: 1.23ms\tremaining: 122ms\n",
      "1:\tlearn: 0.8758465\ttotal: 1.98ms\tremaining: 96.9ms\n",
      "2:\tlearn: 0.8871332\ttotal: 2.73ms\tremaining: 88.3ms\n",
      "3:\tlearn: 0.8848758\ttotal: 3.48ms\tremaining: 83.6ms\n",
      "4:\tlearn: 0.8792325\ttotal: 3.7ms\tremaining: 70.3ms\n",
      "5:\tlearn: 0.8747178\ttotal: 4.03ms\tremaining: 63.1ms\n",
      "6:\tlearn: 0.8814898\ttotal: 4.24ms\tremaining: 56.3ms\n",
      "7:\tlearn: 0.8837472\ttotal: 4.94ms\tremaining: 56.8ms\n",
      "8:\tlearn: 0.8814898\ttotal: 5.66ms\tremaining: 57.3ms\n",
      "9:\tlearn: 0.8814898\ttotal: 6.39ms\tremaining: 57.5ms\n",
      "10:\tlearn: 0.8758465\ttotal: 7.15ms\tremaining: 57.9ms\n",
      "11:\tlearn: 0.8814898\ttotal: 7.82ms\tremaining: 57.3ms\n",
      "12:\tlearn: 0.8837472\ttotal: 8.5ms\tremaining: 56.9ms\n",
      "13:\tlearn: 0.8814898\ttotal: 8.86ms\tremaining: 54.4ms\n",
      "14:\tlearn: 0.8860045\ttotal: 9.54ms\tremaining: 54.1ms\n",
      "15:\tlearn: 0.8860045\ttotal: 10.3ms\tremaining: 53.8ms\n",
      "16:\tlearn: 0.8860045\ttotal: 10.9ms\tremaining: 53.4ms\n",
      "17:\tlearn: 0.8905192\ttotal: 11.6ms\tremaining: 52.8ms\n",
      "18:\tlearn: 0.8916479\ttotal: 12.3ms\tremaining: 52.4ms\n",
      "19:\tlearn: 0.8893905\ttotal: 13ms\tremaining: 52.1ms\n",
      "20:\tlearn: 0.8916479\ttotal: 13.8ms\tremaining: 51.8ms\n",
      "21:\tlearn: 0.8950339\ttotal: 14.2ms\tremaining: 50.4ms\n",
      "22:\tlearn: 0.8927765\ttotal: 14.9ms\tremaining: 50ms\n",
      "23:\tlearn: 0.8995485\ttotal: 15.6ms\tremaining: 49.5ms\n",
      "24:\tlearn: 0.8995485\ttotal: 16.3ms\tremaining: 49ms\n",
      "25:\tlearn: 0.8972912\ttotal: 17.1ms\tremaining: 48.6ms\n",
      "26:\tlearn: 0.9018059\ttotal: 17.6ms\tremaining: 47.5ms\n",
      "27:\tlearn: 0.9006772\ttotal: 18.3ms\tremaining: 47.2ms\n",
      "28:\tlearn: 0.9018059\ttotal: 19.2ms\tremaining: 47ms\n",
      "29:\tlearn: 0.9006772\ttotal: 19.9ms\tremaining: 46.4ms\n",
      "30:\tlearn: 0.9074492\ttotal: 20.6ms\tremaining: 45.8ms\n",
      "31:\tlearn: 0.9074492\ttotal: 21.3ms\tremaining: 45.2ms\n",
      "32:\tlearn: 0.9074492\ttotal: 21.9ms\tremaining: 44.5ms\n",
      "33:\tlearn: 0.9108352\ttotal: 22.6ms\tremaining: 43.9ms\n",
      "34:\tlearn: 0.9142212\ttotal: 23.3ms\tremaining: 43.2ms\n",
      "35:\tlearn: 0.9176072\ttotal: 23.9ms\tremaining: 42.6ms\n",
      "36:\tlearn: 0.9187359\ttotal: 24.6ms\tremaining: 41.9ms\n",
      "37:\tlearn: 0.9187359\ttotal: 25.3ms\tremaining: 41.2ms\n",
      "38:\tlearn: 0.9176072\ttotal: 25.9ms\tremaining: 40.6ms\n",
      "39:\tlearn: 0.9187359\ttotal: 26.6ms\tremaining: 39.9ms\n",
      "40:\tlearn: 0.9187359\ttotal: 27.2ms\tremaining: 39.2ms\n",
      "41:\tlearn: 0.9209932\ttotal: 27.9ms\tremaining: 38.5ms\n",
      "42:\tlearn: 0.9221219\ttotal: 28.6ms\tremaining: 38ms\n",
      "43:\tlearn: 0.9232506\ttotal: 29.4ms\tremaining: 37.4ms\n",
      "44:\tlearn: 0.9243792\ttotal: 30.1ms\tremaining: 36.8ms\n",
      "45:\tlearn: 0.9243792\ttotal: 30.7ms\tremaining: 36.1ms\n",
      "46:\tlearn: 0.9255079\ttotal: 31.4ms\tremaining: 35.4ms\n",
      "47:\tlearn: 0.9255079\ttotal: 32.1ms\tremaining: 34.7ms\n",
      "48:\tlearn: 0.9243792\ttotal: 32.7ms\tremaining: 34.1ms\n",
      "49:\tlearn: 0.9255079\ttotal: 33.4ms\tremaining: 33.4ms\n",
      "50:\tlearn: 0.9266366\ttotal: 34.2ms\tremaining: 32.8ms\n",
      "51:\tlearn: 0.9266366\ttotal: 34.9ms\tremaining: 32.2ms\n",
      "52:\tlearn: 0.9266366\ttotal: 35.6ms\tremaining: 31.6ms\n",
      "53:\tlearn: 0.9266366\ttotal: 36.4ms\tremaining: 31ms\n",
      "54:\tlearn: 0.9266366\ttotal: 37.1ms\tremaining: 30.3ms\n",
      "55:\tlearn: 0.9277652\ttotal: 37.7ms\tremaining: 29.7ms\n",
      "56:\tlearn: 0.9300226\ttotal: 38.5ms\tremaining: 29ms\n",
      "57:\tlearn: 0.9300226\ttotal: 39.1ms\tremaining: 28.3ms\n",
      "58:\tlearn: 0.9288939\ttotal: 39.3ms\tremaining: 27.3ms\n",
      "59:\tlearn: 0.9300226\ttotal: 40ms\tremaining: 26.7ms\n",
      "60:\tlearn: 0.9322799\ttotal: 40.7ms\tremaining: 26ms\n",
      "61:\tlearn: 0.9311512\ttotal: 41.3ms\tremaining: 25.3ms\n",
      "62:\tlearn: 0.9300226\ttotal: 42ms\tremaining: 24.7ms\n",
      "63:\tlearn: 0.9322799\ttotal: 42.7ms\tremaining: 24ms\n",
      "64:\tlearn: 0.9345372\ttotal: 43.4ms\tremaining: 23.3ms\n",
      "65:\tlearn: 0.9345372\ttotal: 44ms\tremaining: 22.7ms\n",
      "66:\tlearn: 0.9356659\ttotal: 44.7ms\tremaining: 22ms\n",
      "67:\tlearn: 0.9356659\ttotal: 45.3ms\tremaining: 21.3ms\n",
      "68:\tlearn: 0.9345372\ttotal: 46ms\tremaining: 20.7ms\n",
      "69:\tlearn: 0.9345372\ttotal: 46.7ms\tremaining: 20ms\n",
      "70:\tlearn: 0.9345372\ttotal: 47.4ms\tremaining: 19.4ms\n",
      "71:\tlearn: 0.9345372\ttotal: 48.1ms\tremaining: 18.7ms\n",
      "72:\tlearn: 0.9345372\ttotal: 48.8ms\tremaining: 18ms\n",
      "73:\tlearn: 0.9345372\ttotal: 49.5ms\tremaining: 17.4ms\n",
      "74:\tlearn: 0.9345372\ttotal: 50.1ms\tremaining: 16.7ms\n",
      "75:\tlearn: 0.9322799\ttotal: 50.8ms\tremaining: 16ms\n",
      "76:\tlearn: 0.9334086\ttotal: 51.5ms\tremaining: 15.4ms\n",
      "77:\tlearn: 0.9345372\ttotal: 52.2ms\tremaining: 14.7ms\n",
      "78:\tlearn: 0.9345372\ttotal: 53ms\tremaining: 14.1ms\n",
      "79:\tlearn: 0.9356659\ttotal: 53.8ms\tremaining: 13.4ms\n",
      "80:\tlearn: 0.9356659\ttotal: 54.6ms\tremaining: 12.8ms\n",
      "81:\tlearn: 0.9356659\ttotal: 55.8ms\tremaining: 12.3ms\n",
      "82:\tlearn: 0.9356659\ttotal: 56.3ms\tremaining: 11.5ms\n",
      "83:\tlearn: 0.9356659\ttotal: 57.1ms\tremaining: 10.9ms\n",
      "84:\tlearn: 0.9356659\ttotal: 57.9ms\tremaining: 10.2ms\n",
      "85:\tlearn: 0.9356659\ttotal: 58.3ms\tremaining: 9.49ms\n",
      "86:\tlearn: 0.9356659\ttotal: 59ms\tremaining: 8.82ms\n",
      "87:\tlearn: 0.9356659\ttotal: 59.8ms\tremaining: 8.15ms\n",
      "88:\tlearn: 0.9356659\ttotal: 60.5ms\tremaining: 7.48ms\n",
      "89:\tlearn: 0.9356659\ttotal: 61.3ms\tremaining: 6.8ms\n",
      "90:\tlearn: 0.9356659\ttotal: 62ms\tremaining: 6.13ms\n",
      "91:\tlearn: 0.9356659\ttotal: 62.3ms\tremaining: 5.42ms\n",
      "92:\tlearn: 0.9356659\ttotal: 63ms\tremaining: 4.74ms\n",
      "93:\tlearn: 0.9356659\ttotal: 63.8ms\tremaining: 4.07ms\n",
      "94:\tlearn: 0.9356659\ttotal: 64.6ms\tremaining: 3.4ms\n",
      "95:\tlearn: 0.9356659\ttotal: 65.4ms\tremaining: 2.72ms\n",
      "96:\tlearn: 0.9367946\ttotal: 66.1ms\tremaining: 2.04ms\n",
      "97:\tlearn: 0.9367946\ttotal: 66.8ms\tremaining: 1.36ms\n",
      "98:\tlearn: 0.9367946\ttotal: 67.5ms\tremaining: 681us\n",
      "99:\tlearn: 0.9367946\ttotal: 68.3ms\tremaining: 0us\n",
      "0:\tlearn: 0.8713318\ttotal: 1.11ms\tremaining: 110ms\n",
      "1:\tlearn: 0.8814898\ttotal: 1.92ms\tremaining: 94.1ms\n",
      "2:\tlearn: 0.8893905\ttotal: 3.06ms\tremaining: 98.8ms\n",
      "3:\tlearn: 0.8927765\ttotal: 3.87ms\tremaining: 92.8ms\n",
      "4:\tlearn: 0.8803612\ttotal: 4.1ms\tremaining: 77.9ms\n",
      "5:\tlearn: 0.8837472\ttotal: 4.92ms\tremaining: 77.1ms\n",
      "6:\tlearn: 0.8972912\ttotal: 5.71ms\tremaining: 75.9ms\n",
      "7:\tlearn: 0.8995485\ttotal: 6.44ms\tremaining: 74ms\n",
      "8:\tlearn: 0.9018059\ttotal: 7.18ms\tremaining: 72.6ms\n",
      "9:\tlearn: 0.9006772\ttotal: 7.83ms\tremaining: 70.5ms\n",
      "10:\tlearn: 0.8984199\ttotal: 8.66ms\tremaining: 70.1ms\n",
      "11:\tlearn: 0.9029345\ttotal: 9.53ms\tremaining: 69.9ms\n",
      "12:\tlearn: 0.9051919\ttotal: 10.8ms\tremaining: 72.2ms\n",
      "13:\tlearn: 0.9018059\ttotal: 11.6ms\tremaining: 71.2ms\n",
      "14:\tlearn: 0.9040632\ttotal: 12.3ms\tremaining: 69.9ms\n",
      "15:\tlearn: 0.9040632\ttotal: 13ms\tremaining: 68.5ms\n",
      "16:\tlearn: 0.9051919\ttotal: 13.8ms\tremaining: 67.4ms\n",
      "17:\tlearn: 0.9085779\ttotal: 14.5ms\tremaining: 66.2ms\n",
      "18:\tlearn: 0.9051919\ttotal: 14.7ms\tremaining: 62.9ms\n",
      "19:\tlearn: 0.9085779\ttotal: 15.5ms\tremaining: 62ms\n",
      "20:\tlearn: 0.9051919\ttotal: 16.2ms\tremaining: 60.9ms\n",
      "21:\tlearn: 0.9085779\ttotal: 16.9ms\tremaining: 60ms\n",
      "22:\tlearn: 0.9097065\ttotal: 17.6ms\tremaining: 59ms\n",
      "23:\tlearn: 0.9130926\ttotal: 18.3ms\tremaining: 57.9ms\n",
      "24:\tlearn: 0.9142212\ttotal: 19ms\tremaining: 57ms\n",
      "25:\tlearn: 0.9142212\ttotal: 19.8ms\tremaining: 56.2ms\n",
      "26:\tlearn: 0.9130926\ttotal: 19.9ms\tremaining: 53.8ms\n",
      "27:\tlearn: 0.9130926\ttotal: 20.7ms\tremaining: 53.2ms\n",
      "28:\tlearn: 0.9142212\ttotal: 21.7ms\tremaining: 53.1ms\n",
      "29:\tlearn: 0.9153499\ttotal: 22.4ms\tremaining: 52.2ms\n",
      "30:\tlearn: 0.9176072\ttotal: 22.7ms\tremaining: 50.6ms\n",
      "31:\tlearn: 0.9187359\ttotal: 23.5ms\tremaining: 49.8ms\n",
      "32:\tlearn: 0.9198646\ttotal: 24.2ms\tremaining: 49.1ms\n",
      "33:\tlearn: 0.9198646\ttotal: 25ms\tremaining: 48.4ms\n",
      "34:\tlearn: 0.9209932\ttotal: 25.7ms\tremaining: 47.8ms\n",
      "35:\tlearn: 0.9221219\ttotal: 26.6ms\tremaining: 47.2ms\n",
      "36:\tlearn: 0.9221219\ttotal: 27.3ms\tremaining: 46.5ms\n",
      "37:\tlearn: 0.9243792\ttotal: 28.1ms\tremaining: 45.9ms\n",
      "38:\tlearn: 0.9255079\ttotal: 29.2ms\tremaining: 45.7ms\n",
      "39:\tlearn: 0.9255079\ttotal: 30.1ms\tremaining: 45.1ms\n",
      "40:\tlearn: 0.9255079\ttotal: 30.9ms\tremaining: 44.5ms\n",
      "41:\tlearn: 0.9255079\ttotal: 31.7ms\tremaining: 43.8ms\n",
      "42:\tlearn: 0.9255079\ttotal: 32.5ms\tremaining: 43.1ms\n",
      "43:\tlearn: 0.9255079\ttotal: 33.3ms\tremaining: 42.4ms\n",
      "44:\tlearn: 0.9255079\ttotal: 34.1ms\tremaining: 41.6ms\n",
      "45:\tlearn: 0.9255079\ttotal: 34.8ms\tremaining: 40.9ms\n",
      "46:\tlearn: 0.9255079\ttotal: 35.5ms\tremaining: 40.1ms\n",
      "47:\tlearn: 0.9255079\ttotal: 36.3ms\tremaining: 39.3ms\n",
      "48:\tlearn: 0.9255079\ttotal: 37.1ms\tremaining: 38.6ms\n",
      "49:\tlearn: 0.9255079\ttotal: 37.8ms\tremaining: 37.8ms\n",
      "50:\tlearn: 0.9255079\ttotal: 38.6ms\tremaining: 37.1ms\n",
      "51:\tlearn: 0.9255079\ttotal: 39.2ms\tremaining: 36.2ms\n",
      "52:\tlearn: 0.9266366\ttotal: 39.9ms\tremaining: 35.4ms\n",
      "53:\tlearn: 0.9266366\ttotal: 40.6ms\tremaining: 34.6ms\n",
      "54:\tlearn: 0.9266366\ttotal: 41.3ms\tremaining: 33.8ms\n",
      "55:\tlearn: 0.9266366\ttotal: 42ms\tremaining: 33ms\n",
      "56:\tlearn: 0.9277652\ttotal: 42.7ms\tremaining: 32.2ms\n",
      "57:\tlearn: 0.9300226\ttotal: 43.4ms\tremaining: 31.4ms\n",
      "58:\tlearn: 0.9288939\ttotal: 44.1ms\tremaining: 30.6ms\n",
      "59:\tlearn: 0.9288939\ttotal: 44.8ms\tremaining: 29.9ms\n",
      "60:\tlearn: 0.9288939\ttotal: 45.5ms\tremaining: 29.1ms\n",
      "61:\tlearn: 0.9300226\ttotal: 46.3ms\tremaining: 28.3ms\n",
      "62:\tlearn: 0.9288939\ttotal: 47ms\tremaining: 27.6ms\n",
      "63:\tlearn: 0.9311512\ttotal: 47.7ms\tremaining: 26.8ms\n",
      "64:\tlearn: 0.9300226\ttotal: 48.4ms\tremaining: 26.1ms\n",
      "65:\tlearn: 0.9300226\ttotal: 49.1ms\tremaining: 25.3ms\n",
      "66:\tlearn: 0.9300226\ttotal: 49.8ms\tremaining: 24.5ms\n",
      "67:\tlearn: 0.9300226\ttotal: 50.6ms\tremaining: 23.8ms\n",
      "68:\tlearn: 0.9300226\ttotal: 51.3ms\tremaining: 23.1ms\n",
      "69:\tlearn: 0.9311512\ttotal: 52.1ms\tremaining: 22.3ms\n",
      "70:\tlearn: 0.9311512\ttotal: 52.8ms\tremaining: 21.6ms\n",
      "71:\tlearn: 0.9311512\ttotal: 53.5ms\tremaining: 20.8ms\n",
      "72:\tlearn: 0.9311512\ttotal: 54.3ms\tremaining: 20.1ms\n",
      "73:\tlearn: 0.9311512\ttotal: 55ms\tremaining: 19.3ms\n",
      "74:\tlearn: 0.9311512\ttotal: 55.7ms\tremaining: 18.6ms\n",
      "75:\tlearn: 0.9311512\ttotal: 56.4ms\tremaining: 17.8ms\n",
      "76:\tlearn: 0.9311512\ttotal: 57.1ms\tremaining: 17ms\n",
      "77:\tlearn: 0.9311512\ttotal: 57.8ms\tremaining: 16.3ms\n",
      "78:\tlearn: 0.9311512\ttotal: 58.4ms\tremaining: 15.5ms\n",
      "79:\tlearn: 0.9311512\ttotal: 59.1ms\tremaining: 14.8ms\n",
      "80:\tlearn: 0.9311512\ttotal: 60ms\tremaining: 14.1ms\n",
      "81:\tlearn: 0.9322799\ttotal: 60.7ms\tremaining: 13.3ms\n",
      "82:\tlearn: 0.9322799\ttotal: 61.4ms\tremaining: 12.6ms\n",
      "83:\tlearn: 0.9334086\ttotal: 62.1ms\tremaining: 11.8ms\n",
      "84:\tlearn: 0.9334086\ttotal: 62.8ms\tremaining: 11.1ms\n",
      "85:\tlearn: 0.9334086\ttotal: 63.5ms\tremaining: 10.3ms\n",
      "86:\tlearn: 0.9334086\ttotal: 64.2ms\tremaining: 9.59ms\n",
      "87:\tlearn: 0.9334086\ttotal: 64.9ms\tremaining: 8.85ms\n",
      "88:\tlearn: 0.9334086\ttotal: 65.5ms\tremaining: 8.1ms\n",
      "89:\tlearn: 0.9334086\ttotal: 66.3ms\tremaining: 7.36ms\n",
      "90:\tlearn: 0.9334086\ttotal: 66.9ms\tremaining: 6.62ms\n",
      "91:\tlearn: 0.9334086\ttotal: 67.1ms\tremaining: 5.83ms\n",
      "92:\tlearn: 0.9334086\ttotal: 67.8ms\tremaining: 5.1ms\n",
      "93:\tlearn: 0.9334086\ttotal: 68.5ms\tremaining: 4.37ms\n",
      "94:\tlearn: 0.9345372\ttotal: 69.2ms\tremaining: 3.64ms\n",
      "95:\tlearn: 0.9345372\ttotal: 70ms\tremaining: 2.92ms\n",
      "96:\tlearn: 0.9345372\ttotal: 70.9ms\tremaining: 2.19ms\n",
      "97:\tlearn: 0.9345372\ttotal: 71.6ms\tremaining: 1.46ms\n",
      "98:\tlearn: 0.9345372\ttotal: 72.2ms\tremaining: 729us\n",
      "99:\tlearn: 0.9356659\ttotal: 73.1ms\tremaining: 0us\n",
      "0:\tlearn: 0.8658399\ttotal: 925us\tremaining: 91.6ms\n",
      "1:\tlearn: 0.8748591\ttotal: 1.73ms\tremaining: 84.9ms\n",
      "2:\tlearn: 0.8883878\ttotal: 2.4ms\tremaining: 77.7ms\n",
      "3:\tlearn: 0.8917700\ttotal: 3.12ms\tremaining: 74.9ms\n",
      "4:\tlearn: 0.8669673\ttotal: 3.31ms\tremaining: 63ms\n",
      "5:\tlearn: 0.8838782\ttotal: 4ms\tremaining: 62.7ms\n",
      "6:\tlearn: 0.8895152\ttotal: 4.67ms\tremaining: 62.1ms\n",
      "7:\tlearn: 0.8883878\ttotal: 5.36ms\tremaining: 61.7ms\n",
      "8:\tlearn: 0.8895152\ttotal: 6.04ms\tremaining: 61.1ms\n",
      "9:\tlearn: 0.8951522\ttotal: 6.73ms\tremaining: 60.6ms\n",
      "10:\tlearn: 0.8928974\ttotal: 7.4ms\tremaining: 59.9ms\n",
      "11:\tlearn: 0.8928974\ttotal: 8.12ms\tremaining: 59.6ms\n",
      "12:\tlearn: 0.9007892\ttotal: 8.82ms\tremaining: 59ms\n",
      "13:\tlearn: 0.8996618\ttotal: 9.63ms\tremaining: 59.2ms\n",
      "14:\tlearn: 0.9007892\ttotal: 10.4ms\tremaining: 59.1ms\n",
      "15:\tlearn: 0.9064262\ttotal: 11.2ms\tremaining: 58.9ms\n",
      "16:\tlearn: 0.9098083\ttotal: 12ms\tremaining: 58.6ms\n",
      "17:\tlearn: 0.9064262\ttotal: 12.7ms\tremaining: 58ms\n",
      "18:\tlearn: 0.9064262\ttotal: 12.9ms\tremaining: 55.1ms\n",
      "19:\tlearn: 0.9075536\ttotal: 13.6ms\tremaining: 54.5ms\n",
      "20:\tlearn: 0.9075536\ttotal: 14.3ms\tremaining: 53.9ms\n",
      "21:\tlearn: 0.9086809\ttotal: 15ms\tremaining: 53.2ms\n",
      "22:\tlearn: 0.9075536\ttotal: 15.7ms\tremaining: 52.5ms\n",
      "23:\tlearn: 0.9109357\ttotal: 15.9ms\tremaining: 50.2ms\n",
      "24:\tlearn: 0.9098083\ttotal: 16.5ms\tremaining: 49.5ms\n",
      "25:\tlearn: 0.9098083\ttotal: 17.2ms\tremaining: 48.9ms\n",
      "26:\tlearn: 0.9086809\ttotal: 17.9ms\tremaining: 48.3ms\n",
      "27:\tlearn: 0.9075536\ttotal: 18.5ms\tremaining: 47.6ms\n",
      "28:\tlearn: 0.9086809\ttotal: 19.2ms\tremaining: 47ms\n",
      "29:\tlearn: 0.9086809\ttotal: 19.9ms\tremaining: 46.4ms\n",
      "30:\tlearn: 0.9086809\ttotal: 20.6ms\tremaining: 45.8ms\n",
      "31:\tlearn: 0.9109357\ttotal: 21.3ms\tremaining: 45.2ms\n",
      "32:\tlearn: 0.9120631\ttotal: 22ms\tremaining: 44.6ms\n",
      "33:\tlearn: 0.9109357\ttotal: 22.7ms\tremaining: 44ms\n",
      "34:\tlearn: 0.9143179\ttotal: 23.4ms\tremaining: 43.4ms\n",
      "35:\tlearn: 0.9143179\ttotal: 24.1ms\tremaining: 42.8ms\n",
      "36:\tlearn: 0.9131905\ttotal: 24.8ms\tremaining: 42.3ms\n",
      "37:\tlearn: 0.9154453\ttotal: 25.7ms\tremaining: 41.9ms\n",
      "38:\tlearn: 0.9143179\ttotal: 26.3ms\tremaining: 41.2ms\n",
      "39:\tlearn: 0.9143179\ttotal: 27ms\tremaining: 40.5ms\n",
      "40:\tlearn: 0.9143179\ttotal: 27.7ms\tremaining: 39.9ms\n",
      "41:\tlearn: 0.9165727\ttotal: 28.4ms\tremaining: 39.2ms\n",
      "42:\tlearn: 0.9177001\ttotal: 29.2ms\tremaining: 38.7ms\n",
      "43:\tlearn: 0.9188275\ttotal: 29.9ms\tremaining: 38.1ms\n",
      "44:\tlearn: 0.9210823\ttotal: 30.6ms\tremaining: 37.4ms\n",
      "45:\tlearn: 0.9210823\ttotal: 31.3ms\tremaining: 36.7ms\n",
      "46:\tlearn: 0.9210823\ttotal: 32ms\tremaining: 36.1ms\n",
      "47:\tlearn: 0.9210823\ttotal: 32.8ms\tremaining: 35.5ms\n",
      "48:\tlearn: 0.9222097\ttotal: 33.6ms\tremaining: 35ms\n",
      "49:\tlearn: 0.9222097\ttotal: 34.2ms\tremaining: 34.2ms\n",
      "50:\tlearn: 0.9222097\ttotal: 35ms\tremaining: 33.6ms\n",
      "51:\tlearn: 0.9233371\ttotal: 35.7ms\tremaining: 32.9ms\n",
      "52:\tlearn: 0.9233371\ttotal: 36.3ms\tremaining: 32.2ms\n",
      "53:\tlearn: 0.9222097\ttotal: 37.2ms\tremaining: 31.7ms\n",
      "54:\tlearn: 0.9233371\ttotal: 37.9ms\tremaining: 31ms\n",
      "55:\tlearn: 0.9233371\ttotal: 38.6ms\tremaining: 30.3ms\n",
      "56:\tlearn: 0.9244645\ttotal: 39.3ms\tremaining: 29.6ms\n",
      "57:\tlearn: 0.9244645\ttotal: 39.9ms\tremaining: 28.9ms\n",
      "58:\tlearn: 0.9244645\ttotal: 40.7ms\tremaining: 28.3ms\n",
      "59:\tlearn: 0.9244645\ttotal: 41.3ms\tremaining: 27.6ms\n",
      "60:\tlearn: 0.9255919\ttotal: 42ms\tremaining: 26.9ms\n",
      "61:\tlearn: 0.9244645\ttotal: 42.6ms\tremaining: 26.1ms\n",
      "62:\tlearn: 0.9267193\ttotal: 42.9ms\tremaining: 25.2ms\n",
      "63:\tlearn: 0.9267193\ttotal: 43.6ms\tremaining: 24.5ms\n",
      "64:\tlearn: 0.9255919\ttotal: 44.2ms\tremaining: 23.8ms\n",
      "65:\tlearn: 0.9255919\ttotal: 44.9ms\tremaining: 23.1ms\n",
      "66:\tlearn: 0.9267193\ttotal: 45.5ms\tremaining: 22.4ms\n",
      "67:\tlearn: 0.9278467\ttotal: 46.2ms\tremaining: 21.7ms\n",
      "68:\tlearn: 0.9278467\ttotal: 46.8ms\tremaining: 21ms\n",
      "69:\tlearn: 0.9267193\ttotal: 47.5ms\tremaining: 20.4ms\n",
      "70:\tlearn: 0.9267193\ttotal: 48.2ms\tremaining: 19.7ms\n",
      "71:\tlearn: 0.9267193\ttotal: 48.8ms\tremaining: 19ms\n",
      "72:\tlearn: 0.9289741\ttotal: 49.6ms\tremaining: 18.3ms\n",
      "73:\tlearn: 0.9301015\ttotal: 50.3ms\tremaining: 17.7ms\n",
      "74:\tlearn: 0.9301015\ttotal: 51ms\tremaining: 17ms\n",
      "75:\tlearn: 0.9334837\ttotal: 51.6ms\tremaining: 16.3ms\n",
      "76:\tlearn: 0.9323563\ttotal: 52.4ms\tremaining: 15.6ms\n",
      "77:\tlearn: 0.9323563\ttotal: 52.9ms\tremaining: 14.9ms\n",
      "78:\tlearn: 0.9312289\ttotal: 53.8ms\tremaining: 14.3ms\n",
      "79:\tlearn: 0.9312289\ttotal: 54.5ms\tremaining: 13.6ms\n",
      "80:\tlearn: 0.9312289\ttotal: 55ms\tremaining: 12.9ms\n",
      "81:\tlearn: 0.9312289\ttotal: 55.7ms\tremaining: 12.2ms\n",
      "82:\tlearn: 0.9312289\ttotal: 56.3ms\tremaining: 11.5ms\n",
      "83:\tlearn: 0.9312289\ttotal: 56.6ms\tremaining: 10.8ms\n",
      "84:\tlearn: 0.9312289\ttotal: 57.3ms\tremaining: 10.1ms\n",
      "85:\tlearn: 0.9312289\ttotal: 57.9ms\tremaining: 9.43ms\n",
      "86:\tlearn: 0.9323563\ttotal: 58.6ms\tremaining: 8.76ms\n",
      "87:\tlearn: 0.9323563\ttotal: 59.3ms\tremaining: 8.08ms\n",
      "88:\tlearn: 0.9334837\ttotal: 60ms\tremaining: 7.41ms\n",
      "89:\tlearn: 0.9334837\ttotal: 60.4ms\tremaining: 6.71ms\n",
      "90:\tlearn: 0.9334837\ttotal: 61ms\tremaining: 6.04ms\n",
      "91:\tlearn: 0.9334837\ttotal: 61.7ms\tremaining: 5.37ms\n",
      "92:\tlearn: 0.9334837\ttotal: 62.4ms\tremaining: 4.69ms\n",
      "93:\tlearn: 0.9334837\ttotal: 63ms\tremaining: 4.02ms\n",
      "94:\tlearn: 0.9334837\ttotal: 63.7ms\tremaining: 3.35ms\n",
      "95:\tlearn: 0.9334837\ttotal: 64.4ms\tremaining: 2.68ms\n",
      "96:\tlearn: 0.9334837\ttotal: 65.1ms\tremaining: 2.01ms\n",
      "97:\tlearn: 0.9334837\ttotal: 65.7ms\tremaining: 1.34ms\n",
      "98:\tlearn: 0.9334837\ttotal: 66.4ms\tremaining: 670us\n",
      "99:\tlearn: 0.9334837\ttotal: 67.1ms\tremaining: 0us\n",
      "0:\tlearn: 0.8680947\ttotal: 1.47ms\tremaining: 145ms\n",
      "1:\tlearn: 0.8737317\ttotal: 2.21ms\tremaining: 108ms\n",
      "2:\tlearn: 0.8782413\ttotal: 2.87ms\tremaining: 92.9ms\n",
      "3:\tlearn: 0.8850056\ttotal: 3.52ms\tremaining: 84.6ms\n",
      "4:\tlearn: 0.8703495\ttotal: 3.72ms\tremaining: 70.6ms\n",
      "5:\tlearn: 0.8782413\ttotal: 4.4ms\tremaining: 69ms\n",
      "6:\tlearn: 0.8737317\ttotal: 5.11ms\tremaining: 67.8ms\n",
      "7:\tlearn: 0.8782413\ttotal: 5.8ms\tremaining: 66.7ms\n",
      "8:\tlearn: 0.8782413\ttotal: 6.5ms\tremaining: 65.7ms\n",
      "9:\tlearn: 0.8872604\ttotal: 7.21ms\tremaining: 64.9ms\n",
      "10:\tlearn: 0.8793687\ttotal: 7.87ms\tremaining: 63.7ms\n",
      "11:\tlearn: 0.8895152\ttotal: 8.56ms\tremaining: 62.8ms\n",
      "12:\tlearn: 0.8940248\ttotal: 9.23ms\tremaining: 61.8ms\n",
      "13:\tlearn: 0.8985344\ttotal: 9.86ms\tremaining: 60.6ms\n",
      "14:\tlearn: 0.8962796\ttotal: 10.6ms\tremaining: 59.9ms\n",
      "15:\tlearn: 0.8985344\ttotal: 11.3ms\tremaining: 59.1ms\n",
      "16:\tlearn: 0.8985344\ttotal: 12ms\tremaining: 58.4ms\n",
      "17:\tlearn: 0.8996618\ttotal: 12.6ms\tremaining: 57.6ms\n",
      "18:\tlearn: 0.8951522\ttotal: 12.8ms\tremaining: 54.7ms\n",
      "19:\tlearn: 0.9007892\ttotal: 13.5ms\tremaining: 53.9ms\n",
      "20:\tlearn: 0.8996618\ttotal: 14.2ms\tremaining: 53.5ms\n",
      "21:\tlearn: 0.9030440\ttotal: 14.9ms\tremaining: 52.9ms\n",
      "22:\tlearn: 0.9041714\ttotal: 15.6ms\tremaining: 52.3ms\n",
      "23:\tlearn: 0.9052988\ttotal: 16.4ms\tremaining: 51.8ms\n",
      "24:\tlearn: 0.9052988\ttotal: 17ms\tremaining: 51.1ms\n",
      "25:\tlearn: 0.9098083\ttotal: 17.7ms\tremaining: 50.5ms\n",
      "26:\tlearn: 0.9052988\ttotal: 17.9ms\tremaining: 48.4ms\n",
      "27:\tlearn: 0.9075536\ttotal: 18.6ms\tremaining: 47.9ms\n",
      "28:\tlearn: 0.9052988\ttotal: 19.3ms\tremaining: 47.2ms\n",
      "29:\tlearn: 0.9064262\ttotal: 20.1ms\tremaining: 46.8ms\n",
      "30:\tlearn: 0.9086809\ttotal: 20.4ms\tremaining: 45.5ms\n",
      "31:\tlearn: 0.9098083\ttotal: 21.2ms\tremaining: 45ms\n",
      "32:\tlearn: 0.9098083\ttotal: 22ms\tremaining: 44.6ms\n",
      "33:\tlearn: 0.9109357\ttotal: 22.7ms\tremaining: 44.1ms\n",
      "34:\tlearn: 0.9120631\ttotal: 23.6ms\tremaining: 43.9ms\n",
      "35:\tlearn: 0.9131905\ttotal: 24.4ms\tremaining: 43.4ms\n",
      "36:\tlearn: 0.9143179\ttotal: 25.1ms\tremaining: 42.7ms\n",
      "37:\tlearn: 0.9143179\ttotal: 25.8ms\tremaining: 42.1ms\n",
      "38:\tlearn: 0.9165727\ttotal: 26.6ms\tremaining: 41.5ms\n",
      "39:\tlearn: 0.9188275\ttotal: 27.4ms\tremaining: 41.1ms\n",
      "40:\tlearn: 0.9188275\ttotal: 28.1ms\tremaining: 40.5ms\n",
      "41:\tlearn: 0.9199549\ttotal: 29.1ms\tremaining: 40.1ms\n",
      "42:\tlearn: 0.9199549\ttotal: 29.8ms\tremaining: 39.5ms\n",
      "43:\tlearn: 0.9199549\ttotal: 30.6ms\tremaining: 38.9ms\n",
      "44:\tlearn: 0.9199549\ttotal: 32ms\tremaining: 39.1ms\n",
      "45:\tlearn: 0.9222097\ttotal: 32.8ms\tremaining: 38.5ms\n",
      "46:\tlearn: 0.9199549\ttotal: 33.8ms\tremaining: 38.2ms\n",
      "47:\tlearn: 0.9222097\ttotal: 34.7ms\tremaining: 37.6ms\n",
      "48:\tlearn: 0.9244645\ttotal: 35.4ms\tremaining: 36.9ms\n",
      "49:\tlearn: 0.9244645\ttotal: 36.3ms\tremaining: 36.3ms\n",
      "50:\tlearn: 0.9267193\ttotal: 37.5ms\tremaining: 36.1ms\n",
      "51:\tlearn: 0.9267193\ttotal: 38.6ms\tremaining: 35.6ms\n",
      "52:\tlearn: 0.9278467\ttotal: 39.6ms\tremaining: 35.1ms\n",
      "53:\tlearn: 0.9289741\ttotal: 40.4ms\tremaining: 34.4ms\n",
      "54:\tlearn: 0.9289741\ttotal: 41.3ms\tremaining: 33.8ms\n",
      "55:\tlearn: 0.9289741\ttotal: 42.1ms\tremaining: 33.1ms\n",
      "56:\tlearn: 0.9289741\ttotal: 43.1ms\tremaining: 32.5ms\n",
      "57:\tlearn: 0.9289741\ttotal: 44ms\tremaining: 31.9ms\n",
      "58:\tlearn: 0.9289741\ttotal: 44.7ms\tremaining: 31.1ms\n",
      "59:\tlearn: 0.9301015\ttotal: 45.5ms\tremaining: 30.3ms\n",
      "60:\tlearn: 0.9312289\ttotal: 46.2ms\tremaining: 29.6ms\n",
      "61:\tlearn: 0.9323563\ttotal: 46.9ms\tremaining: 28.8ms\n",
      "62:\tlearn: 0.9301015\ttotal: 47.7ms\tremaining: 28ms\n",
      "63:\tlearn: 0.9323563\ttotal: 48.5ms\tremaining: 27.3ms\n",
      "64:\tlearn: 0.9323563\ttotal: 49.4ms\tremaining: 26.6ms\n",
      "65:\tlearn: 0.9334837\ttotal: 50.1ms\tremaining: 25.8ms\n",
      "66:\tlearn: 0.9346110\ttotal: 50.9ms\tremaining: 25.1ms\n",
      "67:\tlearn: 0.9357384\ttotal: 51.6ms\tremaining: 24.3ms\n",
      "68:\tlearn: 0.9357384\ttotal: 52.3ms\tremaining: 23.5ms\n",
      "69:\tlearn: 0.9368658\ttotal: 53ms\tremaining: 22.7ms\n",
      "70:\tlearn: 0.9357384\ttotal: 53.7ms\tremaining: 21.9ms\n",
      "71:\tlearn: 0.9357384\ttotal: 54.4ms\tremaining: 21.1ms\n",
      "72:\tlearn: 0.9357384\ttotal: 55.1ms\tremaining: 20.4ms\n",
      "73:\tlearn: 0.9357384\ttotal: 55.9ms\tremaining: 19.6ms\n",
      "74:\tlearn: 0.9357384\ttotal: 56.6ms\tremaining: 18.9ms\n",
      "75:\tlearn: 0.9357384\ttotal: 57.4ms\tremaining: 18.1ms\n",
      "76:\tlearn: 0.9368658\ttotal: 58.1ms\tremaining: 17.4ms\n",
      "77:\tlearn: 0.9368658\ttotal: 58.9ms\tremaining: 16.6ms\n",
      "78:\tlearn: 0.9368658\ttotal: 59.7ms\tremaining: 15.9ms\n",
      "79:\tlearn: 0.9368658\ttotal: 60.2ms\tremaining: 15.1ms\n",
      "80:\tlearn: 0.9357384\ttotal: 61ms\tremaining: 14.3ms\n",
      "81:\tlearn: 0.9357384\ttotal: 61.7ms\tremaining: 13.5ms\n",
      "82:\tlearn: 0.9357384\ttotal: 62.5ms\tremaining: 12.8ms\n",
      "83:\tlearn: 0.9357384\ttotal: 63.3ms\tremaining: 12.1ms\n",
      "84:\tlearn: 0.9357384\ttotal: 64.3ms\tremaining: 11.3ms\n",
      "85:\tlearn: 0.9368658\ttotal: 65ms\tremaining: 10.6ms\n",
      "86:\tlearn: 0.9379932\ttotal: 65.7ms\tremaining: 9.82ms\n",
      "87:\tlearn: 0.9379932\ttotal: 66.5ms\tremaining: 9.07ms\n",
      "88:\tlearn: 0.9379932\ttotal: 67.2ms\tremaining: 8.3ms\n",
      "89:\tlearn: 0.9379932\ttotal: 68ms\tremaining: 7.55ms\n",
      "90:\tlearn: 0.9368658\ttotal: 68.7ms\tremaining: 6.79ms\n",
      "91:\tlearn: 0.9368658\ttotal: 69.5ms\tremaining: 6.04ms\n",
      "92:\tlearn: 0.9368658\ttotal: 70.2ms\tremaining: 5.28ms\n",
      "93:\tlearn: 0.9368658\ttotal: 70.9ms\tremaining: 4.53ms\n",
      "94:\tlearn: 0.9368658\ttotal: 71.7ms\tremaining: 3.77ms\n",
      "95:\tlearn: 0.9368658\ttotal: 72.4ms\tremaining: 3.02ms\n",
      "96:\tlearn: 0.9379932\ttotal: 73.1ms\tremaining: 2.26ms\n",
      "97:\tlearn: 0.9368658\ttotal: 73.8ms\tremaining: 1.51ms\n",
      "98:\tlearn: 0.9379932\ttotal: 74.6ms\tremaining: 754us\n",
      "99:\tlearn: 0.9368658\ttotal: 75.4ms\tremaining: 0us\n",
      "0:\tlearn: 0.8692221\ttotal: 1.1ms\tremaining: 109ms\n",
      "1:\tlearn: 0.8726043\ttotal: 2.15ms\tremaining: 105ms\n",
      "2:\tlearn: 0.8872604\ttotal: 3.23ms\tremaining: 104ms\n",
      "3:\tlearn: 0.8906426\ttotal: 4.07ms\tremaining: 97.7ms\n",
      "4:\tlearn: 0.8703495\ttotal: 4.29ms\tremaining: 81.6ms\n",
      "5:\tlearn: 0.8816234\ttotal: 5.03ms\tremaining: 78.8ms\n",
      "6:\tlearn: 0.8838782\ttotal: 5.84ms\tremaining: 77.6ms\n",
      "7:\tlearn: 0.8883878\ttotal: 6.82ms\tremaining: 78.4ms\n",
      "8:\tlearn: 0.8951522\ttotal: 7.57ms\tremaining: 76.5ms\n",
      "9:\tlearn: 0.8962796\ttotal: 8.27ms\tremaining: 74.4ms\n",
      "10:\tlearn: 0.8962796\ttotal: 8.97ms\tremaining: 72.6ms\n",
      "11:\tlearn: 0.8974070\ttotal: 9.69ms\tremaining: 71.1ms\n",
      "12:\tlearn: 0.9019166\ttotal: 10.7ms\tremaining: 71.4ms\n",
      "13:\tlearn: 0.8996618\ttotal: 11.4ms\tremaining: 69.8ms\n",
      "14:\tlearn: 0.9007892\ttotal: 12.1ms\tremaining: 68.4ms\n",
      "15:\tlearn: 0.9041714\ttotal: 12.8ms\tremaining: 67.1ms\n",
      "16:\tlearn: 0.9052988\ttotal: 13.6ms\tremaining: 66.3ms\n",
      "17:\tlearn: 0.9052988\ttotal: 14.3ms\tremaining: 65.2ms\n",
      "18:\tlearn: 0.9019166\ttotal: 14.5ms\tremaining: 61.9ms\n",
      "19:\tlearn: 0.9052988\ttotal: 15.2ms\tremaining: 60.8ms\n",
      "20:\tlearn: 0.9052988\ttotal: 15.9ms\tremaining: 60ms\n",
      "21:\tlearn: 0.9052988\ttotal: 16.7ms\tremaining: 59.3ms\n",
      "22:\tlearn: 0.9064262\ttotal: 17.4ms\tremaining: 58.3ms\n",
      "23:\tlearn: 0.9075536\ttotal: 17.6ms\tremaining: 55.7ms\n",
      "24:\tlearn: 0.9086809\ttotal: 18.3ms\tremaining: 55ms\n",
      "25:\tlearn: 0.9098083\ttotal: 19.1ms\tremaining: 54.5ms\n",
      "26:\tlearn: 0.9098083\ttotal: 20ms\tremaining: 54.1ms\n",
      "27:\tlearn: 0.9098083\ttotal: 21ms\tremaining: 53.9ms\n",
      "28:\tlearn: 0.9109357\ttotal: 21.8ms\tremaining: 53.5ms\n",
      "29:\tlearn: 0.9131905\ttotal: 22.7ms\tremaining: 52.9ms\n",
      "30:\tlearn: 0.9154453\ttotal: 23.6ms\tremaining: 52.5ms\n",
      "31:\tlearn: 0.9131905\ttotal: 24.3ms\tremaining: 51.7ms\n",
      "32:\tlearn: 0.9154453\ttotal: 25.1ms\tremaining: 51ms\n",
      "33:\tlearn: 0.9143179\ttotal: 25.8ms\tremaining: 50.1ms\n",
      "34:\tlearn: 0.9143179\ttotal: 26.5ms\tremaining: 49.3ms\n",
      "35:\tlearn: 0.9154453\ttotal: 27.2ms\tremaining: 48.3ms\n",
      "36:\tlearn: 0.9165727\ttotal: 27.9ms\tremaining: 47.5ms\n",
      "37:\tlearn: 0.9165727\ttotal: 28.6ms\tremaining: 46.6ms\n",
      "38:\tlearn: 0.9154453\ttotal: 29.3ms\tremaining: 45.9ms\n",
      "39:\tlearn: 0.9165727\ttotal: 30ms\tremaining: 45ms\n",
      "40:\tlearn: 0.9199549\ttotal: 30.7ms\tremaining: 44.2ms\n",
      "41:\tlearn: 0.9188275\ttotal: 31.6ms\tremaining: 43.6ms\n",
      "42:\tlearn: 0.9188275\ttotal: 32.2ms\tremaining: 42.7ms\n",
      "43:\tlearn: 0.9199549\ttotal: 33.1ms\tremaining: 42.2ms\n",
      "44:\tlearn: 0.9199549\ttotal: 33.9ms\tremaining: 41.4ms\n",
      "45:\tlearn: 0.9199549\ttotal: 34.6ms\tremaining: 40.6ms\n",
      "46:\tlearn: 0.9210823\ttotal: 35.3ms\tremaining: 39.8ms\n",
      "47:\tlearn: 0.9222097\ttotal: 36.1ms\tremaining: 39.1ms\n",
      "48:\tlearn: 0.9222097\ttotal: 36.8ms\tremaining: 38.3ms\n",
      "49:\tlearn: 0.9222097\ttotal: 37.5ms\tremaining: 37.5ms\n",
      "50:\tlearn: 0.9233371\ttotal: 38.2ms\tremaining: 36.7ms\n",
      "51:\tlearn: 0.9222097\ttotal: 39ms\tremaining: 36ms\n",
      "52:\tlearn: 0.9244645\ttotal: 39.7ms\tremaining: 35.2ms\n",
      "53:\tlearn: 0.9255919\ttotal: 40.5ms\tremaining: 34.5ms\n",
      "54:\tlearn: 0.9244645\ttotal: 41.2ms\tremaining: 33.7ms\n",
      "55:\tlearn: 0.9255919\ttotal: 42ms\tremaining: 33ms\n",
      "56:\tlearn: 0.9255919\ttotal: 42.7ms\tremaining: 32.2ms\n",
      "57:\tlearn: 0.9255919\ttotal: 43.4ms\tremaining: 31.4ms\n",
      "58:\tlearn: 0.9244645\ttotal: 44ms\tremaining: 30.6ms\n",
      "59:\tlearn: 0.9255919\ttotal: 44.7ms\tremaining: 29.8ms\n",
      "60:\tlearn: 0.9278467\ttotal: 45.4ms\tremaining: 29ms\n",
      "61:\tlearn: 0.9278467\ttotal: 46.1ms\tremaining: 28.2ms\n",
      "62:\tlearn: 0.9278467\ttotal: 46.3ms\tremaining: 27.2ms\n",
      "63:\tlearn: 0.9289741\ttotal: 47ms\tremaining: 26.4ms\n",
      "64:\tlearn: 0.9278467\ttotal: 47.6ms\tremaining: 25.6ms\n",
      "65:\tlearn: 0.9301015\ttotal: 48.3ms\tremaining: 24.9ms\n",
      "66:\tlearn: 0.9301015\ttotal: 49ms\tremaining: 24.1ms\n",
      "67:\tlearn: 0.9289741\ttotal: 49.6ms\tremaining: 23.3ms\n",
      "68:\tlearn: 0.9289741\ttotal: 50.3ms\tremaining: 22.6ms\n",
      "69:\tlearn: 0.9301015\ttotal: 51ms\tremaining: 21.8ms\n",
      "70:\tlearn: 0.9289741\ttotal: 51.7ms\tremaining: 21.1ms\n",
      "71:\tlearn: 0.9289741\ttotal: 52.4ms\tremaining: 20.4ms\n",
      "72:\tlearn: 0.9323563\ttotal: 53.1ms\tremaining: 19.7ms\n",
      "73:\tlearn: 0.9323563\ttotal: 54ms\tremaining: 19ms\n",
      "74:\tlearn: 0.9323563\ttotal: 54.8ms\tremaining: 18.3ms\n",
      "75:\tlearn: 0.9323563\ttotal: 55.7ms\tremaining: 17.6ms\n",
      "76:\tlearn: 0.9346110\ttotal: 56.5ms\tremaining: 16.9ms\n",
      "77:\tlearn: 0.9334837\ttotal: 57.4ms\tremaining: 16.2ms\n",
      "78:\tlearn: 0.9334837\ttotal: 58.3ms\tremaining: 15.5ms\n",
      "79:\tlearn: 0.9334837\ttotal: 59ms\tremaining: 14.7ms\n",
      "80:\tlearn: 0.9323563\ttotal: 59.8ms\tremaining: 14ms\n",
      "81:\tlearn: 0.9323563\ttotal: 60.5ms\tremaining: 13.3ms\n",
      "82:\tlearn: 0.9323563\ttotal: 61.4ms\tremaining: 12.6ms\n",
      "83:\tlearn: 0.9334837\ttotal: 62.1ms\tremaining: 11.8ms\n",
      "84:\tlearn: 0.9334837\ttotal: 62.7ms\tremaining: 11.1ms\n",
      "85:\tlearn: 0.9334837\ttotal: 63.5ms\tremaining: 10.3ms\n",
      "86:\tlearn: 0.9346110\ttotal: 64.3ms\tremaining: 9.61ms\n",
      "87:\tlearn: 0.9346110\ttotal: 65ms\tremaining: 8.87ms\n",
      "88:\tlearn: 0.9346110\ttotal: 65.7ms\tremaining: 8.12ms\n",
      "89:\tlearn: 0.9346110\ttotal: 66.4ms\tremaining: 7.38ms\n",
      "90:\tlearn: 0.9346110\ttotal: 66.8ms\tremaining: 6.6ms\n",
      "91:\tlearn: 0.9357384\ttotal: 67.5ms\tremaining: 5.87ms\n",
      "92:\tlearn: 0.9368658\ttotal: 68.3ms\tremaining: 5.14ms\n",
      "93:\tlearn: 0.9368658\ttotal: 69ms\tremaining: 4.4ms\n",
      "94:\tlearn: 0.9368658\ttotal: 69.7ms\tremaining: 3.67ms\n",
      "95:\tlearn: 0.9368658\ttotal: 70.3ms\tremaining: 2.93ms\n",
      "96:\tlearn: 0.9357384\ttotal: 70.9ms\tremaining: 2.19ms\n",
      "97:\tlearn: 0.9357384\ttotal: 71.1ms\tremaining: 1.45ms\n",
      "98:\tlearn: 0.9357384\ttotal: 71.5ms\tremaining: 721us\n",
      "99:\tlearn: 0.9357384\ttotal: 72.2ms\tremaining: 0us\n",
      "0:\tlearn: 0.8726043\ttotal: 1.1ms\tremaining: 109ms\n",
      "1:\tlearn: 0.8827508\ttotal: 1.92ms\tremaining: 94ms\n",
      "2:\tlearn: 0.8928974\ttotal: 2.61ms\tremaining: 84.3ms\n",
      "3:\tlearn: 0.8928974\ttotal: 3.3ms\tremaining: 79.2ms\n",
      "4:\tlearn: 0.8827508\ttotal: 3.75ms\tremaining: 71.3ms\n",
      "5:\tlearn: 0.8872604\ttotal: 4.01ms\tremaining: 62.8ms\n",
      "6:\tlearn: 0.8827508\ttotal: 4.21ms\tremaining: 56ms\n",
      "7:\tlearn: 0.8872604\ttotal: 4.96ms\tremaining: 57.1ms\n",
      "8:\tlearn: 0.8883878\ttotal: 5.69ms\tremaining: 57.6ms\n",
      "9:\tlearn: 0.8883878\ttotal: 6.42ms\tremaining: 57.8ms\n",
      "10:\tlearn: 0.8838782\ttotal: 7.34ms\tremaining: 59.4ms\n",
      "11:\tlearn: 0.8850056\ttotal: 8.13ms\tremaining: 59.6ms\n",
      "12:\tlearn: 0.8883878\ttotal: 8.92ms\tremaining: 59.7ms\n",
      "13:\tlearn: 0.8883878\ttotal: 9.2ms\tremaining: 56.5ms\n",
      "14:\tlearn: 0.8906426\ttotal: 9.96ms\tremaining: 56.5ms\n",
      "15:\tlearn: 0.8928974\ttotal: 10.7ms\tremaining: 56.1ms\n",
      "16:\tlearn: 0.8962796\ttotal: 11.5ms\tremaining: 56.2ms\n",
      "17:\tlearn: 0.8940248\ttotal: 12.4ms\tremaining: 56.3ms\n",
      "18:\tlearn: 0.8974070\ttotal: 13.1ms\tremaining: 56ms\n",
      "19:\tlearn: 0.8985344\ttotal: 13.8ms\tremaining: 55.4ms\n",
      "20:\tlearn: 0.8962796\ttotal: 14.6ms\tremaining: 55ms\n",
      "21:\tlearn: 0.9007892\ttotal: 15.4ms\tremaining: 54.5ms\n",
      "22:\tlearn: 0.8996618\ttotal: 16.1ms\tremaining: 53.8ms\n",
      "23:\tlearn: 0.8996618\ttotal: 16.8ms\tremaining: 53.2ms\n",
      "24:\tlearn: 0.9030440\ttotal: 17.5ms\tremaining: 52.4ms\n",
      "25:\tlearn: 0.9052988\ttotal: 18.2ms\tremaining: 51.8ms\n",
      "26:\tlearn: 0.9075536\ttotal: 18.9ms\tremaining: 51.1ms\n",
      "27:\tlearn: 0.9064262\ttotal: 19.5ms\tremaining: 50.3ms\n",
      "28:\tlearn: 0.9075536\ttotal: 20.3ms\tremaining: 49.7ms\n",
      "29:\tlearn: 0.9109357\ttotal: 21ms\tremaining: 49.1ms\n",
      "30:\tlearn: 0.9075536\ttotal: 21.8ms\tremaining: 48.5ms\n",
      "31:\tlearn: 0.9109357\ttotal: 22.6ms\tremaining: 47.9ms\n",
      "32:\tlearn: 0.9143179\ttotal: 23.4ms\tremaining: 47.5ms\n",
      "33:\tlearn: 0.9120631\ttotal: 24.1ms\tremaining: 46.8ms\n",
      "34:\tlearn: 0.9131905\ttotal: 24.8ms\tremaining: 46.1ms\n",
      "35:\tlearn: 0.9143179\ttotal: 25.5ms\tremaining: 45.4ms\n",
      "36:\tlearn: 0.9143179\ttotal: 26.2ms\tremaining: 44.6ms\n",
      "37:\tlearn: 0.9143179\ttotal: 26.9ms\tremaining: 43.9ms\n",
      "38:\tlearn: 0.9154453\ttotal: 27.6ms\tremaining: 43.2ms\n",
      "39:\tlearn: 0.9154453\ttotal: 28.4ms\tremaining: 42.6ms\n",
      "40:\tlearn: 0.9199549\ttotal: 29.1ms\tremaining: 41.9ms\n",
      "41:\tlearn: 0.9177001\ttotal: 29.9ms\tremaining: 41.3ms\n",
      "42:\tlearn: 0.9199549\ttotal: 30.6ms\tremaining: 40.6ms\n",
      "43:\tlearn: 0.9233371\ttotal: 31.3ms\tremaining: 39.9ms\n",
      "44:\tlearn: 0.9244645\ttotal: 32ms\tremaining: 39.1ms\n",
      "45:\tlearn: 0.9267193\ttotal: 32.7ms\tremaining: 38.4ms\n",
      "46:\tlearn: 0.9255919\ttotal: 33.4ms\tremaining: 37.7ms\n",
      "47:\tlearn: 0.9255919\ttotal: 34.2ms\tremaining: 37ms\n",
      "48:\tlearn: 0.9244645\ttotal: 35ms\tremaining: 36.5ms\n",
      "49:\tlearn: 0.9244645\ttotal: 35.9ms\tremaining: 35.9ms\n",
      "50:\tlearn: 0.9267193\ttotal: 37.4ms\tremaining: 36ms\n",
      "51:\tlearn: 0.9278467\ttotal: 38.6ms\tremaining: 35.7ms\n",
      "52:\tlearn: 0.9278467\ttotal: 39.7ms\tremaining: 35.2ms\n",
      "53:\tlearn: 0.9267193\ttotal: 40.6ms\tremaining: 34.6ms\n",
      "54:\tlearn: 0.9278467\ttotal: 41.4ms\tremaining: 33.9ms\n",
      "55:\tlearn: 0.9267193\ttotal: 42.2ms\tremaining: 33.1ms\n",
      "56:\tlearn: 0.9267193\ttotal: 42.9ms\tremaining: 32.4ms\n",
      "57:\tlearn: 0.9301015\ttotal: 43.7ms\tremaining: 31.7ms\n",
      "58:\tlearn: 0.9301015\ttotal: 44.5ms\tremaining: 30.9ms\n",
      "59:\tlearn: 0.9301015\ttotal: 45.4ms\tremaining: 30.2ms\n",
      "60:\tlearn: 0.9334837\ttotal: 46.2ms\tremaining: 29.5ms\n",
      "61:\tlearn: 0.9346110\ttotal: 47ms\tremaining: 28.8ms\n",
      "62:\tlearn: 0.9323563\ttotal: 47.3ms\tremaining: 27.8ms\n",
      "63:\tlearn: 0.9346110\ttotal: 48.1ms\tremaining: 27ms\n",
      "64:\tlearn: 0.9346110\ttotal: 48.8ms\tremaining: 26.3ms\n",
      "65:\tlearn: 0.9346110\ttotal: 49.6ms\tremaining: 25.5ms\n",
      "66:\tlearn: 0.9346110\ttotal: 50.3ms\tremaining: 24.8ms\n",
      "67:\tlearn: 0.9357384\ttotal: 51.1ms\tremaining: 24ms\n",
      "68:\tlearn: 0.9368658\ttotal: 51.8ms\tremaining: 23.3ms\n",
      "69:\tlearn: 0.9368658\ttotal: 52.5ms\tremaining: 22.5ms\n",
      "70:\tlearn: 0.9357384\ttotal: 53.2ms\tremaining: 21.7ms\n",
      "71:\tlearn: 0.9368658\ttotal: 53.9ms\tremaining: 21ms\n",
      "72:\tlearn: 0.9368658\ttotal: 54.7ms\tremaining: 20.2ms\n",
      "73:\tlearn: 0.9357384\ttotal: 55.4ms\tremaining: 19.4ms\n",
      "74:\tlearn: 0.9391206\ttotal: 56.1ms\tremaining: 18.7ms\n",
      "75:\tlearn: 0.9402480\ttotal: 56.9ms\tremaining: 18ms\n",
      "76:\tlearn: 0.9391206\ttotal: 57.8ms\tremaining: 17.3ms\n",
      "77:\tlearn: 0.9402480\ttotal: 58.6ms\tremaining: 16.5ms\n",
      "78:\tlearn: 0.9413754\ttotal: 59.5ms\tremaining: 15.8ms\n",
      "79:\tlearn: 0.9413754\ttotal: 60.3ms\tremaining: 15.1ms\n",
      "80:\tlearn: 0.9402480\ttotal: 61ms\tremaining: 14.3ms\n",
      "81:\tlearn: 0.9391206\ttotal: 62ms\tremaining: 13.6ms\n",
      "82:\tlearn: 0.9402480\ttotal: 62.8ms\tremaining: 12.9ms\n",
      "83:\tlearn: 0.9413754\ttotal: 63.6ms\tremaining: 12.1ms\n",
      "84:\tlearn: 0.9402480\ttotal: 64.4ms\tremaining: 11.4ms\n",
      "85:\tlearn: 0.9425028\ttotal: 65.2ms\tremaining: 10.6ms\n",
      "86:\tlearn: 0.9425028\ttotal: 66ms\tremaining: 9.86ms\n",
      "87:\tlearn: 0.9413754\ttotal: 66.7ms\tremaining: 9.1ms\n",
      "88:\tlearn: 0.9413754\ttotal: 67.6ms\tremaining: 8.35ms\n",
      "89:\tlearn: 0.9425028\ttotal: 68.3ms\tremaining: 7.59ms\n",
      "90:\tlearn: 0.9413754\ttotal: 69.1ms\tremaining: 6.83ms\n",
      "91:\tlearn: 0.9413754\ttotal: 69.9ms\tremaining: 6.08ms\n",
      "92:\tlearn: 0.9436302\ttotal: 70.6ms\tremaining: 5.31ms\n",
      "93:\tlearn: 0.9447576\ttotal: 71.3ms\tremaining: 4.55ms\n",
      "94:\tlearn: 0.9436302\ttotal: 72ms\tremaining: 3.79ms\n",
      "95:\tlearn: 0.9436302\ttotal: 72.7ms\tremaining: 3.03ms\n",
      "96:\tlearn: 0.9447576\ttotal: 73.4ms\tremaining: 2.27ms\n",
      "97:\tlearn: 0.9458850\ttotal: 74.1ms\tremaining: 1.51ms\n",
      "98:\tlearn: 0.9447576\ttotal: 74.8ms\tremaining: 755us\n",
      "99:\tlearn: 0.9447576\ttotal: 75.5ms\tremaining: 0us\n",
      "0:\tlearn: 0.8771139\ttotal: 1.1ms\tremaining: 109ms\n",
      "1:\tlearn: 0.8906426\ttotal: 1.82ms\tremaining: 89.3ms\n",
      "2:\tlearn: 0.8895152\ttotal: 2.68ms\tremaining: 86.8ms\n",
      "3:\tlearn: 0.8883878\ttotal: 3.44ms\tremaining: 82.6ms\n",
      "4:\tlearn: 0.8771139\ttotal: 3.65ms\tremaining: 69.3ms\n",
      "5:\tlearn: 0.8827508\ttotal: 4.38ms\tremaining: 68.7ms\n",
      "6:\tlearn: 0.8861330\ttotal: 5.11ms\tremaining: 68ms\n",
      "7:\tlearn: 0.8883878\ttotal: 6.02ms\tremaining: 69.2ms\n",
      "8:\tlearn: 0.8895152\ttotal: 6.89ms\tremaining: 69.7ms\n",
      "9:\tlearn: 0.8917700\ttotal: 7.65ms\tremaining: 68.8ms\n",
      "10:\tlearn: 0.8996618\ttotal: 8.38ms\tremaining: 67.8ms\n",
      "11:\tlearn: 0.8985344\ttotal: 9.14ms\tremaining: 67.1ms\n",
      "12:\tlearn: 0.8985344\ttotal: 9.94ms\tremaining: 66.5ms\n",
      "13:\tlearn: 0.9030440\ttotal: 10.9ms\tremaining: 66.9ms\n",
      "14:\tlearn: 0.9030440\ttotal: 11.6ms\tremaining: 65.7ms\n",
      "15:\tlearn: 0.9019166\ttotal: 12.3ms\tremaining: 64.3ms\n",
      "16:\tlearn: 0.9075536\ttotal: 12.9ms\tremaining: 63ms\n",
      "17:\tlearn: 0.9131905\ttotal: 13.6ms\tremaining: 61.9ms\n",
      "18:\tlearn: 0.9086809\ttotal: 13.8ms\tremaining: 58.8ms\n",
      "19:\tlearn: 0.9109357\ttotal: 14.5ms\tremaining: 57.9ms\n",
      "20:\tlearn: 0.9086809\ttotal: 15.1ms\tremaining: 56.9ms\n",
      "21:\tlearn: 0.9131905\ttotal: 15.8ms\tremaining: 56ms\n",
      "22:\tlearn: 0.9109357\ttotal: 16.4ms\tremaining: 55ms\n",
      "23:\tlearn: 0.9131905\ttotal: 16.6ms\tremaining: 52.6ms\n",
      "24:\tlearn: 0.9098083\ttotal: 17.3ms\tremaining: 51.8ms\n",
      "25:\tlearn: 0.9143179\ttotal: 18ms\tremaining: 51.2ms\n",
      "26:\tlearn: 0.9143179\ttotal: 18.7ms\tremaining: 50.5ms\n",
      "27:\tlearn: 0.9154453\ttotal: 19.5ms\tremaining: 50.1ms\n",
      "28:\tlearn: 0.9165727\ttotal: 20.2ms\tremaining: 49.5ms\n",
      "29:\tlearn: 0.9177001\ttotal: 21ms\tremaining: 49ms\n",
      "30:\tlearn: 0.9177001\ttotal: 21.8ms\tremaining: 48.6ms\n",
      "31:\tlearn: 0.9177001\ttotal: 22.7ms\tremaining: 48.2ms\n",
      "32:\tlearn: 0.9188275\ttotal: 23.4ms\tremaining: 47.6ms\n",
      "33:\tlearn: 0.9199549\ttotal: 24.2ms\tremaining: 47ms\n",
      "34:\tlearn: 0.9199549\ttotal: 25ms\tremaining: 46.4ms\n",
      "35:\tlearn: 0.9210823\ttotal: 25.7ms\tremaining: 45.8ms\n",
      "36:\tlearn: 0.9210823\ttotal: 26.5ms\tremaining: 45.1ms\n",
      "37:\tlearn: 0.9233371\ttotal: 27.3ms\tremaining: 44.5ms\n",
      "38:\tlearn: 0.9210823\ttotal: 28.1ms\tremaining: 43.9ms\n",
      "39:\tlearn: 0.9233371\ttotal: 28.8ms\tremaining: 43.3ms\n",
      "40:\tlearn: 0.9222097\ttotal: 29.6ms\tremaining: 42.6ms\n",
      "41:\tlearn: 0.9233371\ttotal: 30.4ms\tremaining: 41.9ms\n",
      "42:\tlearn: 0.9233371\ttotal: 31.1ms\tremaining: 41.2ms\n",
      "43:\tlearn: 0.9222097\ttotal: 31.8ms\tremaining: 40.4ms\n",
      "44:\tlearn: 0.9222097\ttotal: 32.5ms\tremaining: 39.7ms\n",
      "45:\tlearn: 0.9210823\ttotal: 33.2ms\tremaining: 39ms\n",
      "46:\tlearn: 0.9222097\ttotal: 34ms\tremaining: 38.3ms\n",
      "47:\tlearn: 0.9222097\ttotal: 34.9ms\tremaining: 37.8ms\n",
      "48:\tlearn: 0.9244645\ttotal: 35.6ms\tremaining: 37.1ms\n",
      "49:\tlearn: 0.9244645\ttotal: 36.5ms\tremaining: 36.5ms\n",
      "50:\tlearn: 0.9244645\ttotal: 37.4ms\tremaining: 35.9ms\n",
      "51:\tlearn: 0.9255919\ttotal: 38.1ms\tremaining: 35.2ms\n",
      "52:\tlearn: 0.9278467\ttotal: 39.2ms\tremaining: 34.8ms\n",
      "53:\tlearn: 0.9267193\ttotal: 40.1ms\tremaining: 34.2ms\n",
      "54:\tlearn: 0.9267193\ttotal: 40.9ms\tremaining: 33.4ms\n",
      "55:\tlearn: 0.9267193\ttotal: 41.6ms\tremaining: 32.7ms\n",
      "56:\tlearn: 0.9278467\ttotal: 42.3ms\tremaining: 31.9ms\n",
      "57:\tlearn: 0.9267193\ttotal: 43.1ms\tremaining: 31.2ms\n",
      "58:\tlearn: 0.9278467\ttotal: 43.9ms\tremaining: 30.5ms\n",
      "59:\tlearn: 0.9278467\ttotal: 44.6ms\tremaining: 29.7ms\n",
      "60:\tlearn: 0.9289741\ttotal: 45.3ms\tremaining: 28.9ms\n",
      "61:\tlearn: 0.9289741\ttotal: 46ms\tremaining: 28.2ms\n",
      "62:\tlearn: 0.9278467\ttotal: 46.2ms\tremaining: 27.1ms\n",
      "63:\tlearn: 0.9278467\ttotal: 46.9ms\tremaining: 26.4ms\n",
      "64:\tlearn: 0.9278467\ttotal: 47.6ms\tremaining: 25.6ms\n",
      "65:\tlearn: 0.9301015\ttotal: 48.3ms\tremaining: 24.9ms\n",
      "66:\tlearn: 0.9301015\ttotal: 49ms\tremaining: 24.1ms\n",
      "67:\tlearn: 0.9323563\ttotal: 49.6ms\tremaining: 23.3ms\n",
      "68:\tlearn: 0.9312289\ttotal: 50.3ms\tremaining: 22.6ms\n",
      "69:\tlearn: 0.9334837\ttotal: 51.1ms\tremaining: 21.9ms\n",
      "70:\tlearn: 0.9334837\ttotal: 52.1ms\tremaining: 21.3ms\n",
      "71:\tlearn: 0.9334837\ttotal: 52.8ms\tremaining: 20.5ms\n",
      "72:\tlearn: 0.9334837\ttotal: 53.6ms\tremaining: 19.8ms\n",
      "73:\tlearn: 0.9346110\ttotal: 54.3ms\tremaining: 19.1ms\n",
      "74:\tlearn: 0.9346110\ttotal: 55.1ms\tremaining: 18.4ms\n",
      "75:\tlearn: 0.9346110\ttotal: 55.9ms\tremaining: 17.7ms\n",
      "76:\tlearn: 0.9346110\ttotal: 57.2ms\tremaining: 17.1ms\n",
      "77:\tlearn: 0.9346110\ttotal: 58ms\tremaining: 16.4ms\n",
      "78:\tlearn: 0.9346110\ttotal: 58.7ms\tremaining: 15.6ms\n",
      "79:\tlearn: 0.9346110\ttotal: 59.5ms\tremaining: 14.9ms\n",
      "80:\tlearn: 0.9357384\ttotal: 60.3ms\tremaining: 14.1ms\n",
      "81:\tlearn: 0.9357384\ttotal: 61.1ms\tremaining: 13.4ms\n",
      "82:\tlearn: 0.9357384\ttotal: 62.1ms\tremaining: 12.7ms\n",
      "83:\tlearn: 0.9357384\ttotal: 62.6ms\tremaining: 11.9ms\n",
      "84:\tlearn: 0.9368658\ttotal: 63.3ms\tremaining: 11.2ms\n",
      "85:\tlearn: 0.9368658\ttotal: 64.1ms\tremaining: 10.4ms\n",
      "86:\tlearn: 0.9368658\ttotal: 65ms\tremaining: 9.71ms\n",
      "87:\tlearn: 0.9368658\ttotal: 65.9ms\tremaining: 8.99ms\n",
      "88:\tlearn: 0.9368658\ttotal: 67ms\tremaining: 8.28ms\n",
      "89:\tlearn: 0.9368658\ttotal: 67.7ms\tremaining: 7.52ms\n",
      "90:\tlearn: 0.9368658\ttotal: 68.6ms\tremaining: 6.78ms\n",
      "91:\tlearn: 0.9357384\ttotal: 69.3ms\tremaining: 6.03ms\n",
      "92:\tlearn: 0.9357384\ttotal: 70ms\tremaining: 5.27ms\n",
      "93:\tlearn: 0.9357384\ttotal: 70.8ms\tremaining: 4.52ms\n",
      "94:\tlearn: 0.9357384\ttotal: 71.6ms\tremaining: 3.77ms\n",
      "95:\tlearn: 0.9357384\ttotal: 72.4ms\tremaining: 3.02ms\n",
      "96:\tlearn: 0.9368658\ttotal: 73.2ms\tremaining: 2.26ms\n",
      "97:\tlearn: 0.9379932\ttotal: 73.9ms\tremaining: 1.51ms\n",
      "98:\tlearn: 0.9379932\ttotal: 74.5ms\tremaining: 752us\n",
      "99:\tlearn: 0.9379932\ttotal: 75.3ms\tremaining: 0us\n",
      "0:\tlearn: 0.8669673\ttotal: 1.29ms\tremaining: 127ms\n",
      "1:\tlearn: 0.8726043\ttotal: 1.97ms\tremaining: 96.5ms\n",
      "2:\tlearn: 0.8838782\ttotal: 2.65ms\tremaining: 85.5ms\n",
      "3:\tlearn: 0.8872604\ttotal: 3.3ms\tremaining: 79.1ms\n",
      "4:\tlearn: 0.8714769\ttotal: 3.51ms\tremaining: 66.6ms\n",
      "5:\tlearn: 0.8782413\ttotal: 4.21ms\tremaining: 65.9ms\n",
      "6:\tlearn: 0.8883878\ttotal: 4.85ms\tremaining: 64.4ms\n",
      "7:\tlearn: 0.8895152\ttotal: 5.53ms\tremaining: 63.6ms\n",
      "8:\tlearn: 0.8940248\ttotal: 6.25ms\tremaining: 63.2ms\n",
      "9:\tlearn: 0.8928974\ttotal: 6.89ms\tremaining: 62.1ms\n",
      "10:\tlearn: 0.8962796\ttotal: 7.68ms\tremaining: 62.2ms\n",
      "11:\tlearn: 0.8962796\ttotal: 8.33ms\tremaining: 61.1ms\n",
      "12:\tlearn: 0.8996618\ttotal: 8.99ms\tremaining: 60.2ms\n",
      "13:\tlearn: 0.8974070\ttotal: 9.69ms\tremaining: 59.5ms\n",
      "14:\tlearn: 0.8985344\ttotal: 10.5ms\tremaining: 59.5ms\n",
      "15:\tlearn: 0.9030440\ttotal: 11.3ms\tremaining: 59.3ms\n",
      "16:\tlearn: 0.9019166\ttotal: 12ms\tremaining: 58.4ms\n",
      "17:\tlearn: 0.9019166\ttotal: 12.7ms\tremaining: 57.7ms\n",
      "18:\tlearn: 0.9041714\ttotal: 12.9ms\tremaining: 54.8ms\n",
      "19:\tlearn: 0.9030440\ttotal: 13.6ms\tremaining: 54.2ms\n",
      "20:\tlearn: 0.9030440\ttotal: 14.3ms\tremaining: 53.6ms\n",
      "21:\tlearn: 0.9030440\ttotal: 14.9ms\tremaining: 52.9ms\n",
      "22:\tlearn: 0.9030440\ttotal: 15.6ms\tremaining: 52.3ms\n",
      "23:\tlearn: 0.9086809\ttotal: 16.3ms\tremaining: 51.6ms\n",
      "24:\tlearn: 0.9086809\ttotal: 17ms\tremaining: 50.9ms\n",
      "25:\tlearn: 0.9131905\ttotal: 17.6ms\tremaining: 50.2ms\n",
      "26:\tlearn: 0.9052988\ttotal: 17.8ms\tremaining: 48.1ms\n",
      "27:\tlearn: 0.9086809\ttotal: 18.5ms\tremaining: 47.5ms\n",
      "28:\tlearn: 0.9120631\ttotal: 19.1ms\tremaining: 46.8ms\n",
      "29:\tlearn: 0.9109357\ttotal: 19.8ms\tremaining: 46.3ms\n",
      "30:\tlearn: 0.9109357\ttotal: 20.2ms\tremaining: 44.9ms\n",
      "31:\tlearn: 0.9098083\ttotal: 21ms\tremaining: 44.5ms\n",
      "32:\tlearn: 0.9131905\ttotal: 21.8ms\tremaining: 44.2ms\n",
      "33:\tlearn: 0.9131905\ttotal: 22.7ms\tremaining: 44.1ms\n",
      "34:\tlearn: 0.9131905\ttotal: 23.6ms\tremaining: 43.8ms\n",
      "35:\tlearn: 0.9143179\ttotal: 24.5ms\tremaining: 43.5ms\n",
      "36:\tlearn: 0.9154453\ttotal: 25.4ms\tremaining: 43.2ms\n",
      "37:\tlearn: 0.9177001\ttotal: 26.1ms\tremaining: 42.6ms\n",
      "38:\tlearn: 0.9165727\ttotal: 26.8ms\tremaining: 42ms\n",
      "39:\tlearn: 0.9154453\ttotal: 27.6ms\tremaining: 41.4ms\n",
      "40:\tlearn: 0.9165727\ttotal: 28.3ms\tremaining: 40.7ms\n",
      "41:\tlearn: 0.9188275\ttotal: 29.1ms\tremaining: 40.2ms\n",
      "42:\tlearn: 0.9199549\ttotal: 29.9ms\tremaining: 39.6ms\n",
      "43:\tlearn: 0.9199549\ttotal: 30.6ms\tremaining: 39ms\n",
      "44:\tlearn: 0.9188275\ttotal: 30.9ms\tremaining: 37.8ms\n",
      "45:\tlearn: 0.9188275\ttotal: 31.7ms\tremaining: 37.2ms\n",
      "46:\tlearn: 0.9210823\ttotal: 32.3ms\tremaining: 36.4ms\n",
      "47:\tlearn: 0.9199549\ttotal: 33ms\tremaining: 35.8ms\n",
      "48:\tlearn: 0.9222097\ttotal: 33.7ms\tremaining: 35.1ms\n",
      "49:\tlearn: 0.9222097\ttotal: 34.4ms\tremaining: 34.4ms\n",
      "50:\tlearn: 0.9210823\ttotal: 35ms\tremaining: 33.7ms\n",
      "51:\tlearn: 0.9210823\ttotal: 36ms\tremaining: 33.2ms\n",
      "52:\tlearn: 0.9233371\ttotal: 36.7ms\tremaining: 32.6ms\n",
      "53:\tlearn: 0.9244645\ttotal: 37.6ms\tremaining: 32ms\n",
      "54:\tlearn: 0.9244645\ttotal: 38.4ms\tremaining: 31.4ms\n",
      "55:\tlearn: 0.9267193\ttotal: 39.4ms\tremaining: 31ms\n",
      "56:\tlearn: 0.9267193\ttotal: 40.1ms\tremaining: 30.3ms\n",
      "57:\tlearn: 0.9278467\ttotal: 40.8ms\tremaining: 29.6ms\n",
      "58:\tlearn: 0.9289741\ttotal: 41.6ms\tremaining: 28.9ms\n",
      "59:\tlearn: 0.9289741\ttotal: 42.3ms\tremaining: 28.2ms\n",
      "60:\tlearn: 0.9267193\ttotal: 43.1ms\tremaining: 27.6ms\n",
      "61:\tlearn: 0.9255919\ttotal: 44ms\tremaining: 27ms\n",
      "62:\tlearn: 0.9289741\ttotal: 44.8ms\tremaining: 26.3ms\n",
      "63:\tlearn: 0.9289741\ttotal: 45.5ms\tremaining: 25.6ms\n",
      "64:\tlearn: 0.9289741\ttotal: 46.3ms\tremaining: 24.9ms\n",
      "65:\tlearn: 0.9301015\ttotal: 47ms\tremaining: 24.2ms\n",
      "66:\tlearn: 0.9323563\ttotal: 47.7ms\tremaining: 23.5ms\n",
      "67:\tlearn: 0.9334837\ttotal: 48.5ms\tremaining: 22.8ms\n",
      "68:\tlearn: 0.9334837\ttotal: 49.2ms\tremaining: 22.1ms\n",
      "69:\tlearn: 0.9334837\ttotal: 49.9ms\tremaining: 21.4ms\n",
      "70:\tlearn: 0.9323563\ttotal: 50.7ms\tremaining: 20.7ms\n",
      "71:\tlearn: 0.9323563\ttotal: 51.4ms\tremaining: 20ms\n",
      "72:\tlearn: 0.9323563\ttotal: 52.1ms\tremaining: 19.3ms\n",
      "73:\tlearn: 0.9334837\ttotal: 52.9ms\tremaining: 18.6ms\n",
      "74:\tlearn: 0.9334837\ttotal: 53.6ms\tremaining: 17.9ms\n",
      "75:\tlearn: 0.9323563\ttotal: 54.3ms\tremaining: 17.2ms\n",
      "76:\tlearn: 0.9323563\ttotal: 55ms\tremaining: 16.4ms\n",
      "77:\tlearn: 0.9323563\ttotal: 55.7ms\tremaining: 15.7ms\n",
      "78:\tlearn: 0.9323563\ttotal: 56.4ms\tremaining: 15ms\n",
      "79:\tlearn: 0.9323563\ttotal: 57.1ms\tremaining: 14.3ms\n",
      "80:\tlearn: 0.9323563\ttotal: 57.9ms\tremaining: 13.6ms\n",
      "81:\tlearn: 0.9346110\ttotal: 58.7ms\tremaining: 12.9ms\n",
      "82:\tlearn: 0.9346110\ttotal: 59.4ms\tremaining: 12.2ms\n",
      "83:\tlearn: 0.9346110\ttotal: 60.1ms\tremaining: 11.5ms\n",
      "84:\tlearn: 0.9346110\ttotal: 60.4ms\tremaining: 10.7ms\n",
      "85:\tlearn: 0.9346110\ttotal: 61.1ms\tremaining: 9.95ms\n",
      "86:\tlearn: 0.9346110\ttotal: 61.9ms\tremaining: 9.25ms\n",
      "87:\tlearn: 0.9357384\ttotal: 62.7ms\tremaining: 8.55ms\n",
      "88:\tlearn: 0.9357384\ttotal: 63.5ms\tremaining: 7.84ms\n",
      "89:\tlearn: 0.9346110\ttotal: 64.2ms\tremaining: 7.13ms\n",
      "90:\tlearn: 0.9357384\ttotal: 64.9ms\tremaining: 6.42ms\n",
      "91:\tlearn: 0.9368658\ttotal: 65.7ms\tremaining: 5.71ms\n",
      "92:\tlearn: 0.9368658\ttotal: 66.4ms\tremaining: 5ms\n",
      "93:\tlearn: 0.9368658\ttotal: 67.1ms\tremaining: 4.28ms\n",
      "94:\tlearn: 0.9346110\ttotal: 67.8ms\tremaining: 3.57ms\n",
      "95:\tlearn: 0.9346110\ttotal: 68.4ms\tremaining: 2.85ms\n",
      "96:\tlearn: 0.9357384\ttotal: 69.1ms\tremaining: 2.14ms\n",
      "97:\tlearn: 0.9368658\ttotal: 69.8ms\tremaining: 1.43ms\n",
      "98:\tlearn: 0.9368658\ttotal: 70.5ms\tremaining: 712us\n",
      "99:\tlearn: 0.9368658\ttotal: 71.2ms\tremaining: 0us\n",
      "0:\tlearn: 0.8624577\ttotal: 1.23ms\tremaining: 121ms\n",
      "1:\tlearn: 0.8782413\ttotal: 1.9ms\tremaining: 93ms\n",
      "2:\tlearn: 0.8917700\ttotal: 2.56ms\tremaining: 82.8ms\n",
      "3:\tlearn: 0.8861330\ttotal: 3.23ms\tremaining: 77.6ms\n",
      "4:\tlearn: 0.8793687\ttotal: 3.43ms\tremaining: 65.2ms\n",
      "5:\tlearn: 0.8782413\ttotal: 3.69ms\tremaining: 57.8ms\n",
      "6:\tlearn: 0.8759865\ttotal: 3.89ms\tremaining: 51.7ms\n",
      "7:\tlearn: 0.8928974\ttotal: 4.57ms\tremaining: 52.5ms\n",
      "8:\tlearn: 0.8906426\ttotal: 5.21ms\tremaining: 52.7ms\n",
      "9:\tlearn: 0.8928974\ttotal: 5.92ms\tremaining: 53.3ms\n",
      "10:\tlearn: 0.8906426\ttotal: 6.64ms\tremaining: 53.8ms\n",
      "11:\tlearn: 0.8940248\ttotal: 7.3ms\tremaining: 53.5ms\n",
      "12:\tlearn: 0.8996618\ttotal: 7.96ms\tremaining: 53.3ms\n",
      "13:\tlearn: 0.8996618\ttotal: 8.6ms\tremaining: 52.8ms\n",
      "14:\tlearn: 0.8962796\ttotal: 9.26ms\tremaining: 52.5ms\n",
      "15:\tlearn: 0.8974070\ttotal: 9.9ms\tremaining: 52ms\n",
      "16:\tlearn: 0.8974070\ttotal: 10.1ms\tremaining: 49.1ms\n",
      "17:\tlearn: 0.8974070\ttotal: 10.8ms\tremaining: 49ms\n",
      "18:\tlearn: 0.8951522\ttotal: 11.4ms\tremaining: 48.8ms\n",
      "19:\tlearn: 0.8951522\ttotal: 11.9ms\tremaining: 47.4ms\n",
      "20:\tlearn: 0.8962796\ttotal: 12.6ms\tremaining: 47.3ms\n",
      "21:\tlearn: 0.8962796\ttotal: 13.2ms\tremaining: 46.8ms\n",
      "22:\tlearn: 0.8974070\ttotal: 13.8ms\tremaining: 46.4ms\n",
      "23:\tlearn: 0.8985344\ttotal: 14.5ms\tremaining: 46ms\n",
      "24:\tlearn: 0.8996618\ttotal: 15.2ms\tremaining: 45.6ms\n",
      "25:\tlearn: 0.8985344\ttotal: 15.9ms\tremaining: 45.1ms\n",
      "26:\tlearn: 0.9019166\ttotal: 16.5ms\tremaining: 44.7ms\n",
      "27:\tlearn: 0.9007892\ttotal: 17.2ms\tremaining: 44.1ms\n",
      "28:\tlearn: 0.9041714\ttotal: 17.8ms\tremaining: 43.6ms\n",
      "29:\tlearn: 0.9019166\ttotal: 18.6ms\tremaining: 43.5ms\n",
      "30:\tlearn: 0.9052988\ttotal: 19.5ms\tremaining: 43.5ms\n",
      "31:\tlearn: 0.9075536\ttotal: 20.3ms\tremaining: 43.2ms\n",
      "32:\tlearn: 0.9075536\ttotal: 21ms\tremaining: 42.7ms\n",
      "33:\tlearn: 0.9109357\ttotal: 21.7ms\tremaining: 42.2ms\n",
      "34:\tlearn: 0.9120631\ttotal: 22.5ms\tremaining: 41.7ms\n",
      "35:\tlearn: 0.9120631\ttotal: 23.3ms\tremaining: 41.4ms\n",
      "36:\tlearn: 0.9131905\ttotal: 24.2ms\tremaining: 41.2ms\n",
      "37:\tlearn: 0.9131905\ttotal: 25.1ms\tremaining: 40.9ms\n",
      "38:\tlearn: 0.9143179\ttotal: 26ms\tremaining: 40.7ms\n",
      "39:\tlearn: 0.9131905\ttotal: 26.8ms\tremaining: 40.2ms\n",
      "40:\tlearn: 0.9165727\ttotal: 27.6ms\tremaining: 39.7ms\n",
      "41:\tlearn: 0.9177001\ttotal: 28.4ms\tremaining: 39.2ms\n",
      "42:\tlearn: 0.9177001\ttotal: 29.3ms\tremaining: 38.8ms\n",
      "43:\tlearn: 0.9177001\ttotal: 30ms\tremaining: 38.2ms\n",
      "44:\tlearn: 0.9199549\ttotal: 30.8ms\tremaining: 37.7ms\n",
      "45:\tlearn: 0.9210823\ttotal: 31.5ms\tremaining: 37ms\n",
      "46:\tlearn: 0.9199549\ttotal: 32.8ms\tremaining: 37ms\n",
      "47:\tlearn: 0.9210823\ttotal: 33.6ms\tremaining: 36.4ms\n",
      "48:\tlearn: 0.9210823\ttotal: 34.3ms\tremaining: 35.7ms\n",
      "49:\tlearn: 0.9210823\ttotal: 35.1ms\tremaining: 35.1ms\n",
      "50:\tlearn: 0.9222097\ttotal: 36.6ms\tremaining: 35.2ms\n",
      "51:\tlearn: 0.9233371\ttotal: 37.4ms\tremaining: 34.6ms\n",
      "52:\tlearn: 0.9222097\ttotal: 38.4ms\tremaining: 34ms\n",
      "53:\tlearn: 0.9233371\ttotal: 39.3ms\tremaining: 33.5ms\n",
      "54:\tlearn: 0.9233371\ttotal: 40.1ms\tremaining: 32.8ms\n",
      "55:\tlearn: 0.9255919\ttotal: 40.8ms\tremaining: 32.1ms\n",
      "56:\tlearn: 0.9255919\ttotal: 41.5ms\tremaining: 31.3ms\n",
      "57:\tlearn: 0.9267193\ttotal: 42.3ms\tremaining: 30.6ms\n",
      "58:\tlearn: 0.9278467\ttotal: 43.1ms\tremaining: 29.9ms\n",
      "59:\tlearn: 0.9289741\ttotal: 43.9ms\tremaining: 29.2ms\n",
      "60:\tlearn: 0.9289741\ttotal: 44.6ms\tremaining: 28.5ms\n",
      "61:\tlearn: 0.9289741\ttotal: 45.6ms\tremaining: 27.9ms\n",
      "62:\tlearn: 0.9301015\ttotal: 46.4ms\tremaining: 27.3ms\n",
      "63:\tlearn: 0.9289741\ttotal: 47.1ms\tremaining: 26.5ms\n",
      "64:\tlearn: 0.9289741\ttotal: 47.9ms\tremaining: 25.8ms\n",
      "65:\tlearn: 0.9289741\ttotal: 48.6ms\tremaining: 25ms\n",
      "66:\tlearn: 0.9289741\ttotal: 49.3ms\tremaining: 24.3ms\n",
      "67:\tlearn: 0.9301015\ttotal: 50ms\tremaining: 23.5ms\n",
      "68:\tlearn: 0.9323563\ttotal: 50.7ms\tremaining: 22.8ms\n",
      "69:\tlearn: 0.9312289\ttotal: 51.6ms\tremaining: 22.1ms\n",
      "70:\tlearn: 0.9323563\ttotal: 52.4ms\tremaining: 21.4ms\n",
      "71:\tlearn: 0.9323563\ttotal: 53.1ms\tremaining: 20.7ms\n",
      "72:\tlearn: 0.9323563\ttotal: 54ms\tremaining: 20ms\n",
      "73:\tlearn: 0.9323563\ttotal: 56.1ms\tremaining: 19.7ms\n",
      "74:\tlearn: 0.9323563\ttotal: 57.1ms\tremaining: 19ms\n",
      "75:\tlearn: 0.9323563\ttotal: 58.1ms\tremaining: 18.4ms\n",
      "76:\tlearn: 0.9323563\ttotal: 58.9ms\tremaining: 17.6ms\n",
      "77:\tlearn: 0.9323563\ttotal: 59.2ms\tremaining: 16.7ms\n",
      "78:\tlearn: 0.9334837\ttotal: 59.9ms\tremaining: 15.9ms\n",
      "79:\tlearn: 0.9334837\ttotal: 60.6ms\tremaining: 15.2ms\n",
      "80:\tlearn: 0.9334837\ttotal: 61.3ms\tremaining: 14.4ms\n",
      "81:\tlearn: 0.9323563\ttotal: 62ms\tremaining: 13.6ms\n",
      "82:\tlearn: 0.9323563\ttotal: 62.7ms\tremaining: 12.8ms\n",
      "83:\tlearn: 0.9334837\ttotal: 63.4ms\tremaining: 12.1ms\n",
      "84:\tlearn: 0.9346110\ttotal: 64.1ms\tremaining: 11.3ms\n",
      "85:\tlearn: 0.9346110\ttotal: 64.8ms\tremaining: 10.5ms\n",
      "86:\tlearn: 0.9346110\ttotal: 65.4ms\tremaining: 9.78ms\n",
      "87:\tlearn: 0.9346110\ttotal: 66.1ms\tremaining: 9.01ms\n",
      "88:\tlearn: 0.9346110\ttotal: 66.7ms\tremaining: 8.25ms\n",
      "89:\tlearn: 0.9346110\ttotal: 67.4ms\tremaining: 7.49ms\n",
      "90:\tlearn: 0.9346110\ttotal: 67.9ms\tremaining: 6.71ms\n",
      "91:\tlearn: 0.9357384\ttotal: 68.6ms\tremaining: 5.96ms\n",
      "92:\tlearn: 0.9357384\ttotal: 69.2ms\tremaining: 5.21ms\n",
      "93:\tlearn: 0.9357384\ttotal: 70ms\tremaining: 4.47ms\n",
      "94:\tlearn: 0.9346110\ttotal: 70.8ms\tremaining: 3.73ms\n",
      "95:\tlearn: 0.9346110\ttotal: 71.5ms\tremaining: 2.98ms\n",
      "96:\tlearn: 0.9346110\ttotal: 72.1ms\tremaining: 2.23ms\n",
      "97:\tlearn: 0.9357384\ttotal: 72.7ms\tremaining: 1.48ms\n",
      "98:\tlearn: 0.9346110\ttotal: 73.4ms\tremaining: 741us\n",
      "99:\tlearn: 0.9346110\ttotal: 74.1ms\tremaining: 0us\n",
      "0:\tlearn: 0.8838782\ttotal: 1.25ms\tremaining: 124ms\n",
      "1:\tlearn: 0.8793687\ttotal: 1.94ms\tremaining: 95.1ms\n",
      "2:\tlearn: 0.8872604\ttotal: 2.61ms\tremaining: 84.5ms\n",
      "3:\tlearn: 0.8838782\ttotal: 3.39ms\tremaining: 81.3ms\n",
      "4:\tlearn: 0.8759865\ttotal: 3.64ms\tremaining: 69.1ms\n",
      "5:\tlearn: 0.8726043\ttotal: 3.9ms\tremaining: 61.1ms\n",
      "6:\tlearn: 0.8737317\ttotal: 4.1ms\tremaining: 54.4ms\n",
      "7:\tlearn: 0.8793687\ttotal: 4.8ms\tremaining: 55.3ms\n",
      "8:\tlearn: 0.8771139\ttotal: 5.55ms\tremaining: 56.1ms\n",
      "9:\tlearn: 0.8816234\ttotal: 6.22ms\tremaining: 56ms\n",
      "10:\tlearn: 0.8838782\ttotal: 6.92ms\tremaining: 56ms\n",
      "11:\tlearn: 0.8838782\ttotal: 7.58ms\tremaining: 55.6ms\n",
      "12:\tlearn: 0.8838782\ttotal: 8.29ms\tremaining: 55.5ms\n",
      "13:\tlearn: 0.8850056\ttotal: 8.96ms\tremaining: 55.1ms\n",
      "14:\tlearn: 0.8850056\ttotal: 9.61ms\tremaining: 54.5ms\n",
      "15:\tlearn: 0.8895152\ttotal: 10.3ms\tremaining: 54.1ms\n",
      "16:\tlearn: 0.8895152\ttotal: 10.5ms\tremaining: 51.1ms\n",
      "17:\tlearn: 0.8895152\ttotal: 11.1ms\tremaining: 50.8ms\n",
      "18:\tlearn: 0.8883878\ttotal: 11.8ms\tremaining: 50.5ms\n",
      "19:\tlearn: 0.8906426\ttotal: 12.3ms\tremaining: 49.1ms\n",
      "20:\tlearn: 0.8917700\ttotal: 13ms\tremaining: 48.8ms\n",
      "21:\tlearn: 0.8951522\ttotal: 13.6ms\tremaining: 48.3ms\n",
      "22:\tlearn: 0.8928974\ttotal: 14.3ms\tremaining: 48ms\n",
      "23:\tlearn: 0.8928974\ttotal: 15ms\tremaining: 47.6ms\n",
      "24:\tlearn: 0.8940248\ttotal: 15.7ms\tremaining: 47ms\n",
      "25:\tlearn: 0.8996618\ttotal: 16.3ms\tremaining: 46.5ms\n",
      "26:\tlearn: 0.9007892\ttotal: 17ms\tremaining: 46ms\n",
      "27:\tlearn: 0.9019166\ttotal: 17.6ms\tremaining: 45.4ms\n",
      "28:\tlearn: 0.9041714\ttotal: 18.3ms\tremaining: 44.9ms\n",
      "29:\tlearn: 0.9019166\ttotal: 19ms\tremaining: 44.3ms\n",
      "30:\tlearn: 0.9064262\ttotal: 19.7ms\tremaining: 43.8ms\n",
      "31:\tlearn: 0.9075536\ttotal: 20.4ms\tremaining: 43.5ms\n",
      "32:\tlearn: 0.9098083\ttotal: 21.1ms\tremaining: 42.9ms\n",
      "33:\tlearn: 0.9120631\ttotal: 21.9ms\tremaining: 42.5ms\n",
      "34:\tlearn: 0.9154453\ttotal: 22.7ms\tremaining: 42.1ms\n",
      "35:\tlearn: 0.9165727\ttotal: 23.4ms\tremaining: 41.7ms\n",
      "36:\tlearn: 0.9165727\ttotal: 24.3ms\tremaining: 41.3ms\n",
      "37:\tlearn: 0.9188275\ttotal: 25ms\tremaining: 40.8ms\n",
      "38:\tlearn: 0.9188275\ttotal: 25.9ms\tremaining: 40.5ms\n",
      "39:\tlearn: 0.9199549\ttotal: 26.6ms\tremaining: 39.9ms\n",
      "40:\tlearn: 0.9210823\ttotal: 27.4ms\tremaining: 39.4ms\n",
      "41:\tlearn: 0.9210823\ttotal: 28.2ms\tremaining: 38.9ms\n",
      "42:\tlearn: 0.9210823\ttotal: 28.9ms\tremaining: 38.3ms\n",
      "43:\tlearn: 0.9210823\ttotal: 29.7ms\tremaining: 37.8ms\n",
      "44:\tlearn: 0.9210823\ttotal: 30.4ms\tremaining: 37.1ms\n",
      "45:\tlearn: 0.9222097\ttotal: 31ms\tremaining: 36.4ms\n",
      "46:\tlearn: 0.9233371\ttotal: 31.7ms\tremaining: 35.8ms\n",
      "47:\tlearn: 0.9233371\ttotal: 32.4ms\tremaining: 35.1ms\n",
      "48:\tlearn: 0.9244645\ttotal: 33.1ms\tremaining: 34.4ms\n",
      "49:\tlearn: 0.9267193\ttotal: 33.8ms\tremaining: 33.8ms\n",
      "50:\tlearn: 0.9267193\ttotal: 34.5ms\tremaining: 33.2ms\n",
      "51:\tlearn: 0.9267193\ttotal: 35.3ms\tremaining: 32.6ms\n",
      "52:\tlearn: 0.9267193\ttotal: 36.1ms\tremaining: 32ms\n",
      "53:\tlearn: 0.9267193\ttotal: 36.9ms\tremaining: 31.4ms\n",
      "54:\tlearn: 0.9267193\ttotal: 37.7ms\tremaining: 30.8ms\n",
      "55:\tlearn: 0.9289741\ttotal: 38.5ms\tremaining: 30.2ms\n",
      "56:\tlearn: 0.9289741\ttotal: 39.3ms\tremaining: 29.6ms\n",
      "57:\tlearn: 0.9323563\ttotal: 40.1ms\tremaining: 29.1ms\n",
      "58:\tlearn: 0.9346110\ttotal: 40.9ms\tremaining: 28.4ms\n",
      "59:\tlearn: 0.9334837\ttotal: 41.7ms\tremaining: 27.8ms\n",
      "60:\tlearn: 0.9357384\ttotal: 42.6ms\tremaining: 27.2ms\n",
      "61:\tlearn: 0.9334837\ttotal: 43.4ms\tremaining: 26.6ms\n",
      "62:\tlearn: 0.9334837\ttotal: 44.1ms\tremaining: 25.9ms\n",
      "63:\tlearn: 0.9346110\ttotal: 44.9ms\tremaining: 25.3ms\n",
      "64:\tlearn: 0.9346110\ttotal: 45.7ms\tremaining: 24.6ms\n",
      "65:\tlearn: 0.9346110\ttotal: 46.5ms\tremaining: 23.9ms\n",
      "66:\tlearn: 0.9346110\ttotal: 47.3ms\tremaining: 23.3ms\n",
      "67:\tlearn: 0.9346110\ttotal: 48.1ms\tremaining: 22.6ms\n",
      "68:\tlearn: 0.9323563\ttotal: 48.8ms\tremaining: 21.9ms\n",
      "69:\tlearn: 0.9323563\ttotal: 49.5ms\tremaining: 21.2ms\n",
      "70:\tlearn: 0.9323563\ttotal: 50.2ms\tremaining: 20.5ms\n",
      "71:\tlearn: 0.9323563\ttotal: 50.9ms\tremaining: 19.8ms\n",
      "72:\tlearn: 0.9334837\ttotal: 51.6ms\tremaining: 19.1ms\n",
      "73:\tlearn: 0.9346110\ttotal: 52.3ms\tremaining: 18.4ms\n",
      "74:\tlearn: 0.9334837\ttotal: 53ms\tremaining: 17.7ms\n",
      "75:\tlearn: 0.9323563\ttotal: 53.6ms\tremaining: 16.9ms\n",
      "76:\tlearn: 0.9323563\ttotal: 53.9ms\tremaining: 16.1ms\n",
      "77:\tlearn: 0.9334837\ttotal: 54.7ms\tremaining: 15.4ms\n",
      "78:\tlearn: 0.9334837\ttotal: 55.4ms\tremaining: 14.7ms\n",
      "79:\tlearn: 0.9346110\ttotal: 56.1ms\tremaining: 14ms\n",
      "80:\tlearn: 0.9357384\ttotal: 56.8ms\tremaining: 13.3ms\n",
      "81:\tlearn: 0.9346110\ttotal: 57.7ms\tremaining: 12.7ms\n",
      "82:\tlearn: 0.9357384\ttotal: 58.4ms\tremaining: 12ms\n",
      "83:\tlearn: 0.9357384\ttotal: 58.7ms\tremaining: 11.2ms\n",
      "84:\tlearn: 0.9357384\ttotal: 59.5ms\tremaining: 10.5ms\n",
      "85:\tlearn: 0.9368658\ttotal: 60.3ms\tremaining: 9.82ms\n",
      "86:\tlearn: 0.9368658\ttotal: 61ms\tremaining: 9.12ms\n",
      "87:\tlearn: 0.9368658\ttotal: 61.8ms\tremaining: 8.43ms\n",
      "88:\tlearn: 0.9357384\ttotal: 62.6ms\tremaining: 7.73ms\n",
      "89:\tlearn: 0.9357384\ttotal: 63.1ms\tremaining: 7.01ms\n",
      "90:\tlearn: 0.9346110\ttotal: 63.7ms\tremaining: 6.3ms\n",
      "91:\tlearn: 0.9346110\ttotal: 64.4ms\tremaining: 5.6ms\n",
      "92:\tlearn: 0.9346110\ttotal: 65.2ms\tremaining: 4.91ms\n",
      "93:\tlearn: 0.9346110\ttotal: 66ms\tremaining: 4.21ms\n",
      "94:\tlearn: 0.9346110\ttotal: 66.8ms\tremaining: 3.52ms\n",
      "95:\tlearn: 0.9346110\ttotal: 67.7ms\tremaining: 2.82ms\n",
      "96:\tlearn: 0.9379932\ttotal: 68.4ms\tremaining: 2.12ms\n",
      "97:\tlearn: 0.9368658\ttotal: 69.1ms\tremaining: 1.41ms\n",
      "98:\tlearn: 0.9368658\ttotal: 69.8ms\tremaining: 705us\n",
      "99:\tlearn: 0.9368658\ttotal: 70.5ms\tremaining: 0us\n",
      "0:\tlearn: 0.8782413\ttotal: 1.09ms\tremaining: 108ms\n",
      "1:\tlearn: 0.8827508\ttotal: 1.78ms\tremaining: 87.5ms\n",
      "2:\tlearn: 0.8861330\ttotal: 2.47ms\tremaining: 79.8ms\n",
      "3:\tlearn: 0.8838782\ttotal: 3.13ms\tremaining: 75.2ms\n",
      "4:\tlearn: 0.8703495\ttotal: 3.33ms\tremaining: 63.3ms\n",
      "5:\tlearn: 0.8737317\ttotal: 3.57ms\tremaining: 55.9ms\n",
      "6:\tlearn: 0.8692221\ttotal: 3.77ms\tremaining: 50.2ms\n",
      "7:\tlearn: 0.8771139\ttotal: 4.47ms\tremaining: 51.4ms\n",
      "8:\tlearn: 0.8726043\ttotal: 5.14ms\tremaining: 52ms\n",
      "9:\tlearn: 0.8726043\ttotal: 5.79ms\tremaining: 52.1ms\n",
      "10:\tlearn: 0.8714769\ttotal: 6.47ms\tremaining: 52.3ms\n",
      "11:\tlearn: 0.8726043\ttotal: 7.09ms\tremaining: 52ms\n",
      "12:\tlearn: 0.8771139\ttotal: 7.78ms\tremaining: 52ms\n",
      "13:\tlearn: 0.8793687\ttotal: 8.55ms\tremaining: 52.5ms\n",
      "14:\tlearn: 0.8771139\ttotal: 9.26ms\tremaining: 52.5ms\n",
      "15:\tlearn: 0.8793687\ttotal: 10ms\tremaining: 52.5ms\n",
      "16:\tlearn: 0.8793687\ttotal: 10.2ms\tremaining: 49.7ms\n",
      "17:\tlearn: 0.8793687\ttotal: 10.9ms\tremaining: 49.5ms\n",
      "18:\tlearn: 0.8804961\ttotal: 11.6ms\tremaining: 49.3ms\n",
      "19:\tlearn: 0.8838782\ttotal: 12ms\tremaining: 48ms\n",
      "20:\tlearn: 0.8838782\ttotal: 12.7ms\tremaining: 47.9ms\n",
      "21:\tlearn: 0.8861330\ttotal: 13.4ms\tremaining: 47.4ms\n",
      "22:\tlearn: 0.8883878\ttotal: 14ms\tremaining: 47ms\n",
      "23:\tlearn: 0.8917700\ttotal: 14.7ms\tremaining: 46.6ms\n",
      "24:\tlearn: 0.8951522\ttotal: 15.4ms\tremaining: 46.2ms\n",
      "25:\tlearn: 0.8951522\ttotal: 16.1ms\tremaining: 45.8ms\n",
      "26:\tlearn: 0.8928974\ttotal: 16.3ms\tremaining: 44ms\n",
      "27:\tlearn: 0.8951522\ttotal: 17ms\tremaining: 43.7ms\n",
      "28:\tlearn: 0.8951522\ttotal: 17.7ms\tremaining: 43.3ms\n",
      "29:\tlearn: 0.8974070\ttotal: 18.3ms\tremaining: 42.8ms\n",
      "30:\tlearn: 0.8962796\ttotal: 19ms\tremaining: 42.4ms\n",
      "31:\tlearn: 0.8985344\ttotal: 19.7ms\tremaining: 41.9ms\n",
      "32:\tlearn: 0.8996618\ttotal: 20.3ms\tremaining: 41.3ms\n",
      "33:\tlearn: 0.9030440\ttotal: 21ms\tremaining: 40.8ms\n",
      "34:\tlearn: 0.9052988\ttotal: 21.8ms\tremaining: 40.5ms\n",
      "35:\tlearn: 0.9064262\ttotal: 22.5ms\tremaining: 40ms\n",
      "36:\tlearn: 0.9064262\ttotal: 23.2ms\tremaining: 39.4ms\n",
      "37:\tlearn: 0.9064262\ttotal: 23.9ms\tremaining: 38.9ms\n",
      "38:\tlearn: 0.9064262\ttotal: 24.6ms\tremaining: 38.4ms\n",
      "39:\tlearn: 0.9086809\ttotal: 25.2ms\tremaining: 37.8ms\n",
      "40:\tlearn: 0.9109357\ttotal: 25.9ms\tremaining: 37.2ms\n",
      "41:\tlearn: 0.9120631\ttotal: 26.6ms\tremaining: 36.7ms\n",
      "42:\tlearn: 0.9131905\ttotal: 27.2ms\tremaining: 36.1ms\n",
      "43:\tlearn: 0.9131905\ttotal: 27.9ms\tremaining: 35.5ms\n",
      "44:\tlearn: 0.9143179\ttotal: 28.3ms\tremaining: 34.5ms\n",
      "45:\tlearn: 0.9143179\ttotal: 29ms\tremaining: 34.1ms\n",
      "46:\tlearn: 0.9143179\ttotal: 29.8ms\tremaining: 33.6ms\n",
      "47:\tlearn: 0.9177001\ttotal: 30.6ms\tremaining: 33.1ms\n",
      "48:\tlearn: 0.9177001\ttotal: 31.3ms\tremaining: 32.6ms\n",
      "49:\tlearn: 0.9188275\ttotal: 32ms\tremaining: 32ms\n",
      "50:\tlearn: 0.9177001\ttotal: 32.7ms\tremaining: 31.4ms\n",
      "51:\tlearn: 0.9199549\ttotal: 33.4ms\tremaining: 30.8ms\n",
      "52:\tlearn: 0.9188275\ttotal: 34ms\tremaining: 30.2ms\n",
      "53:\tlearn: 0.9210823\ttotal: 34.8ms\tremaining: 29.6ms\n",
      "54:\tlearn: 0.9199549\ttotal: 35.4ms\tremaining: 29ms\n",
      "55:\tlearn: 0.9210823\ttotal: 36.2ms\tremaining: 28.5ms\n",
      "56:\tlearn: 0.9210823\ttotal: 36.9ms\tremaining: 27.9ms\n",
      "57:\tlearn: 0.9222097\ttotal: 37.6ms\tremaining: 27.2ms\n",
      "58:\tlearn: 0.9244645\ttotal: 38.3ms\tremaining: 26.6ms\n",
      "59:\tlearn: 0.9244645\ttotal: 39ms\tremaining: 26ms\n",
      "60:\tlearn: 0.9244645\ttotal: 39.7ms\tremaining: 25.4ms\n",
      "61:\tlearn: 0.9255919\ttotal: 40.3ms\tremaining: 24.7ms\n",
      "62:\tlearn: 0.9244645\ttotal: 41ms\tremaining: 24.1ms\n",
      "63:\tlearn: 0.9255919\ttotal: 41.7ms\tremaining: 23.5ms\n",
      "64:\tlearn: 0.9244645\ttotal: 42.5ms\tremaining: 22.9ms\n",
      "65:\tlearn: 0.9267193\ttotal: 43.6ms\tremaining: 22.4ms\n",
      "66:\tlearn: 0.9267193\ttotal: 43.9ms\tremaining: 21.6ms\n",
      "67:\tlearn: 0.9267193\ttotal: 44.6ms\tremaining: 21ms\n",
      "68:\tlearn: 0.9278467\ttotal: 45.4ms\tremaining: 20.4ms\n",
      "69:\tlearn: 0.9278467\ttotal: 46.1ms\tremaining: 19.8ms\n",
      "70:\tlearn: 0.9278467\ttotal: 46.9ms\tremaining: 19.1ms\n",
      "71:\tlearn: 0.9289741\ttotal: 47.7ms\tremaining: 18.5ms\n",
      "72:\tlearn: 0.9289741\ttotal: 48.4ms\tremaining: 17.9ms\n",
      "73:\tlearn: 0.9289741\ttotal: 49.2ms\tremaining: 17.3ms\n",
      "74:\tlearn: 0.9289741\ttotal: 49.9ms\tremaining: 16.6ms\n",
      "75:\tlearn: 0.9289741\ttotal: 50.6ms\tremaining: 16ms\n",
      "76:\tlearn: 0.9289741\ttotal: 51.3ms\tremaining: 15.3ms\n",
      "77:\tlearn: 0.9289741\ttotal: 52ms\tremaining: 14.7ms\n",
      "78:\tlearn: 0.9289741\ttotal: 52.7ms\tremaining: 14ms\n",
      "79:\tlearn: 0.9301015\ttotal: 53.4ms\tremaining: 13.4ms\n",
      "80:\tlearn: 0.9301015\ttotal: 53.9ms\tremaining: 12.6ms\n",
      "81:\tlearn: 0.9301015\ttotal: 54.6ms\tremaining: 12ms\n",
      "82:\tlearn: 0.9301015\ttotal: 55.3ms\tremaining: 11.3ms\n",
      "83:\tlearn: 0.9301015\ttotal: 55.5ms\tremaining: 10.6ms\n",
      "84:\tlearn: 0.9301015\ttotal: 55.6ms\tremaining: 9.81ms\n",
      "85:\tlearn: 0.9301015\ttotal: 56.3ms\tremaining: 9.16ms\n",
      "86:\tlearn: 0.9301015\ttotal: 57ms\tremaining: 8.52ms\n",
      "87:\tlearn: 0.9301015\ttotal: 57.7ms\tremaining: 7.86ms\n",
      "88:\tlearn: 0.9312289\ttotal: 58.3ms\tremaining: 7.21ms\n",
      "89:\tlearn: 0.9323563\ttotal: 59ms\tremaining: 6.55ms\n",
      "90:\tlearn: 0.9323563\ttotal: 59.6ms\tremaining: 5.9ms\n",
      "91:\tlearn: 0.9323563\ttotal: 60ms\tremaining: 5.21ms\n",
      "92:\tlearn: 0.9301015\ttotal: 60.6ms\tremaining: 4.56ms\n",
      "93:\tlearn: 0.9301015\ttotal: 61.2ms\tremaining: 3.91ms\n",
      "94:\tlearn: 0.9301015\ttotal: 61.9ms\tremaining: 3.26ms\n",
      "95:\tlearn: 0.9312289\ttotal: 62.6ms\tremaining: 2.61ms\n",
      "96:\tlearn: 0.9312289\ttotal: 62.9ms\tremaining: 1.95ms\n",
      "97:\tlearn: 0.9312289\ttotal: 63.6ms\tremaining: 1.3ms\n",
      "98:\tlearn: 0.9312289\ttotal: 64.3ms\tremaining: 649us\n",
      "99:\tlearn: 0.9312289\ttotal: 65ms\tremaining: 0us\n",
      "0:\tlearn: 0.8658399\ttotal: 952us\tremaining: 94.3ms\n",
      "1:\tlearn: 0.8827508\ttotal: 1.64ms\tremaining: 80.3ms\n",
      "2:\tlearn: 0.8906426\ttotal: 2.54ms\tremaining: 82ms\n",
      "3:\tlearn: 0.8906426\ttotal: 3.26ms\tremaining: 78.2ms\n",
      "4:\tlearn: 0.8782413\ttotal: 3.46ms\tremaining: 65.8ms\n",
      "5:\tlearn: 0.8895152\ttotal: 4.17ms\tremaining: 65.4ms\n",
      "6:\tlearn: 0.8861330\ttotal: 4.86ms\tremaining: 64.6ms\n",
      "7:\tlearn: 0.8895152\ttotal: 5.54ms\tremaining: 63.7ms\n",
      "8:\tlearn: 0.8962796\ttotal: 6.19ms\tremaining: 62.6ms\n",
      "9:\tlearn: 0.8962796\ttotal: 6.86ms\tremaining: 61.7ms\n",
      "10:\tlearn: 0.8962796\ttotal: 7.52ms\tremaining: 60.9ms\n",
      "11:\tlearn: 0.8996618\ttotal: 8.23ms\tremaining: 60.4ms\n",
      "12:\tlearn: 0.8985344\ttotal: 8.95ms\tremaining: 59.9ms\n",
      "13:\tlearn: 0.9007892\ttotal: 9.63ms\tremaining: 59.1ms\n",
      "14:\tlearn: 0.9019166\ttotal: 10.3ms\tremaining: 58.5ms\n",
      "15:\tlearn: 0.9052988\ttotal: 11ms\tremaining: 57.6ms\n",
      "16:\tlearn: 0.9064262\ttotal: 11.7ms\tremaining: 56.9ms\n",
      "17:\tlearn: 0.9086809\ttotal: 12.3ms\tremaining: 56.2ms\n",
      "18:\tlearn: 0.9041714\ttotal: 12.5ms\tremaining: 53.3ms\n",
      "19:\tlearn: 0.9075536\ttotal: 13.2ms\tremaining: 52.7ms\n",
      "20:\tlearn: 0.9086809\ttotal: 13.6ms\tremaining: 51.3ms\n",
      "21:\tlearn: 0.9075536\ttotal: 13.8ms\tremaining: 49.1ms\n",
      "22:\tlearn: 0.9075536\ttotal: 14.5ms\tremaining: 48.5ms\n",
      "23:\tlearn: 0.9098083\ttotal: 15.2ms\tremaining: 48ms\n",
      "24:\tlearn: 0.9120631\ttotal: 15.8ms\tremaining: 47.5ms\n",
      "25:\tlearn: 0.9109357\ttotal: 16.5ms\tremaining: 47ms\n",
      "26:\tlearn: 0.9131905\ttotal: 17.2ms\tremaining: 46.5ms\n",
      "27:\tlearn: 0.9120631\ttotal: 18ms\tremaining: 46.2ms\n",
      "28:\tlearn: 0.9131905\ttotal: 18.6ms\tremaining: 45.7ms\n",
      "29:\tlearn: 0.9177001\ttotal: 19.4ms\tremaining: 45.2ms\n",
      "30:\tlearn: 0.9199549\ttotal: 20ms\tremaining: 44.5ms\n",
      "31:\tlearn: 0.9188275\ttotal: 20.6ms\tremaining: 43.9ms\n",
      "32:\tlearn: 0.9177001\ttotal: 21.3ms\tremaining: 43.3ms\n",
      "33:\tlearn: 0.9154453\ttotal: 22ms\tremaining: 42.7ms\n",
      "34:\tlearn: 0.9177001\ttotal: 22.7ms\tremaining: 42.1ms\n",
      "35:\tlearn: 0.9188275\ttotal: 23.4ms\tremaining: 41.6ms\n",
      "36:\tlearn: 0.9199549\ttotal: 24.1ms\tremaining: 41ms\n",
      "37:\tlearn: 0.9188275\ttotal: 24.7ms\tremaining: 40.3ms\n",
      "38:\tlearn: 0.9222097\ttotal: 25.4ms\tremaining: 39.7ms\n",
      "39:\tlearn: 0.9210823\ttotal: 26.1ms\tremaining: 39.1ms\n",
      "40:\tlearn: 0.9222097\ttotal: 26.7ms\tremaining: 38.5ms\n",
      "41:\tlearn: 0.9222097\ttotal: 27.4ms\tremaining: 37.8ms\n",
      "42:\tlearn: 0.9222097\ttotal: 28ms\tremaining: 37.1ms\n",
      "43:\tlearn: 0.9222097\ttotal: 28.7ms\tremaining: 36.5ms\n",
      "44:\tlearn: 0.9222097\ttotal: 29.4ms\tremaining: 35.9ms\n",
      "45:\tlearn: 0.9233371\ttotal: 30ms\tremaining: 35.3ms\n",
      "46:\tlearn: 0.9233371\ttotal: 30.7ms\tremaining: 34.6ms\n",
      "47:\tlearn: 0.9244645\ttotal: 31.4ms\tremaining: 34ms\n",
      "48:\tlearn: 0.9244645\ttotal: 32ms\tremaining: 33.3ms\n",
      "49:\tlearn: 0.9255919\ttotal: 32.7ms\tremaining: 32.7ms\n",
      "50:\tlearn: 0.9255919\ttotal: 33.4ms\tremaining: 32.1ms\n",
      "51:\tlearn: 0.9267193\ttotal: 34.1ms\tremaining: 31.5ms\n",
      "52:\tlearn: 0.9255919\ttotal: 34.7ms\tremaining: 30.8ms\n",
      "53:\tlearn: 0.9289741\ttotal: 35.4ms\tremaining: 30.2ms\n",
      "54:\tlearn: 0.9278467\ttotal: 36ms\tremaining: 29.5ms\n",
      "55:\tlearn: 0.9301015\ttotal: 36.7ms\tremaining: 28.8ms\n",
      "56:\tlearn: 0.9312289\ttotal: 37.4ms\tremaining: 28.2ms\n",
      "57:\tlearn: 0.9301015\ttotal: 38ms\tremaining: 27.5ms\n",
      "58:\tlearn: 0.9289741\ttotal: 38.7ms\tremaining: 26.9ms\n",
      "59:\tlearn: 0.9301015\ttotal: 39.5ms\tremaining: 26.3ms\n",
      "60:\tlearn: 0.9301015\ttotal: 40.3ms\tremaining: 25.8ms\n",
      "61:\tlearn: 0.9312289\ttotal: 41.2ms\tremaining: 25.2ms\n",
      "62:\tlearn: 0.9323563\ttotal: 42ms\tremaining: 24.7ms\n",
      "63:\tlearn: 0.9334837\ttotal: 42.8ms\tremaining: 24.1ms\n",
      "64:\tlearn: 0.9334837\ttotal: 43.7ms\tremaining: 23.6ms\n",
      "65:\tlearn: 0.9334837\ttotal: 44.5ms\tremaining: 22.9ms\n",
      "66:\tlearn: 0.9346110\ttotal: 45.1ms\tremaining: 22.2ms\n",
      "67:\tlearn: 0.9323563\ttotal: 45.8ms\tremaining: 21.5ms\n",
      "68:\tlearn: 0.9334837\ttotal: 46.4ms\tremaining: 20.9ms\n",
      "69:\tlearn: 0.9346110\ttotal: 47.1ms\tremaining: 20.2ms\n",
      "70:\tlearn: 0.9334837\ttotal: 47.8ms\tremaining: 19.5ms\n",
      "71:\tlearn: 0.9346110\ttotal: 48.4ms\tremaining: 18.8ms\n",
      "72:\tlearn: 0.9357384\ttotal: 49.2ms\tremaining: 18.2ms\n",
      "73:\tlearn: 0.9357384\ttotal: 49.9ms\tremaining: 17.5ms\n",
      "74:\tlearn: 0.9346110\ttotal: 50.9ms\tremaining: 17ms\n",
      "75:\tlearn: 0.9357384\ttotal: 51.7ms\tremaining: 16.3ms\n",
      "76:\tlearn: 0.9357384\ttotal: 52.4ms\tremaining: 15.7ms\n",
      "77:\tlearn: 0.9357384\ttotal: 53.2ms\tremaining: 15ms\n",
      "78:\tlearn: 0.9368658\ttotal: 54.1ms\tremaining: 14.4ms\n",
      "79:\tlearn: 0.9368658\ttotal: 54.9ms\tremaining: 13.7ms\n",
      "80:\tlearn: 0.9357384\ttotal: 55.4ms\tremaining: 13ms\n",
      "81:\tlearn: 0.9368658\ttotal: 56.1ms\tremaining: 12.3ms\n",
      "82:\tlearn: 0.9368658\ttotal: 57ms\tremaining: 11.7ms\n",
      "83:\tlearn: 0.9391206\ttotal: 57.8ms\tremaining: 11ms\n",
      "84:\tlearn: 0.9391206\ttotal: 58.6ms\tremaining: 10.3ms\n",
      "85:\tlearn: 0.9379932\ttotal: 59.4ms\tremaining: 9.67ms\n",
      "86:\tlearn: 0.9391206\ttotal: 60.2ms\tremaining: 8.99ms\n",
      "87:\tlearn: 0.9391206\ttotal: 60.9ms\tremaining: 8.31ms\n",
      "88:\tlearn: 0.9402480\ttotal: 61.7ms\tremaining: 7.63ms\n",
      "89:\tlearn: 0.9413754\ttotal: 62.5ms\tremaining: 6.94ms\n",
      "90:\tlearn: 0.9402480\ttotal: 63.2ms\tremaining: 6.25ms\n",
      "91:\tlearn: 0.9425028\ttotal: 63.9ms\tremaining: 5.56ms\n",
      "92:\tlearn: 0.9425028\ttotal: 64.7ms\tremaining: 4.87ms\n",
      "93:\tlearn: 0.9436302\ttotal: 65.4ms\tremaining: 4.17ms\n",
      "94:\tlearn: 0.9436302\ttotal: 66.1ms\tremaining: 3.48ms\n",
      "95:\tlearn: 0.9436302\ttotal: 66.4ms\tremaining: 2.77ms\n",
      "96:\tlearn: 0.9436302\ttotal: 67.1ms\tremaining: 2.08ms\n",
      "97:\tlearn: 0.9436302\ttotal: 67.8ms\tremaining: 1.38ms\n",
      "98:\tlearn: 0.9436302\ttotal: 68.6ms\tremaining: 693us\n",
      "99:\tlearn: 0.9436302\ttotal: 69.4ms\tremaining: 0us\n",
      "0:\tlearn: 0.8714769\ttotal: 1.33ms\tremaining: 132ms\n",
      "1:\tlearn: 0.8793687\ttotal: 2.06ms\tremaining: 101ms\n",
      "2:\tlearn: 0.8850056\ttotal: 2.78ms\tremaining: 89.9ms\n",
      "3:\tlearn: 0.8883878\ttotal: 3.46ms\tremaining: 83ms\n",
      "4:\tlearn: 0.8782413\ttotal: 3.66ms\tremaining: 69.6ms\n",
      "5:\tlearn: 0.8782413\ttotal: 3.91ms\tremaining: 61.3ms\n",
      "6:\tlearn: 0.8771139\ttotal: 4.1ms\tremaining: 54.5ms\n",
      "7:\tlearn: 0.8793687\ttotal: 4.77ms\tremaining: 54.9ms\n",
      "8:\tlearn: 0.8782413\ttotal: 5.47ms\tremaining: 55.3ms\n",
      "9:\tlearn: 0.8816234\ttotal: 6.15ms\tremaining: 55.4ms\n",
      "10:\tlearn: 0.8793687\ttotal: 6.85ms\tremaining: 55.4ms\n",
      "11:\tlearn: 0.8816234\ttotal: 7.5ms\tremaining: 55ms\n",
      "12:\tlearn: 0.8827508\ttotal: 8.2ms\tremaining: 54.9ms\n",
      "13:\tlearn: 0.8850056\ttotal: 8.45ms\tremaining: 51.9ms\n",
      "14:\tlearn: 0.8838782\ttotal: 9.22ms\tremaining: 52.2ms\n",
      "15:\tlearn: 0.8861330\ttotal: 9.95ms\tremaining: 52.2ms\n",
      "16:\tlearn: 0.8838782\ttotal: 10.7ms\tremaining: 52.1ms\n",
      "17:\tlearn: 0.8883878\ttotal: 11.4ms\tremaining: 51.9ms\n",
      "18:\tlearn: 0.8895152\ttotal: 12.1ms\tremaining: 51.4ms\n",
      "19:\tlearn: 0.8917700\ttotal: 12.7ms\tremaining: 50.9ms\n",
      "20:\tlearn: 0.8917700\ttotal: 13.4ms\tremaining: 50.5ms\n",
      "21:\tlearn: 0.8928974\ttotal: 14.1ms\tremaining: 50ms\n",
      "22:\tlearn: 0.8951522\ttotal: 14.8ms\tremaining: 49.4ms\n",
      "23:\tlearn: 0.8974070\ttotal: 15.4ms\tremaining: 48.9ms\n",
      "24:\tlearn: 0.8974070\ttotal: 16.1ms\tremaining: 48.3ms\n",
      "25:\tlearn: 0.8985344\ttotal: 16.7ms\tremaining: 47.7ms\n",
      "26:\tlearn: 0.8985344\ttotal: 17.4ms\tremaining: 47ms\n",
      "27:\tlearn: 0.9007892\ttotal: 18.1ms\tremaining: 46.5ms\n",
      "28:\tlearn: 0.9019166\ttotal: 18.7ms\tremaining: 45.9ms\n",
      "29:\tlearn: 0.9030440\ttotal: 19.4ms\tremaining: 45.3ms\n",
      "30:\tlearn: 0.9030440\ttotal: 20.1ms\tremaining: 44.8ms\n",
      "31:\tlearn: 0.9052988\ttotal: 20.8ms\tremaining: 44.2ms\n",
      "32:\tlearn: 0.9052988\ttotal: 21.5ms\tremaining: 43.6ms\n",
      "33:\tlearn: 0.9075536\ttotal: 22.2ms\tremaining: 43ms\n",
      "34:\tlearn: 0.9109357\ttotal: 22.8ms\tremaining: 42.4ms\n",
      "35:\tlearn: 0.9120631\ttotal: 23.5ms\tremaining: 41.8ms\n",
      "36:\tlearn: 0.9109357\ttotal: 24.2ms\tremaining: 41.2ms\n",
      "37:\tlearn: 0.9120631\ttotal: 24.9ms\tremaining: 40.6ms\n",
      "38:\tlearn: 0.9109357\ttotal: 25.5ms\tremaining: 39.9ms\n",
      "39:\tlearn: 0.9131905\ttotal: 26.2ms\tremaining: 39.4ms\n",
      "40:\tlearn: 0.9131905\ttotal: 27ms\tremaining: 38.8ms\n",
      "41:\tlearn: 0.9143179\ttotal: 27.6ms\tremaining: 38.2ms\n",
      "42:\tlearn: 0.9143179\ttotal: 28.3ms\tremaining: 37.5ms\n",
      "43:\tlearn: 0.9165727\ttotal: 29ms\tremaining: 37ms\n",
      "44:\tlearn: 0.9165727\ttotal: 29.7ms\tremaining: 36.3ms\n",
      "45:\tlearn: 0.9188275\ttotal: 30.4ms\tremaining: 35.7ms\n",
      "46:\tlearn: 0.9210823\ttotal: 31.1ms\tremaining: 35ms\n",
      "47:\tlearn: 0.9222097\ttotal: 31.8ms\tremaining: 34.5ms\n",
      "48:\tlearn: 0.9188275\ttotal: 32.6ms\tremaining: 33.9ms\n",
      "49:\tlearn: 0.9199549\ttotal: 33.3ms\tremaining: 33.3ms\n",
      "50:\tlearn: 0.9210823\ttotal: 33.9ms\tremaining: 32.6ms\n",
      "51:\tlearn: 0.9199549\ttotal: 34.6ms\tremaining: 32ms\n",
      "52:\tlearn: 0.9210823\ttotal: 35.3ms\tremaining: 31.3ms\n",
      "53:\tlearn: 0.9188275\ttotal: 36ms\tremaining: 30.7ms\n",
      "54:\tlearn: 0.9199549\ttotal: 36.8ms\tremaining: 30.1ms\n",
      "55:\tlearn: 0.9222097\ttotal: 37.4ms\tremaining: 29.4ms\n",
      "56:\tlearn: 0.9222097\ttotal: 38.1ms\tremaining: 28.8ms\n",
      "57:\tlearn: 0.9222097\ttotal: 38.9ms\tremaining: 28.1ms\n",
      "58:\tlearn: 0.9222097\ttotal: 39.6ms\tremaining: 27.5ms\n",
      "59:\tlearn: 0.9233371\ttotal: 40.3ms\tremaining: 26.9ms\n",
      "60:\tlearn: 0.9267193\ttotal: 41ms\tremaining: 26.2ms\n",
      "61:\tlearn: 0.9255919\ttotal: 41.7ms\tremaining: 25.6ms\n",
      "62:\tlearn: 0.9267193\ttotal: 42ms\tremaining: 24.7ms\n",
      "63:\tlearn: 0.9255919\ttotal: 42.6ms\tremaining: 24ms\n",
      "64:\tlearn: 0.9267193\ttotal: 43.3ms\tremaining: 23.3ms\n",
      "65:\tlearn: 0.9267193\ttotal: 44ms\tremaining: 22.7ms\n",
      "66:\tlearn: 0.9267193\ttotal: 44.7ms\tremaining: 22ms\n",
      "67:\tlearn: 0.9278467\ttotal: 45.3ms\tremaining: 21.3ms\n",
      "68:\tlearn: 0.9267193\ttotal: 46.1ms\tremaining: 20.7ms\n",
      "69:\tlearn: 0.9267193\ttotal: 46.9ms\tremaining: 20.1ms\n",
      "70:\tlearn: 0.9267193\ttotal: 47.6ms\tremaining: 19.4ms\n",
      "71:\tlearn: 0.9278467\ttotal: 48.4ms\tremaining: 18.8ms\n",
      "72:\tlearn: 0.9289741\ttotal: 49.1ms\tremaining: 18.2ms\n",
      "73:\tlearn: 0.9278467\ttotal: 49.4ms\tremaining: 17.4ms\n",
      "74:\tlearn: 0.9278467\ttotal: 50.2ms\tremaining: 16.7ms\n",
      "75:\tlearn: 0.9301015\ttotal: 50.9ms\tremaining: 16.1ms\n",
      "76:\tlearn: 0.9312289\ttotal: 51.6ms\tremaining: 15.4ms\n",
      "77:\tlearn: 0.9312289\ttotal: 52.2ms\tremaining: 14.7ms\n",
      "78:\tlearn: 0.9312289\ttotal: 52.9ms\tremaining: 14.1ms\n",
      "79:\tlearn: 0.9323563\ttotal: 53.6ms\tremaining: 13.4ms\n",
      "80:\tlearn: 0.9334837\ttotal: 54.3ms\tremaining: 12.7ms\n",
      "81:\tlearn: 0.9323563\ttotal: 55ms\tremaining: 12.1ms\n",
      "82:\tlearn: 0.9323563\ttotal: 55.6ms\tremaining: 11.4ms\n",
      "83:\tlearn: 0.9323563\ttotal: 56.3ms\tremaining: 10.7ms\n",
      "84:\tlearn: 0.9323563\ttotal: 57ms\tremaining: 10.1ms\n",
      "85:\tlearn: 0.9323563\ttotal: 57.7ms\tremaining: 9.39ms\n",
      "86:\tlearn: 0.9323563\ttotal: 58.3ms\tremaining: 8.72ms\n",
      "87:\tlearn: 0.9323563\ttotal: 59ms\tremaining: 8.04ms\n",
      "88:\tlearn: 0.9323563\ttotal: 59.6ms\tremaining: 7.37ms\n",
      "89:\tlearn: 0.9334837\ttotal: 60.3ms\tremaining: 6.7ms\n",
      "90:\tlearn: 0.9334837\ttotal: 61.1ms\tremaining: 6.04ms\n",
      "91:\tlearn: 0.9334837\ttotal: 61.9ms\tremaining: 5.38ms\n",
      "92:\tlearn: 0.9323563\ttotal: 62.6ms\tremaining: 4.71ms\n",
      "93:\tlearn: 0.9323563\ttotal: 63.3ms\tremaining: 4.04ms\n",
      "94:\tlearn: 0.9323563\ttotal: 64ms\tremaining: 3.37ms\n",
      "95:\tlearn: 0.9346110\ttotal: 64.7ms\tremaining: 2.7ms\n",
      "96:\tlearn: 0.9346110\ttotal: 65.4ms\tremaining: 2.02ms\n",
      "97:\tlearn: 0.9346110\ttotal: 66.2ms\tremaining: 1.35ms\n",
      "98:\tlearn: 0.9346110\ttotal: 66.9ms\tremaining: 675us\n",
      "99:\tlearn: 0.9334837\ttotal: 67.6ms\tremaining: 0us\n",
      "0:\tlearn: 0.8726043\ttotal: 1.06ms\tremaining: 105ms\n",
      "1:\tlearn: 0.8782413\ttotal: 1.79ms\tremaining: 87.9ms\n",
      "2:\tlearn: 0.8759865\ttotal: 2.47ms\tremaining: 80ms\n",
      "3:\tlearn: 0.8759865\ttotal: 3.12ms\tremaining: 74.8ms\n",
      "4:\tlearn: 0.8680947\ttotal: 3.33ms\tremaining: 63.2ms\n",
      "5:\tlearn: 0.8726043\ttotal: 3.58ms\tremaining: 56.1ms\n",
      "6:\tlearn: 0.8714769\ttotal: 3.79ms\tremaining: 50.3ms\n",
      "7:\tlearn: 0.8782413\ttotal: 4.45ms\tremaining: 51.2ms\n",
      "8:\tlearn: 0.8793687\ttotal: 5.15ms\tremaining: 52ms\n",
      "9:\tlearn: 0.8737317\ttotal: 5.27ms\tremaining: 47.5ms\n",
      "10:\tlearn: 0.8748591\ttotal: 5.98ms\tremaining: 48.4ms\n",
      "11:\tlearn: 0.8782413\ttotal: 6.64ms\tremaining: 48.7ms\n",
      "12:\tlearn: 0.8782413\ttotal: 7.33ms\tremaining: 49.1ms\n",
      "13:\tlearn: 0.8782413\ttotal: 8.02ms\tremaining: 49.2ms\n",
      "14:\tlearn: 0.8850056\ttotal: 8.66ms\tremaining: 49.1ms\n",
      "15:\tlearn: 0.8827508\ttotal: 9.33ms\tremaining: 49ms\n",
      "16:\tlearn: 0.8850056\ttotal: 9.98ms\tremaining: 48.7ms\n",
      "17:\tlearn: 0.8883878\ttotal: 10.7ms\tremaining: 48.6ms\n",
      "18:\tlearn: 0.8928974\ttotal: 11.3ms\tremaining: 48.3ms\n",
      "19:\tlearn: 0.8940248\ttotal: 11.8ms\tremaining: 47.2ms\n",
      "20:\tlearn: 0.8974070\ttotal: 12.5ms\tremaining: 46.9ms\n",
      "21:\tlearn: 0.8962796\ttotal: 13.1ms\tremaining: 46.6ms\n",
      "22:\tlearn: 0.8974070\ttotal: 13.8ms\tremaining: 46.2ms\n",
      "23:\tlearn: 0.8962796\ttotal: 14.5ms\tremaining: 45.8ms\n",
      "24:\tlearn: 0.8985344\ttotal: 15.1ms\tremaining: 45.3ms\n",
      "25:\tlearn: 0.9041714\ttotal: 15.8ms\tremaining: 44.9ms\n",
      "26:\tlearn: 0.9007892\ttotal: 16ms\tremaining: 43.2ms\n",
      "27:\tlearn: 0.9052988\ttotal: 16.6ms\tremaining: 42.8ms\n",
      "28:\tlearn: 0.9075536\ttotal: 17.3ms\tremaining: 42.4ms\n",
      "29:\tlearn: 0.9120631\ttotal: 18ms\tremaining: 42ms\n",
      "30:\tlearn: 0.9109357\ttotal: 18.7ms\tremaining: 41.6ms\n",
      "31:\tlearn: 0.9120631\ttotal: 19.4ms\tremaining: 41.2ms\n",
      "32:\tlearn: 0.9143179\ttotal: 20.1ms\tremaining: 40.8ms\n",
      "33:\tlearn: 0.9143179\ttotal: 20.7ms\tremaining: 40.3ms\n",
      "34:\tlearn: 0.9143179\ttotal: 21.4ms\tremaining: 39.8ms\n",
      "35:\tlearn: 0.9143179\ttotal: 22.1ms\tremaining: 39.4ms\n",
      "36:\tlearn: 0.9165727\ttotal: 22.9ms\tremaining: 38.9ms\n",
      "37:\tlearn: 0.9154453\ttotal: 23.6ms\tremaining: 38.5ms\n",
      "38:\tlearn: 0.9154453\ttotal: 24.3ms\tremaining: 38ms\n",
      "39:\tlearn: 0.9188275\ttotal: 24.9ms\tremaining: 37.4ms\n",
      "40:\tlearn: 0.9199549\ttotal: 25.6ms\tremaining: 36.8ms\n",
      "41:\tlearn: 0.9199549\ttotal: 26.3ms\tremaining: 36.3ms\n",
      "42:\tlearn: 0.9233371\ttotal: 27ms\tremaining: 35.9ms\n",
      "43:\tlearn: 0.9267193\ttotal: 27.8ms\tremaining: 35.4ms\n",
      "44:\tlearn: 0.9233371\ttotal: 28.2ms\tremaining: 34.4ms\n",
      "45:\tlearn: 0.9222097\ttotal: 28.9ms\tremaining: 33.9ms\n",
      "46:\tlearn: 0.9222097\ttotal: 29.6ms\tremaining: 33.3ms\n",
      "47:\tlearn: 0.9233371\ttotal: 30.2ms\tremaining: 32.8ms\n",
      "48:\tlearn: 0.9233371\ttotal: 30.9ms\tremaining: 32.2ms\n",
      "49:\tlearn: 0.9222097\ttotal: 31.6ms\tremaining: 31.6ms\n",
      "50:\tlearn: 0.9233371\ttotal: 32.2ms\tremaining: 31ms\n",
      "51:\tlearn: 0.9244645\ttotal: 33ms\tremaining: 30.4ms\n",
      "52:\tlearn: 0.9267193\ttotal: 33.8ms\tremaining: 29.9ms\n",
      "53:\tlearn: 0.9289741\ttotal: 34.4ms\tremaining: 29.3ms\n",
      "54:\tlearn: 0.9278467\ttotal: 35.2ms\tremaining: 28.8ms\n",
      "55:\tlearn: 0.9278467\ttotal: 35.8ms\tremaining: 28.2ms\n",
      "56:\tlearn: 0.9278467\ttotal: 36.5ms\tremaining: 27.6ms\n",
      "57:\tlearn: 0.9267193\ttotal: 37.2ms\tremaining: 27ms\n",
      "58:\tlearn: 0.9267193\ttotal: 37.9ms\tremaining: 26.4ms\n",
      "59:\tlearn: 0.9267193\ttotal: 38.6ms\tremaining: 25.7ms\n",
      "60:\tlearn: 0.9267193\ttotal: 39.3ms\tremaining: 25.1ms\n",
      "61:\tlearn: 0.9255919\ttotal: 40ms\tremaining: 24.5ms\n",
      "62:\tlearn: 0.9267193\ttotal: 40.7ms\tremaining: 23.9ms\n",
      "63:\tlearn: 0.9278467\ttotal: 41.4ms\tremaining: 23.3ms\n",
      "64:\tlearn: 0.9278467\ttotal: 42.1ms\tremaining: 22.7ms\n",
      "65:\tlearn: 0.9278467\ttotal: 42.8ms\tremaining: 22ms\n",
      "66:\tlearn: 0.9289741\ttotal: 43.4ms\tremaining: 21.4ms\n",
      "67:\tlearn: 0.9312289\ttotal: 44.1ms\tremaining: 20.8ms\n",
      "68:\tlearn: 0.9323563\ttotal: 44.9ms\tremaining: 20.2ms\n",
      "69:\tlearn: 0.9334837\ttotal: 45.7ms\tremaining: 19.6ms\n",
      "70:\tlearn: 0.9334837\ttotal: 46.4ms\tremaining: 18.9ms\n",
      "71:\tlearn: 0.9334837\ttotal: 47.1ms\tremaining: 18.3ms\n",
      "72:\tlearn: 0.9334837\ttotal: 47.9ms\tremaining: 17.7ms\n",
      "73:\tlearn: 0.9357384\ttotal: 48.7ms\tremaining: 17.1ms\n",
      "74:\tlearn: 0.9346110\ttotal: 49.4ms\tremaining: 16.5ms\n",
      "75:\tlearn: 0.9346110\ttotal: 50.1ms\tremaining: 15.8ms\n",
      "76:\tlearn: 0.9357384\ttotal: 50.8ms\tremaining: 15.2ms\n",
      "77:\tlearn: 0.9346110\ttotal: 51.6ms\tremaining: 14.5ms\n",
      "78:\tlearn: 0.9346110\ttotal: 51.9ms\tremaining: 13.8ms\n",
      "79:\tlearn: 0.9357384\ttotal: 52.7ms\tremaining: 13.2ms\n",
      "80:\tlearn: 0.9357384\ttotal: 53.5ms\tremaining: 12.5ms\n",
      "81:\tlearn: 0.9357384\ttotal: 54.3ms\tremaining: 11.9ms\n",
      "82:\tlearn: 0.9368658\ttotal: 55.3ms\tremaining: 11.3ms\n",
      "83:\tlearn: 0.9368658\ttotal: 56.1ms\tremaining: 10.7ms\n",
      "84:\tlearn: 0.9368658\ttotal: 56.8ms\tremaining: 10ms\n",
      "85:\tlearn: 0.9368658\ttotal: 57.5ms\tremaining: 9.36ms\n",
      "86:\tlearn: 0.9368658\ttotal: 58.2ms\tremaining: 8.69ms\n",
      "87:\tlearn: 0.9368658\ttotal: 58.8ms\tremaining: 8.02ms\n",
      "88:\tlearn: 0.9368658\ttotal: 59.7ms\tremaining: 7.38ms\n",
      "89:\tlearn: 0.9368658\ttotal: 60.4ms\tremaining: 6.71ms\n",
      "90:\tlearn: 0.9402480\ttotal: 61.1ms\tremaining: 6.04ms\n",
      "91:\tlearn: 0.9402480\ttotal: 61.4ms\tremaining: 5.34ms\n",
      "92:\tlearn: 0.9391206\ttotal: 62.6ms\tremaining: 4.71ms\n",
      "93:\tlearn: 0.9379932\ttotal: 63.4ms\tremaining: 4.05ms\n",
      "94:\tlearn: 0.9379932\ttotal: 64.2ms\tremaining: 3.38ms\n",
      "95:\tlearn: 0.9357384\ttotal: 64.9ms\tremaining: 2.71ms\n",
      "96:\tlearn: 0.9357384\ttotal: 65.6ms\tremaining: 2.03ms\n",
      "97:\tlearn: 0.9379932\ttotal: 66.4ms\tremaining: 1.35ms\n",
      "98:\tlearn: 0.9391206\ttotal: 67.2ms\tremaining: 678us\n",
      "99:\tlearn: 0.9379932\ttotal: 67.9ms\tremaining: 0us\n",
      "0:\tlearn: 0.8590755\ttotal: 1.36ms\tremaining: 135ms\n",
      "1:\tlearn: 0.8974070\ttotal: 2.13ms\tremaining: 104ms\n",
      "2:\tlearn: 0.8962796\ttotal: 2.9ms\tremaining: 93.7ms\n",
      "3:\tlearn: 0.8928974\ttotal: 3.66ms\tremaining: 87.9ms\n",
      "4:\tlearn: 0.8827508\ttotal: 3.89ms\tremaining: 73.8ms\n",
      "5:\tlearn: 0.8883878\ttotal: 4.59ms\tremaining: 71.9ms\n",
      "6:\tlearn: 0.8974070\ttotal: 5.28ms\tremaining: 70.1ms\n",
      "7:\tlearn: 0.8974070\ttotal: 5.99ms\tremaining: 68.9ms\n",
      "8:\tlearn: 0.8996618\ttotal: 6.67ms\tremaining: 67.5ms\n",
      "9:\tlearn: 0.9019166\ttotal: 7.38ms\tremaining: 66.4ms\n",
      "10:\tlearn: 0.8974070\ttotal: 8.06ms\tremaining: 65.2ms\n",
      "11:\tlearn: 0.9041714\ttotal: 8.81ms\tremaining: 64.6ms\n",
      "12:\tlearn: 0.9019166\ttotal: 9.52ms\tremaining: 63.7ms\n",
      "13:\tlearn: 0.9019166\ttotal: 10.2ms\tremaining: 62.5ms\n",
      "14:\tlearn: 0.9030440\ttotal: 10.9ms\tremaining: 61.7ms\n",
      "15:\tlearn: 0.9019166\ttotal: 11.6ms\tremaining: 61ms\n",
      "16:\tlearn: 0.9041714\ttotal: 12.3ms\tremaining: 60.3ms\n",
      "17:\tlearn: 0.9041714\ttotal: 13ms\tremaining: 59.4ms\n",
      "18:\tlearn: 0.8985344\ttotal: 13.3ms\tremaining: 56.5ms\n",
      "19:\tlearn: 0.9019166\ttotal: 14ms\tremaining: 55.8ms\n",
      "20:\tlearn: 0.8996618\ttotal: 14.7ms\tremaining: 55.3ms\n",
      "21:\tlearn: 0.9019166\ttotal: 15.4ms\tremaining: 54.7ms\n",
      "22:\tlearn: 0.9064262\ttotal: 16.1ms\tremaining: 54ms\n",
      "23:\tlearn: 0.9109357\ttotal: 16.8ms\tremaining: 53.2ms\n",
      "24:\tlearn: 0.9120631\ttotal: 17.5ms\tremaining: 52.4ms\n",
      "25:\tlearn: 0.9109357\ttotal: 18.2ms\tremaining: 51.8ms\n",
      "26:\tlearn: 0.9075536\ttotal: 18.3ms\tremaining: 49.6ms\n",
      "27:\tlearn: 0.9109357\ttotal: 19ms\tremaining: 49ms\n",
      "28:\tlearn: 0.9109357\ttotal: 19.7ms\tremaining: 48.3ms\n",
      "29:\tlearn: 0.9120631\ttotal: 20.5ms\tremaining: 47.8ms\n",
      "30:\tlearn: 0.9109357\ttotal: 20.8ms\tremaining: 46.3ms\n",
      "31:\tlearn: 0.9098083\ttotal: 21.5ms\tremaining: 45.6ms\n",
      "32:\tlearn: 0.9131905\ttotal: 22.1ms\tremaining: 45ms\n",
      "33:\tlearn: 0.9143179\ttotal: 22.8ms\tremaining: 44.3ms\n",
      "34:\tlearn: 0.9154453\ttotal: 23.5ms\tremaining: 43.7ms\n",
      "35:\tlearn: 0.9154453\ttotal: 24.1ms\tremaining: 42.9ms\n",
      "36:\tlearn: 0.9199549\ttotal: 24.8ms\tremaining: 42.3ms\n",
      "37:\tlearn: 0.9199549\ttotal: 25.4ms\tremaining: 41.5ms\n",
      "38:\tlearn: 0.9233371\ttotal: 26.1ms\tremaining: 40.9ms\n",
      "39:\tlearn: 0.9233371\ttotal: 26.8ms\tremaining: 40.2ms\n",
      "40:\tlearn: 0.9233371\ttotal: 27.5ms\tremaining: 39.6ms\n",
      "41:\tlearn: 0.9244645\ttotal: 28.2ms\tremaining: 38.9ms\n",
      "42:\tlearn: 0.9244645\ttotal: 28.9ms\tremaining: 38.3ms\n",
      "43:\tlearn: 0.9244645\ttotal: 29.6ms\tremaining: 37.6ms\n",
      "44:\tlearn: 0.9255919\ttotal: 30.2ms\tremaining: 36.9ms\n",
      "45:\tlearn: 0.9267193\ttotal: 30.9ms\tremaining: 36.3ms\n",
      "46:\tlearn: 0.9301015\ttotal: 31.6ms\tremaining: 35.6ms\n",
      "47:\tlearn: 0.9289741\ttotal: 32.3ms\tremaining: 35ms\n",
      "48:\tlearn: 0.9289741\ttotal: 32.9ms\tremaining: 34.3ms\n",
      "49:\tlearn: 0.9278467\ttotal: 33.6ms\tremaining: 33.6ms\n",
      "50:\tlearn: 0.9289741\ttotal: 34.3ms\tremaining: 33ms\n",
      "51:\tlearn: 0.9301015\ttotal: 35ms\tremaining: 32.3ms\n",
      "52:\tlearn: 0.9301015\ttotal: 35.7ms\tremaining: 31.6ms\n",
      "53:\tlearn: 0.9334837\ttotal: 36.4ms\tremaining: 31ms\n",
      "54:\tlearn: 0.9334837\ttotal: 37.1ms\tremaining: 30.3ms\n",
      "55:\tlearn: 0.9323563\ttotal: 37.8ms\tremaining: 29.7ms\n",
      "56:\tlearn: 0.9323563\ttotal: 38.4ms\tremaining: 29ms\n",
      "57:\tlearn: 0.9334837\ttotal: 39.1ms\tremaining: 28.3ms\n",
      "58:\tlearn: 0.9334837\ttotal: 39.8ms\tremaining: 27.6ms\n",
      "59:\tlearn: 0.9334837\ttotal: 40.4ms\tremaining: 26.9ms\n",
      "60:\tlearn: 0.9323563\ttotal: 41.1ms\tremaining: 26.3ms\n",
      "61:\tlearn: 0.9323563\ttotal: 41.8ms\tremaining: 25.6ms\n",
      "62:\tlearn: 0.9323563\ttotal: 42.4ms\tremaining: 24.9ms\n",
      "63:\tlearn: 0.9323563\ttotal: 43.1ms\tremaining: 24.2ms\n",
      "64:\tlearn: 0.9334837\ttotal: 43.8ms\tremaining: 23.6ms\n",
      "65:\tlearn: 0.9323563\ttotal: 44.4ms\tremaining: 22.9ms\n",
      "66:\tlearn: 0.9334837\ttotal: 45.1ms\tremaining: 22.2ms\n",
      "67:\tlearn: 0.9334837\ttotal: 46ms\tremaining: 21.7ms\n",
      "68:\tlearn: 0.9334837\ttotal: 46.7ms\tremaining: 21ms\n",
      "69:\tlearn: 0.9323563\ttotal: 47.4ms\tremaining: 20.3ms\n",
      "70:\tlearn: 0.9323563\ttotal: 48.1ms\tremaining: 19.7ms\n",
      "71:\tlearn: 0.9334837\ttotal: 48.8ms\tremaining: 19ms\n",
      "72:\tlearn: 0.9334837\ttotal: 49.5ms\tremaining: 18.3ms\n",
      "73:\tlearn: 0.9334837\ttotal: 50.1ms\tremaining: 17.6ms\n",
      "74:\tlearn: 0.9334837\ttotal: 50.8ms\tremaining: 16.9ms\n",
      "75:\tlearn: 0.9334837\ttotal: 51.5ms\tremaining: 16.3ms\n",
      "76:\tlearn: 0.9334837\ttotal: 52.2ms\tremaining: 15.6ms\n",
      "77:\tlearn: 0.9346110\ttotal: 52.9ms\tremaining: 14.9ms\n",
      "78:\tlearn: 0.9357384\ttotal: 53.6ms\tremaining: 14.2ms\n",
      "79:\tlearn: 0.9357384\ttotal: 54.3ms\tremaining: 13.6ms\n",
      "80:\tlearn: 0.9346110\ttotal: 55ms\tremaining: 12.9ms\n",
      "81:\tlearn: 0.9346110\ttotal: 55.7ms\tremaining: 12.2ms\n",
      "82:\tlearn: 0.9357384\ttotal: 56.4ms\tremaining: 11.6ms\n",
      "83:\tlearn: 0.9357384\ttotal: 57.1ms\tremaining: 10.9ms\n",
      "84:\tlearn: 0.9357384\ttotal: 57.7ms\tremaining: 10.2ms\n",
      "85:\tlearn: 0.9357384\ttotal: 58.4ms\tremaining: 9.5ms\n",
      "86:\tlearn: 0.9346110\ttotal: 59ms\tremaining: 8.82ms\n",
      "87:\tlearn: 0.9346110\ttotal: 59.2ms\tremaining: 8.07ms\n",
      "88:\tlearn: 0.9346110\ttotal: 59.7ms\tremaining: 7.37ms\n",
      "89:\tlearn: 0.9346110\ttotal: 60.3ms\tremaining: 6.7ms\n",
      "90:\tlearn: 0.9346110\ttotal: 60.9ms\tremaining: 6.03ms\n",
      "91:\tlearn: 0.9346110\ttotal: 61.6ms\tremaining: 5.36ms\n",
      "92:\tlearn: 0.9346110\ttotal: 62.4ms\tremaining: 4.69ms\n",
      "93:\tlearn: 0.9357384\ttotal: 63.1ms\tremaining: 4.03ms\n",
      "94:\tlearn: 0.9357384\ttotal: 64ms\tremaining: 3.37ms\n",
      "95:\tlearn: 0.9346110\ttotal: 64.8ms\tremaining: 2.7ms\n",
      "96:\tlearn: 0.9346110\ttotal: 65.5ms\tremaining: 2.03ms\n",
      "97:\tlearn: 0.9346110\ttotal: 66.4ms\tremaining: 1.35ms\n",
      "98:\tlearn: 0.9346110\ttotal: 67.1ms\tremaining: 677us\n",
      "99:\tlearn: 0.9357384\ttotal: 67.8ms\tremaining: 0us\n",
      "Acurácia Média: 88.00%\n"
     ]
    }
   ],
   "source": [
    "# Criando o modelo\n",
    "modelo = CatBoostClassifier(task_type='CPU', iterations=100, learning_rate=0.1, depth = 8, random_state = 5,\n",
    "                              eval_metric=\"Accuracy\")\n",
    "resultado = cross_val_score(modelo, previsores, alvo, cv = kfold)\n",
    "\n",
    "# Usamos a média e o desvio padrão\n",
    "print(\"Acurácia Média: %.2f%%\" % (resultado.mean() * 100.0))"
   ]
  },
  {
   "cell_type": "markdown",
   "metadata": {
    "id": "gco4qH1qUChe"
   },
   "source": [
    "Naive Bayes = 84,78% (treino e teste) - 234 acertos e 85,17% (validação cruzada) : previsores3_esc\n",
    "\n",
    "SVM = 86,23% - 238 acertos e 85,72% (validação cruzada) : previsores3-esc - SVC(kernel='rbf', random_state=1, C = 2)\n",
    "\n",
    "Regressão logística = 86,23% - 238 acertos e 85,83% (validação cruzada) : previsores3_esc - LogisticRegression(random_state=1, max_iter=600, penalty=\"l2\", tol=0.0001, C=1,solver=\"lbfgs\")\n",
    "\n",
    "KNN = 84,06% - 232 acertos e 85,84% (validação cruzada) : previsores3_esc ou previsores_esc - KNeighborsClassifier(n_neighbors=7, metric='minkowski', p = 1)\n",
    "\n",
    "Árvore de decisão = 83,7% (treino e teste) - 231 acertos e 83,32% (validação cruzada): previsores3_esc - DecisionTreeClassifier(criterion='entropy', random_state = 0, max_depth=3)\n",
    "\n",
    "Random Forest = 86,59% - 239 acertos e 85,92% (validação cruzada) : previsores - RandomForestClassifier(n_estimators=150, criterion='entropy', random_state = 0, max_depth=4)\n",
    "\n",
    "**XGboost = 87,68% - 242 acertos e 87,13% (validação cruzada) : previsores - XGBClassifier(max_depth=2, learning_rate=0.05, n_estimators=250, objective='binary:logistic', random_state=3)**\n",
    "\n",
    "LightGBM = 86,23% (treino e teste)- 238 acertos e 85,93% (validação cruzada) : previsores - lgb.LGBMClassifier(num_leaves = 250, objective = 'binary',  max_depth = 2, learning_rate = .05, max_bin =100)\n",
    "\n",
    "CatBoost = 86,96% (treino e teste) previsores4 - 240 acertos e 88% (validação cruzada com previsores) - CatBoostClassifier(task_type='CPU', iterations=100, learning_rate=0.1, depth = 8, random_state = 5, eval_metric=\"Accuracy\")"
   ]
  },
  {
   "cell_type": "markdown",
   "metadata": {
    "id": "-SI78UagmLD7"
   },
   "source": [
    "# **Salvando dados para Deploy**"
   ]
  },
  {
   "cell_type": "code",
   "execution_count": 222,
   "metadata": {
    "colab": {
     "base_uri": "https://localhost:8080/"
    },
    "executionInfo": {
     "elapsed": 216,
     "status": "ok",
     "timestamp": 1665100404870,
     "user": {
      "displayName": "Luciano Galdino",
      "userId": "10237697037323960148"
     },
     "user_tz": 180
    },
    "id": "LNMNKr4TmLD8",
    "outputId": "368c8f12-37c6-4ba4-e997-b3a82799470d"
   },
   "outputs": [
    {
     "data": {
      "text/plain": [
       "array([[40. ,  0. ,  1. , ...,  0. ,  0. ,  0. ],\n",
       "       [49. ,  1. ,  2. , ...,  0. ,  1. ,  1. ],\n",
       "       [37. ,  0. ,  1. , ...,  0. ,  0. ,  0. ],\n",
       "       ...,\n",
       "       [57. ,  0. ,  3. , ...,  1. ,  1.2,  1. ],\n",
       "       [57. ,  1. ,  1. , ...,  0. ,  0. ,  1. ],\n",
       "       [38. ,  0. ,  2. , ...,  0. ,  0. ,  0. ]])"
      ]
     },
     "execution_count": 222,
     "metadata": {},
     "output_type": "execute_result"
    }
   ],
   "source": [
    "previsores"
   ]
  },
  {
   "cell_type": "code",
   "execution_count": 223,
   "metadata": {
    "colab": {
     "base_uri": "https://localhost:8080/"
    },
    "executionInfo": {
     "elapsed": 223,
     "status": "ok",
     "timestamp": 1665100406554,
     "user": {
      "displayName": "Luciano Galdino",
      "userId": "10237697037323960148"
     },
     "user_tz": 180
    },
    "id": "isSCWsMPDdw6",
    "outputId": "b9ac256b-4261-44f0-f745-c1639629c375"
   },
   "outputs": [
    {
     "data": {
      "text/plain": [
       "array([0, 1, 0, 1, 0, 0, 0, 0, 1, 0, 0, 1, 0, 1, 0, 0, 1, 0, 1, 1, 0, 0,\n",
       "       0, 1, 0, 0, 0, 0, 0, 0, 1, 0, 1, 1, 0, 0, 1, 0, 0, 0, 0, 1, 0, 0,\n",
       "       1, 0, 0, 0, 0, 1, 1, 1, 0, 0, 0, 0, 1, 1, 0, 1, 0, 0, 0, 1, 0, 0,\n",
       "       0, 0, 1, 0, 1, 0, 1, 0, 1, 0, 1, 0, 0, 1, 0, 0, 1, 0, 1, 1, 1, 0,\n",
       "       1, 0, 0, 0, 0, 1, 0, 1, 0, 0, 0, 0, 1, 0, 1, 1, 1, 0, 0, 0, 0, 0,\n",
       "       0, 1, 0, 0, 0, 1, 1, 1, 0, 1, 1, 0, 0, 1, 0, 0, 0, 0, 0, 0, 0, 1,\n",
       "       1, 1, 0, 1, 0, 0, 1, 1, 1, 1, 1, 0, 1, 0, 0, 0, 0, 1, 0, 0, 0, 0,\n",
       "       0, 1, 1, 0, 1, 0, 1, 1, 0, 0, 0, 1, 1, 0, 0, 0, 0, 0, 0, 0, 1, 1,\n",
       "       1, 0, 0, 0, 1, 0, 1, 0, 0, 1, 0, 1, 0, 1, 0, 0, 0, 0, 0, 0, 0, 0,\n",
       "       1, 0, 0, 0, 0, 0, 0, 0, 0, 1, 0, 1, 1, 1, 0, 0, 1, 0, 1, 0, 0, 0,\n",
       "       1, 1, 0, 0, 0, 1, 0, 1, 0, 0, 0, 0, 0, 0, 0, 0, 1, 1, 1, 1, 0, 1,\n",
       "       1, 0, 1, 0, 1, 1, 1, 1, 1, 1, 0, 0, 1, 0, 0, 0, 0, 0, 0, 0, 1, 1,\n",
       "       1, 0, 1, 0, 1, 0, 0, 0, 1, 0, 0, 0, 1, 1, 0, 0, 0, 1, 0, 0, 0, 0,\n",
       "       0, 0, 0, 0, 0, 0, 0, 1, 1, 1, 1, 1, 1, 1, 1, 0, 1, 1, 1, 1, 1, 0,\n",
       "       1, 1, 0, 1, 1, 1, 0, 1, 1, 1, 1, 1, 1, 1, 1, 1, 1, 1, 0, 1, 1, 1,\n",
       "       1, 1, 0, 1, 1, 1, 0, 1, 1, 1, 1, 1, 1, 1, 1, 1, 1, 1, 1, 1, 1, 1,\n",
       "       1, 1, 1, 1, 1, 1, 1, 1, 1, 1, 1, 1, 0, 1, 1, 1, 1, 1, 1, 1, 1, 1,\n",
       "       1, 1, 1, 1, 1, 1, 1, 1, 1, 1, 1, 1, 1, 1, 1, 1, 1, 1, 1, 1, 1, 1,\n",
       "       1, 1, 1, 1, 1, 1, 1, 1, 1, 1, 1, 1, 1, 1, 1, 1, 1, 1, 1, 1, 1, 0,\n",
       "       1, 1, 0, 0, 1, 0, 1, 1, 0, 1, 1, 1, 1, 0, 1, 1, 0, 0, 1, 1, 1, 0,\n",
       "       1, 1, 1, 1, 1, 1, 1, 1, 1, 1, 1, 1, 0, 1, 0, 1, 1, 1, 0, 1, 1, 1,\n",
       "       0, 1, 0, 1, 0, 1, 0, 1, 1, 1, 1, 0, 1, 0, 1, 1, 1, 1, 1, 1, 1, 1,\n",
       "       1, 0, 1, 0, 1, 1, 1, 1, 1, 1, 1, 0, 1, 1, 1, 1, 1, 1, 0, 1, 1, 1,\n",
       "       0, 1, 1, 0, 1, 0, 1, 1, 0, 1, 1, 1, 1, 0, 1, 1, 1, 0, 0, 1, 0, 1,\n",
       "       1, 1, 1, 1, 1, 1, 1, 1, 1, 1, 0, 1, 1, 1, 1, 0, 0, 1, 1, 1, 0, 1,\n",
       "       0, 1, 1, 0, 1, 0, 1, 1, 1, 0, 0, 0, 1, 1, 1, 0, 1, 1, 1, 1, 1, 1,\n",
       "       1, 1, 1, 1, 1, 1, 1, 1, 1, 1, 0, 1, 1, 1, 0, 1, 1, 0, 0, 1, 1, 1,\n",
       "       1, 1, 0, 1, 1, 0, 1, 1, 1, 0, 0, 1, 1, 1, 1, 1, 0, 1, 0, 1, 1, 0,\n",
       "       1, 0, 0, 0, 1, 1, 1, 1, 0, 0, 0, 1, 0, 0, 1, 1, 0, 0, 1, 0, 0, 0,\n",
       "       0, 0, 0, 0, 1, 0, 1, 0, 0, 1, 1, 1, 1, 1, 0, 0, 1, 0, 0, 0, 1, 0,\n",
       "       1, 1, 1, 1, 1, 0, 0, 0, 0, 0, 1, 0, 1, 1, 0, 1, 0, 0, 0, 1, 0, 1,\n",
       "       0, 1, 1, 0, 0, 0, 0, 1, 0, 0, 0, 0, 1, 1, 1, 0, 0, 0, 0, 0, 0, 1,\n",
       "       0, 1, 1, 1, 1, 1, 0, 1, 0, 0, 0, 1, 0, 1, 1, 1, 0, 1, 1, 0, 1, 0,\n",
       "       1, 0, 0, 0, 1, 1, 0, 1, 1, 1, 1, 0, 0, 0, 1, 0, 0, 1, 1, 1, 0, 1,\n",
       "       0, 0, 0, 1, 0, 0, 1, 0, 1, 0, 1, 1, 1, 1, 1, 0, 0, 0, 0, 0, 0, 0,\n",
       "       1, 0, 0, 1, 1, 1, 0, 1, 0, 0, 0, 0, 0, 1, 0, 1, 1, 0, 0, 1, 1, 1,\n",
       "       1, 0, 0, 1, 1, 0, 0, 0, 1, 0, 0, 1, 0, 1, 0, 1, 0, 0, 0, 0, 0, 1,\n",
       "       0, 1, 1, 1, 1, 0, 0, 0, 1, 0, 1, 0, 0, 1, 0, 0, 0, 0, 0, 0, 1, 1,\n",
       "       0, 1, 0, 0, 1, 1, 0, 0, 1, 1, 0, 1, 0, 1, 0, 1, 0, 0, 1, 0, 0, 1,\n",
       "       0, 1, 1, 0, 1, 1, 1, 0, 1, 0, 0, 0, 0, 1, 1, 0, 0, 1, 1, 0, 1, 0,\n",
       "       0, 0, 0, 1, 0, 0, 1, 1, 1, 0, 0, 0, 1, 0, 1, 0, 1, 0, 1, 1, 1, 0,\n",
       "       0, 0, 1, 0, 1, 1, 1, 0, 1, 1, 1, 1, 1, 1, 0])"
      ]
     },
     "execution_count": 223,
     "metadata": {},
     "output_type": "execute_result"
    }
   ],
   "source": [
    "alvo"
   ]
  },
  {
   "cell_type": "code",
   "execution_count": 224,
   "metadata": {
    "id": "XUYRtI5VDBXF"
   },
   "outputs": [],
   "source": [
    "np.savetxt('previsores.csv', previsores, delimiter=',')"
   ]
  },
  {
   "cell_type": "code",
   "execution_count": 225,
   "metadata": {
    "id": "dd7lbPU3DQFO"
   },
   "outputs": [],
   "source": [
    "np.savetxt('alvo.csv', alvo, delimiter=',')"
   ]
  },
  {
   "cell_type": "markdown",
   "metadata": {
    "id": "gX89_HefchXj"
   },
   "source": [
    "# **NOÇÕES DE OTIMIZAÇÃO DE HIPERPARÂMETROS**"
   ]
  },
  {
   "cell_type": "markdown",
   "metadata": {
    "id": "omABK560CVdx"
   },
   "source": [
    "## **Grid Search (classificador Gradient Boosting)**"
   ]
  },
  {
   "cell_type": "code",
   "execution_count": 246,
   "metadata": {
    "executionInfo": {
     "elapsed": 427,
     "status": "ok",
     "timestamp": 1689263870988,
     "user": {
      "displayName": "Luciano Galdino",
      "userId": "10237697037323960148"
     },
     "user_tz": 180
    },
    "id": "v5D6FyycAJf6"
   },
   "outputs": [],
   "source": [
    "from sklearn.metrics import roc_auc_score\n",
    "from sklearn.model_selection import GridSearchCV\n",
    "from sklearn.ensemble import GradientBoostingClassifier"
   ]
  },
  {
   "cell_type": "code",
   "execution_count": 247,
   "metadata": {
    "executionInfo": {
     "elapsed": 389,
     "status": "ok",
     "timestamp": 1689263891906,
     "user": {
      "displayName": "Luciano Galdino",
      "userId": "10237697037323960148"
     },
     "user_tz": 180
    },
    "id": "_W-Qrc5AmXUD"
   },
   "outputs": [],
   "source": [
    "# Criando o algoritmo\n",
    "gbm = GradientBoostingClassifier(random_state=0)"
   ]
  },
  {
   "cell_type": "code",
   "execution_count": 248,
   "metadata": {
    "executionInfo": {
     "elapsed": 396,
     "status": "ok",
     "timestamp": 1689264041666,
     "user": {
      "displayName": "Luciano Galdino",
      "userId": "10237697037323960148"
     },
     "user_tz": 180
    },
    "id": "ZLXrw1MlCVdy"
   },
   "outputs": [],
   "source": [
    "# Determinando o espaço do hiperparâmetro\n",
    "param_grid = dict(\n",
    "    n_estimators=[20, 50, 100, 250],\n",
    "    learning_rate=[0.05, 0.1, 0.5],\n",
    "    max_depth=[1,2,3,4,5],\n",
    "    )"
   ]
  },
  {
   "cell_type": "code",
   "execution_count": 249,
   "metadata": {
    "colab": {
     "base_uri": "https://localhost:8080/"
    },
    "executionInfo": {
     "elapsed": 383,
     "status": "ok",
     "timestamp": 1689264082406,
     "user": {
      "displayName": "Luciano Galdino",
      "userId": "10237697037323960148"
     },
     "user_tz": 180
    },
    "id": "n180TbSi637w",
    "outputId": "7705a697-f560-4d4e-8c85-03b224460518"
   },
   "outputs": [
    {
     "name": "stdout",
     "output_type": "stream",
     "text": [
      "Número de combinações de Hiperparâmetros:  60\n"
     ]
    }
   ],
   "source": [
    "print('Número de combinações de Hiperparâmetros: ',\n",
    "      len(param_grid['n_estimators']) * len(param_grid['learning_rate']) * len(param_grid['max_depth']))"
   ]
  },
  {
   "cell_type": "code",
   "execution_count": 251,
   "metadata": {
    "executionInfo": {
     "elapsed": 406,
     "status": "ok",
     "timestamp": 1689264298495,
     "user": {
      "displayName": "Luciano Galdino",
      "userId": "10237697037323960148"
     },
     "user_tz": 180
    },
    "id": "RzWsjsfuCVdz"
   },
   "outputs": [],
   "source": [
    "# Configurando a procura com o Grid search\n",
    "grid_search = GridSearchCV(gbm, param_grid, scoring='roc_auc', cv=4)"
   ]
  },
  {
   "cell_type": "code",
   "execution_count": 252,
   "metadata": {
    "colab": {
     "base_uri": "https://localhost:8080/",
     "height": 117
    },
    "editable": true,
    "executionInfo": {
     "elapsed": 41267,
     "status": "ok",
     "timestamp": 1689264361379,
     "user": {
      "displayName": "Luciano Galdino",
      "userId": "10237697037323960148"
     },
     "user_tz": 180
    },
    "id": "uws9ORGbm5T4",
    "outputId": "3c55b686-d4db-4215-f295-910dd05c5b5c",
    "slideshow": {
     "slide_type": ""
    },
    "tags": []
   },
   "outputs": [
    {
     "data": {
      "text/html": [
       "<style>#sk-container-id-8 {color: black;background-color: white;}#sk-container-id-8 pre{padding: 0;}#sk-container-id-8 div.sk-toggleable {background-color: white;}#sk-container-id-8 label.sk-toggleable__label {cursor: pointer;display: block;width: 100%;margin-bottom: 0;padding: 0.3em;box-sizing: border-box;text-align: center;}#sk-container-id-8 label.sk-toggleable__label-arrow:before {content: \"▸\";float: left;margin-right: 0.25em;color: #696969;}#sk-container-id-8 label.sk-toggleable__label-arrow:hover:before {color: black;}#sk-container-id-8 div.sk-estimator:hover label.sk-toggleable__label-arrow:before {color: black;}#sk-container-id-8 div.sk-toggleable__content {max-height: 0;max-width: 0;overflow: hidden;text-align: left;background-color: #f0f8ff;}#sk-container-id-8 div.sk-toggleable__content pre {margin: 0.2em;color: black;border-radius: 0.25em;background-color: #f0f8ff;}#sk-container-id-8 input.sk-toggleable__control:checked~div.sk-toggleable__content {max-height: 200px;max-width: 100%;overflow: auto;}#sk-container-id-8 input.sk-toggleable__control:checked~label.sk-toggleable__label-arrow:before {content: \"▾\";}#sk-container-id-8 div.sk-estimator input.sk-toggleable__control:checked~label.sk-toggleable__label {background-color: #d4ebff;}#sk-container-id-8 div.sk-label input.sk-toggleable__control:checked~label.sk-toggleable__label {background-color: #d4ebff;}#sk-container-id-8 input.sk-hidden--visually {border: 0;clip: rect(1px 1px 1px 1px);clip: rect(1px, 1px, 1px, 1px);height: 1px;margin: -1px;overflow: hidden;padding: 0;position: absolute;width: 1px;}#sk-container-id-8 div.sk-estimator {font-family: monospace;background-color: #f0f8ff;border: 1px dotted black;border-radius: 0.25em;box-sizing: border-box;margin-bottom: 0.5em;}#sk-container-id-8 div.sk-estimator:hover {background-color: #d4ebff;}#sk-container-id-8 div.sk-parallel-item::after {content: \"\";width: 100%;border-bottom: 1px solid gray;flex-grow: 1;}#sk-container-id-8 div.sk-label:hover label.sk-toggleable__label {background-color: #d4ebff;}#sk-container-id-8 div.sk-serial::before {content: \"\";position: absolute;border-left: 1px solid gray;box-sizing: border-box;top: 0;bottom: 0;left: 50%;z-index: 0;}#sk-container-id-8 div.sk-serial {display: flex;flex-direction: column;align-items: center;background-color: white;padding-right: 0.2em;padding-left: 0.2em;position: relative;}#sk-container-id-8 div.sk-item {position: relative;z-index: 1;}#sk-container-id-8 div.sk-parallel {display: flex;align-items: stretch;justify-content: center;background-color: white;position: relative;}#sk-container-id-8 div.sk-item::before, #sk-container-id-8 div.sk-parallel-item::before {content: \"\";position: absolute;border-left: 1px solid gray;box-sizing: border-box;top: 0;bottom: 0;left: 50%;z-index: -1;}#sk-container-id-8 div.sk-parallel-item {display: flex;flex-direction: column;z-index: 1;position: relative;background-color: white;}#sk-container-id-8 div.sk-parallel-item:first-child::after {align-self: flex-end;width: 50%;}#sk-container-id-8 div.sk-parallel-item:last-child::after {align-self: flex-start;width: 50%;}#sk-container-id-8 div.sk-parallel-item:only-child::after {width: 0;}#sk-container-id-8 div.sk-dashed-wrapped {border: 1px dashed gray;margin: 0 0.4em 0.5em 0.4em;box-sizing: border-box;padding-bottom: 0.4em;background-color: white;}#sk-container-id-8 div.sk-label label {font-family: monospace;font-weight: bold;display: inline-block;line-height: 1.2em;}#sk-container-id-8 div.sk-label-container {text-align: center;}#sk-container-id-8 div.sk-container {/* jupyter's `normalize.less` sets `[hidden] { display: none; }` but bootstrap.min.css set `[hidden] { display: none !important; }` so we also need the `!important` here to be able to override the default hidden behavior on the sphinx rendered scikit-learn.org. See: https://github.com/scikit-learn/scikit-learn/issues/21755 */display: inline-block !important;position: relative;}#sk-container-id-8 div.sk-text-repr-fallback {display: none;}</style><div id=\"sk-container-id-8\" class=\"sk-top-container\"><div class=\"sk-text-repr-fallback\"><pre>GridSearchCV(cv=4, estimator=GradientBoostingClassifier(random_state=0),\n",
       "             param_grid={&#x27;learning_rate&#x27;: [0.05, 0.1, 0.5],\n",
       "                         &#x27;max_depth&#x27;: [1, 2, 3, 4, 5],\n",
       "                         &#x27;n_estimators&#x27;: [20, 50, 100, 250]},\n",
       "             scoring=&#x27;roc_auc&#x27;)</pre><b>In a Jupyter environment, please rerun this cell to show the HTML representation or trust the notebook. <br />On GitHub, the HTML representation is unable to render, please try loading this page with nbviewer.org.</b></div><div class=\"sk-container\" hidden><div class=\"sk-item sk-dashed-wrapped\"><div class=\"sk-label-container\"><div class=\"sk-label sk-toggleable\"><input class=\"sk-toggleable__control sk-hidden--visually\" id=\"sk-estimator-id-8\" type=\"checkbox\" ><label for=\"sk-estimator-id-8\" class=\"sk-toggleable__label sk-toggleable__label-arrow\">GridSearchCV</label><div class=\"sk-toggleable__content\"><pre>GridSearchCV(cv=4, estimator=GradientBoostingClassifier(random_state=0),\n",
       "             param_grid={&#x27;learning_rate&#x27;: [0.05, 0.1, 0.5],\n",
       "                         &#x27;max_depth&#x27;: [1, 2, 3, 4, 5],\n",
       "                         &#x27;n_estimators&#x27;: [20, 50, 100, 250]},\n",
       "             scoring=&#x27;roc_auc&#x27;)</pre></div></div></div><div class=\"sk-parallel\"><div class=\"sk-parallel-item\"><div class=\"sk-item\"><div class=\"sk-label-container\"><div class=\"sk-label sk-toggleable\"><input class=\"sk-toggleable__control sk-hidden--visually\" id=\"sk-estimator-id-9\" type=\"checkbox\" ><label for=\"sk-estimator-id-9\" class=\"sk-toggleable__label sk-toggleable__label-arrow\">estimator: GradientBoostingClassifier</label><div class=\"sk-toggleable__content\"><pre>GradientBoostingClassifier(random_state=0)</pre></div></div></div><div class=\"sk-serial\"><div class=\"sk-item\"><div class=\"sk-estimator sk-toggleable\"><input class=\"sk-toggleable__control sk-hidden--visually\" id=\"sk-estimator-id-10\" type=\"checkbox\" ><label for=\"sk-estimator-id-10\" class=\"sk-toggleable__label sk-toggleable__label-arrow\">GradientBoostingClassifier</label><div class=\"sk-toggleable__content\"><pre>GradientBoostingClassifier(random_state=0)</pre></div></div></div></div></div></div></div></div></div></div>"
      ],
      "text/plain": [
       "GridSearchCV(cv=4, estimator=GradientBoostingClassifier(random_state=0),\n",
       "             param_grid={'learning_rate': [0.05, 0.1, 0.5],\n",
       "                         'max_depth': [1, 2, 3, 4, 5],\n",
       "                         'n_estimators': [20, 50, 100, 250]},\n",
       "             scoring='roc_auc')"
      ]
     },
     "execution_count": 252,
     "metadata": {},
     "output_type": "execute_result"
    }
   ],
   "source": [
    "# Configurando os melhores hiperparâmetros\n",
    "grid_search.fit(x_treino, y_treino)"
   ]
  },
  {
   "cell_type": "code",
   "execution_count": 253,
   "metadata": {
    "colab": {
     "base_uri": "https://localhost:8080/"
    },
    "executionInfo": {
     "elapsed": 380,
     "status": "ok",
     "timestamp": 1689264397879,
     "user": {
      "displayName": "Luciano Galdino",
      "userId": "10237697037323960148"
     },
     "user_tz": 180
    },
    "id": "hHTFIt2ZCVd0",
    "outputId": "b6e7106a-13b0-47c9-838d-cd4f70178153"
   },
   "outputs": [
    {
     "data": {
      "text/plain": [
       "{'learning_rate': 0.05, 'max_depth': 2, 'n_estimators': 50}"
      ]
     },
     "execution_count": 253,
     "metadata": {},
     "output_type": "execute_result"
    }
   ],
   "source": [
    "# Melhores Hiperparâmetros\n",
    "grid_search.best_params_"
   ]
  },
  {
   "cell_type": "code",
   "execution_count": 254,
   "metadata": {
    "colab": {
     "base_uri": "https://localhost:8080/",
     "height": 381
    },
    "executionInfo": {
     "elapsed": 639,
     "status": "ok",
     "timestamp": 1689264496466,
     "user": {
      "displayName": "Luciano Galdino",
      "userId": "10237697037323960148"
     },
     "user_tz": 180
    },
    "id": "jVVWHEkYCVd1",
    "outputId": "101fb4a4-ae8d-4fce-efb0-e7a4d66d1208"
   },
   "outputs": [
    {
     "name": "stdout",
     "output_type": "stream",
     "text": [
      "(60, 15)\n"
     ]
    },
    {
     "data": {
      "text/html": [
       "<div>\n",
       "<style scoped>\n",
       "    .dataframe tbody tr th:only-of-type {\n",
       "        vertical-align: middle;\n",
       "    }\n",
       "\n",
       "    .dataframe tbody tr th {\n",
       "        vertical-align: top;\n",
       "    }\n",
       "\n",
       "    .dataframe thead th {\n",
       "        text-align: right;\n",
       "    }\n",
       "</style>\n",
       "<table border=\"1\" class=\"dataframe\">\n",
       "  <thead>\n",
       "    <tr style=\"text-align: right;\">\n",
       "      <th></th>\n",
       "      <th>mean_fit_time</th>\n",
       "      <th>std_fit_time</th>\n",
       "      <th>mean_score_time</th>\n",
       "      <th>std_score_time</th>\n",
       "      <th>param_learning_rate</th>\n",
       "      <th>param_max_depth</th>\n",
       "      <th>param_n_estimators</th>\n",
       "      <th>params</th>\n",
       "      <th>split0_test_score</th>\n",
       "      <th>split1_test_score</th>\n",
       "      <th>split2_test_score</th>\n",
       "      <th>split3_test_score</th>\n",
       "      <th>mean_test_score</th>\n",
       "      <th>std_test_score</th>\n",
       "      <th>rank_test_score</th>\n",
       "    </tr>\n",
       "  </thead>\n",
       "  <tbody>\n",
       "    <tr>\n",
       "      <th>0</th>\n",
       "      <td>0.015243</td>\n",
       "      <td>0.006149</td>\n",
       "      <td>0.001755</td>\n",
       "      <td>0.000817</td>\n",
       "      <td>0.05</td>\n",
       "      <td>1</td>\n",
       "      <td>20</td>\n",
       "      <td>{'learning_rate': 0.05, 'max_depth': 1, 'n_est...</td>\n",
       "      <td>0.902553</td>\n",
       "      <td>0.868608</td>\n",
       "      <td>0.948548</td>\n",
       "      <td>0.878472</td>\n",
       "      <td>0.899545</td>\n",
       "      <td>0.030869</td>\n",
       "      <td>49</td>\n",
       "    </tr>\n",
       "    <tr>\n",
       "      <th>1</th>\n",
       "      <td>0.026201</td>\n",
       "      <td>0.000582</td>\n",
       "      <td>0.001170</td>\n",
       "      <td>0.000055</td>\n",
       "      <td>0.05</td>\n",
       "      <td>1</td>\n",
       "      <td>50</td>\n",
       "      <td>{'learning_rate': 0.05, 'max_depth': 1, 'n_est...</td>\n",
       "      <td>0.909869</td>\n",
       "      <td>0.878709</td>\n",
       "      <td>0.956203</td>\n",
       "      <td>0.890309</td>\n",
       "      <td>0.908773</td>\n",
       "      <td>0.029561</td>\n",
       "      <td>28</td>\n",
       "    </tr>\n",
       "    <tr>\n",
       "      <th>2</th>\n",
       "      <td>0.043944</td>\n",
       "      <td>0.010729</td>\n",
       "      <td>0.000921</td>\n",
       "      <td>0.000185</td>\n",
       "      <td>0.05</td>\n",
       "      <td>1</td>\n",
       "      <td>100</td>\n",
       "      <td>{'learning_rate': 0.05, 'max_depth': 1, 'n_est...</td>\n",
       "      <td>0.921700</td>\n",
       "      <td>0.891888</td>\n",
       "      <td>0.963936</td>\n",
       "      <td>0.894807</td>\n",
       "      <td>0.918083</td>\n",
       "      <td>0.028912</td>\n",
       "      <td>6</td>\n",
       "    </tr>\n",
       "  </tbody>\n",
       "</table>\n",
       "</div>"
      ],
      "text/plain": [
       "   mean_fit_time  std_fit_time  mean_score_time  std_score_time  \\\n",
       "0       0.015243      0.006149         0.001755        0.000817   \n",
       "1       0.026201      0.000582         0.001170        0.000055   \n",
       "2       0.043944      0.010729         0.000921        0.000185   \n",
       "\n",
       "  param_learning_rate param_max_depth param_n_estimators  \\\n",
       "0                0.05               1                 20   \n",
       "1                0.05               1                 50   \n",
       "2                0.05               1                100   \n",
       "\n",
       "                                              params  split0_test_score  \\\n",
       "0  {'learning_rate': 0.05, 'max_depth': 1, 'n_est...           0.902553   \n",
       "1  {'learning_rate': 0.05, 'max_depth': 1, 'n_est...           0.909869   \n",
       "2  {'learning_rate': 0.05, 'max_depth': 1, 'n_est...           0.921700   \n",
       "\n",
       "   split1_test_score  split2_test_score  split3_test_score  mean_test_score  \\\n",
       "0           0.868608           0.948548           0.878472         0.899545   \n",
       "1           0.878709           0.956203           0.890309         0.908773   \n",
       "2           0.891888           0.963936           0.894807         0.918083   \n",
       "\n",
       "   std_test_score  rank_test_score  \n",
       "0        0.030869               49  \n",
       "1        0.029561               28  \n",
       "2        0.028912                6  "
      ]
     },
     "execution_count": 254,
     "metadata": {},
     "output_type": "execute_result"
    }
   ],
   "source": [
    "# Relação dos dados para todos os modelos\n",
    "\n",
    "resultado = pd.DataFrame(grid_search.cv_results_)\n",
    "print(resultado.shape)\n",
    "resultado.head(3)"
   ]
  },
  {
   "cell_type": "code",
   "execution_count": 255,
   "metadata": {
    "colab": {
     "base_uri": "https://localhost:8080/",
     "height": 206
    },
    "executionInfo": {
     "elapsed": 399,
     "status": "ok",
     "timestamp": 1689264800823,
     "user": {
      "displayName": "Luciano Galdino",
      "userId": "10237697037323960148"
     },
     "user_tz": 180
    },
    "id": "KM2wq4wOCVd2",
    "outputId": "eb3f014d-2eaa-4854-bb93-a94fff578692"
   },
   "outputs": [
    {
     "data": {
      "text/html": [
       "<div>\n",
       "<style scoped>\n",
       "    .dataframe tbody tr th:only-of-type {\n",
       "        vertical-align: middle;\n",
       "    }\n",
       "\n",
       "    .dataframe tbody tr th {\n",
       "        vertical-align: top;\n",
       "    }\n",
       "\n",
       "    .dataframe thead th {\n",
       "        text-align: right;\n",
       "    }\n",
       "</style>\n",
       "<table border=\"1\" class=\"dataframe\">\n",
       "  <thead>\n",
       "    <tr style=\"text-align: right;\">\n",
       "      <th></th>\n",
       "      <th>param_max_depth</th>\n",
       "      <th>param_learning_rate</th>\n",
       "      <th>param_n_estimators</th>\n",
       "      <th>mean_test_score</th>\n",
       "      <th>std_test_score</th>\n",
       "    </tr>\n",
       "  </thead>\n",
       "  <tbody>\n",
       "    <tr>\n",
       "      <th>0</th>\n",
       "      <td>2</td>\n",
       "      <td>0.05</td>\n",
       "      <td>50</td>\n",
       "      <td>0.922904</td>\n",
       "      <td>0.026048</td>\n",
       "    </tr>\n",
       "    <tr>\n",
       "      <th>1</th>\n",
       "      <td>1</td>\n",
       "      <td>0.1</td>\n",
       "      <td>100</td>\n",
       "      <td>0.920324</td>\n",
       "      <td>0.024803</td>\n",
       "    </tr>\n",
       "    <tr>\n",
       "      <th>2</th>\n",
       "      <td>1</td>\n",
       "      <td>0.05</td>\n",
       "      <td>250</td>\n",
       "      <td>0.919690</td>\n",
       "      <td>0.024512</td>\n",
       "    </tr>\n",
       "    <tr>\n",
       "      <th>3</th>\n",
       "      <td>2</td>\n",
       "      <td>0.05</td>\n",
       "      <td>100</td>\n",
       "      <td>0.919342</td>\n",
       "      <td>0.023415</td>\n",
       "    </tr>\n",
       "    <tr>\n",
       "      <th>4</th>\n",
       "      <td>1</td>\n",
       "      <td>0.1</td>\n",
       "      <td>250</td>\n",
       "      <td>0.918186</td>\n",
       "      <td>0.022469</td>\n",
       "    </tr>\n",
       "  </tbody>\n",
       "</table>\n",
       "</div>"
      ],
      "text/plain": [
       "  param_max_depth param_learning_rate param_n_estimators  mean_test_score  \\\n",
       "0               2                0.05                 50         0.922904   \n",
       "1               1                 0.1                100         0.920324   \n",
       "2               1                0.05                250         0.919690   \n",
       "3               2                0.05                100         0.919342   \n",
       "4               1                 0.1                250         0.918186   \n",
       "\n",
       "   std_test_score  \n",
       "0        0.026048  \n",
       "1        0.024803  \n",
       "2        0.024512  \n",
       "3        0.023415  \n",
       "4        0.022469  "
      ]
     },
     "execution_count": 255,
     "metadata": {},
     "output_type": "execute_result"
    }
   ],
   "source": [
    "# Ordenando os melhores resultados\n",
    "resultado.sort_values(by='mean_test_score', ascending=False, inplace=True)\n",
    "\n",
    "resultado.reset_index(drop=True, inplace=True)\n",
    "\n",
    "resultado[['param_max_depth', 'param_learning_rate', 'param_n_estimators',\n",
    "    'mean_test_score', 'std_test_score']].head()"
   ]
  },
  {
   "cell_type": "markdown",
   "metadata": {
    "id": "Q6LoOxMow4Ci"
   },
   "source": [
    "# **DESAFIO 1**"
   ]
  },
  {
   "cell_type": "markdown",
   "metadata": {
    "id": "bjLFumRQxayX"
   },
   "source": [
    "DESENVOLVER E SELECIONAR O MELHOR ALGORITMO DE MACHINE LEARNING DE CLASSIFICAÇÃO PARA O DATASET DO LINK A SEGUIR:"
   ]
  },
  {
   "cell_type": "markdown",
   "metadata": {
    "id": "VG8xV9wYxKk2"
   },
   "source": [
    "https://www.kaggle.com/uciml/breast-cancer-wisconsin-data"
   ]
  }
 ],
 "metadata": {
  "colab": {
   "authorship_tag": "ABX9TyMe0YJwv9m9c/gj/ziSMDB1",
   "mount_file_id": "1r7SQZXDD61Fh4sxth3Z6C6Ny3LgNte-i",
   "provenance": []
  },
  "kernelspec": {
   "display_name": "Python 3 (ipykernel)",
   "language": "python",
   "name": "python3"
  },
  "language_info": {
   "codemirror_mode": {
    "name": "ipython",
    "version": 3
   },
   "file_extension": ".py",
   "mimetype": "text/x-python",
   "name": "python",
   "nbconvert_exporter": "python",
   "pygments_lexer": "ipython3",
   "version": "3.11.7"
  }
 },
 "nbformat": 4,
 "nbformat_minor": 4
}
